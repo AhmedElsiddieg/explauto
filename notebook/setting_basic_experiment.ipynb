{
 "metadata": {
  "name": "",
  "signature": "sha256:a1c6bdb67168e97afefdac6b683d4bb391502eec97ef56a2678d64d1afb2b4c1"
 },
 "nbformat": 3,
 "nbformat_minor": 0,
 "worksheets": [
  {
   "cells": [
    {
     "cell_type": "heading",
     "level": 1,
     "metadata": {},
     "source": [
      "Running basic experiments"
     ]
    },
    {
     "cell_type": "markdown",
     "metadata": {},
     "source": [
      "In this notebook, we will show you how to setup an experiment using a predifined simultated arm environment and use its default configuration. We will then run it and see how to plot the results. \n",
      "We assume that you have already installed explauto on your computer (see the [installation section](http://flowersteam.github.io/explauto/installation.html)) and that everything works as expected. We also assume that you are familiar with the scientific grounding behind the library (see our [short introduction](http://flowersteam.github.io/explauto/about.html))."
     ]
    },
    {
     "cell_type": "heading",
     "level": 2,
     "metadata": {},
     "source": [
      "Setup an experiment"
     ]
    },
    {
     "cell_type": "markdown",
     "metadata": {},
     "source": [
      "Thanks to explauto, setting up an experiment is really simple. You only have to instantiate the [Experiment](http://flowersteam.github.io/explauto/explauto.experiment.html) class.\n",
      "The easiest way to do that is use the from_settings factory. This method automatically creates and setups an experiment using the default settings. You only have to choose:\n",
      "* the experimental [Environment](http://flowersteam.github.io/explauto/explauto.environment.html),\n",
      "* the type of babbling (motor vs goal),\n",
      "* the [InterestModel](http://flowersteam.github.io/explauto/explauto.interestmodel.html),\n",
      "* and the [SensorimotorModel](http://flowersteam.github.io/explauto/explauto.sensorimotormodel.html)."
     ]
    },
    {
     "cell_type": "code",
     "collapsed": false,
     "input": [
      "from explauto.experiment import Experiment\n",
      "\n",
      "Experiment.from_settings"
     ],
     "language": "python",
     "metadata": {},
     "outputs": [
      {
       "metadata": {},
       "output_type": "pyout",
       "prompt_number": 1,
       "text": [
        "<bound method type.from_settings of <class 'explauto.experiment.experiment.Experiment'>>"
       ]
      }
     ],
     "prompt_number": 1
    },
    {
     "cell_type": "markdown",
     "metadata": {},
     "source": [
      "You can check the documentation of the [from_settings()](http://flowersteam.github.io/explauto/explauto.experiment.html#explauto.experiment.experiment.Experiment.from_settings) class method for details."
     ]
    },
    {
     "cell_type": "heading",
     "level": 3,
     "metadata": {},
     "source": [
      "Finding the available environments"
     ]
    },
    {
     "cell_type": "markdown",
     "metadata": {},
     "source": [
      "As shown on the documentation, you must specify the environment and models using their name. This API has been chosen so you can have really compact code and can easily switch from one environment (or model) to another.\n",
      "\n",
      "Yet, you need to know which environments are available (this may depend on your installation of explauto, see [here](http://nbviewer.ipython.org/github/flowersteam/explauto/blob/master/notebook/05%20Customising%20configurations%2C%20environments%20and%20agents.ipynb?create=1) for details). To do that, you can directly acess the available environments dictionary from the environment package. It is constructed as follows:\n",
      "```python\n",
      "{env_name: env_config}\n",
      "```"
     ]
    },
    {
     "cell_type": "code",
     "collapsed": false,
     "input": [
      "from explauto.environment import environments\n",
      "\n",
      "print 'Available environments: {}'.format(environments.keys())"
     ],
     "language": "python",
     "metadata": {},
     "outputs": [
      {
       "output_type": "stream",
       "stream": "stdout",
       "text": [
        "Available environments: ['pendulum', 'simple_arm']\n"
       ]
      }
     ],
     "prompt_number": 2
    },
    {
     "cell_type": "markdown",
     "metadata": {},
     "source": [
      "\n",
      "You can see here, that on this installation of explauto two environments are available:\n",
      "* the pendulum\n",
      "* and the simple arm\n",
      "\n",
      "We will use the simple arm for this tutorial. It consists in the simulation of a $n$ degrees-of-freedom (DoF) arm with movements limited to a 2D plan.\n",
      "\n",
      "Each available environment comes with a set of predefined configurations. A default configuration will always be defined."
     ]
    },
    {
     "cell_type": "code",
     "collapsed": false,
     "input": [
      "env_cls, env_configs, testcases_generator = environments['simple_arm']\n",
      "print 'Available configurations for the simple arm environment: {}'.format(env_configs.keys())"
     ],
     "language": "python",
     "metadata": {},
     "outputs": [
      {
       "output_type": "stream",
       "stream": "stdout",
       "text": [
        "Available configurations for the simple arm environment: ['mid_dimensional', 'default', 'high_dim_high_s_range', 'low_dimensional', 'high_dimensional']\n"
       ]
      }
     ],
     "prompt_number": 3
    },
    {
     "cell_type": "markdown",
     "metadata": {},
     "source": [
      "In the case of the simple_arm environment, a configuration must defines the following values:\n",
      "* m_mins and m_maxs (bounds of the motor space)\n",
      "* s_mins ans s_maxs (bounds of the sensory space)\n",
      "* length_ratio (length ratio from one segment to the following one)\n",
      "* noise (noise added in the sensor space)\n",
      "\n",
      "The motor space corresponds to the angular position of each joint (hence $n$-dimensional, $n$ being the number of DoF), and the sensory space corresponds to the position of the end-effector on the plan ($x,y$: hence 2-dimensional).\n",
      "\n",
      "For instance, the default configuration defines a $n=3$ DoF arm where each segment is three time smaller than the previous one (from the \"shoulder\" to the end-effector). Each joint can move between $-\\pi/3$ and $\\pi/3$."
     ]
    },
    {
     "cell_type": "code",
     "collapsed": false,
     "input": [
      "default_config = env_configs['default']\n",
      "\n",
      "print 'Default configuration for the simple arm:'\n",
      "for config_key, value in default_config.items():\n",
      "    print '\\t{}: {}'.format(config_key, value)"
     ],
     "language": "python",
     "metadata": {},
     "outputs": [
      {
       "output_type": "stream",
       "stream": "stdout",
       "text": [
        "Default configuration for the simple arm:\n",
        "\ts_mins: [-0.5 -1. ]\n",
        "\tm_mins: [-1.04719755 -1.04719755 -1.04719755]\n",
        "\tnoise: 0.02\n",
        "\tm_maxs: [ 1.04719755  1.04719755  1.04719755]\n",
        "\ts_maxs: [ 1.  1.]\n",
        "\tlength_ratio: 3.0\n"
       ]
      }
     ],
     "prompt_number": 4
    },
    {
     "cell_type": "heading",
     "level": 3,
     "metadata": {},
     "source": [
      "Finding the available models"
     ]
    },
    {
     "cell_type": "markdown",
     "metadata": {},
     "source": [
      "You can use the same trick for the interest and sensorimotor models."
     ]
    },
    {
     "cell_type": "code",
     "collapsed": false,
     "input": [
      "from explauto.interest_model import interest_models\n",
      "from explauto.sensorimotor_model import sensorimotor_models\n",
      "\n",
      "print 'Available interest models: {}'.format(interest_models.keys())\n",
      "print 'Available sensorimotor models: {}'.format(sensorimotor_models.keys())"
     ],
     "language": "python",
     "metadata": {},
     "outputs": [
      {
       "output_type": "stream",
       "stream": "stdout",
       "text": [
        "Available interest models: ['discretized_progress', 'random', 'gmm_progress']\n",
        "Available sensorimotor models: ['knn', 'ilo_gmm', 'nearest_neighbor', 'non_parametric']\n"
       ]
      }
     ],
     "prompt_number": 5
    },
    {
     "cell_type": "heading",
     "level": 3,
     "metadata": {},
     "source": [
      "Instantiating the experiment"
     ]
    },
    {
     "cell_type": "markdown",
     "metadata": {},
     "source": [
      "Once you chose your environments and models you can directly instantiate the [Experiment](http://flowersteam.github.io/explauto/explauto.experiment.html#explauto.experiment.experiment.Experiment) class using the convenience method [from_settings](http://flowersteam.github.io/explauto/explauto.experiment.html#explauto.experiment.experiment.Experiment.from_settings). In this example, we chose to do motor babbling."
     ]
    },
    {
     "cell_type": "code",
     "collapsed": false,
     "input": [
      "from explauto.experiment import Experiment, make_settings\n",
      "\n",
      "s = make_settings(environment='simple_arm',\n",
      "                  babbling_mode='motor', \n",
      "                  interest_model='random',\n",
      "                  sensorimotor_model='nearest_neighbor')\n",
      "\n",
      "expe = Experiment.from_settings(s)"
     ],
     "language": "python",
     "metadata": {},
     "outputs": [],
     "prompt_number": 6
    },
    {
     "cell_type": "markdown",
     "metadata": {},
     "source": [
      "The next step is to define at which iteration the learning should be evaluated. Note that by default your experiment will run until reaching the last evaluation.\n",
      "Let's say we will evaluate at iteration steps: 1, 10, 20, 30, 100, and 200."
     ]
    },
    {
     "cell_type": "code",
     "collapsed": false,
     "input": [
      "expe.evaluate_at([1, 10, 20, 30, 100, 200, 300, 400], s.default_testcases)"
     ],
     "language": "python",
     "metadata": {},
     "outputs": [],
     "prompt_number": 7
    },
    {
     "cell_type": "heading",
     "level": 2,
     "metadata": {},
     "source": [
      "Running the experiment"
     ]
    },
    {
     "cell_type": "markdown",
     "metadata": {},
     "source": [
      "And now that the experiment is set up, you can run it! As we have defined evaluation steps, the experiment will run for 200 iterations (the last evaluation step).\n",
      "\n",
      "Be aware that this step may actually run for a while."
     ]
    },
    {
     "cell_type": "code",
     "collapsed": false,
     "input": [
      "expe.run()"
     ],
     "language": "python",
     "metadata": {},
     "outputs": [
      {
       "output_type": "stream",
       "stream": "stderr",
       "text": [
        "WARNING:explauto.agent.agent:Sensorimotor model not bootstrapped yet, or Agent still in bootstraping phase\n"
       ]
      }
     ],
     "prompt_number": 8
    },
    {
     "cell_type": "heading",
     "level": 2,
     "metadata": {},
     "source": [
      "Plotting results"
     ]
    },
    {
     "cell_type": "markdown",
     "metadata": {},
     "source": [
      "Now that your experiment is done, you want to plot the results.\n",
      "\n",
      "For instance, you can plot the learning curve thanks to:"
     ]
    },
    {
     "cell_type": "code",
     "collapsed": false,
     "input": [
      "%pylab inline\n",
      "\n",
      "ax = axes()\n",
      "expe.log.plot_learning_curve(ax)"
     ],
     "language": "python",
     "metadata": {},
     "outputs": [
      {
       "output_type": "stream",
       "stream": "stdout",
       "text": [
        "Populating the interactive namespace from numpy and matplotlib\n"
       ]
      },
      {
       "metadata": {},
       "output_type": "display_data",
       "png": "[encoded data removed]",
       "text": [
        "<matplotlib.figure.Figure at 0x1110d8790>"
       ]
      }
     ],
     "prompt_number": 9
    },
    {
     "cell_type": "markdown",
     "metadata": {},
     "source": [
      "You can also plot projection of the reached points of the sensorimotor space thanks to:"
     ]
    },
    {
     "cell_type": "code",
     "collapsed": false,
     "input": [
      "ax = axes()\n",
      "expe.log.scatter_plot(ax, [('sensori', [0, 1]), ], color='green')"
     ],
     "language": "python",
     "metadata": {},
     "outputs": [
      {
       "metadata": {},
       "output_type": "display_data",
       "png": "[encoded data removed]",
       "text": [
        "<matplotlib.figure.Figure at 0x11123c050>"
       ]
      }
     ],
     "prompt_number": 10
    },
    {
     "cell_type": "heading",
     "level": 1,
     "metadata": {},
     "source": [
      "Exercise"
     ]
    },
    {
     "cell_type": "markdown",
     "metadata": {},
     "source": [
      "Run the same experiment using goal babbling instead for motor babbling."
     ]
    },
    {
     "cell_type": "code",
     "collapsed": false,
     "input": [],
     "language": "python",
     "metadata": {},
     "outputs": [],
     "prompt_number": 10
    },
    {
     "cell_type": "code",
     "collapsed": false,
     "input": [
      "# Solution\n",
      "%load exercise_solutions/n01-goal-babbling.py"
     ],
     "language": "python",
     "metadata": {},
     "outputs": [],
     "prompt_number": 11
    },
    {
     "cell_type": "code",
     "collapsed": false,
     "input": [],
     "language": "python",
     "metadata": {},
     "outputs": []
    },
    {
     "cell_type": "markdown",
     "metadata": {},
     "source": [
      "Compare the results and try to understand why you can not really see any difference between motor and goal babbling in this case. This will be discussed in the next tutorial."
     ]
    },
    {
     "cell_type": "code",
     "collapsed": false,
     "input": [],
     "language": "python",
     "metadata": {},
     "outputs": []
    }
   ],
   "metadata": {}
  }
 ]
}