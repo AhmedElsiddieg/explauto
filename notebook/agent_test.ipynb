{
 "metadata": {
  "name": "agent_test"
 },
 "nbformat": 3,
 "nbformat_minor": 0,
 "worksheets": [
  {
   "cells": [
    {
     "cell_type": "code",
     "collapsed": false,
     "input": [
      "m_dims = range(7)\n",
      "s_dims = range(7, 9)\n",
      "i_dims = s_dims\n",
      "inf_dims = m_dims\n",
      "\n",
      "m_ndims = len(m_dims)\n",
      "s_ndims = len(s_dims)\n",
      "ms_bounds=np.array([[-1], [1]]).dot(np.array([np.pi / 3] * m_ndims + [1.] * s_ndims).reshape(1, m_ndims + s_ndims))\n",
      "ms_bounds[0, -2] = -0.5\n",
      "noise_env = 0.05\n",
      "sigma0_sm = (np.pi / 24) ** 2\n",
      "psi0_sm = [noise_env ** 2] * s_ndims\n",
      "\n",
      "sigma0_i = 100.\n",
      "psi0_i = [0.3]\n",
      "\n",
      "l=ones(7)\n",
      "for i in range(1,6):\n",
      "    l[i]=l[i-1]/3\n",
      "l=l/sum(l)\n",
      "class Env:\n",
      "    def execute(self,m):\n",
      "        m = maximum(m.flatten(), ms_bounds[0:1,m_dims])\n",
      "        m = minimum(m.flatten(), ms_bounds[1:2,m_dims])\n",
      "        s = simple_arm.forward(m,l)\n",
      "        s=array(s).reshape(-1,1)\n",
      "        s += noise_env*randn(len(s_dims),1)\n",
      "        return m.reshape(-1,1),s\n",
      "env=Env()"
     ],
     "language": "python",
     "metadata": {},
     "outputs": [],
     "prompt_number": 1
    },
    {
     "cell_type": "code",
     "collapsed": false,
     "input": [
      "sys.path.append('../imleSource/python/')\n",
      "sys.path.append('../')\n",
      "sys.path.append('../model/')\n",
      "sys.path.append('../environment/')\n",
      "import simple_arm\n",
      "import exploration\n",
      "from competence import competence_1 as competence\n",
      "import sm_model as smm\n",
      "import i_model as im\n",
      "\n",
      "sm_model = smm.ImleModel(m_dims, s_dims, sigma0_sm, psi0_sm)\n",
      "i_model = im.RandomInterest(ms_bounds[:,i_dims])\n",
      "i_model = im.ProgressInterest(ms_bounds[:,i_dims], sigma0_i, psi0_i)\n",
      "\n",
      "ag=exploration.Agent(m_dims=m_dims, s_dims=s_dims, env=env, sm_model=sm_model, i_model=i_model, competence=competence)"
     ],
     "language": "python",
     "metadata": {},
     "outputs": [
      {
       "output_type": "stream",
       "stream": "stderr",
       "text": [
        "/usr/lib/python2.7/importlib/__init__.py:37: RuntimeWarning: to-Python converter for ImleParam already registered; second conversion method ignored.\n",
        "  __import__(name)\n",
        "/usr/lib/python2.7/importlib/__init__.py:37: RuntimeWarning: to-Python converter for MyImle already registered; second conversion method ignored.\n",
        "  __import__(name)\n"
       ]
      }
     ],
     "prompt_number": 2
    },
    {
     "cell_type": "code",
     "collapsed": false,
     "input": [
      "import models"
     ],
     "language": "python",
     "metadata": {},
     "outputs": [],
     "prompt_number": 3
    },
    {
     "cell_type": "code",
     "collapsed": false,
     "input": [
      "class Robot(object):\n",
      "    def __init__(self):\n",
      "        self.s_feats = (0,1)\n",
      "        self.m_feats = tuple(range(-7, 0))\n",
      "        self.m_bounds = 7 * ((-pi / 3, pi / 3),)\n",
      "        self.env = env\n",
      "        \n",
      "    def execute_order(self,order):\n",
      "        return tuple(env.execute(order)[1].flatten())\n",
      "    "
     ],
     "language": "python",
     "metadata": {},
     "outputs": [],
     "prompt_number": 4
    },
    {
     "cell_type": "code",
     "collapsed": false,
     "input": [
      "r = Robot()"
     ],
     "language": "python",
     "metadata": {},
     "outputs": [],
     "prompt_number": 5
    },
    {
     "cell_type": "code",
     "collapsed": false,
     "input": [
      "test_set = models.testbed.testcase.uniform_sensor_testcases(r, 100)"
     ],
     "language": "python",
     "metadata": {},
     "outputs": [],
     "prompt_number": 6
    },
    {
     "cell_type": "code",
     "collapsed": false,
     "input": [
      "history = []"
     ],
     "language": "python",
     "metadata": {},
     "outputs": [],
     "prompt_number": 7
    },
    {
     "cell_type": "code",
     "collapsed": false,
     "input": [
      "err = []"
     ],
     "language": "python",
     "metadata": {},
     "outputs": [],
     "prompt_number": 8
    },
    {
     "cell_type": "code",
     "collapsed": false,
     "input": [
      "for _ in range(10):\n",
      "    history+=[vstack(ag.explore(i_dims,inf_dims)) for i in range(40)]\n",
      "    hist=array(history).squeeze()\n",
      "    err.append(mean([linalg.norm(array(test[-1]).reshape(-1,1) - env.execute(ag.sm_model.infer(s_dims, m_dims,array(test[-1]).reshape(-1,1)))[1]) for test in test_set]))"
     ],
     "language": "python",
     "metadata": {},
     "outputs": [
      {
       "output_type": "stream",
       "stream": "stdout",
       "text": [
        "[ 0.]\n",
        "[ 0.]\n",
        "array must not contain infs or NaNs"
       ]
      },
      {
       "output_type": "stream",
       "stream": "stdout",
       "text": [
        "\n",
        "[ 0.]\n",
        "[ 0.]\n",
        "array must not contain infs or NaNs\n",
        "[ 0.]\n",
        "[ 0.]\n",
        "array must not contain infs or NaNs\n",
        "[-0.  0.]\n",
        "[ 0.  0.]\n",
        "array must not contain infs or NaNs\n",
        "[-0.  0.]\n",
        "[ 0.  0.]\n",
        "array must not contain infs or NaNs\n",
        "[-0.  0.  0.]\n",
        "[ 0.  0.  0.]\n",
        "array must not contain infs or NaNs\n",
        "[-14.09967904   0.           8.61174543]\n",
        "[ 0.          0.          8.61174543]\n",
        "array must not contain infs or NaNs\n",
        "[-26.38062121   0.           2.19373746]\n",
        "[ 0.          0.          2.19373746]\n",
        "array must not contain infs or NaNs\n",
        "[-26.38062121   0.           2.19373746]\n",
        "[ 0.          0.          2.19373746]\n",
        "array must not contain infs or NaNs\n",
        "[-26.38062121   0.           0.32149735]\n",
        "[ 0.          0.          0.32149735]\n",
        "array must not contain infs or NaNs\n",
        "[-14.01098929   0.          -2.03765324]\n",
        "[ 0.  0.  0.]\n",
        "array must not contain infs or NaNs\n",
        "[-14.01098929   0.55340855  -2.03765711]\n",
        "[ 0.          0.55340855  0.        ]\n",
        "array must not contain infs or NaNs\n",
        "[-14.86371965   0.55340855  -1.11107218]\n",
        "[ 0.          0.55340855  0.        ]\n",
        "array must not contain infs or NaNs\n",
        "[-14.86371965   0.55340855  -3.17749312]\n",
        "[ 0.          0.55340855  0.        ]\n",
        "array must not contain infs or NaNs\n",
        "[-14.69741955  -0.1315269   -3.1774934 ]\n",
        "[ 0.  0.  0.]"
       ]
      },
      {
       "output_type": "stream",
       "stream": "stdout",
       "text": [
        "\n",
        "array must not contain infs or NaNs\n",
        "[-16.95302294  -0.1315269   -3.1774934 ]\n",
        "[ 0.  0.  0.]\n",
        "array must not contain infs or NaNs\n",
        "[-16.95302294  -0.1315269   -6.78813009]\n",
        "[ 0.  0.  0.]\n",
        "array must not contain infs or NaNs\n",
        "[-16.95302294  -0.13062375  -5.8328829 ]\n",
        "[ 0.  0.  0.]\n",
        "array must not contain infs or NaNs\n",
        "[-16.95053836  -0.13062375  -3.33849602]\n",
        "[ 0.  0.  0.]\n",
        "array must not contain infs or NaNs\n",
        "[-16.95053836  -2.11730504  -3.33849602]\n",
        "[ 0.  0.  0.]\n",
        "array must not contain infs or NaNs\n",
        "[-16.95053836  -3.21079769  -3.33849602]\n",
        "[ 0.  0.  0.]\n",
        "array must not contain infs or NaNs\n",
        "[-16.95065493  -3.21079769  -2.59464102]\n",
        "[ 0.  0.  0.]\n",
        "array must not contain infs or NaNs\n",
        "[-16.95065493  -3.21079769  -2.59464102]\n",
        "[ 0.  0.  0.]\n",
        "array must not contain infs or NaNs\n",
        "[-1.39148028 -3.21079769 -2.59464102]\n",
        "[ 0.  0.  0.]\n",
        "array must not contain infs or NaNs\n",
        "[-1.39148028 -3.21079769 -2.59464102]"
       ]
      },
      {
       "output_type": "stream",
       "stream": "stdout",
       "text": [
        "\n",
        "[ 0.  0.  0.]\n",
        "array must not contain infs or NaNs\n",
        "[-1.39148028 -3.2107977  -2.59464102  0.        ]\n",
        "[ 0.  0.  0.  0.]\n",
        "array must not contain infs or NaNs\n",
        "[-1.39148028 -3.2107977  -2.59960756 -1.57203417]\n",
        "[ 0.  0.  0.  0.]\n",
        "array must not contain infs or NaNs\n",
        "[-1.39148028 -3.21053884 -3.51209055 -1.57203417]\n",
        "[ 0.  0.  0.  0.]\n",
        "array must not contain infs or NaNs\n",
        "[-1.39148028 -3.21053884 -3.51209055 -1.57203417]\n",
        "[ 0.  0.  0.  0.]\n",
        "array must not contain infs or NaNs\n",
        "[-1.39148028 -3.00504905 -5.42083353 -1.57203417]\n",
        "[ 0.  0.  0.  0.]\n",
        "array must not contain infs or NaNs\n",
        "[-1.39148028 -4.23178247 -5.42083353  7.02941915]\n",
        "[ 0.          0.          0.          7.02941915]\n",
        "array must not contain infs or NaNs\n",
        "[-1.39148028 -3.78357754 -5.42083353  2.04777962]\n",
        "[ 0.          0.          0.          2.04777962]\n",
        "array must not contain infs or NaNs\n",
        "[-1.39148028 -3.78357754 -5.42083353 -0.43308483]"
       ]
      },
      {
       "output_type": "stream",
       "stream": "stdout",
       "text": [
        "\n",
        "[ 0.  0.  0.  0.]\n",
        "array must not contain infs or NaNs\n",
        "[-1.39148028 -3.78357754 -5.42083353  0.68134328]\n",
        "[ 0.          0.          0.          0.68134328]\n",
        "array must not contain infs or NaNs\n",
        "[-1.39148028 -3.78357754 -5.42083353 -0.8153339 ]\n",
        "[ 0.  0.  0.  0.]\n",
        "array must not contain infs or NaNs\n",
        "[-1.39148028 -3.76928568 -5.42083353 -0.01166801]\n",
        "[ 0.  0.  0.  0.]\n",
        "array must not contain infs or NaNs\n",
        "[-1.39148028 -3.75665817 -5.42083353  0.81990195]\n",
        "[ 0.          0.          0.          0.81990195]\n",
        "array must not contain infs or NaNs\n",
        "[-1.39148028 -3.75665817 -5.42083353 -0.09822952]\n",
        "[ 0.  0.  0.  0.]\n",
        "array must not contain infs or NaNs\n",
        "[-1.39148028 -3.75665817 -5.42084221 -2.42029045]\n",
        "[ 0.  0.  0.  0.]\n",
        "array must not contain infs or NaNs\n",
        "[-1.39148028 -3.75667687 -5.42084221 -1.90423905]"
       ]
      },
      {
       "output_type": "stream",
       "stream": "stdout",
       "text": [
        "\n",
        "[ 0.  0.  0.  0.]\n",
        "array must not contain infs or NaNs\n",
        "[-1.39148028 -3.75667687 -5.42084221 -1.90423905]\n",
        "[ 0.  0.  0.  0.]\n",
        "array must not contain infs or NaNs\n",
        "[-1.39148028 -3.75667687 -5.42084221 -3.08972195]\n",
        "[ 0.  0.  0.  0.]\n",
        "array must not contain infs or NaNs\n",
        "[-1.39148028 -3.75667687 -5.42084221 -3.27678769]\n",
        "[ 0.  0.  0.  0.]\n",
        "array must not contain infs or NaNs\n",
        "[-1.39148028 -3.75667687 -5.42084303 -3.51022755]\n",
        "[ 0.  0.  0.  0.]\n",
        "array must not contain infs or NaNs\n",
        "[-1.39148028 -3.75667687 -5.4208431  -5.11972383]"
       ]
      },
      {
       "output_type": "stream",
       "stream": "stdout",
       "text": [
        "\n",
        "[ 0.  0.  0.  0.]\n",
        "array must not contain infs or NaNs\n",
        "[-1.39148028 -3.75667687 -6.61378452 -4.92701317]\n",
        "[ 0.  0.  0.  0.]\n",
        "array must not contain infs or NaNs\n",
        "[-1.39148028 -3.75667687 -6.61378452 -2.85320363]\n",
        "[ 0.  0.  0.  0.]\n",
        "array must not contain infs or NaNs\n",
        "[-1.39148028 -3.75667687 -6.61378452 -0.43040169]\n",
        "[ 0.  0.  0.  0.]\n",
        "array must not contain infs or NaNs\n",
        "[-1.39148028 -3.75667687 -6.61378452 -2.00745792]\n",
        "[ 0.  0.  0.  0.]\n",
        "array must not contain infs or NaNs\n",
        "[-1.39148028 -3.75667687 -6.61378482 -3.21566356]\n",
        "[ 0.  0.  0.  0.]\n",
        "array must not contain infs or NaNs\n",
        "[-1.39148028 -3.75667687 -6.61378482 -3.21566356]\n",
        "[ 0.  0.  0.  0.]\n",
        "array must not contain infs or NaNs\n",
        "[-1.39148028 -3.75667687 -6.61378482 -4.91075066]"
       ]
      },
      {
       "output_type": "stream",
       "stream": "stdout",
       "text": [
        "\n",
        "[ 0.  0.  0.  0.]\n",
        "array must not contain infs or NaNs\n",
        "[-1.39148028 -3.75667687 -6.61378482 -3.14003468]\n",
        "[ 0.  0.  0.  0.]\n",
        "array must not contain infs or NaNs\n",
        "[-1.39148028 -3.75667687 -6.61378482 -4.9002126 ]\n",
        "[ 0.  0.  0.  0.]\n",
        "array must not contain infs or NaNs\n",
        "[-1.39148028 -3.75667687 -6.61378482 -5.94219603]\n",
        "[ 0.  0.  0.  0.]\n",
        "array must not contain infs or NaNs\n",
        "[-1.39148028 -3.75667687 -6.61378482 -5.94219603]\n",
        "[ 0.  0.  0.  0.]\n",
        "array must not contain infs or NaNs\n",
        "[-1.39148028 -3.75667687 -6.61378485 -6.2476917 ]\n",
        "[ 0.  0.  0.  0.]\n",
        "array must not contain infs or NaNs\n",
        "[-1.39148028 -3.75667687 -6.61378485 -9.18330926]\n",
        "[ 0.  0.  0.  0.]\n",
        "array must not contain infs or NaNs\n",
        "[-1.39148028 -3.75667687 -6.61378485 -6.95415056]"
       ]
      },
      {
       "output_type": "stream",
       "stream": "stdout",
       "text": [
        "\n",
        "[ 0.  0.  0.  0.]\n",
        "array must not contain infs or NaNs\n",
        "[-1.39148028 -3.75667687 -6.61387625 -7.11615851]\n",
        "[ 0.  0.  0.  0.]\n",
        "array must not contain infs or NaNs\n",
        "[-1.39148028 -3.75667686 -6.61387625 -6.04146763]\n",
        "[ 0.  0.  0.  0.]\n",
        "array must not contain infs or NaNs\n",
        "[-1.39148028 -3.75667692 -6.61387625 -5.81956295]\n",
        "[ 0.  0.  0.  0.]\n",
        "array must not contain infs or NaNs\n",
        "[-1.39148028 -3.75667692 -6.61387625 -7.20178852]\n",
        "[ 0.  0.  0.  0.]\n",
        "array must not contain infs or NaNs\n",
        "[-1.39148028 -3.75667692 -6.61387625 -7.20178852]\n",
        "[ 0.  0.  0.  0.]\n",
        "array must not contain infs or NaNs\n",
        "[ -1.39148028  -3.75667692  -6.61387625 -10.24735181]\n",
        "[ 0.  0.  0.  0.]\n",
        "array must not contain infs or NaNs\n",
        "[ -1.39148028  -3.75667692  -6.61387625 -10.24735181]"
       ]
      },
      {
       "output_type": "stream",
       "stream": "stdout",
       "text": [
        "\n",
        "[ 0.  0.  0.  0.]\n",
        "array must not contain infs or NaNs\n",
        "[-1.39148028 -3.75667692 -6.61387625 -9.87949609]\n",
        "[ 0.  0.  0.  0.]\n",
        "array must not contain infs or NaNs\n",
        "[ -1.39148028  -3.75667692  -6.6138854  -13.16889332]\n",
        "[ 0.  0.  0.  0.]\n",
        "array must not contain infs or NaNs\n",
        "[ -1.39148028  -3.75667692  -6.6138854  -14.75390889]\n",
        "[ 0.  0.  0.  0.]\n",
        "array must not contain infs or NaNs\n",
        "[ -1.39148028  -3.75667692  -6.6138854  -12.43338831]\n",
        "[ 0.  0.  0.  0.]\n",
        "array must not contain infs or NaNs\n",
        "[ -1.39148028  -3.75667692  -6.6138854  -13.86633085]\n",
        "[ 0.  0.  0.  0.]\n",
        "array must not contain infs or NaNs\n",
        "[ -1.39148028  -3.75667692  -6.6138854  -16.47547183]\n",
        "[ 0.  0.  0.  0.]\n",
        "array must not contain infs or NaNs\n",
        "[ -1.39148028  -3.75667692  -6.6138854  -16.69909332]"
       ]
      },
      {
       "output_type": "stream",
       "stream": "stdout",
       "text": [
        "\n",
        "[ 0.  0.  0.  0.]\n",
        "array must not contain infs or NaNs\n",
        "[ -1.39148028  -3.75667692  -6.6138854  -19.29382663]\n",
        "[ 0.  0.  0.  0.]\n",
        "array must not contain infs or NaNs\n",
        "[ -1.39148028  -3.75667692  -6.6138854  -20.26114634]\n",
        "[ 0.  0.  0.  0.]\n",
        "array must not contain infs or NaNs\n",
        "[ -1.39148028  -3.75667692  -6.6138854  -24.2024337 ]\n",
        "[ 0.  0.  0.  0.]\n",
        "array must not contain infs or NaNs\n",
        "[ -1.39148028  -3.75667692  -6.6138854  -21.85277575]\n",
        "[ 0.  0.  0.  0.]\n",
        "array must not contain infs or NaNs\n",
        "[ -1.39148028  -3.75667692  -6.6138854  -20.72273909]\n",
        "[ 0.  0.  0.  0.]\n",
        "array must not contain infs or NaNs\n",
        "[ -1.39148028  -3.75667692  -6.6138854  -21.87605156]\n",
        "[ 0.  0.  0.  0.]\n",
        "array must not contain infs or NaNs\n",
        "[ -1.39148028  -3.75667692  -6.6138854  -21.3807005 ]"
       ]
      },
      {
       "output_type": "stream",
       "stream": "stdout",
       "text": [
        "\n",
        "[ 0.  0.  0.  0.]\n",
        "array must not contain infs or NaNs\n",
        "[ -1.39148028  -3.75667692  -6.6138854  -20.23936632]\n",
        "[ 0.  0.  0.  0.]\n",
        "array must not contain infs or NaNs\n",
        "[ -1.39148028  -3.75667692  -6.6138854  -21.90617597]\n",
        "[ 0.  0.  0.  0.]\n",
        "array must not contain infs or NaNs\n",
        "[ -1.39148028  -3.75667692  -6.6138854  -22.02737071]\n",
        "[ 0.  0.  0.  0.]\n",
        "array must not contain infs or NaNs\n",
        "[ -1.39148028  -3.75667692  -6.61388541 -22.41259421]\n",
        "[ 0.  0.  0.  0.]\n",
        "array must not contain infs or NaNs\n",
        "[ -1.39148028  -3.75667692  -6.61388541 -24.93135104]"
       ]
      },
      {
       "output_type": "stream",
       "stream": "stdout",
       "text": [
        "\n",
        "[ 0.  0.  0.  0.]\n",
        "array must not contain infs or NaNs\n",
        "[ -1.39148028  -3.75667692  -6.61388541 -25.89534142]\n",
        "[ 0.  0.  0.  0.]\n",
        "array must not contain infs or NaNs\n",
        "[ -1.39148028  -3.75667692  -6.61388541 -26.98434417]\n",
        "[ 0.  0.  0.  0.]\n",
        "array must not contain infs or NaNs\n",
        "[ -1.39148028  -3.75667692  -6.61388541 -29.5689571 ]\n",
        "[ 0.  0.  0.  0.]\n",
        "array must not contain infs or NaNs\n",
        "[ -1.39148028  -3.75667692  -6.61388541 -26.93033013]\n",
        "[ 0.  0.  0.  0.]\n",
        "array must not contain infs or NaNs\n",
        "[ -1.39148028  -3.75667692  -6.61388541 -27.92950626]\n",
        "[ 0.  0.  0.  0.]\n",
        "array must not contain infs or NaNs\n",
        "[ -1.39148028  -3.75667692  -6.61388541 -30.83084532]\n",
        "[ 0.  0.  0.  0.]\n",
        "array must not contain infs or NaNs\n",
        "[ -1.39148028  -3.75667692  -6.61388541 -30.64740841]"
       ]
      },
      {
       "output_type": "stream",
       "stream": "stdout",
       "text": [
        "\n",
        "[ 0.  0.  0.  0.]\n",
        "array must not contain infs or NaNs\n",
        "[ -1.39148028  -3.75667692  -6.61388541 -34.31411759]\n",
        "[ 0.  0.  0.  0.]\n",
        "array must not contain infs or NaNs\n",
        "[ -1.39148028  -3.75667692  -6.61388541 -36.74475325]\n",
        "[ 0.  0.  0.  0.]\n",
        "array must not contain infs or NaNs\n",
        "[ -1.39148028  -3.75667692  -6.61388541 -38.01034328]\n",
        "[ 0.  0.  0.  0.]\n",
        "array must not contain infs or NaNs\n",
        "[ -1.39148028  -3.75667692  -6.61388541 -39.38027093]\n",
        "[ 0.  0.  0.  0.]\n",
        "array must not contain infs or NaNs\n",
        "[ -1.39148028  -3.75667692  -6.61388541 -41.89575883]\n",
        "[ 0.  0.  0.  0.]\n",
        "array must not contain infs or NaNs\n",
        "[ -1.39148028  -3.75667692  -6.61388541 -45.85694823]\n",
        "[ 0.  0.  0.  0.]\n",
        "array must not contain infs or NaNs\n",
        "[ -1.39148028  -3.75667692  -6.61388541 -45.34555695]"
       ]
      },
      {
       "output_type": "stream",
       "stream": "stdout",
       "text": [
        "\n",
        "[ 0.  0.  0.  0.]\n",
        "array must not contain infs or NaNs\n",
        "[ -1.39148028  -3.75667692  -6.61388541 -45.55875707]\n",
        "[ 0.  0.  0.  0.]\n",
        "array must not contain infs or NaNs\n",
        "[ -1.39148028  -3.75667692  -6.61388541 -49.11108771]\n",
        "[ 0.  0.  0.  0.]\n",
        "array must not contain infs or NaNs\n",
        "[ -1.39148028  -3.75667692  -6.61388541 -49.11108771]\n",
        "[ 0.  0.  0.  0.]\n",
        "array must not contain infs or NaNs\n",
        "[ -1.39148028  -3.75667692  -6.61388541 -46.09913975]\n",
        "[ 0.  0.  0.  0.]\n",
        "array must not contain infs or NaNs\n",
        "[ -1.39148028  -3.75667692  -6.61388541 -45.67930917]\n",
        "[ 0.  0.  0.  0.]\n",
        "array must not contain infs or NaNs\n",
        "[ -1.39148028  -3.75667692  -6.61388541 -49.59779595]\n",
        "[ 0.  0.  0.  0.]\n",
        "array must not contain infs or NaNs\n",
        "[ -1.39148028  -3.75667692  -6.61388541 -52.39979607]"
       ]
      },
      {
       "output_type": "stream",
       "stream": "stdout",
       "text": [
        "\n",
        "[ 0.  0.  0.  0.]\n",
        "array must not contain infs or NaNs\n",
        "[ -1.39148028  -3.75667692  -6.61388541 -55.32517529]\n",
        "[ 0.  0.  0.  0.]\n",
        "array must not contain infs or NaNs\n",
        "[ -1.39148028  -3.75667692  -6.61388541 -54.6014395 ]\n",
        "[ 0.  0.  0.  0.]\n",
        "array must not contain infs or NaNs\n",
        "[ -1.39148028  -3.75667692  -6.61388541 -58.07765718]\n",
        "[ 0.  0.  0.  0.]\n",
        "array must not contain infs or NaNs\n",
        "[ -1.39148028  -3.75667692  -6.61388541 -58.59857986]\n",
        "[ 0.  0.  0.  0.]\n",
        "array must not contain infs or NaNs\n",
        "[ -1.39148028  -3.75667692  -6.61388541 -61.3002798 ]\n",
        "[ 0.  0.  0.  0.]\n",
        "array must not contain infs or NaNs\n",
        "[ -1.39148028  -3.75667692  -6.61388541 -65.51085909]\n",
        "[ 0.  0.  0.  0.]\n",
        "array must not contain infs or NaNs\n",
        "[ -1.39148028  -3.75667692  -6.61388541 -66.8491696 ]"
       ]
      },
      {
       "output_type": "stream",
       "stream": "stdout",
       "text": [
        "\n",
        "[ 0.  0.  0.  0.]\n",
        "array must not contain infs or NaNs\n",
        "[ -1.39148028  -3.75667692  -6.61388541 -68.84556441]\n",
        "[ 0.  0.  0.  0.]\n",
        "array must not contain infs or NaNs\n",
        "[ -1.39148028  -3.75667692  -6.61388541 -69.80423364]\n",
        "[ 0.  0.  0.  0.]\n",
        "array must not contain infs or NaNs\n",
        "[ -1.39148028  -3.75667692  -6.61388541 -75.49755735]\n",
        "[ 0.  0.  0.  0.]\n",
        "array must not contain infs or NaNs\n",
        "[ -1.39148028  -3.75667692  -6.61388541 -80.58030267]\n",
        "[ 0.  0.  0.  0.]\n",
        "array must not contain infs or NaNs\n",
        "[ -1.39148028  -3.75667692  -6.61388541 -80.43148222]\n",
        "[ 0.  0.  0.  0.]\n",
        "array must not contain infs or NaNs\n",
        "[ -1.39148028  -3.75667692  -6.61388541 -80.15397861]\n",
        "[ 0.  0.  0.  0.]\n",
        "array must not contain infs or NaNs\n",
        "[ -1.39148028  -3.75667692  -6.61388541 -78.15006456]"
       ]
      },
      {
       "output_type": "stream",
       "stream": "stdout",
       "text": [
        "\n",
        "[ 0.  0.  0.  0.]\n",
        "array must not contain infs or NaNs\n",
        "[ -1.39148028  -3.75667692  -6.61388541 -78.15006456]\n",
        "[ 0.  0.  0.  0.]\n",
        "array must not contain infs or NaNs\n",
        "[ -1.39148028  -3.75667692  -6.61388541 -78.73493031]\n",
        "[ 0.  0.  0.  0.]\n",
        "array must not contain infs or NaNs\n",
        "[ -1.39148028  -3.75667692  -6.61388541 -77.75628911]\n",
        "[ 0.  0.  0.  0.]\n",
        "array must not contain infs or NaNs\n",
        "[ -1.39148028  -3.75667692  -6.61388541 -77.37415593]\n",
        "[ 0.  0.  0.  0.]\n",
        "array must not contain infs or NaNs\n",
        "[ -1.39148028  -3.75667692  -6.61388541 -82.99401044]"
       ]
      },
      {
       "output_type": "stream",
       "stream": "stdout",
       "text": [
        "\n",
        "[ 0.  0.  0.  0.]\n",
        "array must not contain infs or NaNs\n",
        "[ -1.39148028  -3.75667692  -6.61388541 -86.93016789]\n",
        "[ 0.  0.  0.  0.]\n",
        "array must not contain infs or NaNs\n",
        "[ -1.39148028  -3.75667692  -6.61388541 -90.02880636]\n",
        "[ 0.  0.  0.  0.]\n",
        "array must not contain infs or NaNs\n",
        "[ -1.39148028  -3.75667692  -6.61388541 -92.58790316]\n",
        "[ 0.  0.  0.  0.]\n",
        "array must not contain infs or NaNs\n",
        "[ -1.39148028  -3.75667692  -6.61388541 -96.05095102]\n",
        "[ 0.  0.  0.  0.]\n",
        "array must not contain infs or NaNs\n",
        "[  -1.39148028   -3.75667692   -6.61388541 -101.90759479]\n",
        "[ 0.  0.  0.  0.]\n",
        "array must not contain infs or NaNs\n",
        "[  -1.39148028   -3.75667692   -6.61388541 -107.02028023]\n",
        "[ 0.  0.  0.  0.]\n",
        "array must not contain infs or NaNs\n",
        "[  -1.39148028   -3.75667692   -6.61388541 -109.99911728]"
       ]
      },
      {
       "output_type": "stream",
       "stream": "stdout",
       "text": [
        "\n",
        "[ 0.  0.  0.  0.]\n",
        "array must not contain infs or NaNs\n",
        "[  -1.39148028   -3.75667692   -6.61388541 -115.36455774]\n",
        "[ 0.  0.  0.  0.]\n",
        "array must not contain infs or NaNs\n",
        "[  -1.39148028   -3.75667692   -6.61388541 -118.87795261]\n",
        "[ 0.  0.  0.  0.]\n",
        "array must not contain infs or NaNs\n",
        "[  -1.39148028   -3.75667692   -6.61388541 -119.53956121]\n",
        "[ 0.  0.  0.  0.]\n",
        "array must not contain infs or NaNs\n",
        "[  -1.39148028   -3.75667692   -6.61388541 -122.70605734]\n",
        "[ 0.  0.  0.  0.]\n",
        "array must not contain infs or NaNs\n",
        "[  -1.39148028   -3.75667692   -6.61388541 -125.09422527]\n",
        "[ 0.  0.  0.  0.]\n",
        "array must not contain infs or NaNs\n",
        "[  -1.39148028   -3.75667692   -6.61388541 -126.02422006]\n",
        "[ 0.  0.  0.  0.]\n",
        "array must not contain infs or NaNs\n",
        "[  -1.39148028   -3.75667692   -6.61388541 -133.30747375]"
       ]
      },
      {
       "output_type": "stream",
       "stream": "stdout",
       "text": [
        "\n",
        "[ 0.  0.  0.  0.]\n",
        "array must not contain infs or NaNs\n",
        "[  -1.39148028   -3.75667692   -6.61388541 -133.30747375]\n",
        "[ 0.  0.  0.  0.]\n",
        "array must not contain infs or NaNs\n",
        "[  -1.39148028   -3.75667692   -6.61388541 -132.744954  ]\n",
        "[ 0.  0.  0.  0.]\n",
        "array must not contain infs or NaNs\n",
        "[  -1.39148028   -3.75667692   -6.61388541 -137.21214982]\n",
        "[ 0.  0.  0.  0.]\n",
        "array must not contain infs or NaNs\n",
        "[  -1.39148028   -3.75667692   -6.61388541 -137.21214982]\n",
        "[ 0.  0.  0.  0.]\n",
        "array must not contain infs or NaNs\n",
        "[  -1.39148028   -3.75667692   -6.61388541 -138.72818292]\n",
        "[ 0.  0.  0.  0.]\n",
        "array must not contain infs or NaNs\n",
        "[  -1.39148028   -3.75667692   -6.61388541 -141.53822977]\n",
        "[ 0.  0.  0.  0.]\n",
        "array must not contain infs or NaNs\n",
        "[  -1.39148028   -3.75667692   -6.61388541 -141.91655894]"
       ]
      },
      {
       "output_type": "stream",
       "stream": "stdout",
       "text": [
        "\n",
        "[ 0.  0.  0.  0.]\n",
        "array must not contain infs or NaNs\n",
        "[  -1.39148028   -3.75667692   -6.61388541 -141.91655894]\n",
        "[ 0.  0.  0.  0.]\n",
        "array must not contain infs or NaNs\n",
        "[  -1.39148028   -3.75667692   -6.61388541 -143.29771191]\n",
        "[ 0.  0.  0.  0.]\n",
        "array must not contain infs or NaNs\n",
        "[  -1.39148028   -3.75667692   -6.61388541 -146.52512371]\n",
        "[ 0.  0.  0.  0.]\n",
        "array must not contain infs or NaNs\n",
        "[  -1.39148028   -3.75667692   -6.61388541 -150.29464548]\n",
        "[ 0.  0.  0.  0.]\n",
        "array must not contain infs or NaNs\n",
        "[  -1.39148028   -3.75667692   -6.61388541 -150.29464548]\n",
        "[ 0.  0.  0.  0.]\n",
        "array must not contain infs or NaNs\n",
        "[  -1.39148028   -3.75667692   -6.61388541 -155.77888107]\n",
        "[ 0.  0.  0.  0.]\n",
        "array must not contain infs or NaNs\n",
        "[  -1.39148028   -3.75667692   -6.61388541 -158.95848604]"
       ]
      },
      {
       "output_type": "stream",
       "stream": "stdout",
       "text": [
        "\n",
        "[ 0.  0.  0.  0.]\n",
        "array must not contain infs or NaNs\n",
        "[  -1.39148028   -3.75667692   -6.61388541 -163.4775095 ]\n",
        "[ 0.  0.  0.  0.]\n",
        "array must not contain infs or NaNs\n",
        "[  -1.39148028   -3.75667692   -6.61388541 -166.45606956]\n",
        "[ 0.  0.  0.  0.]\n",
        "array must not contain infs or NaNs\n",
        "[  -1.39148028   -3.75667692   -6.61388541 -174.8722661 ]\n",
        "[ 0.  0.  0.  0.]\n",
        "array must not contain infs or NaNs\n",
        "[  -1.39148028   -3.75667692   -6.61388541 -174.8722661 ]\n",
        "[ 0.  0.  0.  0.]\n",
        "array must not contain infs or NaNs\n",
        "[  -1.39148028   -3.75667692   -6.61388541 -178.21855026]\n",
        "[ 0.  0.  0.  0.]\n",
        "array must not contain infs or NaNs\n",
        "[  -1.39148028   -3.75667692   -6.61388541 -179.65234588]\n",
        "[ 0.  0.  0.  0.]\n",
        "array must not contain infs or NaNs\n",
        "[  -1.39148028   -3.75667692   -6.61388541 -183.72013953]"
       ]
      },
      {
       "output_type": "stream",
       "stream": "stdout",
       "text": [
        "\n",
        "[ 0.  0.  0.  0.]\n",
        "array must not contain infs or NaNs\n",
        "[  -1.39148028   -3.75667692   -6.61388541 -189.26721634]\n",
        "[ 0.  0.  0.  0.]\n",
        "array must not contain infs or NaNs\n",
        "[  -1.39148028   -3.75667692   -6.61388541 -192.38633296]\n",
        "[ 0.  0.  0.  0.]\n",
        "array must not contain infs or NaNs\n",
        "[  -1.39148028   -3.75667692   -6.61388541 -197.25535017]\n",
        "[ 0.  0.  0.  0.]\n",
        "array must not contain infs or NaNs\n",
        "[  -1.39148028   -3.75667692   -6.61388541 -197.25535017]\n",
        "[ 0.  0.  0.  0.]\n",
        "array must not contain infs or NaNs\n",
        "[  -1.39148028   -3.75667692   -6.61388541 -204.3889151 ]"
       ]
      },
      {
       "output_type": "stream",
       "stream": "stdout",
       "text": [
        "\n",
        "[ 0.  0.  0.  0.]\n",
        "array must not contain infs or NaNs\n",
        "[  -1.39148028   -3.75667692   -6.61388541 -208.98101486]\n",
        "[ 0.  0.  0.  0.]\n",
        "array must not contain infs or NaNs\n",
        "[  -1.39148028   -3.75667692   -6.61388541 -212.30874288]\n",
        "[ 0.  0.  0.  0.]\n",
        "array must not contain infs or NaNs\n",
        "[  -1.39148028   -3.75667692   -6.61388541 -214.44313847]\n",
        "[ 0.  0.  0.  0.]\n",
        "array must not contain infs or NaNs\n",
        "[  -1.39148028   -3.75667692   -6.61388541 -218.72915033]\n",
        "[ 0.  0.  0.  0.]\n",
        "array must not contain infs or NaNs\n",
        "[  -1.39148028   -3.75667692   -6.61388541 -221.32783461]\n",
        "[ 0.  0.  0.  0.]\n",
        "array must not contain infs or NaNs\n",
        "[  -1.39148028   -3.75667692   -6.61388541 -224.63959192]"
       ]
      },
      {
       "output_type": "stream",
       "stream": "stdout",
       "text": [
        "\n",
        "[ 0.  0.  0.  0.]\n",
        "array must not contain infs or NaNs\n",
        "[  -1.39148028   -3.75667692   -6.61388541 -231.34299504]\n",
        "[ 0.  0.  0.  0.]\n",
        "array must not contain infs or NaNs\n",
        "[  -1.39148028   -3.75667692   -6.61388541 -231.34299504]\n",
        "[ 0.  0.  0.  0.]\n",
        "array must not contain infs or NaNs\n",
        "[  -1.39148028   -3.75667692   -6.61388541 -233.31971258]\n",
        "[ 0.  0.  0.  0.]\n",
        "array must not contain infs or NaNs\n",
        "[  -1.39148028   -3.75667692   -6.61388541 -239.1825923 ]\n",
        "[ 0.  0.  0.  0.]\n",
        "array must not contain infs or NaNs\n",
        "[  -1.39148028   -3.75667692   -6.61388541 -241.49383835]\n",
        "[ 0.  0.  0.  0.]\n",
        "array must not contain infs or NaNs\n",
        "[  -1.39148028   -3.75667692   -6.61388541 -241.49383835]\n",
        "[ 0.  0.  0.  0.]\n",
        "array must not contain infs or NaNs\n",
        "[  -1.39148028   -3.75667692   -6.61388541 -245.83361327]"
       ]
      },
      {
       "output_type": "stream",
       "stream": "stdout",
       "text": [
        "\n",
        "[ 0.  0.  0.  0.]\n",
        "array must not contain infs or NaNs\n",
        "[  -1.39148028   -3.75667692   -6.61388541 -250.8211641 ]\n",
        "[ 0.  0.  0.  0.]\n",
        "array must not contain infs or NaNs\n",
        "[  -1.39148028   -3.75667692   -6.61388541 -255.52224065]\n",
        "[ 0.  0.  0.  0.]\n",
        "array must not contain infs or NaNs\n",
        "[  -1.39148028   -3.75667692   -6.61388541 -262.23799633]\n",
        "[ 0.  0.  0.  0.]\n",
        "array must not contain infs or NaNs\n",
        "[  -1.39148028   -3.75667692   -6.61388541 -266.96446619]\n",
        "[ 0.  0.  0.  0.]\n",
        "array must not contain infs or NaNs\n",
        "[  -1.39148028   -3.75667692   -6.61388541 -270.59695567]\n",
        "[ 0.  0.  0.  0.]\n",
        "array must not contain infs or NaNs\n",
        "[  -1.39148028   -3.75667692   -6.61388541 -273.55941665]\n",
        "[ 0.  0.  0.  0.]\n",
        "array must not contain infs or NaNs\n",
        "[  -1.39148028   -3.75667692   -6.61388541 -279.4609741 ]"
       ]
      },
      {
       "output_type": "stream",
       "stream": "stdout",
       "text": [
        "\n",
        "[ 0.  0.  0.  0.]\n",
        "array must not contain infs or NaNs\n",
        "[  -1.39148028   -3.75667692   -6.61388541 -283.20919959]\n",
        "[ 0.  0.  0.  0.]\n",
        "array must not contain infs or NaNs\n",
        "[  -1.39148028   -3.75667692   -6.61388541 -288.19081717]\n",
        "[ 0.  0.  0.  0.]\n",
        "array must not contain infs or NaNs\n",
        "[  -1.39148028   -3.75667692   -6.61388541 -290.14513697]\n",
        "[ 0.  0.  0.  0.]\n",
        "array must not contain infs or NaNs\n",
        "[  -1.39148028   -3.75667692   -6.61388541 -298.2431686 ]\n",
        "[ 0.  0.  0.  0.]\n",
        "array must not contain infs or NaNs\n",
        "[  -1.39148028   -3.75667692   -6.61388541 -304.96614483]\n",
        "[ 0.  0.  0.  0.]\n",
        "array must not contain infs or NaNs\n",
        "[  -1.39148028   -3.75667692   -6.61388541 -308.25651286]\n",
        "[ 0.  0.  0.  0.]\n",
        "array must not contain infs or NaNs\n",
        "[  -1.39148028   -3.75667692   -6.61388541 -313.56538006]"
       ]
      },
      {
       "output_type": "stream",
       "stream": "stdout",
       "text": [
        "\n",
        "[ 0.  0.  0.  0.]\n",
        "array must not contain infs or NaNs\n",
        "[  -1.39148028   -3.75667692   -6.61388541 -319.89466329]\n",
        "[ 0.  0.  0.  0.]\n",
        "array must not contain infs or NaNs\n",
        "[  -1.39148028   -3.75667692   -6.61388541 -322.29724794]\n",
        "[ 0.  0.  0.  0.]\n",
        "array must not contain infs or NaNs\n",
        "[  -1.39148028   -3.75667692   -6.61388541 -330.81964347]\n",
        "[ 0.  0.  0.  0.]\n",
        "array must not contain infs or NaNs\n",
        "[  -1.39148028   -3.75667692   -6.61388541 -336.44750853]\n",
        "[ 0.  0.  0.  0.]\n",
        "array must not contain infs or NaNs\n",
        "[  -1.39148028   -3.75667692   -6.61388541 -340.91284721]\n",
        "[ 0.  0.  0.  0.]\n",
        "array must not contain infs or NaNs\n",
        "[  -1.39148028   -3.75667692   -6.61388541 -343.03574768]\n",
        "[ 0.  0.  0.  0.]\n",
        "array must not contain infs or NaNs\n",
        "[  -1.39148028   -3.75667692   -6.61388541 -347.31322548]"
       ]
      },
      {
       "output_type": "stream",
       "stream": "stdout",
       "text": [
        "\n",
        "[ 0.  0.  0.  0.]\n",
        "array must not contain infs or NaNs\n",
        "[  -1.39148028   -3.75667692   -6.61388541 -347.31322548]\n",
        "[ 0.  0.  0.  0.]\n",
        "array must not contain infs or NaNs\n",
        "[  -1.39148028   -3.75667692   -6.61388541 -349.59234509]\n",
        "[ 0.  0.  0.  0.]\n",
        "array must not contain infs or NaNs\n",
        "[  -1.39148028   -3.75667692   -6.61388541 -358.4759337 ]\n",
        "[ 0.  0.  0.  0.]\n",
        "array must not contain infs or NaNs\n",
        "[  -1.39148028   -3.75667692   -6.61388541 -362.395569  ]\n",
        "[ 0.  0.  0.  0.]\n",
        "array must not contain infs or NaNs\n",
        "[  -1.39148028   -3.75667692   -6.61388541 -365.4522482 ]"
       ]
      },
      {
       "output_type": "stream",
       "stream": "stdout",
       "text": [
        "\n",
        "[ 0.  0.  0.  0.]\n",
        "array must not contain infs or NaNs\n",
        "[  -1.39148028   -3.75667692   -6.61388541 -369.95924616]\n",
        "[ 0.  0.  0.  0.]\n",
        "array must not contain infs or NaNs\n",
        "[  -1.39148028   -3.75667692   -6.61388541 -374.31051443]\n",
        "[ 0.  0.  0.  0.]\n",
        "array must not contain infs or NaNs\n",
        "[  -1.39148028   -3.75667692   -6.61388541 -378.35620089]\n",
        "[ 0.  0.  0.  0.]\n",
        "array must not contain infs or NaNs\n",
        "[  -1.39148028   -3.75667692   -6.61388541 -378.35620089]\n",
        "[ 0.  0.  0.  0.]\n",
        "array must not contain infs or NaNs\n",
        "[  -1.39148028   -3.75667692   -6.61388541 -378.35620014   -0.        ]\n",
        "[ 0.  0.  0.  0.  0.]\n",
        "array must not contain infs or NaNs\n",
        "[  -1.39148028   -3.75667692   -6.61388541 -378.23379823    1.28539689]\n",
        "[ 0.          0.          0.          0.          1.28539689]\n",
        "array must not contain infs or NaNs\n",
        "[  -1.39148028   -3.75667692   -6.61388541 -378.27191002  -18.69361994]"
       ]
      },
      {
       "output_type": "stream",
       "stream": "stdout",
       "text": [
        "\n",
        "[ 0.  0.  0.  0.  0.]\n",
        "array must not contain infs or NaNs\n",
        "[  -1.39148028   -3.75667692   -6.61388541 -378.24308138   -0.00499194]\n",
        "[ 0.  0.  0.  0.  0.]\n",
        "array must not contain infs or NaNs\n",
        "[  -1.39148028   -3.75667692   -6.61388541 -378.23144167    3.53235965]\n",
        "[ 0.          0.          0.          0.          3.53235965]\n",
        "array must not contain infs or NaNs\n",
        "[  -1.39148028   -3.75667692   -6.61388541 -378.23121826    2.53004173]\n",
        "[ 0.          0.          0.          0.          2.53004173]\n",
        "array must not contain infs or NaNs\n",
        "[  -1.39148028   -3.75667692   -6.61388541 -383.94133406    0.72679016]\n",
        "[ 0.          0.          0.          0.          0.72679016]\n",
        "array must not contain infs or NaNs\n",
        "[  -1.39148028   -3.75667692   -6.61388541 -383.94196621    1.30040554]\n",
        "[ 0.          0.          0.          0.          1.30040554]\n",
        "array must not contain infs or NaNs\n",
        "[  -1.39148028   -3.75667692   -6.61388541 -384.00747287   -0.95429951]\n",
        "[ 0.  0.  0.  0.  0.]\n",
        "array must not contain infs or NaNs"
       ]
      },
      {
       "output_type": "stream",
       "stream": "stdout",
       "text": [
        "\n",
        "[  -1.39148028   -3.75667692   -6.61388541 -384.00737573   -0.14585081]\n",
        "[ 0.  0.  0.  0.  0.]\n",
        "array must not contain infs or NaNs\n",
        "[  -1.39148028   -3.75667692   -6.61388541 -384.00720817   -0.11255918]\n",
        "[ 0.  0.  0.  0.  0.]\n",
        "array must not contain infs or NaNs\n",
        "[  -1.39148028   -3.75667692   -6.61388541 -384.00748677   -0.58439981]\n",
        "[ 0.  0.  0.  0.  0.]\n",
        "array must not contain infs or NaNs\n",
        "[  -1.39148028   -3.75667692   -6.61388541 -384.0070854     0.02551557]\n",
        "[ 0.          0.          0.          0.          0.02551557]\n",
        "array must not contain infs or NaNs\n",
        "[  -1.39148028   -3.75667692   -6.61388541 -384.00707739   -0.17307377]\n",
        "[ 0.  0.  0.  0.  0.]\n",
        "array must not contain infs or NaNs\n",
        "[  -1.39148028   -3.75667692   -6.61388541 -384.007068      0.11771637]\n",
        "[ 0.          0.          0.          0.          0.11771637]\n",
        "array must not contain infs or NaNs\n",
        "[  -1.39148028   -3.75667692   -6.61388541 -384.00705015    0.11204168]"
       ]
      },
      {
       "output_type": "stream",
       "stream": "stdout",
       "text": [
        "\n",
        "[ 0.          0.          0.          0.          0.11204168]\n",
        "array must not contain infs or NaNs\n",
        "[  -1.39148028   -3.75667692   -6.61388541 -384.00756925    0.09751683]\n",
        "[ 0.          0.          0.          0.          0.09751683]\n",
        "array must not contain infs or NaNs\n",
        "[  -1.39148028   -3.75667692   -6.61388541 -384.0076419    -0.52752105]\n",
        "[ 0.  0.  0.  0.  0.]\n",
        "array must not contain infs or NaNs\n",
        "[  -1.39148028   -3.75667692   -6.61388541 -384.00775021   -0.64581602]\n",
        "[ 0.  0.  0.  0.  0.]\n",
        "array must not contain infs or NaNs\n",
        "[  -1.39148028   -3.75667692   -6.61388541 -384.00773079   -0.43204551]\n",
        "[ 0.  0.  0.  0.  0.]\n",
        "array must not contain infs or NaNs\n",
        "[  -1.39148028   -3.75667692   -6.61388541 -384.0078187    -1.02937584]\n",
        "[ 0.  0.  0.  0.  0.]\n",
        "array must not contain infs or NaNs\n",
        "[  -1.39148028   -3.75667692   -6.61388541 -384.08388327   -1.53308398]\n",
        "[ 0.  0.  0.  0.  0.]\n",
        "array must not contain infs or NaNs"
       ]
      },
      {
       "output_type": "stream",
       "stream": "stdout",
       "text": [
        "\n",
        "[  -1.39148028   -3.75667692   -6.61388541 -384.08387011   -1.15342399]\n",
        "[ 0.  0.  0.  0.  0.]\n",
        "array must not contain infs or NaNs\n",
        "[  -1.39148028   -3.75667692   -6.61388541 -384.0838701    -1.23288359]\n",
        "[ 0.  0.  0.  0.  0.]\n",
        "array must not contain infs or NaNs\n",
        "[  -1.39148028   -3.75667692   -6.61388541 -384.0838701    -1.23288359]\n",
        "[ 0.  0.  0.  0.  0.]\n",
        "array must not contain infs or NaNs\n",
        "[  -1.39148028   -3.75667692   -6.61388541 -384.0838701    -1.52206191]\n",
        "[ 0.  0.  0.  0.  0.]\n",
        "array must not contain infs or NaNs\n",
        "[  -1.39148028   -3.75667692   -6.61388541 -384.08367043   -1.10500459]\n",
        "[ 0.  0.  0.  0.  0.]\n",
        "array must not contain infs or NaNs\n",
        "[  -1.39148028   -3.75667692   -6.61388541 -384.58184466   -1.70062125]\n",
        "[ 0.  0.  0.  0.  0.]\n",
        "array must not contain infs or NaNs\n",
        "[  -1.39148028   -3.75667692   -6.61388541 -384.58300793   -2.07939199]"
       ]
      },
      {
       "output_type": "stream",
       "stream": "stdout",
       "text": [
        "\n",
        "[ 0.  0.  0.  0.  0.]\n",
        "array must not contain infs or NaNs\n",
        "[  -1.39148028   -3.75667692   -6.61388541 -384.58300993   -2.35642882]\n",
        "[ 0.  0.  0.  0.  0.]\n",
        "array must not contain infs or NaNs\n",
        "[  -1.39148028   -3.75667692   -6.61388541 -384.59544639   -2.6353185 ]\n",
        "[ 0.  0.  0.  0.  0.]\n",
        "array must not contain infs or NaNs\n",
        "[  -1.39148028   -3.75667692   -6.61388541 -384.59544639   -2.6353185 ]\n",
        "[ 0.  0.  0.  0.  0.]\n",
        "array must not contain infs or NaNs\n",
        "[  -1.39148028   -3.75667692   -6.61388541 -384.59543808   -1.51493651]"
       ]
      },
      {
       "output_type": "stream",
       "stream": "stdout",
       "text": [
        "\n",
        "[ 0.  0.  0.  0.  0.]\n",
        "array must not contain infs or NaNs\n",
        "[  -1.39148028   -3.75667692   -6.61388541 -384.61846188   -2.04388627]\n",
        "[ 0.  0.  0.  0.  0.]\n",
        "array must not contain infs or NaNs\n",
        "[  -1.39148028   -3.75667692   -6.61388541 -384.61845896   -1.63668809]\n",
        "[ 0.  0.  0.  0.  0.]\n",
        "array must not contain infs or NaNs\n",
        "[  -1.39148028   -3.75667692   -6.61388541 -384.61840754   -1.26122865]\n",
        "[ 0.  0.  0.  0.  0.]\n",
        "array must not contain infs or NaNs\n",
        "[  -1.39148028   -3.75667692   -6.61388541 -384.61887652   -1.43707105]\n",
        "[ 0.  0.  0.  0.  0.]\n",
        "array must not contain infs or NaNs\n",
        "[  -1.39148028   -3.75667692   -6.61388541 -384.61886829   -1.17963482]\n",
        "[ 0.  0.  0.  0.  0.]\n",
        "array must not contain infs or NaNs\n",
        "[  -1.39148028   -3.75667692   -6.61388541 -384.61886829   -1.17963482]\n",
        "[ 0.  0.  0.  0.  0.]\n",
        "array must not contain infs or NaNs\n",
        "[  -1.39148028   -3.75667692   -6.61388541 -384.61903106   -1.22008521]"
       ]
      },
      {
       "output_type": "stream",
       "stream": "stdout",
       "text": [
        "\n",
        "[ 0.  0.  0.  0.  0.]\n",
        "array must not contain infs or NaNs\n",
        "[  -1.39148028   -3.75667692   -6.61388541 -384.61940579   -1.40682321]\n",
        "[ 0.  0.  0.  0.  0.]\n",
        "array must not contain infs or NaNs\n",
        "[  -1.39148028   -3.75667692   -6.61388541 -384.61948592   -1.87044466]\n",
        "[ 0.  0.  0.  0.  0.]\n",
        "array must not contain infs or NaNs\n",
        "[  -1.39148028   -3.75667692   -6.61388541 -384.62583634   -2.98346898]\n",
        "[ 0.  0.  0.  0.  0.]\n",
        "array must not contain infs or NaNs\n",
        "[  -1.39148028   -3.75667692   -6.61388541 -384.62584074   -2.86507837]\n",
        "[ 0.  0.  0.  0.  0.]\n",
        "array must not contain infs or NaNs\n",
        "[  -1.39148028   -3.75667692   -6.61388541 -384.66943852   -3.83432524]\n",
        "[ 0.  0.  0.  0.  0.]\n",
        "array must not contain infs or NaNs\n",
        "[  -1.39148028   -3.75667692   -6.61388541 -384.67170308   -4.2267571 ]\n",
        "[ 0.  0.  0.  0.  0.]\n",
        "array must not contain infs or NaNs\n",
        "[  -1.39148028   -3.75667692   -6.61388541 -396.53998724   -4.48378876]"
       ]
      },
      {
       "output_type": "stream",
       "stream": "stdout",
       "text": [
        "\n",
        "[ 0.  0.  0.  0.  0.]\n",
        "array must not contain infs or NaNs\n",
        "[  -1.39148028   -3.75667692   -6.61388541 -396.54183937   -5.02693451]\n",
        "[ 0.  0.  0.  0.  0.]\n",
        "array must not contain infs or NaNs\n",
        "[  -1.39148028   -3.75667692   -6.61388541 -396.97677821   -7.33369933]\n",
        "[ 0.  0.  0.  0.  0.]\n",
        "array must not contain infs or NaNs\n",
        "[  -1.39148028   -3.75667692   -6.61388541 -396.97678801   -7.27463698]\n",
        "[ 0.  0.  0.  0.  0.]\n",
        "array must not contain infs or NaNs\n",
        "[  -1.39148028   -3.75667692   -6.61388541 -396.97678426   -6.40456058]\n",
        "[ 0.  0.  0.  0.  0.]\n",
        "array must not contain infs or NaNs\n",
        "[  -1.39148028   -3.75667692   -6.61388541 -396.97741294   -6.74092078]\n",
        "[ 0.  0.  0.  0.  0.]\n",
        "array must not contain infs or NaNs\n",
        "[  -1.39148028   -3.75667692   -6.61388541 -397.04307271   -8.00353665]\n",
        "[ 0.  0.  0.  0.  0.]\n",
        "array must not contain infs or NaNs"
       ]
      },
      {
       "output_type": "stream",
       "stream": "stdout",
       "text": [
        "\n",
        "[  -1.39148028   -3.75667692   -6.61388541 -397.04306917   -7.34765889]\n",
        "[ 0.  0.  0.  0.  0.]\n",
        "array must not contain infs or NaNs\n",
        "[  -1.39148028   -3.75667692   -6.61388541 -397.04306917   -7.69558776]\n",
        "[ 0.  0.  0.  0.  0.]\n",
        "array must not contain infs or NaNs\n",
        "[  -1.39148028   -3.75667692   -6.61388541 -397.04308012   -7.88467568]\n",
        "[ 0.  0.  0.  0.  0.]\n",
        "array must not contain infs or NaNs\n",
        "[  -1.39148028   -3.75667692   -6.61388541 -397.04311549   -8.02617458]\n",
        "[ 0.  0.  0.  0.  0.]\n",
        "array must not contain infs or NaNs\n",
        "[  -1.39148028   -3.75667692   -6.61388541 -397.04652977   -9.53321493]\n",
        "[ 0.  0.  0.  0.  0.]\n",
        "array must not contain infs or NaNs\n",
        "[  -1.39148028   -3.75667692   -6.61388541 -397.04652956   -8.09066283]\n",
        "[ 0.  0.  0.  0.  0.]\n",
        "array must not contain infs or NaNs\n",
        "[  -1.39148028   -3.75667692   -6.61388541 -397.24076555   -9.75939285]"
       ]
      },
      {
       "output_type": "stream",
       "stream": "stdout",
       "text": [
        "\n",
        "[ 0.  0.  0.  0.  0.]\n",
        "array must not contain infs or NaNs\n",
        "[  -1.39148028   -3.75667692   -6.61388541 -397.24076555   -9.75939285]\n",
        "[ 0.  0.  0.  0.  0.]\n",
        "array must not contain infs or NaNs\n",
        "[  -1.39148028   -3.75667692   -6.61388541 -397.24076476   -8.9189766 ]\n",
        "[ 0.  0.  0.  0.  0.]\n",
        "array must not contain infs or NaNs\n",
        "[  -1.39148028   -3.75667692   -6.61388541 -397.24076856   -8.68412612]\n",
        "[ 0.  0.  0.  0.  0.]\n",
        "array must not contain infs or NaNs\n",
        "[  -1.39148028   -3.75667692   -6.61388541 -397.24076856   -8.68412612]\n",
        "[ 0.  0.  0.  0.  0.]\n",
        "array must not contain infs or NaNs\n",
        "[  -1.39148028   -3.75667692   -6.61388541 -397.253398     -8.68422606\n",
        "    0.        ]\n",
        "[ 0.  0.  0.  0.  0.  0.]\n",
        "array must not contain infs or NaNs\n",
        "[  -1.39148028   -3.75667692   -6.61388541 -422.33300318   -8.68455307\n",
        "    0.        ]\n",
        "[ 0.  0.  0.  0.  0.  0.]\n",
        "array must not contain infs or NaNs"
       ]
      },
      {
       "output_type": "stream",
       "stream": "stdout",
       "text": [
        "\n",
        "[  -1.39148028   -3.75667692   -6.61388541 -424.31170268  -12.21392508\n",
        "   10.1534361 ]\n",
        "[  0.          0.          0.          0.          0.         10.1534361]\n",
        "array must not contain infs or NaNs\n",
        "[  -1.39148028   -3.75667692   -6.61388541 -424.31291932  -17.63084146\n",
        "   10.15226403]\n",
        "[  0.           0.           0.           0.           0.          10.15226403]\n",
        "array must not contain infs or NaNs\n",
        "[  -1.39148028   -3.75667692   -6.61388541 -424.36255194  -20.16442609\n",
        "   10.15226403]\n",
        "[  0.           0.           0.           0.           0.          10.15226403]\n",
        "array must not contain infs or NaNs\n",
        "[  -1.39148028   -3.75667692   -6.61388541 -424.37157917  -20.21682296\n",
        "   20.30857508]\n",
        "[  0.           0.           0.           0.           0.          20.30857508]\n",
        "array must not contain infs or NaNs\n",
        "[  -1.39148028   -3.75667692   -6.61388541 -427.17055575  -25.08985033\n",
        "   20.30857037]\n",
        "[  0.           0.           0.           0.           0.          20.30857037]\n",
        "array must not contain infs or NaNs\n",
        "[  -1.39148028   -3.75667692   -6.61388541 -427.1735009   -25.10371058\n",
        "   16.88259813]\n",
        "[  0.           0.           0.           0.           0.          16.88259813]\n",
        "array must not contain infs or NaNs"
       ]
      },
      {
       "output_type": "stream",
       "stream": "stdout",
       "text": [
        "\n",
        "[  -1.39148028   -3.75667692   -6.61388541 -427.17399806  -29.74788979\n",
        "   16.88240545]\n",
        "[  0.           0.           0.           0.           0.          16.88240545]\n",
        "array must not contain infs or NaNs\n",
        "[  -1.39148028   -3.75667692   -6.61388541 -429.94388627  -30.08181314\n",
        "    7.40607074]\n",
        "[ 0.          0.          0.          0.          0.          7.40607074]\n",
        "array must not contain infs or NaNs\n",
        "[  -1.39148028   -3.75667692   -6.61388541 -430.01449191  -30.08702714\n",
        "    7.03363516]\n",
        "[ 0.          0.          0.          0.          0.          7.03363516]\n",
        "array must not contain infs or NaNs\n",
        "[  -1.39148028   -3.75667692   -6.61388541 -430.01449191  -30.08702714\n",
        "    7.03363516]\n",
        "[ 0.          0.          0.          0.          0.          7.03363516]\n",
        "array must not contain infs or NaNs"
       ]
      },
      {
       "output_type": "stream",
       "stream": "stdout",
       "text": [
        "\n",
        "[  -1.39148028   -3.75667692   -6.61388541 -430.01874814  -30.13215962\n",
        "    5.27471587]\n",
        "[ 0.          0.          0.          0.          0.          5.27471587]\n",
        "array must not contain infs or NaNs\n",
        "[  -1.39148028   -3.75667692   -6.61388541 -430.05821463  -30.13720613\n",
        "    4.89385309]\n",
        "[ 0.          0.          0.          0.          0.          4.89385309]\n",
        "array must not contain infs or NaNs\n",
        "[  -1.39148028   -3.75667692   -6.61388541 -430.08991667  -30.14158836\n",
        "    4.46396161]\n",
        "[ 0.          0.          0.          0.          0.          4.46396161]\n",
        "array must not contain infs or NaNs\n",
        "[  -1.39148028   -3.75667692   -6.61388541 -430.1644891   -30.16502624\n",
        "    0.57836643]\n",
        "[ 0.          0.          0.          0.          0.          0.57836643]\n",
        "array must not contain infs or NaNs\n",
        "[  -1.39148028   -3.75667692   -6.61388541 -430.74798124  -30.16523537\n",
        "   -1.36927547]\n",
        "[ 0.  0.  0.  0.  0.  0.]\n",
        "array must not contain infs or NaNs\n",
        "[  -1.39148028   -3.75667692   -6.61388541 -430.7479835   -30.1706393\n",
        "   -1.47455731]\n",
        "[ 0.  0.  0.  0.  0.  0.]\n",
        "array must not contain infs or NaNs\n",
        "[  -1.39148028   -3.75667692   -6.61388541 -430.77004831  -30.17332465\n",
        "   -1.43338486]"
       ]
      },
      {
       "output_type": "stream",
       "stream": "stdout",
       "text": [
        "\n",
        "[ 0.  0.  0.  0.  0.  0.]\n",
        "array must not contain infs or NaNs\n",
        "[  -1.39148028   -3.75667692   -6.61388541 -430.77004833  -30.17516323\n",
        "   -1.61000027]\n",
        "[ 0.  0.  0.  0.  0.  0.]\n",
        "array must not contain infs or NaNs\n",
        "[  -1.39148028   -3.75667692   -6.61388541 -430.77333104  -30.1787154\n",
        "   -1.23942732]\n",
        "[ 0.  0.  0.  0.  0.  0.]\n",
        "array must not contain infs or NaNs\n",
        "[  -1.39148028   -3.75667692   -6.61388541 -430.87471896  -30.17883388\n",
        "   -2.2124372 ]\n",
        "[ 0.  0.  0.  0.  0.  0.]\n",
        "array must not contain infs or NaNs\n",
        "[  -1.39148028   -3.75667692   -6.61388541 -430.87472196  -30.18260495\n",
        "   -1.80613043]\n",
        "[ 0.  0.  0.  0.  0.  0.]\n",
        "array must not contain infs or NaNs\n",
        "[  -1.39148028   -3.75667692   -6.61388541 -430.9178668   -30.18285347\n",
        "   -2.40765397]\n",
        "[ 0.  0.  0.  0.  0.  0.]\n",
        "array must not contain infs or NaNs\n",
        "[  -1.39148028   -3.75667692   -6.61388541 -430.91786732  -30.18471268\n",
        "   -2.12345068]\n",
        "[ 0.  0.  0.  0.  0.  0.]\n",
        "array must not contain infs or NaNs"
       ]
      },
      {
       "output_type": "stream",
       "stream": "stdout",
       "text": [
        "\n",
        "[  -1.39148028   -3.75667692   -6.61388541 -430.93168573  -30.18527219\n",
        "   -2.40343719]\n",
        "[ 0.  0.  0.  0.  0.  0.]\n",
        "array must not contain infs or NaNs\n",
        "[  -1.39148028   -3.75667692   -6.61388541 -430.93168573  -30.18592871\n",
        "   -2.11420245]\n",
        "[ 0.  0.  0.  0.  0.  0.]\n",
        "array must not contain infs or NaNs\n",
        "[  -1.39148028   -3.75667692   -6.61388541 -430.93168573  -30.18592942\n",
        "   -2.49445983]\n",
        "[ 0.  0.  0.  0.  0.  0.]\n",
        "array must not contain infs or NaNs\n",
        "[  -1.39148028   -3.75667692   -6.61388541 -430.95420062  -30.18604359\n",
        "   -3.38683601]\n",
        "[ 0.  0.  0.  0.  0.  0.]\n",
        "array must not contain infs or NaNs\n",
        "[  -1.39148028   -3.75667692   -6.61388541 -431.04447791  -30.18618272\n",
        "   -3.99080425]\n",
        "[ 0.  0.  0.  0.  0.  0.]\n",
        "array must not contain infs or NaNs\n",
        "[  -1.39148028   -3.75667692   -6.61388541 -431.04448353  -30.18731159\n",
        "   -3.34239921]\n",
        "[ 0.  0.  0.  0.  0.  0.]\n",
        "array must not contain infs or NaNs"
       ]
      },
      {
       "output_type": "stream",
       "stream": "stdout",
       "text": [
        "\n",
        "[  -1.39148028   -3.75667692   -6.61388541 -431.07264503  -30.18792567\n",
        "   -3.13200055]\n",
        "[ 0.  0.  0.  0.  0.  0.]\n",
        "array must not contain infs or NaNs\n",
        "[  -1.39148028   -3.75667692   -6.61388541 -431.07264534  -30.1881742\n",
        "   -3.17827955]\n",
        "[ 0.  0.  0.  0.  0.  0.]\n",
        "array must not contain infs or NaNs\n",
        "[  -1.39148028   -3.75667692   -6.61388541 -431.09511481  -30.18844655\n",
        "   -3.06339719]\n",
        "[ 0.  0.  0.  0.  0.  0.]\n",
        "array must not contain infs or NaNs\n",
        "[  -1.39148028   -3.75667692   -6.61388541 -431.10393434  -30.18846989\n",
        "   -4.74000655]\n",
        "[ 0.  0.  0.  0.  0.  0.]\n",
        "array must not contain infs or NaNs\n",
        "[  -1.39148028   -3.75667692   -6.61388541 -431.10393935  -30.18855983\n",
        "   -5.13705108]\n",
        "[ 0.  0.  0.  0.  0.  0.]\n",
        "array must not contain infs or NaNs\n",
        "[  -1.39148028   -3.75667692   -6.61388541 -431.1619449   -30.18859826\n",
        "   -5.92603766]\n",
        "[ 0.  0.  0.  0.  0.  0.]\n",
        "array must not contain infs or NaNs\n",
        "[  -1.39148028   -3.75667692   -6.61388541 -431.1619449   -30.18863269\n",
        "   -5.26320332]"
       ]
      },
      {
       "output_type": "stream",
       "stream": "stdout",
       "text": [
        "\n",
        "[ 0.  0.  0.  0.  0.  0.]\n",
        "array must not contain infs or NaNs\n",
        "[  -1.39148028   -3.75667692   -6.61388541 -431.1640325   -30.18873941\n",
        "   -5.1685964 ]\n",
        "[ 0.  0.  0.  0.  0.  0.]\n",
        "array must not contain infs or NaNs\n",
        "[  -1.39148028   -3.75667692   -6.61388541 -431.1640325   -30.18873941\n",
        "   -5.1685964 ]\n",
        "[ 0.  0.  0.  0.  0.  0.]\n",
        "array must not contain infs or NaNs\n",
        "[  -1.39148028   -3.75667692   -6.61388541 -431.16426539  -30.18875958\n",
        "   -6.22215216]\n",
        "[ 0.  0.  0.  0.  0.  0.]\n",
        "array must not contain infs or NaNs\n",
        "[  -1.39148028   -3.75667692   -6.61388541 -431.16946882  -30.18883464\n",
        "   -6.01202719]\n",
        "[ 0.  0.  0.  0.  0.  0.]\n",
        "array must not contain infs or NaNs\n",
        "[  -1.39148028   -3.75667692   -6.61388541 -431.16947286  -30.1888917\n",
        "   -5.69242596]\n",
        "[ 0.  0.  0.  0.  0.  0.]\n",
        "array must not contain infs or NaNs\n",
        "[  -1.39148028   -3.75667692   -6.61388541 -431.17129261  -30.18898452\n",
        "   -5.06434849]\n",
        "[ 0.  0.  0.  0.  0.  0.]\n",
        "array must not contain infs or NaNs"
       ]
      },
      {
       "output_type": "stream",
       "stream": "stdout",
       "text": [
        "\n",
        "[  -1.39148028   -3.75667692   -6.61388541 -431.17129431  -30.18909913\n",
        "   -3.75327714]\n",
        "[ 0.  0.  0.  0.  0.  0.]\n",
        "array must not contain infs or NaNs\n",
        "[  -1.39148028   -3.75667692   -6.61388541 -431.25652542  -30.18910542\n",
        "   -5.03223335]\n",
        "[ 0.  0.  0.  0.  0.  0.]\n",
        "array must not contain infs or NaNs\n",
        "[  -1.39148028   -3.75667692   -6.61388541 -431.25652565  -30.18911941\n",
        "   -4.84121758]\n",
        "[ 0.  0.  0.  0.  0.  0.]\n",
        "array must not contain infs or NaNs\n",
        "[  -1.39148028   -3.75667692   -6.61388541 -431.2975518   -30.18913722\n",
        "   -5.16531432]\n",
        "[ 0.  0.  0.  0.  0.  0.]\n",
        "array must not contain infs or NaNs\n",
        "[  -1.39148028   -3.75667692   -6.61388541 -431.30426758  -30.1891603\n",
        "   -4.46835349]"
       ]
      },
      {
       "output_type": "stream",
       "stream": "stdout",
       "text": [
        "\n",
        "[ 0.  0.  0.  0.  0.  0.]\n",
        "array must not contain infs or NaNs\n",
        "[  -1.39148028   -3.75667692   -6.61388541 -431.30426758  -30.1891603\n",
        "   -4.46835349]\n",
        "[ 0.  0.  0.  0.  0.  0.]\n",
        "array must not contain infs or NaNs\n",
        "[  -1.39148028   -3.75667692   -6.61388541 -431.30426906  -30.1891621\n",
        "   -5.97554027]\n",
        "[ 0.  0.  0.  0.  0.  0.]\n",
        "array must not contain infs or NaNs\n",
        "[  -1.39148028   -3.75667692   -6.61388541 -431.30426907  -30.18917802\n",
        "   -4.14331603]\n",
        "[ 0.  0.  0.  0.  0.  0.]\n",
        "array must not contain infs or NaNs\n",
        "[  -1.39148028   -3.75667692   -6.61388541 -431.30426919  -30.18917964\n",
        "   -4.63757399]\n",
        "[ 0.  0.  0.  0.  0.  0.]\n",
        "array must not contain infs or NaNs\n",
        "[  -1.39148028   -3.75667692   -6.61388541 -431.30427111  -30.18918185\n",
        "   -4.50122433]\n",
        "[ 0.  0.  0.  0.  0.  0.]\n",
        "array must not contain infs or NaNs\n",
        "[  -1.39148028   -3.75667692   -6.61388541 -431.32189428  -30.18918228\n",
        "   -6.24758141]\n",
        "[ 0.  0.  0.  0.  0.  0.]\n",
        "array must not contain infs or NaNs"
       ]
      },
      {
       "output_type": "stream",
       "stream": "stdout",
       "text": [
        "\n",
        "[  -1.39148028   -3.75667692   -6.61388541 -431.32189585  -30.1891825\n",
        "   -8.40934956]\n",
        "[ 0.  0.  0.  0.  0.  0.]\n",
        "array must not contain infs or NaNs\n",
        "[  -1.39148028   -3.75667692   -6.61388541 -431.32189585  -30.18918261\n",
        "   -9.9946394 ]\n",
        "[ 0.  0.  0.  0.  0.  0.]\n",
        "array must not contain infs or NaNs\n",
        "[  -1.39148028   -3.75667692   -6.61388541 -431.32189585  -30.18918262\n",
        "  -10.03679938]\n",
        "[ 0.  0.  0.  0.  0.  0.]\n",
        "array must not contain infs or NaNs\n",
        "[  -1.39148028   -3.75667692   -6.61388541 -431.32190462  -30.18918319\n",
        "   -9.50095408]\n",
        "[ 0.  0.  0.  0.  0.  0.]\n",
        "array must not contain infs or NaNs\n",
        "[  -1.39148028   -3.75667692   -6.61388541 -431.33751613  -30.18918331\n",
        "  -10.49435931]\n",
        "[ 0.  0.  0.  0.  0.  0.]\n",
        "array must not contain infs or NaNs\n",
        "[  -1.39148028   -3.75667692   -6.61388541 -431.34619574  -30.18918337\n",
        "  -11.8780732 ]\n",
        "[ 0.  0.  0.  0.  0.  0.]\n",
        "array must not contain infs or NaNs\n",
        "[  -1.39148028   -3.75667692   -6.61388541 -431.34619574  -30.1891834\n",
        "  -11.06954005]"
       ]
      },
      {
       "output_type": "stream",
       "stream": "stdout",
       "text": [
        "\n",
        "[ 0.  0.  0.  0.  0.  0.]\n",
        "array must not contain infs or NaNs\n",
        "[  -1.39148028   -3.75667692   -6.61388541 -431.34619638  -30.18918343\n",
        "  -11.89779006]\n",
        "[ 0.  0.  0.  0.  0.  0.]\n",
        "array must not contain infs or NaNs\n",
        "[  -1.39148028   -3.75667692   -6.61388541 -431.34619638  -30.18918346\n",
        "  -11.81482148]\n",
        "[ 0.  0.  0.  0.  0.  0.]\n",
        "array must not contain infs or NaNs\n",
        "[  -1.39148028   -3.75667692   -6.61388541 -431.34738727  -30.18918357\n",
        "  -10.98808708]\n",
        "[ 0.  0.  0.  0.  0.  0.]\n",
        "array must not contain infs or NaNs\n",
        "[  -1.39148028   -3.75667692   -6.61388541 -431.3486059   -30.18918359\n",
        "  -11.52529267]\n",
        "[ 0.  0.  0.  0.  0.  0.]\n",
        "array must not contain infs or NaNs\n",
        "[  -1.39148028   -3.75667692   -6.61388541 -431.3486095   -30.1891836\n",
        "  -12.45348488]\n",
        "[ 0.  0.  0.  0.  0.  0.]\n",
        "array must not contain infs or NaNs\n",
        "[  -1.39148028   -3.75667692   -6.61388541 -431.34869014  -30.1891836\n",
        "  -14.08575613]\n",
        "[ 0.  0.  0.  0.  0.  0.]\n",
        "array must not contain infs or NaNs"
       ]
      },
      {
       "output_type": "stream",
       "stream": "stdout",
       "text": [
        "\n",
        "[  -1.39148028   -3.75667692   -6.61388541 -431.35603801  -30.18918361\n",
        "  -14.80457163]\n",
        "[ 0.  0.  0.  0.  0.  0.]\n",
        "array must not contain infs or NaNs\n",
        "[  -1.39148028   -3.75667692   -6.61388541 -431.35603802  -30.18918361\n",
        "  -15.21148803]\n",
        "[ 0.  0.  0.  0.  0.  0.]\n",
        "array must not contain infs or NaNs\n",
        "[  -1.39148028   -3.75667692   -6.61388541 -431.41629864  -30.18918361\n",
        "  -17.70048347]\n",
        "[ 0.  0.  0.  0.  0.  0.]\n",
        "array must not contain infs or NaNs\n",
        "[  -1.39148028   -3.75667692   -6.61388541 -431.41630848  -30.18918362\n",
        "  -18.68519159]\n",
        "[ 0.  0.  0.  0.  0.  0.]\n",
        "array must not contain infs or NaNs\n",
        "[  -1.39148028   -3.75667692   -6.61388541 -431.41630919  -30.18918362\n",
        "  -19.07965612]\n",
        "[ 0.  0.  0.  0.  0.  0.]\n",
        "array must not contain infs or NaNs\n",
        "[  -1.39148028   -3.75667692   -6.61388541 -431.41630922  -30.18918362\n",
        "  -16.46229574]\n",
        "[ 0.  0.  0.  0.  0.  0.]\n",
        "array must not contain infs or NaNs"
       ]
      },
      {
       "output_type": "stream",
       "stream": "stdout",
       "text": [
        "\n",
        "[  -1.39148028   -3.75667692   -6.61388541 -431.41630922  -30.18918362\n",
        "  -17.0565321 ]\n",
        "[ 0.  0.  0.  0.  0.  0.]\n",
        "array must not contain infs or NaNs\n",
        "[  -1.39148028   -3.75667692   -6.61388541 -431.41630922  -30.18918362\n",
        "  -18.43618747]\n",
        "[ 0.  0.  0.  0.  0.  0.]\n",
        "array must not contain infs or NaNs\n",
        "[  -1.39148028   -3.75667692   -6.61388541 -431.41630922  -30.18918362\n",
        "  -18.40953551]\n",
        "[ 0.  0.  0.  0.  0.  0.]\n",
        "array must not contain infs or NaNs\n",
        "[  -1.39148028   -3.75667692   -6.61388541 -431.49584231  -30.18918362\n",
        "  -21.53201008]\n",
        "[ 0.  0.  0.  0.  0.  0.]\n",
        "array must not contain infs or NaNs\n",
        "[  -1.39148028   -3.75667692   -6.61388541 -431.49593908  -30.18918362\n",
        "  -23.290255  ]\n",
        "[ 0.  0.  0.  0.  0.  0.]\n",
        "array must not contain infs or NaNs\n",
        "[  -1.39148028   -3.75667692   -6.61388541 -431.49596931  -30.18918362\n",
        "  -24.32416487]\n",
        "[ 0.  0.  0.  0.  0.  0.]\n",
        "array must not contain infs or NaNs"
       ]
      },
      {
       "output_type": "stream",
       "stream": "stdout",
       "text": [
        "\n",
        "[  -1.39148028   -3.75667692   -6.61388541 -431.49596931  -30.18918362\n",
        "  -23.22269493]\n",
        "[ 0.  0.  0.  0.  0.  0.]\n",
        "array must not contain infs or NaNs\n",
        "[  -1.39148028   -3.75667692   -6.61388541 -431.49596931  -30.18918362\n",
        "  -26.12985197]\n",
        "[ 0.  0.  0.  0.  0.  0.]\n",
        "array must not contain infs or NaNs\n",
        "[  -1.39148028   -3.75667692   -6.61388541 -431.49596931  -30.18918362\n",
        "  -27.76888694]\n",
        "[ 0.  0.  0.  0.  0.  0.]\n",
        "array must not contain infs or NaNs\n",
        "[  -1.39148028   -3.75667692   -6.61388541 -431.49596931  -30.18918362\n",
        "  -30.27984358]\n",
        "[ 0.  0.  0.  0.  0.  0.]\n",
        "array must not contain infs or NaNs\n",
        "[  -1.39148028   -3.75667692   -6.61388541 -431.49596932  -30.18918362\n",
        "  -32.14678519]\n",
        "[ 0.  0.  0.  0.  0.  0.]\n",
        "array must not contain infs or NaNs\n",
        "[  -1.39148028   -3.75667692   -6.61388541 -431.49596932  -30.18918362\n",
        "  -33.27537962]\n",
        "[ 0.  0.  0.  0.  0.  0.]\n",
        "array must not contain infs or NaNs"
       ]
      },
      {
       "output_type": "stream",
       "stream": "stdout",
       "text": [
        "\n",
        "[  -1.39148028   -3.75667692   -6.61388541 -431.49596932  -30.18918362\n",
        "  -33.27537962]\n",
        "[ 0.  0.  0.  0.  0.  0.]\n",
        "array must not contain infs or NaNs\n",
        "[  -1.39148028   -3.75667692   -6.61388541 -431.49598095  -30.18918362\n",
        "  -33.13660988]\n",
        "[ 0.  0.  0.  0.  0.  0.]\n",
        "array must not contain infs or NaNs\n",
        "[  -1.39148028   -3.75667692   -6.61388541 -431.49598095  -30.18918362\n",
        "  -34.04034693]\n",
        "[ 0.  0.  0.  0.  0.  0.]\n",
        "array must not contain infs or NaNs\n",
        "[  -1.39148028   -3.75667692   -6.61388541 -431.49598199  -30.18918362\n",
        "  -34.41621687]\n",
        "[ 0.  0.  0.  0.  0.  0.]"
       ]
      },
      {
       "output_type": "stream",
       "stream": "stdout",
       "text": [
        "\n",
        "array must not contain infs or NaNs\n",
        "[  -1.39148028   -3.75667692   -6.61388541 -431.49645846  -30.18918362\n",
        "  -35.62913214]\n",
        "[ 0.  0.  0.  0.  0.  0.]\n",
        "array must not contain infs or NaNs\n",
        "[  -1.39148028   -3.75667692   -6.61388541 -431.49645846  -30.18918362\n",
        "  -35.62913214]\n",
        "[ 0.  0.  0.  0.  0.  0.]\n",
        "array must not contain infs or NaNs\n",
        "[  -1.39148028   -3.75667692   -6.61388541 -431.49645846  -30.18918362\n",
        "  -35.11644005]\n",
        "[ 0.  0.  0.  0.  0.  0.]\n",
        "array must not contain infs or NaNs\n",
        "[  -1.39148028   -3.75667692   -6.61388541 -431.49645846  -30.18918362\n",
        "  -34.63454985]\n",
        "[ 0.  0.  0.  0.  0.  0.]\n",
        "array must not contain infs or NaNs\n",
        "[  -1.39148028   -3.75667692   -6.61388541 -431.49645846  -30.18918362\n",
        "  -33.37631619]\n",
        "[ 0.  0.  0.  0.  0.  0.]\n",
        "array must not contain infs or NaNs\n",
        "[  -1.39148028   -3.75667692   -6.61388541 -431.49645846  -30.18918362\n",
        "  -33.37631619]"
       ]
      },
      {
       "output_type": "stream",
       "stream": "stdout",
       "text": [
        "\n",
        "[ 0.  0.  0.  0.  0.  0.]\n",
        "array must not contain infs or NaNs\n",
        "[  -1.39148028   -3.75667692   -6.61388541 -431.49645846  -30.18918362\n",
        "  -31.51430399]\n",
        "[ 0.  0.  0.  0.  0.  0.]\n",
        "array must not contain infs or NaNs\n",
        "[  -1.39148028   -3.75667692   -6.61388541 -431.49645847  -30.18918362\n",
        "  -33.3034136 ]\n",
        "[ 0.  0.  0.  0.  0.  0.]\n",
        "array must not contain infs or NaNs\n",
        "[  -1.39148028   -3.75667692   -6.61388541 -431.49659162  -30.18918362\n",
        "  -33.19343444]\n",
        "[ 0.  0.  0.  0.  0.  0.]\n",
        "array must not contain infs or NaNs\n",
        "[  -1.39148028   -3.75667692   -6.61388541 -431.49727943  -30.18918362\n",
        "  -34.01700933]\n",
        "[ 0.  0.  0.  0.  0.  0.]\n",
        "array must not contain infs or NaNs\n",
        "[  -1.39148028   -3.75667692   -6.61388541 -431.49727977  -30.18918362\n",
        "  -32.71810217]\n",
        "[ 0.  0.  0.  0.  0.  0.]\n",
        "array must not contain infs or NaNs\n",
        "[  -1.39148028   -3.75667692   -6.61388541 -431.49727977  -30.18918362\n",
        "  -36.32197869]"
       ]
      },
      {
       "output_type": "stream",
       "stream": "stdout",
       "text": [
        "\n",
        "[ 0.  0.  0.  0.  0.  0.]\n",
        "array must not contain infs or NaNs\n",
        "[  -1.39148028   -3.75667692   -6.61388541 -431.49750242  -30.18918362\n",
        "  -37.37434726]\n",
        "[ 0.  0.  0.  0.  0.  0.]\n",
        "array must not contain infs or NaNs\n",
        "[  -1.39148028   -3.75667692   -6.61388541 -431.49750242  -30.18918362\n",
        "  -39.58760544]\n",
        "[ 0.  0.  0.  0.  0.  0.]\n",
        "array must not contain infs or NaNs\n",
        "[  -1.39148028   -3.75667692   -6.61388541 -431.49750242  -30.18918362\n",
        "  -40.27852069]\n",
        "[ 0.  0.  0.  0.  0.  0.]\n",
        "array must not contain infs or NaNs\n",
        "[  -1.39148028   -3.75667692   -6.61388541 -431.4975034   -30.18918362\n",
        "  -39.985483  ]\n",
        "[ 0.  0.  0.  0.  0.  0.]\n",
        "array must not contain infs or NaNs\n",
        "[  -1.39148028   -3.75667692   -6.61388541 -431.4975034   -30.18918362\n",
        "  -41.27729087]\n",
        "[ 0.  0.  0.  0.  0.  0.]\n",
        "array must not contain infs or NaNs\n",
        "[  -1.39148028   -3.75667692   -6.61388541 -431.4975034   -30.18918362\n",
        "  -42.69280353]"
       ]
      },
      {
       "output_type": "stream",
       "stream": "stdout",
       "text": [
        "\n",
        "[ 0.  0.  0.  0.  0.  0.]\n",
        "array must not contain infs or NaNs\n",
        "[  -1.39148028   -3.75667692   -6.61388541 -431.49765014  -30.18918362\n",
        "  -44.07006743]\n",
        "[ 0.  0.  0.  0.  0.  0.]\n",
        "array must not contain infs or NaNs\n",
        "[  -1.39148028   -3.75667692   -6.61388541 -431.49765014  -30.18918362\n",
        "  -47.4935945 ]\n",
        "[ 0.  0.  0.  0.  0.  0.]\n",
        "array must not contain infs or NaNs\n",
        "[  -1.39148028   -3.75667692   -6.61388541 -431.49769329  -30.18918362\n",
        "  -49.27931029]\n",
        "[ 0.  0.  0.  0.  0.  0.]\n",
        "array must not contain infs or NaNs\n",
        "[  -1.39148028   -3.75667692   -6.61388541 -431.49769329  -30.18918362\n",
        "  -49.92026644]\n",
        "[ 0.  0.  0.  0.  0.  0.]\n",
        "array must not contain infs or NaNs\n",
        "[  -1.39148028   -3.75667692   -6.61388541 -431.49769482  -30.18918362\n",
        "  -49.68001686]\n",
        "[ 0.  0.  0.  0.  0.  0.]\n",
        "array must not contain infs or NaNs\n",
        "[  -1.39148028   -3.75667692   -6.61388541 -431.49769745  -30.18918362\n",
        "  -51.53148636]"
       ]
      },
      {
       "output_type": "stream",
       "stream": "stdout",
       "text": [
        "\n",
        "[ 0.  0.  0.  0.  0.  0.]\n",
        "array must not contain infs or NaNs\n",
        "[  -1.39148028   -3.75667692   -6.61388541 -431.49769745  -30.18918362\n",
        "  -54.73711591]\n",
        "[ 0.  0.  0.  0.  0.  0.]\n",
        "array must not contain infs or NaNs\n",
        "[  -1.39148028   -3.75667692   -6.61388541 -431.49769766  -30.18918362\n",
        "  -54.63742893]\n",
        "[ 0.  0.  0.  0.  0.  0.]\n",
        "array must not contain infs or NaNs\n",
        "[  -1.39148028   -3.75667692   -6.61388541 -431.49769766  -30.18918362\n",
        "  -53.2649757 ]\n",
        "[ 0.  0.  0.  0.  0.  0.]\n",
        "array must not contain infs or NaNs\n",
        "[  -1.39148028   -3.75667692   -6.61388541 -431.49769766  -30.18918362\n",
        "  -55.95422741]\n",
        "[ 0.  0.  0.  0.  0.  0.]\n",
        "array must not contain infs or NaNs\n",
        "[  -1.39148028   -3.75667692   -6.61388541 -431.49769766  -30.18918362\n",
        "  -56.89686245]\n",
        "[ 0.  0.  0.  0.  0.  0.]\n",
        "array must not contain infs or NaNs\n",
        "[  -1.39148028   -3.75667692   -6.61388541 -431.49769766  -30.18918362\n",
        "  -60.23600684]"
       ]
      },
      {
       "output_type": "stream",
       "stream": "stdout",
       "text": [
        "\n",
        "[ 0.  0.  0.  0.  0.  0.]\n",
        "array must not contain infs or NaNs\n",
        "[  -1.39148028   -3.75667692   -6.61388541 -431.49769769  -30.18918362\n",
        "  -60.78351111]\n",
        "[ 0.  0.  0.  0.  0.  0.]\n",
        "array must not contain infs or NaNs\n",
        "[  -1.39148028   -3.75667692   -6.61388541 -431.49769769  -30.18918362\n",
        "  -59.63791668]\n",
        "[ 0.  0.  0.  0.  0.  0.]\n",
        "array must not contain infs or NaNs\n",
        "[  -1.39148028   -3.75667692   -6.61388541 -431.49769769  -30.18918362\n",
        "  -60.86691621]\n",
        "[ 0.  0.  0.  0.  0.  0.]\n",
        "array must not contain infs or NaNs\n",
        "[  -1.39148028   -3.75667692   -6.61388541 -431.49769907  -30.18918362\n",
        "  -60.57847793]\n",
        "[ 0.  0.  0.  0.  0.  0.]\n",
        "array must not contain infs or NaNs\n",
        "[  -1.39148028   -3.75667692   -6.61388541 -431.49769907  -30.18918362\n",
        "  -66.09796986]\n",
        "[ 0.  0.  0.  0.  0.  0.]\n",
        "array must not contain infs or NaNs\n",
        "[  -1.39148028   -3.75667692   -6.61388541 -431.49769926  -30.18918362\n",
        "  -66.14641508]"
       ]
      },
      {
       "output_type": "stream",
       "stream": "stdout",
       "text": [
        "\n",
        "[ 0.  0.  0.  0.  0.  0.]\n",
        "array must not contain infs or NaNs\n",
        "[  -1.39148028   -3.75667692   -6.61388541 -431.49770387  -30.18918362\n",
        "  -67.99629595]\n",
        "[ 0.  0.  0.  0.  0.  0.]\n",
        "array must not contain infs or NaNs\n",
        "[  -1.39148028   -3.75667692   -6.61388541 -431.49770396  -30.18918362\n",
        "  -67.91162875]\n",
        "[ 0.  0.  0.  0.  0.  0.]\n",
        "array must not contain infs or NaNs\n"
       ]
      }
     ],
     "prompt_number": 9
    },
    {
     "cell_type": "code",
     "collapsed": false,
     "input": [
      "1e-323"
     ],
     "language": "python",
     "metadata": {},
     "outputs": [
      {
       "output_type": "pyout",
       "prompt_number": 85,
       "text": [
        "1e-323"
       ]
      }
     ],
     "prompt_number": 85
    },
    {
     "cell_type": "code",
     "collapsed": false,
     "input": [
      "clf(); plot(err); show()"
     ],
     "language": "python",
     "metadata": {},
     "outputs": [
      {
       "ename": "SyntaxError",
       "evalue": "invalid syntax (<ipython-input-77-92a4c67cc54b>, line 1)",
       "output_type": "pyerr",
       "traceback": [
        "\u001b[0;36m  File \u001b[0;32m\"<ipython-input-77-92a4c67cc54b>\"\u001b[0;36m, line \u001b[0;32m1\u001b[0m\n\u001b[0;31m    3clf(); plot(err); show()\u001b[0m\n\u001b[0m       ^\u001b[0m\n\u001b[0;31mSyntaxError\u001b[0m\u001b[0;31m:\u001b[0m invalid syntax\n"
       ]
      }
     ],
     "prompt_number": 77
    },
    {
     "cell_type": "code",
     "collapsed": false,
     "input": [
      "clf()\n",
      "proj=[7,8]\n",
      "plot(hist[:,16], hist[:,17], '.', ms=2)\n",
      "#plot(zeros(10), hist[-11:-1,0], 'o')\n",
      "COLORS = ['r', 'g', 'b', 'k', 'm']*10000\n",
      "a=subplot(111)\n",
      "els = ag.sm_model.imle.to_gmm().inference([],proj,[]).get_display_ellipses2D(COLORS)\n",
      "for el in els:\n",
      "    a.add_patch(el)\n",
      "axis('tight')"
     ],
     "language": "python",
     "metadata": {},
     "outputs": [
      {
       "output_type": "pyout",
       "prompt_number": 28,
       "text": [
        "(0.039463654821531323,\n",
        " 1.0811880396572771,\n",
        " -0.42880348438535359,\n",
        " 0.8803836613866991)"
       ]
      }
     ],
     "prompt_number": 28
    },
    {
     "cell_type": "code",
     "collapsed": false,
     "input": [
      "print ag.sm_model.imle.number_of_experts"
     ],
     "language": "python",
     "metadata": {},
     "outputs": [
      {
       "output_type": "stream",
       "stream": "stdout",
       "text": [
        "11\n"
       ]
      }
     ],
     "prompt_number": 38
    },
    {
     "cell_type": "code",
     "collapsed": false,
     "input": [
      "ag.i_model.imle.number_of_experts"
     ],
     "language": "python",
     "metadata": {},
     "outputs": [
      {
       "output_type": "pyout",
       "prompt_number": 14,
       "text": [
        "6"
       ]
      }
     ],
     "prompt_number": 14
    },
    {
     "cell_type": "code",
     "collapsed": false,
     "input": [
      "gmm_im=ag.i_model.imle.to_gmm()"
     ],
     "language": "python",
     "metadata": {},
     "outputs": [],
     "prompt_number": 53
    },
    {
     "cell_type": "code",
     "collapsed": false,
     "input": [
      "gmm_im.n_components"
     ],
     "language": "python",
     "metadata": {},
     "outputs": [
      {
       "output_type": "pyout",
       "prompt_number": 54,
       "text": [
        "6"
       ]
      }
     ],
     "prompt_number": 54
    },
    {
     "cell_type": "code",
     "collapsed": false,
     "input": [
      "sys.path.append('/home/clement/Documents/Boulot/GENERAL/CODE/python/')"
     ],
     "language": "python",
     "metadata": {},
     "outputs": [],
     "prompt_number": 55
    },
    {
     "cell_type": "code",
     "collapsed": false,
     "input": [
      "from my_ellipsoid import ellipsoid_3d"
     ],
     "language": "python",
     "metadata": {},
     "outputs": [],
     "prompt_number": 56
    },
    {
     "cell_type": "code",
     "collapsed": false,
     "input": [
      "from mpl_toolkits.mplot3d import Axes3D"
     ],
     "language": "python",
     "metadata": {},
     "outputs": [],
     "prompt_number": 57
    },
    {
     "cell_type": "code",
     "collapsed": false,
     "input": [
      "tt=linspace(0,hist.shape[0],hist.shape[0])"
     ],
     "language": "python",
     "metadata": {},
     "outputs": [],
     "prompt_number": 58
    },
    {
     "cell_type": "code",
     "collapsed": false,
     "input": [
      "proj = [0,1,3]\n",
      "fig = figure()\n",
      "ax = fig.add_subplot(111, projection='3d')\n",
      "xlabel('X')\n",
      "ylabel('Y')\n",
      "ax.plot(linspace(0,hist.shape[0], hist.shape[0]), hist[:,0], hist[:,-1], '.', ms=0.8)\n",
      "gmm_proj = gmm_im.inference([], proj, [])\n",
      "for k, (weight_k, mean_k, covar_k) in enumerate(gmm_proj):\n",
      "    x,y,z = ellipsoid_3d(mean_k, covar_k)\n",
      "    ax.plot_wireframe(x, y, z,  rstride=4, cstride=4, color='b', alpha=0.2)"
     ],
     "language": "python",
     "metadata": {},
     "outputs": [],
     "prompt_number": 59
    },
    {
     "cell_type": "code",
     "collapsed": false,
     "input": [
      "print ag.sm_model.imle.to_gmm().inference(i_dims, inf_dims, array([[0.],[0.]])).covars_[-3,:,:]"
     ],
     "language": "python",
     "metadata": {},
     "outputs": [
      {
       "output_type": "stream",
       "stream": "stdout",
       "text": [
        "[[ 0.00760271 -0.          0.          0.          0.         -0.         -0.        ]\n",
        " [-0.          0.00756139 -0.         -0.         -0.          0.          0.        ]\n",
        " [ 0.         -0.          0.0075996  -0.00012654 -0.00017242 -0.         -0.        ]\n",
        " [ 0.         -0.         -0.00012654  0.02058054 -0.01117806 -0.         -0.        ]\n",
        " [ 0.         -0.         -0.00017242 -0.01117806  0.01541503 -0.         -0.        ]\n",
        " [-0.          0.         -0.         -0.         -0.          0.0075632\n",
        "   0.        ]\n",
        " [-0.          0.         -0.         -0.         -0.          0.\n",
        "   0.00759766]]\n"
       ]
      }
     ],
     "prompt_number": 40
    },
    {
     "cell_type": "code",
     "collapsed": false,
     "input": [
      "print ag.sm_model.imle.predict_inverse([0.,0.])[1]"
     ],
     "language": "python",
     "metadata": {},
     "outputs": [
      {
       "output_type": "stream",
       "stream": "stdout",
       "text": [
        "[[[ 1.95086271 -0.          0.          0.          0.         -0.         -0.        ]\n",
        "  [-0.          1.94025814 -0.         -0.         -0.          0.          0.        ]\n",
        "  [ 0.         -0.          1.95006367 -0.03246914 -0.04424376 -0.         -0.        ]\n",
        "  [ 0.         -0.         -0.03246914  5.28098332 -2.86830089 -0.         -0.        ]\n",
        "  [ 0.         -0.         -0.04424376 -2.86830089  3.9555095  -0.         -0.        ]\n",
        "  [-0.          0.         -0.         -0.         -0.          1.94072337\n",
        "    0.        ]\n",
        "  [-0.          0.         -0.         -0.         -0.          0.\n",
        "    1.94956615]]]\n"
       ]
      }
     ],
     "prompt_number": 47
    },
    {
     "cell_type": "code",
     "collapsed": false,
     "input": [
      "gmm_im.covars_"
     ],
     "language": "python",
     "metadata": {},
     "outputs": [
      {
       "output_type": "pyout",
       "prompt_number": 60,
       "text": [
        "array([[[   66.65355452,     8.41102192,     8.84037432,    -1.39148028],\n",
        "        [    8.41102192,    52.02169366,     4.38688237,   -41.81587326],\n",
        "        [    8.84037432,     4.38688237,    54.00538377,   -27.05846061],\n",
        "        [   -1.39148028,   -41.81587326,   -27.05846061,    45.35690605]],\n",
        "\n",
        "       [[   56.72370005,    -3.62617937,    10.67742633,    -3.75667692],\n",
        "        [   -3.62617937,    55.23813345,    12.77944118,    -7.46970105],\n",
        "        [   10.67742633,    12.77944118,    55.76240152,     0.39881762],\n",
        "        [   -3.75667692,    -7.46970105,     0.39881762,     1.69483093]],\n",
        "\n",
        "       [[   76.71639667,    -6.74890106,     4.63468306,    -6.61388541],\n",
        "        [   -6.74890106,    28.79534046,    -4.29655808,    13.24507424],\n",
        "        [    4.63468306,    -4.29655808,    29.34314842,   -28.78955817],\n",
        "        [   -6.61388541,    13.24507424,   -28.78955817,    31.25912463]],\n",
        "\n",
        "       [[ 2817.01285738,  -205.4962628 ,   411.3397816 ,  -431.49770396],\n",
        "        [ -205.4962628 ,    26.87077093,   -32.72910171,    42.09771543],\n",
        "        [  411.3397816 ,   -32.72910171,    77.83699381,   -77.15163717],\n",
        "        [ -431.49770396,    42.09771543,   -77.15163717,    83.7053687 ]],\n",
        "\n",
        "       [[  212.42545802,   -15.0109066 ,    26.84478285,   -30.18918362],\n",
        "        [  -15.0109066 ,    25.38148936,    -2.40519344,    18.72303151],\n",
        "        [   26.84478285,    -2.40519344,    34.05855962,   -27.6705388 ],\n",
        "        [  -30.18918362,    18.72303151,   -27.6705388 ,    33.81038828]],\n",
        "\n",
        "       [[  906.36004404,   -20.04342473,    68.42536908,   -67.91162875],\n",
        "        [  -20.04342473,    19.6699524 ,    -2.17075717,    12.95626043],\n",
        "        [   68.42536908,    -2.17075717,    24.81995399,   -21.78710999],\n",
        "        [  -67.91162875,    12.95626043,   -21.78710999,    25.47439203]]])"
       ]
      }
     ],
     "prompt_number": 60
    },
    {
     "cell_type": "code",
     "collapsed": false,
     "input": [
      "range(1,4)"
     ],
     "language": "python",
     "metadata": {},
     "outputs": [
      {
       "output_type": "pyout",
       "prompt_number": 17,
       "text": [
        "[1, 2, 3]"
       ]
      }
     ],
     "prompt_number": 17
    },
    {
     "cell_type": "code",
     "collapsed": false,
     "input": [
      "sys.path.append('/home/clement/Documents/Boulot/GENERAL/CODE/python/ellipsoid/')"
     ],
     "language": "python",
     "metadata": {},
     "outputs": [],
     "prompt_number": 50
    },
    {
     "cell_type": "code",
     "collapsed": false,
     "input": [
      "import ellipsoid"
     ],
     "language": "python",
     "metadata": {},
     "outputs": [
      {
       "ename": "ImportError",
       "evalue": "No module named ellipsoid",
       "output_type": "pyerr",
       "traceback": [
        "\u001b[0;31m---------------------------------------------------------------------------\u001b[0m\n\u001b[0;31mImportError\u001b[0m                               Traceback (most recent call last)",
        "\u001b[0;32m<ipython-input-51-6c65408337a0>\u001b[0m in \u001b[0;36m<module>\u001b[0;34m()\u001b[0m\n\u001b[0;32m----> 1\u001b[0;31m \u001b[0;32mimport\u001b[0m \u001b[0mellipsoid\u001b[0m\u001b[0;34m\u001b[0m\u001b[0m\n\u001b[0m",
        "\u001b[0;31mImportError\u001b[0m: No module named ellipsoid"
       ]
      }
     ],
     "prompt_number": 51
    },
    {
     "cell_type": "code",
     "collapsed": false,
     "input": [
      "ell_tool=ellipsoid.EllipsoidTool()"
     ],
     "language": "python",
     "metadata": {},
     "outputs": [],
     "prompt_number": 11
    },
    {
     "cell_type": "code",
     "collapsed": false,
     "input": [
      "ell_tool.plotEllipsoid([0.,0.,0.], diag([2.,1.,1.]))"
     ],
     "language": "python",
     "metadata": {},
     "outputs": [
      {
       "output_type": "display_data",
       "png": "[encoded data removed]"
      }
     ],
     "prompt_number": 13
    },
    {
     "cell_type": "code",
     "collapsed": false,
     "input": [
      "%run ~/Documents/Boulot/GENERAL/CODE/python/ellipsoid/ellipsoid.py"
     ],
     "language": "python",
     "metadata": {},
     "outputs": [
      {
       "output_type": "display_data",
       "png": "[encoded data removed]"
      }
     ],
     "prompt_number": 57
    },
    {
     "cell_type": "code",
     "collapsed": false,
     "input": [
      "plot(linspace(0,hist.shape[0]/100.,hist.shape[0]), -hist[:,-1], '.', ms=0.8)\n",
      "COLORS = ['r', 'g', 'b', 'k', 'm']*10\n",
      "a=subplot(111)\n",
      "els = gmm_t_c.get_display_ellipses2D(COLORS)\n",
      "for el in els:\n",
      "    a.add_patch(el)\n",
      "axis([-2,40,-2,2])"
     ],
     "language": "python",
     "metadata": {},
     "outputs": [
      {
       "output_type": "pyout",
       "prompt_number": 40,
       "text": [
        "[-2, 40, -2, 2]"
       ]
      },
      {
       "output_type": "display_data",
       "png": "[encoded data removed]"
      }
     ],
     "prompt_number": 40
    },
    {
     "cell_type": "code",
     "collapsed": false,
     "input": [
      "gmm_x_c=gmm_im.inference([],[1,2],[])"
     ],
     "language": "python",
     "metadata": {},
     "outputs": [],
     "prompt_number": 37
    },
    {
     "cell_type": "code",
     "collapsed": false,
     "input": [
      "plot(hist[:,0], -hist[:,-1], '.',ms=0.8)\n",
      "COLORS = ['r', 'g', 'b', 'k', 'm']*10\n",
      "a=subplot(111)\n",
      "els = gmm_x_c.get_display_ellipses2D(COLORS)\n",
      "for el in els:\n",
      "    a.add_patch(el)\n",
      "axis([-2,2,-2,2])"
     ],
     "language": "python",
     "metadata": {},
     "outputs": [
      {
       "output_type": "pyout",
       "prompt_number": 39,
       "text": [
        "[-2, 2, -2, 2]"
       ]
      },
      {
       "output_type": "display_data",
       "png": "[encoded data removed]"
      }
     ],
     "prompt_number": 39
    },
    {
     "cell_type": "code",
     "collapsed": false,
     "input": [
      "gmm_t_c.means_"
     ],
     "language": "python",
     "metadata": {},
     "outputs": [
      {
       "ename": "NameError",
       "evalue": "name 'gmm_t_c' is not defined",
       "output_type": "pyerr",
       "traceback": [
        "\u001b[0;31m---------------------------------------------------------------------------\u001b[0m\n\u001b[0;31mNameError\u001b[0m                                 Traceback (most recent call last)",
        "\u001b[0;32m<ipython-input-2-8bca331e3a66>\u001b[0m in \u001b[0;36m<module>\u001b[0;34m()\u001b[0m\n\u001b[0;32m----> 1\u001b[0;31m \u001b[0mgmm_t_c\u001b[0m\u001b[0;34m.\u001b[0m\u001b[0mmeans_\u001b[0m\u001b[0;34m\u001b[0m\u001b[0m\n\u001b[0m",
        "\u001b[0;31mNameError\u001b[0m: name 'gmm_t_c' is not defined"
       ]
      }
     ],
     "prompt_number": 2
    },
    {
     "cell_type": "code",
     "collapsed": false,
     "input": [
      "gmm_t_c.covars_"
     ],
     "language": "python",
     "metadata": {},
     "outputs": [
      {
       "ename": "NameError",
       "evalue": "name 'gmm_t_c' is not defined",
       "output_type": "pyerr",
       "traceback": [
        "\u001b[0;31m---------------------------------------------------------------------------\u001b[0m\n\u001b[0;31mNameError\u001b[0m                                 Traceback (most recent call last)",
        "\u001b[0;32m<ipython-input-3-8eac84e77715>\u001b[0m in \u001b[0;36m<module>\u001b[0;34m()\u001b[0m\n\u001b[0;32m----> 1\u001b[0;31m \u001b[0mgmm_t_c\u001b[0m\u001b[0;34m.\u001b[0m\u001b[0mcovars_\u001b[0m\u001b[0;34m\u001b[0m\u001b[0m\n\u001b[0m",
        "\u001b[0;31mNameError\u001b[0m: name 'gmm_t_c' is not defined"
       ]
      }
     ],
     "prompt_number": 3
    },
    {
     "cell_type": "code",
     "collapsed": false,
     "input": [
      "import cProfile\n",
      "cProfile.run('history+=[ag.explore([0],[1]) for i in range(1000)]', 'stats')"
     ],
     "language": "python",
     "metadata": {},
     "outputs": [],
     "prompt_number": 13
    },
    {
     "cell_type": "code",
     "collapsed": false,
     "input": [
      "import pstats\n",
      "p = pstats.Stats('stats')\n",
      "#p.strip_dirs().sort_stats('cumulative').print_stats()"
     ],
     "language": "python",
     "metadata": {},
     "outputs": [],
     "prompt_number": 4
    },
    {
     "cell_type": "code",
     "collapsed": false,
     "input": [
      "from mpl_toolkits.mplot3d import Axes3D\n",
      "fig=figure()\n",
      "ax = fig.add_subplot(111, projection='3d')\n",
      "ax.plot(range(hist.shape[0]), hist[:,3], hist[:,4], '.')"
     ],
     "language": "python",
     "metadata": {},
     "outputs": [
      {
       "output_type": "pyout",
       "prompt_number": 27,
       "text": [
        "[<mpl_toolkits.mplot3d.art3d.Line3D at 0x4af2350>]"
       ]
      },
      {
       "output_type": "display_data",
       "png": "[encoded data removed]"
      }
     ],
     "prompt_number": 27
    },
    {
     "cell_type": "code",
     "collapsed": false,
     "input": [
      "plot(hist[:,2], hist[:,3], '.')"
     ],
     "language": "python",
     "metadata": {},
     "outputs": [
      {
       "output_type": "pyout",
       "prompt_number": 9,
       "text": [
        "[<matplotlib.lines.Line2D at 0x3a7a950>]"
       ]
      },
      {
       "output_type": "display_data",
       "png": "[encoded data removed]"
      }
     ],
     "prompt_number": 9
    },
    {
     "cell_type": "code",
     "collapsed": false,
     "input": [
      "import _imle"
     ],
     "language": "python",
     "metadata": {},
     "outputs": [],
     "prompt_number": 5
    },
    {
     "cell_type": "code",
     "collapsed": false,
     "input": [
      "sys.path"
     ],
     "language": "python",
     "metadata": {},
     "outputs": [
      {
       "output_type": "pyout",
       "prompt_number": 8,
       "text": [
        "['',\n",
        " '/usr/lib/python2.7',\n",
        " '/usr/lib/python2.7/plat-linux2',\n",
        " '/usr/lib/python2.7/lib-tk',\n",
        " '/usr/lib/python2.7/lib-old',\n",
        " '/usr/lib/python2.7/lib-dynload',\n",
        " '/usr/local/lib/python2.7/dist-packages',\n",
        " '/usr/lib/python2.7/dist-packages',\n",
        " '/usr/lib/python2.7/dist-packages/PIL',\n",
        " '/usr/lib/python2.7/dist-packages/gst-0.10',\n",
        " '/usr/lib/python2.7/dist-packages/gtk-2.0',\n",
        " '/usr/lib/pymodules/python2.7',\n",
        " '/usr/lib/python2.7/dist-packages/ubuntu-sso-client',\n",
        " '/usr/lib/python2.7/dist-packages/ubuntuone-client',\n",
        " '/usr/lib/python2.7/dist-packages/ubuntuone-control-panel',\n",
        " '/usr/lib/python2.7/dist-packages/ubuntuone-couch',\n",
        " '/usr/lib/python2.7/dist-packages/ubuntuone-installer',\n",
        " '/usr/lib/python2.7/dist-packages/ubuntuone-storage-protocol',\n",
        " '/usr/lib/python2.7/dist-packages/IPython/extensions']"
       ]
      }
     ],
     "prompt_number": 8
    },
    {
     "cell_type": "code",
     "collapsed": false,
     "input": [
      "exec 'print \"a\"+\"b\"'"
     ],
     "language": "python",
     "metadata": {},
     "outputs": [
      {
       "output_type": "stream",
       "stream": "stdout",
       "text": [
        "ab\n"
       ]
      }
     ],
     "prompt_number": 5
    },
    {
     "cell_type": "code",
     "collapsed": false,
     "input": [
      "str(2)"
     ],
     "language": "python",
     "metadata": {},
     "outputs": [
      {
       "output_type": "pyout",
       "prompt_number": 6,
       "text": [
        "'2'"
       ]
      }
     ],
     "prompt_number": 6
    },
    {
     "cell_type": "code",
     "collapsed": false,
     "input": [],
     "language": "python",
     "metadata": {},
     "outputs": [],
     "prompt_number": 27
    },
    {
     "cell_type": "code",
     "collapsed": false,
     "input": [
      "env.execute(array([1]))"
     ],
     "language": "python",
     "metadata": {},
     "outputs": [
      {
       "output_type": "pyout",
       "prompt_number": 29,
       "text": [
        "array([ 0.54030231,  1.        ])"
       ]
      }
     ],
     "prompt_number": 29
    },
    {
     "cell_type": "code",
     "collapsed": false,
     "input": [],
     "language": "python",
     "metadata": {},
     "outputs": []
    }
   ],
   "metadata": {}
  }
 ]
}