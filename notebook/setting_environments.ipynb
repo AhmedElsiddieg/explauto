{
 "metadata": {
  "name": "",
  "signature": "sha256:65a3e1521b0537deda97d77248d77da087b1af7f1e734a288327125d7e10af16"
 },
 "nbformat": 3,
 "nbformat_minor": 0,
 "worksheets": [
  {
   "cells": [
    {
     "cell_type": "heading",
     "level": 1,
     "metadata": {},
     "source": [
      "Setting Environments"
     ]
    },
    {
     "cell_type": "markdown",
     "metadata": {},
     "source": [
      "In Explauto, an *environment* implements the physical properties of the interaction between the robot body and the environment in which it evolves. Explauto come with several sensorimotor systems available from the [environment package](http://flowersteam.github.io/explauto/explauto.environment.html):"
     ]
    },
    {
     "cell_type": "code",
     "collapsed": false,
     "input": [
      "from explauto.environment import environments\n",
      "print 'Available environments: {}'.format(environments.keys())"
     ],
     "language": "python",
     "metadata": {},
     "outputs": [
      {
       "output_type": "stream",
       "stream": "stdout",
       "text": [
        "Available environments: ['pendulum', 'simple_arm']\n"
       ]
      }
     ],
     "prompt_number": 2
    },
    {
     "cell_type": "markdown",
     "metadata": {},
     "source": [
      "According to your installation, you will see at least two available environments:\n",
      "* a multi-joint arm acting on a plan ('simple_arm')\n",
      "* an under-actuated torque-controlled inverse pendulum  (['pendulum')\n",
      "\n",
      "Both these environment are simulated. Explauto also provides an interface with real robots based on Dynamixel actuators by providing bindings to the [Pypot](https://github.com/poppy-project/pypot) library  ([this tutorial](http://nbviewer.ipython.org/github/flowersteam/explauto/blob/master/notebook/poppy_environment.ipynb) shows how to use it on a [Poppy](http://www.poppy-project.org/) robot)."
     ]
    },
    {
     "cell_type": "markdown",
     "metadata": {},
     "source": [
      "We will use the simple arm for this tutorial. It consists in the simulation of a $n$ degrees-of-freedom (DoF) arm with movements limited to a 2D plan.\n",
      "\n",
      "Each available environment comes with a set of predefined configurations. A default configuration will always be defined."
     ]
    },
    {
     "cell_type": "code",
     "collapsed": false,
     "input": [
      "env_cls, env_configs, _ = environments['simple_arm']\n",
      "print 'Available configurations for the simple arm environment: {}'.format(env_configs.keys())"
     ],
     "language": "python",
     "metadata": {},
     "outputs": [
      {
       "output_type": "stream",
       "stream": "stdout",
       "text": [
        "Available configurations for the simple arm environment: ['mid_dimensional', 'default', 'high_dim_high_s_range', 'low_dimensional', 'high_dimensional']\n"
       ]
      }
     ],
     "prompt_number": 3
    },
    {
     "cell_type": "markdown",
     "metadata": {},
     "source": [
      "In the case of the simple_arm environment, a configuration must defines the following values:\n",
      "* m_mins and m_maxs (bounds of the motor space)\n",
      "* s_mins ans s_maxs (bounds of the sensory space)\n",
      "* length_ratio (length ratio from one segment to the following one)\n",
      "* noise (gaussian noise added in the sensor space)\n",
      "\n",
      "The motor space corresponds to the angular position of each joint (hence $n$-dimensional), and the sensory space corresponds to the position of the end-effector on the plan ($x,y$: hence 2-dimensional). Arm total length is normalized to 1.\n",
      "\n",
      "For instance, the default configuration defines a $n=3$ DoF arm where each segment is three time smaller than the previous one (from the \"shoulder\" to the end-effector). Each joint can move between $-\\pi/3$ and $\\pi/3$."
     ]
    },
    {
     "cell_type": "code",
     "collapsed": false,
     "input": [
      "config = env_configs['default']\n",
      "\n",
      "print 'Default configuration for the simple arm:'\n",
      "for config_key, value in config.items():\n",
      "    print '\\t{}: {}'.format(config_key, value)"
     ],
     "language": "python",
     "metadata": {},
     "outputs": [
      {
       "output_type": "stream",
       "stream": "stdout",
       "text": [
        "Default configuration for the simple arm:\n",
        "\ts_mins: [-0.5 -1. ]\n",
        "\tm_mins: [-1.04719755 -1.04719755 -1.04719755]\n",
        "\tnoise: 0.02\n",
        "\tm_maxs: [ 1.04719755  1.04719755  1.04719755]\n",
        "\ts_maxs: [ 1.  1.]\n",
        "\tlength_ratio: 3.0\n"
       ]
      }
     ],
     "prompt_number": 4
    },
    {
     "cell_type": "markdown",
     "metadata": {},
     "source": [
      "Once you have choose a configuration, say the 'default' one, you can create the Environment instance:"
     ]
    },
    {
     "cell_type": "code",
     "collapsed": false,
     "input": [
      "environment = env_cls(**config)"
     ],
     "language": "python",
     "metadata": {},
     "outputs": [],
     "prompt_number": 5
    },
    {
     "cell_type": "markdown",
     "metadata": {},
     "source": [
      "Each environment has an [update](http://flowersteam.github.io/explauto/explauto.environment.html#explauto.environment.environment.Environment.update) method, we take as argument a motor command vector $m$ (here: $n=3$-dimensional). It computes $m\\_bounds$, the command $m$ bounded according to the configuration used (m_mins, m_maxs values), then computes the corresponding sensory effect vector $s$ ($2$-dimensional) and returns the corresponding $n+2=5$-dimensional vector:"
     ]
    },
    {
     "cell_type": "code",
     "collapsed": false,
     "input": [
      "from math import pi\n",
      "m = [-pi/6., pi, pi/4.]\n",
      "print environment.update(m)"
     ],
     "language": "python",
     "metadata": {},
     "outputs": [
      {
       "output_type": "stream",
       "stream": "stdout",
       "text": [
        "[-0.52359878  1.04719755  0.78539816  0.82535821 -0.1623095 ]\n"
       ]
      }
     ],
     "prompt_number": 6
    },
    {
     "cell_type": "markdown",
     "metadata": {},
     "source": [
      "We observe that the second value $\\pi$ has been bounded to $m\\_maxs[1] = \\pi/3$. The two last values correspond to the resulting $x, y$ end-effector postion."
     ]
    },
    {
     "cell_type": "markdown",
     "metadata": {},
     "source": [
      "The simple arm environment also comes with a method to visualize the arm shape for a given motor configuration:"
     ]
    },
    {
     "cell_type": "code",
     "collapsed": false,
     "input": [
      "%pylab inline\n",
      "\n",
      "ax = axes()\n",
      "m = [-pi/6., pi/3., pi/4.]\n",
      "environment.plot_arm(ax, m)"
     ],
     "language": "python",
     "metadata": {},
     "outputs": [
      {
       "output_type": "stream",
       "stream": "stdout",
       "text": [
        "Populating the interactive namespace from numpy and matplotlib\n"
       ]
      },
      {
       "metadata": {},
       "output_type": "display_data",
       "png": "[encoded data removed]",
       "text": [
        "<matplotlib.figure.Figure at 0x2b99190>"
       ]
      }
     ],
     "prompt_number": 6
    },
    {
     "cell_type": "markdown",
     "metadata": {},
     "source": [
      "The base of the arm is fixed at (0, 0) (circle). The first angle position m[0] corresponds to the angle between a horizontal line and the segment attached to the base, anticlock-wise. Each follwing angle position, m[1] and m[2] are measured with respect to their respective previous segment. \n",
      "\n",
      "The sensory space (what will actually perceives the simulated robot) is the 2D hand position (position of the square).\n",
      "\n",
      "Now let's see various arm shapes corresponding to random motor configurations. The Environment base class, from which every explauto environments derive, provides a random_motor method to uniformely sample motor configurations within their bounds (defined in the configuration dictionary, see above)."
     ]
    },
    {
     "cell_type": "code",
     "collapsed": false,
     "input": [
      "motor_configurations = environment.random_motors(n=10)\n",
      "ax = axes()\n",
      "for m in motor_configurations:\n",
      "    environment.plot_arm(ax, m)"
     ],
     "language": "python",
     "metadata": {},
     "outputs": [
      {
       "metadata": {},
       "output_type": "display_data",
       "png": "[encoded data removed]",
       "text": [
        "<matplotlib.figure.Figure at 0x34f2450>"
       ]
      }
     ],
     "prompt_number": 8
    },
    {
     "cell_type": "heading",
     "level": 1,
     "metadata": {},
     "source": [
      "Exercise"
     ]
    },
    {
     "cell_type": "markdown",
     "metadata": {},
     "source": [
      "Plot arm shapes corresponding to random motor commands using the 'high_dimensional' configuration of the simple_arm. Then plot more (e.g. $100$ random commands).\n",
      "\n",
      "An interpretation of the obtained plot is provided below."
     ]
    },
    {
     "cell_type": "code",
     "collapsed": false,
     "input": [
      "%load exercise_solutions/setting_environment__high_dim_configuration.py"
     ],
     "language": "python",
     "metadata": {},
     "outputs": [],
     "prompt_number": 7
    },
    {
     "cell_type": "heading",
     "level": 2,
     "metadata": {},
     "source": [
      "Interpretation"
     ]
    },
    {
     "cell_type": "markdown",
     "metadata": {},
     "source": [
      "We observe that when sampling many random motor configurations on the high dimensional arm, the sensory space (corresponding to hand positions) is not covered uniformely: there are far more motor configurations resulting in front hand positions ($x\\simeq 1$) than resulting in back positions ($x\\simeq -0.2$).\n",
      "\n",
      "On such a arm, front positions can be attained by several very distinct configurations (e.g. those mirroring horizontally). It is not the case for back positions, in particular due to the small angle ranges allowed here ($\\pm \\pi/6$)."
     ]
    }
   ],
   "metadata": {}
  }
 ]
}