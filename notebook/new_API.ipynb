{
 "metadata": {
  "name": "",
  "signature": "sha256:933d23524a41714388e44afd754222807032170401ef418be723031ed789b568"
 },
 "nbformat": 3,
 "nbformat_minor": 0,
 "worksheets": [
  {
   "cells": [
    {
     "cell_type": "code",
     "collapsed": false,
     "input": [
      "%pylab inline"
     ],
     "language": "python",
     "metadata": {},
     "outputs": [
      {
       "output_type": "stream",
       "stream": "stdout",
       "text": [
        "Populating the interactive namespace from numpy and matplotlib\n"
       ]
      }
     ],
     "prompt_number": 1
    },
    {
     "cell_type": "code",
     "collapsed": false,
     "input": [
      "from explauto.environment import environments\n",
      "\n",
      "print environments.keys()\n",
      "# ['simple_arm', 'pendulum']\n",
      "\n",
      "# env = SimpleArmEnvironment(config)\n",
      "\n",
      "env_cls, env_configs = environments['simple_arm']\n",
      "print env_cls.__doc__\n",
      "\n",
      "print env_configs.keys()\n",
      "# ['human_like_arm', 'equal_length']\n",
      "\n",
      "config = env_configs['default']\n",
      "env = env_cls(**config)\n",
      "print env"
     ],
     "language": "python",
     "metadata": {},
     "outputs": [
      {
       "output_type": "stream",
       "stream": "stdout",
       "text": [
        "['pendulum', 'simple_arm']\n",
        "None\n",
        "['default']\n",
        "<explauto.environment.simple_arm.config.SimpleArmEnvironment object at 0x10339bdd0>\n"
       ]
      }
     ],
     "prompt_number": 2
    },
    {
     "cell_type": "code",
     "collapsed": false,
     "input": [
      "from explauto.agent import Agent\n",
      "from explauto.interest_model import interest_models\n",
      "from explauto.sensorimotor_model import sensorimotor_models\n",
      "\n",
      "print interest_models.keys()\n",
      "# ['random', 'learning_progress']\n",
      "im_cls, im_configs = interest_models['random']\n",
      "print im_configs.keys()\n",
      "\n",
      "print sensorimotor_models.keys()\n",
      "# ['knn', 'gmm']\n",
      "sm_cls, sm_configs = sensorimotor_models['non_parametric']\n",
      "print sm_configs.keys()\n",
      "\n",
      "\n",
      "# im_config optionnal\n",
      "\n",
      "agent = Agent(im_cls, im_configs['default'], env.s_dims,\n",
      "              sm_cls, sm_configs['default'], env.m_dims,\n",
      "              config)"
     ],
     "language": "python",
     "metadata": {},
     "outputs": [
      {
       "output_type": "stream",
       "stream": "stdout",
       "text": [
        "warning: cdataset.cLWLRForwardModel import error, defaulting to (slower) python implementation.\n",
        "['learning_progress', 'random']\n",
        "['default']\n",
        "['non_parametric']\n",
        "['default']\n"
       ]
      }
     ],
     "prompt_number": 3
    },
    {
     "cell_type": "code",
     "collapsed": false,
     "input": [
      "# from explauto.agent import AgentFactory\n",
      "\n",
      "# Eq. au truc du dessus\n",
      "\n",
      "# agent = AgentFactory('goal_babling', 'random', 'knn',\n",
      "#                     im_config = im_configs['une autre'], # optionnal\n",
      "#                     )"
     ],
     "language": "python",
     "metadata": {},
     "outputs": [],
     "prompt_number": 4
    },
    {
     "cell_type": "code",
     "collapsed": false,
     "input": [
      "from explauto.experiment import Experiment\n",
      "\n",
      "exp = Experiment(env, agent)#,\n",
      "                 #evaluators=[])\n",
      "\n",
      "exp.run(100)\n",
      "\n",
      "# exp.plot('xkcd')"
     ],
     "language": "python",
     "metadata": {},
     "outputs": [],
     "prompt_number": 9
    },
    {
     "cell_type": "code",
     "collapsed": false,
     "input": [
      "x, y = exp.logs['sensori'].T\n",
      "plot(x, y, 'o')\n",
      "\n",
      "x, y = exp.logs['choice'].T\n",
      "plot(x, y, 'or')"
     ],
     "language": "python",
     "metadata": {},
     "outputs": [
      {
       "metadata": {},
       "output_type": "pyout",
       "prompt_number": 10,
       "text": [
        "[<matplotlib.lines.Line2D at 0x105fc8310>]"
       ]
      },
      {
       "metadata": {},
       "output_type": "display_data",
       "png": "[encoded data removed]",
       "text": [
        "<matplotlib.figure.Figure at 0x105fc8450>"
       ]
      }
     ],
     "prompt_number": 10
    },
    {
     "cell_type": "code",
     "collapsed": false,
     "input": [],
     "language": "python",
     "metadata": {},
     "outputs": [],
     "prompt_number": 7
    },
    {
     "cell_type": "code",
     "collapsed": false,
     "input": [],
     "language": "python",
     "metadata": {},
     "outputs": []
    }
   ],
   "metadata": {}
  }
 ]
}