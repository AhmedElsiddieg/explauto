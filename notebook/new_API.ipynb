{
 "metadata": {
  "name": "",
  "signature": "sha256:0b92a39a69c29756892d427b8690ac56b418855ee68ba75018725645f5495388"
 },
 "nbformat": 3,
 "nbformat_minor": 0,
 "worksheets": [
  {
   "cells": [
    {
     "cell_type": "code",
     "collapsed": false,
     "input": [
      "%pylab \n",
      "#inline"
     ],
     "language": "python",
     "metadata": {},
     "outputs": [
      {
       "output_type": "stream",
       "stream": "stdout",
       "text": [
        "Using matplotlib backend: TkAgg\n",
        "Populating the interactive namespace from numpy and matplotlib\n"
       ]
      }
     ],
     "prompt_number": 1
    },
    {
     "cell_type": "code",
     "collapsed": false,
     "input": [
      "from explauto.environment import environments\n",
      "\n",
      "print environments.keys()\n",
      "# ['simple_arm', 'pendulum']\n",
      "\n",
      "# env = SimpleArmEnvironment(config)\n",
      "\n",
      "env_cls, env_configs = environments['simple_arm']\n",
      "print env_cls.__doc__\n",
      "\n",
      "print env_configs.keys()\n",
      "# ['human_like_arm', 'equal_length']\n",
      "\n",
      "config = env_configs['default']\n",
      "env = env_cls(**config)\n",
      "print env"
     ],
     "language": "python",
     "metadata": {},
     "outputs": [
      {
       "output_type": "stream",
       "stream": "stdout",
       "text": [
        "['pendulum', 'simple_arm']\n",
        "None\n",
        "['default']\n",
        "<explauto.environment.simple_arm.simple_arm.SimpleArmEnvironment object at 0x3ae68d0>\n"
       ]
      }
     ],
     "prompt_number": 2
    },
    {
     "cell_type": "code",
     "collapsed": false,
     "input": [
      "from explauto.agent import Agent\n",
      "from explauto.interest_model import interest_models\n",
      "from explauto.sensorimotor_model import sensorimotor_models\n",
      "\n",
      "print interest_models.keys()\n",
      "print sensorimotor_models.keys()"
     ],
     "language": "python",
     "metadata": {},
     "outputs": [
      {
       "output_type": "stream",
       "stream": "stdout",
       "text": [
        "['learning_progress', 'random']\n",
        "['non_parametric']\n"
       ]
      }
     ],
     "prompt_number": 3
    },
    {
     "cell_type": "code",
     "collapsed": false,
     "input": [
      "im_cls, im_configs = interest_models['random']\n",
      "sm_cls, sm_configs = sensorimotor_models['non_parametric']\n",
      "print im_configs.keys()\n",
      "print sm_configs.keys()"
     ],
     "language": "python",
     "metadata": {},
     "outputs": [
      {
       "output_type": "stream",
       "stream": "stdout",
       "text": [
        "['default']\n",
        "['default']\n"
       ]
      }
     ],
     "prompt_number": 4
    },
    {
     "cell_type": "code",
     "collapsed": false,
     "input": [
      "agent = Agent(im_cls, im_configs['default'], env.conf.s_dims,\n",
      "              sm_cls, sm_configs['default'], env.conf.m_dims,\n",
      "              env.conf.m_mins, env.conf.m_maxs, env.conf.s_mins, env.conf.s_maxs)"
     ],
     "language": "python",
     "metadata": {},
     "outputs": [],
     "prompt_number": 5
    },
    {
     "cell_type": "code",
     "collapsed": false,
     "input": [
      "# from explauto.agent import AgentFactory\n",
      "\n",
      "# Eq. au truc du dessus\n",
      "expe = ExperimentFacory(env='simple_arm', babbling='goal', interest='random', sensorimotor='knn')\n",
      "\n",
      "# agent = AgentFactory('goal_babling', 'random', 'knn',\n",
      "#                     im_config = im_configs['une autre'], # optionnal\n",
      "#                     )"
     ],
     "language": "python",
     "metadata": {},
     "outputs": [],
     "prompt_number": 6
    },
    {
     "cell_type": "code",
     "collapsed": false,
     "input": [
      "from explauto.experiment import Experiment\n",
      "\n",
      "expe = Experiment(env, agent, evaluate_at = [0, 10, 20, 30, 50, 100, 200])#,\n",
      "                 #evaluators=[])"
     ],
     "language": "python",
     "metadata": {},
     "outputs": [],
     "prompt_number": 7
    },
    {
     "cell_type": "code",
     "collapsed": false,
     "input": [
      "expe.run(500)"
     ],
     "language": "python",
     "metadata": {},
     "outputs": [],
     "prompt_number": 8
    },
    {
     "cell_type": "code",
     "collapsed": false,
     "input": [
      "ax = subplot(211)\n",
      "expe.plot_learning_curve(ax)"
     ],
     "language": "python",
     "metadata": {},
     "outputs": [],
     "prompt_number": 9
    },
    {
     "cell_type": "code",
     "collapsed": false,
     "input": [
      "ax = subplot(212)\n",
      "data = expe.scatter_plot(ax, (('choice', [0, 1]), ))\n",
      "data = expe.scatter_plot(ax, (('sensori', [0, 1]), ), color = 'green')"
     ],
     "language": "python",
     "metadata": {},
     "outputs": [],
     "prompt_number": 10
    },
    {
     "cell_type": "code",
     "collapsed": false,
     "input": [
      "plot(cumsum(eval_at), avg_err)"
     ],
     "language": "python",
     "metadata": {},
     "outputs": [
      {
       "metadata": {},
       "output_type": "pyout",
       "prompt_number": 13,
       "text": [
        "[<matplotlib.lines.Line2D at 0x5017850>]"
       ]
      }
     ],
     "prompt_number": 13
    },
    {
     "cell_type": "code",
     "collapsed": false,
     "input": [
      "from explauto.utils import rand_bounds"
     ],
     "language": "python",
     "metadata": {},
     "outputs": [],
     "prompt_number": 9
    },
    {
     "cell_type": "code",
     "collapsed": false,
     "input": [
      "data = env.dataset(rand_bounds(env.conf.m_bounds, 100))"
     ],
     "language": "python",
     "metadata": {},
     "outputs": [],
     "prompt_number": 11
    },
    {
     "cell_type": "code",
     "collapsed": false,
     "input": [
      "tests = [ test[1] for test in evaluation.tester.testcases]"
     ],
     "language": "python",
     "metadata": {},
     "outputs": [],
     "prompt_number": 18
    },
    {
     "cell_type": "code",
     "collapsed": false,
     "input": [
      "tests = array(tests)"
     ],
     "language": "python",
     "metadata": {},
     "outputs": [],
     "prompt_number": 21
    },
    {
     "cell_type": "code",
     "collapsed": false,
     "input": [
      "plot(tests[:, 0], tests[:,1], 'or')"
     ],
     "language": "python",
     "metadata": {},
     "outputs": [
      {
       "metadata": {},
       "output_type": "pyout",
       "prompt_number": 22,
       "text": [
        "[<matplotlib.lines.Line2D at 0x5b25b90>]"
       ]
      }
     ],
     "prompt_number": 22
    },
    {
     "cell_type": "code",
     "collapsed": false,
     "input": [],
     "language": "python",
     "metadata": {},
     "outputs": []
    }
   ],
   "metadata": {}
  }
 ]
}