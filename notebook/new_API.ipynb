{
 "metadata": {
  "name": "",
  "signature": "sha256:e78e0402590b67155e47affc601d6369d39084c6fcc4f4d2ae8facb18b145255"
 },
 "nbformat": 3,
 "nbformat_minor": 0,
 "worksheets": [
  {
   "cells": [
    {
     "cell_type": "code",
     "collapsed": false,
     "input": [
      "%pylab"
     ],
     "language": "python",
     "metadata": {},
     "outputs": [
      {
       "output_type": "stream",
       "stream": "stdout",
       "text": [
        "Using matplotlib backend: MacOSX\n",
        "Populating the interactive namespace from numpy and matplotlib\n"
       ]
      }
     ],
     "prompt_number": 1
    },
    {
     "cell_type": "code",
     "collapsed": false,
     "input": [
      "from explauto.environment import environments\n",
      "\n",
      "config = {\n",
      "    'm_mins': zeros(3),\n",
      "    'm_maxs': zeros(3),\n",
      "    's_mins': zeros(3),\n",
      "    's_maxs': zeros(3)\n",
      "}\n",
      "\n",
      "print environments.keys()\n",
      "# ['simple_arm', 'pendulum']\n",
      "\n",
      "# env = SimpleArmEnvironment(config)\n",
      "\n",
      "env_cls, env_configs = environments['simple_arm']\n",
      "print env_cls.__doc__\n",
      "\n",
      "print env_configs.keys()\n",
      "# ['human_like_arm', 'equal_length']\n",
      "\n",
      "env = env_cls(**env_configs['default'])\n",
      "print env"
     ],
     "language": "python",
     "metadata": {},
     "outputs": [
      {
       "output_type": "stream",
       "stream": "stdout",
       "text": [
        "['pendulum', 'simple_arm']\n",
        "None\n",
        "['default']\n",
        "<explauto.environment.simple_arm.config.SimpleArmEnvironment object at 0x106d7a650>\n"
       ]
      }
     ],
     "prompt_number": 2
    },
    {
     "cell_type": "code",
     "collapsed": false,
     "input": [
      "from explauto.agent import Agent\n",
      "from explauto.interest_model import interest_models\n",
      "from explauto.sensorimotor_model import sensorimotor_models\n",
      "\n",
      "print interest_models.keys()\n",
      "# ['random', 'learning_progress']\n",
      "im_cls, im_configs = interest_models['random']\n",
      "print im_configs.keys()\n",
      "\n",
      "print sensorimotor_models.keys()\n",
      "# ['knn', 'gmm']\n",
      "sm_cls, sm_configs = sensorimotor_models['non_parametric']\n",
      "print sm_configs.keys()\n",
      "\n",
      "\n",
      "# im_config optionnal\n",
      "\n",
      "agent = Agent(im_cls, im_configs['default'], env.s_dims,\n",
      "              sm_cls, sm_configs['default'], env.m_dims,\n",
      "              env_configs['default'])"
     ],
     "language": "python",
     "metadata": {},
     "outputs": [
      {
       "output_type": "stream",
       "stream": "stdout",
       "text": [
        "warning: cdataset.cLWLRForwardModel import error, defaulting to (slower) python implementation.\n",
        "['learning_progress', 'random']\n",
        "['default']\n",
        "['non_parametric']\n",
        "['default']\n"
       ]
      }
     ],
     "prompt_number": 3
    },
    {
     "cell_type": "code",
     "collapsed": false,
     "input": [
      "from explauto.agent import AgentFactory\n",
      "\n",
      "# Eq. au truc du dessus\n",
      "\n",
      "agent = AgentFactory('goal_babling', 'random', 'knn',\n",
      "                     im_config = im_configs['une autre'], # optionnal\n",
      "                     )"
     ],
     "language": "python",
     "metadata": {},
     "outputs": [
      {
       "ename": "ImportError",
       "evalue": "cannot import name AgentFactory",
       "output_type": "pyerr",
       "traceback": [
        "\u001b[0;31m---------------------------------------------------------------------------\u001b[0m\n\u001b[0;31mImportError\u001b[0m                               Traceback (most recent call last)",
        "\u001b[0;32m<ipython-input-4-7ead4845df52>\u001b[0m in \u001b[0;36m<module>\u001b[0;34m()\u001b[0m\n\u001b[0;32m----> 1\u001b[0;31m \u001b[0;32mfrom\u001b[0m \u001b[0mexplauto\u001b[0m\u001b[0;34m.\u001b[0m\u001b[0magent\u001b[0m \u001b[0;32mimport\u001b[0m \u001b[0mAgentFactory\u001b[0m\u001b[0;34m\u001b[0m\u001b[0m\n\u001b[0m\u001b[1;32m      2\u001b[0m \u001b[0;34m\u001b[0m\u001b[0m\n\u001b[1;32m      3\u001b[0m \u001b[0;31m# Eq. au truc du dessus\u001b[0m\u001b[0;34m\u001b[0m\u001b[0;34m\u001b[0m\u001b[0m\n\u001b[1;32m      4\u001b[0m \u001b[0;34m\u001b[0m\u001b[0m\n\u001b[1;32m      5\u001b[0m agent = AgentFactory('goal_babling', 'random', 'knn',\n",
        "\u001b[0;31mImportError\u001b[0m: cannot import name AgentFactory"
       ]
      }
     ],
     "prompt_number": 4
    },
    {
     "cell_type": "code",
     "collapsed": false,
     "input": [
      "from explauto.experiment import Experiment\n",
      "\n",
      "exp = Experiment(env, agent)#,\n",
      "                 #evaluators=[])\n",
      "\n",
      "exp.run(1000)\n",
      "\n",
      "# exp.plot('xkcd')"
     ],
     "language": "python",
     "metadata": {},
     "outputs": [],
     "prompt_number": 11
    },
    {
     "cell_type": "code",
     "collapsed": false,
     "input": [
      "plot(exp.records[:exp.i_rec, -2], exp.records[:exp.i_rec, -1], '.')"
     ],
     "language": "python",
     "metadata": {},
     "outputs": [
      {
       "metadata": {},
       "output_type": "pyout",
       "prompt_number": 12,
       "text": [
        "[<matplotlib.lines.Line2D at 0x109a78f90>]"
       ]
      }
     ],
     "prompt_number": 12
    },
    {
     "cell_type": "code",
     "collapsed": false,
     "input": [],
     "language": "python",
     "metadata": {},
     "outputs": []
    }
   ],
   "metadata": {}
  }
 ]
}