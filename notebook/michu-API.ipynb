{
 "metadata": {
  "name": "",
  "signature": "sha256:2579f7bc7001014102f802ff6657ea950254f886dd63f13a7915aaad74a76a52"
 },
 "nbformat": 3,
 "nbformat_minor": 0,
 "worksheets": [
  {
   "cells": [
    {
     "cell_type": "code",
     "collapsed": false,
     "input": [
      "%pylab inline"
     ],
     "language": "python",
     "metadata": {},
     "outputs": [
      {
       "output_type": "stream",
       "stream": "stdout",
       "text": [
        "Populating the interactive namespace from numpy and matplotlib\n"
       ]
      }
     ],
     "prompt_number": 1
    },
    {
     "cell_type": "code",
     "collapsed": false,
     "input": [
      "from explauto.sensorimotor_model import sensorimotor_models"
     ],
     "language": "python",
     "metadata": {},
     "outputs": [],
     "prompt_number": 2
    },
    {
     "cell_type": "code",
     "collapsed": false,
     "input": [
      "all_sm_models = [(model_str, conf_str) for model_str, (model_cls, confs) in sensorimotor_models.iteritems() for (conf_str, conf) in confs.iteritems() if not (model_str != 'imle' and conf_str == 'default')]"
     ],
     "language": "python",
     "metadata": {},
     "outputs": [],
     "prompt_number": 3
    },
    {
     "cell_type": "code",
     "collapsed": false,
     "input": [
      "all_sm_models"
     ],
     "language": "python",
     "metadata": {},
     "outputs": [
      {
       "metadata": {},
       "output_type": "pyout",
       "prompt_number": 4,
       "text": [
        "[('imle', 'default'),\n",
        " ('non_parametric', 'LWLR-BFGS'),\n",
        " ('non_parametric', 'ES-WNN-BFGS'),\n",
        " ('non_parametric', 'ES-WNN'),\n",
        " ('non_parametric', 'ES-LWLR-BFGS')]"
       ]
      }
     ],
     "prompt_number": 4
    },
    {
     "cell_type": "code",
     "collapsed": false,
     "input": [
      "from explauto.experiment.pool import ExperimentPool\n",
      "\n",
      "xps = ExperimentPool(environments=[('simple_arm', 'high_dimensional')], \n",
      "                     babblings=['motor', 'goal'], \n",
      "                     interest_models=[('random', 'default')],\n",
      "                     sensorimotor_models=[('non_parametric', 'default')])\n",
      "#print xps.pool"
     ],
     "language": "python",
     "metadata": {},
     "outputs": [],
     "prompt_number": 5
    },
    {
     "cell_type": "code",
     "collapsed": true,
     "input": [
      "xps.evaluate_at([0, 10, 20, 40, 80, 150, 250], same_evaluation=True)"
     ],
     "language": "python",
     "metadata": {},
     "outputs": [],
     "prompt_number": 6
    },
    {
     "cell_type": "code",
     "collapsed": false,
     "input": [
      "xps.bootstrap(20)"
     ],
     "language": "python",
     "metadata": {},
     "outputs": [],
     "prompt_number": 7
    },
    {
     "cell_type": "code",
     "collapsed": false,
     "input": [
      "xps.run(bg=True)"
     ],
     "language": "python",
     "metadata": {},
     "outputs": [],
     "prompt_number": 7
    },
    {
     "cell_type": "code",
     "collapsed": false,
     "input": [
      "[xp.counts['sensori'] for xp in xps.xps]"
     ],
     "language": "python",
     "metadata": {},
     "outputs": [
      {
       "metadata": {},
       "output_type": "pyout",
       "prompt_number": 10,
       "text": [
        "[251, 251]"
       ]
      }
     ],
     "prompt_number": 10
    },
    {
     "cell_type": "code",
     "collapsed": false,
     "input": [
      "xps.wait()"
     ],
     "language": "python",
     "metadata": {},
     "outputs": [],
     "prompt_number": 11
    },
    {
     "cell_type": "code",
     "collapsed": false,
     "input": [
      "xps.xps[0].eval_at"
     ],
     "language": "python",
     "metadata": {},
     "outputs": [
      {
       "metadata": {},
       "output_type": "pyout",
       "prompt_number": 12,
       "text": [
        "[0, 10, 20, 40, 80, 150, 250]"
       ]
      }
     ],
     "prompt_number": 12
    },
    {
     "cell_type": "code",
     "collapsed": false,
     "input": [
      "ax = axes()\n",
      "for xp in xps.xps:\n",
      "    xp.plot_learning_curve(ax)\n",
      "axis([xps.xps[0].eval_at[0], xps.xps[0].eval_at[-1] + 10, 0, 1])\n",
      "legend([str(i) for i in range(len(xps.xps))])"
     ],
     "language": "python",
     "metadata": {},
     "outputs": [
      {
       "metadata": {},
       "output_type": "pyout",
       "prompt_number": 17,
       "text": [
        "<matplotlib.legend.Legend at 0x5065290>"
       ]
      },
      {
       "metadata": {},
       "output_type": "display_data",
       "png": "[encoded data removed]",
       "text": [
        "<matplotlib.figure.Figure at 0x50656d0>"
       ]
      }
     ],
     "prompt_number": 17
    },
    {
     "cell_type": "code",
     "collapsed": false,
     "input": [
      "tests = array([ test[1] for test in xps.xps[0].evaluation.tester.testcases])"
     ],
     "language": "python",
     "metadata": {},
     "outputs": [],
     "prompt_number": 18
    },
    {
     "cell_type": "code",
     "collapsed": false,
     "input": [
      "tests = array([ test[1] for test in xps.xps[0].evaluation.tester.testcases])\n",
      "ax = axes()\n",
      "#data = xps.xps[0].scatter_plot(ax, (('sensori', [0, 1]), ), t = range(200), marker = '.', color = 'red')\n",
      "data = xps.xps[0].scatter_plot(ax, (('sensori', [0, 1]), ), marker = '.', color = 'green')\n",
      "#xps.xps[1].scatter_plot(ax, (('choice', [0, 1]), ), marker = '.', color = 'blue')\n",
      "plot(tests[:, 0], tests[:, 1], '.r')\n",
      "#xps.xps[0].ag.sensorimotor_model.imle.to_gmm().plot_projection(ax, xps.xps[1].ag.conf.s_dims)\n",
      "axis([-1, 1, -1, 1])"
     ],
     "language": "python",
     "metadata": {},
     "outputs": [
      {
       "metadata": {},
       "output_type": "pyout",
       "prompt_number": 19,
       "text": [
        "[-1, 1, -1, 1]"
       ]
      },
      {
       "metadata": {},
       "output_type": "display_data",
       "png": "[encoded data removed]",
       "text": [
        "<matplotlib.figure.Figure at 0x5048e50>"
       ]
      }
     ],
     "prompt_number": 19
    },
    {
     "cell_type": "code",
     "collapsed": false,
     "input": [
      "tests = array([ test[1] for test in xps.xps[1].evaluation.tester.testcases])\n",
      "ax = axes()\n",
      "xps.xps[1].scatter_plot(ax, (('sensori', [0, 1]), ), marker = '.', color = 'green')\n",
      "#xps.xps[1].scatter_plot(ax, (('choice', [0, 1]), ), marker = '.', color = 'blue')\n",
      "#xps.xps[1].scatter_plot(ax, (('sensori', [0, 1]), ), t=range(20), marker = 'o', color = 'green')\n",
      "plot(tests[:, 0], tests[:, 1], '.r')\n",
      "#xps.xps[1].ag.sensorimotor_model.imle.to_gmm().plot_projection(ax, xps.xps[1].ag.conf.s_dims)\n",
      "axis([-1, 1, -1, 1])"
     ],
     "language": "python",
     "metadata": {},
     "outputs": [
      {
       "metadata": {},
       "output_type": "pyout",
       "prompt_number": 20,
       "text": [
        "[-1, 1, -1, 1]"
       ]
      },
      {
       "metadata": {},
       "output_type": "display_data",
       "png": "[encoded data removed]",
       "text": [
        "<matplotlib.figure.Figure at 0x4a0be10>"
       ]
      }
     ],
     "prompt_number": 20
    },
    {
     "cell_type": "code",
     "collapsed": false,
     "input": [
      "xps.xps[1].ag.sensorimotor_model.mode"
     ],
     "language": "python",
     "metadata": {},
     "outputs": [
      {
       "metadata": {},
       "output_type": "pyout",
       "prompt_number": 20,
       "text": [
        "'explore'"
       ]
      }
     ],
     "prompt_number": 20
    },
    {
     "cell_type": "code",
     "collapsed": false,
     "input": [],
     "language": "python",
     "metadata": {},
     "outputs": []
    }
   ],
   "metadata": {}
  }
 ]
}