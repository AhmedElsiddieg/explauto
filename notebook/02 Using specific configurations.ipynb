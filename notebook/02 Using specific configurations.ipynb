{
 "metadata": {
  "name": "",
  "signature": "sha256:e19894e7e984e7ad41f5ab58f6af843a1379870e9ce8d8c72ac54efb561dd1d0"
 },
 "nbformat": 3,
 "nbformat_minor": 0,
 "worksheets": [
  {
   "cells": [
    {
     "cell_type": "heading",
     "level": 1,
     "metadata": {},
     "source": [
      "Defining specific configurations"
     ]
    },
    {
     "cell_type": "markdown",
     "metadata": {},
     "source": [
      "In this notebook, we will now se you how specific configurations can be defined and used when creating an experiment. Those configurations are used to customize the environment, the interest, and the sensorimotor model. For instance, this is how you can change the reachable range of each joint in the simulated arm environment."
     ]
    },
    {
     "cell_type": "heading",
     "level": 2,
     "metadata": {},
     "source": [
      "Configuration are just python dictonnary"
     ]
    },
    {
     "cell_type": "markdown",
     "metadata": {},
     "source": [
      "First, we will reload the default configuration of the arm used in the previous tutorial."
     ]
    },
    {
     "cell_type": "code",
     "collapsed": false,
     "input": [
      "from explauto.environment import environments\n",
      "\n",
      "env_cls, env_configs = environments['simple_arm']\n",
      "default_config = env_configs['default']"
     ],
     "language": "python",
     "metadata": {},
     "outputs": [],
     "prompt_number": 1
    },
    {
     "cell_type": "markdown",
     "metadata": {},
     "source": [
      "Each environment comes with its specific parameters that must be specified. A good practice is to always start by looking at the default configuration, duplicate it and modify it to write your custom one."
     ]
    },
    {
     "cell_type": "code",
     "collapsed": false,
     "input": [
      "# We copy the default config in order to modify it\n",
      "my_config = dict(default_config)"
     ],
     "language": "python",
     "metadata": {},
     "outputs": [],
     "prompt_number": 2
    },
    {
     "cell_type": "markdown",
     "metadata": {},
     "source": [
      "As shown in the first tutorial, in low-dimensional space such as the default arm environment, motor and goal babbling are performing rather similarly. To emphasize the difference, we will create a more complex setup: i.e. an arm with more degrees-of-freedom and narrow range on each joints."
     ]
    },
    {
     "cell_type": "markdown",
     "metadata": {},
     "source": [
      "As you can see in the config, you directly define the joints by their range. So, to create a 20 dof arm with range from $[-\\pi/6, \\pi/6]$ you just have to do:"
     ]
    },
    {
     "cell_type": "code",
     "collapsed": false,
     "input": [
      "from numpy import array, pi\n",
      "\n",
      "my_config['m_mins'] = array([-pi/6.] * 20)\n",
      "my_config['m_maxs'] = -1. * my_config['m_mins']"
     ],
     "language": "python",
     "metadata": {},
     "outputs": [],
     "prompt_number": 3
    },
    {
     "cell_type": "markdown",
     "metadata": {},
     "source": [
      "In order to make it accessible by the Experiment class, you need to register your new configuration and add it to the available ones. To do that, you just need to modify the environments dictionnary."
     ]
    },
    {
     "cell_type": "code",
     "collapsed": false,
     "input": [
      "from explauto.environment import environments\n",
      "\n",
      "env, configs = environments['simple_arm']\n",
      "configs['more_complex_arm_config'] = my_config"
     ],
     "language": "python",
     "metadata": {},
     "outputs": [],
     "prompt_number": 4
    },
    {
     "cell_type": "heading",
     "level": 2,
     "metadata": {},
     "source": [
      "Setup an experiment with your custom configuration"
     ]
    },
    {
     "cell_type": "markdown",
     "metadata": {},
     "source": [
      "Now that you registered your new configuration, you can specify to the experiment factory method which configurations to use. The from_settings method can take optionnal parameters for the configuration."
     ]
    },
    {
     "cell_type": "code",
     "collapsed": false,
     "input": [
      "from explauto.experiment import Experiment\n",
      "\n",
      "expe = Experiment.from_settings(environment='simple_arm',\n",
      "                                babbling='motor', \n",
      "                                interest_model='random',\n",
      "                                sensorimotor_model='non_parametric',\n",
      "                                environment_config='more_complex_arm_config')"
     ],
     "language": "python",
     "metadata": {},
     "outputs": [],
     "prompt_number": 5
    },
    {
     "cell_type": "markdown",
     "metadata": {},
     "source": [
      "You can similarly specify custom configurations for interest model (resp. sensorimotor model) thanks to the interest_model_config (resp. sensorimotor_model_config) arguments."
     ]
    },
    {
     "cell_type": "heading",
     "level": 2,
     "metadata": {},
     "source": [
      "Run it and plot it"
     ]
    },
    {
     "cell_type": "markdown",
     "metadata": {},
     "source": [
      "As we added quite a few dof, it will take even more time than previously."
     ]
    },
    {
     "cell_type": "code",
     "collapsed": false,
     "input": [
      "expe.evaluate_at([1, 10, 20, 30, 100, 200])\n",
      "expe.bootstrap(5)\n",
      "expe.run()"
     ],
     "language": "python",
     "metadata": {},
     "outputs": [],
     "prompt_number": 6
    },
    {
     "cell_type": "code",
     "collapsed": false,
     "input": [
      "%pylab inline\n",
      "\n",
      "ax = axes()\n",
      "expe.plot_learning_curve(ax)"
     ],
     "language": "python",
     "metadata": {},
     "outputs": [
      {
       "output_type": "stream",
       "stream": "stdout",
       "text": [
        "Populating the interactive namespace from numpy and matplotlib\n"
       ]
      },
      {
       "metadata": {},
       "output_type": "display_data",
       "png": "[encoded data removed]",
       "text": [
        "<matplotlib.figure.Figure at 0x10a8fb8d0>"
       ]
      }
     ],
     "prompt_number": 7
    },
    {
     "cell_type": "heading",
     "level": 1,
     "metadata": {},
     "source": [
      "Exercises"
     ]
    },
    {
     "cell_type": "markdown",
     "metadata": {},
     "source": [
      "Runs the default pendulum experiment."
     ]
    },
    {
     "cell_type": "code",
     "collapsed": false,
     "input": [],
     "language": "python",
     "metadata": {},
     "outputs": []
    },
    {
     "cell_type": "code",
     "collapsed": false,
     "input": [
      "# Solution\n",
      "%load exercise_solutions/n02-default-pendulum.py"
     ],
     "language": "python",
     "metadata": {},
     "outputs": []
    },
    {
     "cell_type": "markdown",
     "metadata": {},
     "source": [
      "Writes your own configuration to **TODO...** and runs it."
     ]
    },
    {
     "cell_type": "code",
     "collapsed": false,
     "input": [],
     "language": "python",
     "metadata": {},
     "outputs": []
    },
    {
     "cell_type": "code",
     "collapsed": false,
     "input": [
      "# Solution\n",
      "%load exercise_solutions/n02-custom-pendulum.py"
     ],
     "language": "python",
     "metadata": {},
     "outputs": []
    },
    {
     "cell_type": "code",
     "collapsed": false,
     "input": [],
     "language": "python",
     "metadata": {},
     "outputs": []
    }
   ],
   "metadata": {}
  }
 ]
}