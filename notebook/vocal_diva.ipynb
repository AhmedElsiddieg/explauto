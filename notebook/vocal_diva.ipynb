{
 "metadata": {
  "name": "vocal_diva"
 },
 "nbformat": 3,
 "nbformat_minor": 0,
 "worksheets": [
  {
   "cells": [
    {
     "cell_type": "code",
     "collapsed": false,
     "input": [
      "sys.path.append('../model/')\n",
      "sys.path.append('../')\n",
      "sys.path.append('../experiment/')"
     ],
     "language": "python",
     "metadata": {},
     "outputs": [],
     "prompt_number": 12
    },
    {
     "cell_type": "code",
     "collapsed": false,
     "input": [
      "import explauto"
     ],
     "language": "python",
     "metadata": {},
     "outputs": [],
     "prompt_number": 13
    },
    {
     "cell_type": "code",
     "collapsed": false,
     "input": [
      "strat = explauto.Explauto('diva_1')\n",
      "#strat = explauto.Explauto('simple_arm_1')"
     ],
     "language": "python",
     "metadata": {},
     "outputs": [],
     "prompt_number": 14
    },
    {
     "cell_type": "code",
     "collapsed": false,
     "input": [
      "history = zeros((1000000, strat.hist_len))"
     ],
     "language": "python",
     "metadata": {},
     "outputs": [],
     "prompt_number": 15
    },
    {
     "cell_type": "code",
     "collapsed": false,
     "input": [
      "print history[:10,:]"
     ],
     "language": "python",
     "metadata": {},
     "outputs": [
      {
       "output_type": "stream",
       "stream": "stdout",
       "text": [
        "[[  100.           500.           213.05750569  -266.82383187\n",
        "     50.30275098  -139.59214551   -38.33446637   125.53847979\n",
        "   -130.07530027     1.            -1.             1.            -1.            -1.\n",
        "      1.            -1.           224.92349809  1697.56339037     0.        ]\n",
        " [  100.           500.             9.77825442    64.96801462\n",
        "     87.08896245   154.92103695  -230.115685     105.84859891\n",
        "   -239.64060305     1.             1.             1.             1.            -1.\n",
        "      1.            -1.           590.60956349  2477.21734551     0.        ]\n",
        " [  100.           500.           161.99413279  -145.27312504\n",
        "   -316.59595114   107.0847187     56.53522112  -138.60041501\n",
        "    -96.65025653     1.            -1.            -1.             1.             1.\n",
        "     -1.            -1.           628.06366262  1241.15988955     0.        ]\n",
        " [  100.           500.           -84.6597599     44.96212627\n",
        "     96.22329753    72.20548155   107.5631158   -206.11356432   308.0408136\n",
        "     -1.             1.             1.             1.             1.            -1.\n",
        "      1.           914.82251149  1819.16334687     0.        ]\n",
        " [  100.           500.          -171.33941927   -81.1223545   -200.19518566\n",
        "      4.78604417  -308.8873577   -147.15825203  -241.27520369    -1.            -1.\n",
        "     -1.             1.            -1.            -1.            -1.\n",
        "    681.22699516   945.08674092     0.        ]\n",
        " [  100.           500.           255.10471299   460.73101255  -124.3748306\n",
        "    115.98369552    25.7541336     46.0115069    307.73360212     1.             1.\n",
        "     -1.             1.             1.             1.             1.\n",
        "    218.10226822  1898.74489705     0.        ]\n",
        " [  100.           500.           146.20004148    82.83453777\n",
        "   -223.63522622     4.69629822    40.35023732    56.17562359\n",
        "   -407.62875944     1.             1.            -1.             1.             1.\n",
        "      1.            -1.           126.2933179   2002.55316507     0.        ]\n",
        " [  100.           500.           404.89657781   279.91316064\n",
        "   -504.73311018    -4.72336331  -187.21681578   148.75300875\n",
        "     36.95245699     1.             1.            -1.            -1.            -1.\n",
        "      1.             1.            54.75785208  1303.2647143      0.        ]\n",
        " [  100.           500.             6.45042039     4.66179536    -4.2506214\n",
        "      3.39322172    -3.29593348    -2.09162612     7.99842245     1.             1.\n",
        "     -1.             1.            -1.            -1.             1.\n",
        "    152.71426223  1337.20168164     0.        ]\n",
        " [  100.           500.            -0.57995602     3.40743208\n",
        "     -0.64170072     1.32162031     2.00975271    -2.88439067\n",
        "      2.55981203    -0.57995602     1.            -0.64170072     1.             1.\n",
        "     -1.             1.           396.27325344  1672.86063847     0.        ]]\n"
       ]
      }
     ],
     "prompt_number": 20
    },
    {
     "cell_type": "code",
     "collapsed": false,
     "input": [
      "t=0"
     ],
     "language": "python",
     "metadata": {},
     "outputs": [],
     "prompt_number": 16
    },
    {
     "cell_type": "code",
     "collapsed": false,
     "input": [
      "for _ in range(100):\n",
      "    history[t, :] = strat.run()\n",
      "    t += 1\n",
      "ag = strat.exp.ag"
     ],
     "language": "python",
     "metadata": {},
     "outputs": [],
     "prompt_number": 17
    },
    {
     "cell_type": "code",
     "collapsed": false,
     "input": [
      "clf()\n",
      "proj=[7,8]\n",
      "plot(history[:t,0], history[:t:,1], '.', ms=2)\n",
      "#plot(zeros(10), hist[-11:-1,0], 'o')\n",
      "COLORS = ['r', 'g', 'b', 'k', 'm']*10000\n",
      "a=subplot(111)\n",
      "els = ag.sm_model.imle.to_gmm().inference([],proj,[]).get_display_ellipses2D(COLORS)\n",
      "for el in els:\n",
      "    a.add_patch(el)\n",
      "axis('tight')"
     ],
     "language": "python",
     "metadata": {},
     "outputs": [
      {
       "output_type": "pyout",
       "prompt_number": 18,
       "text": [
        "(-364.32654348130762, 1260.4874158191687, 500.0, 2822.8822498405762)"
       ]
      }
     ],
     "prompt_number": 18
    },
    {
     "cell_type": "code",
     "collapsed": false,
     "input": [
      "sys.path.append('../environment/diva/')\n",
      "import diva\n",
      "diva_path = '/home/clement/Documents/Boulot/INRIA_FLOWERS/CODE/DIVAsimulink'"
     ],
     "language": "python",
     "metadata": {},
     "outputs": [],
     "prompt_number": 1
    },
    {
     "cell_type": "code",
     "collapsed": false,
     "input": [
      "randn?"
     ],
     "language": "python",
     "metadata": {},
     "outputs": [],
     "prompt_number": 5
    },
    {
     "cell_type": "code",
     "collapsed": false,
     "input": [
      "m_dims = range(7)\n",
      "s_dims = range(7, 9)\n",
      "i_dims = s_dims\n",
      "inf_dims = m_dims\n",
      "\n",
      "m_ndims = len(m_dims)\n",
      "s_ndims = len(s_dims)\n",
      "\n",
      "ms_bounds=np.array([[-1], [1]]).dot(ones((1, m_ndims))) \n",
      "ms_bounds = hstack((ms_bounds, array([[100., 500.], [700., 2500.]]) ) )\n",
      "#ms_bounds[0, -2] = -0.5\n",
      "noise_env = 200.\n",
      "sigma0_sm = 0.2 ** 2\n",
      "psi0_sm = [noise_env ** 2] * s_ndims\n",
      "\n",
      "sigma0_i = (200.) **2\n",
      "psi0_i = [0.2 ** 2]\n",
      "\n",
      "class Env:\n",
      "    def __init__(self, diva_path):\n",
      "        self.synth = diva.diva_synth(diva_path)\n",
      "    def execute(self,m):\n",
      "        m = maximum(m.flatten(), ms_bounds[0:1,m_dims])\n",
      "        m = minimum(m.flatten(), ms_bounds[1:2,m_dims])\n",
      "        s = self.synth.execute(hstack((m, zeros((1, 13 - m_ndims)))).reshape(-1, 1))[1:3]\n",
      "        s=array(s).reshape(-1,1)\n",
      "        s += noise_env*randn(len(s_dims),1)\n",
      "        return m.reshape(-1,1),s\n",
      "env=Env(diva_path)"
     ],
     "language": "python",
     "metadata": {},
     "outputs": [],
     "prompt_number": 2
    },
    {
     "cell_type": "code",
     "collapsed": false,
     "input": [
      "sys.path.append('../imleSource/python/')\n",
      "sys.path.append('../')\n",
      "sys.path.append('../model/')\n",
      "sys.path.append('../environment/')\n",
      "import simple_arm\n",
      "import exploration\n",
      "from competence import competence_1 as competence\n",
      "import sm_model as smm\n",
      "import i_model as im\n",
      "\n",
      "sm_model = smm.ImleModel(m_dims, s_dims, sigma0_sm, psi0_sm)\n",
      "i_model = im.RandomInterest(ms_bounds[:,i_dims])\n",
      "#i_model = im.ProgressInterest(ms_bounds[:,i_dims], sigma0_i, psi0_i)\n",
      "#i_model = im.GmmInterest(ms_bounds[:,i_dims], sigma0_i, psi0_i)\n",
      "\n",
      "ag=exploration.Agent(m_dims=m_dims, s_dims=s_dims, i_dims=i_dims, inf_dims=inf_dims, env=env, sm_model=sm_model, i_model=i_model, competence=competence)"
     ],
     "language": "python",
     "metadata": {},
     "outputs": [],
     "prompt_number": 3
    },
    {
     "cell_type": "code",
     "collapsed": false,
     "input": [
      "import models\n",
      "class Robot(object):\n",
      "    def __init__(self):\n",
      "        self.s_feats = (0,1)\n",
      "        self.m_feats = tuple(range(-m_ndims, 0))\n",
      "        \n",
      "        self.m_bounds = tuple([tuple(ms_bounds[:, d].T) for d in m_dims])\n",
      "        self.env = env\n",
      "        \n",
      "    def execute_order(self,order):\n",
      "        return tuple(env.execute(order)[1].flatten())\n",
      "    \n",
      "r = Robot()\n",
      "test_set = models.testbed.testcase.uniform_sensor_testcases(r, 100)"
     ],
     "language": "python",
     "metadata": {},
     "outputs": [],
     "prompt_number": 4
    },
    {
     "cell_type": "code",
     "collapsed": false,
     "input": [
      "history = []\n",
      "err = []"
     ],
     "language": "python",
     "metadata": {},
     "outputs": [],
     "prompt_number": 5
    },
    {
     "cell_type": "code",
     "collapsed": false,
     "input": [
      "tests = array([list(test[-1]) for test in test_set])"
     ],
     "language": "python",
     "metadata": {},
     "outputs": [],
     "prompt_number": 18
    },
    {
     "cell_type": "code",
     "collapsed": false,
     "input": [
      "plot(tests[:,0], tests[:,1], 'o', ms=4)"
     ],
     "language": "python",
     "metadata": {},
     "outputs": [
      {
       "output_type": "pyout",
       "prompt_number": 19,
       "text": [
        "[<matplotlib.lines.Line2D at 0x4662610>]"
       ]
      }
     ],
     "prompt_number": 19
    },
    {
     "cell_type": "code",
     "collapsed": false,
     "input": [
      "for _ in range(10):\n",
      "    history+=[vstack(ag.explore(i_dims,inf_dims)) for i in range(10)]\n",
      "    #err.append(mean([linalg.norm(test.reshape(-1,1) - env.execute(ag.sm_model.infer(s_dims, m_dims,test.reshape(-1,1)))[1]) for test in tests]))\n",
      "hist=array(history).squeeze()"
     ],
     "language": "python",
     "metadata": {},
     "outputs": [],
     "prompt_number": 15
    },
    {
     "cell_type": "code",
     "collapsed": false,
     "input": [
      "hist.shape"
     ],
     "language": "python",
     "metadata": {},
     "outputs": [
      {
       "output_type": "pyout",
       "prompt_number": 16,
       "text": [
        "(400, 19)"
       ]
      }
     ],
     "prompt_number": 16
    },
    {
     "cell_type": "code",
     "collapsed": false,
     "input": [
      "clf()\n",
      "proj=[7,8]\n",
      "plot(hist[-400:,0], hist[-400:,1], '.', ms=2)\n",
      "#plot(zeros(10), hist[-11:-1,0], 'o')\n",
      "COLORS = ['r', 'g', 'b', 'k', 'm']*10000\n",
      "a=subplot(111)\n",
      "els = ag.sm_model.imle.to_gmm().inference([],proj,[]).get_display_ellipses2D(COLORS)\n",
      "for el in els:\n",
      "    a.add_patch(el)\n",
      "axis('tight')"
     ],
     "language": "python",
     "metadata": {},
     "outputs": [
      {
       "output_type": "pyout",
       "prompt_number": 17,
       "text": [
        "(-473.3073214072873,\n",
        " 1022.9978260447481,\n",
        " 522.14440759367187,\n",
        " 3049.3955383860161)"
       ]
      }
     ],
     "prompt_number": 17
    },
    {
     "cell_type": "code",
     "collapsed": false,
     "input": [
      "plot("
     ],
     "language": "python",
     "metadata": {},
     "outputs": []
    },
    {
     "cell_type": "code",
     "collapsed": false,
     "input": [
      "print synth.execute(zeros((13, 1)))"
     ],
     "language": "python",
     "metadata": {},
     "outputs": [
      {
       "output_type": "stream",
       "stream": "stdout",
       "text": [
        "[  100.           435.60105546  1612.45242916  2803.06655527]\n"
       ]
      }
     ],
     "prompt_number": 25
    },
    {
     "cell_type": "code",
     "collapsed": false,
     "input": [
      "f1f2 = array([aud[1:3] for aud in synth.execute(2. * rand(13, 10000) - 1.).T])"
     ],
     "language": "python",
     "metadata": {},
     "outputs": [],
     "prompt_number": 23
    },
    {
     "cell_type": "code",
     "collapsed": false,
     "input": [
      "plot(f1f2[:,0], f1f2[:, 1], 'x')"
     ],
     "language": "python",
     "metadata": {},
     "outputs": [
      {
       "output_type": "pyout",
       "prompt_number": 24,
       "text": [
        "[<matplotlib.lines.Line2D at 0x3654d90>]"
       ]
      }
     ],
     "prompt_number": 24
    },
    {
     "cell_type": "code",
     "collapsed": false,
     "input": [
      "synth.stop()"
     ],
     "language": "python",
     "metadata": {},
     "outputs": [],
     "prompt_number": 26
    },
    {
     "cell_type": "code",
     "collapsed": false,
     "input": [],
     "language": "python",
     "metadata": {},
     "outputs": []
    }
   ],
   "metadata": {}
  }
 ]
}