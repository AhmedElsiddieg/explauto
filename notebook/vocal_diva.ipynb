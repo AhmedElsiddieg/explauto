{
 "metadata": {
  "name": "vocal_diva"
 },
 "nbformat": 3,
 "nbformat_minor": 0,
 "worksheets": [
  {
   "cells": [
    {
     "cell_type": "code",
     "collapsed": false,
     "input": [
      "sys.path.append('../environment/diva/')\n",
      "import diva\n",
      "diva_path = '/home/clement/Documents/Boulot/INRIA_FLOWERS/CODE/DIVAsimulink'"
     ],
     "language": "python",
     "metadata": {},
     "outputs": [],
     "prompt_number": 1
    },
    {
     "cell_type": "code",
     "collapsed": false,
     "input": [
      "m_dims = range(7)\n",
      "s_dims = range(7, 9)\n",
      "i_dims = s_dims\n",
      "inf_dims = m_dims\n",
      "\n",
      "m_ndims = len(m_dims)\n",
      "s_ndims = len(s_dims)\n",
      "\n",
      "ms_bounds=np.array([[-1], [1]]).dot(ones((1, m_ndims))) \n",
      "ms_bounds = hstack((ms_bounds, array([[100., 500.], [700., 2500.]]) ) )\n",
      "#ms_bounds[0, -2] = -0.5\n",
      "noise_env = 10.\n",
      "sigma0_sm = 0.2 ** 2\n",
      "psi0_sm = [noise_env ** 2] * s_ndims\n",
      "\n",
      "sigma0_i = (200.) **2\n",
      "psi0_i = [0.2 ** 2]\n",
      "\n",
      "class Env:\n",
      "    def __init__(self, diva_path):\n",
      "        self.synth = diva.diva_synth(diva_path)\n",
      "    def execute(self,m):\n",
      "        m = maximum(m.flatten(), ms_bounds[0:1,m_dims])\n",
      "        m = minimum(m.flatten(), ms_bounds[1:2,m_dims])\n",
      "        s = self.synth.execute(hstack((m, zeros((1, 13 - m_ndims)))).reshape(-1, 1))[1:3]\n",
      "        s=array(s).reshape(-1,1)\n",
      "        s += noise_env*randn(len(s_dims),1)\n",
      "        return m.reshape(-1,1),s\n",
      "env=Env(diva_path)"
     ],
     "language": "python",
     "metadata": {},
     "outputs": [],
     "prompt_number": 2
    },
    {
     "cell_type": "code",
     "collapsed": false,
     "input": [
      "sys.path.append('../imleSource/python/')\n",
      "sys.path.append('../')\n",
      "sys.path.append('../model/')\n",
      "sys.path.append('../environment/')\n",
      "import simple_arm\n",
      "import exploration\n",
      "from competence import competence_1 as competence\n",
      "import sm_model as smm\n",
      "import i_model as im\n",
      "\n",
      "sm_model = smm.ImleModel(m_dims, s_dims, sigma0_sm, psi0_sm)\n",
      "i_model = im.RandomInterest(ms_bounds[:,i_dims])\n",
      "#i_model = im.ProgressInterest(ms_bounds[:,i_dims], sigma0_i, psi0_i)\n",
      "#i_model = im.GmmInterest(ms_bounds[:,i_dims], sigma0_i, psi0_i)\n",
      "\n",
      "ag=exploration.Agent(m_dims=m_dims, s_dims=s_dims, i_dims=i_dims, inf_dims=inf_dims, env=env, sm_model=sm_model, i_model=i_model, competence=competence)"
     ],
     "language": "python",
     "metadata": {},
     "outputs": [
      {
       "output_type": "stream",
       "stream": "stdout",
       "text": [
        "[[ 0.  0.  0.  0.  0.  0.  0.]] [[ 0.  0.  0.  0.  0.  0.  0.  0.  0.  0.  0.  0.  0.]]\n"
       ]
      }
     ],
     "prompt_number": 3
    },
    {
     "cell_type": "code",
     "collapsed": false,
     "input": [],
     "language": "python",
     "metadata": {},
     "outputs": []
    },
    {
     "cell_type": "code",
     "collapsed": false,
     "input": [],
     "language": "python",
     "metadata": {},
     "outputs": []
    },
    {
     "cell_type": "code",
     "collapsed": false,
     "input": [
      "import diva\n",
      "synth = diva.diva_synth('/home/clement/Documents/Boulot/INRIA_FLOWERS/CODE/DIVAsimulink')"
     ],
     "language": "python",
     "metadata": {},
     "outputs": [],
     "prompt_number": 2
    },
    {
     "cell_type": "code",
     "collapsed": false,
     "input": [],
     "language": "python",
     "metadata": {},
     "outputs": []
    },
    {
     "cell_type": "code",
     "collapsed": false,
     "input": [
      "print synth.execute(zeros((13, 1)))"
     ],
     "language": "python",
     "metadata": {},
     "outputs": [
      {
       "output_type": "stream",
       "stream": "stdout",
       "text": [
        "[  100.           435.60105546  1612.45242916  2803.06655527]\n"
       ]
      }
     ],
     "prompt_number": 25
    },
    {
     "cell_type": "code",
     "collapsed": false,
     "input": [
      "f1f2 = array([aud[1:3] for aud in synth.execute(2. * rand(13, 10000) - 1.).T])"
     ],
     "language": "python",
     "metadata": {},
     "outputs": [],
     "prompt_number": 23
    },
    {
     "cell_type": "code",
     "collapsed": false,
     "input": [
      "plot(f1f2[:,0], f1f2[:, 1], 'x')"
     ],
     "language": "python",
     "metadata": {},
     "outputs": [
      {
       "output_type": "pyout",
       "prompt_number": 24,
       "text": [
        "[<matplotlib.lines.Line2D at 0x3654d90>]"
       ]
      }
     ],
     "prompt_number": 24
    },
    {
     "cell_type": "code",
     "collapsed": false,
     "input": [
      "synth.stop()"
     ],
     "language": "python",
     "metadata": {},
     "outputs": [],
     "prompt_number": 26
    },
    {
     "cell_type": "code",
     "collapsed": false,
     "input": [],
     "language": "python",
     "metadata": {},
     "outputs": []
    }
   ],
   "metadata": {}
  }
 ]
}