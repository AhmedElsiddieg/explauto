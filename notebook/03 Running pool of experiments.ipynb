{
 "metadata": {
  "name": "",
  "signature": "sha256:3c91efb4a92be08f17e5426cd39334e9613a3e8f3b18929c0029feb71803697a"
 },
 "nbformat": 3,
 "nbformat_minor": 0,
 "worksheets": [
  {
   "cells": [
    {
     "cell_type": "heading",
     "level": 1,
     "metadata": {},
     "source": [
      "Easy comparison of experiments"
     ]
    },
    {
     "cell_type": "code",
     "collapsed": false,
     "input": [],
     "language": "python",
     "metadata": {},
     "outputs": []
    }
   ],
   "metadata": {}
  }
 ]
}