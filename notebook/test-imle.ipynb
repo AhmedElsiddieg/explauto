{
 "metadata": {
  "name": "test-imle"
 },
 "nbformat": 3,
 "nbformat_minor": 0,
 "worksheets": [
  {
   "cells": [
    {
     "cell_type": "code",
     "collapsed": false,
     "input": [
      "import sys\n",
      "\n",
      "sys.path.append('..')"
     ],
     "language": "python",
     "metadata": {},
     "outputs": [],
     "prompt_number": 1
    },
    {
     "cell_type": "code",
     "collapsed": false,
     "input": [
      "from skel_xp_torso import Torso\n",
      "\n",
      "torso = Torso(os='linux', opti_addr='193.50.110.196')"
     ],
     "language": "python",
     "metadata": {},
     "outputs": [],
     "prompt_number": 2
    },
    {
     "cell_type": "code",
     "collapsed": false,
     "input": [
      "for m in torso.robot.motors:\n",
      "    m.compliant = False"
     ],
     "language": "python",
     "metadata": {},
     "outputs": [],
     "prompt_number": 3
    },
    {
     "cell_type": "code",
     "collapsed": false,
     "input": [
      "data = load('clement.npy')\n",
      "\n",
      "q_train = data[:, :7]\n",
      "pos_train = data[:, 7:]"
     ],
     "language": "python",
     "metadata": {},
     "outputs": [],
     "prompt_number": 4
    },
    {
     "cell_type": "code",
     "collapsed": false,
     "input": [
      "import imle"
     ],
     "language": "python",
     "metadata": {},
     "outputs": [],
     "prompt_number": 5
    },
    {
     "cell_type": "code",
     "collapsed": false,
     "input": [
      "model = imle.Imle(p0=0.3)"
     ],
     "language": "python",
     "metadata": {},
     "outputs": [],
     "prompt_number": 6
    },
    {
     "cell_type": "code",
     "collapsed": false,
     "input": [
      "for z, x in zip(q_train, pos_train):\n",
      "    model.update(z, x)"
     ],
     "language": "python",
     "metadata": {},
     "outputs": [],
     "prompt_number": 7
    },
    {
     "cell_type": "code",
     "collapsed": false,
     "input": [
      "model.number_of_experts"
     ],
     "language": "python",
     "metadata": {},
     "outputs": [
      {
       "output_type": "pyout",
       "prompt_number": 8,
       "text": [
        "1"
       ]
      }
     ],
     "prompt_number": 8
    },
    {
     "cell_type": "code",
     "collapsed": false,
     "input": [
      "model"
     ],
     "language": "python",
     "metadata": {},
     "outputs": [
      {
       "output_type": "pyout",
       "prompt_number": 9,
       "text": [
        "------ #1:\n",
        "Nu=\n",
        "0.00604129\n",
        "0.523822\n",
        "0.413949\n",
        "0.792881\n",
        "-1.53243\n",
        "0.336092\n",
        "1.49176\n",
        "invSigma=\n",
        "     3.01103  -0.00013115 -2.22499e-05  0.000222602  6.72316e-05 -7.28724e-05  1.17048e-05\n",
        " -0.00013115      2.78639   -0.0136448    0.0513415    0.0639519    -0.040473   -0.0149796\n",
        "-2.22499e-05   -0.0136448       2.9905    0.0048296    0.0136647  -0.00973904  -0.00710442\n",
        " 0.000222602    0.0513415    0.0048296      2.92776   -0.0305587    0.0248756    0.0275081\n",
        " 6.72316e-05    0.0639519    0.0136647   -0.0305587       2.9785     0.014675    0.0220654\n",
        "-7.28724e-05    -0.040473  -0.00973904    0.0248756     0.014675      2.99153  -0.00695557\n",
        " 1.17048e-05   -0.0149796  -0.00710442    0.0275081    0.0220654  -0.00695557      2.97936\n",
        "Mu=\n",
        "0.256288\n",
        "0.0529923\n",
        "0.09539\n",
        "Lambda=\n",
        " 0.00204767   0.0833233  -0.0661506   0.0095595  -0.0270229   0.0125166 -0.00732863\n",
        "-0.00500569    0.295557   0.0178204    0.238618 -0.00451382   0.0478981  -0.0314312\n",
        "0.000666747  0.00150622   -0.140468  -0.0693731   0.0149726  -0.0496484   0.0274296\n",
        "Psi=\n",
        "0.336631\n",
        "0.336666\n",
        "0.336623\n",
        "H=\n",
        "185\n",
        "Sh=\n",
        "175.59\n",
        "Sz=\n",
        "1.06079\n",
        "91.978\n",
        "72.6853\n",
        "139.222\n",
        "-269.08\n",
        "59.0143\n",
        "261.939\n",
        "Sx=\n",
        "45.0016\n",
        "9.30493\n",
        "16.7495\n",
        "Sxz=\n",
        "0.272362   24.216  18.6331  35.5413  -69.132   15.229  67.1663\n",
        "0.0556521  6.72216  3.97069  7.48456 -14.6624   3.3672  13.8129\n",
        " 0.10147  8.75707  6.83249  13.1453 -25.6577    5.609  25.0231\n",
        "invSzz=\n",
        "   14.0123  0.0372805  0.0462368  0.0124629   0.147898 -0.0537287  0.0747981\n",
        " 0.0372805   0.432373   0.328137   0.127372   0.927094  -0.358098   0.721767\n",
        " 0.0462368   0.328137    2.31953 -0.0646118    1.16786   -1.01393   0.702302\n",
        " 0.0124629   0.127372 -0.0646118   0.376714   0.457299    0.37727   0.158573\n",
        "  0.147898   0.927094    1.16786   0.457299    3.86602   0.208801    3.02888\n",
        "-0.0537287  -0.358098   -1.01393    0.37727   0.208801    3.13662  -0.284195\n",
        " 0.0747981   0.721767   0.702302   0.158573    3.02888  -0.284195    2.64262\n",
        "invSzz0=\n",
        "   0.0110971 -5.40424e-06 -4.42101e-06 -8.02728e-06  1.65638e-05 -3.76591e-06 -1.59394e-05\n",
        "-5.40424e-06   0.00990089 -0.000375057 -0.000473019   0.00145693 -0.000410934  -0.00125149\n",
        "-4.42101e-06 -0.000375057    0.0107351 -0.000566131   0.00112719 -0.000266711    -0.001081\n",
        "-8.02728e-06 -0.000473019 -0.000566131   0.00959952   0.00208314 -0.000378982  -0.00204951\n",
        " 1.65638e-05   0.00145693   0.00112719   0.00208314     0.006928  0.000922034   0.00404779\n",
        "-3.76591e-06 -0.000410934 -0.000266711 -0.000378982  0.000922034    0.0108392 -0.000875844\n",
        "-1.59394e-05  -0.00125149    -0.001081  -0.00204951   0.00404779 -0.000875844     0.007095\n",
        "detInvSzz0=\n",
        "1.50003e-15\n",
        "Sxx=\n",
        "101.708\n",
        "91.2086\n",
        "91.7383\n",
        "Nu0=\n",
        "0.00767945\n",
        "0.117461\n",
        "0.386416\n",
        "0.969879\n",
        "-1.40499\n",
        "0.197048\n",
        "1.41372\n",
        "------------------------------------------\n",
        "-----------------------    Common    ----\n",
        "M= 1\n",
        "sigma= 0.663615\n",
        "0.684348\n",
        "0.665427\n",
        "0.671065\n",
        "0.666494\n",
        "0.665336\n",
        "0.666417\n",
        "Psi= 1\n",
        "1\n",
        "1\n"
       ]
      }
     ],
     "prompt_number": 9
    },
    {
     "cell_type": "code",
     "collapsed": false,
     "input": [
      "from pypot.kinematics import translation_from_transf\n",
      "\n",
      "e = []\n",
      "\n",
      "for p in pos_train:\n",
      "    q = model.predict_inverse(p)[0]\n",
      "    p2 = translation_from_transf(torso.right_arm_chain.forward_kinematics(q)[0])\n",
      "    e.append(norm(p2 - p))\n",
      "\n",
      "plot(e)"
     ],
     "language": "python",
     "metadata": {},
     "outputs": [
      {
       "output_type": "pyout",
       "prompt_number": 20,
       "text": [
        "[<matplotlib.lines.Line2D at 0xb206c6c>]"
       ]
      },
      {
       "output_type": "display_data",
       "png": "[encoded data removed]"
      }
     ],
     "prompt_number": 20
    },
    {
     "cell_type": "code",
     "collapsed": false,
     "input": [],
     "language": "python",
     "metadata": {},
     "outputs": [],
     "prompt_number": 18
    },
    {
     "cell_type": "code",
     "collapsed": false,
     "input": [],
     "language": "python",
     "metadata": {},
     "outputs": [
      {
       "output_type": "pyout",
       "prompt_number": 19,
       "text": [
        "array([ 0.221,  0.049,  0.112])"
       ]
      }
     ],
     "prompt_number": 19
    },
    {
     "cell_type": "code",
     "collapsed": false,
     "input": [
      "e = array([norm(model.predict_inverse(pos_train[i])[0] - q_train[i]) for i in range(len(pos_train))])\n",
      "plot(pos_train[:,1], e, 'o')"
     ],
     "language": "python",
     "metadata": {},
     "outputs": [
      {
       "output_type": "pyout",
       "prompt_number": 13,
       "text": [
        "[<matplotlib.lines.Line2D at 0xaf3206c>]"
       ]
      },
      {
       "output_type": "display_data",
       "png": "[encoded data removed]"
      },
      {
       "output_type": "stream",
       "stream": "stderr",
       "text": [
        "WARNING:root:timeout occured in motors 11 after sending DxlInstructionPacket(id=11, instruction=2, parameters=(43, 1))\n"
       ]
      },
      {
       "output_type": "stream",
       "stream": "stderr",
       "text": [
        "WARNING:root:timeout occured in motors 11 after sending DxlInstructionPacket(id=11, instruction=2, parameters=(42, 1))\n"
       ]
      }
     ],
     "prompt_number": 13
    },
    {
     "cell_type": "code",
     "collapsed": false,
     "input": [
      "model.predict(q_train[0])"
     ],
     "language": "python",
     "metadata": {},
     "outputs": [
      {
       "output_type": "pyout",
       "prompt_number": 29,
       "text": [
        "array([ 0.225, -0.023,  0.093])"
       ]
      }
     ],
     "prompt_number": 29
    },
    {
     "cell_type": "code",
     "collapsed": false,
     "input": [
      "pos_train[0]"
     ],
     "language": "python",
     "metadata": {},
     "outputs": [
      {
       "output_type": "pyout",
       "prompt_number": 31,
       "text": [
        "array([ 0.217, -0.029,  0.093])"
       ]
      }
     ],
     "prompt_number": 31
    },
    {
     "cell_type": "code",
     "collapsed": false,
     "input": [],
     "language": "python",
     "metadata": {},
     "outputs": []
    }
   ],
   "metadata": {}
  }
 ]
}