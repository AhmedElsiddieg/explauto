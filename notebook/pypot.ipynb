{
 "metadata": {
  "name": "",
  "signature": "sha256:3f51ab33dfd293499ac52e03817a10df1214fc066b6a579c7efa6d731bbd52fb"
 },
 "nbformat": 3,
 "nbformat_minor": 0,
 "worksheets": [
  {
   "cells": [
    {
     "cell_type": "code",
     "collapsed": false,
     "input": [
      "%pylab inline"
     ],
     "language": "python",
     "metadata": {},
     "outputs": [
      {
       "output_type": "stream",
       "stream": "stdout",
       "text": [
        "Populating the interactive namespace from numpy and matplotlib\n"
       ]
      }
     ],
     "prompt_number": 1
    },
    {
     "cell_type": "code",
     "collapsed": false,
     "input": [
      "from pypot.sensor.optibridge import OptiTrackClient\n",
      "\n",
      "opti = OptiTrackClient('193.50.110.99', 8989, ('gripper', ))\n",
      "opti.start()"
     ],
     "language": "python",
     "metadata": {},
     "outputs": [],
     "prompt_number": 2
    },
    {
     "cell_type": "code",
     "collapsed": false,
     "input": [
      "opti.tracked_objects['gripper'].position"
     ],
     "language": "python",
     "metadata": {},
     "outputs": [
      {
       "metadata": {},
       "output_type": "pyout",
       "prompt_number": 11,
       "text": [
        "array([-0.08526997,  0.01282125, -0.3322643 ])"
       ]
      }
     ],
     "prompt_number": 11
    },
    {
     "cell_type": "code",
     "collapsed": false,
     "input": [
      "from explauto.environment.pypot.pypot_robot import PypotEnvironment\n",
      "\n",
      "motors = ['head_pan', 'base_tilt_lower', 'base_tilt_upper']\n",
      "N = len(motors)\n",
      "m_mins = array([-pi/6] * N)\n",
      "m_maxs = array([+pi/6] * N)\n",
      "\n",
      "s_mins = array([-0.3, 0.0, -0.5])\n",
      "s_maxs = array([0.1, 0.5, 0.0])\n",
      "\n",
      "import json\n",
      "with open('/Users/pierrerouanet/dev/soldering/notebook/arm_mac.json') as f:\n",
      "    robot_config = json.load(f)\n",
      "    \n",
      "move_duration = 0.5\n",
      "opti_track = opti\n",
      "tracked_obj = 'gripper'\n",
      "\n",
      "env = PypotEnvironment(m_mins, m_maxs, s_mins, s_maxs,\n",
      "                       robot_config, motors, move_duration,\n",
      "                       opti_track, tracked_obj)"
     ],
     "language": "python",
     "metadata": {},
     "outputs": [],
     "prompt_number": 4
    },
    {
     "cell_type": "code",
     "collapsed": false,
     "input": [
      "for m in env.robot.motors:\n",
      "    m.compliant = False\n",
      "    m.goal_position = 0"
     ],
     "language": "python",
     "metadata": {},
     "outputs": [],
     "prompt_number": 5
    },
    {
     "cell_type": "code",
     "collapsed": false,
     "input": [
      "from explauto.agent import Agent\n",
      "from explauto.interest_model import interest_models\n",
      "from explauto.sensorimotor_model import sensorimotor_models\n",
      "\n",
      "print interest_models.keys()\n",
      "print sensorimotor_models.keys()\n",
      "\n",
      "im_cls, im_configs = interest_models['random']\n",
      "sm_cls, sm_configs = sensorimotor_models['non_parametric']\n",
      "print im_configs.keys()\n",
      "print sm_configs.keys()\n",
      "\n",
      "agent = Agent(im_cls, im_configs['default'], env.conf.m_dims,\n",
      "              sm_cls, sm_configs['default'], env.conf.s_dims,\n",
      "              env.conf.m_mins, env.conf.m_maxs, env.conf.s_mins, env.conf.s_maxs)"
     ],
     "language": "python",
     "metadata": {},
     "outputs": [
      {
       "output_type": "stream",
       "stream": "stdout",
       "text": [
        "warning: cdataset.cLWLRForwardModel import error, defaulting to (slower) python implementation.\n",
        "['learning_progress', 'random']\n",
        "['non_parametric']\n",
        "['default']\n",
        "['default']\n"
       ]
      }
     ],
     "prompt_number": 6
    },
    {
     "cell_type": "code",
     "collapsed": false,
     "input": [
      "from explauto.experiment import Experiment\n",
      "\n",
      "expe = Experiment(env, agent)\n",
      "expe.bootstrap(3)"
     ],
     "language": "python",
     "metadata": {},
     "outputs": [],
     "prompt_number": 7
    },
    {
     "cell_type": "code",
     "collapsed": false,
     "input": [
      "expe.run(100)"
     ],
     "language": "python",
     "metadata": {},
     "outputs": [
      {
       "output_type": "stream",
       "stream": "stderr",
       "text": [
        "WARNING:explauto.experiment.experiment:Environment update error at time 0 with motor command [ 0.49847452 -0.49962461 -0.14501512]. This iteration wont be used to update agent models\n"
       ]
      },
      {
       "output_type": "stream",
       "stream": "stderr",
       "text": [
        "WARNING:explauto.experiment.experiment:Environment update error at time 27 with motor command [ 0.1356394  -0.45980169 -0.25398888]. This iteration wont be used to update agent models\n"
       ]
      },
      {
       "output_type": "stream",
       "stream": "stderr",
       "text": [
        "WARNING:explauto.experiment.experiment:Environment update error at time 62 with motor command [ 0.41955574 -0.39140824 -0.01823567]. This iteration wont be used to update agent models\n"
       ]
      },
      {
       "output_type": "stream",
       "stream": "stderr",
       "text": [
        "WARNING:explauto.experiment.experiment:Environment update error at time 69 with motor command [ 0.19375162 -0.32946007 -0.30767155]. This iteration wont be used to update agent models\n"
       ]
      },
      {
       "output_type": "stream",
       "stream": "stderr",
       "text": [
        "WARNING:explauto.experiment.experiment:Environment update error at time 78 with motor command [ 0.46305901 -0.12051758 -0.4739415 ]. This iteration wont be used to update agent models\n"
       ]
      },
      {
       "output_type": "stream",
       "stream": "stderr",
       "text": [
        "WARNING:explauto.experiment.experiment:Environment update error at time 81 with motor command [ 0.15828322 -0.35078276 -0.24051764]. This iteration wont be used to update agent models\n"
       ]
      },
      {
       "output_type": "stream",
       "stream": "stderr",
       "text": [
        "WARNING:explauto.experiment.experiment:Environment update error at time 87 with motor command [ 0.17920372 -0.23407548 -0.31424848]. This iteration wont be used to update agent models\n"
       ]
      },
      {
       "output_type": "stream",
       "stream": "stderr",
       "text": [
        "WARNING:explauto.experiment.experiment:Environment update error at time 95 with motor command [ 0.33284725 -0.19218412 -0.20611499]. This iteration wont be used to update agent models\n"
       ]
      }
     ],
     "prompt_number": 8
    },
    {
     "cell_type": "code",
     "collapsed": false,
     "input": [
      "from collections import OrderedDict\n",
      "\n",
      "ax = pylab.axes()\n",
      "expe.scatter_plot(ax, (('motor', [1]), ('sensori', [1])))\n",
      "\n",
      "ax = pylab.axes()\n",
      "expe.scatter_plot(ax, (('motor', [1]), ('choice', [1])))"
     ],
     "language": "python",
     "metadata": {},
     "outputs": [
      {
       "metadata": {},
       "output_type": "display_data",
       "png": "[encoded data removed]",
       "text": [
        "<matplotlib.figure.Figure at 0x112e3dfd0>"
       ]
      }
     ],
     "prompt_number": 10
    },
    {
     "cell_type": "code",
     "collapsed": false,
     "input": [],
     "language": "python",
     "metadata": {},
     "outputs": []
    }
   ],
   "metadata": {}
  }
 ]
}