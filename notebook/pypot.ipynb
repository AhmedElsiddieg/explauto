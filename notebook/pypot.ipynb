{
 "metadata": {
  "name": "",
  "signature": "sha256:8947e98f64d5e7fa981a1c4c58d9b637dba19fb927293a505cc508097a835b81"
 },
 "nbformat": 3,
 "nbformat_minor": 0,
 "worksheets": [
  {
   "cells": [
    {
     "cell_type": "code",
     "collapsed": false,
     "input": [
      "%pylab inline"
     ],
     "language": "python",
     "metadata": {},
     "outputs": [
      {
       "output_type": "stream",
       "stream": "stdout",
       "text": [
        "Populating the interactive namespace from numpy and matplotlib\n"
       ]
      }
     ],
     "prompt_number": 1
    },
    {
     "cell_type": "code",
     "collapsed": false,
     "input": [
      "from pypot.sensor.optibridge import OptiTrackClient\n",
      "\n",
      "opti = OptiTrackClient('193.50.110.99', 8989, ('gripper', ))\n",
      "opti.start()"
     ],
     "language": "python",
     "metadata": {},
     "outputs": [],
     "prompt_number": 2
    },
    {
     "cell_type": "code",
     "collapsed": false,
     "input": [
      "opti.tracked_objects['gripper'].position"
     ],
     "language": "python",
     "metadata": {},
     "outputs": [
      {
       "metadata": {},
       "output_type": "pyout",
       "prompt_number": 3,
       "text": [
        "array([-0.04109411,  0.01458546, -0.17229633])"
       ]
      }
     ],
     "prompt_number": 3
    },
    {
     "cell_type": "code",
     "collapsed": false,
     "input": [
      "from explauto.environment.pypot.pypot_robot import PypotEnvironment\n",
      "\n",
      "motors = ['head_pan', 'base_tilt_lower', 'base_tilt_upper']\n",
      "N = len(motors)\n",
      "m_mins = array([-pi/6] * N)\n",
      "m_maxs = array([+pi/6] * N)\n",
      "\n",
      "s_mins = array([-0.3, 0.0, -0.5])\n",
      "s_maxs = array([0.1, 0.5, 0.0])\n",
      "\n",
      "import json\n",
      "with open('/Users/pierrerouanet/dev/soldering/notebook/arm_mac.json') as f:\n",
      "    robot_config = json.load(f)\n",
      "    \n",
      "move_duration = 0.5\n",
      "opti_track = opti\n",
      "tracked_obj = 'gripper'\n",
      "\n",
      "env = PypotEnvironment(m_mins, m_maxs, s_mins, s_maxs,\n",
      "                       robot_config, motors, move_duration,\n",
      "                       opti_track, tracked_obj)"
     ],
     "language": "python",
     "metadata": {},
     "outputs": [],
     "prompt_number": 4
    },
    {
     "cell_type": "code",
     "collapsed": false,
     "input": [
      "for m in env.robot.motors:\n",
      "    m.compliant = False\n",
      "    m.goal_position = 0"
     ],
     "language": "python",
     "metadata": {},
     "outputs": [],
     "prompt_number": 5
    },
    {
     "cell_type": "code",
     "collapsed": false,
     "input": [
      "from explauto.agent import Agent\n",
      "from explauto.interest_model import interest_models\n",
      "from explauto.sensorimotor_model import sensorimotor_models\n",
      "\n",
      "print interest_models.keys()\n",
      "print sensorimotor_models.keys()\n",
      "\n",
      "im_cls, im_configs = interest_models['random']\n",
      "sm_cls, sm_configs = sensorimotor_models['non_parametric']\n",
      "print im_configs.keys()\n",
      "print sm_configs.keys()\n",
      "\n",
      "agent = Agent(im_cls, im_configs['default'], env.conf.m_dims,\n",
      "              sm_cls, sm_configs['default'], env.conf.s_dims,\n",
      "              env.conf.m_mins, env.conf.m_maxs, env.conf.s_mins, env.conf.s_maxs)"
     ],
     "language": "python",
     "metadata": {},
     "outputs": [
      {
       "output_type": "stream",
       "stream": "stdout",
       "text": [
        "warning: cdataset.cLWLRForwardModel import error, defaulting to (slower) python implementation.\n",
        "['learning_progress', 'random']\n",
        "['non_parametric']\n",
        "['default']\n",
        "['default']\n"
       ]
      }
     ],
     "prompt_number": 6
    },
    {
     "cell_type": "code",
     "collapsed": false,
     "input": [
      "from explauto.experiment import Experiment\n",
      "\n",
      "expe = Experiment(env, agent)\n",
      "expe.bootstrap(3)"
     ],
     "language": "python",
     "metadata": {},
     "outputs": [
      {
       "output_type": "stream",
       "stream": "stderr",
       "text": [
        "WARNING:explauto.experiment.experiment:Environment update error at time 9 with motor command [-0.11043748 -0.45161123 -0.11881079]\n"
       ]
      },
      {
       "output_type": "stream",
       "stream": "stderr",
       "text": [
        "WARNING:explauto.experiment.experiment:Environment update error at time 15 with motor command [ 0.26672094 -0.48320482 -0.08125705]\n"
       ]
      },
      {
       "output_type": "stream",
       "stream": "stderr",
       "text": [
        "WARNING:explauto.experiment.experiment:Environment update error at time 21 with motor command [ 0.16726158 -0.34440419 -0.41339651]\n"
       ]
      },
      {
       "output_type": "stream",
       "stream": "stderr",
       "text": [
        "WARNING:explauto.experiment.experiment:Environment update error at time 23 with motor command [ 0.46388759 -0.23373766 -0.1479882 ]\n"
       ]
      },
      {
       "output_type": "stream",
       "stream": "stderr",
       "text": [
        "WARNING:explauto.experiment.experiment:Environment update error at time 26 with motor command [ 0.3016918   0.33384363  0.38470317]\n"
       ]
      },
      {
       "output_type": "stream",
       "stream": "stderr",
       "text": [
        "WARNING:explauto.experiment.experiment:Environment update error at time 29 with motor command [ 0.41314792 -0.52058792 -0.07651908]\n"
       ]
      },
      {
       "output_type": "stream",
       "stream": "stderr",
       "text": [
        "WARNING:explauto.experiment.experiment:Environment update error at time 34 with motor command [ 0.1841823  -0.29958604 -0.29407823]\n"
       ]
      },
      {
       "output_type": "stream",
       "stream": "stderr",
       "text": [
        "WARNING:explauto.experiment.experiment:Environment update error at time 55 with motor command [ 0.367741   -0.48101788 -0.34983219]\n"
       ]
      },
      {
       "output_type": "stream",
       "stream": "stderr",
       "text": [
        "WARNING:explauto.experiment.experiment:Environment update error at time 59 with motor command [ 0.45521306 -0.52163232  0.10064229]\n"
       ]
      },
      {
       "output_type": "stream",
       "stream": "stderr",
       "text": [
        "WARNING:explauto.experiment.experiment:Environment update error at time 74 with motor command [ 0.32906067 -0.09843401 -0.24136947]\n"
       ]
      },
      {
       "output_type": "stream",
       "stream": "stderr",
       "text": [
        "WARNING:explauto.experiment.experiment:Environment update error at time 75 with motor command [ 0.2738095  -0.16802766 -0.08707891]\n"
       ]
      },
      {
       "output_type": "stream",
       "stream": "stderr",
       "text": [
        "WARNING:explauto.experiment.experiment:Environment update error at time 78 with motor command [ 0.50702392 -0.22956507 -0.00170108]\n"
       ]
      },
      {
       "output_type": "stream",
       "stream": "stderr",
       "text": [
        "WARNING:explauto.experiment.experiment:Environment update error at time 83 with motor command [-0.00470677 -0.33914852 -0.5064445 ]\n"
       ]
      },
      {
       "output_type": "stream",
       "stream": "stderr",
       "text": [
        "WARNING:explauto.experiment.experiment:Environment update error at time 87 with motor command [ 0.51651162  0.0849398  -0.49148809]\n"
       ]
      }
     ],
     "prompt_number": 17
    },
    {
     "cell_type": "code",
     "collapsed": false,
     "input": [
      "expe.run(100)"
     ],
     "language": "python",
     "metadata": {},
     "outputs": []
    },
    {
     "cell_type": "code",
     "collapsed": false,
     "input": [
      "from collections import OrderedDict\n",
      "\n",
      "ax = pylab.axes()\n",
      "expe.scatter_plot(ax, (('motor', [1]), ('sensori', [1])), range(expe.counts['motor']), 'o')\n",
      "\n",
      "ax = pylab.axes()\n",
      "expe.scatter_plot(ax, (('motor', [1]), ('choice', [1])), range(expe.counts['motor']), 'o')"
     ],
     "language": "python",
     "metadata": {},
     "outputs": [
      {
       "metadata": {},
       "output_type": "display_data",
       "png": "[encoded data removed]",
       "text": [
        "<matplotlib.figure.Figure at 0x1171a94d0>"
       ]
      }
     ],
     "prompt_number": 18
    },
    {
     "cell_type": "code",
     "collapsed": false,
     "input": [
      "d = OrderedDict()\n",
      "d['motor'] = [0]\n",
      "d['sensori'] = [1]\n",
      "\n",
      "ax = pylab.axes()\n",
      "expe.scatter_plot(ax, d, range(expe.counts['motor']), 'o')"
     ],
     "language": "python",
     "metadata": {},
     "outputs": [
      {
       "metadata": {},
       "output_type": "display_data",
       "png": "[encoded data removed]",
       "text": [
        "<matplotlib.figure.Figure at 0x10b13ea90>"
       ]
      }
     ],
     "prompt_number": 23
    },
    {
     "cell_type": "code",
     "collapsed": false,
     "input": [
      "d = OrderedDict()\n",
      "d['motor'] = [0]\n",
      "d['sensori'] = [2]\n",
      "\n",
      "ax = pylab.axes()\n",
      "expe.scatter_plot(ax, d, range(expe.counts['motor']), 'o')"
     ],
     "language": "python",
     "metadata": {},
     "outputs": [
      {
       "metadata": {},
       "output_type": "display_data",
       "png": "[encoded data removed]",
       "text": [
        "<matplotlib.figure.Figure at 0x10b1c0c10>"
       ]
      }
     ],
     "prompt_number": 24
    },
    {
     "cell_type": "code",
     "collapsed": false,
     "input": [
      "d = OrderedDict()\n",
      "d['motor'] = [0]\n",
      "d['choice'] = [0]\n",
      "\n",
      "ax = pylab.axes()\n",
      "expe.scatter_plot(ax, d, range(expe.counts['motor']), 'o')"
     ],
     "language": "python",
     "metadata": {},
     "outputs": [
      {
       "metadata": {},
       "output_type": "display_data",
       "png": "[encoded data removed]",
       "text": [
        "<matplotlib.figure.Figure at 0x105fd1a10>"
       ]
      }
     ],
     "prompt_number": 25
    },
    {
     "cell_type": "code",
     "collapsed": false,
     "input": [
      "sg = array([-0.2, 0.2, -0.3])\n",
      "m = agent.sensorimotor_model.infer(agent.conf.s_dims, agent.conf.m_dims, sg)\n",
      "m"
     ],
     "language": "python",
     "metadata": {},
     "outputs": [
      {
       "metadata": {},
       "output_type": "pyout",
       "prompt_number": 31,
       "text": [
        "array([ 0.39714549])"
       ]
      }
     ],
     "prompt_number": 31
    },
    {
     "cell_type": "code",
     "collapsed": false,
     "input": [
      "env.state[:env.conf.m_ndims] = m"
     ],
     "language": "python",
     "metadata": {},
     "outputs": [],
     "prompt_number": 32
    },
    {
     "cell_type": "code",
     "collapsed": false,
     "input": [
      "env.compute_sensori_effect()"
     ],
     "language": "python",
     "metadata": {},
     "outputs": [
      {
       "metadata": {},
       "output_type": "pyout",
       "prompt_number": 33,
       "text": [
        "array([-0.21096435,  0.20118223, -0.31375432])"
       ]
      }
     ],
     "prompt_number": 33
    },
    {
     "cell_type": "code",
     "collapsed": false,
     "input": [],
     "language": "python",
     "metadata": {},
     "outputs": [
      {
       "metadata": {},
       "output_type": "pyout",
       "prompt_number": 4,
       "text": [
        "-0.78539816339744828"
       ]
      }
     ],
     "prompt_number": 4
    },
    {
     "cell_type": "code",
     "collapsed": false,
     "input": [
      "env.robot.motors"
     ],
     "language": "python",
     "metadata": {},
     "outputs": [
      {
       "metadata": {},
       "output_type": "pyout",
       "prompt_number": 9,
       "text": [
        "[<DxlMotor name=base_pan id=11 pos=-0.52>,\n",
        " <DxlMotor name=base_tilt_lower id=12 pos=-0.81>,\n",
        " <DxlMotor name=base_tilt_upper id=13 pos=-1.4>,\n",
        " <DxlMotor name=head_pan id=14 pos=-0.23>,\n",
        " <DxlMotor name=head_tilt id=15 pos=1.32>,\n",
        " <DxlMotor name=head_roll id=16 pos=0.39>,\n",
        " <DxlMotor name=gripper id=17 pos=2.35>]"
       ]
      }
     ],
     "prompt_number": 9
    },
    {
     "cell_type": "code",
     "collapsed": false,
     "input": [
      "from explauto.utils import rand_bounds\n",
      "\n",
      "e = []\n",
      "\n",
      "for _ in range(100):\n",
      "    sg = rand_bounds(env.conf.bounds[:, env.conf.s_dims])\n",
      "    m = agent.sensorimotor_model.infer(agent.conf.s_dims, agent.conf.m_dims, sg)\n",
      "    env.update(m)\n",
      "    res = env.state[env.conf.s_dims]\n",
      "\n",
      "    err = (sg - res) * 1000\n",
      "    e.append(norm(err))\n",
      "    \n",
      "print sg, err, norm(err)"
     ],
     "language": "python",
     "metadata": {},
     "outputs": [
      {
       "ename": "KeyError",
       "evalue": "'gripper'",
       "output_type": "pyerr",
       "traceback": [
        "\u001b[0;31m---------------------------------------------------------------------------\u001b[0m\n\u001b[0;31mKeyError\u001b[0m                                  Traceback (most recent call last)",
        "\u001b[0;32m<ipython-input-26-2d84067a0bd0>\u001b[0m in \u001b[0;36m<module>\u001b[0;34m()\u001b[0m\n\u001b[1;32m      6\u001b[0m     \u001b[0msg\u001b[0m \u001b[0;34m=\u001b[0m \u001b[0mrand_bounds\u001b[0m\u001b[0;34m(\u001b[0m\u001b[0menv\u001b[0m\u001b[0;34m.\u001b[0m\u001b[0mconf\u001b[0m\u001b[0;34m.\u001b[0m\u001b[0mbounds\u001b[0m\u001b[0;34m[\u001b[0m\u001b[0;34m:\u001b[0m\u001b[0;34m,\u001b[0m \u001b[0menv\u001b[0m\u001b[0;34m.\u001b[0m\u001b[0mconf\u001b[0m\u001b[0;34m.\u001b[0m\u001b[0ms_dims\u001b[0m\u001b[0;34m]\u001b[0m\u001b[0;34m)\u001b[0m\u001b[0;34m\u001b[0m\u001b[0m\n\u001b[1;32m      7\u001b[0m     \u001b[0mm\u001b[0m \u001b[0;34m=\u001b[0m \u001b[0magent\u001b[0m\u001b[0;34m.\u001b[0m\u001b[0msensorimotor_model\u001b[0m\u001b[0;34m.\u001b[0m\u001b[0minfer\u001b[0m\u001b[0;34m(\u001b[0m\u001b[0magent\u001b[0m\u001b[0;34m.\u001b[0m\u001b[0mconf\u001b[0m\u001b[0;34m.\u001b[0m\u001b[0ms_dims\u001b[0m\u001b[0;34m,\u001b[0m \u001b[0magent\u001b[0m\u001b[0;34m.\u001b[0m\u001b[0mconf\u001b[0m\u001b[0;34m.\u001b[0m\u001b[0mm_dims\u001b[0m\u001b[0;34m,\u001b[0m \u001b[0msg\u001b[0m\u001b[0;34m)\u001b[0m\u001b[0;34m\u001b[0m\u001b[0m\n\u001b[0;32m----> 8\u001b[0;31m     \u001b[0menv\u001b[0m\u001b[0;34m.\u001b[0m\u001b[0mupdate\u001b[0m\u001b[0;34m(\u001b[0m\u001b[0mm\u001b[0m\u001b[0;34m)\u001b[0m\u001b[0;34m\u001b[0m\u001b[0m\n\u001b[0m\u001b[1;32m      9\u001b[0m     \u001b[0mres\u001b[0m \u001b[0;34m=\u001b[0m \u001b[0menv\u001b[0m\u001b[0;34m.\u001b[0m\u001b[0mstate\u001b[0m\u001b[0;34m[\u001b[0m\u001b[0menv\u001b[0m\u001b[0;34m.\u001b[0m\u001b[0mconf\u001b[0m\u001b[0;34m.\u001b[0m\u001b[0ms_dims\u001b[0m\u001b[0;34m]\u001b[0m\u001b[0;34m\u001b[0m\u001b[0m\n\u001b[1;32m     10\u001b[0m \u001b[0;34m\u001b[0m\u001b[0m\n",
        "\u001b[0;32m/Users/pierrerouanet/dev/explauto/explauto/environment/environment.pyc\u001b[0m in \u001b[0;36mupdate\u001b[0;34m(self, ag_state)\u001b[0m\n\u001b[1;32m     20\u001b[0m         \u001b[0mself\u001b[0m\u001b[0;34m.\u001b[0m\u001b[0memit\u001b[0m\u001b[0;34m(\u001b[0m\u001b[0;34m'motor'\u001b[0m\u001b[0;34m,\u001b[0m \u001b[0mm\u001b[0m\u001b[0;34m)\u001b[0m\u001b[0;34m\u001b[0m\u001b[0m\n\u001b[1;32m     21\u001b[0m \u001b[0;34m\u001b[0m\u001b[0m\n\u001b[0;32m---> 22\u001b[0;31m         \u001b[0ms\u001b[0m \u001b[0;34m=\u001b[0m \u001b[0mself\u001b[0m\u001b[0;34m.\u001b[0m\u001b[0mcompute_sensori_effect\u001b[0m\u001b[0;34m(\u001b[0m\u001b[0;34m)\u001b[0m\u001b[0;34m\u001b[0m\u001b[0m\n\u001b[0m\u001b[1;32m     23\u001b[0m         \u001b[0mself\u001b[0m\u001b[0;34m.\u001b[0m\u001b[0mstate\u001b[0m\u001b[0;34m[\u001b[0m\u001b[0;34m-\u001b[0m\u001b[0mself\u001b[0m\u001b[0;34m.\u001b[0m\u001b[0mconf\u001b[0m\u001b[0;34m.\u001b[0m\u001b[0ms_ndims\u001b[0m\u001b[0;34m:\u001b[0m\u001b[0;34m]\u001b[0m \u001b[0;34m=\u001b[0m \u001b[0ms\u001b[0m\u001b[0;34m\u001b[0m\u001b[0m\n\u001b[1;32m     24\u001b[0m         \u001b[0mself\u001b[0m\u001b[0;34m.\u001b[0m\u001b[0memit\u001b[0m\u001b[0;34m(\u001b[0m\u001b[0;34m'sensori'\u001b[0m\u001b[0;34m,\u001b[0m \u001b[0ms\u001b[0m\u001b[0;34m)\u001b[0m\u001b[0;34m\u001b[0m\u001b[0m\n",
        "\u001b[0;32m/Users/pierrerouanet/dev/explauto/explauto/environment/pypot/pypot_robot.pyc\u001b[0m in \u001b[0;36mcompute_sensori_effect\u001b[0;34m(self)\u001b[0m\n\u001b[1;32m     34\u001b[0m         \u001b[0mself\u001b[0m\u001b[0;34m.\u001b[0m\u001b[0mrobot\u001b[0m\u001b[0;34m.\u001b[0m\u001b[0mgoto_position\u001b[0m\u001b[0;34m(\u001b[0m\u001b[0mpos\u001b[0m\u001b[0;34m,\u001b[0m \u001b[0mself\u001b[0m\u001b[0;34m.\u001b[0m\u001b[0mmove_duration\u001b[0m\u001b[0;34m,\u001b[0m \u001b[0mwait\u001b[0m\u001b[0;34m=\u001b[0m\u001b[0mTrue\u001b[0m\u001b[0;34m)\u001b[0m\u001b[0;34m\u001b[0m\u001b[0m\n\u001b[1;32m     35\u001b[0m         \u001b[0mtime\u001b[0m\u001b[0;34m.\u001b[0m\u001b[0msleep\u001b[0m\u001b[0;34m(\u001b[0m\u001b[0;36m0.5\u001b[0m\u001b[0;34m)\u001b[0m\u001b[0;34m\u001b[0m\u001b[0m\n\u001b[0;32m---> 36\u001b[0;31m         \u001b[0;32mreturn\u001b[0m \u001b[0mself\u001b[0m\u001b[0;34m.\u001b[0m\u001b[0mopti_track\u001b[0m\u001b[0;34m.\u001b[0m\u001b[0mtracked_objects\u001b[0m\u001b[0;34m[\u001b[0m\u001b[0mself\u001b[0m\u001b[0;34m.\u001b[0m\u001b[0mtracked_obj\u001b[0m\u001b[0;34m]\u001b[0m\u001b[0;34m.\u001b[0m\u001b[0mposition\u001b[0m\u001b[0;34m\u001b[0m\u001b[0m\n\u001b[0m",
        "\u001b[0;31mKeyError\u001b[0m: 'gripper'"
       ]
      }
     ],
     "prompt_number": 26
    },
    {
     "cell_type": "code",
     "collapsed": false,
     "input": [],
     "language": "python",
     "metadata": {},
     "outputs": []
    }
   ],
   "metadata": {}
  }
 ]
}