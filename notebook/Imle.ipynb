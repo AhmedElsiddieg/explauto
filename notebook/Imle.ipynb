{
 "metadata": {
  "name": "",
  "signature": "sha256:bf821d5dd129eb48011cd96df0cd4dc9806651f0b5ce039985cd225f1faf8bfd"
 },
 "nbformat": 3,
 "nbformat_minor": 0,
 "worksheets": [
  {
   "cells": [
    {
     "cell_type": "code",
     "collapsed": false,
     "input": [
      "Define new models"
     ],
     "language": "python",
     "metadata": {},
     "outputs": []
    }
   ],
   "metadata": {}
  }
 ]
}