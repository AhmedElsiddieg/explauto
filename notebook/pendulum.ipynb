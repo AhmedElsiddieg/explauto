{
 "metadata": {
  "name": "",
  "signature": "sha256:d1b622134a57b2d795e04b6e4a20277b977182f3179c928357211bc4e2234d70"
 },
 "nbformat": 3,
 "nbformat_minor": 0,
 "worksheets": [
  {
   "cells": [
    {
     "cell_type": "code",
     "collapsed": false,
     "input": [
      "%pylab inline"
     ],
     "language": "python",
     "metadata": {},
     "outputs": [
      {
       "output_type": "stream",
       "stream": "stdout",
       "text": [
        "Populating the interactive namespace from numpy and matplotlib\n"
       ]
      }
     ],
     "prompt_number": 1
    },
    {
     "cell_type": "code",
     "collapsed": false,
     "input": [
      "sys.path.append('../explauto/environment/pendule/')"
     ],
     "language": "python",
     "metadata": {},
     "outputs": [],
     "prompt_number": 2
    },
    {
     "cell_type": "code",
     "collapsed": false,
     "input": [
      "import simple_lip as sl\n",
      "class Simulator(object):\n",
      "    def __init__(self):\n",
      "        x0 = array([.0,0.])\n",
      "        self.x = x0\n",
      "    def simul(self, u):\n",
      "        self.x = sl.simulate(self.x, [u])\n",
      "        plot([0, sin(self.x[0])], [0,-cos(self.x[0])])\n",
      "        axis([-1.,1.,-1.,1.])\n",
      "sim = Simulator()\n",
      "def simulate(u):\n",
      "    sim.simul(u)\n",
      "from IPython.html.widgets import interact\n",
      "interact(simulate, u=(-0.5,0.5))"
     ],
     "language": "python",
     "metadata": {},
     "outputs": [
      {
       "ename": "ImportError",
       "evalue": "No module named simple_lip",
       "output_type": "pyerr",
       "traceback": [
        "\u001b[1;31m---------------------------------------------------------------------------\u001b[0m\n\u001b[1;31mImportError\u001b[0m                               Traceback (most recent call last)",
        "\u001b[1;32m<ipython-input-3-9f25469c271d>\u001b[0m in \u001b[0;36m<module>\u001b[1;34m()\u001b[0m\n\u001b[1;32m----> 1\u001b[1;33m \u001b[1;32mimport\u001b[0m \u001b[0msimple_lip\u001b[0m \u001b[1;32mas\u001b[0m \u001b[0msl\u001b[0m\u001b[1;33m\u001b[0m\u001b[0m\n\u001b[0m\u001b[0;32m      2\u001b[0m \u001b[1;32mclass\u001b[0m \u001b[0mSimulator\u001b[0m\u001b[1;33m(\u001b[0m\u001b[0mobject\u001b[0m\u001b[1;33m)\u001b[0m\u001b[1;33m:\u001b[0m\u001b[1;33m\u001b[0m\u001b[0m\n\u001b[0;32m      3\u001b[0m     \u001b[1;32mdef\u001b[0m \u001b[0m__init__\u001b[0m\u001b[1;33m(\u001b[0m\u001b[0mself\u001b[0m\u001b[1;33m)\u001b[0m\u001b[1;33m:\u001b[0m\u001b[1;33m\u001b[0m\u001b[0m\n\u001b[0;32m      4\u001b[0m         \u001b[0mx0\u001b[0m \u001b[1;33m=\u001b[0m \u001b[0marray\u001b[0m\u001b[1;33m(\u001b[0m\u001b[1;33m[\u001b[0m\u001b[1;36m.0\u001b[0m\u001b[1;33m,\u001b[0m\u001b[1;36m0.\u001b[0m\u001b[1;33m]\u001b[0m\u001b[1;33m)\u001b[0m\u001b[1;33m\u001b[0m\u001b[0m\n\u001b[0;32m      5\u001b[0m         \u001b[0mself\u001b[0m\u001b[1;33m.\u001b[0m\u001b[0mx\u001b[0m \u001b[1;33m=\u001b[0m \u001b[0mx0\u001b[0m\u001b[1;33m\u001b[0m\u001b[0m\n",
        "\u001b[1;31mImportError\u001b[0m: No module named simple_lip"
       ]
      }
     ],
     "prompt_number": 3
    },
    {
     "cell_type": "code",
     "collapsed": false,
     "input": [
      "import generate_simple_lip as gen\n",
      "    \n",
      "\n",
      "gen.rd.seed()\n",
      "\n",
      "\n",
      "\n",
      "#\u00c7a devrait \u00eatre assez explicite...\n",
      "res= gen.build([gen.XMIN,gen.XMAX],[gen.VMIN,gen.VMAX],[gen.UMIN,gen.UMAX],100000)"
     ],
     "language": "python",
     "metadata": {},
     "outputs": [
      {
       "output_type": "stream",
       "stream": "stdout",
       "text": [
        "[[ -1.72621419e+00   9.35922690e-01   2.58029196e-02  -1.52230052e+00\n",
        "    6.95386686e-01]\n",
        " [  9.64130054e-01   8.73747634e-01  -2.25515957e-01   1.20119313e+00\n",
        "    1.02275696e+00]\n",
        " [  2.74240461e+00   1.91972925e+00  -1.03777707e-02  -3.04902674e+00\n",
        "    2.01430240e+00]\n",
        " [  2.10358304e-01   2.70204928e-01   2.28805118e-01   2.91585019e-01\n",
        "    3.79608788e-01]\n",
        " [  1.56667627e+00  -1.15017433e+00  -2.26637933e-01   1.30329998e+00\n",
        "   -9.56835940e-01]\n",
        " [ -9.29900374e-01   1.82396252e-01  -2.37288419e-01  -9.16765336e-01\n",
        "   -7.73159470e-02]\n",
        " [ -5.32635946e-01  -6.07725578e-01   7.70889895e-03  -7.00195371e-01\n",
        "   -7.32749827e-01]\n",
        " [ -1.74379184e+00   2.40116894e+00   1.60875277e-01  -1.16925580e+00\n",
        "    2.19511937e+00]\n",
        " [ -2.14387330e+00   1.70438082e+00   6.48934158e-02  -1.74200757e+00\n",
        "    1.51054504e+00]\n",
        " [ -1.66936387e-01   7.47815705e-01  -1.06647045e-01   1.14922532e-02\n",
        "    6.79613416e-01]\n",
        " [ -3.06744834e+00  -1.69361060e+00  -9.84068307e-02   2.78694422e+00\n",
        "   -1.73673140e+00]\n",
        " [  1.48200859e+00   1.87256664e+00  -7.42669303e-02   1.97895632e+00\n",
        "    2.10301514e+00]\n",
        " [  1.92489459e+00  -1.59608352e+00   1.01036943e-01   1.55834235e+00\n",
        "   -1.33633439e+00]\n",
        " [  8.90184211e-01   6.69071219e-01  -2.47276805e-01   1.07401173e+00\n",
        "    8.01548938e-01]\n",
        " [ -1.77591124e+00  -8.75780249e-01   9.69392004e-02  -2.02242188e+00\n",
        "   -1.09630484e+00]\n",
        " [ -1.67129804e+00  -1.47147728e+00   6.14997598e-02  -2.06833780e+00\n",
        "   -1.70484082e+00]\n",
        " [ -5.90902164e-01   2.29024913e+00  -1.39365576e-01  -4.01047578e-02\n",
        "    2.11613012e+00]\n",
        " [  2.49165141e+00  -2.48369573e+00   8.99546769e-03   1.88991920e+00\n",
        "   -2.33016195e+00]\n",
        " [ -3.13131544e+00  -1.77128011e+00  -1.35302584e-01   2.70450048e+00\n",
        "   -1.80767502e+00]\n",
        " [ -1.89631152e-01  -1.93084035e+00  -1.94088108e-01  -6.84297015e-01\n",
        "   -2.02648655e+00]\n",
        " [ -2.03661909e+00  -7.23515785e-01  -2.05389071e-01  -2.25183683e+00\n",
        "   -9.98226132e-01]\n",
        " [ -2.28425030e+00   2.42625757e+00  -2.06221396e-01  -1.70775863e+00\n",
        "    2.18567574e+00]\n",
        " [  1.11214644e+00  -1.60256296e+00   1.57330711e-01   7.44442628e-01\n",
        "   -1.33906752e+00]\n",
        " [ -2.38590279e+00   1.26887374e-01  -1.59785323e-01  -2.38060520e+00\n",
        "   -8.45066856e-02]\n",
        " [ -2.28420366e+00  -2.19792100e+00   1.50455126e-01  -2.85261145e+00\n",
        "   -2.34934133e+00]\n",
        " [  4.76306437e-01   1.51308170e+00   1.80706058e-01   8.74552046e-01\n",
        "    1.67288317e+00]\n",
        " [  2.86634078e+00   1.12970516e+00  -2.49087909e-01  -3.13370881e+00\n",
        "    1.13538052e+00]\n",
        " [ -2.99827926e+00   1.68525063e+00   8.26719531e-04  -2.58140400e+00\n",
        "    1.64975148e+00]\n",
        " [ -2.42680364e-01  -1.86883182e+00  -2.30671347e-01  -7.24606339e-01\n",
        "   -1.98657598e+00]\n",
        " [ -9.23360901e-01   1.96364355e+00  -1.17544551e-02  -4.57743378e-01\n",
        "    1.76129663e+00]\n",
        " [  1.61902958e+00  -4.11448371e-01  -2.49243537e-01   1.53959229e+00\n",
        "   -2.24050004e-01]\n",
        " [ -1.36421664e+00   5.57113528e-01  -4.57040539e-02  -1.25695207e+00\n",
        "    3.01002968e-01]\n",
        " [  2.92372755e+00  -1.69016143e+00  -1.29784914e-01   2.50388597e+00\n",
        "   -1.66857123e+00]\n",
        " [  9.27208853e-01   7.86949664e-01   2.08273953e-01   1.15545321e+00\n",
        "    1.03900520e+00]\n",
        " [  1.12653772e+00  -2.09023968e+00   1.86996308e-01   6.38037982e-01\n",
        "   -1.81775821e+00]\n",
        " [ -2.01470606e+00   9.59265557e-01  -5.94379428e-02  -1.80496834e+00\n",
        "    7.18636210e-01]\n",
        " [  4.04832973e-01   3.59440244e-01   1.67613977e-01   5.12239259e-01\n",
        "    4.99810048e-01]\n",
        " [ -2.18623981e+00   1.36007416e+00  -3.06225246e-03  -1.87183313e+00\n",
        "    1.15517923e+00]\n",
        " [ -1.82028178e+00   4.83412645e-01   3.15128206e-02  -1.72872633e+00\n",
        "    2.49030952e-01]\n",
        " [  2.50412815e+00  -1.01112300e+00   1.89353702e-01   2.27586344e+00\n",
        "   -8.14994625e-01]\n",
        " [  1.35776805e+00   5.20776999e-01   1.39997301e-01   1.52288082e+00\n",
        "    8.00125113e-01]\n",
        " [ -8.12765324e-01   9.36848212e-01  -7.15315828e-02  -6.03482104e-01\n",
        "    7.37417544e-01]\n",
        " [  2.34161763e-01   2.09648446e+00  -1.23178446e-01   7.61684416e-01\n",
        "    2.12369677e+00]\n",
        " [ -1.02901421e+00   1.39673075e+00  -1.57768250e-01  -7.11536506e-01\n",
        "    1.14309092e+00]\n",
        " [  2.95665898e-01   3.93496273e-01   1.33362319e-01   4.07313068e-01\n",
        "    4.99681083e-01]\n",
        " [ -2.81887515e+00  -4.97389015e-01  -2.41504480e-01  -2.96068020e+00\n",
        "   -6.37051372e-01]\n",
        " [ -1.79701538e+00   2.41366547e+00  -2.00402784e-03  -1.22411543e+00\n",
        "    2.16953411e+00]\n",
        " [  2.48354086e+00  -9.66074080e-01   2.19125377e-01   2.26798177e+00\n",
        "   -7.58398579e-01]\n",
        " [  2.84705212e+00   1.79482581e+00   2.28245580e-01  -2.97122218e+00\n",
        "    1.92446225e+00]\n",
        " [ -1.76636047e-01   1.05060023e+00   2.05115967e-02   8.11637804e-02\n",
        "    1.01179839e+00]\n",
        " [ -2.87327582e-01   1.33337759e+00   4.64167022e-02   3.86113888e-02\n",
        "    1.27413417e+00]\n",
        " [  2.97309523e+00  -3.94167373e-02   1.08902552e-01   2.97188491e+00\n",
        "    2.97342120e-02]\n",
        " [ -3.11348618e+00   1.34696247e+00   6.87945280e-02  -2.77547394e+00\n",
        "    1.35713541e+00]\n",
        " [ -2.11427835e+00   6.19816987e-01   4.35942041e-03  -1.98593516e+00\n",
        "    4.06928528e-01]\n",
        " [  2.61321537e+00  -1.33776421e+00   4.29115384e-02   2.29586945e+00\n",
        "   -1.20100318e+00]\n",
        " [ -2.53254088e+00   8.25020102e-01  -1.61714405e-01  -2.34921724e+00\n",
        "    6.41569003e-01]\n",
        " [ -1.93554144e+00   1.34915267e-01  -4.81544622e-02  -1.93251166e+00\n",
        "   -1.10677026e-01]\n",
        " [  1.55653767e+00   5.22861418e-01  -9.90431050e-02   1.71540475e+00\n",
        "    7.48075229e-01]\n",
        " [  1.74100779e+00  -2.03746313e+00  -2.68522736e-02   1.26160128e+00\n",
        "   -1.79778895e+00]\n",
        " [  9.15180824e-01  -2.21840903e+00   1.56680218e-01   3.90245849e-01\n",
        "   -1.98107076e+00]\n",
        " [ -1.91501383e+00  -1.10083568e-01   2.92835521e-02  -1.97103648e+00\n",
        "   -3.38097631e-01]\n",
        " [  1.15006533e+00   1.98115072e+00  -1.77457594e-01   1.66833216e+00\n",
        "    2.16498397e+00]\n",
        " [ -1.87125608e+00  -7.53895998e-01  -1.21951448e-02  -2.08996119e+00\n",
        "   -9.95744915e-01]\n",
        " [ -1.16550695e+00   1.66089689e+00   4.19555763e-02  -7.77690005e-01\n",
        "    1.44163870e+00]\n",
        " [ -1.71286275e+00  -2.35972058e+00  -8.11040460e-03  -2.33398152e+00\n",
        "   -2.60922956e+00]\n",
        " [  2.93820747e+00   1.44214395e+00   1.50323690e-01  -2.97343218e+00\n",
        "    1.53022134e+00]\n",
        " [  1.20923771e+00  -1.07225270e+00  -6.07109082e-02   9.68506897e-01\n",
        "   -8.53593772e-01]\n",
        " [  9.17189620e-01  -2.20343112e+00   2.10592009e-01   3.97722086e-01\n",
        "   -1.95230915e+00]\n",
        " [ -1.92936559e-01   2.28057351e+00  -2.46301926e-01   3.63517953e-01\n",
        "    2.17106258e+00]\n",
        " [ -1.60374789e+00  -1.18034646e+00  -1.96916612e-01  -1.93622118e+00\n",
        "   -1.47943990e+00]\n",
        " [  1.94079695e+00   1.60520682e+00   8.56387581e-02   2.37391009e+00\n",
        "    1.85969829e+00]\n",
        " [  2.29932452e+00   7.80910667e-01   8.66620255e-02   2.52057772e+00\n",
        "    9.89114947e-01]\n",
        " [ -2.02570873e+00   1.75715846e+00  -1.82044595e-01  -1.62017987e+00\n",
        "    1.48707243e+00]\n",
        " [  2.31970452e+00  -2.44381388e+00   2.04961455e-01   1.73804462e+00\n",
        "   -2.20946536e+00]\n",
        " [ -1.68290904e+00  -1.54789917e-01   2.02088648e-01  -1.74634506e+00\n",
        "   -3.52698243e-01]\n",
        " [ -2.00419485e+00  -2.44361092e+00  -1.98174053e-01  -2.64965126e+00\n",
        "   -2.72004037e+00]\n",
        " [ -1.42940268e+00   7.96465137e-01  -1.01354094e-01  -1.26439185e+00\n",
        "    5.23621473e-01]\n",
        " [ -2.91215790e+00  -2.31060213e+00   8.02188364e-03   2.78652046e+00\n",
        "   -2.36545344e+00]\n",
        " [ -1.45161194e+00   1.30786804e-03  -9.14493943e-02  -1.48517108e+00\n",
        "   -2.69780967e-01]\n",
        " [  1.11949032e+00  -2.25589619e+00   1.76624362e-01   5.89156979e-01\n",
        "   -1.98677054e+00]\n",
        " [ -2.88621380e+00  -1.67166620e+00  -2.12059583e-01   2.96453397e+00\n",
        "   -1.78783410e+00]\n",
        " [  2.47157096e+00  -6.42291909e-01   1.19830251e-01   2.33414902e+00\n",
        "   -4.57083599e-01]\n",
        " [ -1.45328081e+00   1.62494077e+00  -5.83742718e-02  -1.07990429e+00\n",
        "    1.36207145e+00]\n",
        " [  7.84179841e-01  -1.77777649e+00  -3.77490535e-02   3.60626209e-01\n",
        "   -1.61065256e+00]\n",
        " [ -9.61854552e-01   3.27954115e-01   4.87388628e-02  -9.03975864e-01\n",
        "    1.35075385e-01]\n",
        " [  4.67336186e-01   5.33812041e-01  -2.13873484e-01   6.08184078e-01\n",
        "    5.92971097e-01]\n",
        " [  1.84040108e+00  -1.77100780e+00   2.91822991e-02   1.42868221e+00\n",
        "   -1.52274317e+00]\n",
        " [ -1.97167779e+00  -1.25943711e+00   1.35768599e-01  -2.31106672e+00\n",
        "   -1.45567430e+00]\n",
        " [  2.14102609e+00  -2.90016747e-01   3.38209922e-02   2.09588434e+00\n",
        "   -7.11172579e-02]\n",
        " [  2.55038075e+00   1.91508382e+00   1.26170213e-01   3.05051226e+00\n",
        "    2.08596828e+00]\n",
        " [ -1.10349720e+00  -2.18208829e+00  -4.40703593e-02  -1.67829610e+00\n",
        "   -2.41630293e+00]\n",
        " [  1.80390295e+00  -2.37014027e+00  -4.52334086e-02   1.24035914e+00\n",
        "   -2.13821026e+00]\n",
        " [ -6.97403726e-01  -1.37330889e+00  -1.69701729e-01  -1.06610381e+00\n",
        "   -1.57629177e+00]\n",
        " [ -3.07551825e-01   1.47201383e+00  -4.07473623e-02   4.97180826e-02\n",
        "    1.38614543e+00]\n",
        " [ -2.85443883e+00   1.08804867e+00   1.61400546e-01  -2.58623364e+00\n",
        "    1.05759287e+00]\n",
        " [ -7.91248904e-01  -4.51613772e-01   6.36011041e-02  -9.24390805e-01\n",
        "   -6.13521434e-01]\n",
        " [ -2.62797536e+00  -2.78610427e-03  -2.86000568e-02  -2.64491973e+00\n",
        "   -1.32768874e-01]\n",
        " [  9.17684675e-02   1.45889492e+00  -4.68765473e-02   4.57891046e-01\n",
        "    1.47008571e+00]\n",
        " [ -9.07319741e-01  -4.19825503e-01   2.32742669e-01  -1.02962341e+00\n",
        "   -5.58603813e-01]\n",
        " [ -2.55164493e+00   1.08600831e-01   6.75549480e-02  -2.53976855e+00\n",
        "   -1.35898290e-02]]\n"
       ]
      }
     ],
     "prompt_number": 3
    },
    {
     "cell_type": "code",
     "collapsed": false,
     "input": [
      "res.shape"
     ],
     "language": "python",
     "metadata": {},
     "outputs": [
      {
       "metadata": {},
       "output_type": "pyout",
       "prompt_number": 4,
       "text": [
        "(100000, 5)"
       ]
      }
     ],
     "prompt_number": 4
    },
    {
     "cell_type": "code",
     "collapsed": false,
     "input": [
      "for r in res:\n",
      "    model.update([r[3]], [r[4]])"
     ],
     "language": "python",
     "metadata": {},
     "outputs": [
      {
       "metadata": {},
       "output_type": "pyout",
       "prompt_number": 6,
       "text": [
        "[None,\n",
        " None,\n",
        " None,\n",
        " None,\n",
        " None,\n",
        " None,\n",
        " None,\n",
        " None,\n",
        " None,\n",
        " None,\n",
        " None,\n",
        " None,\n",
        " None,\n",
        " None,\n",
        " None,\n",
        " None,\n",
        " None,\n",
        " None,\n",
        " None,\n",
        " None,\n",
        " None,\n",
        " None,\n",
        " None,\n",
        " None,\n",
        " None,\n",
        " None,\n",
        " None,\n",
        " None,\n",
        " None,\n",
        " None,\n",
        " None,\n",
        " None,\n",
        " None,\n",
        " None,\n",
        " None,\n",
        " None,\n",
        " None,\n",
        " None,\n",
        " None,\n",
        " None,\n",
        " None,\n",
        " None,\n",
        " None,\n",
        " None,\n",
        " None,\n",
        " None,\n",
        " None,\n",
        " None,\n",
        " None,\n",
        " None,\n",
        " None,\n",
        " None,\n",
        " None,\n",
        " None,\n",
        " None,\n",
        " None,\n",
        " None,\n",
        " None,\n",
        " None,\n",
        " None,\n",
        " None,\n",
        " None,\n",
        " None,\n",
        " None,\n",
        " None,\n",
        " None,\n",
        " None,\n",
        " None,\n",
        " None,\n",
        " None,\n",
        " None,\n",
        " None,\n",
        " None,\n",
        " None,\n",
        " None,\n",
        " None,\n",
        " None,\n",
        " None,\n",
        " None,\n",
        " None,\n",
        " None,\n",
        " None,\n",
        " None,\n",
        " None,\n",
        " None,\n",
        " None,\n",
        " None,\n",
        " None,\n",
        " None,\n",
        " None,\n",
        " None,\n",
        " None,\n",
        " None,\n",
        " None,\n",
        " None,\n",
        " None,\n",
        " None,\n",
        " None,\n",
        " None,\n",
        " None,\n",
        " None,\n",
        " None,\n",
        " None,\n",
        " None,\n",
        " None,\n",
        " None,\n",
        " None,\n",
        " None,\n",
        " None,\n",
        " None,\n",
        " None,\n",
        " None,\n",
        " None,\n",
        " None,\n",
        " None,\n",
        " None,\n",
        " None,\n",
        " None,\n",
        " None,\n",
        " None,\n",
        " None,\n",
        " None,\n",
        " None,\n",
        " None,\n",
        " None,\n",
        " None,\n",
        " None,\n",
        " None,\n",
        " None,\n",
        " None,\n",
        " None,\n",
        " None,\n",
        " None,\n",
        " None,\n",
        " None,\n",
        " None,\n",
        " None,\n",
        " None,\n",
        " None,\n",
        " None,\n",
        " None,\n",
        " None,\n",
        " None,\n",
        " None,\n",
        " None,\n",
        " None,\n",
        " None,\n",
        " None,\n",
        " None,\n",
        " None,\n",
        " None,\n",
        " None,\n",
        " None,\n",
        " None,\n",
        " None,\n",
        " None,\n",
        " None,\n",
        " None,\n",
        " None,\n",
        " None,\n",
        " None,\n",
        " None,\n",
        " None,\n",
        " None,\n",
        " None,\n",
        " None,\n",
        " None,\n",
        " None,\n",
        " None,\n",
        " None,\n",
        " None,\n",
        " None,\n",
        " None,\n",
        " None,\n",
        " None,\n",
        " None,\n",
        " None,\n",
        " None,\n",
        " None,\n",
        " None,\n",
        " None,\n",
        " None,\n",
        " None,\n",
        " None,\n",
        " None,\n",
        " None,\n",
        " None,\n",
        " None,\n",
        " None,\n",
        " None,\n",
        " None,\n",
        " None,\n",
        " None,\n",
        " None,\n",
        " None,\n",
        " None,\n",
        " None,\n",
        " None,\n",
        " None,\n",
        " None,\n",
        " None,\n",
        " None,\n",
        " None,\n",
        " None,\n",
        " None,\n",
        " None,\n",
        " None,\n",
        " None,\n",
        " None,\n",
        " None,\n",
        " None,\n",
        " None,\n",
        " None,\n",
        " None,\n",
        " None,\n",
        " None,\n",
        " None,\n",
        " None,\n",
        " None,\n",
        " None,\n",
        " None,\n",
        " None,\n",
        " None,\n",
        " None,\n",
        " None,\n",
        " None,\n",
        " None,\n",
        " None,\n",
        " None,\n",
        " None,\n",
        " None,\n",
        " None,\n",
        " None,\n",
        " None,\n",
        " None,\n",
        " None,\n",
        " None,\n",
        " None,\n",
        " None,\n",
        " None,\n",
        " None,\n",
        " None,\n",
        " None,\n",
        " None,\n",
        " None,\n",
        " None,\n",
        " None,\n",
        " None,\n",
        " None,\n",
        " None,\n",
        " None,\n",
        " None,\n",
        " None,\n",
        " None,\n",
        " None,\n",
        " None,\n",
        " None,\n",
        " None,\n",
        " None,\n",
        " None,\n",
        " None,\n",
        " None,\n",
        " None,\n",
        " None,\n",
        " None,\n",
        " None,\n",
        " None,\n",
        " None,\n",
        " None,\n",
        " None,\n",
        " None,\n",
        " None,\n",
        " None,\n",
        " None,\n",
        " None,\n",
        " None,\n",
        " None,\n",
        " None,\n",
        " None,\n",
        " None,\n",
        " None,\n",
        " None,\n",
        " None,\n",
        " None,\n",
        " None,\n",
        " None,\n",
        " None,\n",
        " None,\n",
        " None,\n",
        " None,\n",
        " None,\n",
        " None,\n",
        " None,\n",
        " None,\n",
        " None,\n",
        " None,\n",
        " None,\n",
        " None,\n",
        " None,\n",
        " None,\n",
        " None,\n",
        " None,\n",
        " None,\n",
        " None,\n",
        " None,\n",
        " None,\n",
        " None,\n",
        " None,\n",
        " None,\n",
        " None,\n",
        " None,\n",
        " None,\n",
        " None,\n",
        " None,\n",
        " None,\n",
        " None,\n",
        " None,\n",
        " None,\n",
        " None,\n",
        " None,\n",
        " None,\n",
        " None,\n",
        " None,\n",
        " None,\n",
        " None,\n",
        " None,\n",
        " None,\n",
        " None,\n",
        " None,\n",
        " None,\n",
        " None,\n",
        " None,\n",
        " None,\n",
        " None,\n",
        " None,\n",
        " None,\n",
        " None,\n",
        " None,\n",
        " None,\n",
        " None,\n",
        " None,\n",
        " None,\n",
        " None,\n",
        " None,\n",
        " None,\n",
        " None,\n",
        " None,\n",
        " None,\n",
        " None,\n",
        " None,\n",
        " None,\n",
        " None,\n",
        " None,\n",
        " None,\n",
        " None,\n",
        " None,\n",
        " None,\n",
        " None,\n",
        " None,\n",
        " None,\n",
        " None,\n",
        " None,\n",
        " None,\n",
        " None,\n",
        " None,\n",
        " None,\n",
        " None,\n",
        " None,\n",
        " None,\n",
        " None,\n",
        " None,\n",
        " None,\n",
        " None,\n",
        " None,\n",
        " None,\n",
        " None,\n",
        " None,\n",
        " None,\n",
        " None,\n",
        " None,\n",
        " None,\n",
        " None,\n",
        " None,\n",
        " None,\n",
        " None,\n",
        " None,\n",
        " None,\n",
        " None,\n",
        " None,\n",
        " None,\n",
        " None,\n",
        " None,\n",
        " None,\n",
        " None,\n",
        " None,\n",
        " None,\n",
        " None,\n",
        " None,\n",
        " None,\n",
        " None,\n",
        " None,\n",
        " None,\n",
        " None,\n",
        " None,\n",
        " None,\n",
        " None,\n",
        " None,\n",
        " None,\n",
        " None,\n",
        " None,\n",
        " None,\n",
        " None,\n",
        " None,\n",
        " None,\n",
        " None,\n",
        " None,\n",
        " None,\n",
        " None,\n",
        " None,\n",
        " None,\n",
        " None,\n",
        " None,\n",
        " None,\n",
        " None,\n",
        " None,\n",
        " None,\n",
        " None,\n",
        " None,\n",
        " None,\n",
        " None,\n",
        " None,\n",
        " None,\n",
        " None,\n",
        " None,\n",
        " None,\n",
        " None,\n",
        " None,\n",
        " None,\n",
        " None,\n",
        " None,\n",
        " None,\n",
        " None,\n",
        " None,\n",
        " None,\n",
        " None,\n",
        " None,\n",
        " None,\n",
        " None,\n",
        " None,\n",
        " None,\n",
        " None,\n",
        " None,\n",
        " None,\n",
        " None,\n",
        " None,\n",
        " None,\n",
        " None,\n",
        " None,\n",
        " None,\n",
        " None,\n",
        " None,\n",
        " None,\n",
        " None,\n",
        " None,\n",
        " None,\n",
        " None,\n",
        " None,\n",
        " None,\n",
        " None,\n",
        " None,\n",
        " None,\n",
        " None,\n",
        " None,\n",
        " None,\n",
        " None,\n",
        " None,\n",
        " None,\n",
        " None,\n",
        " None,\n",
        " None,\n",
        " None,\n",
        " None,\n",
        " None,\n",
        " None,\n",
        " None,\n",
        " None,\n",
        " None,\n",
        " None,\n",
        " None,\n",
        " None,\n",
        " None,\n",
        " None,\n",
        " None,\n",
        " None,\n",
        " None,\n",
        " None,\n",
        " None,\n",
        " None,\n",
        " None,\n",
        " None,\n",
        " None,\n",
        " None,\n",
        " None,\n",
        " None,\n",
        " None,\n",
        " None,\n",
        " None,\n",
        " None,\n",
        " None,\n",
        " None,\n",
        " None,\n",
        " None,\n",
        " None,\n",
        " None,\n",
        " None,\n",
        " None,\n",
        " None,\n",
        " None,\n",
        " None,\n",
        " None,\n",
        " None,\n",
        " None,\n",
        " None,\n",
        " None,\n",
        " None,\n",
        " None,\n",
        " None,\n",
        " None,\n",
        " None,\n",
        " None,\n",
        " None,\n",
        " None,\n",
        " None,\n",
        " None,\n",
        " None,\n",
        " None,\n",
        " None,\n",
        " None,\n",
        " None,\n",
        " None,\n",
        " None,\n",
        " None,\n",
        " None,\n",
        " None,\n",
        " None,\n",
        " None,\n",
        " None,\n",
        " None,\n",
        " None,\n",
        " None,\n",
        " None,\n",
        " None,\n",
        " None,\n",
        " None,\n",
        " None,\n",
        " None,\n",
        " None,\n",
        " None,\n",
        " None,\n",
        " None,\n",
        " None,\n",
        " None,\n",
        " None,\n",
        " None,\n",
        " None,\n",
        " None,\n",
        " None,\n",
        " None,\n",
        " None,\n",
        " None,\n",
        " None,\n",
        " None,\n",
        " None,\n",
        " None,\n",
        " None,\n",
        " None,\n",
        " None,\n",
        " None,\n",
        " None,\n",
        " None,\n",
        " None,\n",
        " None,\n",
        " None,\n",
        " None,\n",
        " None,\n",
        " None,\n",
        " None,\n",
        " None,\n",
        " None,\n",
        " None,\n",
        " None,\n",
        " None,\n",
        " None,\n",
        " None,\n",
        " None,\n",
        " None,\n",
        " None,\n",
        " None,\n",
        " None,\n",
        " None,\n",
        " None,\n",
        " None,\n",
        " None,\n",
        " None,\n",
        " None,\n",
        " None,\n",
        " None,\n",
        " None,\n",
        " None,\n",
        " None,\n",
        " None,\n",
        " None,\n",
        " None,\n",
        " None,\n",
        " None,\n",
        " None,\n",
        " None,\n",
        " None,\n",
        " None,\n",
        " None,\n",
        " None,\n",
        " None,\n",
        " None,\n",
        " None,\n",
        " None,\n",
        " None,\n",
        " None,\n",
        " None,\n",
        " None,\n",
        " None,\n",
        " None,\n",
        " None,\n",
        " None,\n",
        " None,\n",
        " None,\n",
        " None,\n",
        " None,\n",
        " None,\n",
        " None,\n",
        " None,\n",
        " None,\n",
        " None,\n",
        " None,\n",
        " None,\n",
        " None,\n",
        " None,\n",
        " None,\n",
        " None,\n",
        " None,\n",
        " None,\n",
        " None,\n",
        " None,\n",
        " None,\n",
        " None,\n",
        " None,\n",
        " None,\n",
        " None,\n",
        " None,\n",
        " None,\n",
        " None,\n",
        " None,\n",
        " None,\n",
        " None,\n",
        " None,\n",
        " None,\n",
        " None,\n",
        " None,\n",
        " None,\n",
        " None,\n",
        " None,\n",
        " None,\n",
        " None,\n",
        " None,\n",
        " None,\n",
        " None,\n",
        " None,\n",
        " None,\n",
        " None,\n",
        " None,\n",
        " None,\n",
        " None,\n",
        " None,\n",
        " None,\n",
        " None,\n",
        " None,\n",
        " None,\n",
        " None,\n",
        " None,\n",
        " None,\n",
        " None,\n",
        " None,\n",
        " None,\n",
        " None,\n",
        " None,\n",
        " None,\n",
        " None,\n",
        " None,\n",
        " None,\n",
        " None,\n",
        " None,\n",
        " None,\n",
        " None,\n",
        " None,\n",
        " None,\n",
        " None,\n",
        " None,\n",
        " None,\n",
        " None,\n",
        " None,\n",
        " None,\n",
        " None,\n",
        " None,\n",
        " None,\n",
        " None,\n",
        " None,\n",
        " None,\n",
        " None,\n",
        " None,\n",
        " None,\n",
        " None,\n",
        " None,\n",
        " None,\n",
        " None,\n",
        " None,\n",
        " None,\n",
        " None,\n",
        " None,\n",
        " None,\n",
        " None,\n",
        " None,\n",
        " None,\n",
        " None,\n",
        " None,\n",
        " None,\n",
        " None,\n",
        " None,\n",
        " None,\n",
        " None,\n",
        " None,\n",
        " None,\n",
        " None,\n",
        " None,\n",
        " None,\n",
        " None,\n",
        " None,\n",
        " None,\n",
        " None,\n",
        " None,\n",
        " None,\n",
        " None,\n",
        " None,\n",
        " None,\n",
        " None,\n",
        " None,\n",
        " None,\n",
        " None,\n",
        " None,\n",
        " None,\n",
        " None,\n",
        " None,\n",
        " None,\n",
        " None,\n",
        " None,\n",
        " None,\n",
        " None,\n",
        " None,\n",
        " None,\n",
        " None,\n",
        " None,\n",
        " None,\n",
        " None,\n",
        " None,\n",
        " None,\n",
        " None,\n",
        " None,\n",
        " None,\n",
        " None,\n",
        " None,\n",
        " None,\n",
        " None,\n",
        " None,\n",
        " None,\n",
        " None,\n",
        " None,\n",
        " None,\n",
        " None,\n",
        " None,\n",
        " None,\n",
        " None,\n",
        " None,\n",
        " None,\n",
        " None,\n",
        " None,\n",
        " None,\n",
        " None,\n",
        " None,\n",
        " None,\n",
        " None,\n",
        " None,\n",
        " None,\n",
        " None,\n",
        " None,\n",
        " None,\n",
        " None,\n",
        " None,\n",
        " None,\n",
        " None,\n",
        " None,\n",
        " None,\n",
        " None,\n",
        " None,\n",
        " None,\n",
        " None,\n",
        " None,\n",
        " None,\n",
        " None,\n",
        " None,\n",
        " None,\n",
        " None,\n",
        " None,\n",
        " None,\n",
        " None,\n",
        " None,\n",
        " None,\n",
        " None,\n",
        " None,\n",
        " None,\n",
        " None,\n",
        " None,\n",
        " None,\n",
        " None,\n",
        " None,\n",
        " None,\n",
        " None,\n",
        " None,\n",
        " None,\n",
        " None,\n",
        " None,\n",
        " None,\n",
        " None,\n",
        " None,\n",
        " None,\n",
        " None,\n",
        " None,\n",
        " None,\n",
        " None,\n",
        " None,\n",
        " None,\n",
        " None,\n",
        " None,\n",
        " None,\n",
        " None,\n",
        " None,\n",
        " None,\n",
        " None,\n",
        " None,\n",
        " None,\n",
        " None,\n",
        " None,\n",
        " None,\n",
        " None,\n",
        " None,\n",
        " None,\n",
        " None,\n",
        " None,\n",
        " None,\n",
        " None,\n",
        " None,\n",
        " None,\n",
        " None,\n",
        " None,\n",
        " None,\n",
        " None,\n",
        " None,\n",
        " None,\n",
        " None,\n",
        " None,\n",
        " None,\n",
        " None,\n",
        " None,\n",
        " None,\n",
        " None,\n",
        " None,\n",
        " None,\n",
        " None,\n",
        " None,\n",
        " None,\n",
        " None,\n",
        " None,\n",
        " None,\n",
        " None,\n",
        " None,\n",
        " None,\n",
        " None,\n",
        " None,\n",
        " None,\n",
        " None,\n",
        " None,\n",
        " None,\n",
        " None,\n",
        " None,\n",
        " None,\n",
        " None,\n",
        " None,\n",
        " None,\n",
        " None,\n",
        " None,\n",
        " None,\n",
        " None,\n",
        " None,\n",
        " None,\n",
        " None,\n",
        " None,\n",
        " None,\n",
        " None,\n",
        " None,\n",
        " None,\n",
        " None,\n",
        " None,\n",
        " None,\n",
        " None,\n",
        " None,\n",
        " None,\n",
        " None,\n",
        " None,\n",
        " None,\n",
        " None,\n",
        " None,\n",
        " None,\n",
        " None,\n",
        " None,\n",
        " None,\n",
        " None,\n",
        " None,\n",
        " None,\n",
        " None,\n",
        " None,\n",
        " None,\n",
        " None,\n",
        " None,\n",
        " None,\n",
        " None,\n",
        " None,\n",
        " None,\n",
        " None,\n",
        " None,\n",
        " None,\n",
        " None,\n",
        " None,\n",
        " None,\n",
        " None,\n",
        " None,\n",
        " None,\n",
        " None,\n",
        " None,\n",
        " None,\n",
        " None,\n",
        " None,\n",
        " None,\n",
        " None,\n",
        " None,\n",
        " None,\n",
        " None,\n",
        " None,\n",
        " None,\n",
        " None,\n",
        " None,\n",
        " None,\n",
        " None,\n",
        " None,\n",
        " None,\n",
        " None,\n",
        " None,\n",
        " None,\n",
        " None,\n",
        " None,\n",
        " None,\n",
        " None,\n",
        " None,\n",
        " None,\n",
        " None,\n",
        " None,\n",
        " None,\n",
        " None,\n",
        " None,\n",
        " None,\n",
        " None,\n",
        " None,\n",
        " None,\n",
        " None,\n",
        " None,\n",
        " None,\n",
        " None,\n",
        " None,\n",
        " None,\n",
        " None,\n",
        " None,\n",
        " None,\n",
        " None,\n",
        " None,\n",
        " ...]"
       ]
      }
     ],
     "prompt_number": 6
    },
    {
     "cell_type": "code",
     "collapsed": false,
     "input": [
      "from explauto.models import imle_model\n",
      "model = imle_model.Imle(in_ndims=1, out_ndims=1, sigma0=(pi/32), Psi0=[0.01]*2)\n"
     ],
     "language": "python",
     "metadata": {},
     "outputs": [
      {
       "ename": "ImportError",
       "evalue": "libboost_python-py27.so.1.48.0: cannot open shared object file: No such file or directory",
       "output_type": "pyerr",
       "traceback": [
        "\u001b[1;31m---------------------------------------------------------------------------\u001b[0m\n\u001b[1;31mImportError\u001b[0m                               Traceback (most recent call last)",
        "\u001b[1;32m<ipython-input-6-461e3cae37b7>\u001b[0m in \u001b[0;36m<module>\u001b[1;34m()\u001b[0m\n\u001b[0;32m      1\u001b[0m \u001b[1;32mfrom\u001b[0m \u001b[0mexplauto\u001b[0m\u001b[1;33m.\u001b[0m\u001b[0mmodels\u001b[0m \u001b[1;32mimport\u001b[0m \u001b[0mimle_model\u001b[0m\u001b[1;33m\u001b[0m\u001b[0m\n\u001b[1;32m----> 2\u001b[1;33m \u001b[0mmodel\u001b[0m \u001b[1;33m=\u001b[0m \u001b[0mimle_model\u001b[0m\u001b[1;33m.\u001b[0m\u001b[0mImle\u001b[0m\u001b[1;33m(\u001b[0m\u001b[0min_ndims\u001b[0m\u001b[1;33m=\u001b[0m\u001b[1;36m1\u001b[0m\u001b[1;33m,\u001b[0m \u001b[0mout_ndims\u001b[0m\u001b[1;33m=\u001b[0m\u001b[1;36m1\u001b[0m\u001b[1;33m,\u001b[0m \u001b[0msigma0\u001b[0m\u001b[1;33m=\u001b[0m\u001b[1;33m(\u001b[0m\u001b[0mpi\u001b[0m\u001b[1;33m/\u001b[0m\u001b[1;36m32\u001b[0m\u001b[1;33m)\u001b[0m\u001b[1;33m,\u001b[0m \u001b[0mPsi0\u001b[0m\u001b[1;33m=\u001b[0m\u001b[1;33m[\u001b[0m\u001b[1;36m0.01\u001b[0m\u001b[1;33m]\u001b[0m\u001b[1;33m*\u001b[0m\u001b[1;36m2\u001b[0m\u001b[1;33m)\u001b[0m\u001b[1;33m\u001b[0m\u001b[0m\n\u001b[0m",
        "\u001b[1;32m/home/clement/Documents/Boulot/INRIA_FLOWERS/CODE/explauto/explauto/models/imleSource/python/imle.pyc\u001b[0m in \u001b[0;36m__init__\u001b[1;34m(self, imle_path, **kwargs)\u001b[0m\n\u001b[0;32m     32\u001b[0m         \u001b[0mself\u001b[0m\u001b[1;33m.\u001b[0m\u001b[0md\u001b[0m \u001b[1;33m=\u001b[0m \u001b[0mkwargs\u001b[0m\u001b[1;33m[\u001b[0m\u001b[1;34m'in_ndims'\u001b[0m\u001b[1;33m]\u001b[0m\u001b[1;33m\u001b[0m\u001b[0m\n\u001b[0;32m     33\u001b[0m         \u001b[0mself\u001b[0m\u001b[1;33m.\u001b[0m\u001b[0mD\u001b[0m \u001b[1;33m=\u001b[0m \u001b[0mkwargs\u001b[0m\u001b[1;33m[\u001b[0m\u001b[1;34m'out_ndims'\u001b[0m\u001b[1;33m]\u001b[0m\u001b[1;33m\u001b[0m\u001b[0m\n\u001b[1;32m---> 34\u001b[1;33m         \u001b[0mself\u001b[0m\u001b[1;33m.\u001b[0m\u001b[0m_imle\u001b[0m \u001b[1;33m=\u001b[0m \u001b[0mload_imle\u001b[0m\u001b[1;33m(\u001b[0m\u001b[0mimle_path\u001b[0m\u001b[1;33m,\u001b[0m \u001b[0mself\u001b[0m\u001b[1;33m.\u001b[0m\u001b[0md\u001b[0m\u001b[1;33m,\u001b[0m \u001b[0mself\u001b[0m\u001b[1;33m.\u001b[0m\u001b[0mD\u001b[0m\u001b[1;33m)\u001b[0m\u001b[1;33m\u001b[0m\u001b[0m\n\u001b[0m\u001b[0;32m     35\u001b[0m \u001b[1;33m\u001b[0m\u001b[0m\n\u001b[0;32m     36\u001b[0m         \u001b[0margs\u001b[0m \u001b[1;33m=\u001b[0m \u001b[1;33m[\u001b[0m\u001b[1;33m]\u001b[0m\u001b[1;33m\u001b[0m\u001b[0m\n",
        "\u001b[1;32m/home/clement/Documents/Boulot/INRIA_FLOWERS/CODE/explauto/explauto/models/imleSource/python/imle.pyc\u001b[0m in \u001b[0;36mload_imle\u001b[1;34m(imle_path, d, D)\u001b[0m\n\u001b[0;32m     20\u001b[0m \u001b[1;33m\u001b[0m\u001b[0m\n\u001b[0;32m     21\u001b[0m     \u001b[0msys\u001b[0m\u001b[1;33m.\u001b[0m\u001b[0mpath\u001b[0m\u001b[1;33m.\u001b[0m\u001b[0minsert\u001b[0m\u001b[1;33m(\u001b[0m\u001b[1;36m0\u001b[0m\u001b[1;33m,\u001b[0m \u001b[0mp\u001b[0m\u001b[1;33m)\u001b[0m\u001b[1;33m\u001b[0m\u001b[0m\n\u001b[1;32m---> 22\u001b[1;33m     \u001b[0m_imle\u001b[0m \u001b[1;33m=\u001b[0m \u001b[0mimportlib\u001b[0m\u001b[1;33m.\u001b[0m\u001b[0mimport_module\u001b[0m\u001b[1;33m(\u001b[0m\u001b[1;34m'_imle_'\u001b[0m \u001b[1;33m+\u001b[0m \u001b[0mstr\u001b[0m\u001b[1;33m(\u001b[0m\u001b[0md\u001b[0m\u001b[1;33m)\u001b[0m \u001b[1;33m+\u001b[0m \u001b[1;34m'_'\u001b[0m \u001b[1;33m+\u001b[0m \u001b[0mstr\u001b[0m\u001b[1;33m(\u001b[0m\u001b[0mD\u001b[0m\u001b[1;33m)\u001b[0m\u001b[1;33m)\u001b[0m\u001b[1;33m\u001b[0m\u001b[0m\n\u001b[0m\u001b[0;32m     23\u001b[0m     \u001b[1;32mdel\u001b[0m \u001b[0msys\u001b[0m\u001b[1;33m.\u001b[0m\u001b[0mpath\u001b[0m\u001b[1;33m[\u001b[0m\u001b[1;36m0\u001b[0m\u001b[1;33m]\u001b[0m\u001b[1;33m\u001b[0m\u001b[0m\n\u001b[0;32m     24\u001b[0m \u001b[1;33m\u001b[0m\u001b[0m\n",
        "\u001b[1;32m/usr/lib/python2.7/importlib/__init__.pyc\u001b[0m in \u001b[0;36mimport_module\u001b[1;34m(name, package)\u001b[0m\n\u001b[0;32m     35\u001b[0m             \u001b[0mlevel\u001b[0m \u001b[1;33m+=\u001b[0m \u001b[1;36m1\u001b[0m\u001b[1;33m\u001b[0m\u001b[0m\n\u001b[0;32m     36\u001b[0m         \u001b[0mname\u001b[0m \u001b[1;33m=\u001b[0m \u001b[0m_resolve_name\u001b[0m\u001b[1;33m(\u001b[0m\u001b[0mname\u001b[0m\u001b[1;33m[\u001b[0m\u001b[0mlevel\u001b[0m\u001b[1;33m:\u001b[0m\u001b[1;33m]\u001b[0m\u001b[1;33m,\u001b[0m \u001b[0mpackage\u001b[0m\u001b[1;33m,\u001b[0m \u001b[0mlevel\u001b[0m\u001b[1;33m)\u001b[0m\u001b[1;33m\u001b[0m\u001b[0m\n\u001b[1;32m---> 37\u001b[1;33m     \u001b[0m__import__\u001b[0m\u001b[1;33m(\u001b[0m\u001b[0mname\u001b[0m\u001b[1;33m)\u001b[0m\u001b[1;33m\u001b[0m\u001b[0m\n\u001b[0m\u001b[0;32m     38\u001b[0m     \u001b[1;32mreturn\u001b[0m \u001b[0msys\u001b[0m\u001b[1;33m.\u001b[0m\u001b[0mmodules\u001b[0m\u001b[1;33m[\u001b[0m\u001b[0mname\u001b[0m\u001b[1;33m]\u001b[0m\u001b[1;33m\u001b[0m\u001b[0m\n",
        "\u001b[1;31mImportError\u001b[0m: libboost_python-py27.so.1.48.0: cannot open shared object file: No such file or directory"
       ]
      }
     ],
     "prompt_number": 6
    },
    {
     "cell_type": "code",
     "collapsed": false,
     "input": [
      "%debug"
     ],
     "language": "python",
     "metadata": {},
     "outputs": [
      {
       "output_type": "stream",
       "stream": "stdout",
       "text": [
        "> \u001b[1;32m/usr/lib/python2.7/importlib/__init__.py\u001b[0m(37)\u001b[0;36mimport_module\u001b[1;34m()\u001b[0m\n",
        "\u001b[1;32m     36 \u001b[1;33m        \u001b[0mname\u001b[0m \u001b[1;33m=\u001b[0m \u001b[0m_resolve_name\u001b[0m\u001b[1;33m(\u001b[0m\u001b[0mname\u001b[0m\u001b[1;33m[\u001b[0m\u001b[0mlevel\u001b[0m\u001b[1;33m:\u001b[0m\u001b[1;33m]\u001b[0m\u001b[1;33m,\u001b[0m \u001b[0mpackage\u001b[0m\u001b[1;33m,\u001b[0m \u001b[0mlevel\u001b[0m\u001b[1;33m)\u001b[0m\u001b[1;33m\u001b[0m\u001b[0m\n",
        "\u001b[0m\u001b[1;32m---> 37 \u001b[1;33m    \u001b[0m__import__\u001b[0m\u001b[1;33m(\u001b[0m\u001b[0mname\u001b[0m\u001b[1;33m)\u001b[0m\u001b[1;33m\u001b[0m\u001b[0m\n",
        "\u001b[0m\u001b[1;32m     38 \u001b[1;33m    \u001b[1;32mreturn\u001b[0m \u001b[0msys\u001b[0m\u001b[1;33m.\u001b[0m\u001b[0mmodules\u001b[0m\u001b[1;33m[\u001b[0m\u001b[0mname\u001b[0m\u001b[1;33m]\u001b[0m\u001b[1;33m\u001b[0m\u001b[0m\n",
        "\u001b[0m\n"
       ]
      },
      {
       "name": "stdout",
       "output_type": "stream",
       "stream": "stdout",
       "text": [
        "ipdb> p name\n"
       ]
      },
      {
       "output_type": "stream",
       "stream": "stdout",
       "text": [
        "'_imle_1_1'\n"
       ]
      }
     ]
    },
    {
     "cell_type": "code",
     "collapsed": false,
     "input": [
      "model.number_of_experts"
     ],
     "language": "python",
     "metadata": {},
     "outputs": [
      {
       "metadata": {},
       "output_type": "pyout",
       "prompt_number": 7,
       "text": [
        "41"
       ]
      }
     ],
     "prompt_number": 7
    },
    {
     "cell_type": "code",
     "collapsed": false,
     "input": [
      "clf()\n",
      "proj=[0,1]\n",
      "#plot(zeros(10), hist[-11:-1,0], 'o')\n",
      "COLORS = ['r', 'g', 'b', 'k', 'm']*10000\n",
      "a=subplot(111)\n",
      "els = model.to_gmm().inference([],proj,[]).get_display_ellipses2D(COLORS)\n",
      "for el in els:\n",
      "    a.add_patch(el)\n",
      "axis('tight')"
     ],
     "language": "python",
     "metadata": {},
     "outputs": [
      {
       "metadata": {},
       "output_type": "pyout",
       "prompt_number": 8,
       "text": [
        "(-3.2088154622414988,\n",
        " 3.2604969197212288,\n",
        " -2.7367367227925676,\n",
        " 2.7767527644489176)"
       ]
      },
      {
       "metadata": {},
       "output_type": "display_data",
       "png": "[encoded data removed]",
       "text": [
        "<matplotlib.figure.Figure at 0x3f39a90>"
       ]
      }
     ],
     "prompt_number": 8
    },
    {
     "cell_type": "code",
     "collapsed": false,
     "input": [
      "from sklearn.mixture import GMM"
     ],
     "language": "python",
     "metadata": {},
     "outputs": [],
     "prompt_number": 22
    },
    {
     "cell_type": "code",
     "collapsed": false,
     "input": [
      "modelU = GMM(10)"
     ],
     "language": "python",
     "metadata": {},
     "outputs": [],
     "prompt_number": 24
    },
    {
     "cell_type": "code",
     "collapsed": false,
     "input": [
      "res[:,2].shape"
     ],
     "language": "python",
     "metadata": {},
     "outputs": [
      {
       "metadata": {},
       "output_type": "pyout",
       "prompt_number": 26,
       "text": [
        "(100000,)"
       ]
      }
     ],
     "prompt_number": 26
    },
    {
     "cell_type": "code",
     "collapsed": false,
     "input": [
      "modelU.fit(res[:,2].reshape(-1,1))"
     ],
     "language": "python",
     "metadata": {},
     "outputs": [
      {
       "metadata": {},
       "output_type": "pyout",
       "prompt_number": 27,
       "text": [
        "GMM(covariance_type='diag', init_params='wmc', min_covar=0.001,\n",
        "  n_components=10, n_init=1, n_iter=100, params='wmc', random_state=None,\n",
        "  thresh=0.01)"
       ]
      }
     ],
     "prompt_number": 27
    },
    {
     "cell_type": "code",
     "collapsed": false,
     "input": [
      "plot(modelU.score_samples(linspace(UMIN, UMAX, 1000).reshape(-1,1))[0])"
     ],
     "language": "python",
     "metadata": {},
     "outputs": [
      {
       "metadata": {},
       "output_type": "pyout",
       "prompt_number": 37,
       "text": [
        "[<matplotlib.lines.Line2D at 0x59d4d90>]"
       ]
      },
      {
       "metadata": {},
       "output_type": "display_data",
       "png": "[encoded data removed]",
       "text": [
        "<matplotlib.figure.Figure at 0x5a7c150>"
       ]
      }
     ],
     "prompt_number": 37
    },
    {
     "cell_type": "code",
     "collapsed": false,
     "input": [
      "sys.path.append('../../quasi-distance/qmlib/python/')"
     ],
     "language": "python",
     "metadata": {},
     "outputs": [],
     "prompt_number": 10
    },
    {
     "cell_type": "code",
     "collapsed": false,
     "input": [
      "from QMLib import *"
     ],
     "language": "python",
     "metadata": {},
     "outputs": [],
     "prompt_number": 11
    },
    {
     "cell_type": "code",
     "collapsed": false,
     "input": [
      "import simple_lip as lip\n",
      "\n",
      "import time\n",
      "import pp\n",
      "\n",
      "import sparray as spa\n",
      "\n",
      "_P_THRES=0.001\n",
      "# _P_THRES=0.00\n",
      "XMIN=-pi\n",
      "XMAX=pi\n",
      "\n",
      "XCARD=11\n",
      "\n",
      "VMIN=-2.5\n",
      "VMAX=2.5\n",
      "\n",
      "VCARD=11\n",
      "\n",
      "UMIN=-0.25\n",
      "UMAX=0.25\n",
      "\n",
      "UCARD=5\n",
      "\n",
      "SIGMA_POS=0.5\n",
      "SIGMA_VEL=0.5\n",
      "#Define the problem variables\n",
      "Xpos=Distrib('Xpos', [XCARD], [XMIN], [XMAX], [True])\n",
      "Xvel=Distrib('Xvel', [VCARD], [VMIN], [VMAX], [False])\n",
      "U=Distrib('U', [UCARD], [UMIN], [UMAX], [False])\n",
      "X=Distrib('XposXvel', [XCARD,VCARD], [XMIN,VMIN], [XMAX,VMAX], [True,False])\n",
      "\n",
      "XposXvel_XposXvelU=CondDistrib('Xpos Xvel', 'Xpos Xvel U', [XCARD, VCARD], [XCARD, VCARD, UCARD]) #used to store the conditional FIXME\n",
      "\n",
      "#used for the d\u00e9composition assuming independance\n",
      "Xpos_XposXvelU=CondDistrib('Xpos', 'Xpos Xvel U',[XCARD], [XCARD, VCARD, UCARD])\n",
      "Xvel_XposXvelU=CondDistrib('Xvel', 'Xpos Xvel U', [VCARD], [XCARD, VCARD, UCARD])\n",
      "\n",
      "#define the custom fonction which return a dict containing the subrange of proba from a given right hand state\n",
      "def ComputeStep(rx):\n",
      "\n",
      "    xi,vi,ui=XposXvel_XposXvelU.RDistrib.GetIdxFromFlat(rx)\n",
      "    # ui,vi,xi=XposXvel_XposXvelU.RDistrib.GetIdxFromFlat(rx)\n",
      "\n",
      "    x=Xpos.Continuize(xi)\n",
      "    v=Xvel.Continuize(vi)\n",
      "    u=U.Continuize(ui)\n",
      "\n",
      "\n",
      "    Xnext=lip.simulate([x,v],[u])\n",
      "\n",
      "    #put some Gaussian value around\n",
      "\n",
      "    pxpos=0.0\n",
      "    pxvel=0.0\n",
      "\n",
      "\n",
      "    #dirty hack to keep track of the relevent non zero elements indexes\n",
      "    nzpos_idx={}\n",
      "    nzvel_idx={}\n",
      "\n",
      "\n",
      "    res={}\n",
      "\n",
      "    for li in xrange(Xpos_XposXvelU.GetNumLElements()): #iterate on Xpos only as we assume independance\n",
      "\n",
      "        lidx=Xpos_XposXvelU.LDistrib.GetIdxFromFlat(li)\n",
      "        # pxpos=gaussian(Xpos.Continuize(lidx),Xnext[0],SIGMA_POS)\n",
      "        # pxvel=gaussian(Xvel.Continuize(lidx),Xnext[1],SIGMA_VEL)\n",
      "\n",
      "        pxpos=gaussian_dist(Xpos.GetDist(Xpos.Continuize(lidx),Xnext[0])[0],SIGMA_POS)\n",
      "        pxvel=gaussian_dist(Xvel.GetDist(Xvel.Continuize(lidx),Xnext[1])[0],SIGMA_VEL)\n",
      "\n",
      "\n",
      "\n",
      "\n",
      "\n",
      "        # condidx=[xi,vi,ui,]+lidx\n",
      "        condidx=lidx+(xi,vi,ui)\n",
      "\n",
      "        if pxpos > _P_THRES:\n",
      "            nzpos_idx[lidx[0]]=pxpos  #in a general case it should be a tuple\n",
      "\n",
      "        if pxvel > _P_THRES:\n",
      "            nzvel_idx[lidx[0]]=pxvel\n",
      "\n",
      "\n",
      "    for posidx in nzpos_idx:\n",
      "        for velidx in nzvel_idx:\n",
      "            # print posidx,velidx\n",
      "            # XposXvel_XposXvelU.SetProbLR((posidx,velidx),(xi,vi,ui),nzpos_idx[posidx]*nzvel_idx[velidx])\n",
      "            # return (posidx,velidx),(xi,vi,ui),nzpos_idx[posidx]*nzvel_idx[velidx]\n",
      "            res[(posidx,velidx)+(xi,vi,ui)]=nzpos_idx[posidx]*nzvel_idx[velidx]\n",
      "\n",
      "    return res\n",
      "\n",
      "\n",
      "\n"
     ],
     "language": "python",
     "metadata": {},
     "outputs": [],
     "prompt_number": 14
    },
    {
     "cell_type": "code",
     "collapsed": false,
     "input": [
      "Tr=Transition(X,U,XposXvel_XposXvelU,ComputeStep)"
     ],
     "language": "python",
     "metadata": {},
     "outputs": [],
     "prompt_number": 15
    },
    {
     "cell_type": "code",
     "collapsed": false,
     "input": [
      "Tr.GetProb.im_class"
     ],
     "language": "python",
     "metadata": {},
     "outputs": [
      {
       "metadata": {},
       "output_type": "pyout",
       "prompt_number": 20,
       "text": [
        "ProbUtils.Transition"
       ]
      }
     ],
     "prompt_number": 20
    },
    {
     "cell_type": "code",
     "collapsed": false,
     "input": [
      "post_probs = model.to_gmm().predict_proba(res[:,0:2])"
     ],
     "language": "python",
     "metadata": {},
     "outputs": [],
     "prompt_number": 39
    },
    {
     "cell_type": "code",
     "collapsed": true,
     "input": [
      "post_probs_next = model.to_gmm().predict_proba(res[:,3:])"
     ],
     "language": "python",
     "metadata": {},
     "outputs": [],
     "prompt_number": 40
    },
    {
     "cell_type": "code",
     "collapsed": true,
     "input": [
      "post_probs_U = modelU.predict_proba(res[:,2].reshape(-1,1))"
     ],
     "language": "python",
     "metadata": {},
     "outputs": [],
     "prompt_number": 38
    },
    {
     "cell_type": "code",
     "collapsed": false,
     "input": [
      "counts = zeros((model.number_of_experts, modelU.n_components, model.number_of_experts))"
     ],
     "language": "python",
     "metadata": {},
     "outputs": [],
     "prompt_number": 47
    },
    {
     "cell_type": "code",
     "collapsed": false,
     "input": [
      "for x in range(model.number_of_experts):\n",
      "    for u in range(modelU.n_components):\n",
      "        for xp in range(model.number_of_experts):\n",
      "            counts[x,u,xp] = sum(post_probs[:,x] * post_probs_U[:,u] * post_probs_next[:,xp])"
     ],
     "language": "python",
     "metadata": {},
     "outputs": [],
     "prompt_number": 48
    },
    {
     "cell_type": "code",
     "collapsed": true,
     "input": [
      "imshow(counts, interpolation = 'nearest')"
     ],
     "language": "python",
     "metadata": {},
     "outputs": [
      {
       "metadata": {},
       "output_type": "pyout",
       "prompt_number": 13,
       "text": [
        "<matplotlib.image.AxesImage at 0x5cc8d50>"
       ]
      },
      {
       "metadata": {},
       "output_type": "display_data",
       "png": "[encoded data removed]",
       "text": [
        "<matplotlib.figure.Figure at 0x5b46850>"
       ]
      }
     ],
     "prompt_number": 13
    },
    {
     "cell_type": "markdown",
     "metadata": {},
     "source": [
      "min(counts)"
     ]
    },
    {
     "cell_type": "code",
     "collapsed": false,
     "input": [
      "counts[k1,:,k2]/counts[k1,:,k2].sum()"
     ],
     "language": "python",
     "metadata": {},
     "outputs": [
      {
       "metadata": {},
       "output_type": "pyout",
       "prompt_number": 72,
       "text": [
        "array([ 0.02316039,  0.03405524,  0.02078521,  0.42577704,  0.02127846,\n",
        "        0.02151862,  0.02136992,  0.37088121,  0.03966244,  0.02151148])"
       ]
      }
     ],
     "prompt_number": 72
    },
    {
     "cell_type": "code",
     "collapsed": false,
     "input": [
      "d0 = [ [(1. / counts[k1,:,k2]/counts[k1,:,k2].sum()).min() for k2 in range(model.number_of_experts)] for k1 in range(model.number_of_experts)]\n",
      "d0 = array(d0)"
     ],
     "language": "python",
     "metadata": {},
     "outputs": [],
     "prompt_number": 69
    },
    {
     "cell_type": "code",
     "collapsed": false,
     "input": [
      "d0.shape"
     ],
     "language": "python",
     "metadata": {},
     "outputs": [
      {
       "metadata": {},
       "output_type": "pyout",
       "prompt_number": 73,
       "text": [
        "(41, 41)"
       ]
      }
     ],
     "prompt_number": 73
    },
    {
     "cell_type": "markdown",
     "metadata": {},
     "source": [
      "minimum(1. / counts[k1,:,k2]/counts[k1,:,k2].sum())"
     ]
    },
    {
     "cell_type": "code",
     "collapsed": false,
     "input": [
      "gmm = model.to_gmm()"
     ],
     "language": "python",
     "metadata": {},
     "outputs": [],
     "prompt_number": 8
    },
    {
     "cell_type": "code",
     "collapsed": false,
     "input": [
      "from gaussian import Gaussian\n",
      "def get_params(gmm, dims_in, dims_out, k1, k2):\n",
      "    gmm_2 = gmm.inference([], dims_in, [])\n",
      "    gmm_1 = gmm.inference([], dims_out, [])\n",
      "    mu_2 = gmm_2.means_[k2,: ]\n",
      "    mu_1 = gmm_1.means_[k1,:]\n",
      "    sig_2 = gmm_2.covars_[k2,:,:]\n",
      "    sig_1 = gmm_1.covars_[k1,:,:]\n",
      "    return mu_1, sig_1, mu_2, sig_2\n",
      "def model_intersect(mu1, sig1, mu2, sig2):\n",
      "    #gmm1 = model.to_gmm().inference([], [0, 1], [])\n",
      "    #gmm2 = model.to_gmm().inference([], [3, 4], [])\n",
      "    #mu1 = gmm1.means_[k1,: ]\n",
      "    #mu2 = gmm2.means_[k2,:]\n",
      "    inv1 = inv(sig1)\n",
      "    inv2 = inv(sig2)\n",
      "    return dot(inv(inv1 + inv2), dot(inv1, mu1) + dot(inv2, mu2))    \n",
      "def prob_trans_k(mu1, sig1, mu2, sig2):\n",
      "    xx = model_intersect(mu1, sig1, mu2, sig2)\n",
      "    return Gaussian(mu1, sig1).normal(xx) * Gaussian(mu2, sig2).normal(xx)"
     ],
     "language": "python",
     "metadata": {},
     "outputs": [],
     "prompt_number": 9
    },
    {
     "cell_type": "code",
     "collapsed": false,
     "input": [
      "d0=[ [1. / prob_trans_k(*(get_params(gmm, [0,1], [3,4], k1,k2))) for k2 in range(gmm.n_components)] for k1 in range(gmm.n_components)]"
     ],
     "language": "python",
     "metadata": {},
     "outputs": [],
     "prompt_number": 10
    },
    {
     "cell_type": "code",
     "collapsed": false,
     "input": [
      "d0 = array(d0)\n",
      "for k in range(model.number_of_experts):\n",
      "    d0[k,k] = 0."
     ],
     "language": "python",
     "metadata": {},
     "outputs": [],
     "prompt_number": 75
    },
    {
     "cell_type": "code",
     "collapsed": false,
     "input": [
      "def d_ip1(di):\n",
      "    d = array(di)\n",
      "    for k1 in range(model.number_of_experts):\n",
      "        for k2 in range(model.number_of_experts):\n",
      "            for z in range(model.number_of_experts):\n",
      "                d[k1, k2] = min(d[k1, k2], d[k1, z] + d[z, k2])\n",
      "    return d"
     ],
     "language": "python",
     "metadata": {},
     "outputs": [],
     "prompt_number": 76
    },
    {
     "cell_type": "code",
     "collapsed": false,
     "input": [
      "di = d0"
     ],
     "language": "python",
     "metadata": {},
     "outputs": [],
     "prompt_number": 77
    },
    {
     "cell_type": "code",
     "collapsed": false,
     "input": [
      "not_conv = True\n",
      "while not_conv:\n",
      "    print 'it'\n",
      "    d_save = di\n",
      "    di = d_ip1(di)\n",
      "    not_conv = (abs(d_save - di).max().max() >0.)"
     ],
     "language": "python",
     "metadata": {},
     "outputs": [
      {
       "output_type": "stream",
       "stream": "stdout",
       "text": [
        "it\n",
        "it"
       ]
      },
      {
       "output_type": "stream",
       "stream": "stdout",
       "text": [
        "\n",
        "it"
       ]
      },
      {
       "output_type": "stream",
       "stream": "stdout",
       "text": [
        "\n",
        "it"
       ]
      },
      {
       "output_type": "stream",
       "stream": "stdout",
       "text": [
        "\n",
        "it"
       ]
      },
      {
       "output_type": "stream",
       "stream": "stdout",
       "text": [
        "\n",
        "it"
       ]
      },
      {
       "output_type": "stream",
       "stream": "stdout",
       "text": [
        "\n"
       ]
      }
     ],
     "prompt_number": 78
    },
    {
     "cell_type": "code",
     "collapsed": false,
     "input": [
      "abs(d_save - di)"
     ],
     "language": "python",
     "metadata": {},
     "outputs": [
      {
       "metadata": {},
       "output_type": "pyout",
       "prompt_number": 79,
       "text": [
        "array([[ 0.,  0.,  0., ...,  0.,  0.,  0.],\n",
        "       [ 0.,  0.,  0., ...,  0.,  0.,  0.],\n",
        "       [ 0.,  0.,  0., ...,  0.,  0.,  0.],\n",
        "       ..., \n",
        "       [ 0.,  0.,  0., ...,  0.,  0.,  0.],\n",
        "       [ 0.,  0.,  0., ...,  0.,  0.,  0.],\n",
        "       [ 0.,  0.,  0., ...,  0.,  0.,  0.]])"
       ]
      }
     ],
     "prompt_number": 79
    },
    {
     "cell_type": "code",
     "collapsed": false,
     "input": [
      "imshow(di)"
     ],
     "language": "python",
     "metadata": {},
     "outputs": [
      {
       "metadata": {},
       "output_type": "pyout",
       "prompt_number": 80,
       "text": [
        "<matplotlib.image.AxesImage at 0x5ce1e50>"
       ]
      },
      {
       "metadata": {},
       "output_type": "display_data",
       "png": "[encoded data removed]",
       "text": [
        "<matplotlib.figure.Figure at 0x5bf7310>"
       ]
      }
     ],
     "prompt_number": 80
    },
    {
     "cell_type": "code",
     "collapsed": false,
     "input": [
      "import scipy"
     ],
     "language": "python",
     "metadata": {},
     "outputs": [],
     "prompt_number": 1
    },
    {
     "cell_type": "raw",
     "metadata": {},
     "source": [
      "import sc"
     ]
    },
    {
     "cell_type": "code",
     "collapsed": false,
     "input": [
      "scipy.__version__"
     ],
     "language": "python",
     "metadata": {},
     "outputs": [
      {
       "metadata": {},
       "output_type": "pyout",
       "prompt_number": 2,
       "text": [
        "'0.13.3'"
       ]
      }
     ],
     "prompt_number": 2
    },
    {
     "cell_type": "code",
     "collapsed": false,
     "input": [
      "def gaussians(gmm):\n",
      "    return [Gaussian(m, c) for k, (w,m,c) in enumerate(gmm)]\n",
      "def P_k_x(k, gaussians, x):\n",
      "    p = gaussians[k].normal(x) / array([g.normal(x) for g in gaussians]).sum()\n",
      "    return p"
     ],
     "language": "python",
     "metadata": {},
     "outputs": [],
     "prompt_number": 16
    },
    {
     "cell_type": "code",
     "collapsed": false,
     "input": [
      "x0 = array([-pi, 0.])\n",
      "xg = array([0., 0.])"
     ],
     "language": "python",
     "metadata": {},
     "outputs": [],
     "prompt_number": 17
    },
    {
     "cell_type": "code",
     "collapsed": false,
     "input": [
      "gmm_out = model.to_gmm().inference([], [3,4], [])\n",
      "gmm_in = model.to_gmm().inference([], [0,1], [])\n",
      "gaussians_out = gaussians(gmm_out)\n",
      "gaussians_in = gaussians(gmm_in)\n",
      "def quasidistance(x0, xg):\n",
      "    P_k1_x0 = array([P_k_x(k, gaussians_out, x0) for k in range(model.number_of_experts)])\n",
      "    P_k2_xg = array([P_k_x(k, gaussians_in, xg) for k in range(model.number_of_experts)])\n",
      "    return dot(P_k1_x0, dot(di, P_k2_xg.T))"
     ],
     "language": "python",
     "metadata": {},
     "outputs": [],
     "prompt_number": 18
    },
    {
     "cell_type": "code",
     "collapsed": false,
     "input": [
      "prec = 20\n",
      "qm_xg = zeros((prec,prec))\n",
      "for i_pos, pos in enumerate(linspace(gen.XMIN, gen.XMAX, prec)):\n",
      "    print i_pos\n",
      "    for i_spd, spd in enumerate(linspace(gen.VMIN, gen.VMAX, prec)):\n",
      "        qm_xg[i_pos, i_spd] = quasidistance(array([pos, spd]), xg)"
     ],
     "language": "python",
     "metadata": {},
     "outputs": [
      {
       "output_type": "stream",
       "stream": "stdout",
       "text": [
        "0\n",
        "1"
       ]
      },
      {
       "output_type": "stream",
       "stream": "stdout",
       "text": [
        "\n",
        "2"
       ]
      },
      {
       "output_type": "stream",
       "stream": "stdout",
       "text": [
        "\n",
        "3"
       ]
      },
      {
       "output_type": "stream",
       "stream": "stdout",
       "text": [
        "\n",
        "4"
       ]
      },
      {
       "output_type": "stream",
       "stream": "stdout",
       "text": [
        "\n",
        "5"
       ]
      },
      {
       "output_type": "stream",
       "stream": "stdout",
       "text": [
        "\n",
        "6"
       ]
      },
      {
       "output_type": "stream",
       "stream": "stdout",
       "text": [
        "\n",
        "7"
       ]
      },
      {
       "output_type": "stream",
       "stream": "stdout",
       "text": [
        "\n",
        "8"
       ]
      },
      {
       "output_type": "stream",
       "stream": "stdout",
       "text": [
        "\n",
        "9"
       ]
      },
      {
       "output_type": "stream",
       "stream": "stdout",
       "text": [
        "\n",
        "10"
       ]
      },
      {
       "output_type": "stream",
       "stream": "stdout",
       "text": [
        "\n",
        "11"
       ]
      },
      {
       "output_type": "stream",
       "stream": "stdout",
       "text": [
        "\n",
        "12"
       ]
      },
      {
       "output_type": "stream",
       "stream": "stdout",
       "text": [
        "\n",
        "13"
       ]
      },
      {
       "output_type": "stream",
       "stream": "stdout",
       "text": [
        "\n",
        "14"
       ]
      },
      {
       "output_type": "stream",
       "stream": "stdout",
       "text": [
        "\n",
        "15"
       ]
      },
      {
       "output_type": "stream",
       "stream": "stdout",
       "text": [
        "\n",
        "16"
       ]
      },
      {
       "output_type": "stream",
       "stream": "stdout",
       "text": [
        "\n",
        "17"
       ]
      },
      {
       "output_type": "stream",
       "stream": "stdout",
       "text": [
        "\n",
        "18"
       ]
      },
      {
       "output_type": "stream",
       "stream": "stdout",
       "text": [
        "\n",
        "19"
       ]
      },
      {
       "output_type": "stream",
       "stream": "stdout",
       "text": [
        "\n"
       ]
      }
     ],
     "prompt_number": 19
    },
    {
     "cell_type": "code",
     "collapsed": false,
     "input": [
      "figure()\n",
      "imshow(qm_xg.T[::-1,:], extent=[gen.XMIN,gen.XMAX,gen.VMIN,gen.VMAX]) #, interpolation = 'nearest')\n",
      "colorbar()"
     ],
     "language": "python",
     "metadata": {},
     "outputs": [
      {
       "metadata": {},
       "output_type": "pyout",
       "prompt_number": 26,
       "text": [
        "<matplotlib.colorbar.Colorbar instance at 0x68f7d88>"
       ]
      }
     ],
     "prompt_number": 26
    },
    {
     "cell_type": "code",
     "collapsed": false,
     "input": [
      "K0_=array([P_k_x(k, gaussians_out, x0) for k in range(model.number_of_experts)])"
     ],
     "language": "python",
     "metadata": {},
     "outputs": [],
     "prompt_number": 34
    },
    {
     "cell_type": "code",
     "collapsed": false,
     "input": [
      "argsort_K0 = argsort(K0_)[::-1]\n",
      "K0 = argsort_K0[find(cumsum(K0_[argsort_K0]) < 0.99)]\n",
      "if not len(K0):\n",
      "    K0 = array([argsort_K0[0]])"
     ],
     "language": "python",
     "metadata": {},
     "outputs": [],
     "prompt_number": 35
    },
    {
     "cell_type": "code",
     "collapsed": false,
     "input": [
      "KG_=array([P_k_x(k, gaussians_in, xg) for k in range(model.number_of_experts)])\n",
      "argsort_KG = argsort(KG_)[::-1]\n",
      "KG = argsort_KG[find(cumsum(KG_[argsort_KG]) < 0.99)]\n",
      "if not len(KG):\n",
      "    KG = array([argsort_KG[0]])"
     ],
     "language": "python",
     "metadata": {},
     "outputs": [],
     "prompt_number": 22
    },
    {
     "cell_type": "code",
     "collapsed": false,
     "input": [
      "KG = [argmax(model.to_gmm().score_samples([[0.,0.]])[1])]"
     ],
     "language": "python",
     "metadata": {},
     "outputs": [],
     "prompt_number": 88
    },
    {
     "cell_type": "code",
     "collapsed": false,
     "input": [
      "clf()\n",
      "proj = [0,1]\n",
      "a = subplot(111)\n",
      "kg = KG[0]\n",
      "COLORS = di[:,kg] / max(di[:,kg])\n",
      "COLORS = [str(c) for c in COLORS]\n",
      "print COLORS\n",
      "els = model.to_gmm().inference([],proj,[]).get_display_ellipses2D(COLORS)\n",
      "for k, el in enumerate(els):\n",
      "    a.add_patch(el)\n",
      "    a.text(*(el.center), s=str(k))\n",
      "axis('tight')    "
     ],
     "language": "python",
     "metadata": {},
     "outputs": [
      {
       "output_type": "stream",
       "stream": "stdout",
       "text": [
        "['0.368210499271', '1.0', '0.388600288956', '0.0', '0.864575557108', '0.580489113641', '0.385225100634', '0.438310679368', '0.439507536051', '0.72870481226', '0.475289127075', '0.328287090176', '0.278846940283', '0.175575374324', '0.614370765639', '0.371956145049', '0.345467418612', '0.604127853033', '0.652322636291', '0.403719958669', '0.803626121272', '0.499179405495', '0.654818424593', '0.396412974311', '0.475150309042', '0.539871952188', '0.326589620125', '0.4102353823', '0.478479722396', '0.373546583592', '0.550356833616', '0.511356944972', '0.351248548509', '0.771180835151', '0.548097201285', '0.404634011884', '0.847587600409', '0.189658364388', '0.0968723061749', '0.782391048795', '0.469962376313']\n"
       ]
      },
      {
       "metadata": {},
       "output_type": "pyout",
       "prompt_number": 89,
       "text": [
        "(-3.2088154622414988,\n",
        " 3.2604969197212288,\n",
        " -2.7367367227925676,\n",
        " 2.7767527644489176)"
       ]
      },
      {
       "metadata": {},
       "output_type": "display_data",
       "png": "[encoded data removed]",
       "text": [
        "<matplotlib.figure.Figure at 0x5d638d0>"
       ]
      }
     ],
     "prompt_number": 89
    },
    {
     "cell_type": "code",
     "collapsed": false,
     "input": [
      "di"
     ],
     "language": "python",
     "metadata": {},
     "outputs": [
      {
       "metadata": {},
       "output_type": "pyout",
       "prompt_number": 21,
       "text": [
        "array([[  0.        ,   7.05928095,  13.12464686, ...,   6.35338993,\n",
        "          2.9283408 ,   3.09128575],\n",
        "       [  5.34875592,   0.        ,  14.92275588, ...,   8.74462254,\n",
        "          5.31957341,   5.48251836],\n",
        "       [ 11.89507671,   8.98980693,   0.        , ...,   8.80564322,\n",
        "          5.4683018 ,   5.63124674],\n",
        "       ..., \n",
        "       [ 10.24350216,   7.18891825,  12.40842938, ...,   0.        ,\n",
        "          3.81672724,   3.22092305],\n",
        "       [  6.42677492,   4.13094015,  10.8673475 , ...,   4.09609056,\n",
        "          0.        ,   0.16294495],\n",
        "       [  7.02257911,   3.9679952 ,  10.70440255, ...,   3.93314561,\n",
        "          0.59580419,   0.        ]])"
       ]
      }
     ],
     "prompt_number": 21
    },
    {
     "cell_type": "code",
     "collapsed": false,
     "input": [
      "figure()\n",
      "bar(range(gmm.n_components), di[24,:])"
     ],
     "language": "python",
     "metadata": {},
     "outputs": [
      {
       "metadata": {},
       "output_type": "pyout",
       "prompt_number": 50,
       "text": [
        "<Container object of 29 artists>"
       ]
      }
     ],
     "prompt_number": 50
    },
    {
     "cell_type": "code",
     "collapsed": false,
     "input": [
      "res = zeros((1, model.number_of_experts))\n",
      "for k0 in K0:\n",
      "    p_k0_x0 = P_k_x(k0, gaussians_out, x0)\n",
      "    for kg in KG:\n",
      "        p_kg_xg = P_k_x(kg, gaussians_in, xg)\n",
      "        res += array([p_k0_x0 * p_kg_xg * di[z, kg] * 1. /d0[k0, z] for z in range(model.number_of_experts)])\n"
     ],
     "language": "python",
     "metadata": {},
     "outputs": [
      {
       "ename": "NameError",
       "evalue": "name 'K0' is not defined",
       "output_type": "pyerr",
       "traceback": [
        "\u001b[0;31m---------------------------------------------------------------------------\u001b[0m\n\u001b[0;31mNameError\u001b[0m                                 Traceback (most recent call last)",
        "\u001b[0;32m<ipython-input-19-45f4ba567e45>\u001b[0m in \u001b[0;36m<module>\u001b[0;34m()\u001b[0m\n\u001b[1;32m      1\u001b[0m \u001b[0mres\u001b[0m \u001b[0;34m=\u001b[0m \u001b[0mzeros\u001b[0m\u001b[0;34m(\u001b[0m\u001b[0;34m(\u001b[0m\u001b[0;36m1\u001b[0m\u001b[0;34m,\u001b[0m \u001b[0mmodel\u001b[0m\u001b[0;34m.\u001b[0m\u001b[0mnumber_of_experts\u001b[0m\u001b[0;34m)\u001b[0m\u001b[0;34m)\u001b[0m\u001b[0;34m\u001b[0m\u001b[0m\n\u001b[0;32m----> 2\u001b[0;31m \u001b[0;32mfor\u001b[0m \u001b[0mk0\u001b[0m \u001b[0;32min\u001b[0m \u001b[0mK0\u001b[0m\u001b[0;34m:\u001b[0m\u001b[0;34m\u001b[0m\u001b[0m\n\u001b[0m\u001b[1;32m      3\u001b[0m     \u001b[0mp_k0_x0\u001b[0m \u001b[0;34m=\u001b[0m \u001b[0mP_k_x\u001b[0m\u001b[0;34m(\u001b[0m\u001b[0mk0\u001b[0m\u001b[0;34m,\u001b[0m \u001b[0mgaussians_out\u001b[0m\u001b[0;34m,\u001b[0m \u001b[0mx0\u001b[0m\u001b[0;34m)\u001b[0m\u001b[0;34m\u001b[0m\u001b[0m\n\u001b[1;32m      4\u001b[0m     \u001b[0;32mfor\u001b[0m \u001b[0mkg\u001b[0m \u001b[0;32min\u001b[0m \u001b[0mKG\u001b[0m\u001b[0;34m:\u001b[0m\u001b[0;34m\u001b[0m\u001b[0m\n\u001b[1;32m      5\u001b[0m         \u001b[0mp_kg_xg\u001b[0m \u001b[0;34m=\u001b[0m \u001b[0mP_k_x\u001b[0m\u001b[0;34m(\u001b[0m\u001b[0mkg\u001b[0m\u001b[0;34m,\u001b[0m \u001b[0mgaussians_in\u001b[0m\u001b[0;34m,\u001b[0m \u001b[0mxg\u001b[0m\u001b[0;34m)\u001b[0m\u001b[0;34m\u001b[0m\u001b[0m\n",
        "\u001b[0;31mNameError\u001b[0m: name 'K0' is not defined"
       ]
      }
     ],
     "prompt_number": 19
    },
    {
     "cell_type": "code",
     "collapsed": false,
     "input": [
      "argmin(res)"
     ],
     "language": "python",
     "metadata": {},
     "outputs": [
      {
       "metadata": {},
       "output_type": "pyout",
       "prompt_number": 98,
       "text": [
        "15"
       ]
      }
     ],
     "prompt_number": 98
    },
    {
     "cell_type": "code",
     "collapsed": false,
     "input": [
      "k0 = K0[0]; kg = KG[0]"
     ],
     "language": "python",
     "metadata": {},
     "outputs": [],
     "prompt_number": 99
    },
    {
     "cell_type": "code",
     "collapsed": false,
     "input": [
      "kg"
     ],
     "language": "python",
     "metadata": {},
     "outputs": [
      {
       "metadata": {},
       "output_type": "pyout",
       "prompt_number": 29,
       "text": [
        "10"
       ]
      }
     ],
     "prompt_number": 29
    },
    {
     "cell_type": "code",
     "collapsed": false,
     "input": [
      "next_model = argmin(array([ (di[z, kg] * 1. / d0[k0, z]) / (P_k_x(k0, gaussians_out, x0) * P_k_x(kg, gaussians_in, xg)) for z in range(model.number_of_experts)]))"
     ],
     "language": "python",
     "metadata": {},
     "outputs": [],
     "prompt_number": 62
    },
    {
     "cell_type": "code",
     "collapsed": false,
     "input": [
      "xx = model_intersect(*(get_params(gmm, [0,1], [3,4], k0, next_model)))"
     ],
     "language": "python",
     "metadata": {},
     "outputs": [],
     "prompt_number": 66
    },
    {
     "cell_type": "code",
     "collapsed": false,
     "input": [
      "model_intersect(*(get_params(gmm.inference([0,1,3,4], [2], hstack((x0, xx)).reshape(-1,1)), [0], [0], k0, next_model)))"
     ],
     "language": "python",
     "metadata": {},
     "outputs": [
      {
       "metadata": {},
       "output_type": "pyout",
       "prompt_number": 68,
       "text": [
        "array([ 2.00185722])"
       ]
      }
     ],
     "prompt_number": 68
    },
    {
     "cell_type": "code",
     "collapsed": false,
     "input": [
      "p_u = gmm.sub_gmm([k0, next_model]).inference([0,1,3,4], [2], hstack((x0, xx)).reshape(-1,1))"
     ],
     "language": "python",
     "metadata": {},
     "outputs": [],
     "prompt_number": 57
    },
    {
     "cell_type": "code",
     "collapsed": false,
     "input": [
      "xc = array([0., 0.01])\n",
      "#xc = x0.copy()\n",
      "KG_=array([P_k_x(k, gaussians_in, xg) for k in range(model.number_of_experts)])\n",
      "argsort_KG = argsort(KG_)[::-1]\n",
      "kg = argsort_KG[0]\n",
      "log=[hstack((xc, [0.]))]\n",
      "for t in range(400):\n",
      "    KC_=array([P_k_x(k, gaussians_out, xc) for k in range(model.number_of_experts)])\n",
      "    argsort_KC = argsort(KC_)[::-1]\n",
      "    kc = argsort_KC[0]\n",
      "    next_model = argmin(array([ (di[z, kg] * 1. / d0[kc, z]) / (P_k_x(kc, gaussians_out, xc) * P_k_x(kg, gaussians_in, xg)) for z in range(model.number_of_experts)]))\n",
      "    #next_model = argmin(array([ (di[z, kg] * 1. / d0[kc, z]) for z in range(model.number_of_experts)]))\n",
      "    xx = model_intersect(*(get_params(gmm, [0,1], [3,4], kc, next_model)))\n",
      "    #uu = gmm.sub_gmm([kc]).inference([0,1,3,4], [2], hstack((xc, xx)).reshape(-1,1)).means_.reshape(1)\n",
      "    uu = gmm.inference([0,1,3,4], [2], hstack((xc, xx)).reshape(-1,1)).sample().reshape(1)\n",
      "    uu = min([gen.UMAX], uu)\n",
      "    uu = max([gen.UMIN], uu)\n",
      "    #uu = model_intersect(*(get_params(gmm.inference([0,1,3,4], [2], hstack((xc, xx)).reshape(-1,1)), [0], [0], kc, next_model)))\n",
      "    xc = gen.lip.simulate(xc, uu)\n",
      "    log.append(hstack((xc,uu)))\n",
      "log = array(log)    "
     ],
     "language": "python",
     "metadata": {},
     "outputs": [],
     "prompt_number": 35
    },
    {
     "cell_type": "code",
     "collapsed": false,
     "input": [
      "xc = array([0., 0.01])\n",
      "KC_=array([P_k_x(k, gaussians_out, xc) for k in range(model.number_of_experts)])\n",
      "argsort_KC = argsort(KC_)[::-1]\n",
      "kc = argsort_KC[0]\n",
      "sort(array([ (di[z, kg] * 1. / d0[kc, z]) / (P_k_x(kc, gaussians_out, xc) * P_k_x(kg, gaussians_in, xg)) for z in range(model.number_of_experts)]))"
     ],
     "language": "python",
     "metadata": {},
     "outputs": [
      {
       "metadata": {},
       "output_type": "pyout",
       "prompt_number": 42,
       "text": [
        "array([  1.57021252e-26,   3.75661128e-21,   2.47251826e-17,\n",
        "         9.91993286e-16,   7.46050546e-15,   3.77802596e-14,\n",
        "         7.74041639e-14,   3.79156971e-09,   6.32638364e-07,\n",
        "         6.49568310e-07,   9.59836339e-07,   4.09487202e-06,\n",
        "         4.47778168e-06,   2.21712551e-05,   7.14481663e-04,\n",
        "         8.82805477e-04,   1.31517457e-03,   1.68397488e-03,\n",
        "         1.94768207e-03,   2.82007295e-03,   4.34053564e-01,\n",
        "         8.01439767e-01,   1.08186374e+00,   1.17592100e+00,\n",
        "         1.51273486e+00,   1.04080531e+01,              nan])"
       ]
      }
     ],
     "prompt_number": 42
    },
    {
     "cell_type": "code",
     "collapsed": false,
     "input": [
      "kc"
     ],
     "language": "python",
     "metadata": {},
     "outputs": [
      {
       "metadata": {},
       "output_type": "pyout",
       "prompt_number": 40,
       "text": [
        "17"
       ]
      }
     ],
     "prompt_number": 40
    },
    {
     "cell_type": "code",
     "collapsed": false,
     "input": [
      "kc = 24\n",
      "argsort(array([ (di[z, kg] * 1. / d0[kc, z]) for z in range(model.number_of_experts)]))"
     ],
     "language": "python",
     "metadata": {},
     "outputs": [
      {
       "metadata": {},
       "output_type": "pyout",
       "prompt_number": 34,
       "text": [
        "array([10, 25,  5, 22, 12, 23,  4, 14, 20, 16,  8, 11,  0, 15,  1, 21,  7,\n",
        "       32,  6,  9,  2, 13, 29, 17, 19, 28, 18, 26, 30,  3, 31, 27, 24])"
       ]
      }
     ],
     "prompt_number": 34
    },
    {
     "cell_type": "code",
     "collapsed": false,
     "input": [
      "sort(array([ (di[z, kg] * 1. / d0[kc, z]) for z in range(model.number_of_experts)]))"
     ],
     "language": "python",
     "metadata": {},
     "outputs": [
      {
       "metadata": {},
       "output_type": "pyout",
       "prompt_number": 33,
       "text": [
        "array([  0.00000000e+000,   0.00000000e+000,   0.00000000e+000,\n",
        "         4.74994875e-293,   1.74085566e-246,   5.81565471e-158,\n",
        "         1.08250277e-106,   2.06267929e-085,   9.87741842e-081,\n",
        "         3.08483618e-073,   2.22962425e-059,   1.20822800e-050,\n",
        "         3.04664757e-048,   7.61072191e-035,   9.46186757e-033,\n",
        "         1.36553264e-028,   1.20953408e-026,   3.56448212e-020,\n",
        "         2.20023259e-016,   7.50263685e-016,   4.12132524e-014,\n",
        "         6.75609077e-013,   1.38675536e-011,   7.30989542e-009,\n",
        "         5.75739290e-008,   6.13373464e-003,   8.65508950e-003,\n",
        "         1.25601960e-002,   1.56072364e-002,   1.67674322e-001,\n",
        "         6.82680532e+000,   6.86494452e+001,               inf])"
       ]
      }
     ],
     "prompt_number": 33
    },
    {
     "cell_type": "code",
     "collapsed": false,
     "input": [
      "figure()\n",
      "plot(log[:,0], log[:,1])"
     ],
     "language": "python",
     "metadata": {},
     "outputs": [
      {
       "metadata": {},
       "output_type": "pyout",
       "prompt_number": 36,
       "text": [
        "[<matplotlib.lines.Line2D at 0x703ee50>]"
       ]
      }
     ],
     "prompt_number": 36
    },
    {
     "cell_type": "code",
     "collapsed": false,
     "input": [
      "model_intersect(*(get_params(gmm, [0,1], [3,4], 5,32)))"
     ],
     "language": "python",
     "metadata": {},
     "outputs": [
      {
       "metadata": {},
       "output_type": "pyout",
       "prompt_number": 38,
       "text": [
        "array([-1.49855205, -5.64719624])"
       ]
      }
     ],
     "prompt_number": 38
    },
    {
     "cell_type": "code",
     "collapsed": false,
     "input": [
      "next_model"
     ],
     "language": "python",
     "metadata": {},
     "outputs": [
      {
       "metadata": {},
       "output_type": "pyout",
       "prompt_number": 64,
       "text": [
        "15"
       ]
      }
     ],
     "prompt_number": 64
    },
    {
     "cell_type": "code",
     "collapsed": false,
     "input": [
      "in_dims = [0,1,3,4]\n",
      "out_dims = [2]\n",
      "value = hstack((x0, xx)).reshape(-1,1)\n",
      "\n",
      "in_dims = numpy.array(in_dims)\n",
      "out_dims = numpy.array(out_dims)\n",
      "value = numpy.array(value)\n",
      "\n",
      "means = numpy.zeros((self.n_components, len(out_dims)))\n",
      "covars = numpy.zeros((self.n_components, len(out_dims), len(out_dims)))\n",
      "weights = numpy.zeros((self.n_components,))\n",
      "\n",
      "if in_dims.size:\n",
      "    for k, (weight_k, mean_k, covar_k) in enumerate(self):\n",
      "        sig_in = covar_k[ix_(in_dims, in_dims)]\n",
      "        inin_inv = numpy.matrix(sig_in).I\n",
      "        out_in=covar_k[ix_(out_dims, in_dims)]\n",
      "        mu_in=mean_k[in_dims].reshape(-1,1)\n",
      "                \n",
      "        means[k,:] = (mean_k[out_dims] + \n",
      "                    (out_in * \n",
      "                    inin_inv * \n",
      "                    (value - mu_in)).T)\n",
      "                \n",
      "        covars[k,:,:] = (covar_k[ix_(out_dims, out_dims)] - \n",
      "                        out_in * \n",
      "                        inin_inv * \n",
      "                        covar_k[ix_(in_dims, out_dims)])\n",
      "        print Gaussian(mu_in.reshape(-1,), sig_in).normal(value.reshape(-1,))\n",
      "        weights[k] = weight_k * Gaussian(mu_in.reshape(-1,), sig_in).normal(value.reshape(-1,))\n",
      "    weights /= sum(weights)\n",
      "else:\n",
      "    means=self.means_[:,out_dims]\n",
      "    covars=self.covars_[ix_(range(self.n_components),out_dims,out_dims)]\n",
      "    weights=self.weights_\n",
      "res = GMM(n_components=self.n_components, \n",
      "          covariance_type=self.covariance_type)\n",
      "res.weights_ = weights\n",
      "res.means_ = means\n",
      "res.covars_ = covars\n"
     ],
     "language": "python",
     "metadata": {},
     "outputs": [
      {
       "ename": "NameError",
       "evalue": "name 'GMM' is not defined",
       "output_type": "pyerr",
       "traceback": [
        "\u001b[0;31m---------------------------------------------------------------------------\u001b[0m\n\u001b[0;31mNameError\u001b[0m                                 Traceback (most recent call last)",
        "\u001b[0;32m<ipython-input-49-66796593b4d4>\u001b[0m in \u001b[0;36m<module>\u001b[0;34m()\u001b[0m\n\u001b[1;32m     34\u001b[0m     \u001b[0mcovars\u001b[0m\u001b[0;34m=\u001b[0m\u001b[0mself\u001b[0m\u001b[0;34m.\u001b[0m\u001b[0mcovars_\u001b[0m\u001b[0;34m[\u001b[0m\u001b[0mix_\u001b[0m\u001b[0;34m(\u001b[0m\u001b[0mrange\u001b[0m\u001b[0;34m(\u001b[0m\u001b[0mself\u001b[0m\u001b[0;34m.\u001b[0m\u001b[0mn_components\u001b[0m\u001b[0;34m)\u001b[0m\u001b[0;34m,\u001b[0m\u001b[0mout_dims\u001b[0m\u001b[0;34m,\u001b[0m\u001b[0mout_dims\u001b[0m\u001b[0;34m)\u001b[0m\u001b[0;34m]\u001b[0m\u001b[0;34m\u001b[0m\u001b[0m\n\u001b[1;32m     35\u001b[0m     \u001b[0mweights\u001b[0m\u001b[0;34m=\u001b[0m\u001b[0mself\u001b[0m\u001b[0;34m.\u001b[0m\u001b[0mweights_\u001b[0m\u001b[0;34m\u001b[0m\u001b[0m\n\u001b[0;32m---> 36\u001b[0;31m res = GMM(n_components=self.n_components, \n\u001b[0m\u001b[1;32m     37\u001b[0m           covariance_type=self.covariance_type)\n\u001b[1;32m     38\u001b[0m \u001b[0mres\u001b[0m\u001b[0;34m.\u001b[0m\u001b[0mweights_\u001b[0m \u001b[0;34m=\u001b[0m \u001b[0mweights\u001b[0m\u001b[0;34m\u001b[0m\u001b[0m\n",
        "\u001b[0;31mNameError\u001b[0m: name 'GMM' is not defined"
       ]
      },
      {
       "output_type": "stream",
       "stream": "stdout",
       "text": [
        "0.0\n"
       ]
      }
     ],
     "prompt_number": 49
    },
    {
     "cell_type": "code",
     "collapsed": false,
     "input": [
      "mu_in, sig_in, value"
     ],
     "language": "python",
     "metadata": {},
     "outputs": [
      {
       "metadata": {},
       "output_type": "pyout",
       "prompt_number": 46,
       "text": [
        "(array([[ 3.10263047],\n",
        "       [ 0.33658341],\n",
        "       [-3.0961184 ],\n",
        "       [ 0.33890811]]),\n",
        " array([[ 0.00669382, -0.00168656,  0.00119308, -0.0023726 ],\n",
        "       [-0.00168656,  0.02036608,  0.00261698,  0.01882743],\n",
        "       [ 0.00119308,  0.00261698,  0.00227574,  0.00244841],\n",
        "       [-0.0023726 ,  0.01882743,  0.00244841,  0.0213299 ]]),\n",
        " array([[-3.14159265],\n",
        "       [ 0.        ],\n",
        "       [-1.55203049],\n",
        "       [ 1.76266668]]))"
       ]
      }
     ],
     "prompt_number": 46
    },
    {
     "cell_type": "code",
     "collapsed": false,
     "input": [
      "a=subplot(111)\n",
      "els = gmminf.get_display_ellipses2D(COLORS)\n",
      "for el in els:\n",
      "    a.add_patch(el)\n",
      "axis('tight')"
     ],
     "language": "python",
     "metadata": {},
     "outputs": [
      {
       "ename": "NameError",
       "evalue": "name 'gmminf' is not defined",
       "output_type": "pyerr",
       "traceback": [
        "\u001b[0;31m---------------------------------------------------------------------------\u001b[0m\n\u001b[0;31mNameError\u001b[0m                                 Traceback (most recent call last)",
        "\u001b[0;32m<ipython-input-8-ac4a51a40ea7>\u001b[0m in \u001b[0;36m<module>\u001b[0;34m()\u001b[0m\n\u001b[1;32m      1\u001b[0m \u001b[0ma\u001b[0m\u001b[0;34m=\u001b[0m\u001b[0msubplot\u001b[0m\u001b[0;34m(\u001b[0m\u001b[0;36m111\u001b[0m\u001b[0;34m)\u001b[0m\u001b[0;34m\u001b[0m\u001b[0m\n\u001b[0;32m----> 2\u001b[0;31m \u001b[0mels\u001b[0m \u001b[0;34m=\u001b[0m \u001b[0mgmminf\u001b[0m\u001b[0;34m.\u001b[0m\u001b[0mget_display_ellipses2D\u001b[0m\u001b[0;34m(\u001b[0m\u001b[0mCOLORS\u001b[0m\u001b[0;34m)\u001b[0m\u001b[0;34m\u001b[0m\u001b[0m\n\u001b[0m\u001b[1;32m      3\u001b[0m \u001b[0;32mfor\u001b[0m \u001b[0mel\u001b[0m \u001b[0;32min\u001b[0m \u001b[0mels\u001b[0m\u001b[0;34m:\u001b[0m\u001b[0;34m\u001b[0m\u001b[0m\n\u001b[1;32m      4\u001b[0m     \u001b[0ma\u001b[0m\u001b[0;34m.\u001b[0m\u001b[0madd_patch\u001b[0m\u001b[0;34m(\u001b[0m\u001b[0mel\u001b[0m\u001b[0;34m)\u001b[0m\u001b[0;34m\u001b[0m\u001b[0m\n\u001b[1;32m      5\u001b[0m \u001b[0maxis\u001b[0m\u001b[0;34m(\u001b[0m\u001b[0;34m'tight'\u001b[0m\u001b[0;34m)\u001b[0m\u001b[0;34m\u001b[0m\u001b[0m\n",
        "\u001b[0;31mNameError\u001b[0m: name 'gmminf' is not defined"
       ]
      }
     ],
     "prompt_number": 8
    },
    {
     "cell_type": "code",
     "collapsed": false,
     "input": [
      "import sklearn"
     ],
     "language": "python",
     "metadata": {},
     "outputs": [],
     "prompt_number": 10
    },
    {
     "cell_type": "code",
     "collapsed": false,
     "input": [
      "sklearn.__version__"
     ],
     "language": "python",
     "metadata": {},
     "outputs": [
      {
       "metadata": {},
       "output_type": "pyout",
       "prompt_number": 11,
       "text": [
        "'0.14.1'"
       ]
      }
     ],
     "prompt_number": 11
    },
    {
     "cell_type": "code",
     "collapsed": false,
     "input": [
      "test_inds = randint(0,res.shape[0],100)\n",
      "preds = [model.to_gmm().inference(range(0,3), range(3,5), r.reshape(-1,1)).sample() for r in res[test_inds,0:3]]"
     ],
     "language": "python",
     "metadata": {},
     "outputs": [
      {
       "output_type": "stream",
       "stream": "stdout",
       "text": [
        "1 [0 1 2] []\n",
        "2 [0 1 2] [0 1 2]\n",
        "1"
       ]
      },
      {
       "output_type": "stream",
       "stream": "stdout",
       "text": [
        " [0 1 2] []\n",
        "2 [0 1 2] [0 1 2]\n",
        "1 [0 1 2] []\n",
        "2 [0 1 2] [0 1 2]\n",
        "1 [0 1 2] []\n",
        "2 [0 1 2] [0 1 2]\n",
        "1 [0 1 2] []\n",
        "2 [0 1 2] [0 1 2]\n",
        "1 [0 1 2] []\n",
        "2 [0 1 2] [0 1 2]\n",
        "1 [0 1 2] []\n",
        "2 [0 1 2] [0 1 2]\n",
        "1 [0 1 2] []\n",
        "2 [0 1 2] [0 1 2]\n",
        "1 [0 1 2] []\n",
        "2 [0 1 2] [0 1 2]\n",
        "1 [0 1 2] []\n",
        "2 [0 1 2] [0 1 2]\n",
        "1"
       ]
      },
      {
       "output_type": "stream",
       "stream": "stdout",
       "text": [
        " [0 1 2] []\n",
        "2 [0 1 2] [0 1 2]\n",
        "1 [0 1 2] []\n",
        "2 [0 1 2] [0 1 2]\n",
        "1 [0 1 2] []\n",
        "2 [0 1 2] [0 1 2]\n",
        "1 [0 1 2] []\n",
        "2 [0 1 2] [0 1 2]\n",
        "1 [0 1 2] []\n",
        "2 [0 1 2] [0 1 2]\n",
        "1 [0 1 2] []\n",
        "2 [0 1 2] [0 1 2]\n",
        "1 [0 1 2] []\n",
        "2 [0 1 2] [0 1 2]\n",
        "1 [0 1 2] []\n",
        "2 [0 1 2] [0 1 2]\n",
        "1 [0 1 2] []\n",
        "2 [0 1 2] [0 1 2]\n",
        "1 [0 1 2] []\n",
        "2 [0 1 2] [0 1 2]\n",
        "1"
       ]
      },
      {
       "output_type": "stream",
       "stream": "stdout",
       "text": [
        " [0 1 2] []\n",
        "2 [0 1 2] [0 1 2]\n",
        "1 [0 1 2] []\n",
        "2 [0 1 2] [0 1 2]\n",
        "1 [0 1 2] []\n",
        "2 [0 1 2] [0 1 2]\n",
        "1 [0 1 2] []\n",
        "2 [0 1 2] [0 1 2]\n",
        "1 [0 1 2] []\n",
        "2 [0 1 2] [0 1 2]\n",
        "1 [0 1 2] []\n",
        "2 [0 1 2] [0 1 2]\n",
        "1 [0 1 2] []\n",
        "2 [0 1 2] [0 1 2]\n",
        "1 [0 1 2] []\n",
        "2 [0 1 2] [0 1 2]\n",
        "1 [0 1 2] []\n",
        "2 [0 1 2] [0 1 2]\n",
        "1 [0 1 2] []\n",
        "2 [0 1 2] [0 1 2]\n",
        "1"
       ]
      },
      {
       "output_type": "stream",
       "stream": "stdout",
       "text": [
        " [0 1 2] []\n",
        "2 [0 1 2] [0 1 2]\n",
        "1 [0 1 2] []\n",
        "2 [0 1 2] [0 1 2]\n",
        "1 [0 1 2] []\n",
        "2 [0 1 2] [0 1 2]\n",
        "1 [0 1 2] []\n",
        "2 [0 1 2] [0 1 2]\n",
        "1 [0 1 2] []\n",
        "2 [0 1 2] [0 1 2]\n",
        "1 [0 1 2] []\n",
        "2 [0 1 2] [0 1 2]\n",
        "1 [0 1 2] []\n",
        "2 [0 1 2] [0 1 2]\n",
        "1 [0 1 2] []\n",
        "2 [0 1 2] [0 1 2]\n",
        "1 [0 1 2] []\n",
        "2 [0 1 2] [0 1 2]\n",
        "1 [0 1 2] []\n",
        "2 [0 1 2] [0 1 2]\n",
        "1"
       ]
      },
      {
       "output_type": "stream",
       "stream": "stdout",
       "text": [
        " [0 1 2] []\n",
        "2 [0 1 2] [0 1 2]\n",
        "1 [0 1 2] []\n",
        "2 [0 1 2] [0 1 2]\n",
        "1 [0 1 2] []\n",
        "2 [0 1 2] [0 1 2]\n",
        "1 [0 1 2] []\n",
        "2 [0 1 2] [0 1 2]\n",
        "1 [0 1 2] []\n",
        "2 [0 1 2] [0 1 2]\n",
        "1 [0 1 2] []\n",
        "2 [0 1 2] [0 1 2]\n",
        "1 [0 1 2] []\n",
        "2 [0 1 2] [0 1 2]\n",
        "1 [0 1 2] []\n",
        "2 [0 1 2] [0 1 2]\n",
        "1 [0 1 2] []\n",
        "2 [0 1 2] [0 1 2]\n",
        "1 [0 1 2] []\n",
        "2 [0 1 2] [0 1 2]\n",
        "1"
       ]
      },
      {
       "output_type": "stream",
       "stream": "stdout",
       "text": [
        " [0 1 2] []\n",
        "2 [0 1 2] [0 1 2]\n",
        "1 [0 1 2] []\n",
        "2 [0 1 2] [0 1 2]\n",
        "1 [0 1 2] []\n",
        "2 [0 1 2] [0 1 2]\n",
        "1 [0 1 2] []\n",
        "2 [0 1 2] [0 1 2]\n",
        "1 [0 1 2] []\n",
        "2 [0 1 2] [0 1 2]\n",
        "1 [0 1 2] []\n",
        "2 [0 1 2] [0 1 2]\n",
        "1 [0 1 2] []\n",
        "2 [0 1 2] [0 1 2]\n",
        "1 [0 1 2] []\n",
        "2 [0 1 2] [0 1 2]\n",
        "1 [0 1 2] []\n",
        "2 [0 1 2] [0 1 2]\n",
        "1 [0 1 2] []\n",
        "2 [0 1 2] [0 1 2]\n",
        "1"
       ]
      },
      {
       "output_type": "stream",
       "stream": "stdout",
       "text": [
        " [0 1 2] []\n",
        "2 [0 1 2] [0 1 2]\n",
        "1 [0 1 2] []\n",
        "2 [0 1 2] [0 1 2]\n",
        "1 [0 1 2] []\n",
        "2 [0 1 2] [0 1 2]\n",
        "1 [0 1 2] []\n",
        "2 [0 1 2] [0 1 2]\n",
        "1 [0 1 2] []\n",
        "2 [0 1 2] [0 1 2]\n",
        "1 [0 1 2] []\n",
        "2 [0 1 2] [0 1 2]\n",
        "1 [0 1 2] []\n",
        "2 [0 1 2] [0 1 2]\n",
        "1 [0 1 2] []\n",
        "2 [0 1 2] [0 1 2]\n",
        "1 [0 1 2] []\n",
        "2 [0 1 2] [0 1 2]\n",
        "1 [0 1 2] []\n",
        "2 [0 1 2] [0 1 2]\n",
        "1"
       ]
      },
      {
       "output_type": "stream",
       "stream": "stdout",
       "text": [
        " [0 1 2] []\n",
        "2 [0 1 2] [0 1 2]\n",
        "1 [0 1 2] []\n",
        "2 [0 1 2] [0 1 2]\n",
        "1 [0 1 2] []\n",
        "2 [0 1 2] [0 1 2]\n",
        "1 [0 1 2] []\n",
        "2 [0 1 2] [0 1 2]\n",
        "1 [0 1 2] []\n",
        "2 [0 1 2] [0 1 2]\n",
        "1 [0 1 2] []\n",
        "2 [0 1 2] [0 1 2]\n",
        "1 [0 1 2] []\n",
        "2 [0 1 2] [0 1 2]\n",
        "1 [0 1 2] []\n",
        "2 [0 1 2] [0 1 2]\n",
        "1 [0 1 2] []\n",
        "2 [0 1 2] [0 1 2]\n",
        "1 [0 1 2] []\n",
        "2 [0 1 2] [0 1 2]\n",
        "1"
       ]
      },
      {
       "output_type": "stream",
       "stream": "stdout",
       "text": [
        " [0 1 2] []\n",
        "2 [0 1 2] [0 1 2]\n",
        "1 [0 1 2] []\n",
        "2 [0 1 2] [0 1 2]\n",
        "1 [0 1 2] []\n",
        "2 [0 1 2] [0 1 2]\n",
        "1 [0 1 2] []\n",
        "2 [0 1 2] [0 1 2]\n",
        "1 [0 1 2] []\n",
        "2 [0 1 2] [0 1 2]\n",
        "1 [0 1 2] []\n",
        "2 [0 1 2] [0 1 2]\n",
        "1 [0 1 2] []\n",
        "2 [0 1 2] [0 1 2]\n",
        "1 [0 1 2] []\n",
        "2 [0 1 2] [0 1 2]\n",
        "1 [0 1 2] []\n",
        "2 [0 1 2] [0 1 2]\n",
        "1 [0 1 2] []\n",
        "2 [0 1 2] [0 1 2]\n",
        "1"
       ]
      },
      {
       "output_type": "stream",
       "stream": "stdout",
       "text": [
        " [0 1 2] []\n",
        "2 [0 1 2] [0 1 2]\n",
        "1 [0 1 2] []\n",
        "2 [0 1 2] [0 1 2]\n",
        "1 [0 1 2] []\n",
        "2 [0 1 2] [0 1 2]\n",
        "1 [0 1 2] []\n",
        "2 [0 1 2] [0 1 2]\n",
        "1 [0 1 2] []\n",
        "2 [0 1 2] [0 1 2]\n",
        "1 [0 1 2] []\n",
        "2 [0 1 2] [0 1 2]\n",
        "1 [0 1 2] []\n",
        "2 [0 1 2] [0 1 2]\n",
        "1 [0 1 2] []\n",
        "2 [0 1 2] [0 1 2]\n",
        "1 [0 1 2] []\n",
        "2 [0 1 2] [0 1 2]\n",
        "1 [0 1 2] []\n",
        "2 [0 1 2] [0 1 2]\n"
       ]
      }
     ],
     "prompt_number": 10
    },
    {
     "cell_type": "code",
     "collapsed": false,
     "input": [
      "preds = array(preds).reshape(-1,2)"
     ],
     "language": "python",
     "metadata": {},
     "outputs": [],
     "prompt_number": 11
    },
    {
     "cell_type": "code",
     "collapsed": false,
     "input": [
      "mean([norm(preds[i,:] - res[t, -2:]) for i,t in enumerate(test_inds)])"
     ],
     "language": "python",
     "metadata": {},
     "outputs": [
      {
       "metadata": {},
       "output_type": "pyout",
       "prompt_number": 12,
       "text": [
        "0.16977105936234557"
       ]
      }
     ],
     "prompt_number": 12
    },
    {
     "cell_type": "code",
     "collapsed": false,
     "input": [
      "import sklearn.mixture."
     ],
     "language": "python",
     "metadata": {},
     "outputs": [
      {
       "metadata": {},
       "output_type": "pyout",
       "prompt_number": 16,
       "text": [
        "[array([[ 0.27678493, -1.4428899 ]]),\n",
        " array([[ 1.65694508,  0.65356875]]),\n",
        " array([[ 1.25500204, -1.40665687]]),\n",
        " array([[-0.86947418, -0.51469026]]),\n",
        " array([[-1.7793873,  0.3994274]]),\n",
        " array([[-2.49733095, -1.92900874]]),\n",
        " array([[-0.53311854,  0.46141705]]),\n",
        " array([[ 0.94172195, -0.50543277]]),\n",
        " array([[-2.28470491,  2.05447783]]),\n",
        " array([[-1.53656497, -2.65474578]]),\n",
        " array([[ 3.01836673,  0.29605447]]),\n",
        " array([[-2.86928319,  0.03493914]]),\n",
        " array([[-1.30492655, -1.40660593]]),\n",
        " array([[-1.0704197 ,  1.84358581]]),\n",
        " array([[-1.79657363,  1.02344157]]),\n",
        " array([[ 2.89217894, -0.47938949]]),\n",
        " array([[-1.7350099 , -0.58805766]]),\n",
        " array([[-1.08723653,  1.97255929]]),\n",
        " array([[-0.50811394,  0.97543806]]),\n",
        " array([[ 1.66455395, -1.4357985 ]]),\n",
        " array([[ 2.88686632,  2.14046966]]),\n",
        " array([[ 1.59539182, -1.14115815]]),\n",
        " array([[-0.23203213,  0.02449848]]),\n",
        " array([[-2.850408 , -1.5541855]]),\n",
        " array([[-1.24126046, -0.38197375]]),\n",
        " array([[ 1.27719143, -1.61000246]]),\n",
        " array([[-1.2084803 ,  1.85295359]]),\n",
        " array([[-2.66440412, -2.18876451]]),\n",
        " array([[ 2.30593472, -0.1568337 ]]),\n",
        " array([[-3.05359268,  1.36353356]]),\n",
        " array([[ 2.04977189, -1.38274624]]),\n",
        " array([[ 0.70118467,  2.014671  ]]),\n",
        " array([[-2.98891109,  1.45919164]]),\n",
        " array([[ 2.81283669,  0.24264049]]),\n",
        " array([[ 1.13513463, -0.76519013]]),\n",
        " array([[ 0.04244007,  2.12747822]]),\n",
        " array([[-3.07521473, -1.94072546]]),\n",
        " array([[ 0.03869615,  1.03347637]]),\n",
        " array([[-2.62957344, -1.80418309]]),\n",
        " array([[ 1.86007438,  0.27358435]]),\n",
        " array([[ 2.37445123, -1.76076932]]),\n",
        " array([[ 2.808657  ,  1.45004193]]),\n",
        " array([[-1.79111001, -1.21448672]]),\n",
        " array([[-0.44440104,  1.16872928]]),\n",
        " array([[ 0.06625919,  1.2060657 ]]),\n",
        " array([[ 2.45712458,  1.60405149]]),\n",
        " array([[ 1.61322741,  1.25663556]]),\n",
        " array([[-2.10065444,  0.20220234]]),\n",
        " array([[ 0.96901008,  2.05668086]]),\n",
        " array([[ 0.13141275,  1.67067412]]),\n",
        " array([[ 0.22880642,  0.02724918]]),\n",
        " array([[-1.04954674,  1.49706316]]),\n",
        " array([[-1.00457013,  0.93854053]]),\n",
        " array([[-3.01978036,  2.33470837]]),\n",
        " array([[-1.92166895, -0.11367547]]),\n",
        " array([[-0.44689322,  1.38287556]]),\n",
        " array([[-0.17292288, -1.63890644]]),\n",
        " array([[ 1.81060983,  1.10042684]]),\n",
        " array([[ 1.79576586, -0.06292124]]),\n",
        " array([[ 1.64167512,  0.10736689]]),\n",
        " array([[ 2.7141436 , -2.17187472]]),\n",
        " array([[-1.51655842,  0.29860302]]),\n",
        " array([[ 3.05190739,  0.58912763]]),\n",
        " array([[-1.79026356, -0.40479312]]),\n",
        " array([[-2.02057353,  1.98487134]]),\n",
        " array([[ 3.26876769,  2.56194274]]),\n",
        " array([[-1.94097785, -0.92812302]]),\n",
        " array([[ 0.52717777, -1.39853697]]),\n",
        " array([[ 2.75192275,  0.61388392]]),\n",
        " array([[-2.6603866 ,  0.28879356]]),\n",
        " array([[-0.5051126 ,  1.90586705]]),\n",
        " array([[ 1.2791768 , -1.09596272]]),\n",
        " array([[-2.2649069 ,  0.23191107]]),\n",
        " array([[-2.33609275,  1.15504347]]),\n",
        " array([[ 0.72338738,  1.80208731]]),\n",
        " array([[-2.94593875,  1.57378666]]),\n",
        " array([[ 0.03387819,  0.00619696]]),\n",
        " array([[ 2.471619  , -0.33821463]]),\n",
        " array([[-2.43574848,  1.8243186 ]]),\n",
        " array([[-0.96705672,  1.84956248]]),\n",
        " array([[-1.84938685,  1.49984898]]),\n",
        " array([[-1.17693317, -2.15538212]]),\n",
        " array([[-2.44037781, -1.19546696]]),\n",
        " array([[-1.46499504,  1.71387932]]),\n",
        " array([[-1.49379064, -1.10360049]]),\n",
        " array([[ 2.0349818 ,  1.32785492]]),\n",
        " array([[ 1.66879805,  0.96300256]]),\n",
        " array([[ 1.1632065 ,  0.59815494]]),\n",
        " array([[-2.88772779,  0.37891869]]),\n",
        " array([[ 1.33000132,  2.13022286]]),\n",
        " array([[-0.28462338,  1.96124555]]),\n",
        " array([[-1.10802289, -0.78652145]]),\n",
        " array([[ 0.02690179,  1.13270882]]),\n",
        " array([[-3.08191063,  0.61708876]]),\n",
        " array([[ 0.89491676,  1.16216999]]),\n",
        " array([[-0.19208706, -1.18428488]]),\n",
        " array([[-2.38212311, -2.04501882]]),\n",
        " array([[ 3.06989382, -2.36842292]]),\n",
        " array([[-1.99216461, -0.29788599]]),\n",
        " array([[-1.88413814,  0.26097835]])]"
       ]
      }
     ],
     "prompt_number": 16
    },
    {
     "cell_type": "code",
     "collapsed": false,
     "input": [],
     "language": "python",
     "metadata": {},
     "outputs": []
    }
   ],
   "metadata": {}
  }
 ]
}