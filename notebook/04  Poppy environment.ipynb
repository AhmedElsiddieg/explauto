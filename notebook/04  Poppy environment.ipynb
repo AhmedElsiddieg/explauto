{
 "metadata": {
  "name": "",
  "signature": "sha256:f0b01acb8d0ba9b37e36f544a0d0b00a76b5c8a1b619ca184172060ddec2818c"
 },
 "nbformat": 3,
 "nbformat_minor": 0,
 "worksheets": [
  {
   "cells": [
    {
     "cell_type": "code",
     "collapsed": false,
     "input": [
      "%pylab inline"
     ],
     "language": "python",
     "metadata": {},
     "outputs": [
      {
       "output_type": "stream",
       "stream": "stdout",
       "text": [
        "Populating the interactive namespace from numpy and matplotlib\n"
       ]
      }
     ],
     "prompt_number": 1
    },
    {
     "cell_type": "code",
     "collapsed": false,
     "input": [
      "import pypot.robot"
     ],
     "language": "python",
     "metadata": {},
     "outputs": [],
     "prompt_number": 2
    },
    {
     "cell_type": "code",
     "collapsed": false,
     "input": [
      "poppy = pypot.robot.from_json('../../poppy-software/poppytools/configuration/poppy_config_linux.json')"
     ],
     "language": "python",
     "metadata": {},
     "outputs": [],
     "prompt_number": 3
    },
    {
     "cell_type": "code",
     "collapsed": false,
     "input": [
      "poppy.start_sync()"
     ],
     "language": "python",
     "metadata": {},
     "outputs": [],
     "prompt_number": 4
    },
    {
     "cell_type": "code",
     "collapsed": false,
     "input": [
      "for m in poppy.motors:\n",
      "    m.compliant  = False"
     ],
     "language": "python",
     "metadata": {},
     "outputs": [],
     "prompt_number": 10
    },
    {
     "cell_type": "code",
     "collapsed": false,
     "input": [
      "from pypot.sensor.optibridge import OptiTrackClient \n",
      "\n",
      "opti = OptiTrackClient('193.50.110.222', 8989, ('l_hand', 'r_hand'))\n",
      "opti.start()"
     ],
     "language": "python",
     "metadata": {},
     "outputs": [],
     "prompt_number": 5
    },
    {
     "cell_type": "code",
     "collapsed": false,
     "input": [
      "opti.tracked_objects"
     ],
     "language": "python",
     "metadata": {},
     "outputs": [
      {
       "metadata": {},
       "output_type": "pyout",
       "prompt_number": 6,
       "text": [
        "{'l_hand': TrackedObject(position=array([-0.23374034,  0.15366752,  1.76809335]), quaternion=array([ 0.5267905 , -0.11298451,  0.42876396,  0.72518116]), orientation=array([ 0.44296809,  0.83441156,  1.45543509]), timestamp=datetime.datetime(2014, 4, 29, 12, 34, 33, 322000)),\n",
        " 'r_hand': TrackedObject(position=array([-0.01550757, -0.01850709,  1.98095405]), quaternion=array([ 0.2263442 , -0.29327881, -0.14858674,  0.91688484]), orientation=array([-0.6574019 , -0.14016847,  0.53192362]), timestamp=datetime.datetime(2014, 4, 29, 12, 34, 33, 322000))}"
       ]
      }
     ],
     "prompt_number": 6
    },
    {
     "cell_type": "code",
     "collapsed": false,
     "input": [
      "import poppytools.primitive.basic as basic"
     ],
     "language": "python",
     "metadata": {},
     "outputs": [],
     "prompt_number": 6
    },
    {
     "cell_type": "code",
     "collapsed": false,
     "input": [
      "poppy.attach_primitive(basic.SitPosition (poppy), 'sit_position')\n",
      "poppy.attach_primitive(basic.StandPosition (poppy), 'stand_position')"
     ],
     "language": "python",
     "metadata": {},
     "outputs": [],
     "prompt_number": 13
    },
    {
     "cell_type": "code",
     "collapsed": false,
     "input": [
      "poppy.sit_position.start()"
     ],
     "language": "python",
     "metadata": {},
     "outputs": [],
     "prompt_number": 15
    },
    {
     "cell_type": "code",
     "collapsed": false,
     "input": [
      "poppy.stand_position.start()"
     ],
     "language": "python",
     "metadata": {},
     "outputs": [
      {
       "output_type": "stream",
       "stream": "stdout",
       "text": [
        "initialisation\n"
       ]
      }
     ],
     "prompt_number": 14
    },
    {
     "cell_type": "code",
     "collapsed": false,
     "input": [
      "from explauto.environment.pypot import PypotEnvironment\n",
      "from explauto.environment import environments\n",
      "\n",
      "l_m_mins = deg2rad(array([-75, 0, -30, -90]))\n",
      "l_m_maxs = deg2rad(array([15, 90, 0, 0]))\n",
      "\n",
      "s_mins = array([-0.6, -0.2,  1.5])\n",
      "s_maxs = array([-0.1,  0.2,  2.0])\n",
      "\n",
      "\n",
      "env_cls = PypotEnvironment\n",
      "\n",
      "conf = {'pypot_robot': poppy,\n",
      "        'motors': poppy.l_arm,\n",
      "        'move_duration': 2,\n",
      "        'optitrack_sensor': opti,\n",
      "        'tracked_obj': 'l_hand',\n",
      "        'm_mins': l_m_mins,\n",
      "        'm_maxs': l_m_maxs,\n",
      "        's_mins': s_mins,\n",
      "        's_maxs': s_maxs}\n",
      "\n",
      "env_configs = {}\n",
      "env_configs['l_arm'] = conf\n",
      "\n",
      "r_m_mins = deg2rad(array([15, -90, 30, -90]))\n",
      "r_m_maxs = deg2rad(array([75, 0, 0, 0]))\n",
      "s_mins = array([-0.1, -0.1, 1.7])\n",
      "s_maxs = array([ 0.3,  0.2, 2.1])\n",
      "\n",
      "conf = {'pypot_robot': poppy,\n",
      "        'motors': poppy.r_arm,\n",
      "        'move_duration': 2,\n",
      "        'optitrack_sensor': opti,\n",
      "        'tracked_obj': 'r_hand',\n",
      "        'm_mins': r_m_mins,\n",
      "        'm_maxs': r_m_maxs,\n",
      "        's_mins': s_mins,\n",
      "        's_maxs': s_maxs}\n",
      "\n",
      "env_configs['r_arm'] = conf\n",
      "environments['poppy'] = (env_cls, env_configs)"
     ],
     "language": "python",
     "metadata": {},
     "outputs": [],
     "prompt_number": 16
    },
    {
     "cell_type": "code",
     "collapsed": false,
     "input": [
      "from explauto.experiment import Experiment"
     ],
     "language": "python",
     "metadata": {},
     "outputs": [],
     "prompt_number": 14
    },
    {
     "cell_type": "code",
     "collapsed": false,
     "input": [
      "l_xp = Experiment.from_settings('poppy', 'goal', 'random', 'non_parametric', environment_config='l_arm')"
     ],
     "language": "python",
     "metadata": {},
     "outputs": [],
     "prompt_number": 15
    },
    {
     "cell_type": "code",
     "collapsed": false,
     "input": [
      "r_xp = Experiment.from_settings('poppy', 'motor', 'random', 'non_parametric', environment_config='r_arm')"
     ],
     "language": "python",
     "metadata": {},
     "outputs": [],
     "prompt_number": 16
    },
    {
     "cell_type": "code",
     "collapsed": false,
     "input": [
      "l_xp.bootstrap(3)"
     ],
     "language": "python",
     "metadata": {},
     "outputs": [],
     "prompt_number": 17
    },
    {
     "cell_type": "code",
     "collapsed": false,
     "input": [
      "r_xp.bootstrap(3)"
     ],
     "language": "python",
     "metadata": {},
     "outputs": [],
     "prompt_number": 18
    },
    {
     "cell_type": "code",
     "collapsed": false,
     "input": [
      "xp.run(50)"
     ],
     "language": "python",
     "metadata": {},
     "outputs": [],
     "prompt_number": 13
    },
    {
     "cell_type": "code",
     "collapsed": false,
     "input": [
      "ax = axes()\n",
      "data = xp.scatter_plot(ax, (('choice', [0, 1]), ))\n",
      "data = xp.scatter_plot(ax, (('sensori', [0, 1]), ), color='green')"
     ],
     "language": "python",
     "metadata": {},
     "outputs": [
      {
       "metadata": {},
       "output_type": "display_data",
       "png": "[encoded data removed]",
       "text": [
        "<matplotlib.figure.Figure at 0xa4c16ac>"
       ]
      }
     ],
     "prompt_number": 12
    },
    {
     "cell_type": "code",
     "collapsed": false,
     "input": [
      "poppy.abs_y.goal_position = -10"
     ],
     "language": "python",
     "metadata": {},
     "outputs": [],
     "prompt_number": 12
    },
    {
     "cell_type": "code",
     "collapsed": false,
     "input": [
      "for m in poppy.r_arm:\n",
      "    m.compliant = False"
     ],
     "language": "python",
     "metadata": {},
     "outputs": [],
     "prompt_number": 21
    },
    {
     "cell_type": "code",
     "collapsed": false,
     "input": [
      "m_mins = deg2rad(array([15, -90, 30, -90]))\n",
      "m_maxs = deg2rad(array([75, 0, 0, 0]))"
     ],
     "language": "python",
     "metadata": {},
     "outputs": [],
     "prompt_number": 9
    },
    {
     "cell_type": "code",
     "collapsed": false,
     "input": [
      "import time\n",
      "\n",
      "l = []\n",
      "e = 0\n",
      "\n",
      "for _ in range(100):\n",
      "    for m, p, in zip(poppy.r_arm, rad2deg(rand(4) * (m_maxs - m_mins) + m_mins)):\n",
      "        m.moving_speed = 50\n",
      "        m.goal_position = p\n",
      "    time.sleep(2)\n",
      "    \n",
      "    try:\n",
      "        l.append(opti.tracked_objects['r_hand'].position)\n",
      "    except KeyError:\n",
      "        e += 1"
     ],
     "language": "python",
     "metadata": {},
     "outputs": [
      {
       "ename": "KeyboardInterrupt",
       "evalue": "",
       "output_type": "pyerr",
       "traceback": [
        "\u001b[1;31m---------------------------------------------------------------------------\u001b[0m\n\u001b[1;31mKeyboardInterrupt\u001b[0m                         Traceback (most recent call last)",
        "\u001b[1;32m<ipython-input-11-d88d3adf2f67>\u001b[0m in \u001b[0;36m<module>\u001b[1;34m()\u001b[0m\n\u001b[0;32m      8\u001b[0m         \u001b[0mm\u001b[0m\u001b[1;33m.\u001b[0m\u001b[0mmoving_speed\u001b[0m \u001b[1;33m=\u001b[0m \u001b[1;36m50\u001b[0m\u001b[1;33m\u001b[0m\u001b[0m\n\u001b[0;32m      9\u001b[0m         \u001b[0mm\u001b[0m\u001b[1;33m.\u001b[0m\u001b[0mgoal_position\u001b[0m \u001b[1;33m=\u001b[0m \u001b[0mp\u001b[0m\u001b[1;33m\u001b[0m\u001b[0m\n\u001b[1;32m---> 10\u001b[1;33m     \u001b[0mtime\u001b[0m\u001b[1;33m.\u001b[0m\u001b[0msleep\u001b[0m\u001b[1;33m(\u001b[0m\u001b[1;36m2\u001b[0m\u001b[1;33m)\u001b[0m\u001b[1;33m\u001b[0m\u001b[0m\n\u001b[0m\u001b[0;32m     11\u001b[0m \u001b[1;33m\u001b[0m\u001b[0m\n\u001b[0;32m     12\u001b[0m     \u001b[1;32mtry\u001b[0m\u001b[1;33m:\u001b[0m\u001b[1;33m\u001b[0m\u001b[0m\n",
        "\u001b[1;31mKeyboardInterrupt\u001b[0m: "
       ]
      }
     ],
     "prompt_number": 11
    },
    {
     "cell_type": "code",
     "collapsed": false,
     "input": [
      "plot(l)"
     ],
     "language": "python",
     "metadata": {},
     "outputs": [
      {
       "metadata": {},
       "output_type": "pyout",
       "prompt_number": 12,
       "text": [
        "[<matplotlib.lines.Line2D at 0xa683ec6c>,\n",
        " <matplotlib.lines.Line2D at 0xbeab86c>,\n",
        " <matplotlib.lines.Line2D at 0xbeab9cc>]"
       ]
      },
      {
       "metadata": {},
       "output_type": "display_data",
       "png": "[encoded data removed]",
       "text": [
        "<matplotlib.figure.Figure at 0xbda2c8c>"
       ]
      }
     ],
     "prompt_number": 12
    },
    {
     "cell_type": "code",
     "collapsed": false,
     "input": [
      "len(l), e"
     ],
     "language": "python",
     "metadata": {},
     "outputs": [
      {
       "metadata": {},
       "output_type": "pyout",
       "prompt_number": 13,
       "text": [
        "(48, 12)"
       ]
      }
     ],
     "prompt_number": 13
    },
    {
     "cell_type": "code",
     "collapsed": false,
     "input": [
      "array(l).max(axis=0)"
     ],
     "language": "python",
     "metadata": {},
     "outputs": [
      {
       "metadata": {},
       "output_type": "pyout",
       "prompt_number": 15,
       "text": [
        "array([ 0.25254068,  0.17700455,  2.05491352])"
       ]
      }
     ],
     "prompt_number": 15
    },
    {
     "cell_type": "code",
     "collapsed": false,
     "input": [
      "import time\n",
      "\n",
      "l = []\n",
      "le = 0\n",
      "\n",
      "r = []\n",
      "re = 0\n",
      "\n",
      "for _ in range(100):\n",
      "    lpos = rad2deg(rand(4) * (l_m_maxs - l_m_mins) + l_m_mins)\n",
      "    rpos = rad2deg(rand(4) * (r_m_maxs - r_m_mins) + r_m_mins)\n",
      "\n",
      "    for m, p in zip(poppy.l_arm, lpos):\n",
      "        m.moving_speed = 50\n",
      "        m.goal_position = p\n",
      "    \n",
      "    for m, p in zip(poppy.r_arm, rpos):\n",
      "        m.moving_speed = 50\n",
      "        m.goal_position = p\n",
      "        \n",
      "    time.sleep(2)\n",
      "    \n",
      "    try:\n",
      "        l.append(opti.tracked_objects['l_hand'].position)\n",
      "    except KeyError:\n",
      "        le += 1\n",
      "        \n",
      "    try:\n",
      "        r.append(opti.tracked_objects['r_hand'].position)\n",
      "    except KeyError:\n",
      "        re += 1"
     ],
     "language": "python",
     "metadata": {},
     "outputs": [
      {
       "ename": "KeyboardInterrupt",
       "evalue": "",
       "output_type": "pyerr",
       "traceback": [
        "\u001b[1;31m---------------------------------------------------------------------------\u001b[0m\n\u001b[1;31mKeyboardInterrupt\u001b[0m                         Traceback (most recent call last)",
        "\u001b[1;32m<ipython-input-32-b9dfa6d13927>\u001b[0m in \u001b[0;36m<module>\u001b[1;34m()\u001b[0m\n\u001b[0;32m     19\u001b[0m         \u001b[0mm\u001b[0m\u001b[1;33m.\u001b[0m\u001b[0mgoal_position\u001b[0m \u001b[1;33m=\u001b[0m \u001b[0mp\u001b[0m\u001b[1;33m\u001b[0m\u001b[0m\n\u001b[0;32m     20\u001b[0m \u001b[1;33m\u001b[0m\u001b[0m\n\u001b[1;32m---> 21\u001b[1;33m     \u001b[0mtime\u001b[0m\u001b[1;33m.\u001b[0m\u001b[0msleep\u001b[0m\u001b[1;33m(\u001b[0m\u001b[1;36m2\u001b[0m\u001b[1;33m)\u001b[0m\u001b[1;33m\u001b[0m\u001b[0m\n\u001b[0m\u001b[0;32m     22\u001b[0m \u001b[1;33m\u001b[0m\u001b[0m\n\u001b[0;32m     23\u001b[0m     \u001b[1;32mtry\u001b[0m\u001b[1;33m:\u001b[0m\u001b[1;33m\u001b[0m\u001b[0m\n",
        "\u001b[1;31mKeyboardInterrupt\u001b[0m: "
       ]
      }
     ],
     "prompt_number": 32
    },
    {
     "cell_type": "code",
     "collapsed": false,
     "input": [],
     "language": "python",
     "metadata": {},
     "outputs": []
    }
   ],
   "metadata": {}
  }
 ]
}