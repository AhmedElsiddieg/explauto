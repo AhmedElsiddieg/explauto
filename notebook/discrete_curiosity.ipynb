{
 "metadata": {
  "name": "discrete_curiosity"
 },
 "nbformat": 3,
 "nbformat_minor": 0,
 "worksheets": [
  {
   "cells": [
    {
     "cell_type": "code",
     "collapsed": false,
     "input": [
      "sys.path.append('../')\n",
      "from environment.toys.discrete_1d_progress import *\n",
      "from agent import Agent\n",
      "from agent.config import get_config\n",
      "from model.i_model import DiscreteProgressInterest\n",
      "from model.competence import competence_bool\n",
      "from experiment import Experiment"
     ],
     "language": "python",
     "metadata": {},
     "outputs": [],
     "prompt_number": 1
    },
    {
     "cell_type": "code",
     "collapsed": false,
     "input": [
      "m_card = 7\n",
      "s_card = 7\n",
      "env = Discrete1dProgress(dict(m_ndims = 1, s_ndims = 1, m_card = m_card, s_card = s_card))"
     ],
     "language": "python",
     "metadata": {},
     "outputs": [],
     "prompt_number": 2
    },
    {
     "cell_type": "code",
     "collapsed": false,
     "input": [
      "#bounds = ((0, m_card), (0, s_card))"
     ],
     "language": "python",
     "metadata": {},
     "outputs": [],
     "prompt_number": 3
    },
    {
     "cell_type": "code",
     "collapsed": false,
     "input": [
      "myconf = get_config(1, 1, ['discrete', dict(m_card=m_card, s_card=s_card, lambd = 0.01)], ['discrete_progress', 'goal', dict(x_card=s_card, win_size=10, measure = competence_bool)])"
     ],
     "language": "python",
     "metadata": {},
     "outputs": [],
     "prompt_number": 4
    },
    {
     "cell_type": "code",
     "collapsed": false,
     "input": [
      "ag = Agent(**myconf)\n",
      "expe_1 = Experiment(env, ag, 0, [0,1])"
     ],
     "language": "python",
     "metadata": {},
     "outputs": [],
     "prompt_number": 5
    },
    {
     "cell_type": "code",
     "collapsed": false,
     "input": [
      "n_trials = 200\n",
      "progr = zeros((n_trials, s_card))\n",
      "for i in range(n_trials):\n",
      "    expe_1.run()\n",
      "    progr[i,:] = ag.i_model.progress()\n"
     ],
     "language": "python",
     "metadata": {},
     "outputs": [],
     "prompt_number": 6
    },
    {
     "cell_type": "code",
     "collapsed": false,
     "input": [
      "clf()\n",
      "plot(progr)\n",
      "legend([str(i) for i in range(s_card)])\n",
      "[text(n_trials * 1.1, progr[-1, x], str(x)) for x in range(s_card)]    "
     ],
     "language": "python",
     "metadata": {},
     "outputs": [
      {
       "output_type": "pyout",
       "prompt_number": 7,
       "text": [
        "[<matplotlib.text.Text at 0x3dd4650>,\n",
        " <matplotlib.text.Text at 0x3dd4410>,\n",
        " <matplotlib.text.Text at 0x3dd4950>,\n",
        " <matplotlib.text.Text at 0x3dd49d0>,\n",
        " <matplotlib.text.Text at 0x3dd4a50>,\n",
        " <matplotlib.text.Text at 0x3dd4ad0>,\n",
        " <matplotlib.text.Text at 0x3dd4b50>]"
       ]
      }
     ],
     "prompt_number": 7
    },
    {
     "cell_type": "code",
     "collapsed": false,
     "input": [
      "figure()\n",
      "for s in range(s_card):\n",
      "    inds = nonzero(ag.i_model.choices.flatten()[:ag.i_model.t] == s)[0]\n",
      "    plot(inds, ag.i_model.comps[inds], '*', ms=12)\n",
      "legend([str(i) for i in range(s_card)])    "
     ],
     "language": "python",
     "metadata": {},
     "outputs": [
      {
       "output_type": "pyout",
       "prompt_number": 8,
       "text": [
        "<matplotlib.legend.Legend at 0x427fdd0>"
       ]
      }
     ],
     "prompt_number": 8
    },
    {
     "cell_type": "code",
     "collapsed": false,
     "input": [
      "figure()\n",
      "win = 40\n",
      "spent = []\n",
      "for t in range(expe_1.i_rec-10):\n",
      "    spent.append([float(sum(expe_1.records[t:t+win, 1] == s))/win * 100 for s in range(s_card)])\n",
      "plot(spent)\n",
      "legend([str(i) for i in range(s_card)])    "
     ],
     "language": "python",
     "metadata": {},
     "outputs": [
      {
       "output_type": "pyout",
       "prompt_number": 9,
       "text": [
        "<matplotlib.legend.Legend at 0x4456a10>"
       ]
      }
     ],
     "prompt_number": 9
    },
    {
     "cell_type": "code",
     "collapsed": false,
     "input": [
      "x = linspace(0., 1., 100)\n",
      "plot(x, exp(2. * x) / exp(2.))"
     ],
     "language": "python",
     "metadata": {},
     "outputs": [
      {
       "output_type": "pyout",
       "prompt_number": 10,
       "text": [
        "[<matplotlib.lines.Line2D at 0x579d850>]"
       ]
      }
     ],
     "prompt_number": 10
    },
    {
     "cell_type": "code",
     "collapsed": false,
     "input": [
      "zip(range(4), x)"
     ],
     "language": "python",
     "metadata": {},
     "outputs": [
      {
       "output_type": "pyout",
       "prompt_number": 15,
       "text": [
        "[(0, 10), (1, 11), (2, 12), (3, 13)]"
       ]
      }
     ],
     "prompt_number": 15
    },
    {
     "cell_type": "code",
     "collapsed": false,
     "input": [
      "n_trials = 10\n",
      "logs_x = zeros((n_trials, s_card))\n",
      "for trial in range(n_trials):\n",
      "    del ag, expe_1\n",
      "    ag = Agent(**myconf)\n",
      "    expe_1 = Experiment(env, ag, 0, [0,1])\n",
      "    expe_1.run(10)\n",
      "    logs_x[trial, :] = [(ag.choices[:ag.t, :] == x).sum() for x in range(s_card)]"
     ],
     "language": "python",
     "metadata": {},
     "outputs": [],
     "prompt_number": 22
    },
    {
     "cell_type": "code",
     "collapsed": false,
     "input": [
      "logs_x.sum(axis=0)"
     ],
     "language": "python",
     "metadata": {},
     "outputs": [
      {
       "output_type": "pyout",
       "prompt_number": 23,
       "text": [
        "array([ 73.,   0.,   0.,  19.,   8.,   0.])"
       ]
      }
     ],
     "prompt_number": 23
    },
    {
     "cell_type": "code",
     "collapsed": false,
     "input": [
      "logs_x"
     ],
     "language": "python",
     "metadata": {},
     "outputs": [
      {
       "output_type": "pyout",
       "prompt_number": 24,
       "text": [
        "array([[  2.,   0.,   0.,   7.,   1.,   0.],\n",
        "       [  1.,   0.,   0.,   9.,   0.,   0.],\n",
        "       [  6.,   0.,   0.,   3.,   1.,   0.],\n",
        "       [  8.,   0.,   0.,   0.,   2.,   0.],\n",
        "       [  7.,   0.,   0.,   0.,   3.,   0.],\n",
        "       [  9.,   0.,   0.,   0.,   1.,   0.],\n",
        "       [ 10.,   0.,   0.,   0.,   0.,   0.],\n",
        "       [ 10.,   0.,   0.,   0.,   0.,   0.],\n",
        "       [ 10.,   0.,   0.,   0.,   0.,   0.],\n",
        "       [ 10.,   0.,   0.,   0.,   0.,   0.]])"
       ]
      }
     ],
     "prompt_number": 24
    },
    {
     "cell_type": "code",
     "collapsed": false,
     "input": [
      "env.s_card"
     ],
     "language": "python",
     "metadata": {},
     "outputs": [
      {
       "output_type": "pyout",
       "prompt_number": 14,
       "text": [
        "6"
       ]
      }
     ],
     "prompt_number": 14
    },
    {
     "cell_type": "code",
     "collapsed": false,
     "input": [],
     "language": "python",
     "metadata": {},
     "outputs": [],
     "prompt_number": 23
    },
    {
     "cell_type": "code",
     "collapsed": false,
     "input": [
      "print ag.choices[:ag.t, :]"
     ],
     "language": "python",
     "metadata": {},
     "outputs": [
      {
       "output_type": "stream",
       "stream": "stdout",
       "text": [
        "[[ 2.]\n",
        " [ 5.]\n",
        " [ 2.]\n",
        " [ 3.]\n",
        " [ 4.]\n",
        " [ 1.]\n",
        " [ 5.]\n",
        " [ 3.]\n",
        " [ 4.]\n",
        " [ 0.]\n",
        " [ 2.]\n",
        " [ 2.]\n",
        " [ 2.]\n",
        " [ 2.]\n",
        " [ 5.]\n",
        " [ 4.]\n",
        " [ 1.]\n",
        " [ 5.]\n",
        " [ 5.]\n",
        " [ 4.]]\n"
       ]
      }
     ],
     "prompt_number": 18
    },
    {
     "cell_type": "code",
     "collapsed": false,
     "input": [
      "[(ag.choices[:ag.t, :] == x).sum() for x in range(s_card)]"
     ],
     "language": "python",
     "metadata": {},
     "outputs": [
      {
       "output_type": "pyout",
       "prompt_number": 25,
       "text": [
        "[2, 4, 11, 8, 7, 8]"
       ]
      }
     ],
     "prompt_number": 25
    },
    {
     "cell_type": "code",
     "collapsed": false,
     "input": [
      "from model.sm_model import LidstoneModel"
     ],
     "language": "python",
     "metadata": {},
     "outputs": [],
     "prompt_number": 2
    },
    {
     "cell_type": "code",
     "collapsed": false,
     "input": [
      "model = LidstoneModel(3, 4)"
     ],
     "language": "python",
     "metadata": {},
     "outputs": [],
     "prompt_number": 3
    },
    {
     "cell_type": "code",
     "collapsed": false,
     "input": [
      "model.counts"
     ],
     "language": "python",
     "metadata": {},
     "outputs": [
      {
       "output_type": "pyout",
       "prompt_number": 4,
       "text": [
        "array([[ 0.,  0.,  0.,  0.],\n",
        "       [ 0.,  0.,  0.,  0.],\n",
        "       [ 0.,  0.,  0.,  0.]])"
       ]
      }
     ],
     "prompt_number": 4
    },
    {
     "cell_type": "code",
     "collapsed": false,
     "input": [
      "model.update(2, 1)"
     ],
     "language": "python",
     "metadata": {},
     "outputs": [],
     "prompt_number": 28
    },
    {
     "cell_type": "code",
     "collapsed": false,
     "input": [
      "p"
     ],
     "language": "python",
     "metadata": {},
     "outputs": [
      {
       "output_type": "pyout",
       "prompt_number": 6,
       "text": [
        "array([[ 0.08333333,  0.08333333,  0.08333333,  0.08333333],\n",
        "       [ 0.08333333,  0.08333333,  0.08333333,  0.08333333],\n",
        "       [ 0.08333333,  0.08333333,  0.08333333,  0.08333333]])"
       ]
      }
     ],
     "prompt_number": 6
    },
    {
     "cell_type": "code",
     "collapsed": false,
     "input": [
      "from collections import deque"
     ],
     "language": "python",
     "metadata": {},
     "outputs": [],
     "prompt_number": 36
    },
    {
     "cell_type": "code",
     "collapsed": false,
     "input": [
      "q = deque(zeros(3), 3)"
     ],
     "language": "python",
     "metadata": {},
     "outputs": [],
     "prompt_number": 38
    },
    {
     "cell_type": "code",
     "collapsed": false,
     "input": [
      "q.append(array([2., 0.]))"
     ],
     "language": "python",
     "metadata": {},
     "outputs": [],
     "prompt_number": 54
    },
    {
     "cell_type": "code",
     "collapsed": false,
     "input": [
      "print q"
     ],
     "language": "python",
     "metadata": {},
     "outputs": [
      {
       "output_type": "stream",
       "stream": "stdout",
       "text": [
        "deque([array([ 0.,  0.]), array([ 1.,  0.]), array([ 2.,  0.])], maxlen=3)\n"
       ]
      }
     ],
     "prompt_number": 55
    },
    {
     "cell_type": "code",
     "collapsed": false,
     "input": [
      "cov(array(q), rowvar = 0)"
     ],
     "language": "python",
     "metadata": {},
     "outputs": [
      {
       "output_type": "pyout",
       "prompt_number": 61,
       "text": [
        "array([[ 1.,  0.],\n",
        "       [ 0.,  0.]])"
       ]
      }
     ],
     "prompt_number": 61
    },
    {
     "cell_type": "code",
     "collapsed": false,
     "input": [
      "d = deque([[t, 0.] for t in range(4)])\n",
      "print d"
     ],
     "language": "python",
     "metadata": {},
     "outputs": [
      {
       "output_type": "stream",
       "stream": "stdout",
       "text": [
        "deque([[0, 0.0], [1, 0.0], [2, 0.0], [3, 0.0]])\n"
       ]
      }
     ],
     "prompt_number": 68
    },
    {
     "cell_type": "code",
     "collapsed": false,
     "input": [
      "cov(d, rowvar=0)"
     ],
     "language": "python",
     "metadata": {},
     "outputs": [
      {
       "output_type": "pyout",
       "prompt_number": 69,
       "text": [
        "array([[ 1.66666667,  0.        ],\n",
        "       [ 0.        ,  0.        ]])"
       ]
      }
     ],
     "prompt_number": 69
    },
    {
     "cell_type": "code",
     "collapsed": false,
     "input": [
      "[0, 1] == 0"
     ],
     "language": "python",
     "metadata": {},
     "outputs": [
      {
       "output_type": "pyout",
       "prompt_number": 70,
       "text": [
        "False"
       ]
      }
     ],
     "prompt_number": 70
    },
    {
     "cell_type": "code",
     "collapsed": false,
     "input": [
      "d = array([0., 0., 0.])\n",
      "d = d / d.sum()"
     ],
     "language": "python",
     "metadata": {},
     "outputs": [
      {
       "output_type": "stream",
       "stream": "stderr",
       "text": [
        "-c:2: RuntimeWarning: invalid value encountered in divide\n"
       ]
      }
     ],
     "prompt_number": 11
    },
    {
     "cell_type": "code",
     "collapsed": false,
     "input": [
      "(discrete_random_draw(d, nb=10000) == 2).sum()"
     ],
     "language": "python",
     "metadata": {},
     "outputs": [
      {
       "output_type": "pyout",
       "prompt_number": 67,
       "text": [
        "3347"
       ]
      }
     ],
     "prompt_number": 67
    },
    {
     "cell_type": "code",
     "collapsed": false,
     "input": [
      "d"
     ],
     "language": "python",
     "metadata": {},
     "outputs": [
      {
       "output_type": "pyout",
       "prompt_number": 30,
       "text": [
        "array([0, 0, 0])"
       ]
      }
     ],
     "prompt_number": 30
    },
    {
     "cell_type": "code",
     "collapsed": false,
     "input": [
      "d = array([1, 1, 1])"
     ],
     "language": "python",
     "metadata": {},
     "outputs": [],
     "prompt_number": 31
    },
    {
     "cell_type": "code",
     "collapsed": false,
     "input": [
      "d"
     ],
     "language": "python",
     "metadata": {},
     "outputs": [
      {
       "output_type": "pyout",
       "prompt_number": 34,
       "text": [
        "array([ 0.33333333,  0.33333333,  0.33333333])"
       ]
      }
     ],
     "prompt_number": 34
    },
    {
     "cell_type": "code",
     "collapsed": false,
     "input": [],
     "language": "python",
     "metadata": {},
     "outputs": []
    }
   ],
   "metadata": {}
  }
 ]
}