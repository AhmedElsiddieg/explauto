{
 "metadata": {
  "name": "",
  "signature": "sha256:ee82e8b2ad2468b4d087a0639e7f49f5b4795a38d59b52c4b49958523224b32e"
 },
 "nbformat": 3,
 "nbformat_minor": 0,
 "worksheets": [
  {
   "cells": [
    {
     "cell_type": "code",
     "collapsed": false,
     "input": [
      "%pylab"
     ],
     "language": "python",
     "metadata": {},
     "outputs": [
      {
       "output_type": "stream",
       "stream": "stdout",
       "text": [
        "Using matplotlib backend: TkAgg\n",
        "Populating the interactive namespace from numpy and matplotlib\n"
       ]
      }
     ],
     "prompt_number": 1
    },
    {
     "cell_type": "code",
     "collapsed": false,
     "input": [
      "from explauto.social import DynamicAttractor"
     ],
     "language": "python",
     "metadata": {},
     "outputs": [],
     "prompt_number": 2
    },
    {
     "cell_type": "code",
     "collapsed": false,
     "input": [
      "model = DynamicAttractor(ndims=2, n_components=7, dt=1.0, kv=1.0, kp=0.16, min_covar=1e-4)"
     ],
     "language": "python",
     "metadata": {},
     "outputs": [],
     "prompt_number": 3
    },
    {
     "cell_type": "code",
     "collapsed": false,
     "input": [
      "#demo_pos = load('../data/baxter/demo_0_pos')[:, -2].reshape(-1, 1)\n",
      "#demo_spd = load('../data/baxter/demo_0_speed')[:, -2].reshape(-1, 1)\n",
      "from scipy.io import loadmat\n",
      "demo = loadmat('../data/baxter/data.mat')['Data'].T\n",
      "demo_pos = demo[:,:2]\n",
      "demo_spd = demo[:,2:]"
     ],
     "language": "python",
     "metadata": {},
     "outputs": [],
     "prompt_number": 4
    },
    {
     "cell_type": "code",
     "collapsed": false,
     "input": [
      "data = hstack((demo_pos, demo_spd))"
     ],
     "language": "python",
     "metadata": {},
     "outputs": [],
     "prompt_number": 5
    },
    {
     "cell_type": "code",
     "collapsed": false,
     "input": [
      "model.fit(data)"
     ],
     "language": "python",
     "metadata": {},
     "outputs": [],
     "prompt_number": 6
    },
    {
     "cell_type": "code",
     "collapsed": false,
     "input": [
      "model.kp = 2.\n",
      "model.kv = 0.4\n",
      "model.dt = 0.01"
     ],
     "language": "python",
     "metadata": {},
     "outputs": [],
     "prompt_number": 13
    },
    {
     "cell_type": "code",
     "collapsed": false,
     "input": [
      "pos_0 = array([-0.04, -0.08]) #demo_pos[0,:]\n",
      "spd_0 = array([0., 0.]) #demo_spd[0,:]"
     ],
     "language": "python",
     "metadata": {},
     "outputs": [],
     "prompt_number": 14
    },
    {
     "cell_type": "code",
     "collapsed": false,
     "input": [
      "proj = [0,1]\n",
      "def simulate(kv, kp, dt):\n",
      "    model.kv, model.kp, model.dt = kv, kp, dt\n",
      "    l = []\n",
      "    pos, spd = pos_0, spd_0\n",
      "    for _ in range(1000):\n",
      "        #print pos, spd\n",
      "        #print model.gmm.predict(hstack((pos, spd)).reshape(1, -1))\n",
      "        l.append(hstack((pos, spd)))\n",
      "        pos, spd = model.command(pos, spd)\n",
      "        ax = subplot(111)\n",
      "        plot(l[:,proj[0]], l[:,proj[1]], 'rx')\n",
      "        model.gmm.plotProjection(ax, proj)\n",
      "        axis('equal')  \n",
      "        \n",
      "from IPython.html.widgets import interact\n",
      "interact(simulate, kv=(0.01, 2.), kp=(0.01, 2.), dt=(0.01, 1.))"
     ],
     "language": "python",
     "metadata": {},
     "outputs": [
      {
       "metadata": {},
       "output_type": "pyout",
       "prompt_number": 20,
       "text": [
        "<function __main__.simulate>"
       ]
      }
     ],
     "prompt_number": 20
    },
    {
     "cell_type": "code",
     "collapsed": false,
     "input": [
      "clf()\n",
      "proj = [0,1]\n",
      "plot(data[:,proj[0]], data[:,proj[1]], 'x')"
     ],
     "language": "python",
     "metadata": {},
     "outputs": [
      {
       "metadata": {},
       "output_type": "pyout",
       "prompt_number": 16,
       "text": [
        "[<matplotlib.lines.Line2D at 0x548c390>]"
       ]
      }
     ],
     "prompt_number": 16
    },
    {
     "cell_type": "code",
     "collapsed": false,
     "input": [
      "l = array(l)\n",
      "plot(l[:,proj[0]], l[:,proj[1]], 'rx')"
     ],
     "language": "python",
     "metadata": {},
     "outputs": [
      {
       "metadata": {},
       "output_type": "pyout",
       "prompt_number": 17,
       "text": [
        "[<matplotlib.lines.Line2D at 0x55b36d0>]"
       ]
      }
     ],
     "prompt_number": 17
    },
    {
     "cell_type": "code",
     "collapsed": false,
     "input": [
      "\n",
      "ax = subplot(111)\n",
      "model.gmm.plotProjection(ax, proj)\n",
      "axis('equal')"
     ],
     "language": "python",
     "metadata": {},
     "outputs": [
      {
       "metadata": {},
       "output_type": "pyout",
       "prompt_number": 18,
       "text": [
        "(-0.10000000000000001,\n",
        " 0.079999999999999988,\n",
        " -0.10000000000000001,\n",
        " 0.079999999999999988)"
       ]
      }
     ],
     "prompt_number": 18
    },
    {
     "cell_type": "code",
     "collapsed": false,
     "input": [
      "%debug"
     ],
     "language": "python",
     "metadata": {},
     "outputs": [
      {
       "output_type": "stream",
       "stream": "stdout",
       "text": [
        "> \u001b[1;32m/home/clement/Documents/Boulot/INRIA_FLOWERS/CODE/explauto/explauto/models/gmminf.py\u001b[0m(186)\u001b[0;36mplotProjection\u001b[1;34m()\u001b[0m\n",
        "\u001b[1;32m    185 \u001b[1;33m        \u001b[1;32mfor\u001b[0m \u001b[0mk\u001b[0m\u001b[1;33m,\u001b[0m \u001b[1;33m(\u001b[0m\u001b[0mw\u001b[0m\u001b[1;33m,\u001b[0m \u001b[0mm\u001b[0m\u001b[1;33m,\u001b[0m \u001b[0mc\u001b[0m\u001b[1;33m)\u001b[0m \u001b[1;32min\u001b[0m \u001b[0menumerate\u001b[0m\u001b[1;33m(\u001b[0m\u001b[0mself\u001b[0m\u001b[1;33m)\u001b[0m\u001b[1;33m:\u001b[0m\u001b[1;33m\u001b[0m\u001b[0m\n",
        "\u001b[0m\u001b[1;32m--> 186 \u001b[1;33m            \u001b[0max\u001b[0m\u001b[1;33m.\u001b[0m\u001b[0mtext\u001b[0m\u001b[1;33m(\u001b[0m \u001b[1;33m*\u001b[0m \u001b[0mtuple\u001b[0m\u001b[1;33m(\u001b[0m\u001b[0mm\u001b[0m\u001b[1;33m)\u001b[0m\u001b[1;33m,\u001b[0m \u001b[0ms\u001b[0m\u001b[1;33m=\u001b[0m\u001b[0mstr\u001b[0m\u001b[1;33m(\u001b[0m\u001b[0mk\u001b[0m\u001b[1;33m)\u001b[0m\u001b[1;33m)\u001b[0m\u001b[1;33m\u001b[0m\u001b[0m\n",
        "\u001b[0m\u001b[1;32m    187 \u001b[1;33m        \u001b[1;32mif\u001b[0m \u001b[0mlabel\u001b[0m\u001b[1;33m:\u001b[0m\u001b[1;33m\u001b[0m\u001b[0m\n",
        "\u001b[0m\n"
       ]
      },
      {
       "name": "stdout",
       "output_type": "stream",
       "stream": "stdout",
       "text": [
        "ipdb> tuple(m)\n"
       ]
      },
      {
       "output_type": "stream",
       "stream": "stdout",
       "text": [
        "(-0.018662600785411619, -0.0059875940165678449, 0.0005979100287518748, 0.001152362553226303)\n"
       ]
      }
     ]
    },
    {
     "cell_type": "code",
     "collapsed": false,
     "input": [
      "model.gmm.predict_proba(hstack((pos, spd)).reshape(1,-1))"
     ],
     "language": "python",
     "metadata": {},
     "outputs": [
      {
       "metadata": {},
       "output_type": "pyout",
       "prompt_number": 93,
       "text": [
        "array([[  1.00000000e+000,   2.83469526e-135,   0.00000000e+000,\n",
        "          0.00000000e+000,   0.00000000e+000,   8.37628501e-014,\n",
        "          3.48121227e-211,   0.00000000e+000,   0.00000000e+000,\n",
        "          0.00000000e+000]])"
       ]
      }
     ],
     "prompt_number": 93
    },
    {
     "cell_type": "code",
     "collapsed": false,
     "input": [
      "import pdb"
     ],
     "language": "python",
     "metadata": {},
     "outputs": [],
     "prompt_number": 56
    },
    {
     "cell_type": "code",
     "collapsed": false,
     "input": [
      "pos, spd = array([0.11]), array([-0.75])\n",
      "print pos, spd\n",
      "pdb.run('pos, spd = model.command(pos, spd)')"
     ],
     "language": "python",
     "metadata": {},
     "outputs": [
      {
       "output_type": "stream",
       "stream": "stdout",
       "text": [
        "[ 0.11] [-0.75]\n",
        "> <string>(1)<module>()\n"
       ]
      },
      {
       "name": "stdout",
       "output_type": "stream",
       "stream": "stdout",
       "text": [
        "(Pdb) s\n"
       ]
      },
      {
       "output_type": "stream",
       "stream": "stdout",
       "text": [
        "--Call--\n",
        "> /home/clement/Documents/Boulot/INRIA_FLOWERS/CODE/explauto/explauto/social/dynamic_attractor.py(30)command()\n",
        "-> def command(self, pos, spd):\n"
       ]
      },
      {
       "name": "stdout",
       "output_type": "stream",
       "stream": "stdout",
       "text": [
        "(Pdb) n\n"
       ]
      },
      {
       "output_type": "stream",
       "stream": "stdout",
       "text": [
        "> /home/clement/Documents/Boulot/INRIA_FLOWERS/CODE/explauto/explauto/social/dynamic_attractor.py(31)command()\n",
        "-> des_pos, des_spd = self.next_state(pos, spd)\n"
       ]
      },
      {
       "name": "stdout",
       "output_type": "stream",
       "stream": "stdout",
       "text": [
        "(Pdb) s\n"
       ]
      },
      {
       "output_type": "stream",
       "stream": "stdout",
       "text": [
        "--Call--\n",
        "> /home/clement/Documents/Boulot/INRIA_FLOWERS/CODE/explauto/explauto/social/dynamic_attractor.py(13)next_state()\n",
        "-> def next_state(self, pos, spd):\n"
       ]
      },
      {
       "name": "stdout",
       "output_type": "stream",
       "stream": "stdout",
       "text": [
        "(Pdb) n\n"
       ]
      },
      {
       "output_type": "stream",
       "stream": "stdout",
       "text": [
        "> /home/clement/Documents/Boulot/INRIA_FLOWERS/CODE/explauto/explauto/social/dynamic_attractor.py(14)next_state()\n",
        "-> h = self.gmm.predict_proba(hstack((pos, spd)).reshape(1, -1))\n"
       ]
      },
      {
       "name": "stdout",
       "output_type": "stream",
       "stream": "stdout",
       "text": [
        "(Pdb) n\n"
       ]
      },
      {
       "output_type": "stream",
       "stream": "stdout",
       "text": [
        "> /home/clement/Documents/Boulot/INRIA_FLOWERS/CODE/explauto/explauto/social/dynamic_attractor.py(17)next_state()\n",
        "-> next_pos = zeros(self.ndims)\n"
       ]
      },
      {
       "name": "stdout",
       "output_type": "stream",
       "stream": "stdout",
       "text": [
        "(Pdb) p h\n"
       ]
      },
      {
       "output_type": "stream",
       "stream": "stdout",
       "text": [
        "array([[  2.17521078e-181,   8.63156862e-030,   1.49975349e-060,\n",
        "          6.00913508e-001,   2.69556468e-203,   6.42285340e-323,\n",
        "          3.99086492e-001,   0.00000000e+000,   3.85720677e-047,\n",
        "          3.17190857e-018]])\n"
       ]
      },
      {
       "name": "stdout",
       "output_type": "stream",
       "stream": "stdout",
       "text": [
        "(Pdb) q\n"
       ]
      }
     ],
     "prompt_number": 57
    },
    {
     "cell_type": "code",
     "collapsed": false,
     "input": [
      "pos"
     ],
     "language": "python",
     "metadata": {},
     "outputs": [
      {
       "metadata": {},
       "output_type": "pyout",
       "prompt_number": 15,
       "text": [
        "array([ 0.12361074, -0.67168325, -0.00178049,  0.82364956,  0.05704114,\n",
        "        1.17724591, -0.06029244])"
       ]
      }
     ],
     "prompt_number": 15
    },
    {
     "cell_type": "code",
     "collapsed": false,
     "input": [],
     "language": "python",
     "metadata": {},
     "outputs": []
    }
   ],
   "metadata": {}
  }
 ]
}