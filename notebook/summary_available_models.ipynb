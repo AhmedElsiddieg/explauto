{
 "cells": [
  {
   "cell_type": "markdown",
   "metadata": {},
   "source": [
    "# Summary of Available Sensorimotor and Interest Models"
   ]
  },
  {
   "cell_type": "markdown",
   "metadata": {},
   "source": [
    "## I. Sensorimotor models"
   ]
  },
  {
   "cell_type": "code",
   "execution_count": 2,
   "metadata": {
    "collapsed": false
   },
   "outputs": [
    {
     "data": {
      "text/plain": [
       "['ilo_gmm', 'LWLR-CMAES', 'nearest_neighbor', 'WNN', 'LWLR-BFGS']"
      ]
     },
     "execution_count": 2,
     "metadata": {},
     "output_type": "execute_result"
    }
   ],
   "source": [
    "from explauto.sensorimotor_model import sensorimotor_models\n",
    "sensorimotor_models.keys()"
   ]
  },
  {
   "cell_type": "markdown",
   "metadata": {},
   "source": [
    "Common parameter: sigma_explo_ratio=0.1 (default)"
   ]
  },
  {
   "cell_type": "code",
   "execution_count": 20,
   "metadata": {
    "collapsed": false
   },
   "outputs": [
    {
     "name": "stdout",
     "output_type": "stream",
     "text": [
      "Configuration(m_mins=array([0, 0, 0]), m_maxs=array([1, 1, 1]), s_mins=array([0, 0, 0]), s_maxs=array([1, 1, 1]), mins=array([0, 0, 0, 0, 0, 0]), maxs=array([1, 1, 1, 1, 1, 1]), m_ndims=3, s_ndims=3, ndims=6, m_dims=[0, 1, 2], s_dims=[3, 4, 5], dims=[0, 1, 2, 3, 4, 5], m_bounds=array([[0, 0, 0],\n",
      "       [1, 1, 1]]), s_bounds=array([[0, 0, 0],\n",
      "       [1, 1, 1]]), bounds=array([[0, 0, 0, 0, 0, 0],\n",
      "       [1, 1, 1, 1, 1, 1]]), m_centers=array([ 0.5,  0.5,  0.5]), s_centers=array([ 0.5,  0.5,  0.5]), centers=array([ 0.5,  0.5,  0.5,  0.5,  0.5,  0.5]), m_ranges=array([1, 1, 1]), s_ranges=array([1, 1, 1]), ranges=array([1, 1, 1, 1, 1, 1]))\n"
     ]
    }
   ],
   "source": [
    "from explauto.utils.config import make_configuration\n",
    "\n",
    "conf = make_configuration(m_mins=[0, 0, 0],\n",
    "                          m_maxs=[1, 1, 1],\n",
    "                          s_mins=[0, 0, 0],\n",
    "                          s_maxs=[1, 1, 1])\n",
    "print conf"
   ]
  },
  {
   "cell_type": "markdown",
   "metadata": {},
   "source": [
    "### 'nearest_neighbor':"
   ]
  },
  {
   "cell_type": "code",
   "execution_count": 21,
   "metadata": {
    "collapsed": false
   },
   "outputs": [],
   "source": [
    "from explauto.sensorimotor_model.non_parametric import NonParametric\n",
    "\n",
    "params = {'fwd': 'NN', 'inv': 'NN', 'sigma_explo_ratio':0.1}\n",
    "sm_model = NonParametric(conf, **params)\n"
   ]
  },
  {
   "cell_type": "code",
   "execution_count": 22,
   "metadata": {
    "collapsed": true
   },
   "outputs": [],
   "source": [
    "from explauto.sensorimotor_model.sensorimotor_model import SensorimotorModel\n",
    "sm_model = SensorimotorModel.from_configuration(conf, \"nearest_neighbor\", \"default\")"
   ]
  },
  {
   "cell_type": "markdown",
   "metadata": {},
   "source": [
    "### 'WNN'\n",
    "\n",
    "[link](https://en.wikipedia.org/wiki/K-nearest_neighbors_algorithm)"
   ]
  },
  {
   "cell_type": "code",
   "execution_count": 23,
   "metadata": {
    "collapsed": true
   },
   "outputs": [],
   "source": [
    "params = {'fwd': 'WNN', 'inv': 'WNN', 'k':20, 'sigma':0.1}\n",
    "sm_model = NonParametric(conf, **params)\n",
    "\n",
    "sm_model = SensorimotorModel.from_configuration(environment.conf, \"WNN\", \"default\")"
   ]
  },
  {
   "cell_type": "markdown",
   "metadata": {},
   "source": [
    "### LWLR Forward model\n",
    "\n",
    "Locally Weigthed Regression (LWR)\n",
    "\n",
    "References :\n",
    "    1. https://en.wikipedia.org/wiki/Local_regression\n",
    "    2. C. G. Atkeson, A. W. Moore, S. Schaal, \"Locally Weighted Learning for Control\",\n",
    "         \"Springer Netherlands\", 75-117, vol 11, issue 1, 1997/02, 10.1023/A:1006511328852    \n",
    "\n",
    "See also a [video](http://www.cosmolearning.com/video-lectures/locally-weighted-regression-probabilistic-interpretation-logistic-regression/) lecture on LWR.\n",
    "\n",
    "Pseudo Code :\n"
   ]
  },
  {
   "cell_type": "raw",
   "metadata": {},
   "source": [
    "Input D problem dimension\n",
    "Input X matrix of inputs:  X[k][i] = i’th component of k’th input point.\n",
    "Input Y matrix of outputs: Y[k] = k’th output value.\n",
    "Input xq = query input.    Input kwidth.\n",
    "\n",
    "WXTWX = empty (D+1) x (D+1) matrix\n",
    "WXTWY = empty (D+1) x 1     matrix\n",
    "\n",
    "for ( k = 0 ; i <= N - 1 ; i = i + 1 )\n",
    "    # Compute weight of kth point\n",
    "    wk = weight_function( distance( xq , X[k] ) / kwidth )\n",
    "\n",
    "    /* Add to (WX) ^T (WX) matrix */\n",
    "    for ( i = 0 ; i <= D ; i = i + 1 )\n",
    "        for ( j = 0 ; j <= D ; j = j + 1 )\n",
    "            if ( i == 0 )\n",
    "                xki = 1 else xki = X[k] [i]\n",
    "            if ( j == 0 )\n",
    "                xkj = 1 else xkj = X[k] [j]\n",
    "            WXTWX [i] [j] = WXTWX [i] [j] + wk * wk * xki * xkj\n",
    "\n",
    "    /*  Add to (WX) ^T (WY) vector */\n",
    "    for ( i = 0 ; i <= D ; i = i + 1 )\n",
    "        if ( i == 0 )\n",
    "            xki = 1 else xki = X[k] [i]\n",
    "        WXTWY [i] = WXTWY [i] + wk * wk * xki * Y[k]\n",
    "\n",
    "/* Compute the local beta.  Call your favorite linear equation solver.\n",
    "   Recommend Cholesky Decomposition for speed.\n",
    "   Recommend Singular Val Decomp for Robustness. */\n",
    "\n",
    "Beta = (WXTWX)^{-1}(WXTWY)\n",
    "\n",
    "Output ypredict = beta[0] + beta[1]*xq[1] + beta[2]*xq[2] + … beta[D]*x q[D]"
   ]
  },
  {
   "cell_type": "markdown",
   "metadata": {},
   "source": [
    "### BFGS Inverse model\n",
    "\n",
    "See [wikipedia](https://en.wikipedia.org/wiki/Broyden%E2%80%93Fletcher%E2%80%93Goldfarb%E2%80%93Shanno_algorithm) for more details and a pseudo code."
   ]
  },
  {
   "cell_type": "markdown",
   "metadata": {},
   "source": [
    "### CMAES Inverse model\n",
    "\n",
    "[Hansen's website](https://www.lri.fr/~hansen/cmaesintro.html)\n",
    "\n",
    "[Tutorial](https://www.lri.fr/~hansen/cmatutorial.pdf) on CMA-ES"
   ]
  },
  {
   "cell_type": "markdown",
   "metadata": {},
   "source": [
    "### 'LWLR-BFGS'"
   ]
  },
  {
   "cell_type": "code",
   "execution_count": 24,
   "metadata": {
    "collapsed": true
   },
   "outputs": [],
   "source": [
    "params = {'fwd': 'LWLR', 'k':10, 'inv': 'L-BFGS-B', 'maxfun':50}\n",
    "sm_model = NonParametric(environment.conf, **params)\n",
    "\n",
    "sm_model = SensorimotorModel.from_configuration(conf, \"LWLR-BFGS\", \"default\")"
   ]
  },
  {
   "cell_type": "markdown",
   "metadata": {},
   "source": [
    "### 'ilo_gmm'\n",
    "\n",
    "[Cederborg2010](https://flowers.inria.fr/CederborgetalIROS10.pdf)"
   ]
  },
  {
   "cell_type": "code",
   "execution_count": 25,
   "metadata": {
    "collapsed": true
   },
   "outputs": [],
   "source": [
    "from explauto.sensorimotor_model.ilo_gmm import IloGmm\n",
    "\n",
    "sm_model = IloGmm(conf)"
   ]
  },
  {
   "cell_type": "markdown",
   "metadata": {},
   "source": [
    "## II. Interest models"
   ]
  },
  {
   "cell_type": "code",
   "execution_count": 3,
   "metadata": {
    "collapsed": false
   },
   "outputs": [
    {
     "data": {
      "text/plain": [
       "['discretized_progress', 'tree', 'random', 'gmm_progress_beta']"
      ]
     },
     "execution_count": 3,
     "metadata": {},
     "output_type": "execute_result"
    }
   ],
   "source": [
    "from explauto.interest_model import interest_models, available_configurations\n",
    "interest_models.keys()"
   ]
  },
  {
   "cell_type": "markdown",
   "metadata": {},
   "source": [
    "### 'random'"
   ]
  },
  {
   "cell_type": "markdown",
   "metadata": {},
   "source": [
    "### 'discretized_progress'"
   ]
  },
  {
   "cell_type": "markdown",
   "metadata": {},
   "source": [
    "### 'tree'"
   ]
  },
  {
   "cell_type": "markdown",
   "metadata": {},
   "source": [
    "### 'gmm_progress_beta'"
   ]
  },
  {
   "cell_type": "code",
   "execution_count": null,
   "metadata": {
    "collapsed": true
   },
   "outputs": [],
   "source": []
  }
 ],
 "metadata": {
  "kernelspec": {
   "display_name": "Python 2",
   "language": "python",
   "name": "python2"
  },
  "language_info": {
   "codemirror_mode": {
    "name": "ipython",
    "version": 2
   },
   "file_extension": ".py",
   "mimetype": "text/x-python",
   "name": "python",
   "nbconvert_exporter": "python",
   "pygments_lexer": "ipython2",
   "version": "2.7.6"
  }
 },
 "nbformat": 4,
 "nbformat_minor": 0
}
