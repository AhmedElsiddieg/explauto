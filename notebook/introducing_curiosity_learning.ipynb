{
 "metadata": {
  "name": "",
  "signature": "sha256:3d1a855db352e372efa2c595c0fc3fed12928f6474d5be6f7a9d4122de86acf9"
 },
 "nbformat": 3,
 "nbformat_minor": 0,
 "worksheets": [
  {
   "cells": [
    {
     "cell_type": "heading",
     "level": 1,
     "metadata": {},
     "source": [
      "Introducing curiosity-driven learning"
     ]
    },
    {
     "cell_type": "heading",
     "level": 2,
     "metadata": {},
     "source": [
      "Random exploration is not enough"
     ]
    },
    {
     "cell_type": "markdown",
     "metadata": {},
     "source": [
      "In the last tutorials, we compared the motor and goal babbling strategies on the simple arm environment. We saw that the problem with motor babbling is that it fails to effciently cover the sensory space in a reasonable amount of time. Due to the inherent redundancy of most robotic systems (e.g. many joint configurations lead to the same hand position on a multi-dimensional arm), random sampling in the motor space $M$ is therefore not appropriate if one want to learn an inverse model because the robot/agent will waiste a lot of time by trying *all* the motor configurations, whereas only a subset is generally useful to cover the reachable sensory space uniformly. In contrast, in the goal babbling strategy the agent randomly samples goals in the sensory space, then try to reach them using the current knowledge in its *sensorimotor model*. Although the agent will be poor at reaching these goals at the beginning, due to the poor quality of its sensorimotor model, it will on average cover the sensory space much more efficiently than in motor babbling, hence learning an inverse model more efficiently.\n",
      "\n",
      "Well, random goal babbling ourperforms random motor babbling in highly redundant sensorimotor systems. But there is still a couple of problems. To figure out what these problems can be, let's analyze random goal babbling in more details."
     ]
    },
    {
     "cell_type": "heading",
     "level": 2,
     "metadata": {},
     "source": [
      "Goal babbling with high sensory ranges"
     ]
    },
    {
     "cell_type": "markdown",
     "metadata": {},
     "source": [
      "As already done in the previous tutorial, we will study an experiment with a a high-dimensional arm environment, a random goal babbling interest model, and a nearest neighbor sensorimotor model. But this time we will use another 'simple_arm' configuration, called 'high_dim_high_s_range', which is the same as the 'high_dimensional' configuration used previously, except that the sensory space ranges are doubled:"
     ]
    },
    {
     "cell_type": "code",
     "collapsed": false,
     "input": [
      "from explauto.environment import environments\n",
      "env_cls, env_configs, _ = environments['simple_arm']\n",
      "print \"'high_dimensional' configuration sensory bounds:\"\n",
      "print 's_mins = {} ; s_maxs = {}'.format(env_configs['high_dimensional']['s_mins'], env_configs['high_dimensional']['s_maxs'])\n",
      "print \"'high_dim_high_s_range' configuration sensory bounds:\"\n",
      "print 's_mins = {} ; s_maxs = {}'.format(env_configs['high_dim_high_s_range']['s_mins'], env_configs['high_dim_high_s_range']['s_maxs'])"
     ],
     "language": "python",
     "metadata": {},
     "outputs": [
      {
       "output_type": "stream",
       "stream": "stdout",
       "text": [
        "'high_dimensional' configuration sensory bounds:\n",
        "s_mins = [-1. -1.] ; s_maxs = [ 1.  1.]\n",
        "'high_dim_high_s_range' configuration sensory bounds:\n",
        "s_mins = [-2. -2.] ; s_maxs = [ 2.  2.]\n"
       ]
      }
     ],
     "prompt_number": 2
    },
    {
     "cell_type": "markdown",
     "metadata": {},
     "source": [
      "We see that, whereas the 'high_dimensional' configuration specify sensory bounds are at the edges of the sensory space, the 'high_dim_high_s_range' has larger ones (between -2 and 2 on both hand coordinates).\n",
      "\n",
      "We will use this 'high_dim_high_s_range' configuration to reflect the fact that in the framework of Developmental Robotics, there is no reason to provide the reachable sensory space ranges directly to the agent (to make a child analogy, an infant probably does not now at birth that he is unable to reach hand positions at more than a few dozen of centimeters from its shoulder.) Instead the agent should discover these bounds by its own interaction with the environment.\n",
      "\n",
      "Let's see how random goal babbling performs with high sensory ranges. As usual, create the experiment:"
     ]
    },
    {
     "cell_type": "code",
     "collapsed": false,
     "input": [
      "from explauto.experiment import Experiment, make_settings\n",
      "\n",
      "s = make_settings(environment='simple_arm', environment_config = 'high_dim_high_s_range',\n",
      "                  babbling_mode='goal', \n",
      "                  interest_model='random',\n",
      "                  sensorimotor_model='nearest_neighbor')\n",
      "\n",
      "expe = Experiment.from_settings(s)"
     ],
     "language": "python",
     "metadata": {},
     "outputs": [],
     "prompt_number": 3
    },
    {
     "cell_type": "markdown",
     "metadata": {},
     "source": [
      "Set the evaluation time steps:"
     ]
    },
    {
     "cell_type": "code",
     "collapsed": false,
     "input": [
      "expe.evaluate_at([100, 200, 400, 1000], s.default_testcases)"
     ],
     "language": "python",
     "metadata": {},
     "outputs": [],
     "prompt_number": 4
    },
    {
     "cell_type": "markdown",
     "metadata": {},
     "source": [
      "and run the experiment:"
     ]
    },
    {
     "cell_type": "code",
     "collapsed": false,
     "input": [
      "expe.run()"
     ],
     "language": "python",
     "metadata": {},
     "outputs": [
      {
       "output_type": "stream",
       "stream": "stderr",
       "text": [
        "WARNING:explauto.agent.agent:Sensorimotor model not bootstrapped yet\n"
       ]
      }
     ],
     "prompt_number": 5
    },
    {
     "cell_type": "markdown",
     "metadata": {},
     "source": [
      "Now we plot the randomly chosen goals and reached hand positions (in red and blue respectively):"
     ]
    },
    {
     "cell_type": "code",
     "collapsed": false,
     "input": [
      "%pylab inline\n",
      "ax = axes()\n",
      "title(('Random goal babbling'))\n",
      "expe.log.scatter_plot(ax, (('sensori', [0, 1]),))\n",
      "expe.log.scatter_plot(ax, (('choice', [0, 1]),), marker='.', color='red')\n",
      "legend(['reached hand positions', 'chosen goals'])"
     ],
     "language": "python",
     "metadata": {},
     "outputs": [
      {
       "output_type": "stream",
       "stream": "stdout",
       "text": [
        "Populating the interactive namespace from numpy and matplotlib\n"
       ]
      },
      {
       "metadata": {},
       "output_type": "pyout",
       "prompt_number": 5,
       "text": [
        "<matplotlib.legend.Legend at 0x7fef0b3fdc90>"
       ]
      },
      {
       "metadata": {},
       "output_type": "display_data",
       "png": "[encoded data removed]",
       "text": [
        "<matplotlib.figure.Figure at 0x7fef0b4e16d0>"
       ]
      }
     ],
     "prompt_number": 5
    },
    {
     "cell_type": "markdown",
     "metadata": {},
     "source": [
      "We observe that:\n",
      "* The goals, which are sampled uniformly in the sensory space, can be very far from the actually reachable hand positions. This is due to the high sensory space ranges we use here (between -2 and 2 on each coordinate). A huge part of the chosen goals are therefore outside of the reachable space. \n",
      "* In consequence, the agent mainly reaches hand positions at the boundaries of the reachable space, because it rarely set goals inside the reachable aera."
     ]
    },
    {
     "cell_type": "markdown",
     "metadata": {},
     "source": [
      "To solve this problem, we introduce curiosity-driven exploration based on the maximization of the learning progress as another possible *interest model*."
     ]
    },
    {
     "cell_type": "heading",
     "level": 2,
     "metadata": {},
     "source": [
      "Addition of Curiosity:\n",
      "The *discretized progress* and *R-IAC* interest models"
     ]
    },
    {
     "cell_type": "markdown",
     "metadata": {},
     "source": [
      "Look at the available interest models:"
     ]
    },
    {
     "cell_type": "code",
     "collapsed": false,
     "input": [
      "from explauto.interest_model import interest_models\n",
      "print 'Available interest models: {}'.format(interest_models.keys())"
     ],
     "language": "python",
     "metadata": {},
     "outputs": [
      {
       "output_type": "stream",
       "stream": "stdout",
       "text": [
        "Available interest models: ['discretized_progress', 'random', 'gmm_progress_beta', 'riac']\n"
       ]
      }
     ],
     "prompt_number": 1
    },
    {
     "cell_type": "markdown",
     "metadata": {},
     "source": [
      "Until now we always used 'random', sampling uniformly in the choice space ranges (either the motor or the sensory space according to the babbling mode). We are using goal babbling in this tutoral, but this interest model also work with motor babbling.\n",
      "\n",
      "Another interest model available in Explauto is called *discretized progress*. This model divides the choice space into a grid and maintain an empirical measure of the learning progress in each cell. To do so, each cell keeps an history of the recent learning errors it observed. Given a choice $x\\in X$ (i.e. a sample point in the choice space $X$, which corresponds to the sensory space $S$ in case of goal babbling) and an inference $y\\in Y$ (the forward or inverse prediction performed by the sensorimotor model for the choice $x$, in case of goal babbling $Y=M$ and the sensorimotor model performs an inverse prediction), the associated learning error corresponds to the distance between $xy$ (the concatenation of $x$ and $y$, reordered as a vector in $M\\times S$) and $ms$ (where $m$ is the executed motor command and $s$ the observed sensory consequence). (TODO: refer to the introductive section which will explain this in more details).\n",
      "\n",
      "The learning progress is then defined as the opposite the covariance between time (relative to a particular cell) and learning error (i.e. the agent is progressing in that cell if the covariance between time and error is negative). The *discretized progress* interest model then sample a cell according to the learning progress measure (favoring cells displaying high progresses) and finally sample a random point in that chosen cell.\n",
      "\n",
      "\n",
      "TODO ADD SAGG-RIAC\n",
      "\n",
      "So let's compare thoss new interest models with the random one we used before. First we create an ExperimentPool to compare random and progress based exploration in goal babbling, using the same environment as above:"
     ]
    },
    {
     "cell_type": "code",
     "collapsed": false,
     "input": [
      "from explauto.experiment import ExperimentPool\n",
      "xps = ExperimentPool.from_settings_product(environments=[('simple_arm', 'high_dim_high_s_range')],\n",
      "                                           babblings=['goal'],\n",
      "                                           interest_models=[('random', 'default'), ('discretized_progress', 'default'), ('riac', 'default')],\n",
      "                                           sensorimotor_models=[('nearest_neighbor', 'default')],\n",
      "                                           evaluate_at=[200, 300, 500, 1000, 2000, 3000, 5000],\n",
      "                                           same_testcases=True)"
     ],
     "language": "python",
     "metadata": {},
     "outputs": [],
     "prompt_number": 2
    },
    {
     "cell_type": "markdown",
     "metadata": {},
     "source": [
      "Run it:"
     ]
    },
    {
     "cell_type": "code",
     "collapsed": false,
     "input": [
      "logs = xps.run()"
     ],
     "language": "python",
     "metadata": {},
     "outputs": [
      {
       "output_type": "stream",
       "stream": "stderr",
       "text": [
        "WARNING:explauto.agent.agent:Sensorimotor model not bootstrapped yet\n",
        "WARNING:explauto.agent.agent:Sensorimotor model not bootstrapped yet\n",
        "WARNING:explauto.agent.agent:Sensorimotor model not bootstrapped yet\n"
       ]
      }
     ],
     "prompt_number": 3
    },
    {
     "cell_type": "markdown",
     "metadata": {},
     "source": [
      "And compare the learning curves:"
     ]
    },
    {
     "cell_type": "code",
     "collapsed": false,
     "input": [
      "%pylab inline\n",
      "\n",
      "ax = axes()\n",
      "\n",
      "for log in xps.logs:\n",
      "    log.plot_learning_curve(ax)\n",
      "    \n",
      "legend([s.interest_model for s in xps.settings])"
     ],
     "language": "python",
     "metadata": {},
     "outputs": [
      {
       "output_type": "stream",
       "stream": "stdout",
       "text": [
        "Populating the interactive namespace from numpy and matplotlib\n"
       ]
      },
      {
       "metadata": {},
       "output_type": "pyout",
       "prompt_number": 4,
       "text": [
        "<matplotlib.legend.Legend at 0x7f94ccfee490>"
       ]
      },
      {
       "metadata": {},
       "output_type": "display_data",
       "png": "[encoded data removed]",
       "text": [
        "<matplotlib.figure.Figure at 0x7f94ce89a290>"
       ]
      }
     ],
     "prompt_number": 4
    },
    {
     "cell_type": "markdown",
     "metadata": {},
     "source": [
      "To better understand the results, we can display an animation progressively showing the reached hand positions at regular time steps of the simulation, by running the below.\n",
      "\n",
      "Note: if you're only visualizing this notebook on nbviewer.ipython.org, you won't be able to see the animation (you will only see the end of the simulation below). To see it, you need to [install Explauto](http://flowersteam.github.io/explauto/installation.html) as well as a recent version of [Ipython Notebook](http://ipython.org/notebook.html)."
     ]
    },
    {
     "cell_type": "code",
     "collapsed": false,
     "input": [
      "# animations does't work with inline plotting, hence:\n",
      "%pylab\n",
      "#ion()\n",
      "\n",
      "mng = get_current_fig_manager()\n",
      "mng.resize(*mng.window.maxsize())\n",
      "last_t = 0\n",
      "for t in linspace(100, xps.logs[0].eval_at[-1], 5):\n",
      "    t = int(t)\n",
      "    for i, (config, log) in enumerate(zip(xps.settings, xps.logs)):\n",
      "        ax = subplot(1, 3, i+1)\n",
      "        log.scatter_plot(ax, (('choice', [0, 1]),), t=range(t), marker='.', color='red')\n",
      "        log.scatter_plot(ax, (('sensori', [0, 1]),), t=range(t), color='blue')\n",
      "        log.scatter_plot(ax, (('testcases', [0, 1]),), color='green')\n",
      "        title(config.interest_model + ' ' + config.babbling_mode)\n",
      "    draw()\n",
      "    last_t = t"
     ],
     "language": "python",
     "metadata": {},
     "outputs": [
      {
       "output_type": "stream",
       "stream": "stdout",
       "text": [
        "Using matplotlib backend: TkAgg\n",
        "Populating the interactive namespace from numpy and matplotlib\n"
       ]
      },
      {
       "output_type": "stream",
       "stream": "stderr",
       "text": [
        "WARNING: pylab import has clobbered these variables: ['log']\n",
        "`%pylab --no-import-all` prevents importing * from pylab and numpy\n"
       ]
      }
     ],
     "prompt_number": 5
    },
    {
     "cell_type": "markdown",
     "metadata": {},
     "source": [
      "We observe that the strategy maximizing the learning progress (right panel) progressively covers the sensory space much uniformely that the random goal strategy. Showing the points chosen by the interest models can help to understand what happened. To do so, just uncomment the line plotting the chosen points on the code above and re-execute it."
     ]
    },
    {
     "cell_type": "markdown",
     "metadata": {},
     "source": [
      "We observe that, whereas the *random* strategy sample points in the entire sensory space, the *discretized progress* one behaves smarter. By choosing goals maximizing the learning progress, this strategy is able to focus only on the reachable aera, and favor regions which were not explored before. This exploration is therefore an *active* strategy, where goals are chosen autonomously and adaptively in order to improve the quality of the sensorimotor model."
     ]
    },
    {
     "cell_type": "markdown",
     "metadata": {},
     "source": [
      "Explauto also allows plotting heat maps by using the density_plot method. The fancy animation below shows reached hand positions by white dots as well as chosen goals on a slicing time window using a heat map (here again, if you are on ipython.notebook.com you should only see the final image of the animation)."
     ]
    },
    {
     "cell_type": "code",
     "collapsed": false,
     "input": [
      "%pylab\n",
      "clf()\n",
      "last_t = 0\n",
      "mng = get_current_fig_manager()\n",
      "mng.resize(*mng.window.maxsize())\n",
      "for t in linspace(100, xps.logs[0].eval_at[-1], 20):\n",
      "    t = int(t)\n",
      "    for i, (config, log) in enumerate(zip(xps.settings, xps.logs)):\n",
      "        ax = subplot(1, 3, i+1)\n",
      "        log.scatter_plot(ax, (('sensori', [0, 1]),), range(0, t), marker='.', markersize=0.3, color = 'white')\n",
      "        log.density_plot(ax, (('choice', [0, 1]),), range(last_t, t), width_x=1, width_y=1)\n",
      "        title(config.interest_model + ' ' + config.babbling_mode)\n",
      "    draw()\n",
      "    last_t = t"
     ],
     "language": "python",
     "metadata": {},
     "outputs": [
      {
       "output_type": "stream",
       "stream": "stdout",
       "text": [
        "Using matplotlib backend: TkAgg\n",
        "Populating the interactive namespace from numpy and matplotlib\n"
       ]
      },
      {
       "output_type": "stream",
       "stream": "stderr",
       "text": [
        "WARNING: pylab import has clobbered these variables: ['log']\n",
        "`%pylab --no-import-all` prevents importing * from pylab and numpy\n"
       ]
      }
     ],
     "prompt_number": 6
    },
    {
     "cell_type": "markdown",
     "metadata": {},
     "source": [
      "TODO: PLOT RIAC TREE"
     ]
    },
    {
     "cell_type": "code",
     "collapsed": false,
     "input": [],
     "language": "python",
     "metadata": {},
     "outputs": []
    }
   ],
   "metadata": {}
  }
 ]
}