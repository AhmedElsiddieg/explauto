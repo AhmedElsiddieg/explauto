{
 "metadata": {
  "name": "",
  "signature": "sha256:44d9466ec98878dd0bc415699292360ba4153ca861f161a1c436fd7ecc0cc6e5"
 },
 "nbformat": 3,
 "nbformat_minor": 0,
 "worksheets": [
  {
   "cells": [
    {
     "cell_type": "code",
     "collapsed": false,
     "input": [
      "from explauto.environment.pypot import PypotEnvironment\n",
      "from explauto.environment.pypot.pypot_robot import VrepRobot"
     ],
     "language": "python",
     "metadata": {},
     "outputs": [],
     "prompt_number": 1
    },
    {
     "cell_type": "code",
     "collapsed": false,
     "input": [
      "n_dmps = 25\n",
      "n_bfs = 2\n",
      "\n",
      "poppy_stand = {\n",
      "    'robot_cls': VrepRobot,\n",
      "    'robot_conf': {'config_path': '../../poppy-software/poppytools/configuration/poppy_config.json',\n",
      "                   'scene_path': '../../pypot/samples/notebooks/poppy-lying.ttt',\n",
      "                   'host':'127.0.0.1',\n",
      "                   'port':19997,\n",
      "                   'tracked_objects':['left_hand_tracker']},\n",
      "  'motors': 'motors',\n",
      "  'move_duration': 0.005,\n",
      "  'pause_one_step': 0.0,\n",
      "  'tracked_obj': 'left_hand_tracker',\n",
      "  'm_mins': [-360.] * n_dmps,\n",
      "  'm_maxs': [360.] * n_dmps,\n",
      "  's_mins': [0.],\n",
      "  's_maxs': [1.]\n",
      "}\n",
      "\n"
     ],
     "language": "python",
     "metadata": {},
     "outputs": [],
     "prompt_number": 2
    },
    {
     "cell_type": "code",
     "collapsed": false,
     "input": [
      "import time\n",
      "\n",
      "t_reset = 1.0\n",
      "\n",
      "class PoppyEnv(PypotEnvironment):\n",
      "    # def __init__\n",
      "    def get_vrep_obj_position(self, obj):\n",
      "        io = self.robot._controllers[0].io\n",
      "        return io.get_object_position(obj)\n",
      "    \n",
      "    def compute_sensori_effect(self, m_env):\n",
      "        \"\"\" Make the robot moves and retrieve the tracked object position. \"\"\"\n",
      "        # cmd = numpy.rad2deg(m_env)\n",
      "        #for m in m_env:\n",
      "        \n",
      "        \n",
      "        pos = dict(zip(self.motors, m_env))\n",
      "        self.robot.goto_position(pos, self.move_duration, wait=True)\n",
      "        #time.sleep(self.move_duration)\n",
      "\n",
      "        return self.get_vrep_obj_position('head_visual')[0]\n",
      "    \n",
      "    def reset(self):\n",
      "        self.robot.reset_simulation()\n",
      "        time.sleep(t_reset) "
     ],
     "language": "python",
     "metadata": {},
     "outputs": [],
     "prompt_number": 3
    },
    {
     "cell_type": "code",
     "collapsed": false,
     "input": [
      "from pypot.vrep import close_all_connections\n",
      "close_all_connections()"
     ],
     "language": "python",
     "metadata": {},
     "outputs": [],
     "prompt_number": 4
    },
    {
     "cell_type": "code",
     "collapsed": false,
     "input": [
      "env = PoppyEnv(**poppy_stand)"
     ],
     "language": "python",
     "metadata": {},
     "outputs": [],
     "prompt_number": 4
    },
    {
     "cell_type": "code",
     "collapsed": false,
     "input": [
      "env.reset()"
     ],
     "language": "python",
     "metadata": {},
     "outputs": [],
     "prompt_number": 30
    },
    {
     "cell_type": "code",
     "collapsed": false,
     "input": [
      "from explauto.models.dmp import DmpPrimitive\n",
      "from explauto.agent import Agent\n",
      "from numpy import zeros, array, ones, mean\n",
      "\n",
      "class DmpAgent(Agent):\n",
      "    def __init__(self, used=None, default=None, *args):\n",
      "        Agent.__init__(self, *args)\n",
      "        self.current_m = zeros(self.conf.m_ndims)\n",
      "        self.dmp = DmpPrimitive(n_dmps, n_bfs, used, default, type='rythmic')\n",
      "        #self.dmp.dmp.timesteps *= 2\n",
      "        #self.dmp.dmp.cs.run_time *= 2\n",
      "        \n",
      "    # @classmethod\n",
      "    # def from_classes(self, used=None, default=None, *args):\n",
      "    #     Agent.from_classes(self, *args)\n",
      "    #     self.current_m = zeros(self.conf.m_ndims)\n",
      "    #     self.dmp = DMPPrimitive(self.conf.m_ndims, 1, used, default)        \n",
      "    def motor_primitive(self, m):\n",
      "        y = self.dmp.trajectory(m, n_times=2)\n",
      "        self.current_m = y[-1, :]\n",
      "        return y #y[:int(len(y) * ((n_bfs*2. - 1.)/(n_bfs*2.))), :] # [::100, :]\n",
      "    def sensory_primitive(self, s):\n",
      "         return s[[-1]] # array([mean(s)]) #s[[-1]]"
     ],
     "language": "python",
     "metadata": {},
     "outputs": [],
     "prompt_number": 5
    },
    {
     "cell_type": "code",
     "collapsed": false,
     "input": [
      "%pylab inline\n",
      "from explauto.utils import rand_bounds\n",
      "m = rand_bounds(ag.conf.m_bounds)[0]\n",
      "mov = ag.motor_primitive(m) #  hstack((10000*randn(100))))[:, :]\n",
      "# mov = ag.motor_primitive(m_rand)[:, :]\n",
      "plot(mov[:, 0])\n",
      "print m[[0, 25]]"
     ],
     "language": "python",
     "metadata": {},
     "outputs": [
      {
       "output_type": "stream",
       "stream": "stdout",
       "text": [
        "Populating the interactive namespace from numpy and matplotlib\n",
        "[ 280.00190715  173.52489356]"
       ]
      },
      {
       "output_type": "stream",
       "stream": "stdout",
       "text": [
        "\n"
       ]
      },
      {
       "metadata": {},
       "output_type": "display_data",
       "png": "[encoded data removed]",
       "text": [
        "<matplotlib.figure.Figure at 0x7f5f66f31090>"
       ]
      }
     ],
     "prompt_number": 55
    },
    {
     "cell_type": "code",
     "collapsed": false,
     "input": [
      "mov.shape"
     ],
     "language": "python",
     "metadata": {},
     "outputs": [
      {
       "metadata": {},
       "output_type": "pyout",
       "prompt_number": 39,
       "text": [
        "(5652, 25)"
       ]
      }
     ],
     "prompt_number": 39
    },
    {
     "cell_type": "code",
     "collapsed": false,
     "input": [
      "for m in mov:\n",
      "    pos = dict(zip(env.motors, m))\n",
      "    env.robot.goto_position(pos, env.move_duration, wait=True)"
     ],
     "language": "python",
     "metadata": {},
     "outputs": [],
     "prompt_number": 11
    },
    {
     "cell_type": "code",
     "collapsed": false,
     "input": [
      "env.reset()"
     ],
     "language": "python",
     "metadata": {},
     "outputs": [],
     "prompt_number": 13
    },
    {
     "cell_type": "code",
     "collapsed": true,
     "input": [
      "from numpy import zeros, array\n",
      "default = zeros(n_dmps*(n_bfs+2))\n",
      "\n",
      "import json\n",
      "with open('../../tutorials/poppy_config.json', 'r') as f: poppy_config = json.load(f)\n",
      "angle_limits = []\n",
      "\n",
      "for i, m in enumerate(env.robot.motors):\n",
      "    default[i] = m.present_position\n",
      "    default[i + (n_dmps*(n_bfs+1))] = m.present_position\n",
      "    angle_limits.append(poppy_config['motors'][m.name]['angle_limit'])\n",
      "default = array(default)\n",
      "angle_limits = array(angle_limits)\n",
      "motor_ranges = angle_limits[:, 1] - angle_limits[:, 0]\n",
      "\n",
      "poppy_ag = {\n",
      "#  'm_mins': [-800] * (n_dmps * n_bfs) + list(default[:n_dmps] - 40.),\n",
      "#  'm_maxs': [800] * (n_dmps * n_bfs) + list(default[:n_dmps] + 40.),\n",
      "  'm_mins': list([-6000] * (n_dmps * n_bfs)) + list(angle_limits[:,0]), # + [-40.] * n_dmps, # + list(angle_limits[:,0]),\n",
      "  'm_maxs': list([6000] * (n_dmps * n_bfs)) + list(angle_limits[:,1]), # + [40.] * n_dmps, # + list(angle_limits[:,1]),\n",
      "  's_mins': [0.],\n",
      "  's_maxs': [0.7]\n",
      "}\n",
      "\n",
      "from explauto.utils.config import make_configuration\n",
      "poppy_ag_conf = make_configuration(**poppy_ag)"
     ],
     "language": "python",
     "metadata": {},
     "outputs": [],
     "prompt_number": 20
    },
    {
     "cell_type": "code",
     "collapsed": false,
     "input": [
      "from explauto import SensorimotorModel, InterestModel\n",
      "from explauto.sensorimotor_model.nearest_neighbor import NearestNeighbor as Model\n",
      "#from explauto.sensorimotor_model.imle import ImleModel as Model\n",
      "from explauto.sensorimotor_model.imle import make_priors\n",
      "# sm = SensorimotorModel.from_configuration(poppy_ag_conf, 'ilo_gmm')\n",
      "sm = Model(poppy_ag_conf, sigma_ratio = 1./18.)\n",
      "im = InterestModel.from_configuration(poppy_ag_conf, poppy_ag_conf.s_dims, 'discretized_progress', 'low_card')\n",
      "ag = DmpAgent(None, None, poppy_ag_conf, sm, im)"
     ],
     "language": "python",
     "metadata": {},
     "outputs": [],
     "prompt_number": 21
    },
    {
     "cell_type": "code",
     "collapsed": false,
     "input": [
      "ag.dmp.used = array([False]*n_dmps + [True]*(n_dmps*n_bfs) + [True]*n_dmps)\n",
      "\n",
      "\n",
      "ag.current_m = default[:n_dmps]\n",
      "ag.dmp.default = default\n",
      "ag.dmp.motor = default"
     ],
     "language": "python",
     "metadata": {},
     "outputs": [],
     "prompt_number": 22
    },
    {
     "cell_type": "code",
     "collapsed": false,
     "input": [
      "#ag.sensorimotor_model.mode = 'exploit'"
     ],
     "language": "python",
     "metadata": {},
     "outputs": [],
     "prompt_number": 14
    },
    {
     "cell_type": "code",
     "collapsed": false,
     "input": [
      "bootstap_range_div = 28.\n",
      "conf = make_configuration(ag.conf.m_mins/bootstap_range_div, ag.conf.m_maxs / bootstap_range_div, ag.conf.s_mins/bootstap_range_div, ag.conf.s_maxs/bootstap_range_div) \n",
      "#t_reset = 0.8\n",
      "from numpy.random import randn\n",
      "\n",
      "from explauto.utils import rand_bounds\n",
      "m_rand = rand_bounds(conf.m_bounds, n=4)\n",
      "for m in m_rand:\n",
      "    m[-n_dmps:] = default[:n_dmps] + motor_ranges * randn(n_dmps) / bootstap_range_div\n",
      "    mov = ag.motor_primitive(m)\n",
      "    s = env.update(mov)\n",
      "    ag.sensorimotor_model.update(m, [s[-1]])\n",
      "  "
     ],
     "language": "python",
     "metadata": {},
     "outputs": [],
     "prompt_number": 23
    },
    {
     "cell_type": "code",
     "collapsed": false,
     "input": [
      "ag.sensorimotor_model.imle.param"
     ],
     "language": "python",
     "metadata": {},
     "outputs": [
      {
       "metadata": {},
       "output_type": "pyout",
       "prompt_number": 26,
       "text": [
        "{'p0': 0.1, 'nSolMin': 1, 'nOutliers': 1, 'wPsi': 100000000.0, 'wLambda': 100000000.0, 'multiValuedSignificance': 0.99, 'wNu': 100000000.0, 'nSolMax': 16, 'accelerated': False, 'wsigma': 100000000.0, 'wpsi': 2.0, 'iterMax': 2, 'alpha': 0.999, 'wSigma': 100000000.0, 'sigma0': 0.03333333333333333}"
       ]
      }
     ],
     "prompt_number": 26
    },
    {
     "cell_type": "code",
     "collapsed": false,
     "input": [],
     "language": "python",
     "metadata": {},
     "outputs": [],
     "prompt_number": 11
    },
    {
     "cell_type": "code",
     "collapsed": false,
     "input": [
      "w = abs(ag.interest_model.discrete_progress.progress())\n",
      "print w\n",
      "temp = 10\n",
      "exp(temp * w - temp * w.max())"
     ],
     "language": "python",
     "metadata": {},
     "outputs": [
      {
       "output_type": "stream",
       "stream": "stdout",
       "text": [
        "[ 0.14678956  0.          0.          0.          0.          2.3185323\n",
        "  0.05274933  0.          0.0218874   0.08257237]\n"
       ]
      },
      {
       "metadata": {},
       "output_type": "pyout",
       "prompt_number": 37,
       "text": [
        "array([  3.70033560e-10,   8.52593762e-11,   8.52593762e-11,\n",
        "         8.52593762e-11,   8.52593762e-11,   1.00000000e+00,\n",
        "         1.44487263e-10,   8.52593762e-11,   1.06120164e-10,\n",
        "         1.94692580e-10])"
       ]
      }
     ],
     "prompt_number": 37
    },
    {
     "cell_type": "code",
     "collapsed": false,
     "input": [
      "from explauto import Experiment\n",
      "expe = Experiment(env, ag)"
     ],
     "language": "python",
     "metadata": {},
     "outputs": [],
     "prompt_number": 24
    },
    {
     "cell_type": "code",
     "collapsed": false,
     "input": [
      "expe.run(1)"
     ],
     "language": "python",
     "metadata": {},
     "outputs": [],
     "prompt_number": 43
    },
    {
     "cell_type": "code",
     "collapsed": false,
     "input": [
      "expe.run(10000, bg=True)"
     ],
     "language": "python",
     "metadata": {},
     "outputs": [],
     "prompt_number": 117
    },
    {
     "cell_type": "code",
     "collapsed": false,
     "input": [
      "expe.stop()"
     ],
     "language": "python",
     "metadata": {},
     "outputs": [],
     "prompt_number": 161
    },
    {
     "cell_type": "code",
     "collapsed": false,
     "input": [
      "expe.ag.sensorimotor_model.imle.to_gmm().means_"
     ],
     "language": "python",
     "metadata": {},
     "outputs": [
      {
       "metadata": {},
       "output_type": "pyout",
       "prompt_number": 28,
       "text": [
        "array([[ nan,  nan,  nan,  nan,  nan,  nan,  nan,  nan,  nan,  nan,  nan,\n",
        "         nan,  nan,  nan,  nan,  nan,  nan,  nan,  nan,  nan,  nan,  nan,\n",
        "         nan,  nan,  nan,  nan,  nan,  nan,  nan,  nan,  nan,  nan,  nan,\n",
        "         nan,  nan,  nan,  nan,  nan,  nan,  nan,  nan,  nan,  nan,  nan,\n",
        "         nan,  nan,  nan,  nan,  nan,  nan,  nan,  nan,  nan,  nan,  nan,\n",
        "         nan,  nan,  nan,  nan,  nan,  nan,  nan,  nan,  nan,  nan,  nan,\n",
        "         nan,  nan,  nan,  nan,  nan,  nan,  nan,  nan,  nan,  nan,  nan,\n",
        "         nan,  nan,  nan,  nan,  nan,  nan,  nan,  nan,  nan,  nan,  nan,\n",
        "         nan,  nan,  nan,  nan,  nan,  nan,  nan,  nan,  nan,  nan,  nan,\n",
        "         nan,  nan,  nan,  nan,  nan,  nan,  nan,  nan,  nan,  nan,  nan,\n",
        "         nan,  nan,  nan,  nan,  nan,  nan,  nan,  nan,  nan,  nan,  nan,\n",
        "         nan,  nan,  nan,  nan,  nan]])"
       ]
      }
     ],
     "prompt_number": 28
    },
    {
     "cell_type": "code",
     "collapsed": false,
     "input": [
      "del im, sm, ag, expe"
     ],
     "language": "python",
     "metadata": {},
     "outputs": [],
     "prompt_number": 19
    },
    {
     "cell_type": "code",
     "collapsed": false,
     "input": [
      "%pylab inline\n",
      "plot(expe.log.logs['perception'][:], '.b')\n",
      "plot(expe.log.logs['choice'][:], '+g')"
     ],
     "language": "python",
     "metadata": {},
     "outputs": [
      {
       "output_type": "stream",
       "stream": "stdout",
       "text": [
        "Populating the interactive namespace from numpy and matplotlib\n"
       ]
      },
      {
       "metadata": {},
       "output_type": "pyout",
       "prompt_number": 160,
       "text": [
        "[<matplotlib.lines.Line2D at 0x7fdd1f702190>]"
       ]
      },
      {
       "metadata": {},
       "output_type": "display_data",
       "png": "[encoded data removed]",
       "text": [
        "<matplotlib.figure.Figure at 0x7fdd2d8fb2d0>"
       ]
      }
     ],
     "prompt_number": 160
    },
    {
     "cell_type": "code",
     "collapsed": false,
     "input": [
      "from explauto.sensorimotor_model.imle import ImleModel\n",
      "from explauto.sensorimotor_model.imle import make_priors\n",
      "imle = ImleModel(ag.conf, **make_priors(0.))"
     ],
     "language": "python",
     "metadata": {},
     "outputs": [],
     "prompt_number": 151
    },
    {
     "cell_type": "code",
     "collapsed": false,
     "input": [
      "for m, s in zip(expe.log.logs['inference'], expe.log.logs['perception'])[0:100]:\n",
      "    imle.update(m, array([s]))"
     ],
     "language": "python",
     "metadata": {},
     "outputs": [],
     "prompt_number": 152
    },
    {
     "cell_type": "code",
     "collapsed": false,
     "input": [
      "imle.imle.number_of_experts"
     ],
     "language": "python",
     "metadata": {},
     "outputs": [
      {
       "metadata": {},
       "output_type": "pyout",
       "prompt_number": 153,
       "text": [
        "1"
       ]
      }
     ],
     "prompt_number": 153
    },
    {
     "cell_type": "code",
     "collapsed": false,
     "input": [
      "m = sm.inverse_prediction([0.1])"
     ],
     "language": "python",
     "metadata": {},
     "outputs": [],
     "prompt_number": 111
    },
    {
     "cell_type": "code",
     "collapsed": false,
     "input": [
      "imle.mode = 'exploit'\n",
      "m = imle.inverse_prediction([0.5])"
     ],
     "language": "python",
     "metadata": {},
     "outputs": [],
     "prompt_number": 144
    },
    {
     "cell_type": "code",
     "collapsed": false,
     "input": [
      "s = env.update(ag.motor_primitive(m))"
     ],
     "language": "python",
     "metadata": {},
     "outputs": [],
     "prompt_number": 115
    },
    {
     "cell_type": "code",
     "collapsed": false,
     "input": [
      "s[-1]"
     ],
     "language": "python",
     "metadata": {},
     "outputs": [
      {
       "metadata": {},
       "output_type": "pyout",
       "prompt_number": 116,
       "text": [
        "0.41047036647796631"
       ]
      }
     ],
     "prompt_number": 116
    },
    {
     "cell_type": "code",
     "collapsed": false,
     "input": [
      "gmm = imle.imle.to_gmm()\n",
      "gmm.covars_"
     ],
     "language": "python",
     "metadata": {},
     "outputs": [
      {
       "metadata": {},
       "output_type": "pyout",
       "prompt_number": 53,
       "text": [
        "array([[[  2.76204907e-02,  -4.20188166e-05,   1.46784511e-04, ...,\n",
        "          -8.35660174e-05,  -2.56262500e-04,   7.98125626e-06],\n",
        "        [ -4.20188166e-05,   2.91425264e-02,  -4.54983033e-05, ...,\n",
        "           8.83680806e-06,   8.74641083e-04,  -3.12363120e-06],\n",
        "        [  1.46784511e-04,  -4.54983033e-05,   2.85245194e-02, ...,\n",
        "          -3.25596856e-04,  -4.69396394e-04,   2.79128396e-05],\n",
        "        ..., \n",
        "        [ -8.35660174e-05,   8.83680806e-06,  -3.25596856e-04, ...,\n",
        "           2.82432222e-02,   4.52552593e-04,  -1.91112635e-05],\n",
        "        [ -2.56262500e-04,   8.74641083e-04,  -4.69396394e-04, ...,\n",
        "           4.52552593e-04,   2.84951783e-02,  -2.49650963e-05],\n",
        "        [  7.98125626e-06,  -3.12363120e-06,   2.79128396e-05, ...,\n",
        "          -1.91112635e-05,  -2.49650963e-05,   1.29514442e-03]],\n",
        "\n",
        "       [[  2.82089821e-02,   9.99446544e-06,   1.26352431e-05, ...,\n",
        "           2.74850221e-05,  -1.71971695e-04,  -1.47667304e-06],\n",
        "        [  9.99446544e-06,   2.85700437e-02,  -1.03633506e-04, ...,\n",
        "          -2.50514266e-05,  -3.76387202e-04,   7.21961453e-06],\n",
        "        [  1.26352431e-05,  -1.03633506e-04,   2.82508598e-02, ...,\n",
        "           3.42675568e-05,   2.00494259e-04,  -9.12763002e-07],\n",
        "        ..., \n",
        "        [  2.74850221e-05,  -2.50514266e-05,   3.42675568e-05, ...,\n",
        "           2.81850012e-02,  -5.10229246e-05,   7.43379300e-07],\n",
        "        [ -1.71971695e-04,  -3.76387202e-04,   2.00494259e-04, ...,\n",
        "          -5.10229246e-05,   2.89714848e-02,  -7.95539527e-06],\n",
        "        [ -1.47667304e-06,   7.21961453e-06,  -9.12763002e-07, ...,\n",
        "           7.43379300e-07,  -7.95539527e-06,   1.59369110e-03]]])"
       ]
      }
     ],
     "prompt_number": 53
    },
    {
     "cell_type": "code",
     "collapsed": false,
     "input": [
      "imle.imle.param.Psi0"
     ],
     "language": "python",
     "metadata": {},
     "outputs": [
      {
       "metadata": {},
       "output_type": "pyout",
       "prompt_number": 154,
       "text": [
        "array([[ 0.00111111]])"
       ]
      }
     ],
     "prompt_number": 154
    },
    {
     "cell_type": "code",
     "collapsed": false,
     "input": [
      "expe.log.logs['motor']"
     ],
     "language": "python",
     "metadata": {},
     "outputs": [
      {
       "metadata": {},
       "output_type": "pyout",
       "prompt_number": 27,
       "text": [
        "array([[ nan,  nan,  nan, ...,  nan,  nan,  nan],\n",
        "       [ nan,  nan,  nan, ...,  nan,  nan,  nan],\n",
        "       [ nan,  nan,  nan, ...,  nan,  nan,  nan],\n",
        "       ..., \n",
        "       [ nan,  nan,  nan, ...,  nan,  nan,  nan],\n",
        "       [ nan,  nan,  nan, ...,  nan,  nan,  nan],\n",
        "       [ nan,  nan,  nan, ...,  nan,  nan,  nan]])"
       ]
      }
     ],
     "prompt_number": 27
    },
    {
     "cell_type": "code",
     "collapsed": false,
     "input": [
      "argsort(expe.log.logs['inference'])[-10]"
     ],
     "language": "python",
     "metadata": {},
     "outputs": [
      {
       "metadata": {},
       "output_type": "pyout",
       "prompt_number": 30,
       "text": [
        "array([ 22,  21,  81,  61,  94,  49,  72,  95,  35,  89,  18,  76,  50,\n",
        "        63,  91,   3,  29,  71,  41,  60,  45,  57,  67,  80,  47,  78,\n",
        "        59,  25,  77,  12,  92,  83,  27,  97,  79,  53,  26,   7,  17,\n",
        "        20,  40,  14,   9,   4,  54,  96,  88, 107, 105,  65,  58,  43,\n",
        "        23, 114, 111, 119, 118,  74, 100, 106, 109, 104,  86, 101, 117,\n",
        "       124, 122, 110, 113, 103,  51,  98, 108, 121, 120, 116, 115,  56,\n",
        "       102,  90,   5, 112,  32,  66,  19,  34,  36, 123,  31,   1,  44,\n",
        "         6,  69,  11,  24,  15,  10,  38,  55,  39,  93,   0,  42,  13,\n",
        "        37,  84,  82,  73,  16,  33,  52,  99,   8,  87,  48,   2,  46,\n",
        "        62,  70,  28,  85,  30,  75,  64,  68])"
       ]
      }
     ],
     "prompt_number": 30
    },
    {
     "cell_type": "code",
     "collapsed": false,
     "input": [
      "sqrt?"
     ],
     "language": "python",
     "metadata": {},
     "outputs": [],
     "prompt_number": 25
    },
    {
     "cell_type": "code",
     "collapsed": false,
     "input": [
      "argsort(expe.log.logs['perception'].flatten())[-10]"
     ],
     "language": "python",
     "metadata": {},
     "outputs": [
      {
       "metadata": {},
       "output_type": "pyout",
       "prompt_number": 35,
       "text": [
        "1390"
       ]
      }
     ],
     "prompt_number": 35
    },
    {
     "cell_type": "code",
     "collapsed": false,
     "input": [
      "expe.log.logs['inference'].max()"
     ],
     "language": "python",
     "metadata": {},
     "outputs": [
      {
       "metadata": {},
       "output_type": "pyout",
       "prompt_number": 51,
       "text": [
        "3026.4985928504866"
       ]
      }
     ],
     "prompt_number": 51
    },
    {
     "cell_type": "code",
     "collapsed": false,
     "input": [
      "expe.log.logs['choice'][-10:]"
     ],
     "language": "python",
     "metadata": {},
     "outputs": [
      {
       "metadata": {},
       "output_type": "pyout",
       "prompt_number": 41,
       "text": [
        "array([[ 0.76739492],\n",
        "       [ 0.11599276],\n",
        "       [ 0.92157314],\n",
        "       [ 0.73603082],\n",
        "       [ 0.00926643],\n",
        "       [ 0.92866326],\n",
        "       [ 0.25405383],\n",
        "       [ 0.27341069],\n",
        "       [ 0.54838704],\n",
        "       [ 0.96189244]])"
       ]
      }
     ],
     "prompt_number": 41
    },
    {
     "cell_type": "code",
     "collapsed": false,
     "input": [
      "%pylab\n",
      "i = random_integers(20)\n",
      "j = random_integers(25)\n",
      "plot(expe.log.logs['motor'][i*100:(i+1)*100, j])"
     ],
     "language": "python",
     "metadata": {},
     "outputs": [
      {
       "output_type": "stream",
       "stream": "stdout",
       "text": [
        "Using matplotlib backend: Qt4Agg\n",
        "Populating the interactive namespace from numpy and matplotlib\n"
       ]
      },
      {
       "output_type": "stream",
       "stream": "stderr",
       "text": [
        "WARNING: pylab import has clobbered these variables: ['f']\n",
        "`%matplotlib` prevents importing * from pylab and numpy\n"
       ]
      },
      {
       "ename": "NameError",
       "evalue": "name 'expe' is not defined",
       "output_type": "pyerr",
       "traceback": [
        "\u001b[1;31m---------------------------------------------------------------------------\u001b[0m\n\u001b[1;31mNameError\u001b[0m                                 Traceback (most recent call last)",
        "\u001b[1;32m<ipython-input-10-45da1f87bfea>\u001b[0m in \u001b[0;36m<module>\u001b[1;34m()\u001b[0m\n\u001b[0;32m      2\u001b[0m \u001b[0mi\u001b[0m \u001b[1;33m=\u001b[0m \u001b[0mrandom_integers\u001b[0m\u001b[1;33m(\u001b[0m\u001b[1;36m20\u001b[0m\u001b[1;33m)\u001b[0m\u001b[1;33m\u001b[0m\u001b[0m\n\u001b[0;32m      3\u001b[0m \u001b[0mj\u001b[0m \u001b[1;33m=\u001b[0m \u001b[0mrandom_integers\u001b[0m\u001b[1;33m(\u001b[0m\u001b[1;36m25\u001b[0m\u001b[1;33m)\u001b[0m\u001b[1;33m\u001b[0m\u001b[0m\n\u001b[1;32m----> 4\u001b[1;33m \u001b[0mplot\u001b[0m\u001b[1;33m(\u001b[0m\u001b[0mexpe\u001b[0m\u001b[1;33m.\u001b[0m\u001b[0mlog\u001b[0m\u001b[1;33m.\u001b[0m\u001b[0mlogs\u001b[0m\u001b[1;33m[\u001b[0m\u001b[1;34m'motor'\u001b[0m\u001b[1;33m]\u001b[0m\u001b[1;33m[\u001b[0m\u001b[0mi\u001b[0m\u001b[1;33m*\u001b[0m\u001b[1;36m100\u001b[0m\u001b[1;33m:\u001b[0m\u001b[1;33m(\u001b[0m\u001b[0mi\u001b[0m\u001b[1;33m+\u001b[0m\u001b[1;36m1\u001b[0m\u001b[1;33m)\u001b[0m\u001b[1;33m*\u001b[0m\u001b[1;36m100\u001b[0m\u001b[1;33m,\u001b[0m \u001b[0mj\u001b[0m\u001b[1;33m]\u001b[0m\u001b[1;33m)\u001b[0m\u001b[1;33m\u001b[0m\u001b[0m\n\u001b[0m",
        "\u001b[1;31mNameError\u001b[0m: name 'expe' is not defined"
       ]
      }
     ],
     "prompt_number": 10
    },
    {
     "cell_type": "code",
     "collapsed": false,
     "input": [
      "len(expe.log.logs['perception'])"
     ],
     "language": "python",
     "metadata": {},
     "outputs": [
      {
       "metadata": {},
       "output_type": "pyout",
       "prompt_number": 21,
       "text": [
        "22"
       ]
      }
     ],
     "prompt_number": 21
    },
    {
     "cell_type": "code",
     "collapsed": false,
     "input": [
      "%pylab inline\n",
      "i = random_integers(20)\n",
      "j = random_integers(25)\n",
      "plot(expe.log.logs['motor'][i*100:(i+1)*100, j])"
     ],
     "language": "python",
     "metadata": {},
     "outputs": [
      {
       "output_type": "stream",
       "stream": "stdout",
       "text": [
        "Populating the interactive namespace from numpy and matplotlib\n"
       ]
      },
      {
       "metadata": {},
       "output_type": "pyout",
       "prompt_number": 42,
       "text": [
        "[<matplotlib.lines.Line2D at 0x7fcd5da6cb90>]"
       ]
      },
      {
       "metadata": {},
       "output_type": "display_data",
       "png": "[encoded data removed]",
       "text": [
        "<matplotlib.figure.Figure at 0x7fcd5e23b290>"
       ]
      }
     ],
     "prompt_number": 42
    },
    {
     "cell_type": "code",
     "collapsed": false,
     "input": [
      "i = random_integers"
     ],
     "language": "python",
     "metadata": {},
     "outputs": []
    },
    {
     "cell_type": "code",
     "collapsed": false,
     "input": [
      "import pickle\n",
      "with open('active_goal_babbling_from_lying__sgX_2.pkl', 'w') as f: pickle.dump(expe.log, f)"
     ],
     "language": "python",
     "metadata": {},
     "outputs": [],
     "prompt_number": 162
    },
    {
     "cell_type": "code",
     "collapsed": false,
     "input": [
      "f.close()"
     ],
     "language": "python",
     "metadata": {},
     "outputs": [],
     "prompt_number": 163
    },
    {
     "cell_type": "code",
     "collapsed": false,
     "input": [
      "import pickle\n",
      "with open('motor_babbling_from_lying.pkl', 'r') as f: a_g_b = pickle.load(f)"
     ],
     "language": "python",
     "metadata": {},
     "outputs": [
      {
       "output_type": "stream",
       "stream": "stderr",
       "text": [
        "Exception in thread Thread-4:\n",
        "Traceback (most recent call last):\n",
        "  File \"/usr/lib/python2.7/threading.py\", line 810, in __bootstrap_inner\n",
        "    self.run()\n",
        "  File \"/usr/lib/python2.7/threading.py\", line 763, in run\n",
        "    self.__target(*self.__args, **self.__kwargs)\n",
        "  File \"/home/clement/Documents/Boulot/INRIA_FLOWERS/CODE/pypot/pypot/utils/stoppablethread.py\", line 119, in _wrapped_target\n",
        "    self._target()\n",
        "  File \"/home/clement/Documents/Boulot/INRIA_FLOWERS/CODE/pypot/pypot/utils/stoppablethread.py\", line 181, in run\n",
        "    make_update_loop(self, self._update)\n",
        "  File \"/home/clement/Documents/Boulot/INRIA_FLOWERS/CODE/pypot/pypot/utils/stoppablethread.py\", line 153, in make_update_loop\n",
        "    update_func()\n",
        "  File \"/home/clement/Documents/Boulot/INRIA_FLOWERS/CODE/pypot/pypot/vrep/controller.py\", line 33, in update\n",
        "    p = round(rad2deg(self.io.get_motor_position(motor_name=m.name)), 1)\n",
        "  File \"/home/clement/Documents/Boulot/INRIA_FLOWERS/CODE/pypot/pypot/vrep/io.py\", line 46, in wrapped_f\n",
        "    raise VrepIOError(err, msg)\n",
        "VrepIOError: V-REP error code 1 (No value): \"Cannot get position for \"l_elbow_y\"\"\n",
        "\n"
       ]
      }
     ],
     "prompt_number": 35
    },
    {
     "cell_type": "code",
     "collapsed": false,
     "input": [
      "%pylab\n",
      "figure()\n",
      "plot(a_g_b.logs['perception'][:1100], '.', ms=8)\n",
      "xlabel(\"episodes\", fontsize=34)\n",
      "ylabel(\"Final head height\", fontsize=34)\n",
      "axis([0, 1100, 0, 0.5])\n",
      "#plot(a_g_b.logs['choice'][:1100], '+g')\n",
      "#ax = axis()\n",
      "#expe.log.density_plot(ax, (('choice"
     ],
     "language": "python",
     "metadata": {},
     "outputs": [
      {
       "output_type": "stream",
       "stream": "stdout",
       "text": [
        "Using matplotlib backend: Qt4Agg\n",
        "Populating the interactive namespace from numpy and matplotlib\n"
       ]
      },
      {
       "output_type": "stream",
       "stream": "stderr",
       "text": [
        "WARNING: pylab import has clobbered these variables: ['f']\n",
        "`%matplotlib` prevents importing * from pylab and numpy\n"
       ]
      },
      {
       "metadata": {},
       "output_type": "pyout",
       "prompt_number": 36,
       "text": [
        "[0, 1100, 0, 0.5]"
       ]
      }
     ],
     "prompt_number": 36
    },
    {
     "cell_type": "code",
     "collapsed": false,
     "input": [
      "env.move_duration = 0.06"
     ],
     "language": "python",
     "metadata": {},
     "outputs": [],
     "prompt_number": 15
    },
    {
     "cell_type": "code",
     "collapsed": false,
     "input": [
      "nonzero((a_g_b.logs['perception']>0.25).flatten() & (a_g_b.logs['perception'][:]<3.).flatten())"
     ],
     "language": "python",
     "metadata": {},
     "outputs": [
      {
       "metadata": {},
       "output_type": "pyout",
       "prompt_number": 38,
       "text": [
        "(array([  42,  226,  236,  254,  257,  283,  296,  357,  400,  425,  457,\n",
        "         480,  523,  566,  587,  616,  637,  639,  644,  660,  688,  695,\n",
        "         749,  769,  795,  796,  797,  812,  814,  818,  820,  821,  836,\n",
        "         837,  841,  845,  848,  851,  853,  858,  861,  864,  865,  874,\n",
        "         876,  879,  882,  883,  890,  892,  894,  895,  896,  897,  901,\n",
        "         902,  903,  909,  911,  913,  917,  928,  929,  933,  934,  935,\n",
        "         936,  941,  945,  946,  949,  950,  955,  960,  964,  966,  967,\n",
        "         971,  972,  978,  980,  983,  985,  986,  990, 1004, 1006, 1010,\n",
        "        1013, 1021, 1024, 1025, 1028, 1032, 1037, 1041, 1042, 1047, 1052,\n",
        "        1056, 1061, 1068, 1069, 1070, 1071, 1073, 1079, 1081, 1089, 1091,\n",
        "        1093, 1094, 1095, 1099, 1101, 1102, 1104, 1107, 1108, 1109, 1111,\n",
        "        1115, 1117, 1118, 1123, 1124, 1125, 1126]),)"
       ]
      }
     ],
     "prompt_number": 38
    },
    {
     "cell_type": "code",
     "collapsed": false,
     "input": [
      "%pylab inline\n",
      "for i_m in [1390]: #hstack((linspace(0, 200, 3), [226], linspace(230, 400, 1), [566], linspace(600, 800, 2), [894], linspace(900, 1100, 1), [1070, 1042])): # len(a_g_b.logs['perception']), 10): # argsort(a_g_b.logs['perception'], axis=0)[-10:]:\n",
      "    i_m = int(i_m)\n",
      "    print i_m, expe.log.logs['perception'][i_m]\n",
      "    mov = expe.log.logs['motor'][i_m * 100:(i_m+1)*100, :]\n",
      "    env.update(mov)"
     ],
     "language": "python",
     "metadata": {},
     "outputs": [
      {
       "output_type": "stream",
       "stream": "stdout",
       "text": [
        "Populating the interactive namespace from numpy and matplotlib\n",
        "1390 "
       ]
      },
      {
       "output_type": "stream",
       "stream": "stdout",
       "text": [
        "[ 0.2644677]\n"
       ]
      },
      {
       "output_type": "stream",
       "stream": "stderr",
       "text": [
        "WARNING: pylab import has clobbered these variables: ['f']\n",
        "`%matplotlib` prevents importing * from pylab and numpy\n"
       ]
      }
     ],
     "prompt_number": 37
    },
    {
     "cell_type": "code",
     "collapsed": false,
     "input": [
      "argsort(a_g_b.logs['perception'], axis=0)[-10:]"
     ],
     "language": "python",
     "metadata": {},
     "outputs": [
      {
       "metadata": {},
       "output_type": "pyout",
       "prompt_number": 19,
       "text": [
        "array([[ 894],\n",
        "       [ 964],\n",
        "       [1115],\n",
        "       [1013],\n",
        "       [ 949],\n",
        "       [ 902],\n",
        "       [1070],\n",
        "       [1037],\n",
        "       [1061],\n",
        "       [1042]])"
       ]
      },
      {
       "output_type": "stream",
       "stream": "stdout",
       "text": [
        "\n"
       ]
      }
     ],
     "prompt_number": 19
    },
    {
     "cell_type": "code",
     "collapsed": false,
     "input": [
      "expe.log.logs['motor'].shape"
     ],
     "language": "python",
     "metadata": {},
     "outputs": [
      {
       "metadata": {},
       "output_type": "pyout",
       "prompt_number": 126,
       "text": [
        "(622200, 25)"
       ]
      }
     ],
     "prompt_number": 126
    },
    {
     "cell_type": "code",
     "collapsed": false,
     "input": [
      "motor_values = expe.log.logs['motor']"
     ],
     "language": "python",
     "metadata": {},
     "outputs": [],
     "prompt_number": 66
    },
    {
     "cell_type": "code",
     "collapsed": false,
     "input": [
      "ag.produce().shape"
     ],
     "language": "python",
     "metadata": {},
     "outputs": [
      {
       "metadata": {},
       "output_type": "pyout",
       "prompt_number": 127,
       "text": [
        "(100, 25)"
       ]
      }
     ],
     "prompt_number": 127
    },
    {
     "cell_type": "code",
     "collapsed": false,
     "input": [
      "env.robot.motors"
     ],
     "language": "python",
     "metadata": {},
     "outputs": [
      {
       "metadata": {},
       "output_type": "pyout",
       "prompt_number": 68,
       "text": [
        "[<DxlMotor name=l_elbow_y id=44 pos=-5.3>,\n",
        " <DxlMotor name=r_elbow_y id=54 pos=-34.9>,\n",
        " <DxlMotor name=r_knee_y id=24 pos=20.1>,\n",
        " <DxlMotor name=head_y id=37 pos=18.0>,\n",
        " <DxlMotor name=head_z id=36 pos=-13.7>,\n",
        " <DxlMotor name=r_arm_z id=53 pos=27.7>,\n",
        " <DxlMotor name=r_ankle_y id=25 pos=69.9>,\n",
        " <DxlMotor name=r_shoulder_x id=52 pos=5.3>,\n",
        " <DxlMotor name=r_shoulder_y id=51 pos=-0.4>,\n",
        " <DxlMotor name=r_hip_z id=22 pos=2.9>,\n",
        " <DxlMotor name=r_hip_x id=21 pos=-0.2>,\n",
        " <DxlMotor name=r_hip_y id=23 pos=0.4>,\n",
        " <DxlMotor name=l_arm_z id=43 pos=-2.5>,\n",
        " <DxlMotor name=l_hip_x id=11 pos=23.4>,\n",
        " <DxlMotor name=l_hip_y id=13 pos=0.7>,\n",
        " <DxlMotor name=l_hip_z id=12 pos=30.5>,\n",
        " <DxlMotor name=abs_x id=32 pos=3.6>,\n",
        " <DxlMotor name=abs_y id=31 pos=-16.5>,\n",
        " <DxlMotor name=abs_z id=33 pos=-76.8>,\n",
        " <DxlMotor name=l_ankle_y id=15 pos=-70.0>,\n",
        " <DxlMotor name=bust_y id=34 pos=4.9>,\n",
        " <DxlMotor name=bust_x id=35 pos=-7.8>,\n",
        " <DxlMotor name=l_knee_y id=14 pos=-2.0>,\n",
        " <DxlMotor name=l_shoulder_x id=42 pos=-18.6>,\n",
        " <DxlMotor name=l_shoulder_y id=41 pos=-10.3>]"
       ]
      }
     ],
     "prompt_number": 68
    },
    {
     "cell_type": "code",
     "collapsed": false,
     "input": [
      "mot_cov = cov(motor_values[:, 5:10], rowvar=0)"
     ],
     "language": "python",
     "metadata": {},
     "outputs": [],
     "prompt_number": 67
    },
    {
     "cell_type": "code",
     "collapsed": false,
     "input": [
      "mot_cov = cov(motor_values, rowvar=0)\n",
      "imshow(mot_cov, interpolation='nearest')\n",
      "show()"
     ],
     "language": "python",
     "metadata": {},
     "outputs": [
      {
       "metadata": {},
       "output_type": "display_data",
       "png": "[encoded data removed]",
       "text": [
        "<matplotlib.figure.Figure at 0x7f77a06c3a90>"
       ]
      }
     ],
     "prompt_number": 68
    },
    {
     "cell_type": "code",
     "collapsed": false,
     "input": [
      "1/4"
     ],
     "language": "python",
     "metadata": {},
     "outputs": [
      {
       "metadata": {},
       "output_type": "pyout",
       "prompt_number": 86,
       "text": [
        "0"
       ]
      }
     ],
     "prompt_number": 86
    },
    {
     "cell_type": "code",
     "collapsed": false,
     "input": [
      "plot(motor_values[-1000:, 5], motor_values[-1000:, 6], '.')"
     ],
     "language": "python",
     "metadata": {},
     "outputs": [
      {
       "metadata": {},
       "output_type": "pyout",
       "prompt_number": 69,
       "text": [
        "[<matplotlib.lines.Line2D at 0x7f779d45ed50>]"
       ]
      },
      {
       "metadata": {},
       "output_type": "display_data",
       "png": "[encoded data removed]",
       "text": [
        "<matplotlib.figure.Figure at 0x7f779d4bc5d0>"
       ]
      }
     ],
     "prompt_number": 69
    },
    {
     "cell_type": "code",
     "collapsed": false,
     "input": [
      "env.robot.l_knee_y.angle_limit"
     ],
     "language": "python",
     "metadata": {},
     "outputs": [
      {
       "metadata": {},
       "output_type": "pyout",
       "prompt_number": 47,
       "text": [
        "0"
       ]
      }
     ],
     "prompt_number": 47
    },
    {
     "cell_type": "code",
     "collapsed": false,
     "input": [
      "from explauto.utils import rand_bounds\n",
      "%pylab\n",
      "plot(ag.motor_primitive(rand_bounds(ag.conf.m_bounds).T))"
     ],
     "language": "python",
     "metadata": {},
     "outputs": [
      {
       "output_type": "stream",
       "stream": "stdout",
       "text": [
        "Using matplotlib backend: Qt4Agg\n",
        "Populating the interactive namespace from numpy and matplotlib\n"
       ]
      },
      {
       "metadata": {},
       "output_type": "pyout",
       "prompt_number": 11,
       "text": [
        "[<matplotlib.lines.Line2D at 0x7f6f4c020cd0>,\n",
        " <matplotlib.lines.Line2D at 0x7f6f4c020f50>,\n",
        " <matplotlib.lines.Line2D at 0x7f6f4c02d1d0>,\n",
        " <matplotlib.lines.Line2D at 0x7f6f4c02d390>,\n",
        " <matplotlib.lines.Line2D at 0x7f6f4c02d550>,\n",
        " <matplotlib.lines.Line2D at 0x7f6f4c02d710>,\n",
        " <matplotlib.lines.Line2D at 0x7f6f4c02d8d0>,\n",
        " <matplotlib.lines.Line2D at 0x7f6f609e16d0>,\n",
        " <matplotlib.lines.Line2D at 0x7f6f4c02dc50>,\n",
        " <matplotlib.lines.Line2D at 0x7f6f4c02de10>,\n",
        " <matplotlib.lines.Line2D at 0x7f6f4c02dfd0>,\n",
        " <matplotlib.lines.Line2D at 0x7f6f4c0381d0>,\n",
        " <matplotlib.lines.Line2D at 0x7f6f4c038390>,\n",
        " <matplotlib.lines.Line2D at 0x7f6f4c038550>,\n",
        " <matplotlib.lines.Line2D at 0x7f6f4c02da90>,\n",
        " <matplotlib.lines.Line2D at 0x7f6f4c0388d0>,\n",
        " <matplotlib.lines.Line2D at 0x7f6f4c038a90>,\n",
        " <matplotlib.lines.Line2D at 0x7f6f4c038c50>,\n",
        " <matplotlib.lines.Line2D at 0x7f6f4c038e10>,\n",
        " <matplotlib.lines.Line2D at 0x7f6f4c038fd0>,\n",
        " <matplotlib.lines.Line2D at 0x7f6f4c03f1d0>,\n",
        " <matplotlib.lines.Line2D at 0x7f6f4c038710>,\n",
        " <matplotlib.lines.Line2D at 0x7f6f4c03f550>,\n",
        " <matplotlib.lines.Line2D at 0x7f6f4c03f710>,\n",
        " <matplotlib.lines.Line2D at 0x7f6f4c03f8d0>]"
       ]
      }
     ],
     "prompt_number": 11
    },
    {
     "cell_type": "code",
     "collapsed": false,
     "input": [
      "data = []"
     ],
     "language": "python",
     "metadata": {},
     "outputs": [],
     "prompt_number": 35
    },
    {
     "cell_type": "code",
     "collapsed": false,
     "input": [
      "%pylab\n",
      "env.robot.reset_simulation()\n",
      "time.sleep(t_reset)\n",
      "\n",
      "for t in range(10):\n",
      "    m = ag.produce()\n",
      "    s = env.update(m)\n",
      "    ag.perceive(s)\n",
      "    env.robot.reset_simulation()\n",
      "    # plot(s)\n",
      "    data.append((ag.x, s[-1]))\n",
      "    print data[-1]\n",
      "    time.sleep(t_reset)"
     ],
     "language": "python",
     "metadata": {},
     "outputs": [
      {
       "output_type": "stream",
       "stream": "stdout",
       "text": [
        "Using matplotlib backend: Qt4Agg\n",
        "Populating the interactive namespace from numpy and matplotlib\n",
        "(array([ 0.60279647]), 0.11694270372390747)"
       ]
      },
      {
       "output_type": "stream",
       "stream": "stdout",
       "text": [
        "\n",
        "(array([ 0.88096163]), 0.20065304636955261)"
       ]
      },
      {
       "output_type": "stream",
       "stream": "stdout",
       "text": [
        "\n",
        "(array([ 0.99260272]), 0.13497480750083923)"
       ]
      },
      {
       "output_type": "stream",
       "stream": "stdout",
       "text": [
        "\n",
        "(array([ 0.20448937]), 0.20569607615470886)"
       ]
      },
      {
       "output_type": "stream",
       "stream": "stdout",
       "text": [
        "\n",
        "(array([ 0.94265881]), 0.13185931742191315)"
       ]
      },
      {
       "output_type": "stream",
       "stream": "stdout",
       "text": [
        "\n",
        "(array([ 0.19482248]), 0.16713172197341919)"
       ]
      },
      {
       "output_type": "stream",
       "stream": "stdout",
       "text": [
        "\n",
        "(array([ 0.60256188]), 0.25480207800865173)"
       ]
      },
      {
       "output_type": "stream",
       "stream": "stdout",
       "text": [
        "\n",
        "(array([ 0.39036157]), 0.15668083727359772)"
       ]
      },
      {
       "output_type": "stream",
       "stream": "stdout",
       "text": [
        "\n",
        "(array([ 0.71207155]), 0.19193968176841736)"
       ]
      },
      {
       "output_type": "stream",
       "stream": "stdout",
       "text": [
        "\n",
        "(array([ 0.62202134]), 0.13945047557353973)"
       ]
      },
      {
       "output_type": "stream",
       "stream": "stdout",
       "text": [
        "\n"
       ]
      }
     ],
     "prompt_number": 39
    },
    {
     "cell_type": "code",
     "collapsed": false,
     "input": [
      "import copy\n",
      "random_goal_log = copy.copy(array(goals_reached)[:,1])"
     ],
     "language": "python",
     "metadata": {},
     "outputs": [],
     "prompt_number": 37
    },
    {
     "cell_type": "code",
     "collapsed": false,
     "input": [
      "plot(ag.produce())"
     ],
     "language": "python",
     "metadata": {},
     "outputs": [
      {
       "metadata": {},
       "output_type": "pyout",
       "prompt_number": 41,
       "text": [
        "[<matplotlib.lines.Line2D at 0x7fbdb6cd93d0>,\n",
        " <matplotlib.lines.Line2D at 0x7fbdb6cd9650>,\n",
        " <matplotlib.lines.Line2D at 0x7fbdb6cd9890>,\n",
        " <matplotlib.lines.Line2D at 0x7fbdb6cd9a50>,\n",
        " <matplotlib.lines.Line2D at 0x7fbdb6cd9c10>,\n",
        " <matplotlib.lines.Line2D at 0x7fbdb6cd9dd0>,\n",
        " <matplotlib.lines.Line2D at 0x7fbdb6cd9f90>,\n",
        " <matplotlib.lines.Line2D at 0x7fbdb6d6e790>,\n",
        " <matplotlib.lines.Line2D at 0x7fbdb6ce1350>,\n",
        " <matplotlib.lines.Line2D at 0x7fbdb6ce1510>,\n",
        " <matplotlib.lines.Line2D at 0x7fbdb6ce16d0>,\n",
        " <matplotlib.lines.Line2D at 0x7fbdb6ce1890>,\n",
        " <matplotlib.lines.Line2D at 0x7fbdb6ce1a50>,\n",
        " <matplotlib.lines.Line2D at 0x7fbdb6ce1c10>,\n",
        " <matplotlib.lines.Line2D at 0x7fbdb6ce1190>,\n",
        " <matplotlib.lines.Line2D at 0x7fbdb6ce1f90>,\n",
        " <matplotlib.lines.Line2D at 0x7fbdb6cec190>,\n",
        " <matplotlib.lines.Line2D at 0x7fbdb6cec350>,\n",
        " <matplotlib.lines.Line2D at 0x7fbdb6cec510>,\n",
        " <matplotlib.lines.Line2D at 0x7fbdb6cec6d0>,\n",
        " <matplotlib.lines.Line2D at 0x7fbdb6cec890>,\n",
        " <matplotlib.lines.Line2D at 0x7fbdb6ce1dd0>,\n",
        " <matplotlib.lines.Line2D at 0x7fbdb6cecc10>,\n",
        " <matplotlib.lines.Line2D at 0x7fbdb6cecdd0>,\n",
        " <matplotlib.lines.Line2D at 0x7fbdb6cecf90>]"
       ]
      }
     ],
     "prompt_number": 41
    },
    {
     "cell_type": "code",
     "collapsed": false,
     "input": [
      "env.robot."
     ],
     "language": "python",
     "metadata": {},
     "outputs": [
      {
       "metadata": {},
       "output_type": "pyout",
       "prompt_number": 50,
       "text": [
        "0.0"
       ]
      }
     ],
     "prompt_number": 50
    },
    {
     "cell_type": "code",
     "collapsed": false,
     "input": [
      "plot(random_goal_log, '.')\n",
      "plot(reached, '.')"
     ],
     "language": "python",
     "metadata": {},
     "outputs": [
      {
       "metadata": {},
       "output_type": "pyout",
       "prompt_number": 50,
       "text": [
        "[<matplotlib.lines.Line2D at 0x7fe3754bd810>]"
       ]
      }
     ],
     "prompt_number": 50
    },
    {
     "cell_type": "code",
     "collapsed": false,
     "input": [
      "for log in (reached, random_goal_log):\n",
      "    print mean(log), std(log)"
     ],
     "language": "python",
     "metadata": {},
     "outputs": [
      {
       "output_type": "stream",
       "stream": "stdout",
       "text": [
        "0.201665625423 0.153775498759\n",
        "0.245205397606 0.166081071946\n"
       ]
      }
     ],
     "prompt_number": 51
    },
    {
     "cell_type": "code",
     "collapsed": false,
     "input": [
      "import pdb\n",
      "pdb.run(\"ag.perceive(s)\")"
     ],
     "language": "python",
     "metadata": {},
     "outputs": [
      {
       "output_type": "stream",
       "stream": "stdout",
       "text": [
        "> <string>(1)<module>()\n"
       ]
      },
      {
       "name": "stdout",
       "output_type": "stream",
       "stream": "stdout",
       "text": [
        "(Pdb) s\n"
       ]
      },
      {
       "output_type": "stream",
       "stream": "stdout",
       "text": [
        "--Call--\n",
        "> /home/clement/Documents/Boulot/INRIA_FLOWERS/CODE/explauto/explauto/agent/agent.py(143)perceive()\n",
        "-> def perceive(self, s_):\n"
       ]
      },
      {
       "name": "stdout",
       "output_type": "stream",
       "stream": "stdout",
       "text": [
        "(Pdb) n\n"
       ]
      },
      {
       "output_type": "stream",
       "stream": "stdout",
       "text": [
        "> /home/clement/Documents/Boulot/INRIA_FLOWERS/CODE/explauto/explauto/agent/agent.py(150)perceive()\n",
        "-> s = self.sensory_primitive(s_)\n"
       ]
      },
      {
       "name": "stdout",
       "output_type": "stream",
       "stream": "stdout",
       "text": [
        "(Pdb) n\n"
       ]
      },
      {
       "output_type": "stream",
       "stream": "stdout",
       "text": [
        "> /home/clement/Documents/Boulot/INRIA_FLOWERS/CODE/explauto/explauto/agent/agent.py(151)perceive()\n",
        "-> self.sensorimotor_model.update(self.m, s)\n"
       ]
      },
      {
       "name": "stdout",
       "output_type": "stream",
       "stream": "stdout",
       "text": [
        "(Pdb) p s\n"
       ]
      },
      {
       "output_type": "stream",
       "stream": "stdout",
       "text": [
        "0.16483809053897858\n"
       ]
      },
      {
       "name": "stdout",
       "output_type": "stream",
       "stream": "stdout",
       "text": [
        "(Pdb) q\n"
       ]
      }
     ],
     "prompt_number": 12
    },
    {
     "cell_type": "code",
     "collapsed": false,
     "input": [
      "env.robot.head_y.goal_position = -50."
     ],
     "language": "python",
     "metadata": {},
     "outputs": [],
     "prompt_number": 10
    },
    {
     "cell_type": "code",
     "collapsed": false,
     "input": [
      "i = array([False, False, True], dtype=bool)\n",
      "x = ones(3)\n",
      "x[i] = 2\n",
      "print x"
     ],
     "language": "python",
     "metadata": {},
     "outputs": [
      {
       "output_type": "stream",
       "stream": "stdout",
       "text": [
        "[ 1.  1.  2.]\n"
       ]
      }
     ],
     "prompt_number": 31
    },
    {
     "cell_type": "code",
     "collapsed": false,
     "input": [
      "%pylab inline\n",
      "mov = ag.produce()\n",
      "plot(mov)"
     ],
     "language": "python",
     "metadata": {},
     "outputs": [
      {
       "output_type": "stream",
       "stream": "stderr",
       "text": [
        "WARNING:explauto.agent.agent:Sensorimotor model not bootstrapped yet\n"
       ]
      },
      {
       "output_type": "stream",
       "stream": "stdout",
       "text": [
        "Populating the interactive namespace from numpy and matplotlib\n"
       ]
      },
      {
       "metadata": {},
       "output_type": "pyout",
       "prompt_number": 36,
       "text": [
        "[<matplotlib.lines.Line2D at 0x7f42b74826d0>,\n",
        " <matplotlib.lines.Line2D at 0x7f42b7482950>,\n",
        " <matplotlib.lines.Line2D at 0x7f42b7482b90>,\n",
        " <matplotlib.lines.Line2D at 0x7f42b7482d50>,\n",
        " <matplotlib.lines.Line2D at 0x7f42b7482f10>,\n",
        " <matplotlib.lines.Line2D at 0x7f42b748c110>,\n",
        " <matplotlib.lines.Line2D at 0x7f42b748c2d0>,\n",
        " <matplotlib.lines.Line2D at 0x7f42b75565d0>,\n",
        " <matplotlib.lines.Line2D at 0x7f42b748c650>,\n",
        " <matplotlib.lines.Line2D at 0x7f42b748c810>,\n",
        " <matplotlib.lines.Line2D at 0x7f42b748c9d0>,\n",
        " <matplotlib.lines.Line2D at 0x7f42b748cb90>,\n",
        " <matplotlib.lines.Line2D at 0x7f42b748cd50>,\n",
        " <matplotlib.lines.Line2D at 0x7f42b748cf10>,\n",
        " <matplotlib.lines.Line2D at 0x7f42b748c490>,\n",
        " <matplotlib.lines.Line2D at 0x7f42b74952d0>,\n",
        " <matplotlib.lines.Line2D at 0x7f42b7495490>,\n",
        " <matplotlib.lines.Line2D at 0x7f42b7495650>,\n",
        " <matplotlib.lines.Line2D at 0x7f42b7495810>,\n",
        " <matplotlib.lines.Line2D at 0x7f42b74959d0>,\n",
        " <matplotlib.lines.Line2D at 0x7f42b7495b90>,\n",
        " <matplotlib.lines.Line2D at 0x7f42b7495110>,\n",
        " <matplotlib.lines.Line2D at 0x7f42b7495f10>,\n",
        " <matplotlib.lines.Line2D at 0x7f42b749f110>,\n",
        " <matplotlib.lines.Line2D at 0x7f42b749f2d0>]"
       ]
      },
      {
       "metadata": {},
       "output_type": "display_data",
       "png": "[encoded data removed]",
       "text": [
        "<matplotlib.figure.Figure at 0x7f42cc083b90>"
       ]
      }
     ],
     "prompt_number": 36
    },
    {
     "cell_type": "code",
     "collapsed": false,
     "input": [
      "while True:\n",
      "    try:\n",
      "        print env.get_vrep_obj_position('head_visual')\n",
      "        break\n",
      "    except:\n",
      "        pass"
     ],
     "language": "python",
     "metadata": {},
     "outputs": [
      {
       "output_type": "stream",
       "stream": "stdout",
       "text": [
        "[-0.01783353090286255, -0.014113495126366615, 0.5343743562698364]\n"
       ]
      }
     ],
     "prompt_number": 8
    },
    {
     "cell_type": "code",
     "collapsed": false,
     "input": [
      "import time\n",
      "\n",
      "def f(x):\n",
      "    env.robot.reset_simulation()\n",
      "    #time.sleep(1)\n",
      "    \n",
      "    for p, m in zip(x, env.robot.motors):\n",
      "        m.goal_position = p\n",
      "    time.sleep(1.)\n",
      "    \n",
      "    return 1 - env.get_vrep_obj_position('head_visual')[2]"
     ],
     "language": "python",
     "metadata": {},
     "outputs": [],
     "prompt_number": 9
    },
    {
     "cell_type": "code",
     "collapsed": false,
     "input": [
      "from numpy.random import rand\n",
      "\n",
      "x = -90 + rand(25) * 180\n",
      "f(x)"
     ],
     "language": "python",
     "metadata": {},
     "outputs": [
      {
       "metadata": {},
       "output_type": "pyout",
       "prompt_number": 10,
       "text": [
        "0.38155150413513184"
       ]
      }
     ],
     "prompt_number": 10
    },
    {
     "cell_type": "code",
     "collapsed": false,
     "input": [
      "from scipy.optimize import minimize"
     ],
     "language": "python",
     "metadata": {},
     "outputs": [],
     "prompt_number": 11
    },
    {
     "cell_type": "code",
     "collapsed": false,
     "input": [
      "minimize(f, -90 + rand(25) * 180)"
     ],
     "language": "python",
     "metadata": {},
     "outputs": [
      {
       "ename": "KeyboardInterrupt",
       "evalue": "",
       "output_type": "pyerr",
       "traceback": [
        "\u001b[1;31m---------------------------------------------------------------------------\u001b[0m\n\u001b[1;31mKeyboardInterrupt\u001b[0m                         Traceback (most recent call last)",
        "\u001b[1;32m<ipython-input-12-fce05ce4c88f>\u001b[0m in \u001b[0;36m<module>\u001b[1;34m()\u001b[0m\n\u001b[1;32m----> 1\u001b[1;33m \u001b[0mminimize\u001b[0m\u001b[1;33m(\u001b[0m\u001b[0mf\u001b[0m\u001b[1;33m,\u001b[0m \u001b[1;33m-\u001b[0m\u001b[1;36m90\u001b[0m \u001b[1;33m+\u001b[0m \u001b[0mrand\u001b[0m\u001b[1;33m(\u001b[0m\u001b[1;36m25\u001b[0m\u001b[1;33m)\u001b[0m \u001b[1;33m*\u001b[0m \u001b[1;36m180\u001b[0m\u001b[1;33m)\u001b[0m\u001b[1;33m\u001b[0m\u001b[0m\n\u001b[0m",
        "\u001b[1;32m/usr/local/lib/python2.7/dist-packages/scipy/optimize/_minimize.pyc\u001b[0m in \u001b[0;36mminimize\u001b[1;34m(fun, x0, args, method, jac, hess, hessp, bounds, constraints, tol, callback, options)\u001b[0m\n\u001b[0;32m    370\u001b[0m         \u001b[1;32mreturn\u001b[0m \u001b[0m_minimize_cg\u001b[0m\u001b[1;33m(\u001b[0m\u001b[0mfun\u001b[0m\u001b[1;33m,\u001b[0m \u001b[0mx0\u001b[0m\u001b[1;33m,\u001b[0m \u001b[0margs\u001b[0m\u001b[1;33m,\u001b[0m \u001b[0mjac\u001b[0m\u001b[1;33m,\u001b[0m \u001b[0mcallback\u001b[0m\u001b[1;33m,\u001b[0m \u001b[1;33m**\u001b[0m\u001b[0moptions\u001b[0m\u001b[1;33m)\u001b[0m\u001b[1;33m\u001b[0m\u001b[0m\n\u001b[0;32m    371\u001b[0m     \u001b[1;32melif\u001b[0m \u001b[0mmeth\u001b[0m \u001b[1;33m==\u001b[0m \u001b[1;34m'bfgs'\u001b[0m\u001b[1;33m:\u001b[0m\u001b[1;33m\u001b[0m\u001b[0m\n\u001b[1;32m--> 372\u001b[1;33m         \u001b[1;32mreturn\u001b[0m \u001b[0m_minimize_bfgs\u001b[0m\u001b[1;33m(\u001b[0m\u001b[0mfun\u001b[0m\u001b[1;33m,\u001b[0m \u001b[0mx0\u001b[0m\u001b[1;33m,\u001b[0m \u001b[0margs\u001b[0m\u001b[1;33m,\u001b[0m \u001b[0mjac\u001b[0m\u001b[1;33m,\u001b[0m \u001b[0mcallback\u001b[0m\u001b[1;33m,\u001b[0m \u001b[1;33m**\u001b[0m\u001b[0moptions\u001b[0m\u001b[1;33m)\u001b[0m\u001b[1;33m\u001b[0m\u001b[0m\n\u001b[0m\u001b[0;32m    373\u001b[0m     \u001b[1;32melif\u001b[0m \u001b[0mmeth\u001b[0m \u001b[1;33m==\u001b[0m \u001b[1;34m'newton-cg'\u001b[0m\u001b[1;33m:\u001b[0m\u001b[1;33m\u001b[0m\u001b[0m\n\u001b[0;32m    374\u001b[0m         return _minimize_newtoncg(fun, x0, args, jac, hess, hessp, callback,\n",
        "\u001b[1;32m/usr/local/lib/python2.7/dist-packages/scipy/optimize/optimize.pyc\u001b[0m in \u001b[0;36m_minimize_bfgs\u001b[1;34m(fun, x0, args, jac, callback, gtol, norm, eps, maxiter, disp, return_all, **unknown_options)\u001b[0m\n\u001b[0;32m    830\u001b[0m     \u001b[1;32melse\u001b[0m\u001b[1;33m:\u001b[0m\u001b[1;33m\u001b[0m\u001b[0m\n\u001b[0;32m    831\u001b[0m         \u001b[0mgrad_calls\u001b[0m\u001b[1;33m,\u001b[0m \u001b[0mmyfprime\u001b[0m \u001b[1;33m=\u001b[0m \u001b[0mwrap_function\u001b[0m\u001b[1;33m(\u001b[0m\u001b[0mfprime\u001b[0m\u001b[1;33m,\u001b[0m \u001b[0margs\u001b[0m\u001b[1;33m)\u001b[0m\u001b[1;33m\u001b[0m\u001b[0m\n\u001b[1;32m--> 832\u001b[1;33m     \u001b[0mgfk\u001b[0m \u001b[1;33m=\u001b[0m \u001b[0mmyfprime\u001b[0m\u001b[1;33m(\u001b[0m\u001b[0mx0\u001b[0m\u001b[1;33m)\u001b[0m\u001b[1;33m\u001b[0m\u001b[0m\n\u001b[0m\u001b[0;32m    833\u001b[0m     \u001b[0mk\u001b[0m \u001b[1;33m=\u001b[0m \u001b[1;36m0\u001b[0m\u001b[1;33m\u001b[0m\u001b[0m\n\u001b[0;32m    834\u001b[0m     \u001b[0mN\u001b[0m \u001b[1;33m=\u001b[0m \u001b[0mlen\u001b[0m\u001b[1;33m(\u001b[0m\u001b[0mx0\u001b[0m\u001b[1;33m)\u001b[0m\u001b[1;33m\u001b[0m\u001b[0m\n",
        "\u001b[1;32m/usr/local/lib/python2.7/dist-packages/scipy/optimize/optimize.pyc\u001b[0m in \u001b[0;36mfunction_wrapper\u001b[1;34m(*wrapper_args)\u001b[0m\n\u001b[0;32m    279\u001b[0m     \u001b[1;32mdef\u001b[0m \u001b[0mfunction_wrapper\u001b[0m\u001b[1;33m(\u001b[0m\u001b[1;33m*\u001b[0m\u001b[0mwrapper_args\u001b[0m\u001b[1;33m)\u001b[0m\u001b[1;33m:\u001b[0m\u001b[1;33m\u001b[0m\u001b[0m\n\u001b[0;32m    280\u001b[0m         \u001b[0mncalls\u001b[0m\u001b[1;33m[\u001b[0m\u001b[1;36m0\u001b[0m\u001b[1;33m]\u001b[0m \u001b[1;33m+=\u001b[0m \u001b[1;36m1\u001b[0m\u001b[1;33m\u001b[0m\u001b[0m\n\u001b[1;32m--> 281\u001b[1;33m         \u001b[1;32mreturn\u001b[0m \u001b[0mfunction\u001b[0m\u001b[1;33m(\u001b[0m\u001b[1;33m*\u001b[0m\u001b[1;33m(\u001b[0m\u001b[0mwrapper_args\u001b[0m \u001b[1;33m+\u001b[0m \u001b[0margs\u001b[0m\u001b[1;33m)\u001b[0m\u001b[1;33m)\u001b[0m\u001b[1;33m\u001b[0m\u001b[0m\n\u001b[0m\u001b[0;32m    282\u001b[0m \u001b[1;33m\u001b[0m\u001b[0m\n\u001b[0;32m    283\u001b[0m     \u001b[1;32mreturn\u001b[0m \u001b[0mncalls\u001b[0m\u001b[1;33m,\u001b[0m \u001b[0mfunction_wrapper\u001b[0m\u001b[1;33m\u001b[0m\u001b[0m\n",
        "\u001b[1;32m/usr/local/lib/python2.7/dist-packages/scipy/optimize/optimize.pyc\u001b[0m in \u001b[0;36mapprox_fprime\u001b[1;34m(xk, f, epsilon, *args)\u001b[0m\n\u001b[0;32m    608\u001b[0m         \u001b[0mei\u001b[0m\u001b[1;33m[\u001b[0m\u001b[0mk\u001b[0m\u001b[1;33m]\u001b[0m \u001b[1;33m=\u001b[0m \u001b[1;36m1.0\u001b[0m\u001b[1;33m\u001b[0m\u001b[0m\n\u001b[0;32m    609\u001b[0m         \u001b[0md\u001b[0m \u001b[1;33m=\u001b[0m \u001b[0mepsilon\u001b[0m \u001b[1;33m*\u001b[0m \u001b[0mei\u001b[0m\u001b[1;33m\u001b[0m\u001b[0m\n\u001b[1;32m--> 610\u001b[1;33m         \u001b[0mgrad\u001b[0m\u001b[1;33m[\u001b[0m\u001b[0mk\u001b[0m\u001b[1;33m]\u001b[0m \u001b[1;33m=\u001b[0m \u001b[1;33m(\u001b[0m\u001b[0mf\u001b[0m\u001b[1;33m(\u001b[0m\u001b[1;33m*\u001b[0m\u001b[1;33m(\u001b[0m\u001b[1;33m(\u001b[0m\u001b[0mxk\u001b[0m \u001b[1;33m+\u001b[0m \u001b[0md\u001b[0m\u001b[1;33m,\u001b[0m\u001b[1;33m)\u001b[0m \u001b[1;33m+\u001b[0m \u001b[0margs\u001b[0m\u001b[1;33m)\u001b[0m\u001b[1;33m)\u001b[0m \u001b[1;33m-\u001b[0m \u001b[0mf0\u001b[0m\u001b[1;33m)\u001b[0m \u001b[1;33m/\u001b[0m \u001b[0md\u001b[0m\u001b[1;33m[\u001b[0m\u001b[0mk\u001b[0m\u001b[1;33m]\u001b[0m\u001b[1;33m\u001b[0m\u001b[0m\n\u001b[0m\u001b[0;32m    611\u001b[0m         \u001b[0mei\u001b[0m\u001b[1;33m[\u001b[0m\u001b[0mk\u001b[0m\u001b[1;33m]\u001b[0m \u001b[1;33m=\u001b[0m \u001b[1;36m0.0\u001b[0m\u001b[1;33m\u001b[0m\u001b[0m\n\u001b[0;32m    612\u001b[0m \u001b[1;33m\u001b[0m\u001b[0m\n",
        "\u001b[1;32m/usr/local/lib/python2.7/dist-packages/scipy/optimize/optimize.pyc\u001b[0m in \u001b[0;36mfunction_wrapper\u001b[1;34m(*wrapper_args)\u001b[0m\n\u001b[0;32m    279\u001b[0m     \u001b[1;32mdef\u001b[0m \u001b[0mfunction_wrapper\u001b[0m\u001b[1;33m(\u001b[0m\u001b[1;33m*\u001b[0m\u001b[0mwrapper_args\u001b[0m\u001b[1;33m)\u001b[0m\u001b[1;33m:\u001b[0m\u001b[1;33m\u001b[0m\u001b[0m\n\u001b[0;32m    280\u001b[0m         \u001b[0mncalls\u001b[0m\u001b[1;33m[\u001b[0m\u001b[1;36m0\u001b[0m\u001b[1;33m]\u001b[0m \u001b[1;33m+=\u001b[0m \u001b[1;36m1\u001b[0m\u001b[1;33m\u001b[0m\u001b[0m\n\u001b[1;32m--> 281\u001b[1;33m         \u001b[1;32mreturn\u001b[0m \u001b[0mfunction\u001b[0m\u001b[1;33m(\u001b[0m\u001b[1;33m*\u001b[0m\u001b[1;33m(\u001b[0m\u001b[0mwrapper_args\u001b[0m \u001b[1;33m+\u001b[0m \u001b[0margs\u001b[0m\u001b[1;33m)\u001b[0m\u001b[1;33m)\u001b[0m\u001b[1;33m\u001b[0m\u001b[0m\n\u001b[0m\u001b[0;32m    282\u001b[0m \u001b[1;33m\u001b[0m\u001b[0m\n\u001b[0;32m    283\u001b[0m     \u001b[1;32mreturn\u001b[0m \u001b[0mncalls\u001b[0m\u001b[1;33m,\u001b[0m \u001b[0mfunction_wrapper\u001b[0m\u001b[1;33m\u001b[0m\u001b[0m\n",
        "\u001b[1;32m<ipython-input-9-60dfd62ef8e0>\u001b[0m in \u001b[0;36mf\u001b[1;34m(x)\u001b[0m\n\u001b[0;32m      2\u001b[0m \u001b[1;33m\u001b[0m\u001b[0m\n\u001b[0;32m      3\u001b[0m \u001b[1;32mdef\u001b[0m \u001b[0mf\u001b[0m\u001b[1;33m(\u001b[0m\u001b[0mx\u001b[0m\u001b[1;33m)\u001b[0m\u001b[1;33m:\u001b[0m\u001b[1;33m\u001b[0m\u001b[0m\n\u001b[1;32m----> 4\u001b[1;33m     \u001b[0menv\u001b[0m\u001b[1;33m.\u001b[0m\u001b[0mrobot\u001b[0m\u001b[1;33m.\u001b[0m\u001b[0mreset_simulation\u001b[0m\u001b[1;33m(\u001b[0m\u001b[1;33m)\u001b[0m\u001b[1;33m\u001b[0m\u001b[0m\n\u001b[0m\u001b[0;32m      5\u001b[0m     \u001b[1;31m#time.sleep(1)\u001b[0m\u001b[1;33m\u001b[0m\u001b[1;33m\u001b[0m\u001b[0m\n\u001b[0;32m      6\u001b[0m \u001b[1;33m\u001b[0m\u001b[0m\n",
        "\u001b[1;32m/home/clement/Documents/Boulot/INRIA_FLOWERS/CODE/pypot.old/pypot/vrep/__init__.pyc\u001b[0m in \u001b[0;36m<lambda>\u001b[1;34m()\u001b[0m\n\u001b[0;32m    111\u001b[0m             \u001b[0mvct\u001b[0m\u001b[1;33m.\u001b[0m\u001b[0mstart\u001b[0m\u001b[1;33m(\u001b[0m\u001b[1;33m)\u001b[0m\u001b[1;33m\u001b[0m\u001b[0m\n\u001b[0;32m    112\u001b[0m \u001b[1;33m\u001b[0m\u001b[0m\n\u001b[1;32m--> 113\u001b[1;33m     \u001b[0mrobot\u001b[0m\u001b[1;33m.\u001b[0m\u001b[0mreset_simulation\u001b[0m \u001b[1;33m=\u001b[0m \u001b[1;32mlambda\u001b[0m\u001b[1;33m:\u001b[0m \u001b[0mreset\u001b[0m\u001b[1;33m(\u001b[0m\u001b[0mrobot\u001b[0m\u001b[1;33m)\u001b[0m\u001b[1;33m\u001b[0m\u001b[0m\n\u001b[0m\u001b[0;32m    114\u001b[0m \u001b[1;33m\u001b[0m\u001b[0m\n\u001b[0;32m    115\u001b[0m     \u001b[1;32mdef\u001b[0m \u001b[0mcurrent_simulation_time\u001b[0m\u001b[1;33m(\u001b[0m\u001b[0mrobot\u001b[0m\u001b[1;33m)\u001b[0m\u001b[1;33m:\u001b[0m\u001b[1;33m\u001b[0m\u001b[0m\n",
        "\u001b[1;32m/home/clement/Documents/Boulot/INRIA_FLOWERS/CODE/pypot.old/pypot/vrep/__init__.pyc\u001b[0m in \u001b[0;36mreset\u001b[1;34m(robot)\u001b[0m\n\u001b[0;32m    106\u001b[0m             \u001b[0mvct\u001b[0m\u001b[1;33m.\u001b[0m\u001b[0mstop\u001b[0m\u001b[1;33m(\u001b[0m\u001b[1;33m)\u001b[0m\u001b[1;33m\u001b[0m\u001b[0m\n\u001b[0;32m    107\u001b[0m \u001b[1;33m\u001b[0m\u001b[0m\n\u001b[1;32m--> 108\u001b[1;33m         \u001b[0mvrep_io\u001b[0m\u001b[1;33m.\u001b[0m\u001b[0mrestart_simulation\u001b[0m\u001b[1;33m(\u001b[0m\u001b[1;33m)\u001b[0m\u001b[1;33m\u001b[0m\u001b[0m\n\u001b[0m\u001b[0;32m    109\u001b[0m \u001b[1;33m\u001b[0m\u001b[0m\n\u001b[0;32m    110\u001b[0m         \u001b[1;32mif\u001b[0m \u001b[0mtracked_collisions\u001b[0m\u001b[1;33m:\u001b[0m\u001b[1;33m\u001b[0m\u001b[0m\n",
        "\u001b[1;32m/home/clement/Documents/Boulot/INRIA_FLOWERS/CODE/pypot.old/pypot/vrep/io.pyc\u001b[0m in \u001b[0;36mrestart_simulation\u001b[1;34m(self)\u001b[0m\n\u001b[0;32m    157\u001b[0m         \u001b[1;31m# We have to force a sleep\u001b[0m\u001b[1;33m\u001b[0m\u001b[1;33m\u001b[0m\u001b[0m\n\u001b[0;32m    158\u001b[0m         \u001b[1;31m# Otherwise the simulation is not restarted\u001b[0m\u001b[1;33m\u001b[0m\u001b[1;33m\u001b[0m\u001b[0m\n\u001b[1;32m--> 159\u001b[1;33m         \u001b[0mtime\u001b[0m\u001b[1;33m.\u001b[0m\u001b[0msleep\u001b[0m\u001b[1;33m(\u001b[0m\u001b[1;36m0.5\u001b[0m\u001b[1;33m)\u001b[0m\u001b[1;33m\u001b[0m\u001b[0m\n\u001b[0m\u001b[0;32m    160\u001b[0m         \u001b[0mself\u001b[0m\u001b[1;33m.\u001b[0m\u001b[0mstart_simulation\u001b[0m\u001b[1;33m(\u001b[0m\u001b[1;33m)\u001b[0m\u001b[1;33m\u001b[0m\u001b[0m\n\u001b[0;32m    161\u001b[0m \u001b[1;33m\u001b[0m\u001b[0m\n",
        "\u001b[1;32m/home/clement/Documents/Boulot/INRIA_FLOWERS/CODE/pypot.old/pypot/utils/pypot_time.pyc\u001b[0m in \u001b[0;36msleep\u001b[1;34m(t)\u001b[0m\n\u001b[0;32m      7\u001b[0m \u001b[1;32mdef\u001b[0m \u001b[0msleep\u001b[0m\u001b[1;33m(\u001b[0m\u001b[0mt\u001b[0m\u001b[1;33m)\u001b[0m\u001b[1;33m:\u001b[0m\u001b[1;33m\u001b[0m\u001b[0m\n\u001b[0;32m      8\u001b[0m     \u001b[1;31m# print \"CUSTOM SLEEP\"\u001b[0m\u001b[1;33m\u001b[0m\u001b[1;33m\u001b[0m\u001b[0m\n\u001b[1;32m----> 9\u001b[1;33m     \u001b[0msystem_time\u001b[0m\u001b[1;33m.\u001b[0m\u001b[0msleep\u001b[0m\u001b[1;33m(\u001b[0m\u001b[0mt\u001b[0m\u001b[1;33m)\u001b[0m\u001b[1;33m\u001b[0m\u001b[0m\n\u001b[0m",
        "\u001b[1;31mKeyboardInterrupt\u001b[0m: "
       ]
      }
     ],
     "prompt_number": 12
    },
    {
     "cell_type": "code",
     "collapsed": false,
     "input": [],
     "language": "python",
     "metadata": {},
     "outputs": []
    }
   ],
   "metadata": {}
  }
 ]
}