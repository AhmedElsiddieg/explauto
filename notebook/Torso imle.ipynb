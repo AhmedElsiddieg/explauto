{
 "metadata": {
  "name": "",
  "signature": "sha256:5ae415e3e99aa3cdb23c02f2a1b02154beb0ab6a3c43d23b9eefa4c0a38ca3cb"
 },
 "nbformat": 3,
 "nbformat_minor": 0,
 "worksheets": [
  {
   "cells": [
    {
     "cell_type": "code",
     "collapsed": true,
     "input": [
      "import sys"
     ],
     "language": "python",
     "metadata": {},
     "outputs": [],
     "prompt_number": 1
    },
    {
     "cell_type": "code",
     "collapsed": false,
     "input": [
      "cd /home/clement/Bureau/imleSource/imleSource"
     ],
     "language": "python",
     "metadata": {},
     "outputs": [
      {
       "output_type": "stream",
       "stream": "stdout",
       "text": [
        "/home/clement/Bureau/imleSource/imleSource"
       ]
      }
     ],
     "prompt_number": 2
    },
    {
     "cell_type": "code",
     "collapsed": true,
     "input": [
      "sys.path.append('./python/')\n",
      "sys.path.append('./build/lib/')"
     ],
     "language": "python",
     "metadata": {},
     "outputs": [],
     "prompt_number": 3
    },
    {
     "cell_type": "code",
     "collapsed": false,
     "input": [
      "sys.path.append('/home/clement/Documents/Boulot/INRIA_FLOWERS/CODE/im_learning/')"
     ],
     "language": "python",
     "metadata": {},
     "outputs": [],
     "prompt_number": 4
    },
    {
     "cell_type": "code",
     "collapsed": true,
     "input": [
      "sys.path.append('/home/clement/Documents/Boulot/INRIA_FLOWERS/CODE/pypot/')"
     ],
     "language": "python",
     "metadata": {},
     "outputs": [],
     "prompt_number": 5
    },
    {
     "cell_type": "code",
     "collapsed": true,
     "input": [
      "import pypot"
     ],
     "language": "python",
     "metadata": {},
     "outputs": [],
     "prompt_number": 6
    },
    {
     "cell_type": "code",
     "collapsed": false,
     "input": [
      "from skel_xp_torso import Torso"
     ],
     "language": "python",
     "metadata": {},
     "outputs": [],
     "prompt_number": 7
    },
    {
     "cell_type": "code",
     "collapsed": false,
     "input": [
      "robot = Torso(config_file='/home/clement/Documents/Boulot/INRIA_FLOWERS/CODE/im_learning/torso-linux.xml', opti_addr='193.50.110.250')"
     ],
     "language": "python",
     "metadata": {},
     "outputs": [],
     "prompt_number": 8
    },
    {
     "cell_type": "code",
     "collapsed": true,
     "input": [
      "for m in robot.robot.motors:\n",
      "    m.compliant=False"
     ],
     "language": "python",
     "metadata": {},
     "outputs": [],
     "prompt_number": 9
    },
    {
     "cell_type": "code",
     "collapsed": false,
     "input": [
      "data = vstack([load('/home/clement/Documents/Boulot/INRIA_FLOWERS/CODE/im_learning/torso-trajectoiries/record_{}.npy'.format(i)) for i in range(1, 5)])"
     ],
     "language": "python",
     "metadata": {},
     "outputs": [],
     "prompt_number": 10
    },
    {
     "cell_type": "code",
     "collapsed": true,
     "input": [
      "q_train = data[:, :7]"
     ],
     "language": "python",
     "metadata": {},
     "outputs": [],
     "prompt_number": 11
    },
    {
     "cell_type": "code",
     "collapsed": true,
     "input": [
      "pos_train = data[:, 7:]"
     ],
     "language": "python",
     "metadata": {},
     "outputs": [],
     "prompt_number": 12
    },
    {
     "cell_type": "code",
     "collapsed": false,
     "input": [
      "import imle"
     ],
     "language": "python",
     "metadata": {},
     "outputs": [],
     "prompt_number": 13
    },
    {
     "cell_type": "code",
     "collapsed": false,
     "input": [
      "model = imle.Imle(Psi0=[0.1] * 3, wPsi=100, sigma0=0.1, p0=0.3, multiValuedSignificance=0.9)"
     ],
     "language": "python",
     "metadata": {},
     "outputs": [],
     "prompt_number": 14
    },
    {
     "cell_type": "code",
     "collapsed": false,
     "input": [
      "for z, x in zip(q_train, pos_train):\n",
      "    model.update(z,x)"
     ],
     "language": "python",
     "metadata": {},
     "outputs": [],
     "prompt_number": 15
    },
    {
     "cell_type": "code",
     "collapsed": false,
     "input": [
      "robot.robot.motors"
     ],
     "language": "python",
     "metadata": {},
     "outputs": [
      {
       "metadata": {},
       "output_type": "pyout",
       "prompt_number": 21,
       "text": [
        "[<DxlMotor name=head_pan id=31 pos=2.12>,\n",
        " <DxlMotor name=head_tilt id=32 pos=-8.94>,\n",
        " <DxlMotor name=left_trunk_lift id=11 pos=-13.34>,\n",
        " <DxlMotor name=right_trunk_lift id=21 pos=-13.34>,\n",
        " <DxlMotor name=left_shoulder_pan id=12 pos=-21.9>,\n",
        " <DxlMotor name=left_shoulder_twist id=13 pos=84.31>,\n",
        " <DxlMotor name=left_shoulder_lift id=14 pos=-85.19>,\n",
        " <DxlMotor name=left_elbow_twist id=15 pos=-8.36>,\n",
        " <DxlMotor name=left_elbow_lift id=16 pos=53.52>,\n",
        " <DxlMotor name=left_wrist id=17 pos=60.77>,\n",
        " <DxlMotor name=left_hand id=18 pos=-5.26>,\n",
        " <DxlMotor name=right_shoulder_pan id=22 pos=46.03>,\n",
        " <DxlMotor name=right_shoulder_twist id=23 pos=93.11>,\n",
        " <DxlMotor name=right_shoulder_lift id=24 pos=80.79>,\n",
        " <DxlMotor name=right_elbow_twist id=25 pos=21.26>,\n",
        " <DxlMotor name=right_elbow_lift id=26 pos=-70.23>,\n",
        " <DxlMotor name=right_wrist id=27 pos=70.74>,\n",
        " <DxlMotor name=right_hand id=28 pos=-6.73>]"
       ]
      }
     ],
     "prompt_number": 21
    },
    {
     "cell_type": "code",
     "collapsed": true,
     "input": [
      "for m in robot.robot.motors:\n",
      "    m.goto_position(0.0, 1.0)"
     ],
     "language": "python",
     "metadata": {},
     "outputs": [],
     "prompt_number": 19
    },
    {
     "cell_type": "code",
     "collapsed": false,
     "input": [
      "robot.left_hand_position"
     ],
     "language": "python",
     "metadata": {},
     "outputs": [
      {
       "metadata": {},
       "output_type": "pyout",
       "prompt_number": 21,
       "text": [
        "array([ 0.141,  0.111,  0.06 ])"
       ]
      }
     ],
     "prompt_number": 21
    },
    {
     "cell_type": "code",
     "collapsed": false,
     "input": [
      "model.number_of_experts"
     ],
     "language": "python",
     "metadata": {},
     "outputs": [
      {
       "metadata": {},
       "output_type": "pyout",
       "prompt_number": 16,
       "text": [
        "18"
       ]
      }
     ],
     "prompt_number": 16
    },
    {
     "cell_type": "code",
     "collapsed": false,
     "input": [
      "print model.predict(q_train[0])"
     ],
     "language": "python",
     "metadata": {},
     "outputs": [
      {
       "output_type": "stream",
       "stream": "stdout",
       "text": [
        "[ 0.103  0.035  0.047]"
       ]
      }
     ],
     "prompt_number": 17
    },
    {
     "cell_type": "code",
     "collapsed": false,
     "input": [
      "pos_train[0]"
     ],
     "language": "python",
     "metadata": {},
     "outputs": [
      {
       "metadata": {},
       "output_type": "pyout",
       "prompt_number": 18,
       "text": [
        "array([ 0.101,  0.039,  0.053])"
       ]
      }
     ],
     "prompt_number": 18
    },
    {
     "cell_type": "code",
     "collapsed": false,
     "input": [
      "import pypot.primitive\n",
      "import time\n",
      "\n",
      "class Follow(pypot.primitive.LoopPrimitive):\n",
      "    def __init__(self, robot, freq, torso, model):\n",
      "        pypot.primitive.LoopPrimitive.__init__(self, robot, freq)\n",
      "        \n",
      "        self.torso = torso\n",
      "        self.model = model\n",
      "        \n",
      "    def update(self):\n",
      "        target = self.torso.goal_position\n",
      "        \n",
      "        q = self.model.predict_inverse(target)[0]\n",
      "        if self.model.getPredictionWeight[0]!=max(self.model.getPredictionWeight):\n",
      "            print 'Warning'\n",
      "            print self.model.getPredictionWeight[0], max(self.model.getPredictionWeight)\n",
      "        q = rad2deg(q)\n",
      "        \n",
      "        self.torso.goto(q, 'right', 0.3, wait=True)\n",
      "        time.sleep(0.2)\n",
      "        self.model.update(q, self.torso.right_hand_position)"
     ],
     "language": "python",
     "metadata": {},
     "outputs": [],
     "prompt_number": 20
    },
    {
     "cell_type": "code",
     "collapsed": true,
     "input": [
      "prim = Follow(robot.robot, 3, robot, model)"
     ],
     "language": "python",
     "metadata": {},
     "outputs": [],
     "prompt_number": 21
    },
    {
     "cell_type": "code",
     "collapsed": false,
     "input": [
      "prim.start()"
     ],
     "language": "python",
     "metadata": {},
     "outputs": [
      {
       "output_type": "stream",
       "stream": "stdout",
       "text": [
        "Warning\n",
        "[0.947855345907501, 0.04465409590011896, 3.5e-323, 4.301e-320, 2.1198947538039477, -0.1481964165347376, 0.05336089640023952, -0.037936162450663814, -0.06401503997001197, 0.10134322438014073, -0.04732981285373335, -0.14819641653473759, 0.08179013150967251, -0.01602855844365776, 0.024665113824763767, 0.03501608912241637, -0.02537631104308212, 0.0063688518812830925, 0.05336089640023952]\n",
        "Warning"
       ]
      },
      {
       "output_type": "stream",
       "stream": "stdout",
       "text": [
        "\n",
        "[0.9471990106917987, 0.04531509221178447, 3.5e-323, 4.301e-320, 2.1165109843270393, -0.14795986587109847, 0.053275721901752934, -0.03787560886500054, -0.06391285936037326, 0.10118146063751453, -0.047254265152228414, -0.14795986587109847, 0.08165957835366412, -0.016002973708036727, 0.02462574344604334, 0.03496019654880605, -0.025335805453552247, 0.006358685939525765, 0.053275721901752934]\n",
        "Warning"
       ]
      },
      {
       "output_type": "stream",
       "stream": "stdout",
       "text": [
        "\n",
        "[0.9465147053268377, 0.04600550051220958, 3.5e-323, 4.301e-320, -0.181085597382934, 0.10017092269534245, 0.05674261887396532, 0.09065172328789001, 0.06348251424027401, 0.002747652416051637, 0.007539012828313943, -0.08073380475684959, 0.2659694360275622, 1.1152993062896006, 0.714607032488956, 0.05234665457853392, -1.0445792886958791, 1.0561999489174232, -0.08671896058910544]\n",
        "Warning"
       ]
      },
      {
       "output_type": "stream",
       "stream": "stderr",
       "text": [
        "Exception in thread Thread-5:\n",
        "Traceback (most recent call last):\n",
        "  File \"/usr/lib/python2.7/threading.py\", line 551, in __bootstrap_inner\n",
        "    self.run()\n",
        "  File \"/usr/lib/python2.7/threading.py\", line 504, in run\n",
        "    self.__target(*self.__args, **self.__kwargs)\n",
        "  File \"/home/clement/Documents/Boulot/INRIA_FLOWERS/CODE/pypot/pypot/primitive/primitive.py\", line 54, in _wrapped_run\n",
        "    self.run(*self.args, **self.kwargs)\n",
        "  File \"/home/clement/Documents/Boulot/INRIA_FLOWERS/CODE/pypot/pypot/primitive/primitive.py\", line 151, in run\n",
        "    self.update(*self.args, **self.kwargs)\n",
        "  File \"<ipython-input-20-860b3e70844d>\", line 14, in update\n",
        "    q = self.model.predict_inverse(target)[0]\n",
        "  File \"./python/imle.py\", line 40, in predict_inverse\n",
        "    return numpy.array(self._delegate.predict_inverse(list(x)))\n",
        "RuntimeError: Error in function boost::math::chi_squared_distribution<d>::chi_squared_distribution: Degrees of freedom argument is nan, but must be > 0 !\n",
        "\n",
        "WARNING:root:timeout occured in motors 27 after sending DxlInstructionPacket(id=27, instruction=2, parameters=(36, 6))"
       ]
      },
      {
       "output_type": "stream",
       "stream": "stderr",
       "text": [
        "WARNING:root:timeout occured in motors 31 after sending DxlInstructionPacket(id=31, instruction=2, parameters=(36, 6))"
       ]
      },
      {
       "output_type": "stream",
       "stream": "stderr",
       "text": [
        "WARNING:root:timeout occured in motors 31 after sending DxlInstructionPacket(id=31, instruction=2, parameters=(36, 6))"
       ]
      },
      {
       "output_type": "stream",
       "stream": "stderr",
       "text": [
        "WARNING:root:timeout occured in motors 31 after sending DxlInstructionPacket(id=31, instruction=2, parameters=(36, 6))"
       ]
      },
      {
       "output_type": "stream",
       "stream": "stderr",
       "text": [
        "WARNING:root:timeout occured in motors 31 after sending DxlInstructionPacket(id=31, instruction=2, parameters=(36, 6))"
       ]
      },
      {
       "output_type": "stream",
       "stream": "stderr",
       "text": [
        "WARNING:root:timeout occured in motors 31 after sending DxlInstructionPacket(id=31, instruction=2, parameters=(36, 6))"
       ]
      },
      {
       "output_type": "stream",
       "stream": "stderr",
       "text": [
        "WARNING:root:timeout occured in motors 31 after sending DxlInstructionPacket(id=31, instruction=2, parameters=(36, 6))"
       ]
      },
      {
       "output_type": "stream",
       "stream": "stderr",
       "text": [
        "WARNING:root:timeout occured in motors 31 after sending DxlInstructionPacket(id=31, instruction=2, parameters=(36, 6))"
       ]
      },
      {
       "output_type": "stream",
       "stream": "stderr",
       "text": [
        "WARNING:root:timeout occured in motors 31 after sending DxlInstructionPacket(id=31, instruction=2, parameters=(36, 6))"
       ]
      },
      {
       "output_type": "stream",
       "stream": "stderr",
       "text": [
        "WARNING:root:timeout occured in motors 31 after sending DxlInstructionPacket(id=31, instruction=2, parameters=(6, 4))"
       ]
      },
      {
       "output_type": "stream",
       "stream": "stderr",
       "text": [
        "WARNING:root:timeout occured in motors 31 after sending DxlInstructionPacket(id=31, instruction=2, parameters=(42, 1))"
       ]
      },
      {
       "output_type": "stream",
       "stream": "stderr",
       "text": [
        "WARNING:root:timeout occured in motors 31 after sending DxlInstructionPacket(id=31, instruction=2, parameters=(36, 6))"
       ]
      },
      {
       "output_type": "stream",
       "stream": "stderr",
       "text": [
        "WARNING:root:timeout occured in motors 31 after sending DxlInstructionPacket(id=31, instruction=2, parameters=(43, 1))"
       ]
      },
      {
       "output_type": "stream",
       "stream": "stderr",
       "text": [
        "WARNING:root:timeout occured in motors 31 after sending DxlInstructionPacket(id=31, instruction=2, parameters=(36, 6))"
       ]
      },
      {
       "output_type": "stream",
       "stream": "stderr",
       "text": [
        "WARNING:root:timeout occured in motors 31 after sending DxlInstructionPacket(id=31, instruction=2, parameters=(36, 6))"
       ]
      },
      {
       "output_type": "stream",
       "stream": "stderr",
       "text": [
        "WARNING:root:timeout occured in motors 31 after sending DxlInstructionPacket(id=31, instruction=2, parameters=(36, 6))"
       ]
      },
      {
       "output_type": "stream",
       "stream": "stderr",
       "text": [
        "WARNING:root:timeout occured in motors 31 after sending DxlInstructionPacket(id=31, instruction=2, parameters=(36, 6))"
       ]
      },
      {
       "output_type": "stream",
       "stream": "stderr",
       "text": [
        "WARNING:root:timeout occured in motors 31 after sending DxlInstructionPacket(id=31, instruction=2, parameters=(36, 6))"
       ]
      },
      {
       "output_type": "stream",
       "stream": "stderr",
       "text": [
        "WARNING:root:timeout occured in motors 31 after sending DxlInstructionPacket(id=31, instruction=2, parameters=(36, 6))"
       ]
      },
      {
       "output_type": "stream",
       "stream": "stderr",
       "text": [
        "WARNING:root:timeout occured in motors 31 after sending DxlInstructionPacket(id=31, instruction=2, parameters=(36, 6))"
       ]
      },
      {
       "output_type": "stream",
       "stream": "stderr",
       "text": [
        "WARNING:root:timeout occured in motors 31 after sending DxlInstructionPacket(id=31, instruction=2, parameters=(36, 6))"
       ]
      },
      {
       "output_type": "stream",
       "stream": "stderr",
       "text": [
        "WARNING:root:timeout occured in motors 31 after sending DxlInstructionPacket(id=31, instruction=2, parameters=(36, 6))"
       ]
      },
      {
       "output_type": "stream",
       "stream": "stderr",
       "text": [
        "WARNING:root:timeout occured in motors 31 after sending DxlInstructionPacket(id=31, instruction=2, parameters=(36, 6))"
       ]
      },
      {
       "output_type": "stream",
       "stream": "stderr",
       "text": [
        "WARNING:root:timeout occured in motors 31 after sending DxlInstructionPacket(id=31, instruction=2, parameters=(36, 6))"
       ]
      },
      {
       "output_type": "stream",
       "stream": "stderr",
       "text": [
        "WARNING:root:timeout occured in motors 31 after sending DxlInstructionPacket(id=31, instruction=2, parameters=(36, 6))"
       ]
      },
      {
       "output_type": "stream",
       "stream": "stderr",
       "text": [
        "WARNING:root:timeout occured in motors 31 after sending DxlInstructionPacket(id=31, instruction=2, parameters=(36, 6))"
       ]
      },
      {
       "output_type": "stream",
       "stream": "stderr",
       "text": [
        "WARNING:root:timeout occured in motors 31 after sending DxlInstructionPacket(id=31, instruction=2, parameters=(36, 6))"
       ]
      },
      {
       "output_type": "stream",
       "stream": "stderr",
       "text": [
        "WARNING:root:timeout occured in motors 31 after sending DxlInstructionPacket(id=31, instruction=2, parameters=(36, 6))"
       ]
      },
      {
       "output_type": "stream",
       "stream": "stderr",
       "text": [
        "WARNING:root:timeout occured in motors 31 after sending DxlInstructionPacket(id=31, instruction=2, parameters=(6, 4))"
       ]
      },
      {
       "output_type": "stream",
       "stream": "stderr",
       "text": [
        "WARNING:root:timeout occured in motors 31 after sending DxlInstructionPacket(id=31, instruction=2, parameters=(42, 1))"
       ]
      },
      {
       "output_type": "stream",
       "stream": "stderr",
       "text": [
        "WARNING:root:timeout occured in motors 31 after sending DxlInstructionPacket(id=31, instruction=2, parameters=(36, 6))"
       ]
      },
      {
       "output_type": "stream",
       "stream": "stderr",
       "text": [
        "WARNING:root:timeout occured in motors 31 after sending DxlInstructionPacket(id=31, instruction=2, parameters=(43, 1))"
       ]
      },
      {
       "output_type": "stream",
       "stream": "stderr",
       "text": [
        "WARNING:root:timeout occured in motors 31 after sending DxlInstructionPacket(id=31, instruction=2, parameters=(36, 6))"
       ]
      },
      {
       "output_type": "stream",
       "stream": "stderr",
       "text": [
        "WARNING:root:timeout occured in motors 31 after sending DxlInstructionPacket(id=31, instruction=2, parameters=(36, 6))"
       ]
      },
      {
       "output_type": "stream",
       "stream": "stderr",
       "text": [
        "WARNING:root:timeout occured in motors 31 after sending DxlInstructionPacket(id=31, instruction=2, parameters=(36, 6))"
       ]
      },
      {
       "output_type": "stream",
       "stream": "stderr",
       "text": [
        "WARNING:root:timeout occured in motors 31 after sending DxlInstructionPacket(id=31, instruction=2, parameters=(36, 6))"
       ]
      },
      {
       "output_type": "stream",
       "stream": "stderr",
       "text": [
        "WARNING:root:timeout occured in motors 31 after sending DxlInstructionPacket(id=31, instruction=2, parameters=(36, 6))"
       ]
      },
      {
       "output_type": "stream",
       "stream": "stderr",
       "text": [
        "WARNING:root:timeout occured in motors 31 after sending DxlInstructionPacket(id=31, instruction=2, parameters=(36, 6))"
       ]
      },
      {
       "output_type": "stream",
       "stream": "stderr",
       "text": [
        "WARNING:root:timeout occured in motors 31 after sending DxlInstructionPacket(id=31, instruction=2, parameters=(36, 6))"
       ]
      },
      {
       "output_type": "stream",
       "stream": "stderr",
       "text": [
        "WARNING:root:timeout occured in motors 31 after sending DxlInstructionPacket(id=31, instruction=2, parameters=(36, 6))"
       ]
      },
      {
       "output_type": "stream",
       "stream": "stderr",
       "text": [
        "WARNING:root:timeout occured in motors 31 after sending DxlInstructionPacket(id=31, instruction=2, parameters=(36, 6))"
       ]
      },
      {
       "output_type": "stream",
       "stream": "stderr",
       "text": [
        "WARNING:root:timeout occured in motors 31 after sending DxlInstructionPacket(id=31, instruction=2, parameters=(36, 6))"
       ]
      },
      {
       "output_type": "stream",
       "stream": "stderr",
       "text": [
        "WARNING:root:timeout occured in motors 31 after sending DxlInstructionPacket(id=31, instruction=2, parameters=(36, 6))"
       ]
      },
      {
       "output_type": "stream",
       "stream": "stderr",
       "text": [
        "WARNING:root:timeout occured in motors 31 after sending DxlInstructionPacket(id=31, instruction=2, parameters=(36, 6))"
       ]
      },
      {
       "output_type": "stream",
       "stream": "stderr",
       "text": [
        "WARNING:root:timeout occured in motors 31 after sending DxlInstructionPacket(id=31, instruction=2, parameters=(36, 6))"
       ]
      },
      {
       "output_type": "stream",
       "stream": "stderr",
       "text": [
        "WARNING:root:timeout occured in motors 31 after sending DxlInstructionPacket(id=31, instruction=2, parameters=(36, 6))"
       ]
      },
      {
       "output_type": "stream",
       "stream": "stderr",
       "text": [
        "WARNING:root:timeout occured in motors 31 after sending DxlInstructionPacket(id=31, instruction=2, parameters=(6, 4))"
       ]
      },
      {
       "output_type": "stream",
       "stream": "stderr",
       "text": [
        "WARNING:root:timeout occured in motors 31 after sending DxlInstructionPacket(id=31, instruction=2, parameters=(36, 6))"
       ]
      },
      {
       "output_type": "stream",
       "stream": "stderr",
       "text": [
        "WARNING:root:timeout occured in motors 31 after sending DxlInstructionPacket(id=31, instruction=2, parameters=(42, 1))"
       ]
      },
      {
       "output_type": "stream",
       "stream": "stderr",
       "text": [
        "WARNING:root:timeout occured in motors 31 after sending DxlInstructionPacket(id=31, instruction=2, parameters=(43, 1))"
       ]
      },
      {
       "output_type": "stream",
       "stream": "stderr",
       "text": [
        "WARNING:root:timeout occured in motors 31 after sending DxlInstructionPacket(id=31, instruction=2, parameters=(36, 6))"
       ]
      },
      {
       "output_type": "stream",
       "stream": "stderr",
       "text": [
        "WARNING:root:timeout occured in motors 31 after sending DxlInstructionPacket(id=31, instruction=2, parameters=(36, 6))"
       ]
      },
      {
       "output_type": "stream",
       "stream": "stderr",
       "text": [
        "WARNING:root:timeout occured in motors 31 after sending DxlInstructionPacket(id=31, instruction=2, parameters=(36, 6))"
       ]
      },
      {
       "output_type": "stream",
       "stream": "stderr",
       "text": [
        "WARNING:root:timeout occured in motors 31 after sending DxlInstructionPacket(id=31, instruction=2, parameters=(36, 6))"
       ]
      },
      {
       "output_type": "stream",
       "stream": "stderr",
       "text": [
        "WARNING:root:timeout occured in motors 31 after sending DxlInstructionPacket(id=31, instruction=2, parameters=(36, 6))"
       ]
      },
      {
       "output_type": "stream",
       "stream": "stderr",
       "text": [
        "WARNING:root:timeout occured in motors 31 after sending DxlInstructionPacket(id=31, instruction=2, parameters=(36, 6))"
       ]
      },
      {
       "output_type": "stream",
       "stream": "stderr",
       "text": [
        "WARNING:root:timeout occured in motors 31 after sending DxlInstructionPacket(id=31, instruction=2, parameters=(36, 6))"
       ]
      },
      {
       "output_type": "stream",
       "stream": "stderr",
       "text": [
        "WARNING:root:timeout occured in motors 31 after sending DxlInstructionPacket(id=31, instruction=2, parameters=(36, 6))"
       ]
      },
      {
       "output_type": "stream",
       "stream": "stderr",
       "text": [
        "WARNING:root:timeout occured in motors 31 after sending DxlInstructionPacket(id=31, instruction=2, parameters=(36, 6))"
       ]
      },
      {
       "output_type": "stream",
       "stream": "stderr",
       "text": [
        "WARNING:root:timeout occured in motors 31 after sending DxlInstructionPacket(id=31, instruction=2, parameters=(36, 6))"
       ]
      },
      {
       "output_type": "stream",
       "stream": "stderr",
       "text": [
        "WARNING:root:timeout occured in motors 31 after sending DxlInstructionPacket(id=31, instruction=2, parameters=(36, 6))"
       ]
      },
      {
       "output_type": "stream",
       "stream": "stderr",
       "text": [
        "WARNING:root:timeout occured in motors 31 after sending DxlInstructionPacket(id=31, instruction=2, parameters=(36, 6))"
       ]
      },
      {
       "output_type": "stream",
       "stream": "stderr",
       "text": [
        "WARNING:root:timeout occured in motors 31 after sending DxlInstructionPacket(id=31, instruction=2, parameters=(36, 6))"
       ]
      },
      {
       "output_type": "stream",
       "stream": "stderr",
       "text": [
        "WARNING:root:timeout occured in motors 31 after sending DxlInstructionPacket(id=31, instruction=2, parameters=(36, 6))"
       ]
      },
      {
       "output_type": "stream",
       "stream": "stderr",
       "text": [
        "WARNING:root:timeout occured in motors 31 after sending DxlInstructionPacket(id=31, instruction=2, parameters=(36, 6))"
       ]
      },
      {
       "output_type": "stream",
       "stream": "stderr",
       "text": [
        "WARNING:root:timeout occured in motors 31 after sending DxlInstructionPacket(id=31, instruction=2, parameters=(6, 4))"
       ]
      },
      {
       "output_type": "stream",
       "stream": "stderr",
       "text": [
        "WARNING:root:timeout occured in motors 31 after sending DxlInstructionPacket(id=31, instruction=2, parameters=(36, 6))"
       ]
      },
      {
       "output_type": "stream",
       "stream": "stderr",
       "text": [
        "WARNING:root:timeout occured in motors 31 after sending DxlInstructionPacket(id=31, instruction=2, parameters=(42, 1))"
       ]
      },
      {
       "output_type": "stream",
       "stream": "stderr",
       "text": [
        "WARNING:root:timeout occured in motors 31 after sending DxlInstructionPacket(id=31, instruction=2, parameters=(43, 1))"
       ]
      },
      {
       "output_type": "stream",
       "stream": "stderr",
       "text": [
        "WARNING:root:timeout occured in motors 31 after sending DxlInstructionPacket(id=31, instruction=2, parameters=(36, 6))"
       ]
      },
      {
       "output_type": "stream",
       "stream": "stderr",
       "text": [
        "WARNING:root:timeout occured in motors 31 after sending DxlInstructionPacket(id=31, instruction=2, parameters=(36, 6))"
       ]
      },
      {
       "output_type": "stream",
       "stream": "stderr",
       "text": [
        "WARNING:root:timeout occured in motors 31 after sending DxlInstructionPacket(id=31, instruction=2, parameters=(36, 6))"
       ]
      },
      {
       "output_type": "stream",
       "stream": "stderr",
       "text": [
        "WARNING:root:timeout occured in motors 31 after sending DxlInstructionPacket(id=31, instruction=2, parameters=(36, 6))"
       ]
      },
      {
       "output_type": "stream",
       "stream": "stderr",
       "text": [
        "WARNING:root:timeout occured in motors 31 after sending DxlInstructionPacket(id=31, instruction=2, parameters=(36, 6))"
       ]
      },
      {
       "output_type": "stream",
       "stream": "stderr",
       "text": [
        "WARNING:root:timeout occured in motors 31 after sending DxlInstructionPacket(id=31, instruction=2, parameters=(36, 6))"
       ]
      },
      {
       "output_type": "stream",
       "stream": "stderr",
       "text": [
        "WARNING:root:timeout occured in motors 31 after sending DxlInstructionPacket(id=31, instruction=2, parameters=(36, 6))"
       ]
      },
      {
       "output_type": "stream",
       "stream": "stderr",
       "text": [
        "WARNING:root:timeout occured in motors 31 after sending DxlInstructionPacket(id=31, instruction=2, parameters=(36, 6))"
       ]
      },
      {
       "output_type": "stream",
       "stream": "stderr",
       "text": [
        "WARNING:root:timeout occured in motors 31 after sending DxlInstructionPacket(id=31, instruction=2, parameters=(36, 6))"
       ]
      },
      {
       "output_type": "stream",
       "stream": "stderr",
       "text": [
        "WARNING:root:timeout occured in motors 31 after sending DxlInstructionPacket(id=31, instruction=2, parameters=(36, 6))"
       ]
      },
      {
       "output_type": "stream",
       "stream": "stderr",
       "text": [
        "WARNING:root:timeout occured in motors 31 after sending DxlInstructionPacket(id=31, instruction=2, parameters=(36, 6))"
       ]
      },
      {
       "output_type": "stream",
       "stream": "stderr",
       "text": [
        "WARNING:root:timeout occured in motors 31 after sending DxlInstructionPacket(id=31, instruction=2, parameters=(36, 6))"
       ]
      },
      {
       "output_type": "stream",
       "stream": "stderr",
       "text": [
        "WARNING:root:timeout occured in motors 31 after sending DxlInstructionPacket(id=31, instruction=2, parameters=(36, 6))"
       ]
      },
      {
       "output_type": "stream",
       "stream": "stderr",
       "text": [
        "WARNING:root:timeout occured in motors 31 after sending DxlInstructionPacket(id=31, instruction=2, parameters=(36, 6))"
       ]
      },
      {
       "output_type": "stream",
       "stream": "stderr",
       "text": [
        "WARNING:root:timeout occured in motors 31 after sending DxlInstructionPacket(id=31, instruction=2, parameters=(36, 6))"
       ]
      },
      {
       "output_type": "stream",
       "stream": "stderr",
       "text": [
        "WARNING:root:timeout occured in motors 31 after sending DxlInstructionPacket(id=31, instruction=2, parameters=(6, 4))"
       ]
      },
      {
       "output_type": "stream",
       "stream": "stderr",
       "text": [
        "WARNING:root:timeout occured in motors 31 after sending DxlInstructionPacket(id=31, instruction=2, parameters=(36, 6))"
       ]
      },
      {
       "output_type": "stream",
       "stream": "stderr",
       "text": [
        "WARNING:root:timeout occured in motors 31 after sending DxlInstructionPacket(id=31, instruction=2, parameters=(42, 1))"
       ]
      },
      {
       "output_type": "stream",
       "stream": "stderr",
       "text": [
        "WARNING:root:timeout occured in motors 31 after sending DxlInstructionPacket(id=31, instruction=2, parameters=(43, 1))"
       ]
      },
      {
       "output_type": "stream",
       "stream": "stderr",
       "text": [
        "WARNING:root:timeout occured in motors 31 after sending DxlInstructionPacket(id=31, instruction=2, parameters=(36, 6))"
       ]
      },
      {
       "output_type": "stream",
       "stream": "stderr",
       "text": [
        "WARNING:root:timeout occured in motors 31 after sending DxlInstructionPacket(id=31, instruction=2, parameters=(36, 6))"
       ]
      },
      {
       "output_type": "stream",
       "stream": "stderr",
       "text": [
        "WARNING:root:timeout occured in motors 31 after sending DxlInstructionPacket(id=31, instruction=2, parameters=(36, 6))"
       ]
      },
      {
       "output_type": "stream",
       "stream": "stderr",
       "text": [
        "WARNING:root:timeout occured in motors 31 after sending DxlInstructionPacket(id=31, instruction=2, parameters=(36, 6))"
       ]
      },
      {
       "output_type": "stream",
       "stream": "stderr",
       "text": [
        "WARNING:root:timeout occured in motors 31 after sending DxlInstructionPacket(id=31, instruction=2, parameters=(36, 6))"
       ]
      },
      {
       "output_type": "stream",
       "stream": "stderr",
       "text": [
        "WARNING:root:timeout occured in motors 31 after sending DxlInstructionPacket(id=31, instruction=2, parameters=(36, 6))"
       ]
      },
      {
       "output_type": "stream",
       "stream": "stderr",
       "text": [
        "WARNING:root:timeout occured in motors 31 after sending DxlInstructionPacket(id=31, instruction=2, parameters=(36, 6))"
       ]
      },
      {
       "output_type": "stream",
       "stream": "stderr",
       "text": [
        "WARNING:root:timeout occured in motors 31 after sending DxlInstructionPacket(id=31, instruction=2, parameters=(36, 6))"
       ]
      },
      {
       "output_type": "stream",
       "stream": "stderr",
       "text": [
        "WARNING:root:timeout occured in motors 31 after sending DxlInstructionPacket(id=31, instruction=2, parameters=(36, 6))"
       ]
      },
      {
       "output_type": "stream",
       "stream": "stderr",
       "text": [
        "WARNING:root:timeout occured in motors 31 after sending DxlInstructionPacket(id=31, instruction=2, parameters=(36, 6))"
       ]
      },
      {
       "output_type": "stream",
       "stream": "stderr",
       "text": [
        "WARNING:root:timeout occured in motors 31 after sending DxlInstructionPacket(id=31, instruction=2, parameters=(36, 6))"
       ]
      },
      {
       "output_type": "stream",
       "stream": "stderr",
       "text": [
        "WARNING:root:timeout occured in motors 31 after sending DxlInstructionPacket(id=31, instruction=2, parameters=(36, 6))"
       ]
      },
      {
       "output_type": "stream",
       "stream": "stderr",
       "text": [
        "WARNING:root:timeout occured in motors 31 after sending DxlInstructionPacket(id=31, instruction=2, parameters=(36, 6))"
       ]
      },
      {
       "output_type": "stream",
       "stream": "stderr",
       "text": [
        "WARNING:root:timeout occured in motors 31 after sending DxlInstructionPacket(id=31, instruction=2, parameters=(36, 6))"
       ]
      },
      {
       "output_type": "stream",
       "stream": "stderr",
       "text": [
        "WARNING:root:timeout occured in motors 31 after sending DxlInstructionPacket(id=31, instruction=2, parameters=(36, 6))"
       ]
      },
      {
       "output_type": "stream",
       "stream": "stderr",
       "text": [
        "WARNING:root:timeout occured in motors 31 after sending DxlInstructionPacket(id=31, instruction=2, parameters=(6, 4))"
       ]
      },
      {
       "output_type": "stream",
       "stream": "stderr",
       "text": [
        "WARNING:root:timeout occured in motors 31 after sending DxlInstructionPacket(id=31, instruction=2, parameters=(36, 6))"
       ]
      },
      {
       "output_type": "stream",
       "stream": "stderr",
       "text": [
        "WARNING:root:timeout occured in motors 31 after sending DxlInstructionPacket(id=31, instruction=2, parameters=(42, 1))"
       ]
      },
      {
       "output_type": "stream",
       "stream": "stderr",
       "text": [
        "WARNING:root:timeout occured in motors 31 after sending DxlInstructionPacket(id=31, instruction=2, parameters=(43, 1))"
       ]
      },
      {
       "output_type": "stream",
       "stream": "stderr",
       "text": [
        "WARNING:root:timeout occured in motors 31 after sending DxlInstructionPacket(id=31, instruction=2, parameters=(36, 6))"
       ]
      },
      {
       "output_type": "stream",
       "stream": "stderr",
       "text": [
        "WARNING:root:timeout occured in motors 31 after sending DxlInstructionPacket(id=31, instruction=2, parameters=(36, 6))"
       ]
      },
      {
       "output_type": "stream",
       "stream": "stderr",
       "text": [
        "WARNING:root:timeout occured in motors 31 after sending DxlInstructionPacket(id=31, instruction=2, parameters=(36, 6))"
       ]
      },
      {
       "output_type": "stream",
       "stream": "stderr",
       "text": [
        "WARNING:root:timeout occured in motors 31 after sending DxlInstructionPacket(id=31, instruction=2, parameters=(36, 6))"
       ]
      },
      {
       "output_type": "stream",
       "stream": "stderr",
       "text": [
        "WARNING:root:timeout occured in motors 31 after sending DxlInstructionPacket(id=31, instruction=2, parameters=(36, 6))"
       ]
      },
      {
       "output_type": "stream",
       "stream": "stderr",
       "text": [
        "WARNING:root:timeout occured in motors 31 after sending DxlInstructionPacket(id=31, instruction=2, parameters=(36, 6))"
       ]
      },
      {
       "output_type": "stream",
       "stream": "stderr",
       "text": [
        "WARNING:root:timeout occured in motors 31 after sending DxlInstructionPacket(id=31, instruction=2, parameters=(36, 6))"
       ]
      },
      {
       "output_type": "stream",
       "stream": "stderr",
       "text": [
        "WARNING:root:timeout occured in motors 31 after sending DxlInstructionPacket(id=31, instruction=2, parameters=(36, 6))"
       ]
      },
      {
       "output_type": "stream",
       "stream": "stderr",
       "text": [
        "WARNING:root:timeout occured in motors 31 after sending DxlInstructionPacket(id=31, instruction=2, parameters=(36, 6))"
       ]
      },
      {
       "output_type": "stream",
       "stream": "stderr",
       "text": [
        "WARNING:root:timeout occured in motors 31 after sending DxlInstructionPacket(id=31, instruction=2, parameters=(36, 6))"
       ]
      },
      {
       "output_type": "stream",
       "stream": "stderr",
       "text": [
        "WARNING:root:timeout occured in motors 31 after sending DxlInstructionPacket(id=31, instruction=2, parameters=(36, 6))"
       ]
      },
      {
       "output_type": "stream",
       "stream": "stderr",
       "text": [
        "WARNING:root:timeout occured in motors 31 after sending DxlInstructionPacket(id=31, instruction=2, parameters=(36, 6))"
       ]
      },
      {
       "output_type": "stream",
       "stream": "stderr",
       "text": [
        "WARNING:root:timeout occured in motors 31 after sending DxlInstructionPacket(id=31, instruction=2, parameters=(36, 6))"
       ]
      },
      {
       "output_type": "stream",
       "stream": "stderr",
       "text": [
        "WARNING:root:timeout occured in motors 31 after sending DxlInstructionPacket(id=31, instruction=2, parameters=(36, 6))"
       ]
      },
      {
       "output_type": "stream",
       "stream": "stderr",
       "text": [
        "WARNING:root:timeout occured in motors 31 after sending DxlInstructionPacket(id=31, instruction=2, parameters=(36, 6))"
       ]
      },
      {
       "output_type": "stream",
       "stream": "stderr",
       "text": [
        "WARNING:root:timeout occured in motors 31 after sending DxlInstructionPacket(id=31, instruction=2, parameters=(6, 4))"
       ]
      },
      {
       "output_type": "stream",
       "stream": "stderr",
       "text": [
        "WARNING:root:timeout occured in motors 31 after sending DxlInstructionPacket(id=31, instruction=2, parameters=(36, 6))"
       ]
      },
      {
       "output_type": "stream",
       "stream": "stderr",
       "text": [
        "WARNING:root:timeout occured in motors 31 after sending DxlInstructionPacket(id=31, instruction=2, parameters=(42, 1))"
       ]
      },
      {
       "output_type": "stream",
       "stream": "stderr",
       "text": [
        "WARNING:root:timeout occured in motors 31 after sending DxlInstructionPacket(id=31, instruction=2, parameters=(43, 1))"
       ]
      },
      {
       "output_type": "stream",
       "stream": "stderr",
       "text": [
        "WARNING:root:timeout occured in motors 31 after sending DxlInstructionPacket(id=31, instruction=2, parameters=(36, 6))"
       ]
      },
      {
       "output_type": "stream",
       "stream": "stderr",
       "text": [
        "WARNING:root:timeout occured in motors 31 after sending DxlInstructionPacket(id=31, instruction=2, parameters=(36, 6))"
       ]
      },
      {
       "output_type": "stream",
       "stream": "stderr",
       "text": [
        "WARNING:root:timeout occured in motors 31 after sending DxlInstructionPacket(id=31, instruction=2, parameters=(36, 6))"
       ]
      },
      {
       "output_type": "stream",
       "stream": "stderr",
       "text": [
        "WARNING:root:timeout occured in motors 31 after sending DxlInstructionPacket(id=31, instruction=2, parameters=(36, 6))"
       ]
      },
      {
       "output_type": "stream",
       "stream": "stderr",
       "text": [
        "WARNING:root:timeout occured in motors 31 after sending DxlInstructionPacket(id=31, instruction=2, parameters=(36, 6))"
       ]
      },
      {
       "output_type": "stream",
       "stream": "stderr",
       "text": [
        "WARNING:root:timeout occured in motors 31 after sending DxlInstructionPacket(id=31, instruction=2, parameters=(36, 6))"
       ]
      },
      {
       "output_type": "stream",
       "stream": "stderr",
       "text": [
        "WARNING:root:timeout occured in motors 31 after sending DxlInstructionPacket(id=31, instruction=2, parameters=(36, 6))"
       ]
      },
      {
       "output_type": "stream",
       "stream": "stderr",
       "text": [
        "WARNING:root:timeout occured in motors 31 after sending DxlInstructionPacket(id=31, instruction=2, parameters=(36, 6))"
       ]
      },
      {
       "output_type": "stream",
       "stream": "stderr",
       "text": [
        "WARNING:root:timeout occured in motors 31 after sending DxlInstructionPacket(id=31, instruction=2, parameters=(36, 6))"
       ]
      },
      {
       "output_type": "stream",
       "stream": "stderr",
       "text": [
        "WARNING:root:timeout occured in motors 31 after sending DxlInstructionPacket(id=31, instruction=2, parameters=(36, 6))"
       ]
      },
      {
       "output_type": "stream",
       "stream": "stderr",
       "text": [
        "WARNING:root:timeout occured in motors 31 after sending DxlInstructionPacket(id=31, instruction=2, parameters=(36, 6))"
       ]
      },
      {
       "output_type": "stream",
       "stream": "stderr",
       "text": [
        "WARNING:root:timeout occured in motors 31 after sending DxlInstructionPacket(id=31, instruction=2, parameters=(36, 6))"
       ]
      },
      {
       "output_type": "stream",
       "stream": "stderr",
       "text": [
        "WARNING:root:timeout occured in motors 31 after sending DxlInstructionPacket(id=31, instruction=2, parameters=(36, 6))"
       ]
      },
      {
       "output_type": "stream",
       "stream": "stderr",
       "text": [
        "WARNING:root:timeout occured in motors 31 after sending DxlInstructionPacket(id=31, instruction=2, parameters=(36, 6))"
       ]
      },
      {
       "output_type": "stream",
       "stream": "stderr",
       "text": [
        "WARNING:root:timeout occured in motors 31 after sending DxlInstructionPacket(id=31, instruction=2, parameters=(36, 6))"
       ]
      },
      {
       "output_type": "stream",
       "stream": "stderr",
       "text": [
        "WARNING:root:timeout occured in motors 31 after sending DxlInstructionPacket(id=31, instruction=2, parameters=(6, 4))"
       ]
      },
      {
       "output_type": "stream",
       "stream": "stderr",
       "text": [
        "WARNING:root:timeout occured in motors 31 after sending DxlInstructionPacket(id=31, instruction=2, parameters=(42, 1))"
       ]
      },
      {
       "output_type": "stream",
       "stream": "stderr",
       "text": [
        "WARNING:root:timeout occured in motors 31 after sending DxlInstructionPacket(id=31, instruction=2, parameters=(36, 6))"
       ]
      },
      {
       "output_type": "stream",
       "stream": "stderr",
       "text": [
        "WARNING:root:timeout occured in motors 31 after sending DxlInstructionPacket(id=31, instruction=2, parameters=(43, 1))"
       ]
      },
      {
       "output_type": "stream",
       "stream": "stderr",
       "text": [
        "WARNING:root:timeout occured in motors 31 after sending DxlInstructionPacket(id=31, instruction=2, parameters=(36, 6))"
       ]
      },
      {
       "output_type": "stream",
       "stream": "stderr",
       "text": [
        "WARNING:root:timeout occured in motors 31 after sending DxlInstructionPacket(id=31, instruction=2, parameters=(36, 6))"
       ]
      },
      {
       "output_type": "stream",
       "stream": "stderr",
       "text": [
        "WARNING:root:timeout occured in motors 31 after sending DxlInstructionPacket(id=31, instruction=2, parameters=(36, 6))"
       ]
      },
      {
       "output_type": "stream",
       "stream": "stderr",
       "text": [
        "WARNING:root:timeout occured in motors 31 after sending DxlInstructionPacket(id=31, instruction=2, parameters=(36, 6))"
       ]
      },
      {
       "output_type": "stream",
       "stream": "stderr",
       "text": [
        "WARNING:root:timeout occured in motors 31 after sending DxlInstructionPacket(id=31, instruction=2, parameters=(36, 6))"
       ]
      },
      {
       "output_type": "stream",
       "stream": "stderr",
       "text": [
        "WARNING:root:timeout occured in motors 31 after sending DxlInstructionPacket(id=31, instruction=2, parameters=(36, 6))"
       ]
      },
      {
       "output_type": "stream",
       "stream": "stderr",
       "text": [
        "WARNING:root:timeout occured in motors 31 after sending DxlInstructionPacket(id=31, instruction=2, parameters=(36, 6))"
       ]
      },
      {
       "output_type": "stream",
       "stream": "stderr",
       "text": [
        "WARNING:root:timeout occured in motors 31 after sending DxlInstructionPacket(id=31, instruction=2, parameters=(36, 6))"
       ]
      },
      {
       "output_type": "stream",
       "stream": "stderr",
       "text": [
        "WARNING:root:timeout occured in motors 31 after sending DxlInstructionPacket(id=31, instruction=2, parameters=(36, 6))"
       ]
      },
      {
       "output_type": "stream",
       "stream": "stderr",
       "text": [
        "WARNING:root:timeout occured in motors 31 after sending DxlInstructionPacket(id=31, instruction=2, parameters=(36, 6))"
       ]
      },
      {
       "output_type": "stream",
       "stream": "stderr",
       "text": [
        "WARNING:root:timeout occured in motors 31 after sending DxlInstructionPacket(id=31, instruction=2, parameters=(36, 6))"
       ]
      },
      {
       "output_type": "stream",
       "stream": "stderr",
       "text": [
        "WARNING:root:timeout occured in motors 31 after sending DxlInstructionPacket(id=31, instruction=2, parameters=(36, 6))"
       ]
      },
      {
       "output_type": "stream",
       "stream": "stderr",
       "text": [
        "WARNING:root:timeout occured in motors 31 after sending DxlInstructionPacket(id=31, instruction=2, parameters=(36, 6))"
       ]
      },
      {
       "output_type": "stream",
       "stream": "stderr",
       "text": [
        "WARNING:root:timeout occured in motors 31 after sending DxlInstructionPacket(id=31, instruction=2, parameters=(36, 6))"
       ]
      },
      {
       "output_type": "stream",
       "stream": "stderr",
       "text": [
        "WARNING:root:timeout occured in motors 31 after sending DxlInstructionPacket(id=31, instruction=2, parameters=(36, 6))"
       ]
      },
      {
       "output_type": "stream",
       "stream": "stderr",
       "text": [
        "WARNING:root:timeout occured in motors 31 after sending DxlInstructionPacket(id=31, instruction=2, parameters=(6, 4))"
       ]
      },
      {
       "output_type": "stream",
       "stream": "stderr",
       "text": [
        "WARNING:root:timeout occured in motors 31 after sending DxlInstructionPacket(id=31, instruction=2, parameters=(42, 1))"
       ]
      },
      {
       "output_type": "stream",
       "stream": "stderr",
       "text": [
        "WARNING:root:timeout occured in motors 31 after sending DxlInstructionPacket(id=31, instruction=2, parameters=(36, 6))"
       ]
      },
      {
       "output_type": "stream",
       "stream": "stderr",
       "text": [
        "WARNING:root:timeout occured in motors 31 after sending DxlInstructionPacket(id=31, instruction=2, parameters=(43, 1))"
       ]
      },
      {
       "output_type": "stream",
       "stream": "stderr",
       "text": [
        "WARNING:root:timeout occured in motors 31 after sending DxlInstructionPacket(id=31, instruction=2, parameters=(36, 6))"
       ]
      },
      {
       "output_type": "stream",
       "stream": "stderr",
       "text": [
        "WARNING:root:timeout occured in motors 31 after sending DxlInstructionPacket(id=31, instruction=2, parameters=(36, 6))"
       ]
      },
      {
       "output_type": "stream",
       "stream": "stderr",
       "text": [
        "WARNING:root:timeout occured in motors 31 after sending DxlInstructionPacket(id=31, instruction=2, parameters=(36, 6))"
       ]
      },
      {
       "output_type": "stream",
       "stream": "stderr",
       "text": [
        "WARNING:root:timeout occured in motors 31 after sending DxlInstructionPacket(id=31, instruction=2, parameters=(36, 6))"
       ]
      },
      {
       "output_type": "stream",
       "stream": "stderr",
       "text": [
        "WARNING:root:timeout occured in motors 31 after sending DxlInstructionPacket(id=31, instruction=2, parameters=(36, 6))"
       ]
      },
      {
       "output_type": "stream",
       "stream": "stderr",
       "text": [
        "WARNING:root:timeout occured in motors 31 after sending DxlInstructionPacket(id=31, instruction=2, parameters=(36, 6))"
       ]
      },
      {
       "output_type": "stream",
       "stream": "stderr",
       "text": [
        "WARNING:root:timeout occured in motors 31 after sending DxlInstructionPacket(id=31, instruction=2, parameters=(36, 6))"
       ]
      },
      {
       "output_type": "stream",
       "stream": "stderr",
       "text": [
        "WARNING:root:timeout occured in motors 31 after sending DxlInstructionPacket(id=31, instruction=2, parameters=(36, 6))"
       ]
      },
      {
       "output_type": "stream",
       "stream": "stderr",
       "text": [
        "WARNING:root:timeout occured in motors 31 after sending DxlInstructionPacket(id=31, instruction=2, parameters=(36, 6))"
       ]
      },
      {
       "output_type": "stream",
       "stream": "stderr",
       "text": [
        "WARNING:root:timeout occured in motors 31 after sending DxlInstructionPacket(id=31, instruction=2, parameters=(36, 6))"
       ]
      },
      {
       "output_type": "stream",
       "stream": "stderr",
       "text": [
        "WARNING:root:timeout occured in motors 31 after sending DxlInstructionPacket(id=31, instruction=2, parameters=(36, 6))"
       ]
      },
      {
       "output_type": "stream",
       "stream": "stderr",
       "text": [
        "WARNING:root:timeout occured in motors 31 after sending DxlInstructionPacket(id=31, instruction=2, parameters=(36, 6))"
       ]
      },
      {
       "output_type": "stream",
       "stream": "stderr",
       "text": [
        "WARNING:root:timeout occured in motors 31 after sending DxlInstructionPacket(id=31, instruction=2, parameters=(36, 6))"
       ]
      },
      {
       "output_type": "stream",
       "stream": "stderr",
       "text": [
        "WARNING:root:timeout occured in motors 31 after sending DxlInstructionPacket(id=31, instruction=2, parameters=(36, 6))"
       ]
      },
      {
       "output_type": "stream",
       "stream": "stderr",
       "text": [
        "WARNING:root:timeout occured in motors 31 after sending DxlInstructionPacket(id=31, instruction=2, parameters=(36, 6))"
       ]
      },
      {
       "output_type": "stream",
       "stream": "stderr",
       "text": [
        "WARNING:root:timeout occured in motors 31 after sending DxlInstructionPacket(id=31, instruction=2, parameters=(6, 4))"
       ]
      },
      {
       "output_type": "stream",
       "stream": "stderr",
       "text": [
        "WARNING:root:timeout occured in motors 31 after sending DxlInstructionPacket(id=31, instruction=2, parameters=(42, 1))"
       ]
      },
      {
       "output_type": "stream",
       "stream": "stderr",
       "text": [
        "WARNING:root:timeout occured in motors 31 after sending DxlInstructionPacket(id=31, instruction=2, parameters=(36, 6))"
       ]
      },
      {
       "output_type": "stream",
       "stream": "stderr",
       "text": [
        "WARNING:root:timeout occured in motors 31 after sending DxlInstructionPacket(id=31, instruction=2, parameters=(43, 1))"
       ]
      },
      {
       "output_type": "stream",
       "stream": "stderr",
       "text": [
        "WARNING:root:timeout occured in motors 31 after sending DxlInstructionPacket(id=31, instruction=2, parameters=(36, 6))"
       ]
      },
      {
       "output_type": "stream",
       "stream": "stderr",
       "text": [
        "WARNING:root:timeout occured in motors 31 after sending DxlInstructionPacket(id=31, instruction=2, parameters=(36, 6))"
       ]
      },
      {
       "output_type": "stream",
       "stream": "stderr",
       "text": [
        "WARNING:root:timeout occured in motors 31 after sending DxlInstructionPacket(id=31, instruction=2, parameters=(36, 6))"
       ]
      },
      {
       "output_type": "stream",
       "stream": "stderr",
       "text": [
        "WARNING:root:timeout occured in motors 31 after sending DxlInstructionPacket(id=31, instruction=2, parameters=(36, 6))"
       ]
      },
      {
       "output_type": "stream",
       "stream": "stderr",
       "text": [
        "WARNING:root:timeout occured in motors 31 after sending DxlInstructionPacket(id=31, instruction=2, parameters=(36, 6))"
       ]
      },
      {
       "output_type": "stream",
       "stream": "stderr",
       "text": [
        "WARNING:root:timeout occured in motors 31 after sending DxlInstructionPacket(id=31, instruction=2, parameters=(36, 6))"
       ]
      },
      {
       "output_type": "stream",
       "stream": "stderr",
       "text": [
        "WARNING:root:timeout occured in motors 31 after sending DxlInstructionPacket(id=31, instruction=2, parameters=(36, 6))"
       ]
      },
      {
       "output_type": "stream",
       "stream": "stderr",
       "text": [
        "WARNING:root:timeout occured in motors 31 after sending DxlInstructionPacket(id=31, instruction=2, parameters=(36, 6))"
       ]
      },
      {
       "output_type": "stream",
       "stream": "stderr",
       "text": [
        "WARNING:root:timeout occured in motors 31 after sending DxlInstructionPacket(id=31, instruction=2, parameters=(36, 6))"
       ]
      },
      {
       "output_type": "stream",
       "stream": "stderr",
       "text": [
        "WARNING:root:timeout occured in motors 31 after sending DxlInstructionPacket(id=31, instruction=2, parameters=(36, 6))"
       ]
      },
      {
       "output_type": "stream",
       "stream": "stderr",
       "text": [
        "WARNING:root:timeout occured in motors 31 after sending DxlInstructionPacket(id=31, instruction=2, parameters=(36, 6))"
       ]
      },
      {
       "output_type": "stream",
       "stream": "stderr",
       "text": [
        "WARNING:root:timeout occured in motors 31 after sending DxlInstructionPacket(id=31, instruction=2, parameters=(36, 6))"
       ]
      },
      {
       "output_type": "stream",
       "stream": "stderr",
       "text": [
        "WARNING:root:timeout occured in motors 31 after sending DxlInstructionPacket(id=31, instruction=2, parameters=(36, 6))"
       ]
      },
      {
       "output_type": "stream",
       "stream": "stderr",
       "text": [
        "WARNING:root:timeout occured in motors 31 after sending DxlInstructionPacket(id=31, instruction=2, parameters=(36, 6))"
       ]
      },
      {
       "output_type": "stream",
       "stream": "stderr",
       "text": [
        "WARNING:root:timeout occured in motors 31 after sending DxlInstructionPacket(id=31, instruction=2, parameters=(6, 4))"
       ]
      },
      {
       "output_type": "stream",
       "stream": "stderr",
       "text": [
        "WARNING:root:timeout occured in motors 31 after sending DxlInstructionPacket(id=31, instruction=2, parameters=(36, 6))"
       ]
      },
      {
       "output_type": "stream",
       "stream": "stderr",
       "text": [
        "WARNING:root:timeout occured in motors 31 after sending DxlInstructionPacket(id=31, instruction=2, parameters=(42, 1))"
       ]
      },
      {
       "output_type": "stream",
       "stream": "stderr",
       "text": [
        "WARNING:root:timeout occured in motors 31 after sending DxlInstructionPacket(id=31, instruction=2, parameters=(43, 1))"
       ]
      },
      {
       "output_type": "stream",
       "stream": "stderr",
       "text": [
        "WARNING:root:timeout occured in motors 31 after sending DxlInstructionPacket(id=31, instruction=2, parameters=(36, 6))"
       ]
      },
      {
       "output_type": "stream",
       "stream": "stderr",
       "text": [
        "WARNING:root:timeout occured in motors 31 after sending DxlInstructionPacket(id=31, instruction=2, parameters=(36, 6))"
       ]
      },
      {
       "output_type": "stream",
       "stream": "stderr",
       "text": [
        "WARNING:root:timeout occured in motors 31 after sending DxlInstructionPacket(id=31, instruction=2, parameters=(36, 6))"
       ]
      },
      {
       "output_type": "stream",
       "stream": "stderr",
       "text": [
        "WARNING:root:timeout occured in motors 31 after sending DxlInstructionPacket(id=31, instruction=2, parameters=(36, 6))"
       ]
      },
      {
       "output_type": "stream",
       "stream": "stderr",
       "text": [
        "WARNING:root:timeout occured in motors 31 after sending DxlInstructionPacket(id=31, instruction=2, parameters=(36, 6))"
       ]
      },
      {
       "output_type": "stream",
       "stream": "stderr",
       "text": [
        "WARNING:root:timeout occured in motors 31 after sending DxlInstructionPacket(id=31, instruction=2, parameters=(36, 6))"
       ]
      },
      {
       "output_type": "stream",
       "stream": "stderr",
       "text": [
        "WARNING:root:timeout occured in motors 31 after sending DxlInstructionPacket(id=31, instruction=2, parameters=(36, 6))"
       ]
      },
      {
       "output_type": "stream",
       "stream": "stderr",
       "text": [
        "WARNING:root:timeout occured in motors 31 after sending DxlInstructionPacket(id=31, instruction=2, parameters=(36, 6))"
       ]
      },
      {
       "output_type": "stream",
       "stream": "stderr",
       "text": [
        "WARNING:root:timeout occured in motors 31 after sending DxlInstructionPacket(id=31, instruction=2, parameters=(36, 6))"
       ]
      },
      {
       "output_type": "stream",
       "stream": "stderr",
       "text": [
        "WARNING:root:timeout occured in motors 31 after sending DxlInstructionPacket(id=31, instruction=2, parameters=(36, 6))"
       ]
      },
      {
       "output_type": "stream",
       "stream": "stderr",
       "text": [
        "WARNING:root:timeout occured in motors 31 after sending DxlInstructionPacket(id=31, instruction=2, parameters=(36, 6))"
       ]
      },
      {
       "output_type": "stream",
       "stream": "stderr",
       "text": [
        "WARNING:root:timeout occured in motors 31 after sending DxlInstructionPacket(id=31, instruction=2, parameters=(36, 6))"
       ]
      },
      {
       "output_type": "stream",
       "stream": "stderr",
       "text": [
        "WARNING:root:timeout occured in motors 31 after sending DxlInstructionPacket(id=31, instruction=2, parameters=(36, 6))"
       ]
      },
      {
       "output_type": "stream",
       "stream": "stderr",
       "text": [
        "WARNING:root:timeout occured in motors 31 after sending DxlInstructionPacket(id=31, instruction=2, parameters=(36, 6))"
       ]
      },
      {
       "output_type": "stream",
       "stream": "stderr",
       "text": [
        "WARNING:root:timeout occured in motors 31 after sending DxlInstructionPacket(id=31, instruction=2, parameters=(36, 6))"
       ]
      },
      {
       "output_type": "stream",
       "stream": "stderr",
       "text": [
        "WARNING:root:timeout occured in motors 31 after sending DxlInstructionPacket(id=31, instruction=2, parameters=(6, 4))"
       ]
      },
      {
       "output_type": "stream",
       "stream": "stderr",
       "text": [
        "WARNING:root:timeout occured in motors 31 after sending DxlInstructionPacket(id=31, instruction=2, parameters=(36, 6))"
       ]
      },
      {
       "output_type": "stream",
       "stream": "stderr",
       "text": [
        "WARNING:root:timeout occured in motors 31 after sending DxlInstructionPacket(id=31, instruction=2, parameters=(42, 1))"
       ]
      },
      {
       "output_type": "stream",
       "stream": "stderr",
       "text": [
        "WARNING:root:timeout occured in motors 31 after sending DxlInstructionPacket(id=31, instruction=2, parameters=(43, 1))"
       ]
      },
      {
       "output_type": "stream",
       "stream": "stderr",
       "text": [
        "WARNING:root:timeout occured in motors 31 after sending DxlInstructionPacket(id=31, instruction=2, parameters=(36, 6))"
       ]
      },
      {
       "output_type": "stream",
       "stream": "stderr",
       "text": [
        "WARNING:root:timeout occured in motors 31 after sending DxlInstructionPacket(id=31, instruction=2, parameters=(36, 6))"
       ]
      },
      {
       "output_type": "stream",
       "stream": "stderr",
       "text": [
        "WARNING:root:timeout occured in motors 31 after sending DxlInstructionPacket(id=31, instruction=2, parameters=(36, 6))"
       ]
      },
      {
       "output_type": "stream",
       "stream": "stderr",
       "text": [
        "WARNING:root:timeout occured in motors 31 after sending DxlInstructionPacket(id=31, instruction=2, parameters=(36, 6))"
       ]
      },
      {
       "output_type": "stream",
       "stream": "stderr",
       "text": [
        "WARNING:root:timeout occured in motors 31 after sending DxlInstructionPacket(id=31, instruction=2, parameters=(36, 6))"
       ]
      },
      {
       "output_type": "stream",
       "stream": "stderr",
       "text": [
        "WARNING:root:timeout occured in motors 31 after sending DxlInstructionPacket(id=31, instruction=2, parameters=(36, 6))"
       ]
      },
      {
       "output_type": "stream",
       "stream": "stderr",
       "text": [
        "WARNING:root:timeout occured in motors 31 after sending DxlInstructionPacket(id=31, instruction=2, parameters=(36, 6))"
       ]
      },
      {
       "output_type": "stream",
       "stream": "stderr",
       "text": [
        "WARNING:root:timeout occured in motors 31 after sending DxlInstructionPacket(id=31, instruction=2, parameters=(36, 6))"
       ]
      },
      {
       "output_type": "stream",
       "stream": "stderr",
       "text": [
        "WARNING:root:timeout occured in motors 31 after sending DxlInstructionPacket(id=31, instruction=2, parameters=(36, 6))"
       ]
      },
      {
       "output_type": "stream",
       "stream": "stderr",
       "text": [
        "WARNING:root:timeout occured in motors 31 after sending DxlInstructionPacket(id=31, instruction=2, parameters=(36, 6))"
       ]
      },
      {
       "output_type": "stream",
       "stream": "stderr",
       "text": [
        "WARNING:root:timeout occured in motors 31 after sending DxlInstructionPacket(id=31, instruction=2, parameters=(36, 6))"
       ]
      },
      {
       "output_type": "stream",
       "stream": "stderr",
       "text": [
        "WARNING:root:timeout occured in motors 31 after sending DxlInstructionPacket(id=31, instruction=2, parameters=(36, 6))"
       ]
      },
      {
       "output_type": "stream",
       "stream": "stderr",
       "text": [
        "WARNING:root:timeout occured in motors 31 after sending DxlInstructionPacket(id=31, instruction=2, parameters=(36, 6))"
       ]
      },
      {
       "output_type": "stream",
       "stream": "stderr",
       "text": [
        "WARNING:root:timeout occured in motors 31 after sending DxlInstructionPacket(id=31, instruction=2, parameters=(36, 6))"
       ]
      },
      {
       "output_type": "stream",
       "stream": "stderr",
       "text": [
        "WARNING:root:timeout occured in motors 31 after sending DxlInstructionPacket(id=31, instruction=2, parameters=(36, 6))"
       ]
      },
      {
       "output_type": "stream",
       "stream": "stderr",
       "text": [
        "WARNING:root:timeout occured in motors 31 after sending DxlInstructionPacket(id=31, instruction=2, parameters=(6, 4))"
       ]
      },
      {
       "output_type": "stream",
       "stream": "stderr",
       "text": [
        "WARNING:root:timeout occured in motors 31 after sending DxlInstructionPacket(id=31, instruction=2, parameters=(36, 6))"
       ]
      },
      {
       "output_type": "stream",
       "stream": "stderr",
       "text": [
        "WARNING:root:timeout occured in motors 31 after sending DxlInstructionPacket(id=31, instruction=2, parameters=(42, 1))"
       ]
      },
      {
       "output_type": "stream",
       "stream": "stderr",
       "text": [
        "WARNING:root:timeout occured in motors 31 after sending DxlInstructionPacket(id=31, instruction=2, parameters=(43, 1))"
       ]
      },
      {
       "output_type": "stream",
       "stream": "stderr",
       "text": [
        "WARNING:root:timeout occured in motors 31 after sending DxlInstructionPacket(id=31, instruction=2, parameters=(36, 6))"
       ]
      },
      {
       "output_type": "stream",
       "stream": "stderr",
       "text": [
        "WARNING:root:timeout occured in motors 31 after sending DxlInstructionPacket(id=31, instruction=2, parameters=(36, 6))"
       ]
      },
      {
       "output_type": "stream",
       "stream": "stderr",
       "text": [
        "WARNING:root:timeout occured in motors 31 after sending DxlInstructionPacket(id=31, instruction=2, parameters=(36, 6))"
       ]
      },
      {
       "output_type": "stream",
       "stream": "stderr",
       "text": [
        "WARNING:root:timeout occured in motors 31 after sending DxlInstructionPacket(id=31, instruction=2, parameters=(36, 6))"
       ]
      },
      {
       "output_type": "stream",
       "stream": "stderr",
       "text": [
        "WARNING:root:timeout occured in motors 31 after sending DxlInstructionPacket(id=31, instruction=2, parameters=(36, 6))"
       ]
      },
      {
       "output_type": "stream",
       "stream": "stderr",
       "text": [
        "WARNING:root:timeout occured in motors 31 after sending DxlInstructionPacket(id=31, instruction=2, parameters=(36, 6))"
       ]
      },
      {
       "output_type": "stream",
       "stream": "stderr",
       "text": [
        "WARNING:root:timeout occured in motors 31 after sending DxlInstructionPacket(id=31, instruction=2, parameters=(36, 6))"
       ]
      },
      {
       "output_type": "stream",
       "stream": "stderr",
       "text": [
        "WARNING:root:timeout occured in motors 31 after sending DxlInstructionPacket(id=31, instruction=2, parameters=(36, 6))"
       ]
      },
      {
       "output_type": "stream",
       "stream": "stderr",
       "text": [
        "WARNING:root:timeout occured in motors 31 after sending DxlInstructionPacket(id=31, instruction=2, parameters=(36, 6))"
       ]
      },
      {
       "output_type": "stream",
       "stream": "stderr",
       "text": [
        "WARNING:root:timeout occured in motors 31 after sending DxlInstructionPacket(id=31, instruction=2, parameters=(36, 6))"
       ]
      },
      {
       "output_type": "stream",
       "stream": "stderr",
       "text": [
        "WARNING:root:timeout occured in motors 31 after sending DxlInstructionPacket(id=31, instruction=2, parameters=(36, 6))"
       ]
      },
      {
       "output_type": "stream",
       "stream": "stderr",
       "text": [
        "WARNING:root:timeout occured in motors 31 after sending DxlInstructionPacket(id=31, instruction=2, parameters=(36, 6))"
       ]
      },
      {
       "output_type": "stream",
       "stream": "stderr",
       "text": [
        "WARNING:root:timeout occured in motors 31 after sending DxlInstructionPacket(id=31, instruction=2, parameters=(36, 6))"
       ]
      },
      {
       "output_type": "stream",
       "stream": "stderr",
       "text": [
        "WARNING:root:timeout occured in motors 31 after sending DxlInstructionPacket(id=31, instruction=2, parameters=(36, 6))"
       ]
      },
      {
       "output_type": "stream",
       "stream": "stderr",
       "text": [
        "WARNING:root:timeout occured in motors 31 after sending DxlInstructionPacket(id=31, instruction=2, parameters=(36, 6))"
       ]
      },
      {
       "output_type": "stream",
       "stream": "stderr",
       "text": [
        "WARNING:root:timeout occured in motors 31 after sending DxlInstructionPacket(id=31, instruction=2, parameters=(6, 4))"
       ]
      },
      {
       "output_type": "stream",
       "stream": "stderr",
       "text": [
        "WARNING:root:timeout occured in motors 31 after sending DxlInstructionPacket(id=31, instruction=2, parameters=(36, 6))"
       ]
      },
      {
       "output_type": "stream",
       "stream": "stderr",
       "text": [
        "WARNING:root:timeout occured in motors 31 after sending DxlInstructionPacket(id=31, instruction=2, parameters=(42, 1))"
       ]
      },
      {
       "output_type": "stream",
       "stream": "stderr",
       "text": [
        "WARNING:root:timeout occured in motors 31 after sending DxlInstructionPacket(id=31, instruction=2, parameters=(43, 1))"
       ]
      },
      {
       "output_type": "stream",
       "stream": "stderr",
       "text": [
        "WARNING:root:timeout occured in motors 31 after sending DxlInstructionPacket(id=31, instruction=2, parameters=(36, 6))"
       ]
      },
      {
       "output_type": "stream",
       "stream": "stderr",
       "text": [
        "WARNING:root:timeout occured in motors 31 after sending DxlInstructionPacket(id=31, instruction=2, parameters=(36, 6))"
       ]
      },
      {
       "output_type": "stream",
       "stream": "stderr",
       "text": [
        "WARNING:root:timeout occured in motors 31 after sending DxlInstructionPacket(id=31, instruction=2, parameters=(36, 6))"
       ]
      },
      {
       "output_type": "stream",
       "stream": "stderr",
       "text": [
        "WARNING:root:timeout occured in motors 31 after sending DxlInstructionPacket(id=31, instruction=2, parameters=(36, 6))"
       ]
      },
      {
       "output_type": "stream",
       "stream": "stderr",
       "text": [
        "WARNING:root:timeout occured in motors 31 after sending DxlInstructionPacket(id=31, instruction=2, parameters=(36, 6))"
       ]
      },
      {
       "output_type": "stream",
       "stream": "stderr",
       "text": [
        "WARNING:root:timeout occured in motors 31 after sending DxlInstructionPacket(id=31, instruction=2, parameters=(36, 6))"
       ]
      },
      {
       "output_type": "stream",
       "stream": "stderr",
       "text": [
        "WARNING:root:timeout occured in motors 31 after sending DxlInstructionPacket(id=31, instruction=2, parameters=(36, 6))"
       ]
      },
      {
       "output_type": "stream",
       "stream": "stderr",
       "text": [
        "WARNING:root:timeout occured in motors 31 after sending DxlInstructionPacket(id=31, instruction=2, parameters=(36, 6))"
       ]
      },
      {
       "output_type": "stream",
       "stream": "stderr",
       "text": [
        "WARNING:root:timeout occured in motors 31 after sending DxlInstructionPacket(id=31, instruction=2, parameters=(36, 6))"
       ]
      },
      {
       "output_type": "stream",
       "stream": "stderr",
       "text": [
        "WARNING:root:timeout occured in motors 31 after sending DxlInstructionPacket(id=31, instruction=2, parameters=(36, 6))"
       ]
      },
      {
       "output_type": "stream",
       "stream": "stderr",
       "text": [
        "WARNING:root:timeout occured in motors 31 after sending DxlInstructionPacket(id=31, instruction=2, parameters=(36, 6))"
       ]
      },
      {
       "output_type": "stream",
       "stream": "stderr",
       "text": [
        "WARNING:root:timeout occured in motors 31 after sending DxlInstructionPacket(id=31, instruction=2, parameters=(36, 6))"
       ]
      },
      {
       "output_type": "stream",
       "stream": "stderr",
       "text": [
        "WARNING:root:timeout occured in motors 31 after sending DxlInstructionPacket(id=31, instruction=2, parameters=(36, 6))"
       ]
      },
      {
       "output_type": "stream",
       "stream": "stderr",
       "text": [
        "WARNING:root:timeout occured in motors 31 after sending DxlInstructionPacket(id=31, instruction=2, parameters=(36, 6))"
       ]
      },
      {
       "output_type": "stream",
       "stream": "stderr",
       "text": [
        "WARNING:root:timeout occured in motors 31 after sending DxlInstructionPacket(id=31, instruction=2, parameters=(36, 6))"
       ]
      },
      {
       "output_type": "stream",
       "stream": "stderr",
       "text": [
        "WARNING:root:timeout occured in motors 31 after sending DxlInstructionPacket(id=31, instruction=2, parameters=(6, 4))"
       ]
      },
      {
       "output_type": "stream",
       "stream": "stderr",
       "text": [
        "WARNING:root:timeout occured in motors 31 after sending DxlInstructionPacket(id=31, instruction=2, parameters=(36, 6))"
       ]
      },
      {
       "output_type": "stream",
       "stream": "stderr",
       "text": [
        "WARNING:root:timeout occured in motors 31 after sending DxlInstructionPacket(id=31, instruction=2, parameters=(42, 1))"
       ]
      },
      {
       "output_type": "stream",
       "stream": "stderr",
       "text": [
        "WARNING:root:timeout occured in motors 31 after sending DxlInstructionPacket(id=31, instruction=2, parameters=(43, 1))"
       ]
      },
      {
       "output_type": "stream",
       "stream": "stderr",
       "text": [
        "WARNING:root:timeout occured in motors 31 after sending DxlInstructionPacket(id=31, instruction=2, parameters=(36, 6))"
       ]
      },
      {
       "output_type": "stream",
       "stream": "stderr",
       "text": [
        "WARNING:root:timeout occured in motors 31 after sending DxlInstructionPacket(id=31, instruction=2, parameters=(36, 6))"
       ]
      },
      {
       "output_type": "stream",
       "stream": "stderr",
       "text": [
        "WARNING:root:timeout occured in motors 31 after sending DxlInstructionPacket(id=31, instruction=2, parameters=(36, 6))"
       ]
      },
      {
       "output_type": "stream",
       "stream": "stderr",
       "text": [
        "WARNING:root:timeout occured in motors 31 after sending DxlInstructionPacket(id=31, instruction=2, parameters=(36, 6))"
       ]
      },
      {
       "output_type": "stream",
       "stream": "stderr",
       "text": [
        "WARNING:root:timeout occured in motors 31 after sending DxlInstructionPacket(id=31, instruction=2, parameters=(36, 6))"
       ]
      },
      {
       "output_type": "stream",
       "stream": "stderr",
       "text": [
        "WARNING:root:timeout occured in motors 31 after sending DxlInstructionPacket(id=31, instruction=2, parameters=(36, 6))"
       ]
      },
      {
       "output_type": "stream",
       "stream": "stderr",
       "text": [
        "WARNING:root:timeout occured in motors 31 after sending DxlInstructionPacket(id=31, instruction=2, parameters=(36, 6))"
       ]
      },
      {
       "output_type": "stream",
       "stream": "stderr",
       "text": [
        "WARNING:root:timeout occured in motors 31 after sending DxlInstructionPacket(id=31, instruction=2, parameters=(36, 6))"
       ]
      },
      {
       "output_type": "stream",
       "stream": "stderr",
       "text": [
        "WARNING:root:timeout occured in motors 31 after sending DxlInstructionPacket(id=31, instruction=2, parameters=(36, 6))"
       ]
      },
      {
       "output_type": "stream",
       "stream": "stderr",
       "text": [
        "WARNING:root:timeout occured in motors 31 after sending DxlInstructionPacket(id=31, instruction=2, parameters=(36, 6))"
       ]
      },
      {
       "output_type": "stream",
       "stream": "stderr",
       "text": [
        "WARNING:root:timeout occured in motors 31 after sending DxlInstructionPacket(id=31, instruction=2, parameters=(36, 6))"
       ]
      },
      {
       "output_type": "stream",
       "stream": "stderr",
       "text": [
        "WARNING:root:timeout occured in motors 31 after sending DxlInstructionPacket(id=31, instruction=2, parameters=(36, 6))"
       ]
      },
      {
       "output_type": "stream",
       "stream": "stderr",
       "text": [
        "WARNING:root:timeout occured in motors 31 after sending DxlInstructionPacket(id=31, instruction=2, parameters=(36, 6))"
       ]
      },
      {
       "output_type": "stream",
       "stream": "stderr",
       "text": [
        "WARNING:root:timeout occured in motors 31 after sending DxlInstructionPacket(id=31, instruction=2, parameters=(36, 6))"
       ]
      },
      {
       "output_type": "stream",
       "stream": "stderr",
       "text": [
        "WARNING:root:timeout occured in motors 31 after sending DxlInstructionPacket(id=31, instruction=2, parameters=(36, 6))"
       ]
      },
      {
       "output_type": "stream",
       "stream": "stderr",
       "text": [
        "WARNING:root:timeout occured in motors 31 after sending DxlInstructionPacket(id=31, instruction=2, parameters=(6, 4))"
       ]
      },
      {
       "output_type": "stream",
       "stream": "stderr",
       "text": [
        "WARNING:root:timeout occured in motors 31 after sending DxlInstructionPacket(id=31, instruction=2, parameters=(36, 6))"
       ]
      },
      {
       "output_type": "stream",
       "stream": "stderr",
       "text": [
        "WARNING:root:timeout occured in motors 31 after sending DxlInstructionPacket(id=31, instruction=2, parameters=(42, 1))"
       ]
      },
      {
       "output_type": "stream",
       "stream": "stderr",
       "text": [
        "WARNING:root:timeout occured in motors 31 after sending DxlInstructionPacket(id=31, instruction=2, parameters=(43, 1))"
       ]
      },
      {
       "output_type": "stream",
       "stream": "stderr",
       "text": [
        "WARNING:root:timeout occured in motors 31 after sending DxlInstructionPacket(id=31, instruction=2, parameters=(36, 6))"
       ]
      },
      {
       "output_type": "stream",
       "stream": "stderr",
       "text": [
        "WARNING:root:timeout occured in motors 31 after sending DxlInstructionPacket(id=31, instruction=2, parameters=(36, 6))"
       ]
      },
      {
       "output_type": "stream",
       "stream": "stderr",
       "text": [
        "WARNING:root:timeout occured in motors 31 after sending DxlInstructionPacket(id=31, instruction=2, parameters=(36, 6))"
       ]
      },
      {
       "output_type": "stream",
       "stream": "stderr",
       "text": [
        "WARNING:root:timeout occured in motors 31 after sending DxlInstructionPacket(id=31, instruction=2, parameters=(36, 6))"
       ]
      },
      {
       "output_type": "stream",
       "stream": "stderr",
       "text": [
        "WARNING:root:timeout occured in motors 31 after sending DxlInstructionPacket(id=31, instruction=2, parameters=(36, 6))"
       ]
      },
      {
       "output_type": "stream",
       "stream": "stderr",
       "text": [
        "WARNING:root:timeout occured in motors 31 after sending DxlInstructionPacket(id=31, instruction=2, parameters=(36, 6))"
       ]
      },
      {
       "output_type": "stream",
       "stream": "stderr",
       "text": [
        "WARNING:root:timeout occured in motors 31 after sending DxlInstructionPacket(id=31, instruction=2, parameters=(36, 6))"
       ]
      },
      {
       "output_type": "stream",
       "stream": "stderr",
       "text": [
        "WARNING:root:timeout occured in motors 31 after sending DxlInstructionPacket(id=31, instruction=2, parameters=(36, 6))"
       ]
      },
      {
       "output_type": "stream",
       "stream": "stderr",
       "text": [
        "WARNING:root:timeout occured in motors 31 after sending DxlInstructionPacket(id=31, instruction=2, parameters=(36, 6))"
       ]
      },
      {
       "output_type": "stream",
       "stream": "stderr",
       "text": [
        "WARNING:root:timeout occured in motors 31 after sending DxlInstructionPacket(id=31, instruction=2, parameters=(36, 6))"
       ]
      },
      {
       "output_type": "stream",
       "stream": "stderr",
       "text": [
        "WARNING:root:timeout occured in motors 31 after sending DxlInstructionPacket(id=31, instruction=2, parameters=(36, 6))"
       ]
      },
      {
       "output_type": "stream",
       "stream": "stderr",
       "text": [
        "WARNING:root:timeout occured in motors 31 after sending DxlInstructionPacket(id=31, instruction=2, parameters=(36, 6))"
       ]
      },
      {
       "output_type": "stream",
       "stream": "stderr",
       "text": [
        "WARNING:root:timeout occured in motors 31 after sending DxlInstructionPacket(id=31, instruction=2, parameters=(36, 6))"
       ]
      },
      {
       "output_type": "stream",
       "stream": "stderr",
       "text": [
        "WARNING:root:timeout occured in motors 31 after sending DxlInstructionPacket(id=31, instruction=2, parameters=(36, 6))"
       ]
      },
      {
       "output_type": "stream",
       "stream": "stderr",
       "text": [
        "WARNING:root:timeout occured in motors 31 after sending DxlInstructionPacket(id=31, instruction=2, parameters=(36, 6))"
       ]
      },
      {
       "output_type": "stream",
       "stream": "stderr",
       "text": [
        "WARNING:root:timeout occured in motors 31 after sending DxlInstructionPacket(id=31, instruction=2, parameters=(6, 4))"
       ]
      },
      {
       "output_type": "stream",
       "stream": "stderr",
       "text": [
        "WARNING:root:timeout occured in motors 31 after sending DxlInstructionPacket(id=31, instruction=2, parameters=(36, 6))"
       ]
      },
      {
       "output_type": "stream",
       "stream": "stderr",
       "text": [
        "WARNING:root:timeout occured in motors 31 after sending DxlInstructionPacket(id=31, instruction=2, parameters=(42, 1))"
       ]
      },
      {
       "output_type": "stream",
       "stream": "stderr",
       "text": [
        "WARNING:root:timeout occured in motors 31 after sending DxlInstructionPacket(id=31, instruction=2, parameters=(43, 1))"
       ]
      },
      {
       "output_type": "stream",
       "stream": "stderr",
       "text": [
        "WARNING:root:timeout occured in motors 31 after sending DxlInstructionPacket(id=31, instruction=2, parameters=(36, 6))"
       ]
      },
      {
       "output_type": "stream",
       "stream": "stderr",
       "text": [
        "WARNING:root:timeout occured in motors 31 after sending DxlInstructionPacket(id=31, instruction=2, parameters=(36, 6))"
       ]
      },
      {
       "output_type": "stream",
       "stream": "stderr",
       "text": [
        "WARNING:root:timeout occured in motors 31 after sending DxlInstructionPacket(id=31, instruction=2, parameters=(36, 6))"
       ]
      },
      {
       "output_type": "stream",
       "stream": "stderr",
       "text": [
        "WARNING:root:timeout occured in motors 31 after sending DxlInstructionPacket(id=31, instruction=2, parameters=(36, 6))"
       ]
      },
      {
       "output_type": "stream",
       "stream": "stderr",
       "text": [
        "WARNING:root:timeout occured in motors 31 after sending DxlInstructionPacket(id=31, instruction=2, parameters=(36, 6))"
       ]
      },
      {
       "output_type": "stream",
       "stream": "stderr",
       "text": [
        "WARNING:root:timeout occured in motors 31 after sending DxlInstructionPacket(id=31, instruction=2, parameters=(36, 6))"
       ]
      },
      {
       "output_type": "stream",
       "stream": "stderr",
       "text": [
        "WARNING:root:timeout occured in motors 31 after sending DxlInstructionPacket(id=31, instruction=2, parameters=(36, 6))"
       ]
      },
      {
       "output_type": "stream",
       "stream": "stderr",
       "text": [
        "WARNING:root:timeout occured in motors 31 after sending DxlInstructionPacket(id=31, instruction=2, parameters=(36, 6))"
       ]
      },
      {
       "output_type": "stream",
       "stream": "stderr",
       "text": [
        "WARNING:root:timeout occured in motors 31 after sending DxlInstructionPacket(id=31, instruction=2, parameters=(36, 6))"
       ]
      },
      {
       "output_type": "stream",
       "stream": "stderr",
       "text": [
        "WARNING:root:timeout occured in motors 31 after sending DxlInstructionPacket(id=31, instruction=2, parameters=(36, 6))"
       ]
      },
      {
       "output_type": "stream",
       "stream": "stderr",
       "text": [
        "WARNING:root:timeout occured in motors 31 after sending DxlInstructionPacket(id=31, instruction=2, parameters=(36, 6))"
       ]
      },
      {
       "output_type": "stream",
       "stream": "stderr",
       "text": [
        "WARNING:root:timeout occured in motors 31 after sending DxlInstructionPacket(id=31, instruction=2, parameters=(36, 6))"
       ]
      },
      {
       "output_type": "stream",
       "stream": "stderr",
       "text": [
        "WARNING:root:timeout occured in motors 31 after sending DxlInstructionPacket(id=31, instruction=2, parameters=(36, 6))"
       ]
      },
      {
       "output_type": "stream",
       "stream": "stderr",
       "text": [
        "WARNING:root:timeout occured in motors 31 after sending DxlInstructionPacket(id=31, instruction=2, parameters=(36, 6))"
       ]
      },
      {
       "output_type": "stream",
       "stream": "stderr",
       "text": [
        "WARNING:root:timeout occured in motors 31 after sending DxlInstructionPacket(id=31, instruction=2, parameters=(36, 6))"
       ]
      },
      {
       "output_type": "stream",
       "stream": "stderr",
       "text": [
        "WARNING:root:timeout occured in motors 31 after sending DxlInstructionPacket(id=31, instruction=2, parameters=(6, 4))"
       ]
      },
      {
       "output_type": "stream",
       "stream": "stderr",
       "text": [
        "WARNING:root:timeout occured in motors 31 after sending DxlInstructionPacket(id=31, instruction=2, parameters=(42, 1))"
       ]
      },
      {
       "output_type": "stream",
       "stream": "stderr",
       "text": [
        "WARNING:root:timeout occured in motors 31 after sending DxlInstructionPacket(id=31, instruction=2, parameters=(36, 6))"
       ]
      },
      {
       "output_type": "stream",
       "stream": "stderr",
       "text": [
        "WARNING:root:timeout occured in motors 31 after sending DxlInstructionPacket(id=31, instruction=2, parameters=(43, 1))"
       ]
      },
      {
       "output_type": "stream",
       "stream": "stderr",
       "text": [
        "WARNING:root:timeout occured in motors 31 after sending DxlInstructionPacket(id=31, instruction=2, parameters=(36, 6))"
       ]
      },
      {
       "output_type": "stream",
       "stream": "stderr",
       "text": [
        "WARNING:root:timeout occured in motors 31 after sending DxlInstructionPacket(id=31, instruction=2, parameters=(36, 6))"
       ]
      },
      {
       "output_type": "stream",
       "stream": "stderr",
       "text": [
        "WARNING:root:timeout occured in motors 31 after sending DxlInstructionPacket(id=31, instruction=2, parameters=(36, 6))"
       ]
      },
      {
       "output_type": "stream",
       "stream": "stderr",
       "text": [
        "WARNING:root:timeout occured in motors 31 after sending DxlInstructionPacket(id=31, instruction=2, parameters=(36, 6))"
       ]
      },
      {
       "output_type": "stream",
       "stream": "stderr",
       "text": [
        "WARNING:root:timeout occured in motors 31 after sending DxlInstructionPacket(id=31, instruction=2, parameters=(36, 6))"
       ]
      },
      {
       "output_type": "stream",
       "stream": "stderr",
       "text": [
        "WARNING:root:timeout occured in motors 31 after sending DxlInstructionPacket(id=31, instruction=2, parameters=(36, 6))"
       ]
      },
      {
       "output_type": "stream",
       "stream": "stderr",
       "text": [
        "WARNING:root:timeout occured in motors 31 after sending DxlInstructionPacket(id=31, instruction=2, parameters=(36, 6))"
       ]
      },
      {
       "output_type": "stream",
       "stream": "stderr",
       "text": [
        "WARNING:root:timeout occured in motors 31 after sending DxlInstructionPacket(id=31, instruction=2, parameters=(36, 6))"
       ]
      },
      {
       "output_type": "stream",
       "stream": "stderr",
       "text": [
        "WARNING:root:timeout occured in motors 31 after sending DxlInstructionPacket(id=31, instruction=2, parameters=(36, 6))"
       ]
      },
      {
       "output_type": "stream",
       "stream": "stderr",
       "text": [
        "WARNING:root:timeout occured in motors 31 after sending DxlInstructionPacket(id=31, instruction=2, parameters=(36, 6))"
       ]
      },
      {
       "output_type": "stream",
       "stream": "stderr",
       "text": [
        "WARNING:root:timeout occured in motors 31 after sending DxlInstructionPacket(id=31, instruction=2, parameters=(36, 6))"
       ]
      },
      {
       "output_type": "stream",
       "stream": "stderr",
       "text": [
        "WARNING:root:timeout occured in motors 31 after sending DxlInstructionPacket(id=31, instruction=2, parameters=(36, 6))"
       ]
      },
      {
       "output_type": "stream",
       "stream": "stderr",
       "text": [
        "WARNING:root:timeout occured in motors 31 after sending DxlInstructionPacket(id=31, instruction=2, parameters=(36, 6))"
       ]
      },
      {
       "output_type": "stream",
       "stream": "stderr",
       "text": [
        "WARNING:root:timeout occured in motors 31 after sending DxlInstructionPacket(id=31, instruction=2, parameters=(36, 6))"
       ]
      },
      {
       "output_type": "stream",
       "stream": "stderr",
       "text": [
        "WARNING:root:timeout occured in motors 31 after sending DxlInstructionPacket(id=31, instruction=2, parameters=(36, 6))"
       ]
      },
      {
       "output_type": "stream",
       "stream": "stderr",
       "text": [
        "WARNING:root:timeout occured in motors 31 after sending DxlInstructionPacket(id=31, instruction=2, parameters=(6, 4))"
       ]
      },
      {
       "output_type": "stream",
       "stream": "stderr",
       "text": [
        "WARNING:root:timeout occured in motors 31 after sending DxlInstructionPacket(id=31, instruction=2, parameters=(42, 1))"
       ]
      },
      {
       "output_type": "stream",
       "stream": "stderr",
       "text": [
        "WARNING:root:timeout occured in motors 31 after sending DxlInstructionPacket(id=31, instruction=2, parameters=(36, 6))"
       ]
      },
      {
       "output_type": "stream",
       "stream": "stderr",
       "text": [
        "WARNING:root:timeout occured in motors 31 after sending DxlInstructionPacket(id=31, instruction=2, parameters=(43, 1))"
       ]
      },
      {
       "output_type": "stream",
       "stream": "stderr",
       "text": [
        "WARNING:root:timeout occured in motors 31 after sending DxlInstructionPacket(id=31, instruction=2, parameters=(36, 6))"
       ]
      },
      {
       "output_type": "stream",
       "stream": "stderr",
       "text": [
        "WARNING:root:timeout occured in motors 31 after sending DxlInstructionPacket(id=31, instruction=2, parameters=(36, 6))"
       ]
      },
      {
       "output_type": "stream",
       "stream": "stderr",
       "text": [
        "WARNING:root:timeout occured in motors 31 after sending DxlInstructionPacket(id=31, instruction=2, parameters=(36, 6))"
       ]
      },
      {
       "output_type": "stream",
       "stream": "stderr",
       "text": [
        "WARNING:root:timeout occured in motors 31 after sending DxlInstructionPacket(id=31, instruction=2, parameters=(36, 6))"
       ]
      },
      {
       "output_type": "stream",
       "stream": "stderr",
       "text": [
        "WARNING:root:timeout occured in motors 31 after sending DxlInstructionPacket(id=31, instruction=2, parameters=(36, 6))"
       ]
      },
      {
       "output_type": "stream",
       "stream": "stderr",
       "text": [
        "WARNING:root:timeout occured in motors 31 after sending DxlInstructionPacket(id=31, instruction=2, parameters=(36, 6))"
       ]
      },
      {
       "output_type": "stream",
       "stream": "stderr",
       "text": [
        "WARNING:root:timeout occured in motors 31 after sending DxlInstructionPacket(id=31, instruction=2, parameters=(36, 6))"
       ]
      },
      {
       "output_type": "stream",
       "stream": "stderr",
       "text": [
        "WARNING:root:timeout occured in motors 31 after sending DxlInstructionPacket(id=31, instruction=2, parameters=(36, 6))"
       ]
      },
      {
       "output_type": "stream",
       "stream": "stderr",
       "text": [
        "WARNING:root:timeout occured in motors 31 after sending DxlInstructionPacket(id=31, instruction=2, parameters=(36, 6))"
       ]
      },
      {
       "output_type": "stream",
       "stream": "stderr",
       "text": [
        "WARNING:root:timeout occured in motors 31 after sending DxlInstructionPacket(id=31, instruction=2, parameters=(36, 6))"
       ]
      },
      {
       "output_type": "stream",
       "stream": "stderr",
       "text": [
        "WARNING:root:timeout occured in motors 31 after sending DxlInstructionPacket(id=31, instruction=2, parameters=(36, 6))"
       ]
      },
      {
       "output_type": "stream",
       "stream": "stderr",
       "text": [
        "WARNING:root:timeout occured in motors 31 after sending DxlInstructionPacket(id=31, instruction=2, parameters=(36, 6))"
       ]
      },
      {
       "output_type": "stream",
       "stream": "stderr",
       "text": [
        "WARNING:root:timeout occured in motors 31 after sending DxlInstructionPacket(id=31, instruction=2, parameters=(36, 6))"
       ]
      },
      {
       "output_type": "stream",
       "stream": "stderr",
       "text": [
        "WARNING:root:timeout occured in motors 31 after sending DxlInstructionPacket(id=31, instruction=2, parameters=(36, 6))"
       ]
      },
      {
       "output_type": "stream",
       "stream": "stderr",
       "text": [
        "WARNING:root:timeout occured in motors 31 after sending DxlInstructionPacket(id=31, instruction=2, parameters=(36, 6))"
       ]
      },
      {
       "output_type": "stream",
       "stream": "stderr",
       "text": [
        "WARNING:root:timeout occured in motors 31 after sending DxlInstructionPacket(id=31, instruction=2, parameters=(6, 4))"
       ]
      },
      {
       "output_type": "stream",
       "stream": "stderr",
       "text": [
        "WARNING:root:timeout occured in motors 31 after sending DxlInstructionPacket(id=31, instruction=2, parameters=(42, 1))"
       ]
      },
      {
       "output_type": "stream",
       "stream": "stderr",
       "text": [
        "WARNING:root:timeout occured in motors 31 after sending DxlInstructionPacket(id=31, instruction=2, parameters=(36, 6))"
       ]
      },
      {
       "output_type": "stream",
       "stream": "stderr",
       "text": [
        "WARNING:root:timeout occured in motors 31 after sending DxlInstructionPacket(id=31, instruction=2, parameters=(43, 1))"
       ]
      },
      {
       "output_type": "stream",
       "stream": "stderr",
       "text": [
        "WARNING:root:timeout occured in motors 31 after sending DxlInstructionPacket(id=31, instruction=2, parameters=(36, 6))"
       ]
      },
      {
       "output_type": "stream",
       "stream": "stderr",
       "text": [
        "WARNING:root:timeout occured in motors 31 after sending DxlInstructionPacket(id=31, instruction=2, parameters=(36, 6))"
       ]
      },
      {
       "output_type": "stream",
       "stream": "stderr",
       "text": [
        "WARNING:root:timeout occured in motors 31 after sending DxlInstructionPacket(id=31, instruction=2, parameters=(36, 6))"
       ]
      },
      {
       "output_type": "stream",
       "stream": "stderr",
       "text": [
        "WARNING:root:timeout occured in motors 31 after sending DxlInstructionPacket(id=31, instruction=2, parameters=(36, 6))"
       ]
      },
      {
       "output_type": "stream",
       "stream": "stderr",
       "text": [
        "WARNING:root:timeout occured in motors 31 after sending DxlInstructionPacket(id=31, instruction=2, parameters=(36, 6))"
       ]
      },
      {
       "output_type": "stream",
       "stream": "stderr",
       "text": [
        "WARNING:root:timeout occured in motors 31 after sending DxlInstructionPacket(id=31, instruction=2, parameters=(36, 6))"
       ]
      },
      {
       "output_type": "stream",
       "stream": "stderr",
       "text": [
        "WARNING:root:timeout occured in motors 31 after sending DxlInstructionPacket(id=31, instruction=2, parameters=(36, 6))"
       ]
      },
      {
       "output_type": "stream",
       "stream": "stderr",
       "text": [
        "WARNING:root:timeout occured in motors 31 after sending DxlInstructionPacket(id=31, instruction=2, parameters=(36, 6))"
       ]
      },
      {
       "output_type": "stream",
       "stream": "stderr",
       "text": [
        "WARNING:root:timeout occured in motors 31 after sending DxlInstructionPacket(id=31, instruction=2, parameters=(36, 6))"
       ]
      },
      {
       "output_type": "stream",
       "stream": "stderr",
       "text": [
        "WARNING:root:timeout occured in motors 31 after sending DxlInstructionPacket(id=31, instruction=2, parameters=(36, 6))"
       ]
      },
      {
       "output_type": "stream",
       "stream": "stderr",
       "text": [
        "WARNING:root:timeout occured in motors 31 after sending DxlInstructionPacket(id=31, instruction=2, parameters=(36, 6))"
       ]
      },
      {
       "output_type": "stream",
       "stream": "stderr",
       "text": [
        "WARNING:root:timeout occured in motors 31 after sending DxlInstructionPacket(id=31, instruction=2, parameters=(36, 6))"
       ]
      },
      {
       "output_type": "stream",
       "stream": "stderr",
       "text": [
        "WARNING:root:timeout occured in motors 31 after sending DxlInstructionPacket(id=31, instruction=2, parameters=(36, 6))"
       ]
      },
      {
       "output_type": "stream",
       "stream": "stderr",
       "text": [
        "WARNING:root:timeout occured in motors 31 after sending DxlInstructionPacket(id=31, instruction=2, parameters=(36, 6))"
       ]
      },
      {
       "output_type": "stream",
       "stream": "stderr",
       "text": [
        "WARNING:root:timeout occured in motors 31 after sending DxlInstructionPacket(id=31, instruction=2, parameters=(36, 6))"
       ]
      },
      {
       "output_type": "stream",
       "stream": "stderr",
       "text": [
        "WARNING:root:timeout occured in motors 31 after sending DxlInstructionPacket(id=31, instruction=2, parameters=(6, 4))"
       ]
      },
      {
       "output_type": "stream",
       "stream": "stderr",
       "text": [
        "WARNING:root:timeout occured in motors 31 after sending DxlInstructionPacket(id=31, instruction=2, parameters=(42, 1))"
       ]
      },
      {
       "output_type": "stream",
       "stream": "stderr",
       "text": [
        "WARNING:root:timeout occured in motors 31 after sending DxlInstructionPacket(id=31, instruction=2, parameters=(36, 6))"
       ]
      },
      {
       "output_type": "stream",
       "stream": "stderr",
       "text": [
        "WARNING:root:timeout occured in motors 31 after sending DxlInstructionPacket(id=31, instruction=2, parameters=(43, 1))"
       ]
      },
      {
       "output_type": "stream",
       "stream": "stderr",
       "text": [
        "WARNING:root:timeout occured in motors 31 after sending DxlInstructionPacket(id=31, instruction=2, parameters=(36, 6))"
       ]
      },
      {
       "output_type": "stream",
       "stream": "stderr",
       "text": [
        "WARNING:root:timeout occured in motors 31 after sending DxlInstructionPacket(id=31, instruction=2, parameters=(36, 6))"
       ]
      },
      {
       "output_type": "stream",
       "stream": "stderr",
       "text": [
        "WARNING:root:timeout occured in motors 31 after sending DxlInstructionPacket(id=31, instruction=2, parameters=(36, 6))"
       ]
      },
      {
       "output_type": "stream",
       "stream": "stderr",
       "text": [
        "WARNING:root:timeout occured in motors 31 after sending DxlInstructionPacket(id=31, instruction=2, parameters=(36, 6))"
       ]
      },
      {
       "output_type": "stream",
       "stream": "stderr",
       "text": [
        "WARNING:root:timeout occured in motors 31 after sending DxlInstructionPacket(id=31, instruction=2, parameters=(36, 6))"
       ]
      },
      {
       "output_type": "stream",
       "stream": "stderr",
       "text": [
        "WARNING:root:timeout occured in motors 31 after sending DxlInstructionPacket(id=31, instruction=2, parameters=(36, 6))"
       ]
      },
      {
       "output_type": "stream",
       "stream": "stderr",
       "text": [
        "WARNING:root:timeout occured in motors 31 after sending DxlInstructionPacket(id=31, instruction=2, parameters=(36, 6))"
       ]
      },
      {
       "output_type": "stream",
       "stream": "stderr",
       "text": [
        "WARNING:root:timeout occured in motors 31 after sending DxlInstructionPacket(id=31, instruction=2, parameters=(36, 6))"
       ]
      },
      {
       "output_type": "stream",
       "stream": "stderr",
       "text": [
        "WARNING:root:timeout occured in motors 31 after sending DxlInstructionPacket(id=31, instruction=2, parameters=(36, 6))"
       ]
      },
      {
       "output_type": "stream",
       "stream": "stderr",
       "text": [
        "WARNING:root:timeout occured in motors 31 after sending DxlInstructionPacket(id=31, instruction=2, parameters=(36, 6))"
       ]
      },
      {
       "output_type": "stream",
       "stream": "stderr",
       "text": [
        "WARNING:root:timeout occured in motors 31 after sending DxlInstructionPacket(id=31, instruction=2, parameters=(36, 6))"
       ]
      },
      {
       "output_type": "stream",
       "stream": "stderr",
       "text": [
        "WARNING:root:timeout occured in motors 31 after sending DxlInstructionPacket(id=31, instruction=2, parameters=(36, 6))"
       ]
      },
      {
       "output_type": "stream",
       "stream": "stderr",
       "text": [
        "WARNING:root:timeout occured in motors 31 after sending DxlInstructionPacket(id=31, instruction=2, parameters=(36, 6))"
       ]
      },
      {
       "output_type": "stream",
       "stream": "stderr",
       "text": [
        "WARNING:root:timeout occured in motors 31 after sending DxlInstructionPacket(id=31, instruction=2, parameters=(36, 6))"
       ]
      },
      {
       "output_type": "stream",
       "stream": "stderr",
       "text": [
        "WARNING:root:timeout occured in motors 31 after sending DxlInstructionPacket(id=31, instruction=2, parameters=(6, 4))"
       ]
      },
      {
       "output_type": "stream",
       "stream": "stderr",
       "text": [
        "WARNING:root:timeout occured in motors 31 after sending DxlInstructionPacket(id=31, instruction=2, parameters=(36, 6))"
       ]
      },
      {
       "output_type": "stream",
       "stream": "stderr",
       "text": [
        "WARNING:root:timeout occured in motors 31 after sending DxlInstructionPacket(id=31, instruction=2, parameters=(42, 1))"
       ]
      },
      {
       "output_type": "stream",
       "stream": "stderr",
       "text": [
        "WARNING:root:timeout occured in motors 31 after sending DxlInstructionPacket(id=31, instruction=2, parameters=(43, 1))"
       ]
      },
      {
       "output_type": "stream",
       "stream": "stderr",
       "text": [
        "WARNING:root:timeout occured in motors 31 after sending DxlInstructionPacket(id=31, instruction=2, parameters=(36, 6))"
       ]
      },
      {
       "output_type": "stream",
       "stream": "stderr",
       "text": [
        "WARNING:root:timeout occured in motors 31 after sending DxlInstructionPacket(id=31, instruction=2, parameters=(36, 6))"
       ]
      },
      {
       "output_type": "stream",
       "stream": "stderr",
       "text": [
        "WARNING:root:timeout occured in motors 31 after sending DxlInstructionPacket(id=31, instruction=2, parameters=(36, 6))"
       ]
      },
      {
       "output_type": "stream",
       "stream": "stderr",
       "text": [
        "WARNING:root:timeout occured in motors 31 after sending DxlInstructionPacket(id=31, instruction=2, parameters=(36, 6))"
       ]
      },
      {
       "output_type": "stream",
       "stream": "stderr",
       "text": [
        "WARNING:root:timeout occured in motors 31 after sending DxlInstructionPacket(id=31, instruction=2, parameters=(36, 6))"
       ]
      },
      {
       "output_type": "stream",
       "stream": "stderr",
       "text": [
        "WARNING:root:timeout occured in motors 31 after sending DxlInstructionPacket(id=31, instruction=2, parameters=(36, 6))"
       ]
      },
      {
       "output_type": "stream",
       "stream": "stderr",
       "text": [
        "WARNING:root:timeout occured in motors 31 after sending DxlInstructionPacket(id=31, instruction=2, parameters=(36, 6))"
       ]
      },
      {
       "output_type": "stream",
       "stream": "stderr",
       "text": [
        "WARNING:root:timeout occured in motors 31 after sending DxlInstructionPacket(id=31, instruction=2, parameters=(36, 6))"
       ]
      },
      {
       "output_type": "stream",
       "stream": "stderr",
       "text": [
        "WARNING:root:timeout occured in motors 31 after sending DxlInstructionPacket(id=31, instruction=2, parameters=(36, 6))"
       ]
      },
      {
       "output_type": "stream",
       "stream": "stderr",
       "text": [
        "WARNING:root:timeout occured in motors 31 after sending DxlInstructionPacket(id=31, instruction=2, parameters=(36, 6))"
       ]
      },
      {
       "output_type": "stream",
       "stream": "stderr",
       "text": [
        "WARNING:root:timeout occured in motors 31 after sending DxlInstructionPacket(id=31, instruction=2, parameters=(36, 6))"
       ]
      },
      {
       "output_type": "stream",
       "stream": "stderr",
       "text": [
        "WARNING:root:timeout occured in motors 31 after sending DxlInstructionPacket(id=31, instruction=2, parameters=(36, 6))"
       ]
      },
      {
       "output_type": "stream",
       "stream": "stderr",
       "text": [
        "WARNING:root:timeout occured in motors 31 after sending DxlInstructionPacket(id=31, instruction=2, parameters=(36, 6))"
       ]
      },
      {
       "output_type": "stream",
       "stream": "stderr",
       "text": [
        "WARNING:root:timeout occured in motors 31 after sending DxlInstructionPacket(id=31, instruction=2, parameters=(36, 6))"
       ]
      },
      {
       "output_type": "stream",
       "stream": "stderr",
       "text": [
        "WARNING:root:timeout occured in motors 31 after sending DxlInstructionPacket(id=31, instruction=2, parameters=(36, 6))"
       ]
      },
      {
       "output_type": "stream",
       "stream": "stderr",
       "text": [
        "WARNING:root:timeout occured in motors 31 after sending DxlInstructionPacket(id=31, instruction=2, parameters=(36, 6))"
       ]
      },
      {
       "output_type": "stream",
       "stream": "stderr",
       "text": [
        "WARNING:root:timeout occured in motors 31 after sending DxlInstructionPacket(id=31, instruction=2, parameters=(6, 4))"
       ]
      },
      {
       "output_type": "stream",
       "stream": "stderr",
       "text": [
        "WARNING:root:timeout occured in motors 31 after sending DxlInstructionPacket(id=31, instruction=2, parameters=(42, 1))"
       ]
      },
      {
       "output_type": "stream",
       "stream": "stderr",
       "text": [
        "WARNING:root:timeout occured in motors 31 after sending DxlInstructionPacket(id=31, instruction=2, parameters=(36, 6))"
       ]
      },
      {
       "output_type": "stream",
       "stream": "stderr",
       "text": [
        "WARNING:root:timeout occured in motors 31 after sending DxlInstructionPacket(id=31, instruction=2, parameters=(43, 1))"
       ]
      },
      {
       "output_type": "stream",
       "stream": "stderr",
       "text": [
        "WARNING:root:timeout occured in motors 31 after sending DxlInstructionPacket(id=31, instruction=2, parameters=(36, 6))"
       ]
      },
      {
       "output_type": "stream",
       "stream": "stderr",
       "text": [
        "WARNING:root:timeout occured in motors 31 after sending DxlInstructionPacket(id=31, instruction=2, parameters=(36, 6))"
       ]
      },
      {
       "output_type": "stream",
       "stream": "stderr",
       "text": [
        "WARNING:root:timeout occured in motors 31 after sending DxlInstructionPacket(id=31, instruction=2, parameters=(36, 6))"
       ]
      },
      {
       "output_type": "stream",
       "stream": "stderr",
       "text": [
        "WARNING:root:timeout occured in motors 31 after sending DxlInstructionPacket(id=31, instruction=2, parameters=(36, 6))"
       ]
      },
      {
       "output_type": "stream",
       "stream": "stderr",
       "text": [
        "WARNING:root:timeout occured in motors 31 after sending DxlInstructionPacket(id=31, instruction=2, parameters=(36, 6))"
       ]
      },
      {
       "output_type": "stream",
       "stream": "stderr",
       "text": [
        "WARNING:root:timeout occured in motors 31 after sending DxlInstructionPacket(id=31, instruction=2, parameters=(36, 6))"
       ]
      },
      {
       "output_type": "stream",
       "stream": "stderr",
       "text": [
        "WARNING:root:timeout occured in motors 31 after sending DxlInstructionPacket(id=31, instruction=2, parameters=(36, 6))"
       ]
      },
      {
       "output_type": "stream",
       "stream": "stderr",
       "text": [
        "WARNING:root:timeout occured in motors 31 after sending DxlInstructionPacket(id=31, instruction=2, parameters=(36, 6))"
       ]
      },
      {
       "output_type": "stream",
       "stream": "stderr",
       "text": [
        "WARNING:root:timeout occured in motors 31 after sending DxlInstructionPacket(id=31, instruction=2, parameters=(36, 6))"
       ]
      },
      {
       "output_type": "stream",
       "stream": "stderr",
       "text": [
        "WARNING:root:timeout occured in motors 31 after sending DxlInstructionPacket(id=31, instruction=2, parameters=(36, 6))"
       ]
      },
      {
       "output_type": "stream",
       "stream": "stderr",
       "text": [
        "WARNING:root:timeout occured in motors 31 after sending DxlInstructionPacket(id=31, instruction=2, parameters=(36, 6))"
       ]
      },
      {
       "output_type": "stream",
       "stream": "stderr",
       "text": [
        "WARNING:root:timeout occured in motors 31 after sending DxlInstructionPacket(id=31, instruction=2, parameters=(36, 6))"
       ]
      },
      {
       "output_type": "stream",
       "stream": "stderr",
       "text": [
        "WARNING:root:timeout occured in motors 31 after sending DxlInstructionPacket(id=31, instruction=2, parameters=(36, 6))"
       ]
      },
      {
       "output_type": "stream",
       "stream": "stderr",
       "text": [
        "WARNING:root:timeout occured in motors 31 after sending DxlInstructionPacket(id=31, instruction=2, parameters=(36, 6))"
       ]
      },
      {
       "output_type": "stream",
       "stream": "stderr",
       "text": [
        "WARNING:root:timeout occured in motors 31 after sending DxlInstructionPacket(id=31, instruction=2, parameters=(6, 4))"
       ]
      },
      {
       "output_type": "stream",
       "stream": "stderr",
       "text": [
        "WARNING:root:timeout occured in motors 31 after sending DxlInstructionPacket(id=31, instruction=2, parameters=(36, 6))"
       ]
      },
      {
       "output_type": "stream",
       "stream": "stderr",
       "text": [
        "WARNING:root:timeout occured in motors 31 after sending DxlInstructionPacket(id=31, instruction=2, parameters=(42, 1))"
       ]
      },
      {
       "output_type": "stream",
       "stream": "stderr",
       "text": [
        "WARNING:root:timeout occured in motors 31 after sending DxlInstructionPacket(id=31, instruction=2, parameters=(43, 1))"
       ]
      },
      {
       "output_type": "stream",
       "stream": "stderr",
       "text": [
        "WARNING:root:timeout occured in motors 31 after sending DxlInstructionPacket(id=31, instruction=2, parameters=(36, 6))"
       ]
      },
      {
       "output_type": "stream",
       "stream": "stderr",
       "text": [
        "WARNING:root:timeout occured in motors 31 after sending DxlInstructionPacket(id=31, instruction=2, parameters=(36, 6))"
       ]
      },
      {
       "output_type": "stream",
       "stream": "stderr",
       "text": [
        "WARNING:root:timeout occured in motors 31 after sending DxlInstructionPacket(id=31, instruction=2, parameters=(36, 6))"
       ]
      },
      {
       "output_type": "stream",
       "stream": "stderr",
       "text": [
        "WARNING:root:timeout occured in motors 31 after sending DxlInstructionPacket(id=31, instruction=2, parameters=(36, 6))"
       ]
      },
      {
       "output_type": "stream",
       "stream": "stderr",
       "text": [
        "WARNING:root:timeout occured in motors 31 after sending DxlInstructionPacket(id=31, instruction=2, parameters=(36, 6))"
       ]
      },
      {
       "output_type": "stream",
       "stream": "stderr",
       "text": [
        "WARNING:root:timeout occured in motors 31 after sending DxlInstructionPacket(id=31, instruction=2, parameters=(36, 6))"
       ]
      },
      {
       "output_type": "stream",
       "stream": "stderr",
       "text": [
        "WARNING:root:timeout occured in motors 31 after sending DxlInstructionPacket(id=31, instruction=2, parameters=(36, 6))"
       ]
      },
      {
       "output_type": "stream",
       "stream": "stderr",
       "text": [
        "WARNING:root:timeout occured in motors 31 after sending DxlInstructionPacket(id=31, instruction=2, parameters=(36, 6))"
       ]
      },
      {
       "output_type": "stream",
       "stream": "stderr",
       "text": [
        "WARNING:root:timeout occured in motors 31 after sending DxlInstructionPacket(id=31, instruction=2, parameters=(36, 6))"
       ]
      },
      {
       "output_type": "stream",
       "stream": "stderr",
       "text": [
        "WARNING:root:timeout occured in motors 31 after sending DxlInstructionPacket(id=31, instruction=2, parameters=(36, 6))"
       ]
      },
      {
       "output_type": "stream",
       "stream": "stderr",
       "text": [
        "WARNING:root:timeout occured in motors 31 after sending DxlInstructionPacket(id=31, instruction=2, parameters=(36, 6))"
       ]
      },
      {
       "output_type": "stream",
       "stream": "stderr",
       "text": [
        "WARNING:root:timeout occured in motors 31 after sending DxlInstructionPacket(id=31, instruction=2, parameters=(36, 6))"
       ]
      },
      {
       "output_type": "stream",
       "stream": "stderr",
       "text": [
        "WARNING:root:timeout occured in motors 31 after sending DxlInstructionPacket(id=31, instruction=2, parameters=(36, 6))"
       ]
      },
      {
       "output_type": "stream",
       "stream": "stderr",
       "text": [
        "WARNING:root:timeout occured in motors 31 after sending DxlInstructionPacket(id=31, instruction=2, parameters=(36, 6))"
       ]
      },
      {
       "output_type": "stream",
       "stream": "stderr",
       "text": [
        "WARNING:root:timeout occured in motors 31 after sending DxlInstructionPacket(id=31, instruction=2, parameters=(36, 6))"
       ]
      },
      {
       "output_type": "stream",
       "stream": "stderr",
       "text": [
        "WARNING:root:timeout occured in motors 31 after sending DxlInstructionPacket(id=31, instruction=2, parameters=(6, 4))"
       ]
      },
      {
       "output_type": "stream",
       "stream": "stderr",
       "text": [
        "WARNING:root:timeout occured in motors 31 after sending DxlInstructionPacket(id=31, instruction=2, parameters=(36, 6))"
       ]
      },
      {
       "output_type": "stream",
       "stream": "stderr",
       "text": [
        "WARNING:root:timeout occured in motors 31 after sending DxlInstructionPacket(id=31, instruction=2, parameters=(42, 1))"
       ]
      },
      {
       "output_type": "stream",
       "stream": "stderr",
       "text": [
        "WARNING:root:timeout occured in motors 31 after sending DxlInstructionPacket(id=31, instruction=2, parameters=(43, 1))"
       ]
      },
      {
       "output_type": "stream",
       "stream": "stderr",
       "text": [
        "WARNING:root:timeout occured in motors 31 after sending DxlInstructionPacket(id=31, instruction=2, parameters=(36, 6))"
       ]
      },
      {
       "output_type": "stream",
       "stream": "stderr",
       "text": [
        "WARNING:root:timeout occured in motors 31 after sending DxlInstructionPacket(id=31, instruction=2, parameters=(36, 6))"
       ]
      },
      {
       "output_type": "stream",
       "stream": "stderr",
       "text": [
        "WARNING:root:timeout occured in motors 31 after sending DxlInstructionPacket(id=31, instruction=2, parameters=(36, 6))"
       ]
      },
      {
       "output_type": "stream",
       "stream": "stderr",
       "text": [
        "WARNING:root:timeout occured in motors 31 after sending DxlInstructionPacket(id=31, instruction=2, parameters=(36, 6))"
       ]
      },
      {
       "output_type": "stream",
       "stream": "stderr",
       "text": [
        "WARNING:root:timeout occured in motors 31 after sending DxlInstructionPacket(id=31, instruction=2, parameters=(36, 6))"
       ]
      },
      {
       "output_type": "stream",
       "stream": "stderr",
       "text": [
        "WARNING:root:timeout occured in motors 31 after sending DxlInstructionPacket(id=31, instruction=2, parameters=(36, 6))"
       ]
      },
      {
       "output_type": "stream",
       "stream": "stderr",
       "text": [
        "WARNING:root:timeout occured in motors 31 after sending DxlInstructionPacket(id=31, instruction=2, parameters=(36, 6))"
       ]
      },
      {
       "output_type": "stream",
       "stream": "stderr",
       "text": [
        "WARNING:root:timeout occured in motors 31 after sending DxlInstructionPacket(id=31, instruction=2, parameters=(36, 6))"
       ]
      },
      {
       "output_type": "stream",
       "stream": "stderr",
       "text": [
        "WARNING:root:timeout occured in motors 31 after sending DxlInstructionPacket(id=31, instruction=2, parameters=(36, 6))"
       ]
      },
      {
       "output_type": "stream",
       "stream": "stderr",
       "text": [
        "WARNING:root:timeout occured in motors 31 after sending DxlInstructionPacket(id=31, instruction=2, parameters=(36, 6))"
       ]
      },
      {
       "output_type": "stream",
       "stream": "stderr",
       "text": [
        "WARNING:root:timeout occured in motors 31 after sending DxlInstructionPacket(id=31, instruction=2, parameters=(36, 6))"
       ]
      },
      {
       "output_type": "stream",
       "stream": "stderr",
       "text": [
        "WARNING:root:timeout occured in motors 31 after sending DxlInstructionPacket(id=31, instruction=2, parameters=(36, 6))"
       ]
      },
      {
       "output_type": "stream",
       "stream": "stderr",
       "text": [
        "WARNING:root:timeout occured in motors 31 after sending DxlInstructionPacket(id=31, instruction=2, parameters=(36, 6))"
       ]
      },
      {
       "output_type": "stream",
       "stream": "stderr",
       "text": [
        "WARNING:root:timeout occured in motors 31 after sending DxlInstructionPacket(id=31, instruction=2, parameters=(36, 6))"
       ]
      },
      {
       "output_type": "stream",
       "stream": "stderr",
       "text": [
        "WARNING:root:timeout occured in motors 31 after sending DxlInstructionPacket(id=31, instruction=2, parameters=(36, 6))"
       ]
      },
      {
       "output_type": "stream",
       "stream": "stderr",
       "text": [
        "WARNING:root:timeout occured in motors 31 after sending DxlInstructionPacket(id=31, instruction=2, parameters=(6, 4))"
       ]
      },
      {
       "output_type": "stream",
       "stream": "stderr",
       "text": [
        "WARNING:root:timeout occured in motors 31 after sending DxlInstructionPacket(id=31, instruction=2, parameters=(36, 6))"
       ]
      },
      {
       "output_type": "stream",
       "stream": "stderr",
       "text": [
        "WARNING:root:timeout occured in motors 31 after sending DxlInstructionPacket(id=31, instruction=2, parameters=(42, 1))"
       ]
      },
      {
       "output_type": "stream",
       "stream": "stderr",
       "text": [
        "WARNING:root:timeout occured in motors 31 after sending DxlInstructionPacket(id=31, instruction=2, parameters=(43, 1))"
       ]
      },
      {
       "output_type": "stream",
       "stream": "stderr",
       "text": [
        "WARNING:root:timeout occured in motors 31 after sending DxlInstructionPacket(id=31, instruction=2, parameters=(36, 6))"
       ]
      },
      {
       "output_type": "stream",
       "stream": "stderr",
       "text": [
        "WARNING:root:timeout occured in motors 31 after sending DxlInstructionPacket(id=31, instruction=2, parameters=(36, 6))"
       ]
      },
      {
       "output_type": "stream",
       "stream": "stderr",
       "text": [
        "WARNING:root:timeout occured in motors 31 after sending DxlInstructionPacket(id=31, instruction=2, parameters=(36, 6))"
       ]
      },
      {
       "output_type": "stream",
       "stream": "stderr",
       "text": [
        "WARNING:root:timeout occured in motors 31 after sending DxlInstructionPacket(id=31, instruction=2, parameters=(36, 6))"
       ]
      },
      {
       "output_type": "stream",
       "stream": "stderr",
       "text": [
        "WARNING:root:timeout occured in motors 31 after sending DxlInstructionPacket(id=31, instruction=2, parameters=(36, 6))"
       ]
      },
      {
       "output_type": "stream",
       "stream": "stderr",
       "text": [
        "WARNING:root:timeout occured in motors 31 after sending DxlInstructionPacket(id=31, instruction=2, parameters=(36, 6))"
       ]
      },
      {
       "output_type": "stream",
       "stream": "stderr",
       "text": [
        "WARNING:root:timeout occured in motors 31 after sending DxlInstructionPacket(id=31, instruction=2, parameters=(36, 6))"
       ]
      },
      {
       "output_type": "stream",
       "stream": "stderr",
       "text": [
        "WARNING:root:timeout occured in motors 31 after sending DxlInstructionPacket(id=31, instruction=2, parameters=(36, 6))"
       ]
      },
      {
       "output_type": "stream",
       "stream": "stderr",
       "text": [
        "WARNING:root:timeout occured in motors 31 after sending DxlInstructionPacket(id=31, instruction=2, parameters=(36, 6))"
       ]
      },
      {
       "output_type": "stream",
       "stream": "stderr",
       "text": [
        "WARNING:root:timeout occured in motors 31 after sending DxlInstructionPacket(id=31, instruction=2, parameters=(36, 6))"
       ]
      },
      {
       "output_type": "stream",
       "stream": "stderr",
       "text": [
        "WARNING:root:timeout occured in motors 31 after sending DxlInstructionPacket(id=31, instruction=2, parameters=(36, 6))"
       ]
      },
      {
       "output_type": "stream",
       "stream": "stderr",
       "text": [
        "WARNING:root:timeout occured in motors 31 after sending DxlInstructionPacket(id=31, instruction=2, parameters=(36, 6))"
       ]
      },
      {
       "output_type": "stream",
       "stream": "stderr",
       "text": [
        "WARNING:root:timeout occured in motors 31 after sending DxlInstructionPacket(id=31, instruction=2, parameters=(36, 6))"
       ]
      },
      {
       "output_type": "stream",
       "stream": "stderr",
       "text": [
        "WARNING:root:timeout occured in motors 31 after sending DxlInstructionPacket(id=31, instruction=2, parameters=(36, 6))"
       ]
      },
      {
       "output_type": "stream",
       "stream": "stderr",
       "text": [
        "WARNING:root:timeout occured in motors 31 after sending DxlInstructionPacket(id=31, instruction=2, parameters=(36, 6))"
       ]
      },
      {
       "output_type": "stream",
       "stream": "stderr",
       "text": [
        "WARNING:root:timeout occured in motors 31 after sending DxlInstructionPacket(id=31, instruction=2, parameters=(6, 4))"
       ]
      },
      {
       "output_type": "stream",
       "stream": "stderr",
       "text": [
        "WARNING:root:timeout occured in motors 31 after sending DxlInstructionPacket(id=31, instruction=2, parameters=(36, 6))"
       ]
      },
      {
       "output_type": "stream",
       "stream": "stderr",
       "text": [
        "WARNING:root:timeout occured in motors 31 after sending DxlInstructionPacket(id=31, instruction=2, parameters=(42, 1))"
       ]
      },
      {
       "output_type": "stream",
       "stream": "stderr",
       "text": [
        "WARNING:root:timeout occured in motors 31 after sending DxlInstructionPacket(id=31, instruction=2, parameters=(43, 1))"
       ]
      },
      {
       "output_type": "stream",
       "stream": "stderr",
       "text": [
        "WARNING:root:timeout occured in motors 31 after sending DxlInstructionPacket(id=31, instruction=2, parameters=(36, 6))"
       ]
      },
      {
       "output_type": "stream",
       "stream": "stderr",
       "text": [
        "WARNING:root:timeout occured in motors 31 after sending DxlInstructionPacket(id=31, instruction=2, parameters=(36, 6))"
       ]
      },
      {
       "output_type": "stream",
       "stream": "stderr",
       "text": [
        "WARNING:root:timeout occured in motors 31 after sending DxlInstructionPacket(id=31, instruction=2, parameters=(36, 6))"
       ]
      },
      {
       "output_type": "stream",
       "stream": "stderr",
       "text": [
        "WARNING:root:timeout occured in motors 31 after sending DxlInstructionPacket(id=31, instruction=2, parameters=(36, 6))"
       ]
      },
      {
       "output_type": "stream",
       "stream": "stderr",
       "text": [
        "WARNING:root:timeout occured in motors 31 after sending DxlInstructionPacket(id=31, instruction=2, parameters=(36, 6))"
       ]
      },
      {
       "output_type": "stream",
       "stream": "stderr",
       "text": [
        "WARNING:root:timeout occured in motors 31 after sending DxlInstructionPacket(id=31, instruction=2, parameters=(36, 6))"
       ]
      },
      {
       "output_type": "stream",
       "stream": "stderr",
       "text": [
        "WARNING:root:timeout occured in motors 31 after sending DxlInstructionPacket(id=31, instruction=2, parameters=(36, 6))"
       ]
      },
      {
       "output_type": "stream",
       "stream": "stderr",
       "text": [
        "WARNING:root:timeout occured in motors 31 after sending DxlInstructionPacket(id=31, instruction=2, parameters=(36, 6))"
       ]
      },
      {
       "output_type": "stream",
       "stream": "stderr",
       "text": [
        "WARNING:root:timeout occured in motors 31 after sending DxlInstructionPacket(id=31, instruction=2, parameters=(36, 6))"
       ]
      },
      {
       "output_type": "stream",
       "stream": "stderr",
       "text": [
        "WARNING:root:timeout occured in motors 31 after sending DxlInstructionPacket(id=31, instruction=2, parameters=(36, 6))"
       ]
      },
      {
       "output_type": "stream",
       "stream": "stderr",
       "text": [
        "WARNING:root:timeout occured in motors 31 after sending DxlInstructionPacket(id=31, instruction=2, parameters=(36, 6))"
       ]
      },
      {
       "output_type": "stream",
       "stream": "stderr",
       "text": [
        "WARNING:root:timeout occured in motors 31 after sending DxlInstructionPacket(id=31, instruction=2, parameters=(36, 6))"
       ]
      },
      {
       "output_type": "stream",
       "stream": "stderr",
       "text": [
        "WARNING:root:timeout occured in motors 31 after sending DxlInstructionPacket(id=31, instruction=2, parameters=(36, 6))"
       ]
      },
      {
       "output_type": "stream",
       "stream": "stderr",
       "text": [
        "WARNING:root:timeout occured in motors 31 after sending DxlInstructionPacket(id=31, instruction=2, parameters=(36, 6))"
       ]
      },
      {
       "output_type": "stream",
       "stream": "stderr",
       "text": [
        "WARNING:root:timeout occured in motors 31 after sending DxlInstructionPacket(id=31, instruction=2, parameters=(36, 6))"
       ]
      },
      {
       "output_type": "stream",
       "stream": "stderr",
       "text": [
        "WARNING:root:timeout occured in motors 31 after sending DxlInstructionPacket(id=31, instruction=2, parameters=(6, 4))"
       ]
      },
      {
       "output_type": "stream",
       "stream": "stderr",
       "text": [
        "WARNING:root:timeout occured in motors 31 after sending DxlInstructionPacket(id=31, instruction=2, parameters=(36, 6))"
       ]
      },
      {
       "output_type": "stream",
       "stream": "stderr",
       "text": [
        "WARNING:root:timeout occured in motors 31 after sending DxlInstructionPacket(id=31, instruction=2, parameters=(42, 1))"
       ]
      },
      {
       "output_type": "stream",
       "stream": "stderr",
       "text": [
        "WARNING:root:timeout occured in motors 31 after sending DxlInstructionPacket(id=31, instruction=2, parameters=(43, 1))"
       ]
      },
      {
       "output_type": "stream",
       "stream": "stderr",
       "text": [
        "WARNING:root:timeout occured in motors 31 after sending DxlInstructionPacket(id=31, instruction=2, parameters=(36, 6))"
       ]
      },
      {
       "output_type": "stream",
       "stream": "stderr",
       "text": [
        "WARNING:root:timeout occured in motors 31 after sending DxlInstructionPacket(id=31, instruction=2, parameters=(36, 6))"
       ]
      },
      {
       "output_type": "stream",
       "stream": "stderr",
       "text": [
        "WARNING:root:timeout occured in motors 31 after sending DxlInstructionPacket(id=31, instruction=2, parameters=(36, 6))"
       ]
      },
      {
       "output_type": "stream",
       "stream": "stderr",
       "text": [
        "WARNING:root:timeout occured in motors 31 after sending DxlInstructionPacket(id=31, instruction=2, parameters=(36, 6))"
       ]
      },
      {
       "output_type": "stream",
       "stream": "stderr",
       "text": [
        "WARNING:root:timeout occured in motors 31 after sending DxlInstructionPacket(id=31, instruction=2, parameters=(36, 6))"
       ]
      },
      {
       "output_type": "stream",
       "stream": "stderr",
       "text": [
        "WARNING:root:timeout occured in motors 31 after sending DxlInstructionPacket(id=31, instruction=2, parameters=(36, 6))"
       ]
      },
      {
       "output_type": "stream",
       "stream": "stderr",
       "text": [
        "WARNING:root:timeout occured in motors 31 after sending DxlInstructionPacket(id=31, instruction=2, parameters=(36, 6))"
       ]
      },
      {
       "output_type": "stream",
       "stream": "stderr",
       "text": [
        "WARNING:root:timeout occured in motors 31 after sending DxlInstructionPacket(id=31, instruction=2, parameters=(36, 6))"
       ]
      },
      {
       "output_type": "stream",
       "stream": "stderr",
       "text": [
        "WARNING:root:timeout occured in motors 31 after sending DxlInstructionPacket(id=31, instruction=2, parameters=(36, 6))"
       ]
      },
      {
       "output_type": "stream",
       "stream": "stderr",
       "text": [
        "WARNING:root:timeout occured in motors 31 after sending DxlInstructionPacket(id=31, instruction=2, parameters=(36, 6))"
       ]
      },
      {
       "output_type": "stream",
       "stream": "stderr",
       "text": [
        "WARNING:root:timeout occured in motors 31 after sending DxlInstructionPacket(id=31, instruction=2, parameters=(36, 6))"
       ]
      },
      {
       "output_type": "stream",
       "stream": "stderr",
       "text": [
        "WARNING:root:timeout occured in motors 31 after sending DxlInstructionPacket(id=31, instruction=2, parameters=(36, 6))"
       ]
      },
      {
       "output_type": "stream",
       "stream": "stderr",
       "text": [
        "WARNING:root:timeout occured in motors 31 after sending DxlInstructionPacket(id=31, instruction=2, parameters=(36, 6))"
       ]
      },
      {
       "output_type": "stream",
       "stream": "stderr",
       "text": [
        "WARNING:root:timeout occured in motors 31 after sending DxlInstructionPacket(id=31, instruction=2, parameters=(36, 6))"
       ]
      },
      {
       "output_type": "stream",
       "stream": "stderr",
       "text": [
        "WARNING:root:timeout occured in motors 31 after sending DxlInstructionPacket(id=31, instruction=2, parameters=(36, 6))"
       ]
      },
      {
       "output_type": "stream",
       "stream": "stderr",
       "text": [
        "WARNING:root:timeout occured in motors 31 after sending DxlInstructionPacket(id=31, instruction=2, parameters=(6, 4))"
       ]
      },
      {
       "output_type": "stream",
       "stream": "stderr",
       "text": [
        "WARNING:root:timeout occured in motors 31 after sending DxlInstructionPacket(id=31, instruction=2, parameters=(36, 6))"
       ]
      },
      {
       "output_type": "stream",
       "stream": "stderr",
       "text": [
        "WARNING:root:timeout occured in motors 31 after sending DxlInstructionPacket(id=31, instruction=2, parameters=(42, 1))"
       ]
      },
      {
       "output_type": "stream",
       "stream": "stderr",
       "text": [
        "WARNING:root:timeout occured in motors 31 after sending DxlInstructionPacket(id=31, instruction=2, parameters=(43, 1))"
       ]
      },
      {
       "output_type": "stream",
       "stream": "stderr",
       "text": [
        "WARNING:root:timeout occured in motors 31 after sending DxlInstructionPacket(id=31, instruction=2, parameters=(36, 6))"
       ]
      },
      {
       "output_type": "stream",
       "stream": "stderr",
       "text": [
        "WARNING:root:timeout occured in motors 31 after sending DxlInstructionPacket(id=31, instruction=2, parameters=(36, 6))"
       ]
      },
      {
       "output_type": "stream",
       "stream": "stderr",
       "text": [
        "WARNING:root:timeout occured in motors 31 after sending DxlInstructionPacket(id=31, instruction=2, parameters=(36, 6))"
       ]
      },
      {
       "output_type": "stream",
       "stream": "stderr",
       "text": [
        "WARNING:root:timeout occured in motors 31 after sending DxlInstructionPacket(id=31, instruction=2, parameters=(36, 6))"
       ]
      },
      {
       "output_type": "stream",
       "stream": "stderr",
       "text": [
        "WARNING:root:timeout occured in motors 31 after sending DxlInstructionPacket(id=31, instruction=2, parameters=(36, 6))"
       ]
      },
      {
       "output_type": "stream",
       "stream": "stderr",
       "text": [
        "WARNING:root:timeout occured in motors 31 after sending DxlInstructionPacket(id=31, instruction=2, parameters=(36, 6))"
       ]
      },
      {
       "output_type": "stream",
       "stream": "stderr",
       "text": [
        "WARNING:root:timeout occured in motors 31 after sending DxlInstructionPacket(id=31, instruction=2, parameters=(36, 6))"
       ]
      },
      {
       "output_type": "stream",
       "stream": "stderr",
       "text": [
        "WARNING:root:timeout occured in motors 31 after sending DxlInstructionPacket(id=31, instruction=2, parameters=(36, 6))"
       ]
      },
      {
       "output_type": "stream",
       "stream": "stderr",
       "text": [
        "WARNING:root:timeout occured in motors 31 after sending DxlInstructionPacket(id=31, instruction=2, parameters=(36, 6))"
       ]
      },
      {
       "output_type": "stream",
       "stream": "stderr",
       "text": [
        "WARNING:root:timeout occured in motors 31 after sending DxlInstructionPacket(id=31, instruction=2, parameters=(36, 6))"
       ]
      },
      {
       "output_type": "stream",
       "stream": "stderr",
       "text": [
        "WARNING:root:timeout occured in motors 31 after sending DxlInstructionPacket(id=31, instruction=2, parameters=(36, 6))"
       ]
      },
      {
       "output_type": "stream",
       "stream": "stderr",
       "text": [
        "WARNING:root:timeout occured in motors 31 after sending DxlInstructionPacket(id=31, instruction=2, parameters=(36, 6))"
       ]
      },
      {
       "output_type": "stream",
       "stream": "stderr",
       "text": [
        "WARNING:root:timeout occured in motors 31 after sending DxlInstructionPacket(id=31, instruction=2, parameters=(36, 6))"
       ]
      },
      {
       "output_type": "stream",
       "stream": "stderr",
       "text": [
        "WARNING:root:timeout occured in motors 31 after sending DxlInstructionPacket(id=31, instruction=2, parameters=(36, 6))"
       ]
      },
      {
       "output_type": "stream",
       "stream": "stderr",
       "text": [
        "WARNING:root:timeout occured in motors 31 after sending DxlInstructionPacket(id=31, instruction=2, parameters=(36, 6))"
       ]
      },
      {
       "output_type": "stream",
       "stream": "stderr",
       "text": [
        "WARNING:root:timeout occured in motors 31 after sending DxlInstructionPacket(id=31, instruction=2, parameters=(6, 4))"
       ]
      },
      {
       "output_type": "stream",
       "stream": "stderr",
       "text": [
        "WARNING:root:timeout occured in motors 31 after sending DxlInstructionPacket(id=31, instruction=2, parameters=(36, 6))"
       ]
      },
      {
       "output_type": "stream",
       "stream": "stderr",
       "text": [
        "WARNING:root:timeout occured in motors 31 after sending DxlInstructionPacket(id=31, instruction=2, parameters=(42, 1))"
       ]
      },
      {
       "output_type": "stream",
       "stream": "stderr",
       "text": [
        "WARNING:root:timeout occured in motors 31 after sending DxlInstructionPacket(id=31, instruction=2, parameters=(43, 1))"
       ]
      },
      {
       "output_type": "stream",
       "stream": "stderr",
       "text": [
        "WARNING:root:timeout occured in motors 31 after sending DxlInstructionPacket(id=31, instruction=2, parameters=(36, 6))"
       ]
      },
      {
       "output_type": "stream",
       "stream": "stderr",
       "text": [
        "WARNING:root:timeout occured in motors 31 after sending DxlInstructionPacket(id=31, instruction=2, parameters=(36, 6))"
       ]
      },
      {
       "output_type": "stream",
       "stream": "stderr",
       "text": [
        "WARNING:root:timeout occured in motors 31 after sending DxlInstructionPacket(id=31, instruction=2, parameters=(36, 6))"
       ]
      },
      {
       "output_type": "stream",
       "stream": "stderr",
       "text": [
        "WARNING:root:timeout occured in motors 31 after sending DxlInstructionPacket(id=31, instruction=2, parameters=(36, 6))"
       ]
      },
      {
       "output_type": "stream",
       "stream": "stderr",
       "text": [
        "WARNING:root:timeout occured in motors 31 after sending DxlInstructionPacket(id=31, instruction=2, parameters=(36, 6))"
       ]
      },
      {
       "output_type": "stream",
       "stream": "stderr",
       "text": [
        "WARNING:root:timeout occured in motors 31 after sending DxlInstructionPacket(id=31, instruction=2, parameters=(36, 6))"
       ]
      },
      {
       "output_type": "stream",
       "stream": "stderr",
       "text": [
        "WARNING:root:timeout occured in motors 31 after sending DxlInstructionPacket(id=31, instruction=2, parameters=(36, 6))"
       ]
      },
      {
       "output_type": "stream",
       "stream": "stderr",
       "text": [
        "WARNING:root:timeout occured in motors 31 after sending DxlInstructionPacket(id=31, instruction=2, parameters=(36, 6))"
       ]
      },
      {
       "output_type": "stream",
       "stream": "stderr",
       "text": [
        "WARNING:root:timeout occured in motors 31 after sending DxlInstructionPacket(id=31, instruction=2, parameters=(36, 6))"
       ]
      },
      {
       "output_type": "stream",
       "stream": "stderr",
       "text": [
        "WARNING:root:timeout occured in motors 31 after sending DxlInstructionPacket(id=31, instruction=2, parameters=(36, 6))"
       ]
      },
      {
       "output_type": "stream",
       "stream": "stderr",
       "text": [
        "WARNING:root:timeout occured in motors 31 after sending DxlInstructionPacket(id=31, instruction=2, parameters=(36, 6))"
       ]
      },
      {
       "output_type": "stream",
       "stream": "stderr",
       "text": [
        "WARNING:root:timeout occured in motors 31 after sending DxlInstructionPacket(id=31, instruction=2, parameters=(36, 6))"
       ]
      },
      {
       "output_type": "stream",
       "stream": "stderr",
       "text": [
        "WARNING:root:timeout occured in motors 31 after sending DxlInstructionPacket(id=31, instruction=2, parameters=(36, 6))"
       ]
      },
      {
       "output_type": "stream",
       "stream": "stderr",
       "text": [
        "WARNING:root:timeout occured in motors 31 after sending DxlInstructionPacket(id=31, instruction=2, parameters=(36, 6))"
       ]
      },
      {
       "output_type": "stream",
       "stream": "stderr",
       "text": [
        "WARNING:root:timeout occured in motors 31 after sending DxlInstructionPacket(id=31, instruction=2, parameters=(36, 6))"
       ]
      },
      {
       "output_type": "stream",
       "stream": "stderr",
       "text": [
        "WARNING:root:timeout occured in motors 31 after sending DxlInstructionPacket(id=31, instruction=2, parameters=(6, 4))"
       ]
      },
      {
       "output_type": "stream",
       "stream": "stderr",
       "text": [
        "WARNING:root:timeout occured in motors 31 after sending DxlInstructionPacket(id=31, instruction=2, parameters=(36, 6))"
       ]
      },
      {
       "output_type": "stream",
       "stream": "stderr",
       "text": [
        "WARNING:root:timeout occured in motors 31 after sending DxlInstructionPacket(id=31, instruction=2, parameters=(42, 1))"
       ]
      },
      {
       "output_type": "stream",
       "stream": "stderr",
       "text": [
        "WARNING:root:timeout occured in motors 31 after sending DxlInstructionPacket(id=31, instruction=2, parameters=(43, 1))"
       ]
      },
      {
       "output_type": "stream",
       "stream": "stderr",
       "text": [
        "WARNING:root:timeout occured in motors 31 after sending DxlInstructionPacket(id=31, instruction=2, parameters=(36, 6))"
       ]
      },
      {
       "output_type": "stream",
       "stream": "stderr",
       "text": [
        "WARNING:root:timeout occured in motors 31 after sending DxlInstructionPacket(id=31, instruction=2, parameters=(36, 6))"
       ]
      },
      {
       "output_type": "stream",
       "stream": "stderr",
       "text": [
        "WARNING:root:timeout occured in motors 31 after sending DxlInstructionPacket(id=31, instruction=2, parameters=(36, 6))"
       ]
      },
      {
       "output_type": "stream",
       "stream": "stderr",
       "text": [
        "WARNING:root:timeout occured in motors 31 after sending DxlInstructionPacket(id=31, instruction=2, parameters=(36, 6))"
       ]
      },
      {
       "output_type": "stream",
       "stream": "stderr",
       "text": [
        "WARNING:root:timeout occured in motors 31 after sending DxlInstructionPacket(id=31, instruction=2, parameters=(36, 6))"
       ]
      },
      {
       "output_type": "stream",
       "stream": "stderr",
       "text": [
        "WARNING:root:timeout occured in motors 31 after sending DxlInstructionPacket(id=31, instruction=2, parameters=(36, 6))"
       ]
      },
      {
       "output_type": "stream",
       "stream": "stderr",
       "text": [
        "WARNING:root:timeout occured in motors 31 after sending DxlInstructionPacket(id=31, instruction=2, parameters=(36, 6))"
       ]
      },
      {
       "output_type": "stream",
       "stream": "stderr",
       "text": [
        "WARNING:root:timeout occured in motors 31 after sending DxlInstructionPacket(id=31, instruction=2, parameters=(36, 6))"
       ]
      },
      {
       "output_type": "stream",
       "stream": "stderr",
       "text": [
        "WARNING:root:timeout occured in motors 31 after sending DxlInstructionPacket(id=31, instruction=2, parameters=(36, 6))"
       ]
      },
      {
       "output_type": "stream",
       "stream": "stderr",
       "text": [
        "WARNING:root:timeout occured in motors 31 after sending DxlInstructionPacket(id=31, instruction=2, parameters=(36, 6))"
       ]
      },
      {
       "output_type": "stream",
       "stream": "stderr",
       "text": [
        "WARNING:root:timeout occured in motors 31 after sending DxlInstructionPacket(id=31, instruction=2, parameters=(36, 6))"
       ]
      },
      {
       "output_type": "stream",
       "stream": "stderr",
       "text": [
        "WARNING:root:timeout occured in motors 31 after sending DxlInstructionPacket(id=31, instruction=2, parameters=(36, 6))"
       ]
      },
      {
       "output_type": "stream",
       "stream": "stderr",
       "text": [
        "WARNING:root:timeout occured in motors 31 after sending DxlInstructionPacket(id=31, instruction=2, parameters=(36, 6))"
       ]
      },
      {
       "output_type": "stream",
       "stream": "stderr",
       "text": [
        "WARNING:root:timeout occured in motors 31 after sending DxlInstructionPacket(id=31, instruction=2, parameters=(36, 6))"
       ]
      },
      {
       "output_type": "stream",
       "stream": "stderr",
       "text": [
        "WARNING:root:timeout occured in motors 31 after sending DxlInstructionPacket(id=31, instruction=2, parameters=(36, 6))"
       ]
      },
      {
       "output_type": "stream",
       "stream": "stderr",
       "text": [
        "WARNING:root:timeout occured in motors 31 after sending DxlInstructionPacket(id=31, instruction=2, parameters=(6, 4))"
       ]
      },
      {
       "output_type": "stream",
       "stream": "stderr",
       "text": [
        "WARNING:root:timeout occured in motors 31 after sending DxlInstructionPacket(id=31, instruction=2, parameters=(36, 6))"
       ]
      },
      {
       "output_type": "stream",
       "stream": "stderr",
       "text": [
        "WARNING:root:timeout occured in motors 31 after sending DxlInstructionPacket(id=31, instruction=2, parameters=(42, 1))"
       ]
      },
      {
       "output_type": "stream",
       "stream": "stderr",
       "text": [
        "WARNING:root:timeout occured in motors 31 after sending DxlInstructionPacket(id=31, instruction=2, parameters=(43, 1))"
       ]
      },
      {
       "output_type": "stream",
       "stream": "stderr",
       "text": [
        "WARNING:root:timeout occured in motors 31 after sending DxlInstructionPacket(id=31, instruction=2, parameters=(36, 6))"
       ]
      },
      {
       "output_type": "stream",
       "stream": "stderr",
       "text": [
        "WARNING:root:timeout occured in motors 31 after sending DxlInstructionPacket(id=31, instruction=2, parameters=(36, 6))"
       ]
      },
      {
       "output_type": "stream",
       "stream": "stderr",
       "text": [
        "WARNING:root:timeout occured in motors 31 after sending DxlInstructionPacket(id=31, instruction=2, parameters=(36, 6))"
       ]
      },
      {
       "output_type": "stream",
       "stream": "stderr",
       "text": [
        "WARNING:root:timeout occured in motors 31 after sending DxlInstructionPacket(id=31, instruction=2, parameters=(36, 6))"
       ]
      },
      {
       "output_type": "stream",
       "stream": "stderr",
       "text": [
        "WARNING:root:timeout occured in motors 31 after sending DxlInstructionPacket(id=31, instruction=2, parameters=(36, 6))"
       ]
      },
      {
       "output_type": "stream",
       "stream": "stderr",
       "text": [
        "WARNING:root:timeout occured in motors 31 after sending DxlInstructionPacket(id=31, instruction=2, parameters=(36, 6))"
       ]
      },
      {
       "output_type": "stream",
       "stream": "stderr",
       "text": [
        "WARNING:root:timeout occured in motors 31 after sending DxlInstructionPacket(id=31, instruction=2, parameters=(36, 6))"
       ]
      },
      {
       "output_type": "stream",
       "stream": "stderr",
       "text": [
        "WARNING:root:timeout occured in motors 31 after sending DxlInstructionPacket(id=31, instruction=2, parameters=(36, 6))"
       ]
      },
      {
       "output_type": "stream",
       "stream": "stderr",
       "text": [
        "WARNING:root:timeout occured in motors 31 after sending DxlInstructionPacket(id=31, instruction=2, parameters=(36, 6))"
       ]
      },
      {
       "output_type": "stream",
       "stream": "stderr",
       "text": [
        "WARNING:root:timeout occured in motors 31 after sending DxlInstructionPacket(id=31, instruction=2, parameters=(36, 6))"
       ]
      },
      {
       "output_type": "stream",
       "stream": "stderr",
       "text": [
        "WARNING:root:timeout occured in motors 31 after sending DxlInstructionPacket(id=31, instruction=2, parameters=(36, 6))"
       ]
      },
      {
       "output_type": "stream",
       "stream": "stderr",
       "text": [
        "WARNING:root:timeout occured in motors 31 after sending DxlInstructionPacket(id=31, instruction=2, parameters=(36, 6))"
       ]
      },
      {
       "output_type": "stream",
       "stream": "stderr",
       "text": [
        "WARNING:root:timeout occured in motors 31 after sending DxlInstructionPacket(id=31, instruction=2, parameters=(36, 6))"
       ]
      },
      {
       "output_type": "stream",
       "stream": "stderr",
       "text": [
        "WARNING:root:timeout occured in motors 31 after sending DxlInstructionPacket(id=31, instruction=2, parameters=(36, 6))"
       ]
      },
      {
       "output_type": "stream",
       "stream": "stderr",
       "text": [
        "WARNING:root:timeout occured in motors 31 after sending DxlInstructionPacket(id=31, instruction=2, parameters=(36, 6))"
       ]
      },
      {
       "output_type": "stream",
       "stream": "stderr",
       "text": [
        "WARNING:root:timeout occured in motors 31 after sending DxlInstructionPacket(id=31, instruction=2, parameters=(6, 4))"
       ]
      },
      {
       "output_type": "stream",
       "stream": "stderr",
       "text": [
        "WARNING:root:timeout occured in motors 31 after sending DxlInstructionPacket(id=31, instruction=2, parameters=(36, 6))"
       ]
      },
      {
       "output_type": "stream",
       "stream": "stderr",
       "text": [
        "WARNING:root:timeout occured in motors 31 after sending DxlInstructionPacket(id=31, instruction=2, parameters=(42, 1))"
       ]
      },
      {
       "output_type": "stream",
       "stream": "stderr",
       "text": [
        "WARNING:root:timeout occured in motors 31 after sending DxlInstructionPacket(id=31, instruction=2, parameters=(43, 1))"
       ]
      },
      {
       "output_type": "stream",
       "stream": "stderr",
       "text": [
        "WARNING:root:timeout occured in motors 31 after sending DxlInstructionPacket(id=31, instruction=2, parameters=(36, 6))"
       ]
      },
      {
       "output_type": "stream",
       "stream": "stderr",
       "text": [
        "WARNING:root:timeout occured in motors 31 after sending DxlInstructionPacket(id=31, instruction=2, parameters=(36, 6))"
       ]
      },
      {
       "output_type": "stream",
       "stream": "stderr",
       "text": [
        "WARNING:root:timeout occured in motors 31 after sending DxlInstructionPacket(id=31, instruction=2, parameters=(36, 6))"
       ]
      },
      {
       "output_type": "stream",
       "stream": "stderr",
       "text": [
        "WARNING:root:timeout occured in motors 31 after sending DxlInstructionPacket(id=31, instruction=2, parameters=(36, 6))"
       ]
      },
      {
       "output_type": "stream",
       "stream": "stderr",
       "text": [
        "WARNING:root:timeout occured in motors 31 after sending DxlInstructionPacket(id=31, instruction=2, parameters=(36, 6))"
       ]
      },
      {
       "output_type": "stream",
       "stream": "stderr",
       "text": [
        "WARNING:root:timeout occured in motors 31 after sending DxlInstructionPacket(id=31, instruction=2, parameters=(36, 6))"
       ]
      },
      {
       "output_type": "stream",
       "stream": "stderr",
       "text": [
        "WARNING:root:timeout occured in motors 31 after sending DxlInstructionPacket(id=31, instruction=2, parameters=(36, 6))"
       ]
      },
      {
       "output_type": "stream",
       "stream": "stderr",
       "text": [
        "WARNING:root:timeout occured in motors 31 after sending DxlInstructionPacket(id=31, instruction=2, parameters=(36, 6))"
       ]
      },
      {
       "output_type": "stream",
       "stream": "stderr",
       "text": [
        "WARNING:root:timeout occured in motors 31 after sending DxlInstructionPacket(id=31, instruction=2, parameters=(36, 6))"
       ]
      },
      {
       "output_type": "stream",
       "stream": "stderr",
       "text": [
        "WARNING:root:timeout occured in motors 31 after sending DxlInstructionPacket(id=31, instruction=2, parameters=(36, 6))"
       ]
      },
      {
       "output_type": "stream",
       "stream": "stderr",
       "text": [
        "WARNING:root:timeout occured in motors 31 after sending DxlInstructionPacket(id=31, instruction=2, parameters=(36, 6))"
       ]
      },
      {
       "output_type": "stream",
       "stream": "stderr",
       "text": [
        "WARNING:root:timeout occured in motors 31 after sending DxlInstructionPacket(id=31, instruction=2, parameters=(36, 6))"
       ]
      },
      {
       "output_type": "stream",
       "stream": "stderr",
       "text": [
        "WARNING:root:timeout occured in motors 31 after sending DxlInstructionPacket(id=31, instruction=2, parameters=(36, 6))"
       ]
      },
      {
       "output_type": "stream",
       "stream": "stderr",
       "text": [
        "WARNING:root:timeout occured in motors 31 after sending DxlInstructionPacket(id=31, instruction=2, parameters=(36, 6))"
       ]
      },
      {
       "output_type": "stream",
       "stream": "stderr",
       "text": [
        "WARNING:root:timeout occured in motors 31 after sending DxlInstructionPacket(id=31, instruction=2, parameters=(36, 6))"
       ]
      },
      {
       "output_type": "stream",
       "stream": "stderr",
       "text": [
        "WARNING:root:timeout occured in motors 31 after sending DxlInstructionPacket(id=31, instruction=2, parameters=(6, 4))"
       ]
      },
      {
       "output_type": "stream",
       "stream": "stderr",
       "text": [
        "WARNING:root:timeout occured in motors 31 after sending DxlInstructionPacket(id=31, instruction=2, parameters=(36, 6))"
       ]
      },
      {
       "output_type": "stream",
       "stream": "stderr",
       "text": [
        "WARNING:root:timeout occured in motors 31 after sending DxlInstructionPacket(id=31, instruction=2, parameters=(42, 1))"
       ]
      },
      {
       "output_type": "stream",
       "stream": "stderr",
       "text": [
        "WARNING:root:timeout occured in motors 31 after sending DxlInstructionPacket(id=31, instruction=2, parameters=(43, 1))"
       ]
      },
      {
       "output_type": "stream",
       "stream": "stderr",
       "text": [
        "WARNING:root:timeout occured in motors 31 after sending DxlInstructionPacket(id=31, instruction=2, parameters=(36, 6))"
       ]
      },
      {
       "output_type": "stream",
       "stream": "stderr",
       "text": [
        "WARNING:root:timeout occured in motors 31 after sending DxlInstructionPacket(id=31, instruction=2, parameters=(36, 6))"
       ]
      },
      {
       "output_type": "stream",
       "stream": "stderr",
       "text": [
        "WARNING:root:timeout occured in motors 31 after sending DxlInstructionPacket(id=31, instruction=2, parameters=(36, 6))"
       ]
      },
      {
       "output_type": "stream",
       "stream": "stderr",
       "text": [
        "WARNING:root:timeout occured in motors 31 after sending DxlInstructionPacket(id=31, instruction=2, parameters=(36, 6))"
       ]
      },
      {
       "output_type": "stream",
       "stream": "stderr",
       "text": [
        "WARNING:root:timeout occured in motors 31 after sending DxlInstructionPacket(id=31, instruction=2, parameters=(36, 6))"
       ]
      },
      {
       "output_type": "stream",
       "stream": "stderr",
       "text": [
        "WARNING:root:timeout occured in motors 31 after sending DxlInstructionPacket(id=31, instruction=2, parameters=(36, 6))"
       ]
      },
      {
       "output_type": "stream",
       "stream": "stderr",
       "text": [
        "WARNING:root:timeout occured in motors 31 after sending DxlInstructionPacket(id=31, instruction=2, parameters=(36, 6))"
       ]
      },
      {
       "output_type": "stream",
       "stream": "stderr",
       "text": [
        "WARNING:root:timeout occured in motors 31 after sending DxlInstructionPacket(id=31, instruction=2, parameters=(36, 6))"
       ]
      },
      {
       "output_type": "stream",
       "stream": "stderr",
       "text": [
        "WARNING:root:timeout occured in motors 31 after sending DxlInstructionPacket(id=31, instruction=2, parameters=(36, 6))"
       ]
      },
      {
       "output_type": "stream",
       "stream": "stderr",
       "text": [
        "WARNING:root:timeout occured in motors 31 after sending DxlInstructionPacket(id=31, instruction=2, parameters=(36, 6))"
       ]
      },
      {
       "output_type": "stream",
       "stream": "stderr",
       "text": [
        "WARNING:root:timeout occured in motors 31 after sending DxlInstructionPacket(id=31, instruction=2, parameters=(36, 6))"
       ]
      },
      {
       "output_type": "stream",
       "stream": "stderr",
       "text": [
        "WARNING:root:timeout occured in motors 31 after sending DxlInstructionPacket(id=31, instruction=2, parameters=(36, 6))"
       ]
      },
      {
       "output_type": "stream",
       "stream": "stderr",
       "text": [
        "WARNING:root:timeout occured in motors 31 after sending DxlInstructionPacket(id=31, instruction=2, parameters=(36, 6))"
       ]
      },
      {
       "output_type": "stream",
       "stream": "stderr",
       "text": [
        "WARNING:root:timeout occured in motors 31 after sending DxlInstructionPacket(id=31, instruction=2, parameters=(36, 6))"
       ]
      },
      {
       "output_type": "stream",
       "stream": "stderr",
       "text": [
        "WARNING:root:timeout occured in motors 31 after sending DxlInstructionPacket(id=31, instruction=2, parameters=(36, 6))"
       ]
      },
      {
       "output_type": "stream",
       "stream": "stderr",
       "text": [
        "WARNING:root:timeout occured in motors 31 after sending DxlInstructionPacket(id=31, instruction=2, parameters=(6, 4))"
       ]
      },
      {
       "output_type": "stream",
       "stream": "stderr",
       "text": [
        "WARNING:root:timeout occured in motors 31 after sending DxlInstructionPacket(id=31, instruction=2, parameters=(36, 6))"
       ]
      },
      {
       "output_type": "stream",
       "stream": "stderr",
       "text": [
        "WARNING:root:timeout occured in motors 31 after sending DxlInstructionPacket(id=31, instruction=2, parameters=(42, 1))"
       ]
      },
      {
       "output_type": "stream",
       "stream": "stderr",
       "text": [
        "WARNING:root:timeout occured in motors 31 after sending DxlInstructionPacket(id=31, instruction=2, parameters=(43, 1))"
       ]
      },
      {
       "output_type": "stream",
       "stream": "stderr",
       "text": [
        "WARNING:root:timeout occured in motors 31 after sending DxlInstructionPacket(id=31, instruction=2, parameters=(36, 6))"
       ]
      },
      {
       "output_type": "stream",
       "stream": "stderr",
       "text": [
        "WARNING:root:timeout occured in motors 31 after sending DxlInstructionPacket(id=31, instruction=2, parameters=(36, 6))"
       ]
      },
      {
       "output_type": "stream",
       "stream": "stderr",
       "text": [
        "WARNING:root:timeout occured in motors 31 after sending DxlInstructionPacket(id=31, instruction=2, parameters=(36, 6))"
       ]
      },
      {
       "output_type": "stream",
       "stream": "stderr",
       "text": [
        "WARNING:root:timeout occured in motors 31 after sending DxlInstructionPacket(id=31, instruction=2, parameters=(36, 6))"
       ]
      },
      {
       "output_type": "stream",
       "stream": "stderr",
       "text": [
        "WARNING:root:timeout occured in motors 31 after sending DxlInstructionPacket(id=31, instruction=2, parameters=(36, 6))"
       ]
      },
      {
       "output_type": "stream",
       "stream": "stderr",
       "text": [
        "WARNING:root:timeout occured in motors 31 after sending DxlInstructionPacket(id=31, instruction=2, parameters=(36, 6))"
       ]
      },
      {
       "output_type": "stream",
       "stream": "stderr",
       "text": [
        "WARNING:root:timeout occured in motors 31 after sending DxlInstructionPacket(id=31, instruction=2, parameters=(36, 6))"
       ]
      },
      {
       "output_type": "stream",
       "stream": "stderr",
       "text": [
        "WARNING:root:timeout occured in motors 31 after sending DxlInstructionPacket(id=31, instruction=2, parameters=(36, 6))"
       ]
      },
      {
       "output_type": "stream",
       "stream": "stderr",
       "text": [
        "WARNING:root:timeout occured in motors 31 after sending DxlInstructionPacket(id=31, instruction=2, parameters=(36, 6))"
       ]
      },
      {
       "output_type": "stream",
       "stream": "stderr",
       "text": [
        "WARNING:root:timeout occured in motors 31 after sending DxlInstructionPacket(id=31, instruction=2, parameters=(36, 6))"
       ]
      },
      {
       "output_type": "stream",
       "stream": "stderr",
       "text": [
        "WARNING:root:timeout occured in motors 31 after sending DxlInstructionPacket(id=31, instruction=2, parameters=(36, 6))"
       ]
      },
      {
       "output_type": "stream",
       "stream": "stderr",
       "text": [
        "WARNING:root:timeout occured in motors 31 after sending DxlInstructionPacket(id=31, instruction=2, parameters=(36, 6))"
       ]
      },
      {
       "output_type": "stream",
       "stream": "stderr",
       "text": [
        "WARNING:root:timeout occured in motors 31 after sending DxlInstructionPacket(id=31, instruction=2, parameters=(36, 6))"
       ]
      },
      {
       "output_type": "stream",
       "stream": "stderr",
       "text": [
        "WARNING:root:timeout occured in motors 31 after sending DxlInstructionPacket(id=31, instruction=2, parameters=(36, 6))"
       ]
      },
      {
       "output_type": "stream",
       "stream": "stderr",
       "text": [
        "WARNING:root:timeout occured in motors 31 after sending DxlInstructionPacket(id=31, instruction=2, parameters=(36, 6))"
       ]
      },
      {
       "output_type": "stream",
       "stream": "stderr",
       "text": [
        "WARNING:root:timeout occured in motors 31 after sending DxlInstructionPacket(id=31, instruction=2, parameters=(6, 4))"
       ]
      },
      {
       "output_type": "stream",
       "stream": "stderr",
       "text": [
        "WARNING:root:timeout occured in motors 31 after sending DxlInstructionPacket(id=31, instruction=2, parameters=(42, 1))"
       ]
      },
      {
       "output_type": "stream",
       "stream": "stderr",
       "text": [
        "WARNING:root:timeout occured in motors 31 after sending DxlInstructionPacket(id=31, instruction=2, parameters=(36, 6))"
       ]
      },
      {
       "output_type": "stream",
       "stream": "stderr",
       "text": [
        "WARNING:root:timeout occured in motors 31 after sending DxlInstructionPacket(id=31, instruction=2, parameters=(43, 1))"
       ]
      },
      {
       "output_type": "stream",
       "stream": "stderr",
       "text": [
        "WARNING:root:timeout occured in motors 31 after sending DxlInstructionPacket(id=31, instruction=2, parameters=(36, 6))"
       ]
      },
      {
       "output_type": "stream",
       "stream": "stderr",
       "text": [
        "WARNING:root:timeout occured in motors 31 after sending DxlInstructionPacket(id=31, instruction=2, parameters=(36, 6))"
       ]
      },
      {
       "output_type": "stream",
       "stream": "stderr",
       "text": [
        "WARNING:root:timeout occured in motors 31 after sending DxlInstructionPacket(id=31, instruction=2, parameters=(36, 6))"
       ]
      },
      {
       "output_type": "stream",
       "stream": "stderr",
       "text": [
        "WARNING:root:timeout occured in motors 31 after sending DxlInstructionPacket(id=31, instruction=2, parameters=(36, 6))"
       ]
      },
      {
       "output_type": "stream",
       "stream": "stderr",
       "text": [
        "WARNING:root:timeout occured in motors 31 after sending DxlInstructionPacket(id=31, instruction=2, parameters=(36, 6))"
       ]
      },
      {
       "output_type": "stream",
       "stream": "stderr",
       "text": [
        "WARNING:root:timeout occured in motors 31 after sending DxlInstructionPacket(id=31, instruction=2, parameters=(36, 6))"
       ]
      },
      {
       "output_type": "stream",
       "stream": "stderr",
       "text": [
        "WARNING:root:timeout occured in motors 31 after sending DxlInstructionPacket(id=31, instruction=2, parameters=(36, 6))"
       ]
      },
      {
       "output_type": "stream",
       "stream": "stderr",
       "text": [
        "WARNING:root:timeout occured in motors 31 after sending DxlInstructionPacket(id=31, instruction=2, parameters=(36, 6))"
       ]
      },
      {
       "output_type": "stream",
       "stream": "stderr",
       "text": [
        "WARNING:root:timeout occured in motors 31 after sending DxlInstructionPacket(id=31, instruction=2, parameters=(36, 6))"
       ]
      },
      {
       "output_type": "stream",
       "stream": "stderr",
       "text": [
        "WARNING:root:timeout occured in motors 31 after sending DxlInstructionPacket(id=31, instruction=2, parameters=(36, 6))"
       ]
      },
      {
       "output_type": "stream",
       "stream": "stderr",
       "text": [
        "WARNING:root:timeout occured in motors 31 after sending DxlInstructionPacket(id=31, instruction=2, parameters=(36, 6))"
       ]
      },
      {
       "output_type": "stream",
       "stream": "stderr",
       "text": [
        "WARNING:root:timeout occured in motors 31 after sending DxlInstructionPacket(id=31, instruction=2, parameters=(36, 6))"
       ]
      },
      {
       "output_type": "stream",
       "stream": "stderr",
       "text": [
        "WARNING:root:timeout occured in motors 31 after sending DxlInstructionPacket(id=31, instruction=2, parameters=(36, 6))"
       ]
      },
      {
       "output_type": "stream",
       "stream": "stderr",
       "text": [
        "WARNING:root:timeout occured in motors 31 after sending DxlInstructionPacket(id=31, instruction=2, parameters=(36, 6))"
       ]
      },
      {
       "output_type": "stream",
       "stream": "stderr",
       "text": [
        "WARNING:root:timeout occured in motors 31 after sending DxlInstructionPacket(id=31, instruction=2, parameters=(36, 6))"
       ]
      },
      {
       "output_type": "stream",
       "stream": "stderr",
       "text": [
        "WARNING:root:timeout occured in motors 31 after sending DxlInstructionPacket(id=31, instruction=2, parameters=(6, 4))"
       ]
      },
      {
       "output_type": "stream",
       "stream": "stderr",
       "text": [
        "WARNING:root:timeout occured in motors 31 after sending DxlInstructionPacket(id=31, instruction=2, parameters=(42, 1))"
       ]
      },
      {
       "output_type": "stream",
       "stream": "stderr",
       "text": [
        "WARNING:root:timeout occured in motors 31 after sending DxlInstructionPacket(id=31, instruction=2, parameters=(36, 6))"
       ]
      },
      {
       "output_type": "stream",
       "stream": "stderr",
       "text": [
        "WARNING:root:timeout occured in motors 31 after sending DxlInstructionPacket(id=31, instruction=2, parameters=(43, 1))"
       ]
      },
      {
       "output_type": "stream",
       "stream": "stderr",
       "text": [
        "WARNING:root:timeout occured in motors 31 after sending DxlInstructionPacket(id=31, instruction=2, parameters=(36, 6))"
       ]
      },
      {
       "output_type": "stream",
       "stream": "stderr",
       "text": [
        "WARNING:root:timeout occured in motors 31 after sending DxlInstructionPacket(id=31, instruction=2, parameters=(36, 6))"
       ]
      },
      {
       "output_type": "stream",
       "stream": "stderr",
       "text": [
        "WARNING:root:timeout occured in motors 31 after sending DxlInstructionPacket(id=31, instruction=2, parameters=(36, 6))"
       ]
      },
      {
       "output_type": "stream",
       "stream": "stderr",
       "text": [
        "WARNING:root:timeout occured in motors 31 after sending DxlInstructionPacket(id=31, instruction=2, parameters=(36, 6))"
       ]
      },
      {
       "output_type": "stream",
       "stream": "stderr",
       "text": [
        "WARNING:root:timeout occured in motors 31 after sending DxlInstructionPacket(id=31, instruction=2, parameters=(36, 6))"
       ]
      },
      {
       "output_type": "stream",
       "stream": "stderr",
       "text": [
        "WARNING:root:timeout occured in motors 31 after sending DxlInstructionPacket(id=31, instruction=2, parameters=(36, 6))"
       ]
      },
      {
       "output_type": "stream",
       "stream": "stderr",
       "text": [
        "WARNING:root:timeout occured in motors 31 after sending DxlInstructionPacket(id=31, instruction=2, parameters=(36, 6))"
       ]
      },
      {
       "output_type": "stream",
       "stream": "stderr",
       "text": [
        "WARNING:root:timeout occured in motors 31 after sending DxlInstructionPacket(id=31, instruction=2, parameters=(36, 6))"
       ]
      },
      {
       "output_type": "stream",
       "stream": "stderr",
       "text": [
        "WARNING:root:timeout occured in motors 31 after sending DxlInstructionPacket(id=31, instruction=2, parameters=(36, 6))"
       ]
      },
      {
       "output_type": "stream",
       "stream": "stderr",
       "text": [
        "WARNING:root:timeout occured in motors 31 after sending DxlInstructionPacket(id=31, instruction=2, parameters=(36, 6))"
       ]
      },
      {
       "output_type": "stream",
       "stream": "stderr",
       "text": [
        "WARNING:root:timeout occured in motors 31 after sending DxlInstructionPacket(id=31, instruction=2, parameters=(36, 6))"
       ]
      },
      {
       "output_type": "stream",
       "stream": "stderr",
       "text": [
        "WARNING:root:timeout occured in motors 31 after sending DxlInstructionPacket(id=31, instruction=2, parameters=(36, 6))"
       ]
      },
      {
       "output_type": "stream",
       "stream": "stderr",
       "text": [
        "WARNING:root:timeout occured in motors 31 after sending DxlInstructionPacket(id=31, instruction=2, parameters=(36, 6))"
       ]
      },
      {
       "output_type": "stream",
       "stream": "stderr",
       "text": [
        "WARNING:root:timeout occured in motors 31 after sending DxlInstructionPacket(id=31, instruction=2, parameters=(36, 6))"
       ]
      },
      {
       "output_type": "stream",
       "stream": "stderr",
       "text": [
        "WARNING:root:timeout occured in motors 31 after sending DxlInstructionPacket(id=31, instruction=2, parameters=(36, 6))"
       ]
      },
      {
       "output_type": "stream",
       "stream": "stderr",
       "text": [
        "WARNING:root:timeout occured in motors 31 after sending DxlInstructionPacket(id=31, instruction=2, parameters=(6, 4))"
       ]
      },
      {
       "output_type": "stream",
       "stream": "stderr",
       "text": [
        "WARNING:root:timeout occured in motors 31 after sending DxlInstructionPacket(id=31, instruction=2, parameters=(42, 1))"
       ]
      },
      {
       "output_type": "stream",
       "stream": "stderr",
       "text": [
        "WARNING:root:timeout occured in motors 31 after sending DxlInstructionPacket(id=31, instruction=2, parameters=(36, 6))"
       ]
      },
      {
       "output_type": "stream",
       "stream": "stderr",
       "text": [
        "WARNING:root:timeout occured in motors 31 after sending DxlInstructionPacket(id=31, instruction=2, parameters=(43, 1))"
       ]
      },
      {
       "output_type": "stream",
       "stream": "stderr",
       "text": [
        "WARNING:root:timeout occured in motors 31 after sending DxlInstructionPacket(id=31, instruction=2, parameters=(36, 6))"
       ]
      },
      {
       "output_type": "stream",
       "stream": "stderr",
       "text": [
        "WARNING:root:timeout occured in motors 31 after sending DxlInstructionPacket(id=31, instruction=2, parameters=(36, 6))"
       ]
      },
      {
       "output_type": "stream",
       "stream": "stderr",
       "text": [
        "WARNING:root:timeout occured in motors 31 after sending DxlInstructionPacket(id=31, instruction=2, parameters=(36, 6))"
       ]
      },
      {
       "output_type": "stream",
       "stream": "stderr",
       "text": [
        "WARNING:root:timeout occured in motors 31 after sending DxlInstructionPacket(id=31, instruction=2, parameters=(36, 6))"
       ]
      },
      {
       "output_type": "stream",
       "stream": "stderr",
       "text": [
        "WARNING:root:timeout occured in motors 31 after sending DxlInstructionPacket(id=31, instruction=2, parameters=(36, 6))"
       ]
      },
      {
       "output_type": "stream",
       "stream": "stderr",
       "text": [
        "WARNING:root:timeout occured in motors 31 after sending DxlInstructionPacket(id=31, instruction=2, parameters=(36, 6))"
       ]
      },
      {
       "output_type": "stream",
       "stream": "stderr",
       "text": [
        "WARNING:root:timeout occured in motors 31 after sending DxlInstructionPacket(id=31, instruction=2, parameters=(36, 6))"
       ]
      },
      {
       "output_type": "stream",
       "stream": "stderr",
       "text": [
        "WARNING:root:timeout occured in motors 31 after sending DxlInstructionPacket(id=31, instruction=2, parameters=(36, 6))"
       ]
      },
      {
       "output_type": "stream",
       "stream": "stderr",
       "text": [
        "WARNING:root:timeout occured in motors 31 after sending DxlInstructionPacket(id=31, instruction=2, parameters=(36, 6))"
       ]
      },
      {
       "output_type": "stream",
       "stream": "stderr",
       "text": [
        "WARNING:root:timeout occured in motors 31 after sending DxlInstructionPacket(id=31, instruction=2, parameters=(36, 6))"
       ]
      },
      {
       "output_type": "stream",
       "stream": "stderr",
       "text": [
        "WARNING:root:timeout occured in motors 31 after sending DxlInstructionPacket(id=31, instruction=2, parameters=(36, 6))"
       ]
      },
      {
       "output_type": "stream",
       "stream": "stderr",
       "text": [
        "WARNING:root:timeout occured in motors 31 after sending DxlInstructionPacket(id=31, instruction=2, parameters=(36, 6))"
       ]
      },
      {
       "output_type": "stream",
       "stream": "stderr",
       "text": [
        "WARNING:root:timeout occured in motors 31 after sending DxlInstructionPacket(id=31, instruction=2, parameters=(36, 6))"
       ]
      },
      {
       "output_type": "stream",
       "stream": "stderr",
       "text": [
        "WARNING:root:timeout occured in motors 31 after sending DxlInstructionPacket(id=31, instruction=2, parameters=(36, 6))"
       ]
      },
      {
       "output_type": "stream",
       "stream": "stderr",
       "text": [
        "WARNING:root:timeout occured in motors 31 after sending DxlInstructionPacket(id=31, instruction=2, parameters=(36, 6))"
       ]
      },
      {
       "output_type": "stream",
       "stream": "stderr",
       "text": [
        "WARNING:root:timeout occured in motors 31 after sending DxlInstructionPacket(id=31, instruction=2, parameters=(6, 4))"
       ]
      },
      {
       "output_type": "stream",
       "stream": "stderr",
       "text": [
        "WARNING:root:timeout occured in motors 31 after sending DxlInstructionPacket(id=31, instruction=2, parameters=(42, 1))"
       ]
      },
      {
       "output_type": "stream",
       "stream": "stderr",
       "text": [
        "WARNING:root:timeout occured in motors 31 after sending DxlInstructionPacket(id=31, instruction=2, parameters=(36, 6))"
       ]
      },
      {
       "output_type": "stream",
       "stream": "stderr",
       "text": [
        "WARNING:root:timeout occured in motors 31 after sending DxlInstructionPacket(id=31, instruction=2, parameters=(43, 1))"
       ]
      },
      {
       "output_type": "stream",
       "stream": "stderr",
       "text": [
        "WARNING:root:timeout occured in motors 31 after sending DxlInstructionPacket(id=31, instruction=2, parameters=(36, 6))"
       ]
      },
      {
       "output_type": "stream",
       "stream": "stderr",
       "text": [
        "WARNING:root:timeout occured in motors 31 after sending DxlInstructionPacket(id=31, instruction=2, parameters=(36, 6))"
       ]
      },
      {
       "output_type": "stream",
       "stream": "stderr",
       "text": [
        "WARNING:root:timeout occured in motors 31 after sending DxlInstructionPacket(id=31, instruction=2, parameters=(36, 6))"
       ]
      },
      {
       "output_type": "stream",
       "stream": "stderr",
       "text": [
        "WARNING:root:timeout occured in motors 31 after sending DxlInstructionPacket(id=31, instruction=2, parameters=(36, 6))"
       ]
      },
      {
       "output_type": "stream",
       "stream": "stderr",
       "text": [
        "WARNING:root:timeout occured in motors 31 after sending DxlInstructionPacket(id=31, instruction=2, parameters=(36, 6))"
       ]
      },
      {
       "output_type": "stream",
       "stream": "stderr",
       "text": [
        "WARNING:root:timeout occured in motors 31 after sending DxlInstructionPacket(id=31, instruction=2, parameters=(36, 6))"
       ]
      },
      {
       "output_type": "stream",
       "stream": "stderr",
       "text": [
        "WARNING:root:timeout occured in motors 31 after sending DxlInstructionPacket(id=31, instruction=2, parameters=(36, 6))"
       ]
      },
      {
       "output_type": "stream",
       "stream": "stderr",
       "text": [
        "WARNING:root:timeout occured in motors 31 after sending DxlInstructionPacket(id=31, instruction=2, parameters=(36, 6))"
       ]
      },
      {
       "output_type": "stream",
       "stream": "stderr",
       "text": [
        "WARNING:root:timeout occured in motors 31 after sending DxlInstructionPacket(id=31, instruction=2, parameters=(36, 6))"
       ]
      },
      {
       "output_type": "stream",
       "stream": "stderr",
       "text": [
        "WARNING:root:timeout occured in motors 31 after sending DxlInstructionPacket(id=31, instruction=2, parameters=(36, 6))"
       ]
      },
      {
       "output_type": "stream",
       "stream": "stderr",
       "text": [
        "WARNING:root:timeout occured in motors 31 after sending DxlInstructionPacket(id=31, instruction=2, parameters=(36, 6))"
       ]
      },
      {
       "output_type": "stream",
       "stream": "stderr",
       "text": [
        "WARNING:root:timeout occured in motors 31 after sending DxlInstructionPacket(id=31, instruction=2, parameters=(36, 6))"
       ]
      },
      {
       "output_type": "stream",
       "stream": "stderr",
       "text": [
        "WARNING:root:timeout occured in motors 31 after sending DxlInstructionPacket(id=31, instruction=2, parameters=(36, 6))"
       ]
      },
      {
       "output_type": "stream",
       "stream": "stderr",
       "text": [
        "WARNING:root:timeout occured in motors 31 after sending DxlInstructionPacket(id=31, instruction=2, parameters=(36, 6))"
       ]
      },
      {
       "output_type": "stream",
       "stream": "stderr",
       "text": [
        "WARNING:root:timeout occured in motors 31 after sending DxlInstructionPacket(id=31, instruction=2, parameters=(36, 6))"
       ]
      },
      {
       "output_type": "stream",
       "stream": "stderr",
       "text": [
        "WARNING:root:timeout occured in motors 31 after sending DxlInstructionPacket(id=31, instruction=2, parameters=(6, 4))"
       ]
      },
      {
       "output_type": "stream",
       "stream": "stderr",
       "text": [
        "WARNING:root:timeout occured in motors 31 after sending DxlInstructionPacket(id=31, instruction=2, parameters=(42, 1))"
       ]
      },
      {
       "output_type": "stream",
       "stream": "stderr",
       "text": [
        "WARNING:root:timeout occured in motors 31 after sending DxlInstructionPacket(id=31, instruction=2, parameters=(36, 6))"
       ]
      },
      {
       "output_type": "stream",
       "stream": "stderr",
       "text": [
        "WARNING:root:timeout occured in motors 31 after sending DxlInstructionPacket(id=31, instruction=2, parameters=(43, 1))"
       ]
      },
      {
       "output_type": "stream",
       "stream": "stderr",
       "text": [
        "WARNING:root:timeout occured in motors 31 after sending DxlInstructionPacket(id=31, instruction=2, parameters=(36, 6))"
       ]
      },
      {
       "output_type": "stream",
       "stream": "stderr",
       "text": [
        "WARNING:root:timeout occured in motors 31 after sending DxlInstructionPacket(id=31, instruction=2, parameters=(36, 6))"
       ]
      },
      {
       "output_type": "stream",
       "stream": "stderr",
       "text": [
        "WARNING:root:timeout occured in motors 31 after sending DxlInstructionPacket(id=31, instruction=2, parameters=(36, 6))"
       ]
      },
      {
       "output_type": "stream",
       "stream": "stderr",
       "text": [
        "WARNING:root:timeout occured in motors 31 after sending DxlInstructionPacket(id=31, instruction=2, parameters=(36, 6))"
       ]
      },
      {
       "output_type": "stream",
       "stream": "stderr",
       "text": [
        "WARNING:root:timeout occured in motors 31 after sending DxlInstructionPacket(id=31, instruction=2, parameters=(36, 6))"
       ]
      },
      {
       "output_type": "stream",
       "stream": "stderr",
       "text": [
        "WARNING:root:timeout occured in motors 31 after sending DxlInstructionPacket(id=31, instruction=2, parameters=(36, 6))"
       ]
      },
      {
       "output_type": "stream",
       "stream": "stderr",
       "text": [
        "WARNING:root:timeout occured in motors 31 after sending DxlInstructionPacket(id=31, instruction=2, parameters=(36, 6))"
       ]
      },
      {
       "output_type": "stream",
       "stream": "stderr",
       "text": [
        "WARNING:root:timeout occured in motors 31 after sending DxlInstructionPacket(id=31, instruction=2, parameters=(36, 6))"
       ]
      },
      {
       "output_type": "stream",
       "stream": "stderr",
       "text": [
        "WARNING:root:timeout occured in motors 31 after sending DxlInstructionPacket(id=31, instruction=2, parameters=(36, 6))"
       ]
      },
      {
       "output_type": "stream",
       "stream": "stderr",
       "text": [
        "WARNING:root:timeout occured in motors 31 after sending DxlInstructionPacket(id=31, instruction=2, parameters=(36, 6))"
       ]
      },
      {
       "output_type": "stream",
       "stream": "stderr",
       "text": [
        "WARNING:root:timeout occured in motors 31 after sending DxlInstructionPacket(id=31, instruction=2, parameters=(36, 6))"
       ]
      },
      {
       "output_type": "stream",
       "stream": "stderr",
       "text": [
        "WARNING:root:timeout occured in motors 31 after sending DxlInstructionPacket(id=31, instruction=2, parameters=(36, 6))"
       ]
      },
      {
       "output_type": "stream",
       "stream": "stderr",
       "text": [
        "WARNING:root:timeout occured in motors 31 after sending DxlInstructionPacket(id=31, instruction=2, parameters=(36, 6))"
       ]
      },
      {
       "output_type": "stream",
       "stream": "stderr",
       "text": [
        "WARNING:root:timeout occured in motors 31 after sending DxlInstructionPacket(id=31, instruction=2, parameters=(36, 6))"
       ]
      },
      {
       "output_type": "stream",
       "stream": "stderr",
       "text": [
        "WARNING:root:timeout occured in motors 31 after sending DxlInstructionPacket(id=31, instruction=2, parameters=(36, 6))"
       ]
      },
      {
       "output_type": "stream",
       "stream": "stderr",
       "text": [
        "WARNING:root:timeout occured in motors 31 after sending DxlInstructionPacket(id=31, instruction=2, parameters=(6, 4))"
       ]
      },
      {
       "output_type": "stream",
       "stream": "stderr",
       "text": [
        "WARNING:root:timeout occured in motors 31 after sending DxlInstructionPacket(id=31, instruction=2, parameters=(42, 1))"
       ]
      },
      {
       "output_type": "stream",
       "stream": "stderr",
       "text": [
        "WARNING:root:timeout occured in motors 31 after sending DxlInstructionPacket(id=31, instruction=2, parameters=(36, 6))"
       ]
      },
      {
       "output_type": "stream",
       "stream": "stderr",
       "text": [
        "WARNING:root:timeout occured in motors 31 after sending DxlInstructionPacket(id=31, instruction=2, parameters=(43, 1))"
       ]
      },
      {
       "output_type": "stream",
       "stream": "stderr",
       "text": [
        "WARNING:root:timeout occured in motors 31 after sending DxlInstructionPacket(id=31, instruction=2, parameters=(36, 6))"
       ]
      },
      {
       "output_type": "stream",
       "stream": "stderr",
       "text": [
        "WARNING:root:timeout occured in motors 31 after sending DxlInstructionPacket(id=31, instruction=2, parameters=(36, 6))"
       ]
      },
      {
       "output_type": "stream",
       "stream": "stderr",
       "text": [
        "WARNING:root:timeout occured in motors 31 after sending DxlInstructionPacket(id=31, instruction=2, parameters=(36, 6))"
       ]
      },
      {
       "output_type": "stream",
       "stream": "stderr",
       "text": [
        "WARNING:root:timeout occured in motors 31 after sending DxlInstructionPacket(id=31, instruction=2, parameters=(36, 6))"
       ]
      },
      {
       "output_type": "stream",
       "stream": "stderr",
       "text": [
        "WARNING:root:timeout occured in motors 31 after sending DxlInstructionPacket(id=31, instruction=2, parameters=(36, 6))"
       ]
      },
      {
       "output_type": "stream",
       "stream": "stderr",
       "text": [
        "WARNING:root:timeout occured in motors 31 after sending DxlInstructionPacket(id=31, instruction=2, parameters=(36, 6))"
       ]
      },
      {
       "output_type": "stream",
       "stream": "stderr",
       "text": [
        "WARNING:root:timeout occured in motors 31 after sending DxlInstructionPacket(id=31, instruction=2, parameters=(36, 6))"
       ]
      },
      {
       "output_type": "stream",
       "stream": "stderr",
       "text": [
        "WARNING:root:timeout occured in motors 31 after sending DxlInstructionPacket(id=31, instruction=2, parameters=(36, 6))"
       ]
      },
      {
       "output_type": "stream",
       "stream": "stderr",
       "text": [
        "WARNING:root:timeout occured in motors 31 after sending DxlInstructionPacket(id=31, instruction=2, parameters=(36, 6))"
       ]
      },
      {
       "output_type": "stream",
       "stream": "stderr",
       "text": [
        "WARNING:root:timeout occured in motors 31 after sending DxlInstructionPacket(id=31, instruction=2, parameters=(36, 6))"
       ]
      },
      {
       "output_type": "stream",
       "stream": "stderr",
       "text": [
        "WARNING:root:timeout occured in motors 31 after sending DxlInstructionPacket(id=31, instruction=2, parameters=(36, 6))"
       ]
      },
      {
       "output_type": "stream",
       "stream": "stderr",
       "text": [
        "WARNING:root:timeout occured in motors 31 after sending DxlInstructionPacket(id=31, instruction=2, parameters=(36, 6))"
       ]
      },
      {
       "output_type": "stream",
       "stream": "stderr",
       "text": [
        "WARNING:root:timeout occured in motors 31 after sending DxlInstructionPacket(id=31, instruction=2, parameters=(36, 6))"
       ]
      },
      {
       "output_type": "stream",
       "stream": "stderr",
       "text": [
        "WARNING:root:timeout occured in motors 31 after sending DxlInstructionPacket(id=31, instruction=2, parameters=(36, 6))"
       ]
      },
      {
       "output_type": "stream",
       "stream": "stderr",
       "text": [
        "WARNING:root:timeout occured in motors 31 after sending DxlInstructionPacket(id=31, instruction=2, parameters=(36, 6))"
       ]
      },
      {
       "output_type": "stream",
       "stream": "stderr",
       "text": [
        "WARNING:root:timeout occured in motors 31 after sending DxlInstructionPacket(id=31, instruction=2, parameters=(6, 4))"
       ]
      },
      {
       "output_type": "stream",
       "stream": "stderr",
       "text": [
        "WARNING:root:timeout occured in motors 31 after sending DxlInstructionPacket(id=31, instruction=2, parameters=(42, 1))"
       ]
      },
      {
       "output_type": "stream",
       "stream": "stderr",
       "text": [
        "WARNING:root:timeout occured in motors 31 after sending DxlInstructionPacket(id=31, instruction=2, parameters=(36, 6))"
       ]
      },
      {
       "output_type": "stream",
       "stream": "stderr",
       "text": [
        "WARNING:root:timeout occured in motors 31 after sending DxlInstructionPacket(id=31, instruction=2, parameters=(43, 1))"
       ]
      },
      {
       "output_type": "stream",
       "stream": "stderr",
       "text": [
        "WARNING:root:timeout occured in motors 31 after sending DxlInstructionPacket(id=31, instruction=2, parameters=(36, 6))"
       ]
      },
      {
       "output_type": "stream",
       "stream": "stderr",
       "text": [
        "WARNING:root:timeout occured in motors 31 after sending DxlInstructionPacket(id=31, instruction=2, parameters=(36, 6))"
       ]
      },
      {
       "output_type": "stream",
       "stream": "stderr",
       "text": [
        "WARNING:root:timeout occured in motors 31 after sending DxlInstructionPacket(id=31, instruction=2, parameters=(36, 6))"
       ]
      },
      {
       "output_type": "stream",
       "stream": "stderr",
       "text": [
        "WARNING:root:timeout occured in motors 31 after sending DxlInstructionPacket(id=31, instruction=2, parameters=(36, 6))"
       ]
      },
      {
       "output_type": "stream",
       "stream": "stderr",
       "text": [
        "WARNING:root:timeout occured in motors 31 after sending DxlInstructionPacket(id=31, instruction=2, parameters=(36, 6))"
       ]
      },
      {
       "output_type": "stream",
       "stream": "stderr",
       "text": [
        "WARNING:root:timeout occured in motors 31 after sending DxlInstructionPacket(id=31, instruction=2, parameters=(36, 6))"
       ]
      },
      {
       "output_type": "stream",
       "stream": "stderr",
       "text": [
        "WARNING:root:timeout occured in motors 31 after sending DxlInstructionPacket(id=31, instruction=2, parameters=(36, 6))"
       ]
      },
      {
       "output_type": "stream",
       "stream": "stderr",
       "text": [
        "WARNING:root:timeout occured in motors 31 after sending DxlInstructionPacket(id=31, instruction=2, parameters=(36, 6))"
       ]
      },
      {
       "output_type": "stream",
       "stream": "stderr",
       "text": [
        "WARNING:root:timeout occured in motors 31 after sending DxlInstructionPacket(id=31, instruction=2, parameters=(36, 6))"
       ]
      },
      {
       "output_type": "stream",
       "stream": "stderr",
       "text": [
        "WARNING:root:timeout occured in motors 31 after sending DxlInstructionPacket(id=31, instruction=2, parameters=(36, 6))"
       ]
      },
      {
       "output_type": "stream",
       "stream": "stderr",
       "text": [
        "WARNING:root:timeout occured in motors 31 after sending DxlInstructionPacket(id=31, instruction=2, parameters=(36, 6))"
       ]
      },
      {
       "output_type": "stream",
       "stream": "stderr",
       "text": [
        "WARNING:root:timeout occured in motors 31 after sending DxlInstructionPacket(id=31, instruction=2, parameters=(36, 6))"
       ]
      },
      {
       "output_type": "stream",
       "stream": "stderr",
       "text": [
        "WARNING:root:timeout occured in motors 31 after sending DxlInstructionPacket(id=31, instruction=2, parameters=(36, 6))"
       ]
      },
      {
       "output_type": "stream",
       "stream": "stderr",
       "text": [
        "WARNING:root:timeout occured in motors 31 after sending DxlInstructionPacket(id=31, instruction=2, parameters=(36, 6))"
       ]
      },
      {
       "output_type": "stream",
       "stream": "stderr",
       "text": [
        "WARNING:root:timeout occured in motors 31 after sending DxlInstructionPacket(id=31, instruction=2, parameters=(36, 6))"
       ]
      },
      {
       "output_type": "stream",
       "stream": "stderr",
       "text": [
        "WARNING:root:timeout occured in motors 31 after sending DxlInstructionPacket(id=31, instruction=2, parameters=(6, 4))"
       ]
      },
      {
       "output_type": "stream",
       "stream": "stderr",
       "text": [
        "WARNING:root:timeout occured in motors 31 after sending DxlInstructionPacket(id=31, instruction=2, parameters=(42, 1))"
       ]
      },
      {
       "output_type": "stream",
       "stream": "stderr",
       "text": [
        "WARNING:root:timeout occured in motors 31 after sending DxlInstructionPacket(id=31, instruction=2, parameters=(36, 6))"
       ]
      },
      {
       "output_type": "stream",
       "stream": "stderr",
       "text": [
        "WARNING:root:timeout occured in motors 31 after sending DxlInstructionPacket(id=31, instruction=2, parameters=(43, 1))"
       ]
      },
      {
       "output_type": "stream",
       "stream": "stderr",
       "text": [
        "WARNING:root:timeout occured in motors 31 after sending DxlInstructionPacket(id=31, instruction=2, parameters=(36, 6))"
       ]
      },
      {
       "output_type": "stream",
       "stream": "stderr",
       "text": [
        "WARNING:root:timeout occured in motors 31 after sending DxlInstructionPacket(id=31, instruction=2, parameters=(36, 6))"
       ]
      },
      {
       "output_type": "stream",
       "stream": "stderr",
       "text": [
        "WARNING:root:timeout occured in motors 31 after sending DxlInstructionPacket(id=31, instruction=2, parameters=(36, 6))"
       ]
      },
      {
       "output_type": "stream",
       "stream": "stderr",
       "text": [
        "WARNING:root:timeout occured in motors 31 after sending DxlInstructionPacket(id=31, instruction=2, parameters=(36, 6))"
       ]
      },
      {
       "output_type": "stream",
       "stream": "stderr",
       "text": [
        "WARNING:root:timeout occured in motors 31 after sending DxlInstructionPacket(id=31, instruction=2, parameters=(36, 6))"
       ]
      },
      {
       "output_type": "stream",
       "stream": "stderr",
       "text": [
        "WARNING:root:timeout occured in motors 31 after sending DxlInstructionPacket(id=31, instruction=2, parameters=(36, 6))"
       ]
      },
      {
       "output_type": "stream",
       "stream": "stderr",
       "text": [
        "WARNING:root:timeout occured in motors 31 after sending DxlInstructionPacket(id=31, instruction=2, parameters=(36, 6))"
       ]
      },
      {
       "output_type": "stream",
       "stream": "stderr",
       "text": [
        "WARNING:root:timeout occured in motors 31 after sending DxlInstructionPacket(id=31, instruction=2, parameters=(36, 6))"
       ]
      },
      {
       "output_type": "stream",
       "stream": "stderr",
       "text": [
        "WARNING:root:timeout occured in motors 31 after sending DxlInstructionPacket(id=31, instruction=2, parameters=(36, 6))"
       ]
      },
      {
       "output_type": "stream",
       "stream": "stderr",
       "text": [
        "WARNING:root:timeout occured in motors 31 after sending DxlInstructionPacket(id=31, instruction=2, parameters=(36, 6))"
       ]
      },
      {
       "output_type": "stream",
       "stream": "stderr",
       "text": [
        "WARNING:root:timeout occured in motors 31 after sending DxlInstructionPacket(id=31, instruction=2, parameters=(36, 6))"
       ]
      },
      {
       "output_type": "stream",
       "stream": "stderr",
       "text": [
        "WARNING:root:timeout occured in motors 31 after sending DxlInstructionPacket(id=31, instruction=2, parameters=(36, 6))"
       ]
      },
      {
       "output_type": "stream",
       "stream": "stderr",
       "text": [
        "WARNING:root:timeout occured in motors 31 after sending DxlInstructionPacket(id=31, instruction=2, parameters=(36, 6))"
       ]
      },
      {
       "output_type": "stream",
       "stream": "stderr",
       "text": [
        "WARNING:root:timeout occured in motors 31 after sending DxlInstructionPacket(id=31, instruction=2, parameters=(36, 6))"
       ]
      },
      {
       "output_type": "stream",
       "stream": "stderr",
       "text": [
        "WARNING:root:timeout occured in motors 31 after sending DxlInstructionPacket(id=31, instruction=2, parameters=(36, 6))"
       ]
      },
      {
       "output_type": "stream",
       "stream": "stderr",
       "text": [
        "WARNING:root:timeout occured in motors 31 after sending DxlInstructionPacket(id=31, instruction=2, parameters=(6, 4))"
       ]
      },
      {
       "output_type": "stream",
       "stream": "stderr",
       "text": [
        "WARNING:root:timeout occured in motors 31 after sending DxlInstructionPacket(id=31, instruction=2, parameters=(42, 1))"
       ]
      },
      {
       "output_type": "stream",
       "stream": "stderr",
       "text": [
        "WARNING:root:timeout occured in motors 31 after sending DxlInstructionPacket(id=31, instruction=2, parameters=(36, 6))"
       ]
      },
      {
       "output_type": "stream",
       "stream": "stderr",
       "text": [
        "WARNING:root:timeout occured in motors 31 after sending DxlInstructionPacket(id=31, instruction=2, parameters=(43, 1))"
       ]
      },
      {
       "output_type": "stream",
       "stream": "stderr",
       "text": [
        "WARNING:root:timeout occured in motors 31 after sending DxlInstructionPacket(id=31, instruction=2, parameters=(36, 6))"
       ]
      },
      {
       "output_type": "stream",
       "stream": "stderr",
       "text": [
        "WARNING:root:timeout occured in motors 31 after sending DxlInstructionPacket(id=31, instruction=2, parameters=(36, 6))"
       ]
      },
      {
       "output_type": "stream",
       "stream": "stderr",
       "text": [
        "WARNING:root:timeout occured in motors 31 after sending DxlInstructionPacket(id=31, instruction=2, parameters=(36, 6))"
       ]
      },
      {
       "output_type": "stream",
       "stream": "stderr",
       "text": [
        "WARNING:root:timeout occured in motors 31 after sending DxlInstructionPacket(id=31, instruction=2, parameters=(36, 6))"
       ]
      },
      {
       "output_type": "stream",
       "stream": "stderr",
       "text": [
        "WARNING:root:timeout occured in motors 31 after sending DxlInstructionPacket(id=31, instruction=2, parameters=(36, 6))"
       ]
      },
      {
       "output_type": "stream",
       "stream": "stderr",
       "text": [
        "WARNING:root:timeout occured in motors 31 after sending DxlInstructionPacket(id=31, instruction=2, parameters=(36, 6))"
       ]
      },
      {
       "output_type": "stream",
       "stream": "stderr",
       "text": [
        "WARNING:root:timeout occured in motors 31 after sending DxlInstructionPacket(id=31, instruction=2, parameters=(36, 6))"
       ]
      },
      {
       "output_type": "stream",
       "stream": "stderr",
       "text": [
        "WARNING:root:timeout occured in motors 31 after sending DxlInstructionPacket(id=31, instruction=2, parameters=(36, 6))"
       ]
      },
      {
       "output_type": "stream",
       "stream": "stderr",
       "text": [
        "WARNING:root:timeout occured in motors 31 after sending DxlInstructionPacket(id=31, instruction=2, parameters=(36, 6))"
       ]
      },
      {
       "output_type": "stream",
       "stream": "stderr",
       "text": [
        "WARNING:root:timeout occured in motors 31 after sending DxlInstructionPacket(id=31, instruction=2, parameters=(36, 6))"
       ]
      },
      {
       "output_type": "stream",
       "stream": "stderr",
       "text": [
        "WARNING:root:timeout occured in motors 31 after sending DxlInstructionPacket(id=31, instruction=2, parameters=(36, 6))"
       ]
      },
      {
       "output_type": "stream",
       "stream": "stderr",
       "text": [
        "WARNING:root:timeout occured in motors 31 after sending DxlInstructionPacket(id=31, instruction=2, parameters=(36, 6))"
       ]
      },
      {
       "output_type": "stream",
       "stream": "stderr",
       "text": [
        "WARNING:root:timeout occured in motors 31 after sending DxlInstructionPacket(id=31, instruction=2, parameters=(36, 6))"
       ]
      },
      {
       "output_type": "stream",
       "stream": "stderr",
       "text": [
        "WARNING:root:timeout occured in motors 31 after sending DxlInstructionPacket(id=31, instruction=2, parameters=(36, 6))"
       ]
      },
      {
       "output_type": "stream",
       "stream": "stderr",
       "text": [
        "WARNING:root:timeout occured in motors 31 after sending DxlInstructionPacket(id=31, instruction=2, parameters=(36, 6))"
       ]
      },
      {
       "output_type": "stream",
       "stream": "stderr",
       "text": [
        "WARNING:root:timeout occured in motors 31 after sending DxlInstructionPacket(id=31, instruction=2, parameters=(6, 4))"
       ]
      },
      {
       "output_type": "stream",
       "stream": "stderr",
       "text": [
        "WARNING:root:timeout occured in motors 31 after sending DxlInstructionPacket(id=31, instruction=2, parameters=(42, 1))"
       ]
      },
      {
       "output_type": "stream",
       "stream": "stderr",
       "text": [
        "WARNING:root:timeout occured in motors 31 after sending DxlInstructionPacket(id=31, instruction=2, parameters=(36, 6))"
       ]
      },
      {
       "output_type": "stream",
       "stream": "stderr",
       "text": [
        "WARNING:root:timeout occured in motors 31 after sending DxlInstructionPacket(id=31, instruction=2, parameters=(43, 1))"
       ]
      },
      {
       "output_type": "stream",
       "stream": "stderr",
       "text": [
        "WARNING:root:timeout occured in motors 31 after sending DxlInstructionPacket(id=31, instruction=2, parameters=(36, 6))"
       ]
      },
      {
       "output_type": "stream",
       "stream": "stderr",
       "text": [
        "WARNING:root:timeout occured in motors 31 after sending DxlInstructionPacket(id=31, instruction=2, parameters=(36, 6))"
       ]
      },
      {
       "output_type": "stream",
       "stream": "stderr",
       "text": [
        "WARNING:root:timeout occured in motors 31 after sending DxlInstructionPacket(id=31, instruction=2, parameters=(36, 6))"
       ]
      },
      {
       "output_type": "stream",
       "stream": "stderr",
       "text": [
        "WARNING:root:timeout occured in motors 31 after sending DxlInstructionPacket(id=31, instruction=2, parameters=(36, 6))"
       ]
      },
      {
       "output_type": "stream",
       "stream": "stderr",
       "text": [
        "WARNING:root:timeout occured in motors 31 after sending DxlInstructionPacket(id=31, instruction=2, parameters=(36, 6))"
       ]
      },
      {
       "output_type": "stream",
       "stream": "stderr",
       "text": [
        "WARNING:root:timeout occured in motors 31 after sending DxlInstructionPacket(id=31, instruction=2, parameters=(36, 6))"
       ]
      },
      {
       "output_type": "stream",
       "stream": "stderr",
       "text": [
        "WARNING:root:timeout occured in motors 31 after sending DxlInstructionPacket(id=31, instruction=2, parameters=(36, 6))"
       ]
      },
      {
       "output_type": "stream",
       "stream": "stderr",
       "text": [
        "WARNING:root:timeout occured in motors 31 after sending DxlInstructionPacket(id=31, instruction=2, parameters=(36, 6))"
       ]
      },
      {
       "output_type": "stream",
       "stream": "stderr",
       "text": [
        "WARNING:root:timeout occured in motors 31 after sending DxlInstructionPacket(id=31, instruction=2, parameters=(36, 6))"
       ]
      },
      {
       "output_type": "stream",
       "stream": "stderr",
       "text": [
        "WARNING:root:timeout occured in motors 31 after sending DxlInstructionPacket(id=31, instruction=2, parameters=(36, 6))"
       ]
      },
      {
       "output_type": "stream",
       "stream": "stderr",
       "text": [
        "WARNING:root:timeout occured in motors 31 after sending DxlInstructionPacket(id=31, instruction=2, parameters=(36, 6))"
       ]
      },
      {
       "output_type": "stream",
       "stream": "stderr",
       "text": [
        "WARNING:root:timeout occured in motors 31 after sending DxlInstructionPacket(id=31, instruction=2, parameters=(36, 6))"
       ]
      },
      {
       "output_type": "stream",
       "stream": "stderr",
       "text": [
        "WARNING:root:timeout occured in motors 31 after sending DxlInstructionPacket(id=31, instruction=2, parameters=(36, 6))"
       ]
      },
      {
       "output_type": "stream",
       "stream": "stderr",
       "text": [
        "WARNING:root:timeout occured in motors 31 after sending DxlInstructionPacket(id=31, instruction=2, parameters=(36, 6))"
       ]
      },
      {
       "output_type": "stream",
       "stream": "stderr",
       "text": [
        "WARNING:root:timeout occured in motors 31 after sending DxlInstructionPacket(id=31, instruction=2, parameters=(6, 4))"
       ]
      },
      {
       "output_type": "stream",
       "stream": "stderr",
       "text": [
        "WARNING:root:timeout occured in motors 31 after sending DxlInstructionPacket(id=31, instruction=2, parameters=(36, 6))"
       ]
      },
      {
       "output_type": "stream",
       "stream": "stderr",
       "text": [
        "WARNING:root:timeout occured in motors 31 after sending DxlInstructionPacket(id=31, instruction=2, parameters=(42, 1))"
       ]
      },
      {
       "output_type": "stream",
       "stream": "stderr",
       "text": [
        "WARNING:root:timeout occured in motors 31 after sending DxlInstructionPacket(id=31, instruction=2, parameters=(43, 1))"
       ]
      },
      {
       "output_type": "stream",
       "stream": "stderr",
       "text": [
        "WARNING:root:timeout occured in motors 31 after sending DxlInstructionPacket(id=31, instruction=2, parameters=(36, 6))"
       ]
      },
      {
       "output_type": "stream",
       "stream": "stderr",
       "text": [
        "WARNING:root:timeout occured in motors 31 after sending DxlInstructionPacket(id=31, instruction=2, parameters=(36, 6))"
       ]
      },
      {
       "output_type": "stream",
       "stream": "stderr",
       "text": [
        "WARNING:root:timeout occured in motors 31 after sending DxlInstructionPacket(id=31, instruction=2, parameters=(36, 6))"
       ]
      },
      {
       "output_type": "stream",
       "stream": "stderr",
       "text": [
        "WARNING:root:timeout occured in motors 31 after sending DxlInstructionPacket(id=31, instruction=2, parameters=(36, 6))"
       ]
      },
      {
       "output_type": "stream",
       "stream": "stderr",
       "text": [
        "WARNING:root:timeout occured in motors 31 after sending DxlInstructionPacket(id=31, instruction=2, parameters=(36, 6))"
       ]
      },
      {
       "output_type": "stream",
       "stream": "stderr",
       "text": [
        "WARNING:root:timeout occured in motors 31 after sending DxlInstructionPacket(id=31, instruction=2, parameters=(36, 6))"
       ]
      },
      {
       "output_type": "stream",
       "stream": "stderr",
       "text": [
        "WARNING:root:timeout occured in motors 31 after sending DxlInstructionPacket(id=31, instruction=2, parameters=(36, 6))"
       ]
      },
      {
       "output_type": "stream",
       "stream": "stderr",
       "text": [
        "WARNING:root:timeout occured in motors 31 after sending DxlInstructionPacket(id=31, instruction=2, parameters=(36, 6))"
       ]
      },
      {
       "output_type": "stream",
       "stream": "stderr",
       "text": [
        "WARNING:root:timeout occured in motors 31 after sending DxlInstructionPacket(id=31, instruction=2, parameters=(36, 6))"
       ]
      },
      {
       "output_type": "stream",
       "stream": "stderr",
       "text": [
        "WARNING:root:timeout occured in motors 31 after sending DxlInstructionPacket(id=31, instruction=2, parameters=(36, 6))"
       ]
      },
      {
       "output_type": "stream",
       "stream": "stderr",
       "text": [
        "WARNING:root:timeout occured in motors 31 after sending DxlInstructionPacket(id=31, instruction=2, parameters=(36, 6))"
       ]
      },
      {
       "output_type": "stream",
       "stream": "stderr",
       "text": [
        "WARNING:root:timeout occured in motors 31 after sending DxlInstructionPacket(id=31, instruction=2, parameters=(36, 6))"
       ]
      },
      {
       "output_type": "stream",
       "stream": "stderr",
       "text": [
        "WARNING:root:timeout occured in motors 31 after sending DxlInstructionPacket(id=31, instruction=2, parameters=(36, 6))"
       ]
      },
      {
       "output_type": "stream",
       "stream": "stderr",
       "text": [
        "WARNING:root:timeout occured in motors 31 after sending DxlInstructionPacket(id=31, instruction=2, parameters=(36, 6))"
       ]
      },
      {
       "output_type": "stream",
       "stream": "stderr",
       "text": [
        "WARNING:root:timeout occured in motors 31 after sending DxlInstructionPacket(id=31, instruction=2, parameters=(36, 6))"
       ]
      },
      {
       "output_type": "stream",
       "stream": "stderr",
       "text": [
        "WARNING:root:timeout occured in motors 31 after sending DxlInstructionPacket(id=31, instruction=2, parameters=(6, 4))"
       ]
      },
      {
       "output_type": "stream",
       "stream": "stderr",
       "text": [
        "WARNING:root:timeout occured in motors 31 after sending DxlInstructionPacket(id=31, instruction=2, parameters=(36, 6))"
       ]
      },
      {
       "output_type": "stream",
       "stream": "stderr",
       "text": [
        "WARNING:root:timeout occured in motors 31 after sending DxlInstructionPacket(id=31, instruction=2, parameters=(42, 1))"
       ]
      },
      {
       "output_type": "stream",
       "stream": "stderr",
       "text": [
        "WARNING:root:timeout occured in motors 31 after sending DxlInstructionPacket(id=31, instruction=2, parameters=(43, 1))"
       ]
      },
      {
       "output_type": "stream",
       "stream": "stderr",
       "text": [
        "WARNING:root:timeout occured in motors 31 after sending DxlInstructionPacket(id=31, instruction=2, parameters=(36, 6))"
       ]
      },
      {
       "output_type": "stream",
       "stream": "stderr",
       "text": [
        "WARNING:root:timeout occured in motors 31 after sending DxlInstructionPacket(id=31, instruction=2, parameters=(36, 6))"
       ]
      },
      {
       "output_type": "stream",
       "stream": "stderr",
       "text": [
        "WARNING:root:timeout occured in motors 31 after sending DxlInstructionPacket(id=31, instruction=2, parameters=(36, 6))"
       ]
      },
      {
       "output_type": "stream",
       "stream": "stderr",
       "text": [
        "WARNING:root:timeout occured in motors 31 after sending DxlInstructionPacket(id=31, instruction=2, parameters=(36, 6))"
       ]
      },
      {
       "output_type": "stream",
       "stream": "stderr",
       "text": [
        "WARNING:root:timeout occured in motors 31 after sending DxlInstructionPacket(id=31, instruction=2, parameters=(36, 6))"
       ]
      },
      {
       "output_type": "stream",
       "stream": "stderr",
       "text": [
        "WARNING:root:timeout occured in motors 31 after sending DxlInstructionPacket(id=31, instruction=2, parameters=(36, 6))"
       ]
      },
      {
       "output_type": "stream",
       "stream": "stderr",
       "text": [
        "WARNING:root:timeout occured in motors 31 after sending DxlInstructionPacket(id=31, instruction=2, parameters=(36, 6))"
       ]
      },
      {
       "output_type": "stream",
       "stream": "stderr",
       "text": [
        "WARNING:root:timeout occured in motors 31 after sending DxlInstructionPacket(id=31, instruction=2, parameters=(36, 6))"
       ]
      },
      {
       "output_type": "stream",
       "stream": "stderr",
       "text": [
        "WARNING:root:timeout occured in motors 31 after sending DxlInstructionPacket(id=31, instruction=2, parameters=(36, 6))"
       ]
      },
      {
       "output_type": "stream",
       "stream": "stderr",
       "text": [
        "WARNING:root:timeout occured in motors 31 after sending DxlInstructionPacket(id=31, instruction=2, parameters=(36, 6))"
       ]
      },
      {
       "output_type": "stream",
       "stream": "stderr",
       "text": [
        "WARNING:root:timeout occured in motors 31 after sending DxlInstructionPacket(id=31, instruction=2, parameters=(36, 6))"
       ]
      },
      {
       "output_type": "stream",
       "stream": "stderr",
       "text": [
        "WARNING:root:timeout occured in motors 31 after sending DxlInstructionPacket(id=31, instruction=2, parameters=(36, 6))"
       ]
      },
      {
       "output_type": "stream",
       "stream": "stderr",
       "text": [
        "WARNING:root:timeout occured in motors 31 after sending DxlInstructionPacket(id=31, instruction=2, parameters=(36, 6))"
       ]
      },
      {
       "output_type": "stream",
       "stream": "stderr",
       "text": [
        "WARNING:root:timeout occured in motors 31 after sending DxlInstructionPacket(id=31, instruction=2, parameters=(36, 6))"
       ]
      },
      {
       "output_type": "stream",
       "stream": "stderr",
       "text": [
        "WARNING:root:timeout occured in motors 31 after sending DxlInstructionPacket(id=31, instruction=2, parameters=(36, 6))"
       ]
      },
      {
       "output_type": "stream",
       "stream": "stderr",
       "text": [
        "WARNING:root:timeout occured in motors 31 after sending DxlInstructionPacket(id=31, instruction=2, parameters=(6, 4))"
       ]
      },
      {
       "output_type": "stream",
       "stream": "stderr",
       "text": [
        "WARNING:root:timeout occured in motors 31 after sending DxlInstructionPacket(id=31, instruction=2, parameters=(36, 6))"
       ]
      },
      {
       "output_type": "stream",
       "stream": "stderr",
       "text": [
        "WARNING:root:timeout occured in motors 31 after sending DxlInstructionPacket(id=31, instruction=2, parameters=(42, 1))"
       ]
      },
      {
       "output_type": "stream",
       "stream": "stderr",
       "text": [
        "WARNING:root:timeout occured in motors 31 after sending DxlInstructionPacket(id=31, instruction=2, parameters=(43, 1))"
       ]
      },
      {
       "output_type": "stream",
       "stream": "stderr",
       "text": [
        "WARNING:root:timeout occured in motors 31 after sending DxlInstructionPacket(id=31, instruction=2, parameters=(36, 6))"
       ]
      },
      {
       "output_type": "stream",
       "stream": "stderr",
       "text": [
        "WARNING:root:timeout occured in motors 31 after sending DxlInstructionPacket(id=31, instruction=2, parameters=(36, 6))"
       ]
      },
      {
       "output_type": "stream",
       "stream": "stderr",
       "text": [
        "WARNING:root:timeout occured in motors 31 after sending DxlInstructionPacket(id=31, instruction=2, parameters=(36, 6))"
       ]
      },
      {
       "output_type": "stream",
       "stream": "stderr",
       "text": [
        "WARNING:root:timeout occured in motors 31 after sending DxlInstructionPacket(id=31, instruction=2, parameters=(36, 6))"
       ]
      },
      {
       "output_type": "stream",
       "stream": "stderr",
       "text": [
        "WARNING:root:timeout occured in motors 31 after sending DxlInstructionPacket(id=31, instruction=2, parameters=(36, 6))"
       ]
      },
      {
       "output_type": "stream",
       "stream": "stderr",
       "text": [
        "WARNING:root:timeout occured in motors 31 after sending DxlInstructionPacket(id=31, instruction=2, parameters=(36, 6))"
       ]
      },
      {
       "output_type": "stream",
       "stream": "stderr",
       "text": [
        "WARNING:root:timeout occured in motors 31 after sending DxlInstructionPacket(id=31, instruction=2, parameters=(36, 6))"
       ]
      },
      {
       "output_type": "stream",
       "stream": "stderr",
       "text": [
        "WARNING:root:timeout occured in motors 31 after sending DxlInstructionPacket(id=31, instruction=2, parameters=(36, 6))"
       ]
      },
      {
       "output_type": "stream",
       "stream": "stderr",
       "text": [
        "WARNING:root:timeout occured in motors 31 after sending DxlInstructionPacket(id=31, instruction=2, parameters=(36, 6))"
       ]
      },
      {
       "output_type": "stream",
       "stream": "stderr",
       "text": [
        "WARNING:root:timeout occured in motors 31 after sending DxlInstructionPacket(id=31, instruction=2, parameters=(36, 6))"
       ]
      },
      {
       "output_type": "stream",
       "stream": "stderr",
       "text": [
        "WARNING:root:timeout occured in motors 31 after sending DxlInstructionPacket(id=31, instruction=2, parameters=(36, 6))"
       ]
      },
      {
       "output_type": "stream",
       "stream": "stderr",
       "text": [
        "WARNING:root:timeout occured in motors 31 after sending DxlInstructionPacket(id=31, instruction=2, parameters=(36, 6))"
       ]
      },
      {
       "output_type": "stream",
       "stream": "stderr",
       "text": [
        "WARNING:root:timeout occured in motors 31 after sending DxlInstructionPacket(id=31, instruction=2, parameters=(36, 6))"
       ]
      },
      {
       "output_type": "stream",
       "stream": "stderr",
       "text": [
        "WARNING:root:timeout occured in motors 31 after sending DxlInstructionPacket(id=31, instruction=2, parameters=(36, 6))"
       ]
      },
      {
       "output_type": "stream",
       "stream": "stderr",
       "text": [
        "WARNING:root:timeout occured in motors 31 after sending DxlInstructionPacket(id=31, instruction=2, parameters=(36, 6))"
       ]
      },
      {
       "output_type": "stream",
       "stream": "stderr",
       "text": [
        "WARNING:root:timeout occured in motors 31 after sending DxlInstructionPacket(id=31, instruction=2, parameters=(6, 4))"
       ]
      },
      {
       "output_type": "stream",
       "stream": "stderr",
       "text": [
        "WARNING:root:timeout occured in motors 31 after sending DxlInstructionPacket(id=31, instruction=2, parameters=(36, 6))"
       ]
      },
      {
       "output_type": "stream",
       "stream": "stderr",
       "text": [
        "WARNING:root:timeout occured in motors 31 after sending DxlInstructionPacket(id=31, instruction=2, parameters=(42, 1))"
       ]
      },
      {
       "output_type": "stream",
       "stream": "stderr",
       "text": [
        "WARNING:root:timeout occured in motors 31 after sending DxlInstructionPacket(id=31, instruction=2, parameters=(43, 1))"
       ]
      },
      {
       "output_type": "stream",
       "stream": "stderr",
       "text": [
        "WARNING:root:timeout occured in motors 31 after sending DxlInstructionPacket(id=31, instruction=2, parameters=(36, 6))"
       ]
      },
      {
       "output_type": "stream",
       "stream": "stderr",
       "text": [
        "WARNING:root:timeout occured in motors 31 after sending DxlInstructionPacket(id=31, instruction=2, parameters=(36, 6))"
       ]
      },
      {
       "output_type": "stream",
       "stream": "stderr",
       "text": [
        "WARNING:root:timeout occured in motors 31 after sending DxlInstructionPacket(id=31, instruction=2, parameters=(36, 6))"
       ]
      },
      {
       "output_type": "stream",
       "stream": "stderr",
       "text": [
        "WARNING:root:timeout occured in motors 31 after sending DxlInstructionPacket(id=31, instruction=2, parameters=(36, 6))"
       ]
      },
      {
       "output_type": "stream",
       "stream": "stderr",
       "text": [
        "WARNING:root:timeout occured in motors 31 after sending DxlInstructionPacket(id=31, instruction=2, parameters=(36, 6))"
       ]
      },
      {
       "output_type": "stream",
       "stream": "stderr",
       "text": [
        "WARNING:root:timeout occured in motors 31 after sending DxlInstructionPacket(id=31, instruction=2, parameters=(36, 6))"
       ]
      },
      {
       "output_type": "stream",
       "stream": "stderr",
       "text": [
        "WARNING:root:timeout occured in motors 31 after sending DxlInstructionPacket(id=31, instruction=2, parameters=(36, 6))"
       ]
      },
      {
       "output_type": "stream",
       "stream": "stderr",
       "text": [
        "WARNING:root:timeout occured in motors 31 after sending DxlInstructionPacket(id=31, instruction=2, parameters=(36, 6))"
       ]
      },
      {
       "output_type": "stream",
       "stream": "stderr",
       "text": [
        "WARNING:root:timeout occured in motors 31 after sending DxlInstructionPacket(id=31, instruction=2, parameters=(36, 6))"
       ]
      },
      {
       "output_type": "stream",
       "stream": "stderr",
       "text": [
        "WARNING:root:timeout occured in motors 31 after sending DxlInstructionPacket(id=31, instruction=2, parameters=(36, 6))"
       ]
      },
      {
       "output_type": "stream",
       "stream": "stderr",
       "text": [
        "WARNING:root:timeout occured in motors 31 after sending DxlInstructionPacket(id=31, instruction=2, parameters=(36, 6))"
       ]
      },
      {
       "output_type": "stream",
       "stream": "stderr",
       "text": [
        "WARNING:root:timeout occured in motors 31 after sending DxlInstructionPacket(id=31, instruction=2, parameters=(36, 6))"
       ]
      },
      {
       "output_type": "stream",
       "stream": "stderr",
       "text": [
        "WARNING:root:timeout occured in motors 31 after sending DxlInstructionPacket(id=31, instruction=2, parameters=(36, 6))"
       ]
      },
      {
       "output_type": "stream",
       "stream": "stderr",
       "text": [
        "WARNING:root:timeout occured in motors 31 after sending DxlInstructionPacket(id=31, instruction=2, parameters=(36, 6))"
       ]
      },
      {
       "output_type": "stream",
       "stream": "stderr",
       "text": [
        "WARNING:root:timeout occured in motors 31 after sending DxlInstructionPacket(id=31, instruction=2, parameters=(36, 6))"
       ]
      },
      {
       "output_type": "stream",
       "stream": "stderr",
       "text": [
        "WARNING:root:timeout occured in motors 31 after sending DxlInstructionPacket(id=31, instruction=2, parameters=(6, 4))"
       ]
      },
      {
       "output_type": "stream",
       "stream": "stderr",
       "text": [
        "WARNING:root:timeout occured in motors 31 after sending DxlInstructionPacket(id=31, instruction=2, parameters=(42, 1))"
       ]
      },
      {
       "output_type": "stream",
       "stream": "stderr",
       "text": [
        "WARNING:root:timeout occured in motors 31 after sending DxlInstructionPacket(id=31, instruction=2, parameters=(36, 6))"
       ]
      },
      {
       "output_type": "stream",
       "stream": "stderr",
       "text": [
        "WARNING:root:timeout occured in motors 31 after sending DxlInstructionPacket(id=31, instruction=2, parameters=(43, 1))"
       ]
      },
      {
       "output_type": "stream",
       "stream": "stderr",
       "text": [
        "WARNING:root:timeout occured in motors 31 after sending DxlInstructionPacket(id=31, instruction=2, parameters=(36, 6))"
       ]
      },
      {
       "output_type": "stream",
       "stream": "stderr",
       "text": [
        "WARNING:root:timeout occured in motors 31 after sending DxlInstructionPacket(id=31, instruction=2, parameters=(36, 6))"
       ]
      },
      {
       "output_type": "stream",
       "stream": "stderr",
       "text": [
        "WARNING:root:timeout occured in motors 31 after sending DxlInstructionPacket(id=31, instruction=2, parameters=(36, 6))"
       ]
      },
      {
       "output_type": "stream",
       "stream": "stderr",
       "text": [
        "WARNING:root:timeout occured in motors 31 after sending DxlInstructionPacket(id=31, instruction=2, parameters=(36, 6))"
       ]
      },
      {
       "output_type": "stream",
       "stream": "stderr",
       "text": [
        "WARNING:root:timeout occured in motors 31 after sending DxlInstructionPacket(id=31, instruction=2, parameters=(36, 6))"
       ]
      },
      {
       "output_type": "stream",
       "stream": "stderr",
       "text": [
        "WARNING:root:timeout occured in motors 31 after sending DxlInstructionPacket(id=31, instruction=2, parameters=(36, 6))"
       ]
      },
      {
       "output_type": "stream",
       "stream": "stderr",
       "text": [
        "WARNING:root:timeout occured in motors 31 after sending DxlInstructionPacket(id=31, instruction=2, parameters=(36, 6))"
       ]
      },
      {
       "output_type": "stream",
       "stream": "stderr",
       "text": [
        "WARNING:root:timeout occured in motors 31 after sending DxlInstructionPacket(id=31, instruction=2, parameters=(36, 6))"
       ]
      },
      {
       "output_type": "stream",
       "stream": "stderr",
       "text": [
        "WARNING:root:timeout occured in motors 31 after sending DxlInstructionPacket(id=31, instruction=2, parameters=(36, 6))"
       ]
      },
      {
       "output_type": "stream",
       "stream": "stderr",
       "text": [
        "WARNING:root:timeout occured in motors 31 after sending DxlInstructionPacket(id=31, instruction=2, parameters=(36, 6))"
       ]
      },
      {
       "output_type": "stream",
       "stream": "stderr",
       "text": [
        "WARNING:root:timeout occured in motors 31 after sending DxlInstructionPacket(id=31, instruction=2, parameters=(36, 6))"
       ]
      },
      {
       "output_type": "stream",
       "stream": "stderr",
       "text": [
        "WARNING:root:timeout occured in motors 31 after sending DxlInstructionPacket(id=31, instruction=2, parameters=(36, 6))"
       ]
      },
      {
       "output_type": "stream",
       "stream": "stderr",
       "text": [
        "WARNING:root:timeout occured in motors 31 after sending DxlInstructionPacket(id=31, instruction=2, parameters=(36, 6))"
       ]
      },
      {
       "output_type": "stream",
       "stream": "stderr",
       "text": [
        "WARNING:root:timeout occured in motors 31 after sending DxlInstructionPacket(id=31, instruction=2, parameters=(36, 6))"
       ]
      },
      {
       "output_type": "stream",
       "stream": "stderr",
       "text": [
        "WARNING:root:timeout occured in motors 31 after sending DxlInstructionPacket(id=31, instruction=2, parameters=(36, 6))"
       ]
      },
      {
       "output_type": "stream",
       "stream": "stderr",
       "text": [
        "WARNING:root:timeout occured in motors 31 after sending DxlInstructionPacket(id=31, instruction=2, parameters=(6, 4))"
       ]
      },
      {
       "output_type": "stream",
       "stream": "stderr",
       "text": [
        "WARNING:root:timeout occured in motors 31 after sending DxlInstructionPacket(id=31, instruction=2, parameters=(42, 1))"
       ]
      },
      {
       "output_type": "stream",
       "stream": "stderr",
       "text": [
        "WARNING:root:timeout occured in motors 31 after sending DxlInstructionPacket(id=31, instruction=2, parameters=(36, 6))"
       ]
      },
      {
       "output_type": "stream",
       "stream": "stderr",
       "text": [
        "WARNING:root:timeout occured in motors 31 after sending DxlInstructionPacket(id=31, instruction=2, parameters=(43, 1))"
       ]
      },
      {
       "output_type": "stream",
       "stream": "stderr",
       "text": [
        "WARNING:root:timeout occured in motors 31 after sending DxlInstructionPacket(id=31, instruction=2, parameters=(36, 6))"
       ]
      },
      {
       "output_type": "stream",
       "stream": "stderr",
       "text": [
        "WARNING:root:timeout occured in motors 31 after sending DxlInstructionPacket(id=31, instruction=2, parameters=(36, 6))"
       ]
      },
      {
       "output_type": "stream",
       "stream": "stderr",
       "text": [
        "WARNING:root:timeout occured in motors 31 after sending DxlInstructionPacket(id=31, instruction=2, parameters=(36, 6))"
       ]
      },
      {
       "output_type": "stream",
       "stream": "stderr",
       "text": [
        "WARNING:root:timeout occured in motors 31 after sending DxlInstructionPacket(id=31, instruction=2, parameters=(36, 6))"
       ]
      },
      {
       "output_type": "stream",
       "stream": "stderr",
       "text": [
        "WARNING:root:timeout occured in motors 31 after sending DxlInstructionPacket(id=31, instruction=2, parameters=(36, 6))"
       ]
      },
      {
       "output_type": "stream",
       "stream": "stderr",
       "text": [
        "WARNING:root:timeout occured in motors 31 after sending DxlInstructionPacket(id=31, instruction=2, parameters=(36, 6))"
       ]
      },
      {
       "output_type": "stream",
       "stream": "stderr",
       "text": [
        "WARNING:root:timeout occured in motors 31 after sending DxlInstructionPacket(id=31, instruction=2, parameters=(36, 6))"
       ]
      },
      {
       "output_type": "stream",
       "stream": "stderr",
       "text": [
        "WARNING:root:timeout occured in motors 31 after sending DxlInstructionPacket(id=31, instruction=2, parameters=(36, 6))"
       ]
      },
      {
       "output_type": "stream",
       "stream": "stderr",
       "text": [
        "WARNING:root:timeout occured in motors 31 after sending DxlInstructionPacket(id=31, instruction=2, parameters=(36, 6))"
       ]
      },
      {
       "output_type": "stream",
       "stream": "stderr",
       "text": [
        "WARNING:root:timeout occured in motors 31 after sending DxlInstructionPacket(id=31, instruction=2, parameters=(36, 6))"
       ]
      },
      {
       "output_type": "stream",
       "stream": "stderr",
       "text": [
        "WARNING:root:timeout occured in motors 31 after sending DxlInstructionPacket(id=31, instruction=2, parameters=(36, 6))"
       ]
      },
      {
       "output_type": "stream",
       "stream": "stderr",
       "text": [
        "WARNING:root:timeout occured in motors 31 after sending DxlInstructionPacket(id=31, instruction=2, parameters=(36, 6))"
       ]
      },
      {
       "output_type": "stream",
       "stream": "stderr",
       "text": [
        "WARNING:root:timeout occured in motors 31 after sending DxlInstructionPacket(id=31, instruction=2, parameters=(36, 6))"
       ]
      },
      {
       "output_type": "stream",
       "stream": "stderr",
       "text": [
        "WARNING:root:timeout occured in motors 31 after sending DxlInstructionPacket(id=31, instruction=2, parameters=(36, 6))"
       ]
      },
      {
       "output_type": "stream",
       "stream": "stderr",
       "text": [
        "WARNING:root:timeout occured in motors 31 after sending DxlInstructionPacket(id=31, instruction=2, parameters=(36, 6))"
       ]
      },
      {
       "output_type": "stream",
       "stream": "stderr",
       "text": [
        "WARNING:root:timeout occured in motors 31 after sending DxlInstructionPacket(id=31, instruction=2, parameters=(6, 4))"
       ]
      },
      {
       "output_type": "stream",
       "stream": "stderr",
       "text": [
        "WARNING:root:timeout occured in motors 31 after sending DxlInstructionPacket(id=31, instruction=2, parameters=(36, 6))"
       ]
      },
      {
       "output_type": "stream",
       "stream": "stderr",
       "text": [
        "WARNING:root:timeout occured in motors 31 after sending DxlInstructionPacket(id=31, instruction=2, parameters=(42, 1))"
       ]
      },
      {
       "output_type": "stream",
       "stream": "stderr",
       "text": [
        "WARNING:root:timeout occured in motors 31 after sending DxlInstructionPacket(id=31, instruction=2, parameters=(43, 1))"
       ]
      },
      {
       "output_type": "stream",
       "stream": "stderr",
       "text": [
        "WARNING:root:timeout occured in motors 31 after sending DxlInstructionPacket(id=31, instruction=2, parameters=(36, 6))"
       ]
      },
      {
       "output_type": "stream",
       "stream": "stderr",
       "text": [
        "WARNING:root:timeout occured in motors 31 after sending DxlInstructionPacket(id=31, instruction=2, parameters=(36, 6))"
       ]
      },
      {
       "output_type": "stream",
       "stream": "stderr",
       "text": [
        "WARNING:root:timeout occured in motors 31 after sending DxlInstructionPacket(id=31, instruction=2, parameters=(36, 6))"
       ]
      },
      {
       "output_type": "stream",
       "stream": "stderr",
       "text": [
        "WARNING:root:timeout occured in motors 31 after sending DxlInstructionPacket(id=31, instruction=2, parameters=(36, 6))"
       ]
      },
      {
       "output_type": "stream",
       "stream": "stderr",
       "text": [
        "WARNING:root:timeout occured in motors 31 after sending DxlInstructionPacket(id=31, instruction=2, parameters=(36, 6))"
       ]
      },
      {
       "output_type": "stream",
       "stream": "stderr",
       "text": [
        "WARNING:root:timeout occured in motors 31 after sending DxlInstructionPacket(id=31, instruction=2, parameters=(36, 6))"
       ]
      },
      {
       "output_type": "stream",
       "stream": "stderr",
       "text": [
        "WARNING:root:timeout occured in motors 31 after sending DxlInstructionPacket(id=31, instruction=2, parameters=(36, 6))"
       ]
      },
      {
       "output_type": "stream",
       "stream": "stderr",
       "text": [
        "WARNING:root:timeout occured in motors 31 after sending DxlInstructionPacket(id=31, instruction=2, parameters=(36, 6))"
       ]
      },
      {
       "output_type": "stream",
       "stream": "stderr",
       "text": [
        "WARNING:root:timeout occured in motors 31 after sending DxlInstructionPacket(id=31, instruction=2, parameters=(36, 6))"
       ]
      },
      {
       "output_type": "stream",
       "stream": "stderr",
       "text": [
        "WARNING:root:timeout occured in motors 31 after sending DxlInstructionPacket(id=31, instruction=2, parameters=(36, 6))"
       ]
      },
      {
       "output_type": "stream",
       "stream": "stderr",
       "text": [
        "WARNING:root:timeout occured in motors 31 after sending DxlInstructionPacket(id=31, instruction=2, parameters=(36, 6))"
       ]
      },
      {
       "output_type": "stream",
       "stream": "stderr",
       "text": [
        "WARNING:root:timeout occured in motors 31 after sending DxlInstructionPacket(id=31, instruction=2, parameters=(36, 6))"
       ]
      },
      {
       "output_type": "stream",
       "stream": "stderr",
       "text": [
        "WARNING:root:timeout occured in motors 31 after sending DxlInstructionPacket(id=31, instruction=2, parameters=(36, 6))"
       ]
      },
      {
       "output_type": "stream",
       "stream": "stderr",
       "text": [
        "WARNING:root:timeout occured in motors 31 after sending DxlInstructionPacket(id=31, instruction=2, parameters=(36, 6))"
       ]
      },
      {
       "output_type": "stream",
       "stream": "stderr",
       "text": [
        "WARNING:root:timeout occured in motors 31 after sending DxlInstructionPacket(id=31, instruction=2, parameters=(36, 6))"
       ]
      },
      {
       "output_type": "stream",
       "stream": "stderr",
       "text": [
        "WARNING:root:timeout occured in motors 31 after sending DxlInstructionPacket(id=31, instruction=2, parameters=(6, 4))"
       ]
      },
      {
       "output_type": "stream",
       "stream": "stderr",
       "text": [
        "WARNING:root:timeout occured in motors 31 after sending DxlInstructionPacket(id=31, instruction=2, parameters=(42, 1))"
       ]
      },
      {
       "output_type": "stream",
       "stream": "stderr",
       "text": [
        "WARNING:root:timeout occured in motors 31 after sending DxlInstructionPacket(id=31, instruction=2, parameters=(36, 6))"
       ]
      },
      {
       "output_type": "stream",
       "stream": "stderr",
       "text": [
        "WARNING:root:timeout occured in motors 31 after sending DxlInstructionPacket(id=31, instruction=2, parameters=(43, 1))"
       ]
      },
      {
       "output_type": "stream",
       "stream": "stderr",
       "text": [
        "WARNING:root:timeout occured in motors 31 after sending DxlInstructionPacket(id=31, instruction=2, parameters=(36, 6))"
       ]
      },
      {
       "output_type": "stream",
       "stream": "stderr",
       "text": [
        "WARNING:root:timeout occured in motors 31 after sending DxlInstructionPacket(id=31, instruction=2, parameters=(36, 6))"
       ]
      },
      {
       "output_type": "stream",
       "stream": "stderr",
       "text": [
        "WARNING:root:timeout occured in motors 31 after sending DxlInstructionPacket(id=31, instruction=2, parameters=(36, 6))"
       ]
      },
      {
       "output_type": "stream",
       "stream": "stderr",
       "text": [
        "WARNING:root:timeout occured in motors 31 after sending DxlInstructionPacket(id=31, instruction=2, parameters=(36, 6))"
       ]
      },
      {
       "output_type": "stream",
       "stream": "stderr",
       "text": [
        "WARNING:root:timeout occured in motors 31 after sending DxlInstructionPacket(id=31, instruction=2, parameters=(36, 6))"
       ]
      },
      {
       "output_type": "stream",
       "stream": "stderr",
       "text": [
        "WARNING:root:timeout occured in motors 31 after sending DxlInstructionPacket(id=31, instruction=2, parameters=(36, 6))"
       ]
      },
      {
       "output_type": "stream",
       "stream": "stderr",
       "text": [
        "WARNING:root:timeout occured in motors 31 after sending DxlInstructionPacket(id=31, instruction=2, parameters=(36, 6))"
       ]
      },
      {
       "output_type": "stream",
       "stream": "stderr",
       "text": [
        "WARNING:root:timeout occured in motors 31 after sending DxlInstructionPacket(id=31, instruction=2, parameters=(36, 6))"
       ]
      },
      {
       "output_type": "stream",
       "stream": "stderr",
       "text": [
        "WARNING:root:timeout occured in motors 31 after sending DxlInstructionPacket(id=31, instruction=2, parameters=(36, 6))"
       ]
      },
      {
       "output_type": "stream",
       "stream": "stderr",
       "text": [
        "WARNING:root:timeout occured in motors 31 after sending DxlInstructionPacket(id=31, instruction=2, parameters=(36, 6))"
       ]
      },
      {
       "output_type": "stream",
       "stream": "stderr",
       "text": [
        "WARNING:root:timeout occured in motors 31 after sending DxlInstructionPacket(id=31, instruction=2, parameters=(36, 6))"
       ]
      },
      {
       "output_type": "stream",
       "stream": "stderr",
       "text": [
        "WARNING:root:timeout occured in motors 31 after sending DxlInstructionPacket(id=31, instruction=2, parameters=(36, 6))"
       ]
      },
      {
       "output_type": "stream",
       "stream": "stderr",
       "text": [
        "WARNING:root:timeout occured in motors 31 after sending DxlInstructionPacket(id=31, instruction=2, parameters=(36, 6))"
       ]
      },
      {
       "output_type": "stream",
       "stream": "stderr",
       "text": [
        "WARNING:root:timeout occured in motors 31 after sending DxlInstructionPacket(id=31, instruction=2, parameters=(36, 6))"
       ]
      },
      {
       "output_type": "stream",
       "stream": "stderr",
       "text": [
        "WARNING:root:timeout occured in motors 31 after sending DxlInstructionPacket(id=31, instruction=2, parameters=(36, 6))"
       ]
      },
      {
       "output_type": "stream",
       "stream": "stderr",
       "text": [
        "WARNING:root:timeout occured in motors 31 after sending DxlInstructionPacket(id=31, instruction=2, parameters=(6, 4))"
       ]
      },
      {
       "output_type": "stream",
       "stream": "stderr",
       "text": [
        "WARNING:root:timeout occured in motors 31 after sending DxlInstructionPacket(id=31, instruction=2, parameters=(42, 1))"
       ]
      },
      {
       "output_type": "stream",
       "stream": "stderr",
       "text": [
        "WARNING:root:timeout occured in motors 31 after sending DxlInstructionPacket(id=31, instruction=2, parameters=(36, 6))"
       ]
      },
      {
       "output_type": "stream",
       "stream": "stderr",
       "text": [
        "WARNING:root:timeout occured in motors 31 after sending DxlInstructionPacket(id=31, instruction=2, parameters=(43, 1))"
       ]
      },
      {
       "output_type": "stream",
       "stream": "stderr",
       "text": [
        "WARNING:root:timeout occured in motors 31 after sending DxlInstructionPacket(id=31, instruction=2, parameters=(36, 6))"
       ]
      },
      {
       "output_type": "stream",
       "stream": "stderr",
       "text": [
        "WARNING:root:timeout occured in motors 31 after sending DxlInstructionPacket(id=31, instruction=2, parameters=(36, 6))"
       ]
      },
      {
       "output_type": "stream",
       "stream": "stderr",
       "text": [
        "WARNING:root:timeout occured in motors 31 after sending DxlInstructionPacket(id=31, instruction=2, parameters=(36, 6))"
       ]
      },
      {
       "output_type": "stream",
       "stream": "stderr",
       "text": [
        "WARNING:root:timeout occured in motors 31 after sending DxlInstructionPacket(id=31, instruction=2, parameters=(36, 6))"
       ]
      },
      {
       "output_type": "stream",
       "stream": "stderr",
       "text": [
        "WARNING:root:timeout occured in motors 31 after sending DxlInstructionPacket(id=31, instruction=2, parameters=(36, 6))"
       ]
      },
      {
       "output_type": "stream",
       "stream": "stderr",
       "text": [
        "WARNING:root:timeout occured in motors 31 after sending DxlInstructionPacket(id=31, instruction=2, parameters=(36, 6))"
       ]
      },
      {
       "output_type": "stream",
       "stream": "stderr",
       "text": [
        "WARNING:root:timeout occured in motors 31 after sending DxlInstructionPacket(id=31, instruction=2, parameters=(36, 6))"
       ]
      },
      {
       "output_type": "stream",
       "stream": "stderr",
       "text": [
        "WARNING:root:timeout occured in motors 31 after sending DxlInstructionPacket(id=31, instruction=2, parameters=(36, 6))"
       ]
      },
      {
       "output_type": "stream",
       "stream": "stderr",
       "text": [
        "WARNING:root:timeout occured in motors 31 after sending DxlInstructionPacket(id=31, instruction=2, parameters=(36, 6))"
       ]
      },
      {
       "output_type": "stream",
       "stream": "stderr",
       "text": [
        "WARNING:root:timeout occured in motors 31 after sending DxlInstructionPacket(id=31, instruction=2, parameters=(36, 6))"
       ]
      },
      {
       "output_type": "stream",
       "stream": "stderr",
       "text": [
        "WARNING:root:timeout occured in motors 31 after sending DxlInstructionPacket(id=31, instruction=2, parameters=(36, 6))"
       ]
      },
      {
       "output_type": "stream",
       "stream": "stderr",
       "text": [
        "WARNING:root:timeout occured in motors 31 after sending DxlInstructionPacket(id=31, instruction=2, parameters=(36, 6))"
       ]
      },
      {
       "output_type": "stream",
       "stream": "stderr",
       "text": [
        "WARNING:root:timeout occured in motors 31 after sending DxlInstructionPacket(id=31, instruction=2, parameters=(36, 6))"
       ]
      },
      {
       "output_type": "stream",
       "stream": "stderr",
       "text": [
        "WARNING:root:timeout occured in motors 31 after sending DxlInstructionPacket(id=31, instruction=2, parameters=(36, 6))"
       ]
      },
      {
       "output_type": "stream",
       "stream": "stderr",
       "text": [
        "WARNING:root:timeout occured in motors 31 after sending DxlInstructionPacket(id=31, instruction=2, parameters=(36, 6))"
       ]
      },
      {
       "output_type": "stream",
       "stream": "stderr",
       "text": [
        "WARNING:root:timeout occured in motors 31 after sending DxlInstructionPacket(id=31, instruction=2, parameters=(6, 4))"
       ]
      },
      {
       "output_type": "stream",
       "stream": "stderr",
       "text": [
        "WARNING:root:timeout occured in motors 31 after sending DxlInstructionPacket(id=31, instruction=2, parameters=(42, 1))"
       ]
      },
      {
       "output_type": "stream",
       "stream": "stderr",
       "text": [
        "WARNING:root:timeout occured in motors 31 after sending DxlInstructionPacket(id=31, instruction=2, parameters=(36, 6))"
       ]
      },
      {
       "output_type": "stream",
       "stream": "stderr",
       "text": [
        "WARNING:root:timeout occured in motors 31 after sending DxlInstructionPacket(id=31, instruction=2, parameters=(43, 1))"
       ]
      },
      {
       "output_type": "stream",
       "stream": "stderr",
       "text": [
        "WARNING:root:timeout occured in motors 31 after sending DxlInstructionPacket(id=31, instruction=2, parameters=(36, 6))"
       ]
      },
      {
       "output_type": "stream",
       "stream": "stderr",
       "text": [
        "WARNING:root:timeout occured in motors 31 after sending DxlInstructionPacket(id=31, instruction=2, parameters=(36, 6))"
       ]
      },
      {
       "output_type": "stream",
       "stream": "stderr",
       "text": [
        "WARNING:root:timeout occured in motors 31 after sending DxlInstructionPacket(id=31, instruction=2, parameters=(36, 6))"
       ]
      },
      {
       "output_type": "stream",
       "stream": "stderr",
       "text": [
        "WARNING:root:timeout occured in motors 31 after sending DxlInstructionPacket(id=31, instruction=2, parameters=(36, 6))"
       ]
      },
      {
       "output_type": "stream",
       "stream": "stderr",
       "text": [
        "WARNING:root:timeout occured in motors 31 after sending DxlInstructionPacket(id=31, instruction=2, parameters=(36, 6))"
       ]
      },
      {
       "output_type": "stream",
       "stream": "stderr",
       "text": [
        "WARNING:root:timeout occured in motors 31 after sending DxlInstructionPacket(id=31, instruction=2, parameters=(36, 6))"
       ]
      },
      {
       "output_type": "stream",
       "stream": "stderr",
       "text": [
        "WARNING:root:timeout occured in motors 31 after sending DxlInstructionPacket(id=31, instruction=2, parameters=(36, 6))"
       ]
      },
      {
       "output_type": "stream",
       "stream": "stderr",
       "text": [
        "WARNING:root:timeout occured in motors 31 after sending DxlInstructionPacket(id=31, instruction=2, parameters=(36, 6))"
       ]
      },
      {
       "output_type": "stream",
       "stream": "stderr",
       "text": [
        "WARNING:root:timeout occured in motors 31 after sending DxlInstructionPacket(id=31, instruction=2, parameters=(36, 6))"
       ]
      },
      {
       "output_type": "stream",
       "stream": "stderr",
       "text": [
        "WARNING:root:timeout occured in motors 31 after sending DxlInstructionPacket(id=31, instruction=2, parameters=(36, 6))"
       ]
      },
      {
       "output_type": "stream",
       "stream": "stderr",
       "text": [
        "WARNING:root:timeout occured in motors 31 after sending DxlInstructionPacket(id=31, instruction=2, parameters=(36, 6))"
       ]
      },
      {
       "output_type": "stream",
       "stream": "stderr",
       "text": [
        "WARNING:root:timeout occured in motors 31 after sending DxlInstructionPacket(id=31, instruction=2, parameters=(36, 6))"
       ]
      },
      {
       "output_type": "stream",
       "stream": "stderr",
       "text": [
        "WARNING:root:timeout occured in motors 31 after sending DxlInstructionPacket(id=31, instruction=2, parameters=(36, 6))"
       ]
      },
      {
       "output_type": "stream",
       "stream": "stderr",
       "text": [
        "WARNING:root:timeout occured in motors 31 after sending DxlInstructionPacket(id=31, instruction=2, parameters=(36, 6))"
       ]
      },
      {
       "output_type": "stream",
       "stream": "stderr",
       "text": [
        "WARNING:root:timeout occured in motors 31 after sending DxlInstructionPacket(id=31, instruction=2, parameters=(36, 6))"
       ]
      },
      {
       "output_type": "stream",
       "stream": "stderr",
       "text": [
        "WARNING:root:timeout occured in motors 31 after sending DxlInstructionPacket(id=31, instruction=2, parameters=(6, 4))"
       ]
      },
      {
       "output_type": "stream",
       "stream": "stderr",
       "text": [
        "WARNING:root:timeout occured in motors 31 after sending DxlInstructionPacket(id=31, instruction=2, parameters=(42, 1))"
       ]
      },
      {
       "output_type": "stream",
       "stream": "stderr",
       "text": [
        "WARNING:root:timeout occured in motors 31 after sending DxlInstructionPacket(id=31, instruction=2, parameters=(36, 6))"
       ]
      },
      {
       "output_type": "stream",
       "stream": "stderr",
       "text": [
        "WARNING:root:timeout occured in motors 31 after sending DxlInstructionPacket(id=31, instruction=2, parameters=(43, 1))"
       ]
      },
      {
       "output_type": "stream",
       "stream": "stderr",
       "text": [
        "WARNING:root:timeout occured in motors 31 after sending DxlInstructionPacket(id=31, instruction=2, parameters=(36, 6))"
       ]
      },
      {
       "output_type": "stream",
       "stream": "stderr",
       "text": [
        "WARNING:root:timeout occured in motors 31 after sending DxlInstructionPacket(id=31, instruction=2, parameters=(36, 6))"
       ]
      },
      {
       "output_type": "stream",
       "stream": "stderr",
       "text": [
        "WARNING:root:timeout occured in motors 31 after sending DxlInstructionPacket(id=31, instruction=2, parameters=(36, 6))"
       ]
      },
      {
       "output_type": "stream",
       "stream": "stderr",
       "text": [
        "WARNING:root:timeout occured in motors 31 after sending DxlInstructionPacket(id=31, instruction=2, parameters=(36, 6))"
       ]
      },
      {
       "output_type": "stream",
       "stream": "stderr",
       "text": [
        "WARNING:root:timeout occured in motors 31 after sending DxlInstructionPacket(id=31, instruction=2, parameters=(36, 6))"
       ]
      },
      {
       "output_type": "stream",
       "stream": "stderr",
       "text": [
        "WARNING:root:timeout occured in motors 31 after sending DxlInstructionPacket(id=31, instruction=2, parameters=(36, 6))"
       ]
      },
      {
       "output_type": "stream",
       "stream": "stderr",
       "text": [
        "WARNING:root:timeout occured in motors 31 after sending DxlInstructionPacket(id=31, instruction=2, parameters=(36, 6))"
       ]
      },
      {
       "output_type": "stream",
       "stream": "stderr",
       "text": [
        "WARNING:root:timeout occured in motors 31 after sending DxlInstructionPacket(id=31, instruction=2, parameters=(36, 6))"
       ]
      },
      {
       "output_type": "stream",
       "stream": "stderr",
       "text": [
        "WARNING:root:timeout occured in motors 31 after sending DxlInstructionPacket(id=31, instruction=2, parameters=(36, 6))"
       ]
      },
      {
       "output_type": "stream",
       "stream": "stderr",
       "text": [
        "WARNING:root:timeout occured in motors 31 after sending DxlInstructionPacket(id=31, instruction=2, parameters=(36, 6))"
       ]
      },
      {
       "output_type": "stream",
       "stream": "stderr",
       "text": [
        "WARNING:root:timeout occured in motors 31 after sending DxlInstructionPacket(id=31, instruction=2, parameters=(36, 6))"
       ]
      },
      {
       "output_type": "stream",
       "stream": "stderr",
       "text": [
        "WARNING:root:timeout occured in motors 31 after sending DxlInstructionPacket(id=31, instruction=2, parameters=(36, 6))"
       ]
      },
      {
       "output_type": "stream",
       "stream": "stderr",
       "text": [
        "WARNING:root:timeout occured in motors 31 after sending DxlInstructionPacket(id=31, instruction=2, parameters=(36, 6))"
       ]
      },
      {
       "output_type": "stream",
       "stream": "stderr",
       "text": [
        "WARNING:root:timeout occured in motors 31 after sending DxlInstructionPacket(id=31, instruction=2, parameters=(36, 6))"
       ]
      },
      {
       "output_type": "stream",
       "stream": "stderr",
       "text": [
        "WARNING:root:timeout occured in motors 31 after sending DxlInstructionPacket(id=31, instruction=2, parameters=(36, 6))"
       ]
      },
      {
       "output_type": "stream",
       "stream": "stderr",
       "text": [
        "WARNING:root:timeout occured in motors 31 after sending DxlInstructionPacket(id=31, instruction=2, parameters=(6, 4))"
       ]
      },
      {
       "output_type": "stream",
       "stream": "stderr",
       "text": [
        "WARNING:root:timeout occured in motors 31 after sending DxlInstructionPacket(id=31, instruction=2, parameters=(42, 1))"
       ]
      },
      {
       "output_type": "stream",
       "stream": "stderr",
       "text": [
        "WARNING:root:timeout occured in motors 31 after sending DxlInstructionPacket(id=31, instruction=2, parameters=(36, 6))"
       ]
      },
      {
       "output_type": "stream",
       "stream": "stderr",
       "text": [
        "WARNING:root:timeout occured in motors 31 after sending DxlInstructionPacket(id=31, instruction=2, parameters=(43, 1))"
       ]
      },
      {
       "output_type": "stream",
       "stream": "stderr",
       "text": [
        "WARNING:root:timeout occured in motors 31 after sending DxlInstructionPacket(id=31, instruction=2, parameters=(36, 6))"
       ]
      },
      {
       "output_type": "stream",
       "stream": "stderr",
       "text": [
        "WARNING:root:timeout occured in motors 31 after sending DxlInstructionPacket(id=31, instruction=2, parameters=(36, 6))"
       ]
      },
      {
       "output_type": "stream",
       "stream": "stderr",
       "text": [
        "WARNING:root:timeout occured in motors 31 after sending DxlInstructionPacket(id=31, instruction=2, parameters=(36, 6))"
       ]
      },
      {
       "output_type": "stream",
       "stream": "stderr",
       "text": [
        "WARNING:root:timeout occured in motors 31 after sending DxlInstructionPacket(id=31, instruction=2, parameters=(36, 6))"
       ]
      },
      {
       "output_type": "stream",
       "stream": "stderr",
       "text": [
        "WARNING:root:timeout occured in motors 31 after sending DxlInstructionPacket(id=31, instruction=2, parameters=(36, 6))"
       ]
      },
      {
       "output_type": "stream",
       "stream": "stderr",
       "text": [
        "WARNING:root:timeout occured in motors 31 after sending DxlInstructionPacket(id=31, instruction=2, parameters=(36, 6))"
       ]
      },
      {
       "output_type": "stream",
       "stream": "stderr",
       "text": [
        "WARNING:root:timeout occured in motors 31 after sending DxlInstructionPacket(id=31, instruction=2, parameters=(36, 6))"
       ]
      },
      {
       "output_type": "stream",
       "stream": "stderr",
       "text": [
        "WARNING:root:timeout occured in motors 31 after sending DxlInstructionPacket(id=31, instruction=2, parameters=(36, 6))"
       ]
      },
      {
       "output_type": "stream",
       "stream": "stderr",
       "text": [
        "WARNING:root:timeout occured in motors 31 after sending DxlInstructionPacket(id=31, instruction=2, parameters=(36, 6))"
       ]
      },
      {
       "output_type": "stream",
       "stream": "stderr",
       "text": [
        "WARNING:root:timeout occured in motors 31 after sending DxlInstructionPacket(id=31, instruction=2, parameters=(36, 6))"
       ]
      },
      {
       "output_type": "stream",
       "stream": "stderr",
       "text": [
        "WARNING:root:timeout occured in motors 31 after sending DxlInstructionPacket(id=31, instruction=2, parameters=(36, 6))"
       ]
      },
      {
       "output_type": "stream",
       "stream": "stderr",
       "text": [
        "WARNING:root:timeout occured in motors 31 after sending DxlInstructionPacket(id=31, instruction=2, parameters=(36, 6))"
       ]
      },
      {
       "output_type": "stream",
       "stream": "stderr",
       "text": [
        "WARNING:root:timeout occured in motors 31 after sending DxlInstructionPacket(id=31, instruction=2, parameters=(36, 6))"
       ]
      },
      {
       "output_type": "stream",
       "stream": "stderr",
       "text": [
        "WARNING:root:timeout occured in motors 31 after sending DxlInstructionPacket(id=31, instruction=2, parameters=(36, 6))"
       ]
      },
      {
       "output_type": "stream",
       "stream": "stderr",
       "text": [
        "WARNING:root:timeout occured in motors 31 after sending DxlInstructionPacket(id=31, instruction=2, parameters=(36, 6))"
       ]
      },
      {
       "output_type": "stream",
       "stream": "stderr",
       "text": [
        "WARNING:root:timeout occured in motors 31 after sending DxlInstructionPacket(id=31, instruction=2, parameters=(6, 4))"
       ]
      },
      {
       "output_type": "stream",
       "stream": "stderr",
       "text": [
        "WARNING:root:timeout occured in motors 31 after sending DxlInstructionPacket(id=31, instruction=2, parameters=(42, 1))"
       ]
      },
      {
       "output_type": "stream",
       "stream": "stderr",
       "text": [
        "WARNING:root:timeout occured in motors 31 after sending DxlInstructionPacket(id=31, instruction=2, parameters=(36, 6))"
       ]
      },
      {
       "output_type": "stream",
       "stream": "stderr",
       "text": [
        "WARNING:root:timeout occured in motors 31 after sending DxlInstructionPacket(id=31, instruction=2, parameters=(43, 1))"
       ]
      },
      {
       "output_type": "stream",
       "stream": "stderr",
       "text": [
        "WARNING:root:timeout occured in motors 31 after sending DxlInstructionPacket(id=31, instruction=2, parameters=(36, 6))"
       ]
      },
      {
       "output_type": "stream",
       "stream": "stderr",
       "text": [
        "WARNING:root:timeout occured in motors 31 after sending DxlInstructionPacket(id=31, instruction=2, parameters=(36, 6))"
       ]
      },
      {
       "output_type": "stream",
       "stream": "stderr",
       "text": [
        "WARNING:root:timeout occured in motors 31 after sending DxlInstructionPacket(id=31, instruction=2, parameters=(36, 6))"
       ]
      },
      {
       "output_type": "stream",
       "stream": "stderr",
       "text": [
        "WARNING:root:timeout occured in motors 31 after sending DxlInstructionPacket(id=31, instruction=2, parameters=(36, 6))"
       ]
      },
      {
       "output_type": "stream",
       "stream": "stderr",
       "text": [
        "WARNING:root:timeout occured in motors 31 after sending DxlInstructionPacket(id=31, instruction=2, parameters=(36, 6))"
       ]
      },
      {
       "output_type": "stream",
       "stream": "stderr",
       "text": [
        "WARNING:root:timeout occured in motors 31 after sending DxlInstructionPacket(id=31, instruction=2, parameters=(36, 6))"
       ]
      },
      {
       "output_type": "stream",
       "stream": "stderr",
       "text": [
        "WARNING:root:timeout occured in motors 31 after sending DxlInstructionPacket(id=31, instruction=2, parameters=(36, 6))"
       ]
      },
      {
       "output_type": "stream",
       "stream": "stderr",
       "text": [
        "WARNING:root:timeout occured in motors 31 after sending DxlInstructionPacket(id=31, instruction=2, parameters=(36, 6))"
       ]
      },
      {
       "output_type": "stream",
       "stream": "stderr",
       "text": [
        "WARNING:root:timeout occured in motors 31 after sending DxlInstructionPacket(id=31, instruction=2, parameters=(36, 6))"
       ]
      },
      {
       "output_type": "stream",
       "stream": "stderr",
       "text": [
        "WARNING:root:timeout occured in motors 31 after sending DxlInstructionPacket(id=31, instruction=2, parameters=(36, 6))"
       ]
      },
      {
       "output_type": "stream",
       "stream": "stderr",
       "text": [
        "WARNING:root:timeout occured in motors 31 after sending DxlInstructionPacket(id=31, instruction=2, parameters=(36, 6))"
       ]
      },
      {
       "output_type": "stream",
       "stream": "stderr",
       "text": [
        "WARNING:root:timeout occured in motors 31 after sending DxlInstructionPacket(id=31, instruction=2, parameters=(36, 6))"
       ]
      },
      {
       "output_type": "stream",
       "stream": "stderr",
       "text": [
        "WARNING:root:timeout occured in motors 31 after sending DxlInstructionPacket(id=31, instruction=2, parameters=(36, 6))"
       ]
      },
      {
       "output_type": "stream",
       "stream": "stderr",
       "text": [
        "WARNING:root:timeout occured in motors 31 after sending DxlInstructionPacket(id=31, instruction=2, parameters=(36, 6))"
       ]
      },
      {
       "output_type": "stream",
       "stream": "stderr",
       "text": [
        "WARNING:root:timeout occured in motors 31 after sending DxlInstructionPacket(id=31, instruction=2, parameters=(36, 6))"
       ]
      },
      {
       "output_type": "stream",
       "stream": "stderr",
       "text": [
        "WARNING:root:timeout occured in motors 31 after sending DxlInstructionPacket(id=31, instruction=2, parameters=(6, 4))"
       ]
      },
      {
       "output_type": "stream",
       "stream": "stderr",
       "text": [
        "WARNING:root:timeout occured in motors 31 after sending DxlInstructionPacket(id=31, instruction=2, parameters=(42, 1))"
       ]
      },
      {
       "output_type": "stream",
       "stream": "stderr",
       "text": [
        "WARNING:root:timeout occured in motors 31 after sending DxlInstructionPacket(id=31, instruction=2, parameters=(36, 6))"
       ]
      },
      {
       "output_type": "stream",
       "stream": "stderr",
       "text": [
        "WARNING:root:timeout occured in motors 31 after sending DxlInstructionPacket(id=31, instruction=2, parameters=(43, 1))"
       ]
      },
      {
       "output_type": "stream",
       "stream": "stderr",
       "text": [
        "WARNING:root:timeout occured in motors 31 after sending DxlInstructionPacket(id=31, instruction=2, parameters=(36, 6))"
       ]
      },
      {
       "output_type": "stream",
       "stream": "stderr",
       "text": [
        "WARNING:root:timeout occured in motors 31 after sending DxlInstructionPacket(id=31, instruction=2, parameters=(36, 6))"
       ]
      },
      {
       "output_type": "stream",
       "stream": "stderr",
       "text": [
        "WARNING:root:timeout occured in motors 31 after sending DxlInstructionPacket(id=31, instruction=2, parameters=(36, 6))"
       ]
      },
      {
       "output_type": "stream",
       "stream": "stderr",
       "text": [
        "WARNING:root:timeout occured in motors 31 after sending DxlInstructionPacket(id=31, instruction=2, parameters=(36, 6))"
       ]
      },
      {
       "output_type": "stream",
       "stream": "stderr",
       "text": [
        "WARNING:root:timeout occured in motors 31 after sending DxlInstructionPacket(id=31, instruction=2, parameters=(36, 6))"
       ]
      },
      {
       "output_type": "stream",
       "stream": "stderr",
       "text": [
        "WARNING:root:timeout occured in motors 31 after sending DxlInstructionPacket(id=31, instruction=2, parameters=(36, 6))"
       ]
      },
      {
       "output_type": "stream",
       "stream": "stderr",
       "text": [
        "WARNING:root:timeout occured in motors 31 after sending DxlInstructionPacket(id=31, instruction=2, parameters=(36, 6))"
       ]
      },
      {
       "output_type": "stream",
       "stream": "stderr",
       "text": [
        "WARNING:root:timeout occured in motors 31 after sending DxlInstructionPacket(id=31, instruction=2, parameters=(36, 6))"
       ]
      },
      {
       "output_type": "stream",
       "stream": "stderr",
       "text": [
        "WARNING:root:timeout occured in motors 31 after sending DxlInstructionPacket(id=31, instruction=2, parameters=(36, 6))"
       ]
      },
      {
       "output_type": "stream",
       "stream": "stderr",
       "text": [
        "WARNING:root:timeout occured in motors 31 after sending DxlInstructionPacket(id=31, instruction=2, parameters=(36, 6))"
       ]
      },
      {
       "output_type": "stream",
       "stream": "stderr",
       "text": [
        "WARNING:root:timeout occured in motors 31 after sending DxlInstructionPacket(id=31, instruction=2, parameters=(36, 6))"
       ]
      },
      {
       "output_type": "stream",
       "stream": "stderr",
       "text": [
        "WARNING:root:timeout occured in motors 31 after sending DxlInstructionPacket(id=31, instruction=2, parameters=(36, 6))"
       ]
      },
      {
       "output_type": "stream",
       "stream": "stderr",
       "text": [
        "WARNING:root:timeout occured in motors 31 after sending DxlInstructionPacket(id=31, instruction=2, parameters=(36, 6))"
       ]
      },
      {
       "output_type": "stream",
       "stream": "stderr",
       "text": [
        "WARNING:root:timeout occured in motors 31 after sending DxlInstructionPacket(id=31, instruction=2, parameters=(36, 6))"
       ]
      },
      {
       "output_type": "stream",
       "stream": "stderr",
       "text": [
        "WARNING:root:timeout occured in motors 31 after sending DxlInstructionPacket(id=31, instruction=2, parameters=(36, 6))"
       ]
      },
      {
       "output_type": "stream",
       "stream": "stderr",
       "text": [
        "WARNING:root:timeout occured in motors 31 after sending DxlInstructionPacket(id=31, instruction=2, parameters=(6, 4))"
       ]
      },
      {
       "output_type": "stream",
       "stream": "stderr",
       "text": [
        "WARNING:root:timeout occured in motors 31 after sending DxlInstructionPacket(id=31, instruction=2, parameters=(42, 1))"
       ]
      },
      {
       "output_type": "stream",
       "stream": "stderr",
       "text": [
        "WARNING:root:timeout occured in motors 31 after sending DxlInstructionPacket(id=31, instruction=2, parameters=(36, 6))"
       ]
      },
      {
       "output_type": "stream",
       "stream": "stderr",
       "text": [
        "WARNING:root:timeout occured in motors 31 after sending DxlInstructionPacket(id=31, instruction=2, parameters=(43, 1))"
       ]
      },
      {
       "output_type": "stream",
       "stream": "stderr",
       "text": [
        "WARNING:root:timeout occured in motors 31 after sending DxlInstructionPacket(id=31, instruction=2, parameters=(36, 6))"
       ]
      },
      {
       "output_type": "stream",
       "stream": "stderr",
       "text": [
        "WARNING:root:timeout occured in motors 31 after sending DxlInstructionPacket(id=31, instruction=2, parameters=(36, 6))"
       ]
      },
      {
       "output_type": "stream",
       "stream": "stderr",
       "text": [
        "WARNING:root:timeout occured in motors 31 after sending DxlInstructionPacket(id=31, instruction=2, parameters=(36, 6))"
       ]
      },
      {
       "output_type": "stream",
       "stream": "stderr",
       "text": [
        "WARNING:root:timeout occured in motors 31 after sending DxlInstructionPacket(id=31, instruction=2, parameters=(36, 6))"
       ]
      },
      {
       "output_type": "stream",
       "stream": "stderr",
       "text": [
        "WARNING:root:timeout occured in motors 31 after sending DxlInstructionPacket(id=31, instruction=2, parameters=(36, 6))"
       ]
      },
      {
       "output_type": "stream",
       "stream": "stderr",
       "text": [
        "WARNING:root:timeout occured in motors 31 after sending DxlInstructionPacket(id=31, instruction=2, parameters=(36, 6))"
       ]
      },
      {
       "output_type": "stream",
       "stream": "stderr",
       "text": [
        "WARNING:root:timeout occured in motors 31 after sending DxlInstructionPacket(id=31, instruction=2, parameters=(36, 6))"
       ]
      },
      {
       "output_type": "stream",
       "stream": "stderr",
       "text": [
        "WARNING:root:timeout occured in motors 31 after sending DxlInstructionPacket(id=31, instruction=2, parameters=(36, 6))"
       ]
      },
      {
       "output_type": "stream",
       "stream": "stderr",
       "text": [
        "WARNING:root:timeout occured in motors 31 after sending DxlInstructionPacket(id=31, instruction=2, parameters=(36, 6))"
       ]
      },
      {
       "output_type": "stream",
       "stream": "stderr",
       "text": [
        "WARNING:root:timeout occured in motors 31 after sending DxlInstructionPacket(id=31, instruction=2, parameters=(36, 6))"
       ]
      },
      {
       "output_type": "stream",
       "stream": "stderr",
       "text": [
        "WARNING:root:timeout occured in motors 31 after sending DxlInstructionPacket(id=31, instruction=2, parameters=(36, 6))"
       ]
      },
      {
       "output_type": "stream",
       "stream": "stderr",
       "text": [
        "WARNING:root:timeout occured in motors 31 after sending DxlInstructionPacket(id=31, instruction=2, parameters=(36, 6))"
       ]
      },
      {
       "output_type": "stream",
       "stream": "stderr",
       "text": [
        "WARNING:root:timeout occured in motors 31 after sending DxlInstructionPacket(id=31, instruction=2, parameters=(36, 6))"
       ]
      },
      {
       "output_type": "stream",
       "stream": "stderr",
       "text": [
        "WARNING:root:timeout occured in motors 31 after sending DxlInstructionPacket(id=31, instruction=2, parameters=(36, 6))"
       ]
      },
      {
       "output_type": "stream",
       "stream": "stderr",
       "text": [
        "WARNING:root:timeout occured in motors 31 after sending DxlInstructionPacket(id=31, instruction=2, parameters=(36, 6))"
       ]
      },
      {
       "output_type": "stream",
       "stream": "stderr",
       "text": [
        "WARNING:root:timeout occured in motors 31 after sending DxlInstructionPacket(id=31, instruction=2, parameters=(6, 4))"
       ]
      },
      {
       "output_type": "stream",
       "stream": "stderr",
       "text": [
        "WARNING:root:timeout occured in motors 31 after sending DxlInstructionPacket(id=31, instruction=2, parameters=(42, 1))"
       ]
      },
      {
       "output_type": "stream",
       "stream": "stderr",
       "text": [
        "WARNING:root:timeout occured in motors 31 after sending DxlInstructionPacket(id=31, instruction=2, parameters=(36, 6))"
       ]
      },
      {
       "output_type": "stream",
       "stream": "stderr",
       "text": [
        "WARNING:root:timeout occured in motors 31 after sending DxlInstructionPacket(id=31, instruction=2, parameters=(43, 1))"
       ]
      },
      {
       "output_type": "stream",
       "stream": "stderr",
       "text": [
        "WARNING:root:timeout occured in motors 31 after sending DxlInstructionPacket(id=31, instruction=2, parameters=(36, 6))"
       ]
      },
      {
       "output_type": "stream",
       "stream": "stderr",
       "text": [
        "WARNING:root:timeout occured in motors 31 after sending DxlInstructionPacket(id=31, instruction=2, parameters=(36, 6))"
       ]
      },
      {
       "output_type": "stream",
       "stream": "stderr",
       "text": [
        "WARNING:root:timeout occured in motors 31 after sending DxlInstructionPacket(id=31, instruction=2, parameters=(36, 6))"
       ]
      },
      {
       "output_type": "stream",
       "stream": "stderr",
       "text": [
        "WARNING:root:timeout occured in motors 31 after sending DxlInstructionPacket(id=31, instruction=2, parameters=(36, 6))"
       ]
      },
      {
       "output_type": "stream",
       "stream": "stderr",
       "text": [
        "WARNING:root:timeout occured in motors 31 after sending DxlInstructionPacket(id=31, instruction=2, parameters=(36, 6))"
       ]
      },
      {
       "output_type": "stream",
       "stream": "stderr",
       "text": [
        "WARNING:root:timeout occured in motors 31 after sending DxlInstructionPacket(id=31, instruction=2, parameters=(36, 6))"
       ]
      },
      {
       "output_type": "stream",
       "stream": "stderr",
       "text": [
        "WARNING:root:timeout occured in motors 31 after sending DxlInstructionPacket(id=31, instruction=2, parameters=(36, 6))"
       ]
      },
      {
       "output_type": "stream",
       "stream": "stderr",
       "text": [
        "WARNING:root:timeout occured in motors 31 after sending DxlInstructionPacket(id=31, instruction=2, parameters=(36, 6))"
       ]
      },
      {
       "output_type": "stream",
       "stream": "stderr",
       "text": [
        "WARNING:root:timeout occured in motors 31 after sending DxlInstructionPacket(id=31, instruction=2, parameters=(36, 6))"
       ]
      },
      {
       "output_type": "stream",
       "stream": "stderr",
       "text": [
        "WARNING:root:timeout occured in motors 31 after sending DxlInstructionPacket(id=31, instruction=2, parameters=(36, 6))"
       ]
      },
      {
       "output_type": "stream",
       "stream": "stderr",
       "text": [
        "WARNING:root:timeout occured in motors 31 after sending DxlInstructionPacket(id=31, instruction=2, parameters=(36, 6))"
       ]
      },
      {
       "output_type": "stream",
       "stream": "stderr",
       "text": [
        "WARNING:root:timeout occured in motors 31 after sending DxlInstructionPacket(id=31, instruction=2, parameters=(36, 6))"
       ]
      },
      {
       "output_type": "stream",
       "stream": "stderr",
       "text": [
        "WARNING:root:timeout occured in motors 31 after sending DxlInstructionPacket(id=31, instruction=2, parameters=(36, 6))"
       ]
      },
      {
       "output_type": "stream",
       "stream": "stderr",
       "text": [
        "WARNING:root:timeout occured in motors 31 after sending DxlInstructionPacket(id=31, instruction=2, parameters=(36, 6))"
       ]
      },
      {
       "output_type": "stream",
       "stream": "stderr",
       "text": [
        "WARNING:root:timeout occured in motors 31 after sending DxlInstructionPacket(id=31, instruction=2, parameters=(36, 6))"
       ]
      },
      {
       "output_type": "stream",
       "stream": "stderr",
       "text": [
        "WARNING:root:timeout occured in motors 31 after sending DxlInstructionPacket(id=31, instruction=2, parameters=(6, 4))"
       ]
      },
      {
       "output_type": "stream",
       "stream": "stderr",
       "text": [
        "WARNING:root:timeout occured in motors 31 after sending DxlInstructionPacket(id=31, instruction=2, parameters=(42, 1))"
       ]
      },
      {
       "output_type": "stream",
       "stream": "stderr",
       "text": [
        "WARNING:root:timeout occured in motors 31 after sending DxlInstructionPacket(id=31, instruction=2, parameters=(36, 6))"
       ]
      },
      {
       "output_type": "stream",
       "stream": "stderr",
       "text": [
        "WARNING:root:timeout occured in motors 31 after sending DxlInstructionPacket(id=31, instruction=2, parameters=(43, 1))"
       ]
      },
      {
       "output_type": "stream",
       "stream": "stderr",
       "text": [
        "WARNING:root:timeout occured in motors 31 after sending DxlInstructionPacket(id=31, instruction=2, parameters=(36, 6))"
       ]
      },
      {
       "output_type": "stream",
       "stream": "stderr",
       "text": [
        "WARNING:root:timeout occured in motors 31 after sending DxlInstructionPacket(id=31, instruction=2, parameters=(36, 6))"
       ]
      },
      {
       "output_type": "stream",
       "stream": "stderr",
       "text": [
        "WARNING:root:timeout occured in motors 31 after sending DxlInstructionPacket(id=31, instruction=2, parameters=(36, 6))"
       ]
      },
      {
       "output_type": "stream",
       "stream": "stderr",
       "text": [
        "WARNING:root:timeout occured in motors 31 after sending DxlInstructionPacket(id=31, instruction=2, parameters=(36, 6))"
       ]
      },
      {
       "output_type": "stream",
       "stream": "stderr",
       "text": [
        "WARNING:root:timeout occured in motors 31 after sending DxlInstructionPacket(id=31, instruction=2, parameters=(36, 6))"
       ]
      },
      {
       "output_type": "stream",
       "stream": "stderr",
       "text": [
        "WARNING:root:timeout occured in motors 31 after sending DxlInstructionPacket(id=31, instruction=2, parameters=(36, 6))"
       ]
      },
      {
       "output_type": "stream",
       "stream": "stderr",
       "text": [
        "WARNING:root:timeout occured in motors 31 after sending DxlInstructionPacket(id=31, instruction=2, parameters=(36, 6))"
       ]
      },
      {
       "output_type": "stream",
       "stream": "stderr",
       "text": [
        "WARNING:root:timeout occured in motors 31 after sending DxlInstructionPacket(id=31, instruction=2, parameters=(36, 6))"
       ]
      },
      {
       "output_type": "stream",
       "stream": "stderr",
       "text": [
        "WARNING:root:timeout occured in motors 31 after sending DxlInstructionPacket(id=31, instruction=2, parameters=(36, 6))"
       ]
      },
      {
       "output_type": "stream",
       "stream": "stderr",
       "text": [
        "WARNING:root:timeout occured in motors 31 after sending DxlInstructionPacket(id=31, instruction=2, parameters=(36, 6))"
       ]
      },
      {
       "output_type": "stream",
       "stream": "stderr",
       "text": [
        "WARNING:root:timeout occured in motors 31 after sending DxlInstructionPacket(id=31, instruction=2, parameters=(36, 6))"
       ]
      },
      {
       "output_type": "stream",
       "stream": "stderr",
       "text": [
        "WARNING:root:timeout occured in motors 31 after sending DxlInstructionPacket(id=31, instruction=2, parameters=(36, 6))"
       ]
      },
      {
       "output_type": "stream",
       "stream": "stderr",
       "text": [
        "WARNING:root:timeout occured in motors 31 after sending DxlInstructionPacket(id=31, instruction=2, parameters=(36, 6))"
       ]
      },
      {
       "output_type": "stream",
       "stream": "stderr",
       "text": [
        "WARNING:root:timeout occured in motors 31 after sending DxlInstructionPacket(id=31, instruction=2, parameters=(36, 6))"
       ]
      },
      {
       "output_type": "stream",
       "stream": "stderr",
       "text": [
        "WARNING:root:timeout occured in motors 31 after sending DxlInstructionPacket(id=31, instruction=2, parameters=(6, 4))"
       ]
      },
      {
       "output_type": "stream",
       "stream": "stderr",
       "text": [
        "WARNING:root:timeout occured in motors 31 after sending DxlInstructionPacket(id=31, instruction=2, parameters=(36, 6))"
       ]
      },
      {
       "output_type": "stream",
       "stream": "stderr",
       "text": [
        "WARNING:root:timeout occured in motors 31 after sending DxlInstructionPacket(id=31, instruction=2, parameters=(42, 1))"
       ]
      },
      {
       "output_type": "stream",
       "stream": "stderr",
       "text": [
        "WARNING:root:timeout occured in motors 31 after sending DxlInstructionPacket(id=31, instruction=2, parameters=(43, 1))"
       ]
      },
      {
       "output_type": "stream",
       "stream": "stderr",
       "text": [
        "WARNING:root:timeout occured in motors 31 after sending DxlInstructionPacket(id=31, instruction=2, parameters=(36, 6))"
       ]
      },
      {
       "output_type": "stream",
       "stream": "stderr",
       "text": [
        "WARNING:root:timeout occured in motors 31 after sending DxlInstructionPacket(id=31, instruction=2, parameters=(36, 6))"
       ]
      },
      {
       "output_type": "stream",
       "stream": "stderr",
       "text": [
        "WARNING:root:timeout occured in motors 31 after sending DxlInstructionPacket(id=31, instruction=2, parameters=(36, 6))"
       ]
      },
      {
       "output_type": "stream",
       "stream": "stderr",
       "text": [
        "WARNING:root:timeout occured in motors 31 after sending DxlInstructionPacket(id=31, instruction=2, parameters=(36, 6))"
       ]
      },
      {
       "output_type": "stream",
       "stream": "stderr",
       "text": [
        "WARNING:root:timeout occured in motors 31 after sending DxlInstructionPacket(id=31, instruction=2, parameters=(36, 6))"
       ]
      },
      {
       "output_type": "stream",
       "stream": "stderr",
       "text": [
        "WARNING:root:timeout occured in motors 31 after sending DxlInstructionPacket(id=31, instruction=2, parameters=(36, 6))"
       ]
      },
      {
       "output_type": "stream",
       "stream": "stderr",
       "text": [
        "WARNING:root:timeout occured in motors 31 after sending DxlInstructionPacket(id=31, instruction=2, parameters=(36, 6))"
       ]
      },
      {
       "output_type": "stream",
       "stream": "stderr",
       "text": [
        "WARNING:root:timeout occured in motors 31 after sending DxlInstructionPacket(id=31, instruction=2, parameters=(36, 6))"
       ]
      },
      {
       "output_type": "stream",
       "stream": "stderr",
       "text": [
        "WARNING:root:timeout occured in motors 31 after sending DxlInstructionPacket(id=31, instruction=2, parameters=(36, 6))"
       ]
      },
      {
       "output_type": "stream",
       "stream": "stderr",
       "text": [
        "WARNING:root:timeout occured in motors 31 after sending DxlInstructionPacket(id=31, instruction=2, parameters=(36, 6))"
       ]
      },
      {
       "output_type": "stream",
       "stream": "stderr",
       "text": [
        "WARNING:root:timeout occured in motors 31 after sending DxlInstructionPacket(id=31, instruction=2, parameters=(36, 6))"
       ]
      },
      {
       "output_type": "stream",
       "stream": "stderr",
       "text": [
        "WARNING:root:timeout occured in motors 31 after sending DxlInstructionPacket(id=31, instruction=2, parameters=(36, 6))"
       ]
      },
      {
       "output_type": "stream",
       "stream": "stderr",
       "text": [
        "WARNING:root:timeout occured in motors 31 after sending DxlInstructionPacket(id=31, instruction=2, parameters=(36, 6))"
       ]
      },
      {
       "output_type": "stream",
       "stream": "stderr",
       "text": [
        "WARNING:root:timeout occured in motors 31 after sending DxlInstructionPacket(id=31, instruction=2, parameters=(36, 6))"
       ]
      },
      {
       "output_type": "stream",
       "stream": "stderr",
       "text": [
        "WARNING:root:timeout occured in motors 31 after sending DxlInstructionPacket(id=31, instruction=2, parameters=(36, 6))"
       ]
      },
      {
       "output_type": "stream",
       "stream": "stderr",
       "text": [
        "WARNING:root:timeout occured in motors 31 after sending DxlInstructionPacket(id=31, instruction=2, parameters=(6, 4))"
       ]
      },
      {
       "output_type": "stream",
       "stream": "stderr",
       "text": [
        "WARNING:root:timeout occured in motors 31 after sending DxlInstructionPacket(id=31, instruction=2, parameters=(36, 6))"
       ]
      },
      {
       "output_type": "stream",
       "stream": "stderr",
       "text": [
        "WARNING:root:timeout occured in motors 31 after sending DxlInstructionPacket(id=31, instruction=2, parameters=(42, 1))"
       ]
      },
      {
       "output_type": "stream",
       "stream": "stderr",
       "text": [
        "WARNING:root:timeout occured in motors 31 after sending DxlInstructionPacket(id=31, instruction=2, parameters=(43, 1))"
       ]
      },
      {
       "output_type": "stream",
       "stream": "stderr",
       "text": [
        "WARNING:root:timeout occured in motors 31 after sending DxlInstructionPacket(id=31, instruction=2, parameters=(36, 6))"
       ]
      },
      {
       "output_type": "stream",
       "stream": "stderr",
       "text": [
        "WARNING:root:timeout occured in motors 31 after sending DxlInstructionPacket(id=31, instruction=2, parameters=(36, 6))"
       ]
      },
      {
       "output_type": "stream",
       "stream": "stderr",
       "text": [
        "WARNING:root:timeout occured in motors 31 after sending DxlInstructionPacket(id=31, instruction=2, parameters=(36, 6))"
       ]
      },
      {
       "output_type": "stream",
       "stream": "stderr",
       "text": [
        "WARNING:root:timeout occured in motors 31 after sending DxlInstructionPacket(id=31, instruction=2, parameters=(36, 6))"
       ]
      },
      {
       "output_type": "stream",
       "stream": "stderr",
       "text": [
        "WARNING:root:timeout occured in motors 31 after sending DxlInstructionPacket(id=31, instruction=2, parameters=(36, 6))"
       ]
      },
      {
       "output_type": "stream",
       "stream": "stderr",
       "text": [
        "WARNING:root:timeout occured in motors 31 after sending DxlInstructionPacket(id=31, instruction=2, parameters=(36, 6))"
       ]
      },
      {
       "output_type": "stream",
       "stream": "stderr",
       "text": [
        "WARNING:root:timeout occured in motors 31 after sending DxlInstructionPacket(id=31, instruction=2, parameters=(36, 6))"
       ]
      },
      {
       "output_type": "stream",
       "stream": "stderr",
       "text": [
        "WARNING:root:timeout occured in motors 31 after sending DxlInstructionPacket(id=31, instruction=2, parameters=(36, 6))"
       ]
      },
      {
       "output_type": "stream",
       "stream": "stderr",
       "text": [
        "WARNING:root:timeout occured in motors 31 after sending DxlInstructionPacket(id=31, instruction=2, parameters=(36, 6))"
       ]
      },
      {
       "output_type": "stream",
       "stream": "stderr",
       "text": [
        "WARNING:root:timeout occured in motors 31 after sending DxlInstructionPacket(id=31, instruction=2, parameters=(36, 6))"
       ]
      },
      {
       "output_type": "stream",
       "stream": "stderr",
       "text": [
        "WARNING:root:timeout occured in motors 31 after sending DxlInstructionPacket(id=31, instruction=2, parameters=(36, 6))"
       ]
      },
      {
       "output_type": "stream",
       "stream": "stderr",
       "text": [
        "WARNING:root:timeout occured in motors 31 after sending DxlInstructionPacket(id=31, instruction=2, parameters=(36, 6))"
       ]
      },
      {
       "output_type": "stream",
       "stream": "stderr",
       "text": [
        "WARNING:root:timeout occured in motors 31 after sending DxlInstructionPacket(id=31, instruction=2, parameters=(36, 6))"
       ]
      },
      {
       "output_type": "stream",
       "stream": "stderr",
       "text": [
        "WARNING:root:timeout occured in motors 31 after sending DxlInstructionPacket(id=31, instruction=2, parameters=(36, 6))"
       ]
      },
      {
       "output_type": "stream",
       "stream": "stderr",
       "text": [
        "WARNING:root:timeout occured in motors 31 after sending DxlInstructionPacket(id=31, instruction=2, parameters=(36, 6))"
       ]
      },
      {
       "output_type": "stream",
       "stream": "stderr",
       "text": [
        "WARNING:root:timeout occured in motors 31 after sending DxlInstructionPacket(id=31, instruction=2, parameters=(6, 4))"
       ]
      },
      {
       "output_type": "stream",
       "stream": "stderr",
       "text": [
        "WARNING:root:timeout occured in motors 31 after sending DxlInstructionPacket(id=31, instruction=2, parameters=(36, 6))"
       ]
      },
      {
       "output_type": "stream",
       "stream": "stderr",
       "text": [
        "WARNING:root:timeout occured in motors 31 after sending DxlInstructionPacket(id=31, instruction=2, parameters=(42, 1))"
       ]
      },
      {
       "output_type": "stream",
       "stream": "stderr",
       "text": [
        "WARNING:root:timeout occured in motors 31 after sending DxlInstructionPacket(id=31, instruction=2, parameters=(43, 1))"
       ]
      },
      {
       "output_type": "stream",
       "stream": "stderr",
       "text": [
        "WARNING:root:timeout occured in motors 31 after sending DxlInstructionPacket(id=31, instruction=2, parameters=(36, 6))"
       ]
      },
      {
       "output_type": "stream",
       "stream": "stderr",
       "text": [
        "WARNING:root:timeout occured in motors 31 after sending DxlInstructionPacket(id=31, instruction=2, parameters=(36, 6))"
       ]
      },
      {
       "output_type": "stream",
       "stream": "stderr",
       "text": [
        "WARNING:root:timeout occured in motors 31 after sending DxlInstructionPacket(id=31, instruction=2, parameters=(36, 6))"
       ]
      },
      {
       "output_type": "stream",
       "stream": "stderr",
       "text": [
        "WARNING:root:timeout occured in motors 31 after sending DxlInstructionPacket(id=31, instruction=2, parameters=(36, 6))"
       ]
      },
      {
       "output_type": "stream",
       "stream": "stderr",
       "text": [
        "WARNING:root:timeout occured in motors 31 after sending DxlInstructionPacket(id=31, instruction=2, parameters=(36, 6))"
       ]
      },
      {
       "output_type": "stream",
       "stream": "stderr",
       "text": [
        "WARNING:root:timeout occured in motors 31 after sending DxlInstructionPacket(id=31, instruction=2, parameters=(36, 6))"
       ]
      },
      {
       "output_type": "stream",
       "stream": "stderr",
       "text": [
        "WARNING:root:timeout occured in motors 31 after sending DxlInstructionPacket(id=31, instruction=2, parameters=(36, 6))"
       ]
      },
      {
       "output_type": "stream",
       "stream": "stderr",
       "text": [
        "WARNING:root:timeout occured in motors 31 after sending DxlInstructionPacket(id=31, instruction=2, parameters=(36, 6))"
       ]
      },
      {
       "output_type": "stream",
       "stream": "stderr",
       "text": [
        "WARNING:root:timeout occured in motors 31 after sending DxlInstructionPacket(id=31, instruction=2, parameters=(36, 6))"
       ]
      },
      {
       "output_type": "stream",
       "stream": "stderr",
       "text": [
        "WARNING:root:timeout occured in motors 31 after sending DxlInstructionPacket(id=31, instruction=2, parameters=(36, 6))"
       ]
      },
      {
       "output_type": "stream",
       "stream": "stderr",
       "text": [
        "WARNING:root:timeout occured in motors 31 after sending DxlInstructionPacket(id=31, instruction=2, parameters=(36, 6))"
       ]
      },
      {
       "output_type": "stream",
       "stream": "stderr",
       "text": [
        "WARNING:root:timeout occured in motors 31 after sending DxlInstructionPacket(id=31, instruction=2, parameters=(36, 6))"
       ]
      },
      {
       "output_type": "stream",
       "stream": "stderr",
       "text": [
        "WARNING:root:timeout occured in motors 31 after sending DxlInstructionPacket(id=31, instruction=2, parameters=(36, 6))"
       ]
      },
      {
       "output_type": "stream",
       "stream": "stderr",
       "text": [
        "WARNING:root:timeout occured in motors 31 after sending DxlInstructionPacket(id=31, instruction=2, parameters=(36, 6))"
       ]
      },
      {
       "output_type": "stream",
       "stream": "stderr",
       "text": [
        "WARNING:root:timeout occured in motors 31 after sending DxlInstructionPacket(id=31, instruction=2, parameters=(36, 6))"
       ]
      },
      {
       "output_type": "stream",
       "stream": "stderr",
       "text": [
        "WARNING:root:timeout occured in motors 31 after sending DxlInstructionPacket(id=31, instruction=2, parameters=(6, 4))"
       ]
      },
      {
       "output_type": "stream",
       "stream": "stderr",
       "text": [
        "WARNING:root:timeout occured in motors 31 after sending DxlInstructionPacket(id=31, instruction=2, parameters=(36, 6))"
       ]
      },
      {
       "output_type": "stream",
       "stream": "stderr",
       "text": [
        "WARNING:root:timeout occured in motors 31 after sending DxlInstructionPacket(id=31, instruction=2, parameters=(42, 1))"
       ]
      },
      {
       "output_type": "stream",
       "stream": "stderr",
       "text": [
        "WARNING:root:timeout occured in motors 31 after sending DxlInstructionPacket(id=31, instruction=2, parameters=(43, 1))"
       ]
      },
      {
       "output_type": "stream",
       "stream": "stderr",
       "text": [
        "WARNING:root:timeout occured in motors 31 after sending DxlInstructionPacket(id=31, instruction=2, parameters=(36, 6))"
       ]
      },
      {
       "output_type": "stream",
       "stream": "stderr",
       "text": [
        "WARNING:root:timeout occured in motors 31 after sending DxlInstructionPacket(id=31, instruction=2, parameters=(36, 6))"
       ]
      },
      {
       "output_type": "stream",
       "stream": "stderr",
       "text": [
        "WARNING:root:timeout occured in motors 31 after sending DxlInstructionPacket(id=31, instruction=2, parameters=(36, 6))"
       ]
      },
      {
       "output_type": "stream",
       "stream": "stderr",
       "text": [
        "WARNING:root:timeout occured in motors 31 after sending DxlInstructionPacket(id=31, instruction=2, parameters=(36, 6))"
       ]
      },
      {
       "output_type": "stream",
       "stream": "stderr",
       "text": [
        "WARNING:root:timeout occured in motors 31 after sending DxlInstructionPacket(id=31, instruction=2, parameters=(36, 6))"
       ]
      },
      {
       "output_type": "stream",
       "stream": "stderr",
       "text": [
        "WARNING:root:timeout occured in motors 31 after sending DxlInstructionPacket(id=31, instruction=2, parameters=(36, 6))"
       ]
      },
      {
       "output_type": "stream",
       "stream": "stderr",
       "text": [
        "WARNING:root:timeout occured in motors 31 after sending DxlInstructionPacket(id=31, instruction=2, parameters=(36, 6))"
       ]
      },
      {
       "output_type": "stream",
       "stream": "stderr",
       "text": [
        "WARNING:root:timeout occured in motors 31 after sending DxlInstructionPacket(id=31, instruction=2, parameters=(36, 6))"
       ]
      },
      {
       "output_type": "stream",
       "stream": "stderr",
       "text": [
        "WARNING:root:timeout occured in motors 31 after sending DxlInstructionPacket(id=31, instruction=2, parameters=(36, 6))"
       ]
      },
      {
       "output_type": "stream",
       "stream": "stderr",
       "text": [
        "WARNING:root:timeout occured in motors 31 after sending DxlInstructionPacket(id=31, instruction=2, parameters=(36, 6))"
       ]
      },
      {
       "output_type": "stream",
       "stream": "stderr",
       "text": [
        "WARNING:root:timeout occured in motors 31 after sending DxlInstructionPacket(id=31, instruction=2, parameters=(36, 6))"
       ]
      },
      {
       "output_type": "stream",
       "stream": "stderr",
       "text": [
        "WARNING:root:timeout occured in motors 31 after sending DxlInstructionPacket(id=31, instruction=2, parameters=(36, 6))"
       ]
      },
      {
       "output_type": "stream",
       "stream": "stderr",
       "text": [
        "WARNING:root:timeout occured in motors 31 after sending DxlInstructionPacket(id=31, instruction=2, parameters=(36, 6))"
       ]
      },
      {
       "output_type": "stream",
       "stream": "stderr",
       "text": [
        "WARNING:root:timeout occured in motors 31 after sending DxlInstructionPacket(id=31, instruction=2, parameters=(36, 6))"
       ]
      },
      {
       "output_type": "stream",
       "stream": "stderr",
       "text": [
        "WARNING:root:timeout occured in motors 31 after sending DxlInstructionPacket(id=31, instruction=2, parameters=(36, 6))"
       ]
      },
      {
       "output_type": "stream",
       "stream": "stderr",
       "text": [
        "WARNING:root:timeout occured in motors 31 after sending DxlInstructionPacket(id=31, instruction=2, parameters=(6, 4))"
       ]
      },
      {
       "output_type": "stream",
       "stream": "stderr",
       "text": [
        "WARNING:root:timeout occured in motors 31 after sending DxlInstructionPacket(id=31, instruction=2, parameters=(36, 6))"
       ]
      },
      {
       "output_type": "stream",
       "stream": "stderr",
       "text": [
        "WARNING:root:timeout occured in motors 31 after sending DxlInstructionPacket(id=31, instruction=2, parameters=(42, 1))"
       ]
      },
      {
       "output_type": "stream",
       "stream": "stderr",
       "text": [
        "WARNING:root:timeout occured in motors 31 after sending DxlInstructionPacket(id=31, instruction=2, parameters=(43, 1))"
       ]
      },
      {
       "output_type": "stream",
       "stream": "stderr",
       "text": [
        "WARNING:root:timeout occured in motors 31 after sending DxlInstructionPacket(id=31, instruction=2, parameters=(36, 6))"
       ]
      },
      {
       "output_type": "stream",
       "stream": "stderr",
       "text": [
        "WARNING:root:timeout occured in motors 31 after sending DxlInstructionPacket(id=31, instruction=2, parameters=(36, 6))"
       ]
      },
      {
       "output_type": "stream",
       "stream": "stderr",
       "text": [
        "WARNING:root:timeout occured in motors 31 after sending DxlInstructionPacket(id=31, instruction=2, parameters=(36, 6))"
       ]
      },
      {
       "output_type": "stream",
       "stream": "stderr",
       "text": [
        "WARNING:root:timeout occured in motors 31 after sending DxlInstructionPacket(id=31, instruction=2, parameters=(36, 6))"
       ]
      },
      {
       "output_type": "stream",
       "stream": "stderr",
       "text": [
        "WARNING:root:timeout occured in motors 31 after sending DxlInstructionPacket(id=31, instruction=2, parameters=(36, 6))"
       ]
      },
      {
       "output_type": "stream",
       "stream": "stderr",
       "text": [
        "WARNING:root:timeout occured in motors 31 after sending DxlInstructionPacket(id=31, instruction=2, parameters=(36, 6))"
       ]
      },
      {
       "output_type": "stream",
       "stream": "stderr",
       "text": [
        "WARNING:root:timeout occured in motors 31 after sending DxlInstructionPacket(id=31, instruction=2, parameters=(36, 6))"
       ]
      },
      {
       "output_type": "stream",
       "stream": "stderr",
       "text": [
        "WARNING:root:timeout occured in motors 31 after sending DxlInstructionPacket(id=31, instruction=2, parameters=(36, 6))"
       ]
      },
      {
       "output_type": "stream",
       "stream": "stderr",
       "text": [
        "WARNING:root:timeout occured in motors 31 after sending DxlInstructionPacket(id=31, instruction=2, parameters=(36, 6))"
       ]
      },
      {
       "output_type": "stream",
       "stream": "stderr",
       "text": [
        "WARNING:root:timeout occured in motors 31 after sending DxlInstructionPacket(id=31, instruction=2, parameters=(36, 6))"
       ]
      },
      {
       "output_type": "stream",
       "stream": "stderr",
       "text": [
        "WARNING:root:timeout occured in motors 31 after sending DxlInstructionPacket(id=31, instruction=2, parameters=(36, 6))"
       ]
      },
      {
       "output_type": "stream",
       "stream": "stderr",
       "text": [
        "WARNING:root:timeout occured in motors 31 after sending DxlInstructionPacket(id=31, instruction=2, parameters=(36, 6))"
       ]
      },
      {
       "output_type": "stream",
       "stream": "stderr",
       "text": [
        "WARNING:root:timeout occured in motors 31 after sending DxlInstructionPacket(id=31, instruction=2, parameters=(36, 6))"
       ]
      },
      {
       "output_type": "stream",
       "stream": "stderr",
       "text": [
        "WARNING:root:timeout occured in motors 31 after sending DxlInstructionPacket(id=31, instruction=2, parameters=(36, 6))"
       ]
      },
      {
       "output_type": "stream",
       "stream": "stderr",
       "text": [
        "WARNING:root:timeout occured in motors 31 after sending DxlInstructionPacket(id=31, instruction=2, parameters=(36, 6))"
       ]
      },
      {
       "output_type": "stream",
       "stream": "stderr",
       "text": [
        "WARNING:root:timeout occured in motors 31 after sending DxlInstructionPacket(id=31, instruction=2, parameters=(6, 4))"
       ]
      },
      {
       "output_type": "stream",
       "stream": "stderr",
       "text": [
        "WARNING:root:timeout occured in motors 31 after sending DxlInstructionPacket(id=31, instruction=2, parameters=(36, 6))"
       ]
      },
      {
       "output_type": "stream",
       "stream": "stderr",
       "text": [
        "WARNING:root:timeout occured in motors 31 after sending DxlInstructionPacket(id=31, instruction=2, parameters=(42, 1))"
       ]
      },
      {
       "output_type": "stream",
       "stream": "stderr",
       "text": [
        "WARNING:root:timeout occured in motors 31 after sending DxlInstructionPacket(id=31, instruction=2, parameters=(43, 1))"
       ]
      },
      {
       "output_type": "stream",
       "stream": "stderr",
       "text": [
        "WARNING:root:timeout occured in motors 31 after sending DxlInstructionPacket(id=31, instruction=2, parameters=(36, 6))"
       ]
      },
      {
       "output_type": "stream",
       "stream": "stderr",
       "text": [
        "WARNING:root:timeout occured in motors 31 after sending DxlInstructionPacket(id=31, instruction=2, parameters=(36, 6))"
       ]
      },
      {
       "output_type": "stream",
       "stream": "stderr",
       "text": [
        "WARNING:root:timeout occured in motors 31 after sending DxlInstructionPacket(id=31, instruction=2, parameters=(36, 6))"
       ]
      },
      {
       "output_type": "stream",
       "stream": "stderr",
       "text": [
        "WARNING:root:timeout occured in motors 31 after sending DxlInstructionPacket(id=31, instruction=2, parameters=(36, 6))"
       ]
      },
      {
       "output_type": "stream",
       "stream": "stderr",
       "text": [
        "WARNING:root:timeout occured in motors 31 after sending DxlInstructionPacket(id=31, instruction=2, parameters=(36, 6))"
       ]
      },
      {
       "output_type": "stream",
       "stream": "stderr",
       "text": [
        "WARNING:root:timeout occured in motors 31 after sending DxlInstructionPacket(id=31, instruction=2, parameters=(36, 6))"
       ]
      },
      {
       "output_type": "stream",
       "stream": "stderr",
       "text": [
        "WARNING:root:timeout occured in motors 31 after sending DxlInstructionPacket(id=31, instruction=2, parameters=(36, 6))"
       ]
      },
      {
       "output_type": "stream",
       "stream": "stderr",
       "text": [
        "WARNING:root:timeout occured in motors 31 after sending DxlInstructionPacket(id=31, instruction=2, parameters=(36, 6))"
       ]
      },
      {
       "output_type": "stream",
       "stream": "stderr",
       "text": [
        "WARNING:root:timeout occured in motors 31 after sending DxlInstructionPacket(id=31, instruction=2, parameters=(36, 6))"
       ]
      },
      {
       "output_type": "stream",
       "stream": "stderr",
       "text": [
        "WARNING:root:timeout occured in motors 31 after sending DxlInstructionPacket(id=31, instruction=2, parameters=(36, 6))"
       ]
      },
      {
       "output_type": "stream",
       "stream": "stderr",
       "text": [
        "WARNING:root:timeout occured in motors 31 after sending DxlInstructionPacket(id=31, instruction=2, parameters=(36, 6))"
       ]
      },
      {
       "output_type": "stream",
       "stream": "stderr",
       "text": [
        "WARNING:root:timeout occured in motors 31 after sending DxlInstructionPacket(id=31, instruction=2, parameters=(36, 6))"
       ]
      },
      {
       "output_type": "stream",
       "stream": "stderr",
       "text": [
        "WARNING:root:timeout occured in motors 31 after sending DxlInstructionPacket(id=31, instruction=2, parameters=(36, 6))"
       ]
      },
      {
       "output_type": "stream",
       "stream": "stderr",
       "text": [
        "WARNING:root:timeout occured in motors 31 after sending DxlInstructionPacket(id=31, instruction=2, parameters=(36, 6))"
       ]
      },
      {
       "output_type": "stream",
       "stream": "stderr",
       "text": [
        "WARNING:root:timeout occured in motors 31 after sending DxlInstructionPacket(id=31, instruction=2, parameters=(36, 6))"
       ]
      },
      {
       "output_type": "stream",
       "stream": "stderr",
       "text": [
        "WARNING:root:timeout occured in motors 31 after sending DxlInstructionPacket(id=31, instruction=2, parameters=(6, 4))"
       ]
      },
      {
       "output_type": "stream",
       "stream": "stderr",
       "text": [
        "WARNING:root:timeout occured in motors 31 after sending DxlInstructionPacket(id=31, instruction=2, parameters=(36, 6))"
       ]
      },
      {
       "output_type": "stream",
       "stream": "stderr",
       "text": [
        "WARNING:root:timeout occured in motors 31 after sending DxlInstructionPacket(id=31, instruction=2, parameters=(42, 1))"
       ]
      },
      {
       "output_type": "stream",
       "stream": "stderr",
       "text": [
        "WARNING:root:timeout occured in motors 31 after sending DxlInstructionPacket(id=31, instruction=2, parameters=(43, 1))"
       ]
      },
      {
       "output_type": "stream",
       "stream": "stderr",
       "text": [
        "WARNING:root:timeout occured in motors 31 after sending DxlInstructionPacket(id=31, instruction=2, parameters=(36, 6))"
       ]
      },
      {
       "output_type": "stream",
       "stream": "stderr",
       "text": [
        "WARNING:root:timeout occured in motors 31 after sending DxlInstructionPacket(id=31, instruction=2, parameters=(36, 6))"
       ]
      },
      {
       "output_type": "stream",
       "stream": "stderr",
       "text": [
        "WARNING:root:timeout occured in motors 31 after sending DxlInstructionPacket(id=31, instruction=2, parameters=(36, 6))"
       ]
      },
      {
       "output_type": "stream",
       "stream": "stderr",
       "text": [
        "WARNING:root:timeout occured in motors 31 after sending DxlInstructionPacket(id=31, instruction=2, parameters=(36, 6))"
       ]
      },
      {
       "output_type": "stream",
       "stream": "stderr",
       "text": [
        "WARNING:root:timeout occured in motors 31 after sending DxlInstructionPacket(id=31, instruction=2, parameters=(36, 6))"
       ]
      },
      {
       "output_type": "stream",
       "stream": "stderr",
       "text": [
        "WARNING:root:timeout occured in motors 31 after sending DxlInstructionPacket(id=31, instruction=2, parameters=(36, 6))"
       ]
      },
      {
       "output_type": "stream",
       "stream": "stderr",
       "text": [
        "WARNING:root:timeout occured in motors 31 after sending DxlInstructionPacket(id=31, instruction=2, parameters=(36, 6))"
       ]
      },
      {
       "output_type": "stream",
       "stream": "stderr",
       "text": [
        "WARNING:root:timeout occured in motors 31 after sending DxlInstructionPacket(id=31, instruction=2, parameters=(36, 6))"
       ]
      },
      {
       "output_type": "stream",
       "stream": "stderr",
       "text": [
        "WARNING:root:timeout occured in motors 31 after sending DxlInstructionPacket(id=31, instruction=2, parameters=(36, 6))"
       ]
      },
      {
       "output_type": "stream",
       "stream": "stderr",
       "text": [
        "WARNING:root:timeout occured in motors 31 after sending DxlInstructionPacket(id=31, instruction=2, parameters=(36, 6))"
       ]
      },
      {
       "output_type": "stream",
       "stream": "stderr",
       "text": [
        "WARNING:root:timeout occured in motors 31 after sending DxlInstructionPacket(id=31, instruction=2, parameters=(36, 6))"
       ]
      },
      {
       "output_type": "stream",
       "stream": "stderr",
       "text": [
        "WARNING:root:timeout occured in motors 31 after sending DxlInstructionPacket(id=31, instruction=2, parameters=(36, 6))"
       ]
      },
      {
       "output_type": "stream",
       "stream": "stderr",
       "text": [
        "WARNING:root:timeout occured in motors 31 after sending DxlInstructionPacket(id=31, instruction=2, parameters=(36, 6))"
       ]
      },
      {
       "output_type": "stream",
       "stream": "stderr",
       "text": [
        "WARNING:root:timeout occured in motors 31 after sending DxlInstructionPacket(id=31, instruction=2, parameters=(36, 6))"
       ]
      },
      {
       "output_type": "stream",
       "stream": "stderr",
       "text": [
        "WARNING:root:timeout occured in motors 31 after sending DxlInstructionPacket(id=31, instruction=2, parameters=(36, 6))"
       ]
      },
      {
       "output_type": "stream",
       "stream": "stderr",
       "text": [
        "WARNING:root:timeout occured in motors 31 after sending DxlInstructionPacket(id=31, instruction=2, parameters=(6, 4))"
       ]
      },
      {
       "output_type": "stream",
       "stream": "stderr",
       "text": [
        "WARNING:root:timeout occured in motors 31 after sending DxlInstructionPacket(id=31, instruction=2, parameters=(36, 6))"
       ]
      },
      {
       "output_type": "stream",
       "stream": "stderr",
       "text": [
        "WARNING:root:timeout occured in motors 31 after sending DxlInstructionPacket(id=31, instruction=2, parameters=(42, 1))"
       ]
      },
      {
       "output_type": "stream",
       "stream": "stderr",
       "text": [
        "WARNING:root:timeout occured in motors 31 after sending DxlInstructionPacket(id=31, instruction=2, parameters=(43, 1))"
       ]
      },
      {
       "output_type": "stream",
       "stream": "stderr",
       "text": [
        "WARNING:root:timeout occured in motors 31 after sending DxlInstructionPacket(id=31, instruction=2, parameters=(36, 6))"
       ]
      },
      {
       "output_type": "stream",
       "stream": "stderr",
       "text": [
        "WARNING:root:timeout occured in motors 31 after sending DxlInstructionPacket(id=31, instruction=2, parameters=(36, 6))"
       ]
      },
      {
       "output_type": "stream",
       "stream": "stderr",
       "text": [
        "WARNING:root:timeout occured in motors 31 after sending DxlInstructionPacket(id=31, instruction=2, parameters=(36, 6))"
       ]
      },
      {
       "output_type": "stream",
       "stream": "stderr",
       "text": [
        "WARNING:root:timeout occured in motors 31 after sending DxlInstructionPacket(id=31, instruction=2, parameters=(36, 6))"
       ]
      },
      {
       "output_type": "stream",
       "stream": "stderr",
       "text": [
        "WARNING:root:timeout occured in motors 31 after sending DxlInstructionPacket(id=31, instruction=2, parameters=(36, 6))"
       ]
      },
      {
       "output_type": "stream",
       "stream": "stderr",
       "text": [
        "WARNING:root:timeout occured in motors 31 after sending DxlInstructionPacket(id=31, instruction=2, parameters=(36, 6))"
       ]
      },
      {
       "output_type": "stream",
       "stream": "stderr",
       "text": [
        "WARNING:root:timeout occured in motors 31 after sending DxlInstructionPacket(id=31, instruction=2, parameters=(36, 6))"
       ]
      },
      {
       "output_type": "stream",
       "stream": "stderr",
       "text": [
        "WARNING:root:timeout occured in motors 31 after sending DxlInstructionPacket(id=31, instruction=2, parameters=(36, 6))"
       ]
      },
      {
       "output_type": "stream",
       "stream": "stderr",
       "text": [
        "WARNING:root:timeout occured in motors 31 after sending DxlInstructionPacket(id=31, instruction=2, parameters=(36, 6))"
       ]
      },
      {
       "output_type": "stream",
       "stream": "stderr",
       "text": [
        "WARNING:root:timeout occured in motors 31 after sending DxlInstructionPacket(id=31, instruction=2, parameters=(36, 6))"
       ]
      },
      {
       "output_type": "stream",
       "stream": "stderr",
       "text": [
        "WARNING:root:timeout occured in motors 31 after sending DxlInstructionPacket(id=31, instruction=2, parameters=(36, 6))"
       ]
      },
      {
       "output_type": "stream",
       "stream": "stderr",
       "text": [
        "WARNING:root:timeout occured in motors 31 after sending DxlInstructionPacket(id=31, instruction=2, parameters=(36, 6))"
       ]
      },
      {
       "output_type": "stream",
       "stream": "stderr",
       "text": [
        "WARNING:root:timeout occured in motors 31 after sending DxlInstructionPacket(id=31, instruction=2, parameters=(36, 6))"
       ]
      },
      {
       "output_type": "stream",
       "stream": "stderr",
       "text": [
        "WARNING:root:timeout occured in motors 31 after sending DxlInstructionPacket(id=31, instruction=2, parameters=(36, 6))"
       ]
      },
      {
       "output_type": "stream",
       "stream": "stderr",
       "text": [
        "WARNING:root:timeout occured in motors 31 after sending DxlInstructionPacket(id=31, instruction=2, parameters=(36, 6))"
       ]
      },
      {
       "output_type": "stream",
       "stream": "stderr",
       "text": [
        "WARNING:root:timeout occured in motors 31 after sending DxlInstructionPacket(id=31, instruction=2, parameters=(6, 4))"
       ]
      },
      {
       "output_type": "stream",
       "stream": "stderr",
       "text": [
        "WARNING:root:timeout occured in motors 31 after sending DxlInstructionPacket(id=31, instruction=2, parameters=(36, 6))"
       ]
      },
      {
       "output_type": "stream",
       "stream": "stderr",
       "text": [
        "WARNING:root:timeout occured in motors 31 after sending DxlInstructionPacket(id=31, instruction=2, parameters=(42, 1))"
       ]
      },
      {
       "output_type": "stream",
       "stream": "stderr",
       "text": [
        "WARNING:root:timeout occured in motors 31 after sending DxlInstructionPacket(id=31, instruction=2, parameters=(43, 1))"
       ]
      },
      {
       "output_type": "stream",
       "stream": "stderr",
       "text": [
        "WARNING:root:timeout occured in motors 31 after sending DxlInstructionPacket(id=31, instruction=2, parameters=(36, 6))"
       ]
      },
      {
       "output_type": "stream",
       "stream": "stderr",
       "text": [
        "WARNING:root:timeout occured in motors 31 after sending DxlInstructionPacket(id=31, instruction=2, parameters=(36, 6))"
       ]
      },
      {
       "output_type": "stream",
       "stream": "stderr",
       "text": [
        "WARNING:root:timeout occured in motors 31 after sending DxlInstructionPacket(id=31, instruction=2, parameters=(36, 6))"
       ]
      },
      {
       "output_type": "stream",
       "stream": "stderr",
       "text": [
        "WARNING:root:timeout occured in motors 31 after sending DxlInstructionPacket(id=31, instruction=2, parameters=(36, 6))"
       ]
      },
      {
       "output_type": "stream",
       "stream": "stderr",
       "text": [
        "WARNING:root:timeout occured in motors 31 after sending DxlInstructionPacket(id=31, instruction=2, parameters=(36, 6))"
       ]
      },
      {
       "output_type": "stream",
       "stream": "stderr",
       "text": [
        "WARNING:root:timeout occured in motors 31 after sending DxlInstructionPacket(id=31, instruction=2, parameters=(36, 6))"
       ]
      },
      {
       "output_type": "stream",
       "stream": "stderr",
       "text": [
        "WARNING:root:timeout occured in motors 31 after sending DxlInstructionPacket(id=31, instruction=2, parameters=(36, 6))"
       ]
      },
      {
       "output_type": "stream",
       "stream": "stderr",
       "text": [
        "WARNING:root:timeout occured in motors 31 after sending DxlInstructionPacket(id=31, instruction=2, parameters=(36, 6))"
       ]
      },
      {
       "output_type": "stream",
       "stream": "stderr",
       "text": [
        "WARNING:root:timeout occured in motors 31 after sending DxlInstructionPacket(id=31, instruction=2, parameters=(36, 6))"
       ]
      },
      {
       "output_type": "stream",
       "stream": "stderr",
       "text": [
        "WARNING:root:timeout occured in motors 31 after sending DxlInstructionPacket(id=31, instruction=2, parameters=(36, 6))"
       ]
      },
      {
       "output_type": "stream",
       "stream": "stderr",
       "text": [
        "WARNING:root:timeout occured in motors 31 after sending DxlInstructionPacket(id=31, instruction=2, parameters=(36, 6))"
       ]
      },
      {
       "output_type": "stream",
       "stream": "stderr",
       "text": [
        "WARNING:root:timeout occured in motors 31 after sending DxlInstructionPacket(id=31, instruction=2, parameters=(36, 6))"
       ]
      },
      {
       "output_type": "stream",
       "stream": "stderr",
       "text": [
        "WARNING:root:timeout occured in motors 31 after sending DxlInstructionPacket(id=31, instruction=2, parameters=(36, 6))"
       ]
      },
      {
       "output_type": "stream",
       "stream": "stderr",
       "text": [
        "WARNING:root:timeout occured in motors 31 after sending DxlInstructionPacket(id=31, instruction=2, parameters=(36, 6))"
       ]
      },
      {
       "output_type": "stream",
       "stream": "stderr",
       "text": [
        "WARNING:root:timeout occured in motors 31 after sending DxlInstructionPacket(id=31, instruction=2, parameters=(36, 6))"
       ]
      },
      {
       "output_type": "stream",
       "stream": "stderr",
       "text": [
        "WARNING:root:timeout occured in motors 31 after sending DxlInstructionPacket(id=31, instruction=2, parameters=(6, 4))"
       ]
      },
      {
       "output_type": "stream",
       "stream": "stderr",
       "text": [
        "WARNING:root:timeout occured in motors 31 after sending DxlInstructionPacket(id=31, instruction=2, parameters=(36, 6))"
       ]
      },
      {
       "output_type": "stream",
       "stream": "stderr",
       "text": [
        "WARNING:root:timeout occured in motors 31 after sending DxlInstructionPacket(id=31, instruction=2, parameters=(42, 1))"
       ]
      },
      {
       "output_type": "stream",
       "stream": "stderr",
       "text": [
        "WARNING:root:timeout occured in motors 31 after sending DxlInstructionPacket(id=31, instruction=2, parameters=(43, 1))"
       ]
      },
      {
       "output_type": "stream",
       "stream": "stderr",
       "text": [
        "WARNING:root:timeout occured in motors 31 after sending DxlInstructionPacket(id=31, instruction=2, parameters=(36, 6))"
       ]
      },
      {
       "output_type": "stream",
       "stream": "stderr",
       "text": [
        "WARNING:root:timeout occured in motors 31 after sending DxlInstructionPacket(id=31, instruction=2, parameters=(36, 6))"
       ]
      },
      {
       "output_type": "stream",
       "stream": "stderr",
       "text": [
        "WARNING:root:timeout occured in motors 31 after sending DxlInstructionPacket(id=31, instruction=2, parameters=(36, 6))"
       ]
      },
      {
       "output_type": "stream",
       "stream": "stderr",
       "text": [
        "WARNING:root:timeout occured in motors 31 after sending DxlInstructionPacket(id=31, instruction=2, parameters=(36, 6))"
       ]
      },
      {
       "output_type": "stream",
       "stream": "stderr",
       "text": [
        "WARNING:root:timeout occured in motors 31 after sending DxlInstructionPacket(id=31, instruction=2, parameters=(36, 6))"
       ]
      },
      {
       "output_type": "stream",
       "stream": "stderr",
       "text": [
        "WARNING:root:timeout occured in motors 31 after sending DxlInstructionPacket(id=31, instruction=2, parameters=(36, 6))"
       ]
      },
      {
       "output_type": "stream",
       "stream": "stderr",
       "text": [
        "WARNING:root:timeout occured in motors 31 after sending DxlInstructionPacket(id=31, instruction=2, parameters=(36, 6))"
       ]
      },
      {
       "output_type": "stream",
       "stream": "stderr",
       "text": [
        "WARNING:root:timeout occured in motors 31 after sending DxlInstructionPacket(id=31, instruction=2, parameters=(36, 6))"
       ]
      },
      {
       "output_type": "stream",
       "stream": "stderr",
       "text": [
        "WARNING:root:timeout occured in motors 31 after sending DxlInstructionPacket(id=31, instruction=2, parameters=(36, 6))"
       ]
      },
      {
       "output_type": "stream",
       "stream": "stderr",
       "text": [
        "WARNING:root:timeout occured in motors 31 after sending DxlInstructionPacket(id=31, instruction=2, parameters=(36, 6))"
       ]
      },
      {
       "output_type": "stream",
       "stream": "stderr",
       "text": [
        "WARNING:root:timeout occured in motors 31 after sending DxlInstructionPacket(id=31, instruction=2, parameters=(36, 6))"
       ]
      },
      {
       "output_type": "stream",
       "stream": "stderr",
       "text": [
        "WARNING:root:timeout occured in motors 31 after sending DxlInstructionPacket(id=31, instruction=2, parameters=(36, 6))"
       ]
      },
      {
       "output_type": "stream",
       "stream": "stderr",
       "text": [
        "WARNING:root:timeout occured in motors 31 after sending DxlInstructionPacket(id=31, instruction=2, parameters=(36, 6))"
       ]
      },
      {
       "output_type": "stream",
       "stream": "stderr",
       "text": [
        "WARNING:root:timeout occured in motors 31 after sending DxlInstructionPacket(id=31, instruction=2, parameters=(36, 6))"
       ]
      },
      {
       "output_type": "stream",
       "stream": "stderr",
       "text": [
        "WARNING:root:timeout occured in motors 31 after sending DxlInstructionPacket(id=31, instruction=2, parameters=(36, 6))"
       ]
      },
      {
       "output_type": "stream",
       "stream": "stderr",
       "text": [
        "WARNING:root:timeout occured in motors 31 after sending DxlInstructionPacket(id=31, instruction=2, parameters=(6, 4))"
       ]
      },
      {
       "output_type": "stream",
       "stream": "stderr",
       "text": [
        "WARNING:root:timeout occured in motors 31 after sending DxlInstructionPacket(id=31, instruction=2, parameters=(36, 6))"
       ]
      },
      {
       "output_type": "stream",
       "stream": "stderr",
       "text": [
        "WARNING:root:timeout occured in motors 31 after sending DxlInstructionPacket(id=31, instruction=2, parameters=(42, 1))"
       ]
      },
      {
       "output_type": "stream",
       "stream": "stderr",
       "text": [
        "WARNING:root:timeout occured in motors 31 after sending DxlInstructionPacket(id=31, instruction=2, parameters=(43, 1))"
       ]
      },
      {
       "output_type": "stream",
       "stream": "stderr",
       "text": [
        "WARNING:root:timeout occured in motors 31 after sending DxlInstructionPacket(id=31, instruction=2, parameters=(36, 6))"
       ]
      },
      {
       "output_type": "stream",
       "stream": "stderr",
       "text": [
        "WARNING:root:timeout occured in motors 31 after sending DxlInstructionPacket(id=31, instruction=2, parameters=(36, 6))"
       ]
      },
      {
       "output_type": "stream",
       "stream": "stderr",
       "text": [
        "WARNING:root:timeout occured in motors 31 after sending DxlInstructionPacket(id=31, instruction=2, parameters=(36, 6))"
       ]
      },
      {
       "output_type": "stream",
       "stream": "stderr",
       "text": [
        "WARNING:root:timeout occured in motors 31 after sending DxlInstructionPacket(id=31, instruction=2, parameters=(36, 6))"
       ]
      },
      {
       "output_type": "stream",
       "stream": "stderr",
       "text": [
        "WARNING:root:timeout occured in motors 31 after sending DxlInstructionPacket(id=31, instruction=2, parameters=(36, 6))"
       ]
      },
      {
       "output_type": "stream",
       "stream": "stderr",
       "text": [
        "WARNING:root:timeout occured in motors 31 after sending DxlInstructionPacket(id=31, instruction=2, parameters=(36, 6))"
       ]
      },
      {
       "output_type": "stream",
       "stream": "stderr",
       "text": [
        "WARNING:root:timeout occured in motors 31 after sending DxlInstructionPacket(id=31, instruction=2, parameters=(36, 6))"
       ]
      },
      {
       "output_type": "stream",
       "stream": "stderr",
       "text": [
        "WARNING:root:timeout occured in motors 31 after sending DxlInstructionPacket(id=31, instruction=2, parameters=(36, 6))"
       ]
      },
      {
       "output_type": "stream",
       "stream": "stderr",
       "text": [
        "WARNING:root:timeout occured in motors 31 after sending DxlInstructionPacket(id=31, instruction=2, parameters=(36, 6))"
       ]
      },
      {
       "output_type": "stream",
       "stream": "stderr",
       "text": [
        "WARNING:root:timeout occured in motors 31 after sending DxlInstructionPacket(id=31, instruction=2, parameters=(36, 6))"
       ]
      },
      {
       "output_type": "stream",
       "stream": "stderr",
       "text": [
        "WARNING:root:timeout occured in motors 31 after sending DxlInstructionPacket(id=31, instruction=2, parameters=(36, 6))"
       ]
      },
      {
       "output_type": "stream",
       "stream": "stderr",
       "text": [
        "WARNING:root:timeout occured in motors 31 after sending DxlInstructionPacket(id=31, instruction=2, parameters=(36, 6))"
       ]
      },
      {
       "output_type": "stream",
       "stream": "stderr",
       "text": [
        "WARNING:root:timeout occured in motors 31 after sending DxlInstructionPacket(id=31, instruction=2, parameters=(36, 6))"
       ]
      },
      {
       "output_type": "stream",
       "stream": "stderr",
       "text": [
        "WARNING:root:timeout occured in motors 31 after sending DxlInstructionPacket(id=31, instruction=2, parameters=(36, 6))"
       ]
      },
      {
       "output_type": "stream",
       "stream": "stderr",
       "text": [
        "WARNING:root:timeout occured in motors 31 after sending DxlInstructionPacket(id=31, instruction=2, parameters=(36, 6))"
       ]
      },
      {
       "output_type": "stream",
       "stream": "stderr",
       "text": [
        "WARNING:root:timeout occured in motors 31 after sending DxlInstructionPacket(id=31, instruction=2, parameters=(6, 4))"
       ]
      },
      {
       "output_type": "stream",
       "stream": "stderr",
       "text": [
        "WARNING:root:timeout occured in motors 31 after sending DxlInstructionPacket(id=31, instruction=2, parameters=(36, 6))"
       ]
      },
      {
       "output_type": "stream",
       "stream": "stderr",
       "text": [
        "WARNING:root:timeout occured in motors 31 after sending DxlInstructionPacket(id=31, instruction=2, parameters=(42, 1))"
       ]
      },
      {
       "output_type": "stream",
       "stream": "stderr",
       "text": [
        "WARNING:root:timeout occured in motors 31 after sending DxlInstructionPacket(id=31, instruction=2, parameters=(43, 1))"
       ]
      },
      {
       "output_type": "stream",
       "stream": "stderr",
       "text": [
        "WARNING:root:timeout occured in motors 31 after sending DxlInstructionPacket(id=31, instruction=2, parameters=(36, 6))"
       ]
      },
      {
       "output_type": "stream",
       "stream": "stderr",
       "text": [
        "WARNING:root:timeout occured in motors 31 after sending DxlInstructionPacket(id=31, instruction=2, parameters=(36, 6))"
       ]
      },
      {
       "output_type": "stream",
       "stream": "stderr",
       "text": [
        "WARNING:root:timeout occured in motors 31 after sending DxlInstructionPacket(id=31, instruction=2, parameters=(36, 6))"
       ]
      },
      {
       "output_type": "stream",
       "stream": "stderr",
       "text": [
        "WARNING:root:timeout occured in motors 31 after sending DxlInstructionPacket(id=31, instruction=2, parameters=(36, 6))"
       ]
      },
      {
       "output_type": "stream",
       "stream": "stderr",
       "text": [
        "WARNING:root:timeout occured in motors 31 after sending DxlInstructionPacket(id=31, instruction=2, parameters=(36, 6))"
       ]
      },
      {
       "output_type": "stream",
       "stream": "stderr",
       "text": [
        "WARNING:root:timeout occured in motors 31 after sending DxlInstructionPacket(id=31, instruction=2, parameters=(36, 6))"
       ]
      },
      {
       "output_type": "stream",
       "stream": "stderr",
       "text": [
        "WARNING:root:timeout occured in motors 31 after sending DxlInstructionPacket(id=31, instruction=2, parameters=(36, 6))"
       ]
      },
      {
       "output_type": "stream",
       "stream": "stderr",
       "text": [
        "WARNING:root:timeout occured in motors 31 after sending DxlInstructionPacket(id=31, instruction=2, parameters=(36, 6))"
       ]
      },
      {
       "output_type": "stream",
       "stream": "stderr",
       "text": [
        "WARNING:root:timeout occured in motors 31 after sending DxlInstructionPacket(id=31, instruction=2, parameters=(36, 6))"
       ]
      },
      {
       "output_type": "stream",
       "stream": "stderr",
       "text": [
        "WARNING:root:timeout occured in motors 31 after sending DxlInstructionPacket(id=31, instruction=2, parameters=(36, 6))"
       ]
      },
      {
       "output_type": "stream",
       "stream": "stderr",
       "text": [
        "WARNING:root:timeout occured in motors 31 after sending DxlInstructionPacket(id=31, instruction=2, parameters=(36, 6))"
       ]
      },
      {
       "output_type": "stream",
       "stream": "stderr",
       "text": [
        "WARNING:root:timeout occured in motors 31 after sending DxlInstructionPacket(id=31, instruction=2, parameters=(36, 6))"
       ]
      },
      {
       "output_type": "stream",
       "stream": "stderr",
       "text": [
        "WARNING:root:timeout occured in motors 31 after sending DxlInstructionPacket(id=31, instruction=2, parameters=(36, 6))"
       ]
      },
      {
       "output_type": "stream",
       "stream": "stderr",
       "text": [
        "WARNING:root:timeout occured in motors 31 after sending DxlInstructionPacket(id=31, instruction=2, parameters=(36, 6))"
       ]
      },
      {
       "output_type": "stream",
       "stream": "stderr",
       "text": [
        "WARNING:root:timeout occured in motors 31 after sending DxlInstructionPacket(id=31, instruction=2, parameters=(36, 6))"
       ]
      },
      {
       "output_type": "stream",
       "stream": "stderr",
       "text": [
        "WARNING:root:timeout occured in motors 31 after sending DxlInstructionPacket(id=31, instruction=2, parameters=(6, 4))"
       ]
      },
      {
       "output_type": "stream",
       "stream": "stderr",
       "text": [
        "WARNING:root:timeout occured in motors 31 after sending DxlInstructionPacket(id=31, instruction=2, parameters=(42, 1))"
       ]
      },
      {
       "output_type": "stream",
       "stream": "stderr",
       "text": [
        "WARNING:root:timeout occured in motors 31 after sending DxlInstructionPacket(id=31, instruction=2, parameters=(36, 6))"
       ]
      },
      {
       "output_type": "stream",
       "stream": "stderr",
       "text": [
        "WARNING:root:timeout occured in motors 31 after sending DxlInstructionPacket(id=31, instruction=2, parameters=(43, 1))"
       ]
      },
      {
       "output_type": "stream",
       "stream": "stderr",
       "text": [
        "WARNING:root:timeout occured in motors 31 after sending DxlInstructionPacket(id=31, instruction=2, parameters=(36, 6))"
       ]
      },
      {
       "output_type": "stream",
       "stream": "stderr",
       "text": [
        "WARNING:root:timeout occured in motors 31 after sending DxlInstructionPacket(id=31, instruction=2, parameters=(36, 6))"
       ]
      },
      {
       "output_type": "stream",
       "stream": "stderr",
       "text": [
        "WARNING:root:timeout occured in motors 31 after sending DxlInstructionPacket(id=31, instruction=2, parameters=(36, 6))"
       ]
      },
      {
       "output_type": "stream",
       "stream": "stderr",
       "text": [
        "WARNING:root:timeout occured in motors 31 after sending DxlInstructionPacket(id=31, instruction=2, parameters=(36, 6))"
       ]
      },
      {
       "output_type": "stream",
       "stream": "stderr",
       "text": [
        "WARNING:root:timeout occured in motors 31 after sending DxlInstructionPacket(id=31, instruction=2, parameters=(36, 6))"
       ]
      },
      {
       "output_type": "stream",
       "stream": "stderr",
       "text": [
        "WARNING:root:timeout occured in motors 31 after sending DxlInstructionPacket(id=31, instruction=2, parameters=(36, 6))"
       ]
      },
      {
       "output_type": "stream",
       "stream": "stderr",
       "text": [
        "WARNING:root:timeout occured in motors 31 after sending DxlInstructionPacket(id=31, instruction=2, parameters=(36, 6))"
       ]
      },
      {
       "output_type": "stream",
       "stream": "stderr",
       "text": [
        "WARNING:root:timeout occured in motors 31 after sending DxlInstructionPacket(id=31, instruction=2, parameters=(36, 6))"
       ]
      },
      {
       "output_type": "stream",
       "stream": "stderr",
       "text": [
        "WARNING:root:timeout occured in motors 31 after sending DxlInstructionPacket(id=31, instruction=2, parameters=(36, 6))"
       ]
      },
      {
       "output_type": "stream",
       "stream": "stderr",
       "text": [
        "WARNING:root:timeout occured in motors 31 after sending DxlInstructionPacket(id=31, instruction=2, parameters=(36, 6))"
       ]
      },
      {
       "output_type": "stream",
       "stream": "stderr",
       "text": [
        "WARNING:root:timeout occured in motors 31 after sending DxlInstructionPacket(id=31, instruction=2, parameters=(36, 6))"
       ]
      },
      {
       "output_type": "stream",
       "stream": "stderr",
       "text": [
        "WARNING:root:timeout occured in motors 31 after sending DxlInstructionPacket(id=31, instruction=2, parameters=(36, 6))"
       ]
      },
      {
       "output_type": "stream",
       "stream": "stderr",
       "text": [
        "WARNING:root:timeout occured in motors 31 after sending DxlInstructionPacket(id=31, instruction=2, parameters=(36, 6))"
       ]
      },
      {
       "output_type": "stream",
       "stream": "stderr",
       "text": [
        "WARNING:root:timeout occured in motors 31 after sending DxlInstructionPacket(id=31, instruction=2, parameters=(36, 6))"
       ]
      },
      {
       "output_type": "stream",
       "stream": "stderr",
       "text": [
        "WARNING:root:timeout occured in motors 31 after sending DxlInstructionPacket(id=31, instruction=2, parameters=(36, 6))"
       ]
      },
      {
       "output_type": "stream",
       "stream": "stderr",
       "text": [
        "WARNING:root:timeout occured in motors 31 after sending DxlInstructionPacket(id=31, instruction=2, parameters=(6, 4))"
       ]
      },
      {
       "output_type": "stream",
       "stream": "stderr",
       "text": [
        "WARNING:root:timeout occured in motors 31 after sending DxlInstructionPacket(id=31, instruction=2, parameters=(42, 1))"
       ]
      },
      {
       "output_type": "stream",
       "stream": "stderr",
       "text": [
        "WARNING:root:timeout occured in motors 31 after sending DxlInstructionPacket(id=31, instruction=2, parameters=(36, 6))"
       ]
      },
      {
       "output_type": "stream",
       "stream": "stderr",
       "text": [
        "WARNING:root:timeout occured in motors 31 after sending DxlInstructionPacket(id=31, instruction=2, parameters=(43, 1))"
       ]
      },
      {
       "output_type": "stream",
       "stream": "stderr",
       "text": [
        "WARNING:root:timeout occured in motors 31 after sending DxlInstructionPacket(id=31, instruction=2, parameters=(36, 6))"
       ]
      },
      {
       "output_type": "stream",
       "stream": "stderr",
       "text": [
        "WARNING:root:timeout occured in motors 31 after sending DxlInstructionPacket(id=31, instruction=2, parameters=(36, 6))"
       ]
      },
      {
       "output_type": "stream",
       "stream": "stderr",
       "text": [
        "WARNING:root:timeout occured in motors 31 after sending DxlInstructionPacket(id=31, instruction=2, parameters=(36, 6))"
       ]
      },
      {
       "output_type": "stream",
       "stream": "stderr",
       "text": [
        "WARNING:root:timeout occured in motors 31 after sending DxlInstructionPacket(id=31, instruction=2, parameters=(36, 6))"
       ]
      },
      {
       "output_type": "stream",
       "stream": "stderr",
       "text": [
        "WARNING:root:timeout occured in motors 31 after sending DxlInstructionPacket(id=31, instruction=2, parameters=(36, 6))"
       ]
      },
      {
       "output_type": "stream",
       "stream": "stderr",
       "text": [
        "WARNING:root:timeout occured in motors 31 after sending DxlInstructionPacket(id=31, instruction=2, parameters=(36, 6))"
       ]
      },
      {
       "output_type": "stream",
       "stream": "stderr",
       "text": [
        "WARNING:root:timeout occured in motors 31 after sending DxlInstructionPacket(id=31, instruction=2, parameters=(36, 6))"
       ]
      },
      {
       "output_type": "stream",
       "stream": "stderr",
       "text": [
        "WARNING:root:timeout occured in motors 31 after sending DxlInstructionPacket(id=31, instruction=2, parameters=(36, 6))"
       ]
      },
      {
       "output_type": "stream",
       "stream": "stderr",
       "text": [
        "WARNING:root:timeout occured in motors 31 after sending DxlInstructionPacket(id=31, instruction=2, parameters=(36, 6))"
       ]
      },
      {
       "output_type": "stream",
       "stream": "stderr",
       "text": [
        "WARNING:root:timeout occured in motors 31 after sending DxlInstructionPacket(id=31, instruction=2, parameters=(36, 6))"
       ]
      },
      {
       "output_type": "stream",
       "stream": "stderr",
       "text": [
        "WARNING:root:timeout occured in motors 31 after sending DxlInstructionPacket(id=31, instruction=2, parameters=(36, 6))"
       ]
      },
      {
       "output_type": "stream",
       "stream": "stderr",
       "text": [
        "WARNING:root:timeout occured in motors 31 after sending DxlInstructionPacket(id=31, instruction=2, parameters=(36, 6))"
       ]
      },
      {
       "output_type": "stream",
       "stream": "stderr",
       "text": [
        "WARNING:root:timeout occured in motors 31 after sending DxlInstructionPacket(id=31, instruction=2, parameters=(36, 6))"
       ]
      },
      {
       "output_type": "stream",
       "stream": "stderr",
       "text": [
        "WARNING:root:timeout occured in motors 31 after sending DxlInstructionPacket(id=31, instruction=2, parameters=(36, 6))"
       ]
      },
      {
       "output_type": "stream",
       "stream": "stderr",
       "text": [
        "WARNING:root:timeout occured in motors 31 after sending DxlInstructionPacket(id=31, instruction=2, parameters=(36, 6))"
       ]
      },
      {
       "output_type": "stream",
       "stream": "stderr",
       "text": [
        "WARNING:root:timeout occured in motors 31 after sending DxlInstructionPacket(id=31, instruction=2, parameters=(6, 4))"
       ]
      },
      {
       "output_type": "stream",
       "stream": "stderr",
       "text": [
        "WARNING:root:timeout occured in motors 31 after sending DxlInstructionPacket(id=31, instruction=2, parameters=(42, 1))"
       ]
      },
      {
       "output_type": "stream",
       "stream": "stderr",
       "text": [
        "WARNING:root:timeout occured in motors 31 after sending DxlInstructionPacket(id=31, instruction=2, parameters=(36, 6))"
       ]
      },
      {
       "output_type": "stream",
       "stream": "stderr",
       "text": [
        "WARNING:root:timeout occured in motors 31 after sending DxlInstructionPacket(id=31, instruction=2, parameters=(43, 1))"
       ]
      },
      {
       "output_type": "stream",
       "stream": "stderr",
       "text": [
        "WARNING:root:timeout occured in motors 31 after sending DxlInstructionPacket(id=31, instruction=2, parameters=(36, 6))"
       ]
      },
      {
       "output_type": "stream",
       "stream": "stderr",
       "text": [
        "WARNING:root:timeout occured in motors 31 after sending DxlInstructionPacket(id=31, instruction=2, parameters=(36, 6))"
       ]
      },
      {
       "output_type": "stream",
       "stream": "stderr",
       "text": [
        "WARNING:root:timeout occured in motors 31 after sending DxlInstructionPacket(id=31, instruction=2, parameters=(36, 6))"
       ]
      },
      {
       "output_type": "stream",
       "stream": "stderr",
       "text": [
        "WARNING:root:timeout occured in motors 31 after sending DxlInstructionPacket(id=31, instruction=2, parameters=(36, 6))"
       ]
      },
      {
       "output_type": "stream",
       "stream": "stderr",
       "text": [
        "WARNING:root:timeout occured in motors 31 after sending DxlInstructionPacket(id=31, instruction=2, parameters=(36, 6))"
       ]
      },
      {
       "output_type": "stream",
       "stream": "stderr",
       "text": [
        "WARNING:root:timeout occured in motors 31 after sending DxlInstructionPacket(id=31, instruction=2, parameters=(36, 6))"
       ]
      },
      {
       "output_type": "stream",
       "stream": "stderr",
       "text": [
        "WARNING:root:timeout occured in motors 31 after sending DxlInstructionPacket(id=31, instruction=2, parameters=(36, 6))"
       ]
      },
      {
       "output_type": "stream",
       "stream": "stderr",
       "text": [
        "WARNING:root:timeout occured in motors 31 after sending DxlInstructionPacket(id=31, instruction=2, parameters=(36, 6))"
       ]
      },
      {
       "output_type": "stream",
       "stream": "stderr",
       "text": [
        "WARNING:root:timeout occured in motors 31 after sending DxlInstructionPacket(id=31, instruction=2, parameters=(36, 6))"
       ]
      },
      {
       "output_type": "stream",
       "stream": "stderr",
       "text": [
        "WARNING:root:timeout occured in motors 31 after sending DxlInstructionPacket(id=31, instruction=2, parameters=(36, 6))"
       ]
      },
      {
       "output_type": "stream",
       "stream": "stderr",
       "text": [
        "WARNING:root:timeout occured in motors 31 after sending DxlInstructionPacket(id=31, instruction=2, parameters=(36, 6))"
       ]
      },
      {
       "output_type": "stream",
       "stream": "stderr",
       "text": [
        "WARNING:root:timeout occured in motors 31 after sending DxlInstructionPacket(id=31, instruction=2, parameters=(36, 6))"
       ]
      },
      {
       "output_type": "stream",
       "stream": "stderr",
       "text": [
        "WARNING:root:timeout occured in motors 31 after sending DxlInstructionPacket(id=31, instruction=2, parameters=(36, 6))"
       ]
      },
      {
       "output_type": "stream",
       "stream": "stderr",
       "text": [
        "WARNING:root:timeout occured in motors 31 after sending DxlInstructionPacket(id=31, instruction=2, parameters=(36, 6))"
       ]
      },
      {
       "output_type": "stream",
       "stream": "stderr",
       "text": [
        "WARNING:root:timeout occured in motors 31 after sending DxlInstructionPacket(id=31, instruction=2, parameters=(36, 6))"
       ]
      },
      {
       "output_type": "stream",
       "stream": "stderr",
       "text": [
        "WARNING:root:timeout occured in motors 31 after sending DxlInstructionPacket(id=31, instruction=2, parameters=(6, 4))"
       ]
      },
      {
       "output_type": "stream",
       "stream": "stderr",
       "text": [
        "WARNING:root:timeout occured in motors 31 after sending DxlInstructionPacket(id=31, instruction=2, parameters=(42, 1))"
       ]
      },
      {
       "output_type": "stream",
       "stream": "stderr",
       "text": [
        "WARNING:root:timeout occured in motors 31 after sending DxlInstructionPacket(id=31, instruction=2, parameters=(36, 6))"
       ]
      },
      {
       "output_type": "stream",
       "stream": "stderr",
       "text": [
        "WARNING:root:timeout occured in motors 31 after sending DxlInstructionPacket(id=31, instruction=2, parameters=(43, 1))"
       ]
      },
      {
       "output_type": "stream",
       "stream": "stderr",
       "text": [
        "WARNING:root:timeout occured in motors 31 after sending DxlInstructionPacket(id=31, instruction=2, parameters=(36, 6))"
       ]
      },
      {
       "output_type": "stream",
       "stream": "stderr",
       "text": [
        "WARNING:root:timeout occured in motors 31 after sending DxlInstructionPacket(id=31, instruction=2, parameters=(36, 6))"
       ]
      },
      {
       "output_type": "stream",
       "stream": "stderr",
       "text": [
        "WARNING:root:timeout occured in motors 31 after sending DxlInstructionPacket(id=31, instruction=2, parameters=(36, 6))"
       ]
      },
      {
       "output_type": "stream",
       "stream": "stderr",
       "text": [
        "WARNING:root:timeout occured in motors 31 after sending DxlInstructionPacket(id=31, instruction=2, parameters=(36, 6))"
       ]
      },
      {
       "output_type": "stream",
       "stream": "stderr",
       "text": [
        "WARNING:root:timeout occured in motors 31 after sending DxlInstructionPacket(id=31, instruction=2, parameters=(36, 6))"
       ]
      },
      {
       "output_type": "stream",
       "stream": "stderr",
       "text": [
        "WARNING:root:timeout occured in motors 31 after sending DxlInstructionPacket(id=31, instruction=2, parameters=(36, 6))"
       ]
      },
      {
       "output_type": "stream",
       "stream": "stderr",
       "text": [
        "WARNING:root:timeout occured in motors 31 after sending DxlInstructionPacket(id=31, instruction=2, parameters=(36, 6))"
       ]
      },
      {
       "output_type": "stream",
       "stream": "stderr",
       "text": [
        "WARNING:root:timeout occured in motors 31 after sending DxlInstructionPacket(id=31, instruction=2, parameters=(36, 6))"
       ]
      },
      {
       "output_type": "stream",
       "stream": "stderr",
       "text": [
        "WARNING:root:timeout occured in motors 31 after sending DxlInstructionPacket(id=31, instruction=2, parameters=(36, 6))"
       ]
      },
      {
       "output_type": "stream",
       "stream": "stderr",
       "text": [
        "WARNING:root:timeout occured in motors 31 after sending DxlInstructionPacket(id=31, instruction=2, parameters=(36, 6))"
       ]
      },
      {
       "output_type": "stream",
       "stream": "stderr",
       "text": [
        "WARNING:root:timeout occured in motors 31 after sending DxlInstructionPacket(id=31, instruction=2, parameters=(36, 6))"
       ]
      },
      {
       "output_type": "stream",
       "stream": "stderr",
       "text": [
        "WARNING:root:timeout occured in motors 31 after sending DxlInstructionPacket(id=31, instruction=2, parameters=(36, 6))"
       ]
      },
      {
       "output_type": "stream",
       "stream": "stderr",
       "text": [
        "WARNING:root:timeout occured in motors 31 after sending DxlInstructionPacket(id=31, instruction=2, parameters=(36, 6))"
       ]
      },
      {
       "output_type": "stream",
       "stream": "stderr",
       "text": [
        "WARNING:root:timeout occured in motors 31 after sending DxlInstructionPacket(id=31, instruction=2, parameters=(36, 6))"
       ]
      },
      {
       "output_type": "stream",
       "stream": "stderr",
       "text": [
        "WARNING:root:timeout occured in motors 31 after sending DxlInstructionPacket(id=31, instruction=2, parameters=(36, 6))"
       ]
      },
      {
       "output_type": "stream",
       "stream": "stderr",
       "text": [
        "WARNING:root:timeout occured in motors 31 after sending DxlInstructionPacket(id=31, instruction=2, parameters=(6, 4))"
       ]
      },
      {
       "output_type": "stream",
       "stream": "stderr",
       "text": [
        "WARNING:root:timeout occured in motors 31 after sending DxlInstructionPacket(id=31, instruction=2, parameters=(42, 1))"
       ]
      },
      {
       "output_type": "stream",
       "stream": "stderr",
       "text": [
        "WARNING:root:timeout occured in motors 31 after sending DxlInstructionPacket(id=31, instruction=2, parameters=(36, 6))"
       ]
      },
      {
       "output_type": "stream",
       "stream": "stderr",
       "text": [
        "WARNING:root:timeout occured in motors 31 after sending DxlInstructionPacket(id=31, instruction=2, parameters=(43, 1))"
       ]
      },
      {
       "output_type": "stream",
       "stream": "stderr",
       "text": [
        "WARNING:root:timeout occured in motors 31 after sending DxlInstructionPacket(id=31, instruction=2, parameters=(36, 6))"
       ]
      },
      {
       "output_type": "stream",
       "stream": "stderr",
       "text": [
        "WARNING:root:timeout occured in motors 31 after sending DxlInstructionPacket(id=31, instruction=2, parameters=(36, 6))"
       ]
      },
      {
       "output_type": "stream",
       "stream": "stderr",
       "text": [
        "WARNING:root:timeout occured in motors 31 after sending DxlInstructionPacket(id=31, instruction=2, parameters=(36, 6))"
       ]
      },
      {
       "output_type": "stream",
       "stream": "stderr",
       "text": [
        "WARNING:root:timeout occured in motors 31 after sending DxlInstructionPacket(id=31, instruction=2, parameters=(36, 6))"
       ]
      },
      {
       "output_type": "stream",
       "stream": "stderr",
       "text": [
        "WARNING:root:timeout occured in motors 31 after sending DxlInstructionPacket(id=31, instruction=2, parameters=(36, 6))"
       ]
      },
      {
       "output_type": "stream",
       "stream": "stderr",
       "text": [
        "WARNING:root:timeout occured in motors 31 after sending DxlInstructionPacket(id=31, instruction=2, parameters=(36, 6))"
       ]
      },
      {
       "output_type": "stream",
       "stream": "stderr",
       "text": [
        "WARNING:root:timeout occured in motors 31 after sending DxlInstructionPacket(id=31, instruction=2, parameters=(36, 6))"
       ]
      },
      {
       "output_type": "stream",
       "stream": "stderr",
       "text": [
        "WARNING:root:timeout occured in motors 31 after sending DxlInstructionPacket(id=31, instruction=2, parameters=(36, 6))"
       ]
      },
      {
       "output_type": "stream",
       "stream": "stderr",
       "text": [
        "WARNING:root:timeout occured in motors 31 after sending DxlInstructionPacket(id=31, instruction=2, parameters=(36, 6))"
       ]
      },
      {
       "output_type": "stream",
       "stream": "stderr",
       "text": [
        "WARNING:root:timeout occured in motors 31 after sending DxlInstructionPacket(id=31, instruction=2, parameters=(36, 6))"
       ]
      },
      {
       "output_type": "stream",
       "stream": "stderr",
       "text": [
        "WARNING:root:timeout occured in motors 31 after sending DxlInstructionPacket(id=31, instruction=2, parameters=(36, 6))"
       ]
      },
      {
       "output_type": "stream",
       "stream": "stderr",
       "text": [
        "WARNING:root:timeout occured in motors 31 after sending DxlInstructionPacket(id=31, instruction=2, parameters=(36, 6))"
       ]
      },
      {
       "output_type": "stream",
       "stream": "stderr",
       "text": [
        "WARNING:root:timeout occured in motors 31 after sending DxlInstructionPacket(id=31, instruction=2, parameters=(36, 6))"
       ]
      },
      {
       "output_type": "stream",
       "stream": "stderr",
       "text": [
        "WARNING:root:timeout occured in motors 31 after sending DxlInstructionPacket(id=31, instruction=2, parameters=(36, 6))"
       ]
      },
      {
       "output_type": "stream",
       "stream": "stderr",
       "text": [
        "WARNING:root:timeout occured in motors 31 after sending DxlInstructionPacket(id=31, instruction=2, parameters=(36, 6))"
       ]
      },
      {
       "output_type": "stream",
       "stream": "stderr",
       "text": [
        "WARNING:root:timeout occured in motors 31 after sending DxlInstructionPacket(id=31, instruction=2, parameters=(6, 4))"
       ]
      },
      {
       "output_type": "stream",
       "stream": "stderr",
       "text": [
        "WARNING:root:timeout occured in motors 31 after sending DxlInstructionPacket(id=31, instruction=2, parameters=(42, 1))"
       ]
      },
      {
       "output_type": "stream",
       "stream": "stderr",
       "text": [
        "WARNING:root:timeout occured in motors 31 after sending DxlInstructionPacket(id=31, instruction=2, parameters=(36, 6))"
       ]
      },
      {
       "output_type": "stream",
       "stream": "stderr",
       "text": [
        "WARNING:root:timeout occured in motors 31 after sending DxlInstructionPacket(id=31, instruction=2, parameters=(43, 1))"
       ]
      },
      {
       "output_type": "stream",
       "stream": "stderr",
       "text": [
        "WARNING:root:timeout occured in motors 31 after sending DxlInstructionPacket(id=31, instruction=2, parameters=(36, 6))"
       ]
      },
      {
       "output_type": "stream",
       "stream": "stderr",
       "text": [
        "WARNING:root:timeout occured in motors 31 after sending DxlInstructionPacket(id=31, instruction=2, parameters=(36, 6))"
       ]
      },
      {
       "output_type": "stream",
       "stream": "stderr",
       "text": [
        "WARNING:root:timeout occured in motors 31 after sending DxlInstructionPacket(id=31, instruction=2, parameters=(36, 6))"
       ]
      },
      {
       "output_type": "stream",
       "stream": "stderr",
       "text": [
        "WARNING:root:timeout occured in motors 31 after sending DxlInstructionPacket(id=31, instruction=2, parameters=(36, 6))"
       ]
      },
      {
       "output_type": "stream",
       "stream": "stderr",
       "text": [
        "WARNING:root:timeout occured in motors 31 after sending DxlInstructionPacket(id=31, instruction=2, parameters=(36, 6))"
       ]
      },
      {
       "output_type": "stream",
       "stream": "stderr",
       "text": [
        "WARNING:root:timeout occured in motors 31 after sending DxlInstructionPacket(id=31, instruction=2, parameters=(36, 6))"
       ]
      },
      {
       "output_type": "stream",
       "stream": "stderr",
       "text": [
        "WARNING:root:timeout occured in motors 31 after sending DxlInstructionPacket(id=31, instruction=2, parameters=(36, 6))"
       ]
      },
      {
       "output_type": "stream",
       "stream": "stderr",
       "text": [
        "WARNING:root:timeout occured in motors 31 after sending DxlInstructionPacket(id=31, instruction=2, parameters=(36, 6))"
       ]
      },
      {
       "output_type": "stream",
       "stream": "stderr",
       "text": [
        "WARNING:root:timeout occured in motors 31 after sending DxlInstructionPacket(id=31, instruction=2, parameters=(36, 6))"
       ]
      },
      {
       "output_type": "stream",
       "stream": "stderr",
       "text": [
        "WARNING:root:timeout occured in motors 31 after sending DxlInstructionPacket(id=31, instruction=2, parameters=(36, 6))"
       ]
      },
      {
       "output_type": "stream",
       "stream": "stderr",
       "text": [
        "WARNING:root:timeout occured in motors 31 after sending DxlInstructionPacket(id=31, instruction=2, parameters=(36, 6))"
       ]
      },
      {
       "output_type": "stream",
       "stream": "stderr",
       "text": [
        "WARNING:root:timeout occured in motors 31 after sending DxlInstructionPacket(id=31, instruction=2, parameters=(36, 6))"
       ]
      },
      {
       "output_type": "stream",
       "stream": "stderr",
       "text": [
        "WARNING:root:timeout occured in motors 31 after sending DxlInstructionPacket(id=31, instruction=2, parameters=(36, 6))"
       ]
      },
      {
       "output_type": "stream",
       "stream": "stderr",
       "text": [
        "WARNING:root:timeout occured in motors 31 after sending DxlInstructionPacket(id=31, instruction=2, parameters=(36, 6))"
       ]
      },
      {
       "output_type": "stream",
       "stream": "stderr",
       "text": [
        "WARNING:root:timeout occured in motors 31 after sending DxlInstructionPacket(id=31, instruction=2, parameters=(36, 6))"
       ]
      },
      {
       "output_type": "stream",
       "stream": "stderr",
       "text": [
        "WARNING:root:timeout occured in motors 31 after sending DxlInstructionPacket(id=31, instruction=2, parameters=(6, 4))"
       ]
      },
      {
       "output_type": "stream",
       "stream": "stderr",
       "text": [
        "WARNING:root:timeout occured in motors 31 after sending DxlInstructionPacket(id=31, instruction=2, parameters=(42, 1))"
       ]
      },
      {
       "output_type": "stream",
       "stream": "stderr",
       "text": [
        "WARNING:root:timeout occured in motors 31 after sending DxlInstructionPacket(id=31, instruction=2, parameters=(36, 6))"
       ]
      },
      {
       "output_type": "stream",
       "stream": "stderr",
       "text": [
        "WARNING:root:timeout occured in motors 31 after sending DxlInstructionPacket(id=31, instruction=2, parameters=(43, 1))"
       ]
      },
      {
       "output_type": "stream",
       "stream": "stderr",
       "text": [
        "WARNING:root:timeout occured in motors 31 after sending DxlInstructionPacket(id=31, instruction=2, parameters=(36, 6))"
       ]
      },
      {
       "output_type": "stream",
       "stream": "stderr",
       "text": [
        "WARNING:root:timeout occured in motors 31 after sending DxlInstructionPacket(id=31, instruction=2, parameters=(36, 6))"
       ]
      },
      {
       "output_type": "stream",
       "stream": "stderr",
       "text": [
        "WARNING:root:timeout occured in motors 31 after sending DxlInstructionPacket(id=31, instruction=2, parameters=(36, 6))"
       ]
      },
      {
       "output_type": "stream",
       "stream": "stderr",
       "text": [
        "WARNING:root:timeout occured in motors 31 after sending DxlInstructionPacket(id=31, instruction=2, parameters=(36, 6))"
       ]
      },
      {
       "output_type": "stream",
       "stream": "stderr",
       "text": [
        "WARNING:root:timeout occured in motors 31 after sending DxlInstructionPacket(id=31, instruction=2, parameters=(36, 6))"
       ]
      },
      {
       "output_type": "stream",
       "stream": "stderr",
       "text": [
        "WARNING:root:timeout occured in motors 31 after sending DxlInstructionPacket(id=31, instruction=2, parameters=(36, 6))"
       ]
      },
      {
       "output_type": "stream",
       "stream": "stderr",
       "text": [
        "WARNING:root:timeout occured in motors 31 after sending DxlInstructionPacket(id=31, instruction=2, parameters=(36, 6))"
       ]
      },
      {
       "output_type": "stream",
       "stream": "stderr",
       "text": [
        "WARNING:root:timeout occured in motors 31 after sending DxlInstructionPacket(id=31, instruction=2, parameters=(36, 6))"
       ]
      },
      {
       "output_type": "stream",
       "stream": "stderr",
       "text": [
        "WARNING:root:timeout occured in motors 31 after sending DxlInstructionPacket(id=31, instruction=2, parameters=(36, 6))"
       ]
      },
      {
       "output_type": "stream",
       "stream": "stderr",
       "text": [
        "WARNING:root:timeout occured in motors 31 after sending DxlInstructionPacket(id=31, instruction=2, parameters=(36, 6))"
       ]
      },
      {
       "output_type": "stream",
       "stream": "stderr",
       "text": [
        "WARNING:root:timeout occured in motors 31 after sending DxlInstructionPacket(id=31, instruction=2, parameters=(36, 6))"
       ]
      },
      {
       "output_type": "stream",
       "stream": "stderr",
       "text": [
        "WARNING:root:timeout occured in motors 31 after sending DxlInstructionPacket(id=31, instruction=2, parameters=(36, 6))"
       ]
      },
      {
       "output_type": "stream",
       "stream": "stderr",
       "text": [
        "WARNING:root:timeout occured in motors 31 after sending DxlInstructionPacket(id=31, instruction=2, parameters=(36, 6))"
       ]
      },
      {
       "output_type": "stream",
       "stream": "stderr",
       "text": [
        "WARNING:root:timeout occured in motors 31 after sending DxlInstructionPacket(id=31, instruction=2, parameters=(36, 6))"
       ]
      },
      {
       "output_type": "stream",
       "stream": "stderr",
       "text": [
        "WARNING:root:timeout occured in motors 31 after sending DxlInstructionPacket(id=31, instruction=2, parameters=(36, 6))"
       ]
      },
      {
       "output_type": "stream",
       "stream": "stderr",
       "text": [
        "WARNING:root:timeout occured in motors 31 after sending DxlInstructionPacket(id=31, instruction=2, parameters=(6, 4))"
       ]
      },
      {
       "output_type": "stream",
       "stream": "stderr",
       "text": [
        "WARNING:root:timeout occured in motors 31 after sending DxlInstructionPacket(id=31, instruction=2, parameters=(42, 1))"
       ]
      },
      {
       "output_type": "stream",
       "stream": "stderr",
       "text": [
        "WARNING:root:timeout occured in motors 31 after sending DxlInstructionPacket(id=31, instruction=2, parameters=(36, 6))"
       ]
      },
      {
       "output_type": "stream",
       "stream": "stderr",
       "text": [
        "WARNING:root:timeout occured in motors 31 after sending DxlInstructionPacket(id=31, instruction=2, parameters=(43, 1))"
       ]
      },
      {
       "output_type": "stream",
       "stream": "stderr",
       "text": [
        "WARNING:root:timeout occured in motors 31 after sending DxlInstructionPacket(id=31, instruction=2, parameters=(36, 6))"
       ]
      },
      {
       "output_type": "stream",
       "stream": "stderr",
       "text": [
        "WARNING:root:timeout occured in motors 31 after sending DxlInstructionPacket(id=31, instruction=2, parameters=(36, 6))"
       ]
      },
      {
       "output_type": "stream",
       "stream": "stderr",
       "text": [
        "WARNING:root:timeout occured in motors 31 after sending DxlInstructionPacket(id=31, instruction=2, parameters=(36, 6))"
       ]
      },
      {
       "output_type": "stream",
       "stream": "stderr",
       "text": [
        "WARNING:root:timeout occured in motors 31 after sending DxlInstructionPacket(id=31, instruction=2, parameters=(36, 6))"
       ]
      },
      {
       "output_type": "stream",
       "stream": "stderr",
       "text": [
        "WARNING:root:timeout occured in motors 31 after sending DxlInstructionPacket(id=31, instruction=2, parameters=(36, 6))"
       ]
      },
      {
       "output_type": "stream",
       "stream": "stderr",
       "text": [
        "WARNING:root:timeout occured in motors 31 after sending DxlInstructionPacket(id=31, instruction=2, parameters=(36, 6))"
       ]
      },
      {
       "output_type": "stream",
       "stream": "stderr",
       "text": [
        "WARNING:root:timeout occured in motors 31 after sending DxlInstructionPacket(id=31, instruction=2, parameters=(36, 6))"
       ]
      },
      {
       "output_type": "stream",
       "stream": "stderr",
       "text": [
        "WARNING:root:timeout occured in motors 31 after sending DxlInstructionPacket(id=31, instruction=2, parameters=(36, 6))"
       ]
      },
      {
       "output_type": "stream",
       "stream": "stderr",
       "text": [
        "WARNING:root:timeout occured in motors 31 after sending DxlInstructionPacket(id=31, instruction=2, parameters=(36, 6))"
       ]
      },
      {
       "output_type": "stream",
       "stream": "stderr",
       "text": [
        "WARNING:root:timeout occured in motors 31 after sending DxlInstructionPacket(id=31, instruction=2, parameters=(36, 6))"
       ]
      },
      {
       "output_type": "stream",
       "stream": "stderr",
       "text": [
        "WARNING:root:timeout occured in motors 31 after sending DxlInstructionPacket(id=31, instruction=2, parameters=(36, 6))"
       ]
      },
      {
       "output_type": "stream",
       "stream": "stderr",
       "text": [
        "WARNING:root:timeout occured in motors 31 after sending DxlInstructionPacket(id=31, instruction=2, parameters=(36, 6))"
       ]
      },
      {
       "output_type": "stream",
       "stream": "stderr",
       "text": [
        "WARNING:root:timeout occured in motors 31 after sending DxlInstructionPacket(id=31, instruction=2, parameters=(36, 6))"
       ]
      },
      {
       "output_type": "stream",
       "stream": "stderr",
       "text": [
        "WARNING:root:timeout occured in motors 31 after sending DxlInstructionPacket(id=31, instruction=2, parameters=(36, 6))"
       ]
      },
      {
       "output_type": "stream",
       "stream": "stderr",
       "text": [
        "WARNING:root:timeout occured in motors 31 after sending DxlInstructionPacket(id=31, instruction=2, parameters=(36, 6))"
       ]
      },
      {
       "output_type": "stream",
       "stream": "stderr",
       "text": [
        "WARNING:root:timeout occured in motors 31 after sending DxlInstructionPacket(id=31, instruction=2, parameters=(6, 4))"
       ]
      },
      {
       "output_type": "stream",
       "stream": "stderr",
       "text": [
        "WARNING:root:timeout occured in motors 31 after sending DxlInstructionPacket(id=31, instruction=2, parameters=(42, 1))"
       ]
      },
      {
       "output_type": "stream",
       "stream": "stderr",
       "text": [
        "WARNING:root:timeout occured in motors 31 after sending DxlInstructionPacket(id=31, instruction=2, parameters=(36, 6))"
       ]
      },
      {
       "output_type": "stream",
       "stream": "stderr",
       "text": [
        "WARNING:root:timeout occured in motors 31 after sending DxlInstructionPacket(id=31, instruction=2, parameters=(43, 1))"
       ]
      },
      {
       "output_type": "stream",
       "stream": "stderr",
       "text": [
        "WARNING:root:timeout occured in motors 31 after sending DxlInstructionPacket(id=31, instruction=2, parameters=(36, 6))"
       ]
      },
      {
       "output_type": "stream",
       "stream": "stderr",
       "text": [
        "WARNING:root:timeout occured in motors 31 after sending DxlInstructionPacket(id=31, instruction=2, parameters=(36, 6))"
       ]
      },
      {
       "output_type": "stream",
       "stream": "stderr",
       "text": [
        "WARNING:root:timeout occured in motors 31 after sending DxlInstructionPacket(id=31, instruction=2, parameters=(36, 6))"
       ]
      },
      {
       "output_type": "stream",
       "stream": "stderr",
       "text": [
        "WARNING:root:timeout occured in motors 31 after sending DxlInstructionPacket(id=31, instruction=2, parameters=(36, 6))"
       ]
      },
      {
       "output_type": "stream",
       "stream": "stderr",
       "text": [
        "WARNING:root:timeout occured in motors 31 after sending DxlInstructionPacket(id=31, instruction=2, parameters=(36, 6))"
       ]
      },
      {
       "output_type": "stream",
       "stream": "stderr",
       "text": [
        "WARNING:root:timeout occured in motors 31 after sending DxlInstructionPacket(id=31, instruction=2, parameters=(36, 6))"
       ]
      },
      {
       "output_type": "stream",
       "stream": "stderr",
       "text": [
        "WARNING:root:timeout occured in motors 31 after sending DxlInstructionPacket(id=31, instruction=2, parameters=(36, 6))"
       ]
      },
      {
       "output_type": "stream",
       "stream": "stderr",
       "text": [
        "WARNING:root:timeout occured in motors 31 after sending DxlInstructionPacket(id=31, instruction=2, parameters=(36, 6))"
       ]
      },
      {
       "output_type": "stream",
       "stream": "stderr",
       "text": [
        "WARNING:root:timeout occured in motors 31 after sending DxlInstructionPacket(id=31, instruction=2, parameters=(36, 6))"
       ]
      },
      {
       "output_type": "stream",
       "stream": "stderr",
       "text": [
        "WARNING:root:timeout occured in motors 31 after sending DxlInstructionPacket(id=31, instruction=2, parameters=(36, 6))"
       ]
      },
      {
       "output_type": "stream",
       "stream": "stderr",
       "text": [
        "WARNING:root:timeout occured in motors 31 after sending DxlInstructionPacket(id=31, instruction=2, parameters=(36, 6))"
       ]
      },
      {
       "output_type": "stream",
       "stream": "stderr",
       "text": [
        "WARNING:root:timeout occured in motors 31 after sending DxlInstructionPacket(id=31, instruction=2, parameters=(36, 6))"
       ]
      },
      {
       "output_type": "stream",
       "stream": "stderr",
       "text": [
        "WARNING:root:timeout occured in motors 31 after sending DxlInstructionPacket(id=31, instruction=2, parameters=(36, 6))"
       ]
      },
      {
       "output_type": "stream",
       "stream": "stderr",
       "text": [
        "WARNING:root:timeout occured in motors 31 after sending DxlInstructionPacket(id=31, instruction=2, parameters=(36, 6))"
       ]
      },
      {
       "output_type": "stream",
       "stream": "stderr",
       "text": [
        "WARNING:root:timeout occured in motors 31 after sending DxlInstructionPacket(id=31, instruction=2, parameters=(36, 6))"
       ]
      },
      {
       "output_type": "stream",
       "stream": "stderr",
       "text": [
        "WARNING:root:timeout occured in motors 31 after sending DxlInstructionPacket(id=31, instruction=2, parameters=(6, 4))"
       ]
      },
      {
       "output_type": "stream",
       "stream": "stderr",
       "text": [
        "WARNING:root:timeout occured in motors 31 after sending DxlInstructionPacket(id=31, instruction=2, parameters=(42, 1))"
       ]
      },
      {
       "output_type": "stream",
       "stream": "stderr",
       "text": [
        "WARNING:root:timeout occured in motors 31 after sending DxlInstructionPacket(id=31, instruction=2, parameters=(36, 6))"
       ]
      },
      {
       "output_type": "stream",
       "stream": "stderr",
       "text": [
        "WARNING:root:timeout occured in motors 31 after sending DxlInstructionPacket(id=31, instruction=2, parameters=(43, 1))"
       ]
      },
      {
       "output_type": "stream",
       "stream": "stderr",
       "text": [
        "WARNING:root:timeout occured in motors 31 after sending DxlInstructionPacket(id=31, instruction=2, parameters=(36, 6))"
       ]
      },
      {
       "output_type": "stream",
       "stream": "stderr",
       "text": [
        "WARNING:root:timeout occured in motors 31 after sending DxlInstructionPacket(id=31, instruction=2, parameters=(36, 6))"
       ]
      },
      {
       "output_type": "stream",
       "stream": "stderr",
       "text": [
        "WARNING:root:timeout occured in motors 31 after sending DxlInstructionPacket(id=31, instruction=2, parameters=(36, 6))"
       ]
      },
      {
       "output_type": "stream",
       "stream": "stderr",
       "text": [
        "WARNING:root:timeout occured in motors 31 after sending DxlInstructionPacket(id=31, instruction=2, parameters=(36, 6))"
       ]
      },
      {
       "output_type": "stream",
       "stream": "stderr",
       "text": [
        "WARNING:root:timeout occured in motors 31 after sending DxlInstructionPacket(id=31, instruction=2, parameters=(36, 6))"
       ]
      },
      {
       "output_type": "stream",
       "stream": "stderr",
       "text": [
        "WARNING:root:timeout occured in motors 31 after sending DxlInstructionPacket(id=31, instruction=2, parameters=(36, 6))"
       ]
      },
      {
       "output_type": "stream",
       "stream": "stderr",
       "text": [
        "WARNING:root:timeout occured in motors 31 after sending DxlInstructionPacket(id=31, instruction=2, parameters=(36, 6))"
       ]
      },
      {
       "output_type": "stream",
       "stream": "stderr",
       "text": [
        "WARNING:root:timeout occured in motors 31 after sending DxlInstructionPacket(id=31, instruction=2, parameters=(36, 6))"
       ]
      },
      {
       "output_type": "stream",
       "stream": "stderr",
       "text": [
        "WARNING:root:timeout occured in motors 31 after sending DxlInstructionPacket(id=31, instruction=2, parameters=(36, 6))"
       ]
      },
      {
       "output_type": "stream",
       "stream": "stderr",
       "text": [
        "WARNING:root:timeout occured in motors 31 after sending DxlInstructionPacket(id=31, instruction=2, parameters=(36, 6))"
       ]
      },
      {
       "output_type": "stream",
       "stream": "stderr",
       "text": [
        "WARNING:root:timeout occured in motors 31 after sending DxlInstructionPacket(id=31, instruction=2, parameters=(36, 6))"
       ]
      },
      {
       "output_type": "stream",
       "stream": "stderr",
       "text": [
        "WARNING:root:timeout occured in motors 31 after sending DxlInstructionPacket(id=31, instruction=2, parameters=(36, 6))"
       ]
      },
      {
       "output_type": "stream",
       "stream": "stderr",
       "text": [
        "WARNING:root:timeout occured in motors 31 after sending DxlInstructionPacket(id=31, instruction=2, parameters=(36, 6))"
       ]
      },
      {
       "output_type": "stream",
       "stream": "stderr",
       "text": [
        "WARNING:root:timeout occured in motors 31 after sending DxlInstructionPacket(id=31, instruction=2, parameters=(36, 6))"
       ]
      },
      {
       "output_type": "stream",
       "stream": "stderr",
       "text": [
        "WARNING:root:timeout occured in motors 31 after sending DxlInstructionPacket(id=31, instruction=2, parameters=(36, 6))"
       ]
      },
      {
       "output_type": "stream",
       "stream": "stderr",
       "text": [
        "WARNING:root:timeout occured in motors 31 after sending DxlInstructionPacket(id=31, instruction=2, parameters=(6, 4))"
       ]
      },
      {
       "output_type": "stream",
       "stream": "stderr",
       "text": [
        "WARNING:root:timeout occured in motors 31 after sending DxlInstructionPacket(id=31, instruction=2, parameters=(42, 1))"
       ]
      },
      {
       "output_type": "stream",
       "stream": "stderr",
       "text": [
        "WARNING:root:timeout occured in motors 31 after sending DxlInstructionPacket(id=31, instruction=2, parameters=(36, 6))"
       ]
      },
      {
       "output_type": "stream",
       "stream": "stderr",
       "text": [
        "WARNING:root:timeout occured in motors 31 after sending DxlInstructionPacket(id=31, instruction=2, parameters=(43, 1))"
       ]
      },
      {
       "output_type": "stream",
       "stream": "stderr",
       "text": [
        "WARNING:root:timeout occured in motors 31 after sending DxlInstructionPacket(id=31, instruction=2, parameters=(36, 6))"
       ]
      },
      {
       "output_type": "stream",
       "stream": "stderr",
       "text": [
        "WARNING:root:timeout occured in motors 31 after sending DxlInstructionPacket(id=31, instruction=2, parameters=(36, 6))"
       ]
      },
      {
       "output_type": "stream",
       "stream": "stderr",
       "text": [
        "WARNING:root:timeout occured in motors 31 after sending DxlInstructionPacket(id=31, instruction=2, parameters=(36, 6))"
       ]
      },
      {
       "output_type": "stream",
       "stream": "stderr",
       "text": [
        "WARNING:root:timeout occured in motors 31 after sending DxlInstructionPacket(id=31, instruction=2, parameters=(36, 6))"
       ]
      },
      {
       "output_type": "stream",
       "stream": "stderr",
       "text": [
        "WARNING:root:timeout occured in motors 31 after sending DxlInstructionPacket(id=31, instruction=2, parameters=(36, 6))"
       ]
      },
      {
       "output_type": "stream",
       "stream": "stderr",
       "text": [
        "WARNING:root:timeout occured in motors 31 after sending DxlInstructionPacket(id=31, instruction=2, parameters=(36, 6))"
       ]
      },
      {
       "output_type": "stream",
       "stream": "stderr",
       "text": [
        "WARNING:root:timeout occured in motors 31 after sending DxlInstructionPacket(id=31, instruction=2, parameters=(36, 6))"
       ]
      },
      {
       "output_type": "stream",
       "stream": "stderr",
       "text": [
        "WARNING:root:timeout occured in motors 31 after sending DxlInstructionPacket(id=31, instruction=2, parameters=(36, 6))"
       ]
      },
      {
       "output_type": "stream",
       "stream": "stderr",
       "text": [
        "WARNING:root:timeout occured in motors 31 after sending DxlInstructionPacket(id=31, instruction=2, parameters=(36, 6))"
       ]
      },
      {
       "output_type": "stream",
       "stream": "stderr",
       "text": [
        "WARNING:root:timeout occured in motors 31 after sending DxlInstructionPacket(id=31, instruction=2, parameters=(36, 6))"
       ]
      },
      {
       "output_type": "stream",
       "stream": "stderr",
       "text": [
        "WARNING:root:timeout occured in motors 31 after sending DxlInstructionPacket(id=31, instruction=2, parameters=(36, 6))"
       ]
      },
      {
       "output_type": "stream",
       "stream": "stderr",
       "text": [
        "WARNING:root:timeout occured in motors 31 after sending DxlInstructionPacket(id=31, instruction=2, parameters=(36, 6))"
       ]
      },
      {
       "output_type": "stream",
       "stream": "stderr",
       "text": [
        "WARNING:root:timeout occured in motors 31 after sending DxlInstructionPacket(id=31, instruction=2, parameters=(36, 6))"
       ]
      },
      {
       "output_type": "stream",
       "stream": "stderr",
       "text": [
        "WARNING:root:timeout occured in motors 31 after sending DxlInstructionPacket(id=31, instruction=2, parameters=(36, 6))"
       ]
      },
      {
       "output_type": "stream",
       "stream": "stderr",
       "text": [
        "WARNING:root:timeout occured in motors 31 after sending DxlInstructionPacket(id=31, instruction=2, parameters=(36, 6))"
       ]
      },
      {
       "output_type": "stream",
       "stream": "stderr",
       "text": [
        "WARNING:root:timeout occured in motors 31 after sending DxlInstructionPacket(id=31, instruction=2, parameters=(6, 4))"
       ]
      },
      {
       "output_type": "stream",
       "stream": "stderr",
       "text": [
        "WARNING:root:timeout occured in motors 31 after sending DxlInstructionPacket(id=31, instruction=2, parameters=(42, 1))"
       ]
      },
      {
       "output_type": "stream",
       "stream": "stderr",
       "text": [
        "WARNING:root:timeout occured in motors 31 after sending DxlInstructionPacket(id=31, instruction=2, parameters=(36, 6))"
       ]
      },
      {
       "output_type": "stream",
       "stream": "stderr",
       "text": [
        "WARNING:root:timeout occured in motors 31 after sending DxlInstructionPacket(id=31, instruction=2, parameters=(43, 1))"
       ]
      },
      {
       "output_type": "stream",
       "stream": "stderr",
       "text": [
        "WARNING:root:timeout occured in motors 31 after sending DxlInstructionPacket(id=31, instruction=2, parameters=(36, 6))"
       ]
      },
      {
       "output_type": "stream",
       "stream": "stderr",
       "text": [
        "WARNING:root:timeout occured in motors 31 after sending DxlInstructionPacket(id=31, instruction=2, parameters=(36, 6))"
       ]
      },
      {
       "output_type": "stream",
       "stream": "stderr",
       "text": [
        "WARNING:root:timeout occured in motors 31 after sending DxlInstructionPacket(id=31, instruction=2, parameters=(36, 6))"
       ]
      },
      {
       "output_type": "stream",
       "stream": "stderr",
       "text": [
        "WARNING:root:timeout occured in motors 31 after sending DxlInstructionPacket(id=31, instruction=2, parameters=(36, 6))"
       ]
      },
      {
       "output_type": "stream",
       "stream": "stderr",
       "text": [
        "WARNING:root:timeout occured in motors 31 after sending DxlInstructionPacket(id=31, instruction=2, parameters=(36, 6))"
       ]
      },
      {
       "output_type": "stream",
       "stream": "stderr",
       "text": [
        "WARNING:root:timeout occured in motors 31 after sending DxlInstructionPacket(id=31, instruction=2, parameters=(36, 6))"
       ]
      },
      {
       "output_type": "stream",
       "stream": "stderr",
       "text": [
        "WARNING:root:timeout occured in motors 31 after sending DxlInstructionPacket(id=31, instruction=2, parameters=(36, 6))"
       ]
      },
      {
       "output_type": "stream",
       "stream": "stderr",
       "text": [
        "WARNING:root:timeout occured in motors 31 after sending DxlInstructionPacket(id=31, instruction=2, parameters=(36, 6))"
       ]
      },
      {
       "output_type": "stream",
       "stream": "stderr",
       "text": [
        "WARNING:root:timeout occured in motors 31 after sending DxlInstructionPacket(id=31, instruction=2, parameters=(36, 6))"
       ]
      },
      {
       "output_type": "stream",
       "stream": "stderr",
       "text": [
        "WARNING:root:timeout occured in motors 31 after sending DxlInstructionPacket(id=31, instruction=2, parameters=(36, 6))"
       ]
      },
      {
       "output_type": "stream",
       "stream": "stderr",
       "text": [
        "WARNING:root:timeout occured in motors 31 after sending DxlInstructionPacket(id=31, instruction=2, parameters=(36, 6))"
       ]
      },
      {
       "output_type": "stream",
       "stream": "stderr",
       "text": [
        "WARNING:root:timeout occured in motors 31 after sending DxlInstructionPacket(id=31, instruction=2, parameters=(36, 6))"
       ]
      },
      {
       "output_type": "stream",
       "stream": "stderr",
       "text": [
        "WARNING:root:timeout occured in motors 31 after sending DxlInstructionPacket(id=31, instruction=2, parameters=(36, 6))"
       ]
      },
      {
       "output_type": "stream",
       "stream": "stderr",
       "text": [
        "WARNING:root:timeout occured in motors 31 after sending DxlInstructionPacket(id=31, instruction=2, parameters=(36, 6))"
       ]
      },
      {
       "output_type": "stream",
       "stream": "stderr",
       "text": [
        "WARNING:root:timeout occured in motors 31 after sending DxlInstructionPacket(id=31, instruction=2, parameters=(36, 6))"
       ]
      },
      {
       "output_type": "stream",
       "stream": "stderr",
       "text": [
        "WARNING:root:timeout occured in motors 31 after sending DxlInstructionPacket(id=31, instruction=2, parameters=(6, 4))"
       ]
      },
      {
       "output_type": "stream",
       "stream": "stderr",
       "text": [
        "WARNING:root:timeout occured in motors 31 after sending DxlInstructionPacket(id=31, instruction=2, parameters=(42, 1))"
       ]
      },
      {
       "output_type": "stream",
       "stream": "stderr",
       "text": [
        "WARNING:root:timeout occured in motors 31 after sending DxlInstructionPacket(id=31, instruction=2, parameters=(36, 6))"
       ]
      },
      {
       "output_type": "stream",
       "stream": "stderr",
       "text": [
        "WARNING:root:timeout occured in motors 31 after sending DxlInstructionPacket(id=31, instruction=2, parameters=(43, 1))"
       ]
      },
      {
       "output_type": "stream",
       "stream": "stderr",
       "text": [
        "WARNING:root:timeout occured in motors 31 after sending DxlInstructionPacket(id=31, instruction=2, parameters=(36, 6))"
       ]
      },
      {
       "output_type": "stream",
       "stream": "stderr",
       "text": [
        "WARNING:root:timeout occured in motors 31 after sending DxlInstructionPacket(id=31, instruction=2, parameters=(36, 6))"
       ]
      },
      {
       "output_type": "stream",
       "stream": "stderr",
       "text": [
        "WARNING:root:timeout occured in motors 31 after sending DxlInstructionPacket(id=31, instruction=2, parameters=(36, 6))"
       ]
      },
      {
       "output_type": "stream",
       "stream": "stderr",
       "text": [
        "WARNING:root:timeout occured in motors 31 after sending DxlInstructionPacket(id=31, instruction=2, parameters=(36, 6))"
       ]
      },
      {
       "output_type": "stream",
       "stream": "stderr",
       "text": [
        "WARNING:root:timeout occured in motors 31 after sending DxlInstructionPacket(id=31, instruction=2, parameters=(36, 6))"
       ]
      },
      {
       "output_type": "stream",
       "stream": "stderr",
       "text": [
        "WARNING:root:timeout occured in motors 31 after sending DxlInstructionPacket(id=31, instruction=2, parameters=(36, 6))"
       ]
      },
      {
       "output_type": "stream",
       "stream": "stderr",
       "text": [
        "WARNING:root:timeout occured in motors 31 after sending DxlInstructionPacket(id=31, instruction=2, parameters=(36, 6))"
       ]
      },
      {
       "output_type": "stream",
       "stream": "stderr",
       "text": [
        "WARNING:root:timeout occured in motors 31 after sending DxlInstructionPacket(id=31, instruction=2, parameters=(36, 6))"
       ]
      },
      {
       "output_type": "stream",
       "stream": "stderr",
       "text": [
        "WARNING:root:timeout occured in motors 31 after sending DxlInstructionPacket(id=31, instruction=2, parameters=(36, 6))"
       ]
      },
      {
       "output_type": "stream",
       "stream": "stderr",
       "text": [
        "WARNING:root:timeout occured in motors 31 after sending DxlInstructionPacket(id=31, instruction=2, parameters=(36, 6))"
       ]
      },
      {
       "output_type": "stream",
       "stream": "stderr",
       "text": [
        "WARNING:root:timeout occured in motors 31 after sending DxlInstructionPacket(id=31, instruction=2, parameters=(36, 6))"
       ]
      },
      {
       "output_type": "stream",
       "stream": "stderr",
       "text": [
        "WARNING:root:timeout occured in motors 31 after sending DxlInstructionPacket(id=31, instruction=2, parameters=(36, 6))"
       ]
      },
      {
       "output_type": "stream",
       "stream": "stderr",
       "text": [
        "WARNING:root:timeout occured in motors 31 after sending DxlInstructionPacket(id=31, instruction=2, parameters=(36, 6))"
       ]
      },
      {
       "output_type": "stream",
       "stream": "stderr",
       "text": [
        "WARNING:root:timeout occured in motors 31 after sending DxlInstructionPacket(id=31, instruction=2, parameters=(36, 6))"
       ]
      },
      {
       "output_type": "stream",
       "stream": "stderr",
       "text": [
        "WARNING:root:timeout occured in motors 31 after sending DxlInstructionPacket(id=31, instruction=2, parameters=(36, 6))"
       ]
      },
      {
       "output_type": "stream",
       "stream": "stderr",
       "text": [
        "WARNING:root:timeout occured in motors 31 after sending DxlInstructionPacket(id=31, instruction=2, parameters=(6, 4))"
       ]
      },
      {
       "output_type": "stream",
       "stream": "stderr",
       "text": [
        "WARNING:root:timeout occured in motors 31 after sending DxlInstructionPacket(id=31, instruction=2, parameters=(42, 1))"
       ]
      },
      {
       "output_type": "stream",
       "stream": "stderr",
       "text": [
        "WARNING:root:timeout occured in motors 31 after sending DxlInstructionPacket(id=31, instruction=2, parameters=(36, 6))"
       ]
      },
      {
       "output_type": "stream",
       "stream": "stderr",
       "text": [
        "WARNING:root:timeout occured in motors 31 after sending DxlInstructionPacket(id=31, instruction=2, parameters=(43, 1))"
       ]
      },
      {
       "output_type": "stream",
       "stream": "stderr",
       "text": [
        "WARNING:root:timeout occured in motors 31 after sending DxlInstructionPacket(id=31, instruction=2, parameters=(36, 6))"
       ]
      },
      {
       "output_type": "stream",
       "stream": "stderr",
       "text": [
        "WARNING:root:timeout occured in motors 31 after sending DxlInstructionPacket(id=31, instruction=2, parameters=(36, 6))"
       ]
      },
      {
       "output_type": "stream",
       "stream": "stderr",
       "text": [
        "WARNING:root:timeout occured in motors 31 after sending DxlInstructionPacket(id=31, instruction=2, parameters=(36, 6))"
       ]
      },
      {
       "output_type": "stream",
       "stream": "stderr",
       "text": [
        "WARNING:root:timeout occured in motors 31 after sending DxlInstructionPacket(id=31, instruction=2, parameters=(36, 6))"
       ]
      },
      {
       "output_type": "stream",
       "stream": "stderr",
       "text": [
        "WARNING:root:timeout occured in motors 31 after sending DxlInstructionPacket(id=31, instruction=2, parameters=(36, 6))"
       ]
      },
      {
       "output_type": "stream",
       "stream": "stderr",
       "text": [
        "WARNING:root:timeout occured in motors 31 after sending DxlInstructionPacket(id=31, instruction=2, parameters=(36, 6))"
       ]
      },
      {
       "output_type": "stream",
       "stream": "stderr",
       "text": [
        "WARNING:root:timeout occured in motors 31 after sending DxlInstructionPacket(id=31, instruction=2, parameters=(36, 6))"
       ]
      },
      {
       "output_type": "stream",
       "stream": "stderr",
       "text": [
        "WARNING:root:timeout occured in motors 31 after sending DxlInstructionPacket(id=31, instruction=2, parameters=(36, 6))"
       ]
      },
      {
       "output_type": "stream",
       "stream": "stderr",
       "text": [
        "WARNING:root:timeout occured in motors 31 after sending DxlInstructionPacket(id=31, instruction=2, parameters=(36, 6))"
       ]
      },
      {
       "output_type": "stream",
       "stream": "stderr",
       "text": [
        "WARNING:root:timeout occured in motors 31 after sending DxlInstructionPacket(id=31, instruction=2, parameters=(36, 6))"
       ]
      },
      {
       "output_type": "stream",
       "stream": "stderr",
       "text": [
        "WARNING:root:timeout occured in motors 31 after sending DxlInstructionPacket(id=31, instruction=2, parameters=(36, 6))"
       ]
      },
      {
       "output_type": "stream",
       "stream": "stderr",
       "text": [
        "WARNING:root:timeout occured in motors 31 after sending DxlInstructionPacket(id=31, instruction=2, parameters=(36, 6))"
       ]
      },
      {
       "output_type": "stream",
       "stream": "stderr",
       "text": [
        "WARNING:root:timeout occured in motors 31 after sending DxlInstructionPacket(id=31, instruction=2, parameters=(36, 6))"
       ]
      },
      {
       "output_type": "stream",
       "stream": "stderr",
       "text": [
        "WARNING:root:timeout occured in motors 31 after sending DxlInstructionPacket(id=31, instruction=2, parameters=(36, 6))"
       ]
      },
      {
       "output_type": "stream",
       "stream": "stderr",
       "text": [
        "WARNING:root:timeout occured in motors 31 after sending DxlInstructionPacket(id=31, instruction=2, parameters=(36, 6))"
       ]
      },
      {
       "output_type": "stream",
       "stream": "stderr",
       "text": [
        "WARNING:root:timeout occured in motors 31 after sending DxlInstructionPacket(id=31, instruction=2, parameters=(6, 4))"
       ]
      },
      {
       "output_type": "stream",
       "stream": "stderr",
       "text": [
        "WARNING:root:timeout occured in motors 31 after sending DxlInstructionPacket(id=31, instruction=2, parameters=(42, 1))"
       ]
      },
      {
       "output_type": "stream",
       "stream": "stderr",
       "text": [
        "WARNING:root:timeout occured in motors 31 after sending DxlInstructionPacket(id=31, instruction=2, parameters=(36, 6))"
       ]
      },
      {
       "output_type": "stream",
       "stream": "stderr",
       "text": [
        "WARNING:root:timeout occured in motors 31 after sending DxlInstructionPacket(id=31, instruction=2, parameters=(43, 1))"
       ]
      },
      {
       "output_type": "stream",
       "stream": "stderr",
       "text": [
        "WARNING:root:timeout occured in motors 31 after sending DxlInstructionPacket(id=31, instruction=2, parameters=(36, 6))"
       ]
      },
      {
       "output_type": "stream",
       "stream": "stderr",
       "text": [
        "WARNING:root:timeout occured in motors 31 after sending DxlInstructionPacket(id=31, instruction=2, parameters=(36, 6))"
       ]
      },
      {
       "output_type": "stream",
       "stream": "stderr",
       "text": [
        "WARNING:root:timeout occured in motors 31 after sending DxlInstructionPacket(id=31, instruction=2, parameters=(36, 6))"
       ]
      },
      {
       "output_type": "stream",
       "stream": "stderr",
       "text": [
        "WARNING:root:timeout occured in motors 31 after sending DxlInstructionPacket(id=31, instruction=2, parameters=(36, 6))"
       ]
      },
      {
       "output_type": "stream",
       "stream": "stderr",
       "text": [
        "WARNING:root:timeout occured in motors 31 after sending DxlInstructionPacket(id=31, instruction=2, parameters=(36, 6))"
       ]
      },
      {
       "output_type": "stream",
       "stream": "stderr",
       "text": [
        "WARNING:root:timeout occured in motors 31 after sending DxlInstructionPacket(id=31, instruction=2, parameters=(36, 6))"
       ]
      },
      {
       "output_type": "stream",
       "stream": "stderr",
       "text": [
        "WARNING:root:timeout occured in motors 31 after sending DxlInstructionPacket(id=31, instruction=2, parameters=(36, 6))"
       ]
      },
      {
       "output_type": "stream",
       "stream": "stderr",
       "text": [
        "WARNING:root:timeout occured in motors 31 after sending DxlInstructionPacket(id=31, instruction=2, parameters=(36, 6))"
       ]
      },
      {
       "output_type": "stream",
       "stream": "stderr",
       "text": [
        "WARNING:root:timeout occured in motors 31 after sending DxlInstructionPacket(id=31, instruction=2, parameters=(36, 6))"
       ]
      },
      {
       "output_type": "stream",
       "stream": "stderr",
       "text": [
        "WARNING:root:timeout occured in motors 31 after sending DxlInstructionPacket(id=31, instruction=2, parameters=(36, 6))"
       ]
      },
      {
       "output_type": "stream",
       "stream": "stderr",
       "text": [
        "WARNING:root:timeout occured in motors 31 after sending DxlInstructionPacket(id=31, instruction=2, parameters=(36, 6))"
       ]
      },
      {
       "output_type": "stream",
       "stream": "stderr",
       "text": [
        "WARNING:root:timeout occured in motors 31 after sending DxlInstructionPacket(id=31, instruction=2, parameters=(36, 6))"
       ]
      },
      {
       "output_type": "stream",
       "stream": "stderr",
       "text": [
        "WARNING:root:timeout occured in motors 31 after sending DxlInstructionPacket(id=31, instruction=2, parameters=(36, 6))"
       ]
      },
      {
       "output_type": "stream",
       "stream": "stderr",
       "text": [
        "WARNING:root:timeout occured in motors 31 after sending DxlInstructionPacket(id=31, instruction=2, parameters=(36, 6))"
       ]
      },
      {
       "output_type": "stream",
       "stream": "stderr",
       "text": [
        "WARNING:root:timeout occured in motors 31 after sending DxlInstructionPacket(id=31, instruction=2, parameters=(36, 6))"
       ]
      },
      {
       "output_type": "stream",
       "stream": "stderr",
       "text": [
        "WARNING:root:timeout occured in motors 31 after sending DxlInstructionPacket(id=31, instruction=2, parameters=(6, 4))"
       ]
      },
      {
       "output_type": "stream",
       "stream": "stderr",
       "text": [
        "WARNING:root:timeout occured in motors 31 after sending DxlInstructionPacket(id=31, instruction=2, parameters=(42, 1))"
       ]
      },
      {
       "output_type": "stream",
       "stream": "stderr",
       "text": [
        "WARNING:root:timeout occured in motors 31 after sending DxlInstructionPacket(id=31, instruction=2, parameters=(36, 6))"
       ]
      },
      {
       "output_type": "stream",
       "stream": "stderr",
       "text": [
        "WARNING:root:timeout occured in motors 31 after sending DxlInstructionPacket(id=31, instruction=2, parameters=(43, 1))"
       ]
      },
      {
       "output_type": "stream",
       "stream": "stderr",
       "text": [
        "WARNING:root:timeout occured in motors 31 after sending DxlInstructionPacket(id=31, instruction=2, parameters=(36, 6))"
       ]
      },
      {
       "output_type": "stream",
       "stream": "stderr",
       "text": [
        "WARNING:root:timeout occured in motors 31 after sending DxlInstructionPacket(id=31, instruction=2, parameters=(36, 6))"
       ]
      },
      {
       "output_type": "stream",
       "stream": "stderr",
       "text": [
        "WARNING:root:timeout occured in motors 31 after sending DxlInstructionPacket(id=31, instruction=2, parameters=(36, 6))"
       ]
      },
      {
       "output_type": "stream",
       "stream": "stderr",
       "text": [
        "WARNING:root:timeout occured in motors 31 after sending DxlInstructionPacket(id=31, instruction=2, parameters=(36, 6))"
       ]
      },
      {
       "output_type": "stream",
       "stream": "stderr",
       "text": [
        "WARNING:root:timeout occured in motors 31 after sending DxlInstructionPacket(id=31, instruction=2, parameters=(36, 6))"
       ]
      },
      {
       "output_type": "stream",
       "stream": "stderr",
       "text": [
        "WARNING:root:timeout occured in motors 31 after sending DxlInstructionPacket(id=31, instruction=2, parameters=(36, 6))"
       ]
      },
      {
       "output_type": "stream",
       "stream": "stderr",
       "text": [
        "WARNING:root:timeout occured in motors 31 after sending DxlInstructionPacket(id=31, instruction=2, parameters=(36, 6))"
       ]
      },
      {
       "output_type": "stream",
       "stream": "stderr",
       "text": [
        "WARNING:root:timeout occured in motors 31 after sending DxlInstructionPacket(id=31, instruction=2, parameters=(36, 6))"
       ]
      },
      {
       "output_type": "stream",
       "stream": "stderr",
       "text": [
        "WARNING:root:timeout occured in motors 31 after sending DxlInstructionPacket(id=31, instruction=2, parameters=(36, 6))"
       ]
      },
      {
       "output_type": "stream",
       "stream": "stderr",
       "text": [
        "WARNING:root:timeout occured in motors 31 after sending DxlInstructionPacket(id=31, instruction=2, parameters=(36, 6))"
       ]
      },
      {
       "output_type": "stream",
       "stream": "stderr",
       "text": [
        "WARNING:root:timeout occured in motors 31 after sending DxlInstructionPacket(id=31, instruction=2, parameters=(36, 6))"
       ]
      },
      {
       "output_type": "stream",
       "stream": "stderr",
       "text": [
        "WARNING:root:timeout occured in motors 31 after sending DxlInstructionPacket(id=31, instruction=2, parameters=(36, 6))"
       ]
      },
      {
       "output_type": "stream",
       "stream": "stderr",
       "text": [
        "WARNING:root:timeout occured in motors 31 after sending DxlInstructionPacket(id=31, instruction=2, parameters=(36, 6))"
       ]
      },
      {
       "output_type": "stream",
       "stream": "stderr",
       "text": [
        "WARNING:root:timeout occured in motors 31 after sending DxlInstructionPacket(id=31, instruction=2, parameters=(36, 6))"
       ]
      },
      {
       "output_type": "stream",
       "stream": "stderr",
       "text": [
        "WARNING:root:timeout occured in motors 31 after sending DxlInstructionPacket(id=31, instruction=2, parameters=(36, 6))"
       ]
      },
      {
       "output_type": "stream",
       "stream": "stderr",
       "text": [
        "WARNING:root:timeout occured in motors 31 after sending DxlInstructionPacket(id=31, instruction=2, parameters=(6, 4))"
       ]
      },
      {
       "output_type": "stream",
       "stream": "stderr",
       "text": [
        "WARNING:root:timeout occured in motors 31 after sending DxlInstructionPacket(id=31, instruction=2, parameters=(42, 1))"
       ]
      },
      {
       "output_type": "stream",
       "stream": "stderr",
       "text": [
        "WARNING:root:timeout occured in motors 31 after sending DxlInstructionPacket(id=31, instruction=2, parameters=(36, 6))"
       ]
      },
      {
       "output_type": "stream",
       "stream": "stderr",
       "text": [
        "WARNING:root:timeout occured in motors 31 after sending DxlInstructionPacket(id=31, instruction=2, parameters=(43, 1))"
       ]
      },
      {
       "output_type": "stream",
       "stream": "stderr",
       "text": [
        "WARNING:root:timeout occured in motors 31 after sending DxlInstructionPacket(id=31, instruction=2, parameters=(36, 6))"
       ]
      },
      {
       "output_type": "stream",
       "stream": "stderr",
       "text": [
        "WARNING:root:timeout occured in motors 31 after sending DxlInstructionPacket(id=31, instruction=2, parameters=(36, 6))"
       ]
      },
      {
       "output_type": "stream",
       "stream": "stderr",
       "text": [
        "WARNING:root:timeout occured in motors 31 after sending DxlInstructionPacket(id=31, instruction=2, parameters=(36, 6))"
       ]
      },
      {
       "output_type": "stream",
       "stream": "stderr",
       "text": [
        "WARNING:root:timeout occured in motors 31 after sending DxlInstructionPacket(id=31, instruction=2, parameters=(36, 6))"
       ]
      },
      {
       "output_type": "stream",
       "stream": "stderr",
       "text": [
        "WARNING:root:timeout occured in motors 31 after sending DxlInstructionPacket(id=31, instruction=2, parameters=(36, 6))"
       ]
      },
      {
       "output_type": "stream",
       "stream": "stderr",
       "text": [
        "WARNING:root:timeout occured in motors 31 after sending DxlInstructionPacket(id=31, instruction=2, parameters=(36, 6))"
       ]
      },
      {
       "output_type": "stream",
       "stream": "stderr",
       "text": [
        "WARNING:root:timeout occured in motors 31 after sending DxlInstructionPacket(id=31, instruction=2, parameters=(36, 6))"
       ]
      },
      {
       "output_type": "stream",
       "stream": "stderr",
       "text": [
        "WARNING:root:timeout occured in motors 31 after sending DxlInstructionPacket(id=31, instruction=2, parameters=(36, 6))"
       ]
      },
      {
       "output_type": "stream",
       "stream": "stderr",
       "text": [
        "WARNING:root:timeout occured in motors 31 after sending DxlInstructionPacket(id=31, instruction=2, parameters=(36, 6))"
       ]
      },
      {
       "output_type": "stream",
       "stream": "stderr",
       "text": [
        "WARNING:root:timeout occured in motors 31 after sending DxlInstructionPacket(id=31, instruction=2, parameters=(36, 6))"
       ]
      },
      {
       "output_type": "stream",
       "stream": "stderr",
       "text": [
        "WARNING:root:timeout occured in motors 31 after sending DxlInstructionPacket(id=31, instruction=2, parameters=(36, 6))"
       ]
      },
      {
       "output_type": "stream",
       "stream": "stderr",
       "text": [
        "WARNING:root:timeout occured in motors 31 after sending DxlInstructionPacket(id=31, instruction=2, parameters=(36, 6))"
       ]
      },
      {
       "output_type": "stream",
       "stream": "stderr",
       "text": [
        "WARNING:root:timeout occured in motors 31 after sending DxlInstructionPacket(id=31, instruction=2, parameters=(36, 6))"
       ]
      },
      {
       "output_type": "stream",
       "stream": "stderr",
       "text": [
        "WARNING:root:timeout occured in motors 31 after sending DxlInstructionPacket(id=31, instruction=2, parameters=(36, 6))"
       ]
      },
      {
       "output_type": "stream",
       "stream": "stderr",
       "text": [
        "WARNING:root:timeout occured in motors 31 after sending DxlInstructionPacket(id=31, instruction=2, parameters=(36, 6))"
       ]
      },
      {
       "output_type": "stream",
       "stream": "stderr",
       "text": [
        "WARNING:root:timeout occured in motors 31 after sending DxlInstructionPacket(id=31, instruction=2, parameters=(6, 4))"
       ]
      },
      {
       "output_type": "stream",
       "stream": "stderr",
       "text": [
        "WARNING:root:timeout occured in motors 31 after sending DxlInstructionPacket(id=31, instruction=2, parameters=(42, 1))"
       ]
      },
      {
       "output_type": "stream",
       "stream": "stderr",
       "text": [
        "WARNING:root:timeout occured in motors 31 after sending DxlInstructionPacket(id=31, instruction=2, parameters=(36, 6))"
       ]
      },
      {
       "output_type": "stream",
       "stream": "stderr",
       "text": [
        "WARNING:root:timeout occured in motors 31 after sending DxlInstructionPacket(id=31, instruction=2, parameters=(43, 1))"
       ]
      },
      {
       "output_type": "stream",
       "stream": "stderr",
       "text": [
        "WARNING:root:timeout occured in motors 31 after sending DxlInstructionPacket(id=31, instruction=2, parameters=(36, 6))"
       ]
      },
      {
       "output_type": "stream",
       "stream": "stderr",
       "text": [
        "WARNING:root:timeout occured in motors 31 after sending DxlInstructionPacket(id=31, instruction=2, parameters=(36, 6))"
       ]
      },
      {
       "output_type": "stream",
       "stream": "stderr",
       "text": [
        "WARNING:root:timeout occured in motors 31 after sending DxlInstructionPacket(id=31, instruction=2, parameters=(36, 6))"
       ]
      },
      {
       "output_type": "stream",
       "stream": "stderr",
       "text": [
        "WARNING:root:timeout occured in motors 31 after sending DxlInstructionPacket(id=31, instruction=2, parameters=(36, 6))"
       ]
      },
      {
       "output_type": "stream",
       "stream": "stderr",
       "text": [
        "WARNING:root:timeout occured in motors 31 after sending DxlInstructionPacket(id=31, instruction=2, parameters=(36, 6))"
       ]
      },
      {
       "output_type": "stream",
       "stream": "stderr",
       "text": [
        "WARNING:root:timeout occured in motors 31 after sending DxlInstructionPacket(id=31, instruction=2, parameters=(36, 6))"
       ]
      },
      {
       "output_type": "stream",
       "stream": "stderr",
       "text": [
        "WARNING:root:timeout occured in motors 31 after sending DxlInstructionPacket(id=31, instruction=2, parameters=(36, 6))"
       ]
      },
      {
       "output_type": "stream",
       "stream": "stderr",
       "text": [
        "WARNING:root:timeout occured in motors 31 after sending DxlInstructionPacket(id=31, instruction=2, parameters=(36, 6))"
       ]
      },
      {
       "output_type": "stream",
       "stream": "stderr",
       "text": [
        "WARNING:root:timeout occured in motors 31 after sending DxlInstructionPacket(id=31, instruction=2, parameters=(36, 6))"
       ]
      },
      {
       "output_type": "stream",
       "stream": "stderr",
       "text": [
        "WARNING:root:timeout occured in motors 31 after sending DxlInstructionPacket(id=31, instruction=2, parameters=(36, 6))"
       ]
      },
      {
       "output_type": "stream",
       "stream": "stderr",
       "text": [
        "WARNING:root:timeout occured in motors 31 after sending DxlInstructionPacket(id=31, instruction=2, parameters=(36, 6))"
       ]
      },
      {
       "output_type": "stream",
       "stream": "stderr",
       "text": [
        "WARNING:root:timeout occured in motors 31 after sending DxlInstructionPacket(id=31, instruction=2, parameters=(36, 6))"
       ]
      },
      {
       "output_type": "stream",
       "stream": "stderr",
       "text": [
        "WARNING:root:timeout occured in motors 31 after sending DxlInstructionPacket(id=31, instruction=2, parameters=(36, 6))"
       ]
      },
      {
       "output_type": "stream",
       "stream": "stderr",
       "text": [
        "WARNING:root:timeout occured in motors 31 after sending DxlInstructionPacket(id=31, instruction=2, parameters=(36, 6))"
       ]
      },
      {
       "output_type": "stream",
       "stream": "stderr",
       "text": [
        "WARNING:root:timeout occured in motors 31 after sending DxlInstructionPacket(id=31, instruction=2, parameters=(36, 6))"
       ]
      },
      {
       "output_type": "stream",
       "stream": "stderr",
       "text": [
        "WARNING:root:timeout occured in motors 31 after sending DxlInstructionPacket(id=31, instruction=2, parameters=(6, 4))"
       ]
      },
      {
       "output_type": "stream",
       "stream": "stderr",
       "text": [
        "WARNING:root:timeout occured in motors 31 after sending DxlInstructionPacket(id=31, instruction=2, parameters=(42, 1))"
       ]
      },
      {
       "output_type": "stream",
       "stream": "stderr",
       "text": [
        "WARNING:root:timeout occured in motors 31 after sending DxlInstructionPacket(id=31, instruction=2, parameters=(36, 6))"
       ]
      },
      {
       "output_type": "stream",
       "stream": "stderr",
       "text": [
        "WARNING:root:timeout occured in motors 31 after sending DxlInstructionPacket(id=31, instruction=2, parameters=(43, 1))"
       ]
      },
      {
       "output_type": "stream",
       "stream": "stderr",
       "text": [
        "WARNING:root:timeout occured in motors 31 after sending DxlInstructionPacket(id=31, instruction=2, parameters=(36, 6))"
       ]
      },
      {
       "output_type": "stream",
       "stream": "stderr",
       "text": [
        "WARNING:root:timeout occured in motors 31 after sending DxlInstructionPacket(id=31, instruction=2, parameters=(36, 6))"
       ]
      },
      {
       "output_type": "stream",
       "stream": "stderr",
       "text": [
        "WARNING:root:timeout occured in motors 31 after sending DxlInstructionPacket(id=31, instruction=2, parameters=(36, 6))"
       ]
      },
      {
       "output_type": "stream",
       "stream": "stderr",
       "text": [
        "WARNING:root:timeout occured in motors 31 after sending DxlInstructionPacket(id=31, instruction=2, parameters=(36, 6))"
       ]
      },
      {
       "output_type": "stream",
       "stream": "stderr",
       "text": [
        "WARNING:root:timeout occured in motors 31 after sending DxlInstructionPacket(id=31, instruction=2, parameters=(36, 6))"
       ]
      },
      {
       "output_type": "stream",
       "stream": "stderr",
       "text": [
        "WARNING:root:timeout occured in motors 31 after sending DxlInstructionPacket(id=31, instruction=2, parameters=(36, 6))"
       ]
      },
      {
       "output_type": "stream",
       "stream": "stderr",
       "text": [
        "WARNING:root:timeout occured in motors 31 after sending DxlInstructionPacket(id=31, instruction=2, parameters=(36, 6))"
       ]
      },
      {
       "output_type": "stream",
       "stream": "stderr",
       "text": [
        "WARNING:root:timeout occured in motors 31 after sending DxlInstructionPacket(id=31, instruction=2, parameters=(36, 6))"
       ]
      },
      {
       "output_type": "stream",
       "stream": "stderr",
       "text": [
        "WARNING:root:timeout occured in motors 31 after sending DxlInstructionPacket(id=31, instruction=2, parameters=(36, 6))"
       ]
      },
      {
       "output_type": "stream",
       "stream": "stderr",
       "text": [
        "WARNING:root:timeout occured in motors 31 after sending DxlInstructionPacket(id=31, instruction=2, parameters=(36, 6))"
       ]
      },
      {
       "output_type": "stream",
       "stream": "stderr",
       "text": [
        "WARNING:root:timeout occured in motors 31 after sending DxlInstructionPacket(id=31, instruction=2, parameters=(36, 6))"
       ]
      },
      {
       "output_type": "stream",
       "stream": "stderr",
       "text": [
        "WARNING:root:timeout occured in motors 31 after sending DxlInstructionPacket(id=31, instruction=2, parameters=(36, 6))"
       ]
      },
      {
       "output_type": "stream",
       "stream": "stderr",
       "text": [
        "WARNING:root:timeout occured in motors 31 after sending DxlInstructionPacket(id=31, instruction=2, parameters=(36, 6))"
       ]
      },
      {
       "output_type": "stream",
       "stream": "stderr",
       "text": [
        "WARNING:root:timeout occured in motors 31 after sending DxlInstructionPacket(id=31, instruction=2, parameters=(36, 6))"
       ]
      },
      {
       "output_type": "stream",
       "stream": "stderr",
       "text": [
        "WARNING:root:timeout occured in motors 31 after sending DxlInstructionPacket(id=31, instruction=2, parameters=(36, 6))"
       ]
      },
      {
       "output_type": "stream",
       "stream": "stderr",
       "text": [
        "WARNING:root:timeout occured in motors 31 after sending DxlInstructionPacket(id=31, instruction=2, parameters=(6, 4))"
       ]
      },
      {
       "output_type": "stream",
       "stream": "stderr",
       "text": [
        "WARNING:root:timeout occured in motors 31 after sending DxlInstructionPacket(id=31, instruction=2, parameters=(42, 1))"
       ]
      },
      {
       "output_type": "stream",
       "stream": "stderr",
       "text": [
        "WARNING:root:timeout occured in motors 31 after sending DxlInstructionPacket(id=31, instruction=2, parameters=(36, 6))"
       ]
      },
      {
       "output_type": "stream",
       "stream": "stderr",
       "text": [
        "WARNING:root:timeout occured in motors 31 after sending DxlInstructionPacket(id=31, instruction=2, parameters=(43, 1))"
       ]
      },
      {
       "output_type": "stream",
       "stream": "stderr",
       "text": [
        "WARNING:root:timeout occured in motors 31 after sending DxlInstructionPacket(id=31, instruction=2, parameters=(36, 6))"
       ]
      },
      {
       "output_type": "stream",
       "stream": "stderr",
       "text": [
        "WARNING:root:timeout occured in motors 31 after sending DxlInstructionPacket(id=31, instruction=2, parameters=(36, 6))"
       ]
      },
      {
       "output_type": "stream",
       "stream": "stderr",
       "text": [
        "WARNING:root:timeout occured in motors 31 after sending DxlInstructionPacket(id=31, instruction=2, parameters=(36, 6))"
       ]
      },
      {
       "output_type": "stream",
       "stream": "stderr",
       "text": [
        "WARNING:root:timeout occured in motors 31 after sending DxlInstructionPacket(id=31, instruction=2, parameters=(36, 6))"
       ]
      },
      {
       "output_type": "stream",
       "stream": "stderr",
       "text": [
        "WARNING:root:timeout occured in motors 31 after sending DxlInstructionPacket(id=31, instruction=2, parameters=(36, 6))"
       ]
      },
      {
       "output_type": "stream",
       "stream": "stderr",
       "text": [
        "WARNING:root:timeout occured in motors 31 after sending DxlInstructionPacket(id=31, instruction=2, parameters=(36, 6))"
       ]
      },
      {
       "output_type": "stream",
       "stream": "stderr",
       "text": [
        "WARNING:root:timeout occured in motors 31 after sending DxlInstructionPacket(id=31, instruction=2, parameters=(36, 6))"
       ]
      },
      {
       "output_type": "stream",
       "stream": "stderr",
       "text": [
        "WARNING:root:timeout occured in motors 31 after sending DxlInstructionPacket(id=31, instruction=2, parameters=(36, 6))"
       ]
      },
      {
       "output_type": "stream",
       "stream": "stderr",
       "text": [
        "WARNING:root:timeout occured in motors 31 after sending DxlInstructionPacket(id=31, instruction=2, parameters=(36, 6))"
       ]
      },
      {
       "output_type": "stream",
       "stream": "stderr",
       "text": [
        "WARNING:root:timeout occured in motors 31 after sending DxlInstructionPacket(id=31, instruction=2, parameters=(36, 6))"
       ]
      },
      {
       "output_type": "stream",
       "stream": "stderr",
       "text": [
        "WARNING:root:timeout occured in motors 31 after sending DxlInstructionPacket(id=31, instruction=2, parameters=(36, 6))"
       ]
      },
      {
       "output_type": "stream",
       "stream": "stderr",
       "text": [
        "WARNING:root:timeout occured in motors 31 after sending DxlInstructionPacket(id=31, instruction=2, parameters=(36, 6))"
       ]
      },
      {
       "output_type": "stream",
       "stream": "stderr",
       "text": [
        "WARNING:root:timeout occured in motors 31 after sending DxlInstructionPacket(id=31, instruction=2, parameters=(36, 6))"
       ]
      },
      {
       "output_type": "stream",
       "stream": "stderr",
       "text": [
        "WARNING:root:timeout occured in motors 31 after sending DxlInstructionPacket(id=31, instruction=2, parameters=(36, 6))"
       ]
      },
      {
       "output_type": "stream",
       "stream": "stderr",
       "text": [
        "WARNING:root:timeout occured in motors 31 after sending DxlInstructionPacket(id=31, instruction=2, parameters=(36, 6))"
       ]
      },
      {
       "output_type": "stream",
       "stream": "stderr",
       "text": [
        "WARNING:root:timeout occured in motors 31 after sending DxlInstructionPacket(id=31, instruction=2, parameters=(6, 4))"
       ]
      },
      {
       "output_type": "stream",
       "stream": "stderr",
       "text": [
        "WARNING:root:timeout occured in motors 31 after sending DxlInstructionPacket(id=31, instruction=2, parameters=(42, 1))"
       ]
      },
      {
       "output_type": "stream",
       "stream": "stderr",
       "text": [
        "WARNING:root:timeout occured in motors 31 after sending DxlInstructionPacket(id=31, instruction=2, parameters=(36, 6))"
       ]
      },
      {
       "output_type": "stream",
       "stream": "stderr",
       "text": [
        "WARNING:root:timeout occured in motors 31 after sending DxlInstructionPacket(id=31, instruction=2, parameters=(43, 1))"
       ]
      },
      {
       "output_type": "stream",
       "stream": "stderr",
       "text": [
        "WARNING:root:timeout occured in motors 31 after sending DxlInstructionPacket(id=31, instruction=2, parameters=(36, 6))"
       ]
      },
      {
       "output_type": "stream",
       "stream": "stderr",
       "text": [
        "WARNING:root:timeout occured in motors 31 after sending DxlInstructionPacket(id=31, instruction=2, parameters=(36, 6))"
       ]
      },
      {
       "output_type": "stream",
       "stream": "stderr",
       "text": [
        "WARNING:root:timeout occured in motors 31 after sending DxlInstructionPacket(id=31, instruction=2, parameters=(36, 6))"
       ]
      },
      {
       "output_type": "stream",
       "stream": "stderr",
       "text": [
        "WARNING:root:timeout occured in motors 31 after sending DxlInstructionPacket(id=31, instruction=2, parameters=(36, 6))"
       ]
      },
      {
       "output_type": "stream",
       "stream": "stderr",
       "text": [
        "WARNING:root:timeout occured in motors 31 after sending DxlInstructionPacket(id=31, instruction=2, parameters=(36, 6))"
       ]
      },
      {
       "output_type": "stream",
       "stream": "stderr",
       "text": [
        "WARNING:root:timeout occured in motors 31 after sending DxlInstructionPacket(id=31, instruction=2, parameters=(36, 6))"
       ]
      },
      {
       "output_type": "stream",
       "stream": "stderr",
       "text": [
        "WARNING:root:timeout occured in motors 31 after sending DxlInstructionPacket(id=31, instruction=2, parameters=(36, 6))"
       ]
      },
      {
       "output_type": "stream",
       "stream": "stderr",
       "text": [
        "WARNING:root:timeout occured in motors 31 after sending DxlInstructionPacket(id=31, instruction=2, parameters=(36, 6))"
       ]
      },
      {
       "output_type": "stream",
       "stream": "stderr",
       "text": [
        "WARNING:root:timeout occured in motors 31 after sending DxlInstructionPacket(id=31, instruction=2, parameters=(36, 6))"
       ]
      },
      {
       "output_type": "stream",
       "stream": "stderr",
       "text": [
        "WARNING:root:timeout occured in motors 31 after sending DxlInstructionPacket(id=31, instruction=2, parameters=(36, 6))"
       ]
      },
      {
       "output_type": "stream",
       "stream": "stderr",
       "text": [
        "WARNING:root:timeout occured in motors 31 after sending DxlInstructionPacket(id=31, instruction=2, parameters=(36, 6))"
       ]
      },
      {
       "output_type": "stream",
       "stream": "stderr",
       "text": [
        "WARNING:root:timeout occured in motors 31 after sending DxlInstructionPacket(id=31, instruction=2, parameters=(36, 6))"
       ]
      },
      {
       "output_type": "stream",
       "stream": "stderr",
       "text": [
        "WARNING:root:timeout occured in motors 31 after sending DxlInstructionPacket(id=31, instruction=2, parameters=(36, 6))"
       ]
      },
      {
       "output_type": "stream",
       "stream": "stderr",
       "text": [
        "WARNING:root:timeout occured in motors 31 after sending DxlInstructionPacket(id=31, instruction=2, parameters=(36, 6))"
       ]
      },
      {
       "output_type": "stream",
       "stream": "stderr",
       "text": [
        "WARNING:root:timeout occured in motors 31 after sending DxlInstructionPacket(id=31, instruction=2, parameters=(36, 6))"
       ]
      },
      {
       "output_type": "stream",
       "stream": "stderr",
       "text": [
        "WARNING:root:timeout occured in motors 31 after sending DxlInstructionPacket(id=31, instruction=2, parameters=(6, 4))"
       ]
      },
      {
       "output_type": "stream",
       "stream": "stderr",
       "text": [
        "WARNING:root:timeout occured in motors 31 after sending DxlInstructionPacket(id=31, instruction=2, parameters=(42, 1))"
       ]
      },
      {
       "output_type": "stream",
       "stream": "stderr",
       "text": [
        "WARNING:root:timeout occured in motors 31 after sending DxlInstructionPacket(id=31, instruction=2, parameters=(43, 1))"
       ]
      },
      {
       "output_type": "stream",
       "stream": "stderr",
       "text": [
        "WARNING:root:timeout occured in motors 31 after sending DxlInstructionPacket(id=31, instruction=2, parameters=(36, 6))"
       ]
      },
      {
       "output_type": "stream",
       "stream": "stderr",
       "text": [
        "WARNING:root:timeout occured in motors 31 after sending DxlInstructionPacket(id=31, instruction=2, parameters=(36, 6))"
       ]
      },
      {
       "output_type": "stream",
       "stream": "stderr",
       "text": [
        "WARNING:root:timeout occured in motors 31 after sending DxlInstructionPacket(id=31, instruction=2, parameters=(36, 6))"
       ]
      },
      {
       "output_type": "stream",
       "stream": "stderr",
       "text": [
        "WARNING:root:timeout occured in motors 31 after sending DxlInstructionPacket(id=31, instruction=2, parameters=(36, 6))"
       ]
      },
      {
       "output_type": "stream",
       "stream": "stderr",
       "text": [
        "WARNING:root:timeout occured in motors 31 after sending DxlInstructionPacket(id=31, instruction=2, parameters=(36, 6))"
       ]
      },
      {
       "output_type": "stream",
       "stream": "stderr",
       "text": [
        "WARNING:root:timeout occured in motors 31 after sending DxlInstructionPacket(id=31, instruction=2, parameters=(36, 6))"
       ]
      },
      {
       "output_type": "stream",
       "stream": "stderr",
       "text": [
        "WARNING:root:timeout occured in motors 31 after sending DxlInstructionPacket(id=31, instruction=2, parameters=(36, 6))"
       ]
      },
      {
       "output_type": "stream",
       "stream": "stderr",
       "text": [
        "WARNING:root:timeout occured in motors 31 after sending DxlInstructionPacket(id=31, instruction=2, parameters=(36, 6))"
       ]
      },
      {
       "output_type": "stream",
       "stream": "stderr",
       "text": [
        "WARNING:root:timeout occured in motors 31 after sending DxlInstructionPacket(id=31, instruction=2, parameters=(36, 6))"
       ]
      },
      {
       "output_type": "stream",
       "stream": "stderr",
       "text": [
        "WARNING:root:timeout occured in motors 31 after sending DxlInstructionPacket(id=31, instruction=2, parameters=(36, 6))"
       ]
      },
      {
       "output_type": "stream",
       "stream": "stderr",
       "text": [
        "WARNING:root:timeout occured in motors 31 after sending DxlInstructionPacket(id=31, instruction=2, parameters=(36, 6))"
       ]
      },
      {
       "output_type": "stream",
       "stream": "stderr",
       "text": [
        "WARNING:root:timeout occured in motors 31 after sending DxlInstructionPacket(id=31, instruction=2, parameters=(36, 6))"
       ]
      },
      {
       "output_type": "stream",
       "stream": "stderr",
       "text": [
        "WARNING:root:timeout occured in motors 31 after sending DxlInstructionPacket(id=31, instruction=2, parameters=(36, 6))"
       ]
      },
      {
       "output_type": "stream",
       "stream": "stderr",
       "text": [
        "WARNING:root:timeout occured in motors 31 after sending DxlInstructionPacket(id=31, instruction=2, parameters=(36, 6))"
       ]
      },
      {
       "output_type": "stream",
       "stream": "stderr",
       "text": [
        "WARNING:root:timeout occured in motors 31 after sending DxlInstructionPacket(id=31, instruction=2, parameters=(36, 6))"
       ]
      },
      {
       "output_type": "stream",
       "stream": "stderr",
       "text": [
        "WARNING:root:timeout occured in motors 31 after sending DxlInstructionPacket(id=31, instruction=2, parameters=(6, 4))"
       ]
      },
      {
       "output_type": "stream",
       "stream": "stderr",
       "text": [
        "WARNING:root:timeout occured in motors 31 after sending DxlInstructionPacket(id=31, instruction=2, parameters=(36, 6))"
       ]
      },
      {
       "output_type": "stream",
       "stream": "stderr",
       "text": [
        "WARNING:root:timeout occured in motors 31 after sending DxlInstructionPacket(id=31, instruction=2, parameters=(42, 1))"
       ]
      },
      {
       "output_type": "stream",
       "stream": "stderr",
       "text": [
        "WARNING:root:timeout occured in motors 31 after sending DxlInstructionPacket(id=31, instruction=2, parameters=(43, 1))"
       ]
      },
      {
       "output_type": "stream",
       "stream": "stderr",
       "text": [
        "WARNING:root:timeout occured in motors 31 after sending DxlInstructionPacket(id=31, instruction=2, parameters=(36, 6))"
       ]
      },
      {
       "output_type": "stream",
       "stream": "stderr",
       "text": [
        "WARNING:root:timeout occured in motors 31 after sending DxlInstructionPacket(id=31, instruction=2, parameters=(36, 6))"
       ]
      },
      {
       "output_type": "stream",
       "stream": "stderr",
       "text": [
        "WARNING:root:timeout occured in motors 31 after sending DxlInstructionPacket(id=31, instruction=2, parameters=(36, 6))"
       ]
      },
      {
       "output_type": "stream",
       "stream": "stderr",
       "text": [
        "WARNING:root:timeout occured in motors 31 after sending DxlInstructionPacket(id=31, instruction=2, parameters=(36, 6))"
       ]
      },
      {
       "output_type": "stream",
       "stream": "stderr",
       "text": [
        "WARNING:root:timeout occured in motors 31 after sending DxlInstructionPacket(id=31, instruction=2, parameters=(36, 6))"
       ]
      },
      {
       "output_type": "stream",
       "stream": "stderr",
       "text": [
        "WARNING:root:timeout occured in motors 31 after sending DxlInstructionPacket(id=31, instruction=2, parameters=(36, 6))"
       ]
      },
      {
       "output_type": "stream",
       "stream": "stderr",
       "text": [
        "WARNING:root:timeout occured in motors 31 after sending DxlInstructionPacket(id=31, instruction=2, parameters=(36, 6))"
       ]
      },
      {
       "output_type": "stream",
       "stream": "stderr",
       "text": [
        "WARNING:root:timeout occured in motors 31 after sending DxlInstructionPacket(id=31, instruction=2, parameters=(36, 6))"
       ]
      },
      {
       "output_type": "stream",
       "stream": "stderr",
       "text": [
        "WARNING:root:timeout occured in motors 31 after sending DxlInstructionPacket(id=31, instruction=2, parameters=(36, 6))"
       ]
      },
      {
       "output_type": "stream",
       "stream": "stderr",
       "text": [
        "WARNING:root:timeout occured in motors 31 after sending DxlInstructionPacket(id=31, instruction=2, parameters=(36, 6))"
       ]
      },
      {
       "output_type": "stream",
       "stream": "stderr",
       "text": [
        "WARNING:root:timeout occured in motors 31 after sending DxlInstructionPacket(id=31, instruction=2, parameters=(36, 6))"
       ]
      },
      {
       "output_type": "stream",
       "stream": "stderr",
       "text": [
        "WARNING:root:timeout occured in motors 31 after sending DxlInstructionPacket(id=31, instruction=2, parameters=(36, 6))"
       ]
      },
      {
       "output_type": "stream",
       "stream": "stderr",
       "text": [
        "WARNING:root:timeout occured in motors 31 after sending DxlInstructionPacket(id=31, instruction=2, parameters=(36, 6))"
       ]
      },
      {
       "output_type": "stream",
       "stream": "stderr",
       "text": [
        "WARNING:root:timeout occured in motors 31 after sending DxlInstructionPacket(id=31, instruction=2, parameters=(36, 6))"
       ]
      },
      {
       "output_type": "stream",
       "stream": "stderr",
       "text": [
        "WARNING:root:timeout occured in motors 31 after sending DxlInstructionPacket(id=31, instruction=2, parameters=(36, 6))"
       ]
      },
      {
       "output_type": "stream",
       "stream": "stderr",
       "text": [
        "WARNING:root:timeout occured in motors 31 after sending DxlInstructionPacket(id=31, instruction=2, parameters=(6, 4))"
       ]
      },
      {
       "output_type": "stream",
       "stream": "stderr",
       "text": [
        "WARNING:root:timeout occured in motors 31 after sending DxlInstructionPacket(id=31, instruction=2, parameters=(36, 6))"
       ]
      },
      {
       "output_type": "stream",
       "stream": "stderr",
       "text": [
        "WARNING:root:timeout occured in motors 31 after sending DxlInstructionPacket(id=31, instruction=2, parameters=(42, 1))"
       ]
      },
      {
       "output_type": "stream",
       "stream": "stderr",
       "text": [
        "WARNING:root:timeout occured in motors 31 after sending DxlInstructionPacket(id=31, instruction=2, parameters=(43, 1))"
       ]
      },
      {
       "output_type": "stream",
       "stream": "stderr",
       "text": [
        "WARNING:root:timeout occured in motors 31 after sending DxlInstructionPacket(id=31, instruction=2, parameters=(36, 6))"
       ]
      },
      {
       "output_type": "stream",
       "stream": "stderr",
       "text": [
        "WARNING:root:timeout occured in motors 31 after sending DxlInstructionPacket(id=31, instruction=2, parameters=(36, 6))"
       ]
      },
      {
       "output_type": "stream",
       "stream": "stderr",
       "text": [
        "WARNING:root:timeout occured in motors 31 after sending DxlInstructionPacket(id=31, instruction=2, parameters=(36, 6))"
       ]
      },
      {
       "output_type": "stream",
       "stream": "stderr",
       "text": [
        "WARNING:root:timeout occured in motors 31 after sending DxlInstructionPacket(id=31, instruction=2, parameters=(36, 6))"
       ]
      },
      {
       "output_type": "stream",
       "stream": "stderr",
       "text": [
        "WARNING:root:timeout occured in motors 31 after sending DxlInstructionPacket(id=31, instruction=2, parameters=(36, 6))"
       ]
      },
      {
       "output_type": "stream",
       "stream": "stderr",
       "text": [
        "WARNING:root:timeout occured in motors 31 after sending DxlInstructionPacket(id=31, instruction=2, parameters=(36, 6))"
       ]
      },
      {
       "output_type": "stream",
       "stream": "stderr",
       "text": [
        "WARNING:root:timeout occured in motors 31 after sending DxlInstructionPacket(id=31, instruction=2, parameters=(36, 6))"
       ]
      },
      {
       "output_type": "stream",
       "stream": "stderr",
       "text": [
        "WARNING:root:timeout occured in motors 31 after sending DxlInstructionPacket(id=31, instruction=2, parameters=(36, 6))"
       ]
      },
      {
       "output_type": "stream",
       "stream": "stderr",
       "text": [
        "WARNING:root:timeout occured in motors 31 after sending DxlInstructionPacket(id=31, instruction=2, parameters=(36, 6))"
       ]
      },
      {
       "output_type": "stream",
       "stream": "stderr",
       "text": [
        "WARNING:root:timeout occured in motors 31 after sending DxlInstructionPacket(id=31, instruction=2, parameters=(36, 6))"
       ]
      },
      {
       "output_type": "stream",
       "stream": "stderr",
       "text": [
        "WARNING:root:timeout occured in motors 31 after sending DxlInstructionPacket(id=31, instruction=2, parameters=(36, 6))"
       ]
      },
      {
       "output_type": "stream",
       "stream": "stderr",
       "text": [
        "WARNING:root:timeout occured in motors 31 after sending DxlInstructionPacket(id=31, instruction=2, parameters=(36, 6))"
       ]
      },
      {
       "output_type": "stream",
       "stream": "stderr",
       "text": [
        "WARNING:root:timeout occured in motors 31 after sending DxlInstructionPacket(id=31, instruction=2, parameters=(36, 6))"
       ]
      },
      {
       "output_type": "stream",
       "stream": "stderr",
       "text": [
        "WARNING:root:timeout occured in motors 31 after sending DxlInstructionPacket(id=31, instruction=2, parameters=(36, 6))"
       ]
      },
      {
       "output_type": "stream",
       "stream": "stderr",
       "text": [
        "WARNING:root:timeout occured in motors 31 after sending DxlInstructionPacket(id=31, instruction=2, parameters=(36, 6))"
       ]
      },
      {
       "output_type": "stream",
       "stream": "stderr",
       "text": [
        "WARNING:root:timeout occured in motors 31 after sending DxlInstructionPacket(id=31, instruction=2, parameters=(6, 4))"
       ]
      },
      {
       "output_type": "stream",
       "stream": "stderr",
       "text": [
        "WARNING:root:timeout occured in motors 31 after sending DxlInstructionPacket(id=31, instruction=2, parameters=(36, 6))"
       ]
      },
      {
       "output_type": "stream",
       "stream": "stderr",
       "text": [
        "WARNING:root:timeout occured in motors 31 after sending DxlInstructionPacket(id=31, instruction=2, parameters=(42, 1))"
       ]
      },
      {
       "output_type": "stream",
       "stream": "stderr",
       "text": [
        "WARNING:root:timeout occured in motors 31 after sending DxlInstructionPacket(id=31, instruction=2, parameters=(43, 1))"
       ]
      },
      {
       "output_type": "stream",
       "stream": "stderr",
       "text": [
        "WARNING:root:timeout occured in motors 31 after sending DxlInstructionPacket(id=31, instruction=2, parameters=(36, 6))"
       ]
      },
      {
       "output_type": "stream",
       "stream": "stderr",
       "text": [
        "WARNING:root:timeout occured in motors 31 after sending DxlInstructionPacket(id=31, instruction=2, parameters=(36, 6))"
       ]
      },
      {
       "output_type": "stream",
       "stream": "stderr",
       "text": [
        "WARNING:root:timeout occured in motors 31 after sending DxlInstructionPacket(id=31, instruction=2, parameters=(36, 6))"
       ]
      },
      {
       "output_type": "stream",
       "stream": "stderr",
       "text": [
        "WARNING:root:timeout occured in motors 31 after sending DxlInstructionPacket(id=31, instruction=2, parameters=(36, 6))"
       ]
      },
      {
       "output_type": "stream",
       "stream": "stderr",
       "text": [
        "WARNING:root:timeout occured in motors 31 after sending DxlInstructionPacket(id=31, instruction=2, parameters=(36, 6))"
       ]
      },
      {
       "output_type": "stream",
       "stream": "stderr",
       "text": [
        "WARNING:root:timeout occured in motors 31 after sending DxlInstructionPacket(id=31, instruction=2, parameters=(36, 6))"
       ]
      },
      {
       "output_type": "stream",
       "stream": "stderr",
       "text": [
        "WARNING:root:timeout occured in motors 31 after sending DxlInstructionPacket(id=31, instruction=2, parameters=(36, 6))"
       ]
      },
      {
       "output_type": "stream",
       "stream": "stderr",
       "text": [
        "WARNING:root:timeout occured in motors 31 after sending DxlInstructionPacket(id=31, instruction=2, parameters=(36, 6))"
       ]
      },
      {
       "output_type": "stream",
       "stream": "stderr",
       "text": [
        "WARNING:root:timeout occured in motors 31 after sending DxlInstructionPacket(id=31, instruction=2, parameters=(36, 6))"
       ]
      },
      {
       "output_type": "stream",
       "stream": "stderr",
       "text": [
        "WARNING:root:timeout occured in motors 31 after sending DxlInstructionPacket(id=31, instruction=2, parameters=(36, 6))"
       ]
      },
      {
       "output_type": "stream",
       "stream": "stderr",
       "text": [
        "WARNING:root:timeout occured in motors 31 after sending DxlInstructionPacket(id=31, instruction=2, parameters=(36, 6))"
       ]
      },
      {
       "output_type": "stream",
       "stream": "stderr",
       "text": [
        "WARNING:root:timeout occured in motors 31 after sending DxlInstructionPacket(id=31, instruction=2, parameters=(36, 6))"
       ]
      },
      {
       "output_type": "stream",
       "stream": "stderr",
       "text": [
        "WARNING:root:timeout occured in motors 31 after sending DxlInstructionPacket(id=31, instruction=2, parameters=(36, 6))"
       ]
      },
      {
       "output_type": "stream",
       "stream": "stderr",
       "text": [
        "WARNING:root:timeout occured in motors 31 after sending DxlInstructionPacket(id=31, instruction=2, parameters=(36, 6))"
       ]
      },
      {
       "output_type": "stream",
       "stream": "stderr",
       "text": [
        "WARNING:root:timeout occured in motors 31 after sending DxlInstructionPacket(id=31, instruction=2, parameters=(36, 6))"
       ]
      },
      {
       "output_type": "stream",
       "stream": "stderr",
       "text": [
        "WARNING:root:timeout occured in motors 31 after sending DxlInstructionPacket(id=31, instruction=2, parameters=(6, 4))"
       ]
      },
      {
       "output_type": "stream",
       "stream": "stderr",
       "text": [
        "WARNING:root:timeout occured in motors 31 after sending DxlInstructionPacket(id=31, instruction=2, parameters=(36, 6))"
       ]
      },
      {
       "output_type": "stream",
       "stream": "stderr",
       "text": [
        "WARNING:root:timeout occured in motors 31 after sending DxlInstructionPacket(id=31, instruction=2, parameters=(42, 1))"
       ]
      },
      {
       "output_type": "stream",
       "stream": "stderr",
       "text": [
        "WARNING:root:timeout occured in motors 31 after sending DxlInstructionPacket(id=31, instruction=2, parameters=(43, 1))"
       ]
      },
      {
       "output_type": "stream",
       "stream": "stderr",
       "text": [
        "WARNING:root:timeout occured in motors 31 after sending DxlInstructionPacket(id=31, instruction=2, parameters=(36, 6))"
       ]
      },
      {
       "output_type": "stream",
       "stream": "stderr",
       "text": [
        "WARNING:root:timeout occured in motors 31 after sending DxlInstructionPacket(id=31, instruction=2, parameters=(36, 6))"
       ]
      },
      {
       "output_type": "stream",
       "stream": "stderr",
       "text": [
        "WARNING:root:timeout occured in motors 31 after sending DxlInstructionPacket(id=31, instruction=2, parameters=(36, 6))"
       ]
      },
      {
       "output_type": "stream",
       "stream": "stderr",
       "text": [
        "WARNING:root:timeout occured in motors 31 after sending DxlInstructionPacket(id=31, instruction=2, parameters=(36, 6))"
       ]
      },
      {
       "output_type": "stream",
       "stream": "stderr",
       "text": [
        "WARNING:root:timeout occured in motors 31 after sending DxlInstructionPacket(id=31, instruction=2, parameters=(36, 6))"
       ]
      },
      {
       "output_type": "stream",
       "stream": "stderr",
       "text": [
        "WARNING:root:timeout occured in motors 31 after sending DxlInstructionPacket(id=31, instruction=2, parameters=(36, 6))"
       ]
      },
      {
       "output_type": "stream",
       "stream": "stderr",
       "text": [
        "WARNING:root:timeout occured in motors 31 after sending DxlInstructionPacket(id=31, instruction=2, parameters=(36, 6))"
       ]
      },
      {
       "output_type": "stream",
       "stream": "stderr",
       "text": [
        "WARNING:root:timeout occured in motors 31 after sending DxlInstructionPacket(id=31, instruction=2, parameters=(36, 6))"
       ]
      },
      {
       "output_type": "stream",
       "stream": "stderr",
       "text": [
        "WARNING:root:timeout occured in motors 31 after sending DxlInstructionPacket(id=31, instruction=2, parameters=(36, 6))"
       ]
      },
      {
       "output_type": "stream",
       "stream": "stderr",
       "text": [
        "WARNING:root:timeout occured in motors 31 after sending DxlInstructionPacket(id=31, instruction=2, parameters=(36, 6))"
       ]
      },
      {
       "output_type": "stream",
       "stream": "stderr",
       "text": [
        "WARNING:root:timeout occured in motors 31 after sending DxlInstructionPacket(id=31, instruction=2, parameters=(36, 6))"
       ]
      },
      {
       "output_type": "stream",
       "stream": "stderr",
       "text": [
        "WARNING:root:timeout occured in motors 31 after sending DxlInstructionPacket(id=31, instruction=2, parameters=(36, 6))"
       ]
      },
      {
       "output_type": "stream",
       "stream": "stderr",
       "text": [
        "WARNING:root:timeout occured in motors 31 after sending DxlInstructionPacket(id=31, instruction=2, parameters=(36, 6))"
       ]
      },
      {
       "output_type": "stream",
       "stream": "stderr",
       "text": [
        "WARNING:root:timeout occured in motors 31 after sending DxlInstructionPacket(id=31, instruction=2, parameters=(36, 6))"
       ]
      },
      {
       "output_type": "stream",
       "stream": "stderr",
       "text": [
        "WARNING:root:timeout occured in motors 31 after sending DxlInstructionPacket(id=31, instruction=2, parameters=(36, 6))"
       ]
      },
      {
       "output_type": "stream",
       "stream": "stderr",
       "text": [
        "WARNING:root:timeout occured in motors 31 after sending DxlInstructionPacket(id=31, instruction=2, parameters=(6, 4))"
       ]
      },
      {
       "output_type": "stream",
       "stream": "stderr",
       "text": [
        "WARNING:root:timeout occured in motors 31 after sending DxlInstructionPacket(id=31, instruction=2, parameters=(36, 6))"
       ]
      },
      {
       "output_type": "stream",
       "stream": "stderr",
       "text": [
        "WARNING:root:timeout occured in motors 31 after sending DxlInstructionPacket(id=31, instruction=2, parameters=(42, 1))"
       ]
      },
      {
       "output_type": "stream",
       "stream": "stderr",
       "text": [
        "WARNING:root:timeout occured in motors 31 after sending DxlInstructionPacket(id=31, instruction=2, parameters=(43, 1))"
       ]
      },
      {
       "output_type": "stream",
       "stream": "stderr",
       "text": [
        "WARNING:root:timeout occured in motors 31 after sending DxlInstructionPacket(id=31, instruction=2, parameters=(36, 6))"
       ]
      },
      {
       "output_type": "stream",
       "stream": "stderr",
       "text": [
        "WARNING:root:timeout occured in motors 31 after sending DxlInstructionPacket(id=31, instruction=2, parameters=(36, 6))"
       ]
      },
      {
       "output_type": "stream",
       "stream": "stderr",
       "text": [
        "WARNING:root:timeout occured in motors 31 after sending DxlInstructionPacket(id=31, instruction=2, parameters=(36, 6))"
       ]
      },
      {
       "output_type": "stream",
       "stream": "stderr",
       "text": [
        "WARNING:root:timeout occured in motors 31 after sending DxlInstructionPacket(id=31, instruction=2, parameters=(36, 6))"
       ]
      },
      {
       "output_type": "stream",
       "stream": "stderr",
       "text": [
        "WARNING:root:timeout occured in motors 31 after sending DxlInstructionPacket(id=31, instruction=2, parameters=(36, 6))"
       ]
      },
      {
       "output_type": "stream",
       "stream": "stderr",
       "text": [
        "WARNING:root:timeout occured in motors 31 after sending DxlInstructionPacket(id=31, instruction=2, parameters=(36, 6))"
       ]
      },
      {
       "output_type": "stream",
       "stream": "stderr",
       "text": [
        "WARNING:root:timeout occured in motors 31 after sending DxlInstructionPacket(id=31, instruction=2, parameters=(36, 6))"
       ]
      },
      {
       "output_type": "stream",
       "stream": "stderr",
       "text": [
        "WARNING:root:timeout occured in motors 31 after sending DxlInstructionPacket(id=31, instruction=2, parameters=(36, 6))"
       ]
      },
      {
       "output_type": "stream",
       "stream": "stderr",
       "text": [
        "WARNING:root:timeout occured in motors 31 after sending DxlInstructionPacket(id=31, instruction=2, parameters=(36, 6))"
       ]
      },
      {
       "output_type": "stream",
       "stream": "stderr",
       "text": [
        "WARNING:root:timeout occured in motors 31 after sending DxlInstructionPacket(id=31, instruction=2, parameters=(36, 6))"
       ]
      },
      {
       "output_type": "stream",
       "stream": "stderr",
       "text": [
        "WARNING:root:timeout occured in motors 31 after sending DxlInstructionPacket(id=31, instruction=2, parameters=(36, 6))"
       ]
      },
      {
       "output_type": "stream",
       "stream": "stderr",
       "text": [
        "WARNING:root:timeout occured in motors 31 after sending DxlInstructionPacket(id=31, instruction=2, parameters=(36, 6))"
       ]
      },
      {
       "output_type": "stream",
       "stream": "stderr",
       "text": [
        "WARNING:root:timeout occured in motors 31 after sending DxlInstructionPacket(id=31, instruction=2, parameters=(36, 6))"
       ]
      },
      {
       "output_type": "stream",
       "stream": "stderr",
       "text": [
        "WARNING:root:timeout occured in motors 31 after sending DxlInstructionPacket(id=31, instruction=2, parameters=(36, 6))"
       ]
      },
      {
       "output_type": "stream",
       "stream": "stderr",
       "text": [
        "WARNING:root:timeout occured in motors 31 after sending DxlInstructionPacket(id=31, instruction=2, parameters=(36, 6))"
       ]
      },
      {
       "output_type": "stream",
       "stream": "stderr",
       "text": [
        "WARNING:root:timeout occured in motors 31 after sending DxlInstructionPacket(id=31, instruction=2, parameters=(6, 4))"
       ]
      },
      {
       "output_type": "stream",
       "stream": "stderr",
       "text": [
        "WARNING:root:timeout occured in motors 31 after sending DxlInstructionPacket(id=31, instruction=2, parameters=(36, 6))"
       ]
      },
      {
       "output_type": "stream",
       "stream": "stderr",
       "text": [
        "WARNING:root:timeout occured in motors 31 after sending DxlInstructionPacket(id=31, instruction=2, parameters=(42, 1))"
       ]
      },
      {
       "output_type": "stream",
       "stream": "stderr",
       "text": [
        "WARNING:root:timeout occured in motors 31 after sending DxlInstructionPacket(id=31, instruction=2, parameters=(43, 1))"
       ]
      },
      {
       "output_type": "stream",
       "stream": "stderr",
       "text": [
        "WARNING:root:timeout occured in motors 31 after sending DxlInstructionPacket(id=31, instruction=2, parameters=(36, 6))"
       ]
      },
      {
       "output_type": "stream",
       "stream": "stderr",
       "text": [
        "WARNING:root:timeout occured in motors 31 after sending DxlInstructionPacket(id=31, instruction=2, parameters=(36, 6))"
       ]
      },
      {
       "output_type": "stream",
       "stream": "stderr",
       "text": [
        "WARNING:root:timeout occured in motors 31 after sending DxlInstructionPacket(id=31, instruction=2, parameters=(36, 6))"
       ]
      },
      {
       "output_type": "stream",
       "stream": "stderr",
       "text": [
        "WARNING:root:timeout occured in motors 31 after sending DxlInstructionPacket(id=31, instruction=2, parameters=(36, 6))"
       ]
      },
      {
       "output_type": "stream",
       "stream": "stderr",
       "text": [
        "WARNING:root:timeout occured in motors 31 after sending DxlInstructionPacket(id=31, instruction=2, parameters=(36, 6))"
       ]
      },
      {
       "output_type": "stream",
       "stream": "stderr",
       "text": [
        "WARNING:root:timeout occured in motors 31 after sending DxlInstructionPacket(id=31, instruction=2, parameters=(36, 6))"
       ]
      },
      {
       "output_type": "stream",
       "stream": "stderr",
       "text": [
        "WARNING:root:timeout occured in motors 31 after sending DxlInstructionPacket(id=31, instruction=2, parameters=(36, 6))"
       ]
      },
      {
       "output_type": "stream",
       "stream": "stderr",
       "text": [
        "WARNING:root:timeout occured in motors 31 after sending DxlInstructionPacket(id=31, instruction=2, parameters=(36, 6))"
       ]
      },
      {
       "output_type": "stream",
       "stream": "stderr",
       "text": [
        "WARNING:root:timeout occured in motors 31 after sending DxlInstructionPacket(id=31, instruction=2, parameters=(36, 6))"
       ]
      },
      {
       "output_type": "stream",
       "stream": "stderr",
       "text": [
        "WARNING:root:timeout occured in motors 31 after sending DxlInstructionPacket(id=31, instruction=2, parameters=(36, 6))"
       ]
      },
      {
       "output_type": "stream",
       "stream": "stderr",
       "text": [
        "WARNING:root:timeout occured in motors 31 after sending DxlInstructionPacket(id=31, instruction=2, parameters=(36, 6))"
       ]
      },
      {
       "output_type": "stream",
       "stream": "stderr",
       "text": [
        "WARNING:root:timeout occured in motors 31 after sending DxlInstructionPacket(id=31, instruction=2, parameters=(36, 6))"
       ]
      },
      {
       "output_type": "stream",
       "stream": "stderr",
       "text": [
        "WARNING:root:timeout occured in motors 31 after sending DxlInstructionPacket(id=31, instruction=2, parameters=(36, 6))"
       ]
      },
      {
       "output_type": "stream",
       "stream": "stderr",
       "text": [
        "WARNING:root:timeout occured in motors 31 after sending DxlInstructionPacket(id=31, instruction=2, parameters=(36, 6))"
       ]
      },
      {
       "output_type": "stream",
       "stream": "stderr",
       "text": [
        "WARNING:root:timeout occured in motors 31 after sending DxlInstructionPacket(id=31, instruction=2, parameters=(36, 6))"
       ]
      },
      {
       "output_type": "stream",
       "stream": "stderr",
       "text": [
        "WARNING:root:timeout occured in motors 31 after sending DxlInstructionPacket(id=31, instruction=2, parameters=(6, 4))"
       ]
      },
      {
       "output_type": "stream",
       "stream": "stderr",
       "text": [
        "WARNING:root:timeout occured in motors 31 after sending DxlInstructionPacket(id=31, instruction=2, parameters=(36, 6))"
       ]
      },
      {
       "output_type": "stream",
       "stream": "stderr",
       "text": [
        "WARNING:root:timeout occured in motors 31 after sending DxlInstructionPacket(id=31, instruction=2, parameters=(42, 1))"
       ]
      },
      {
       "output_type": "stream",
       "stream": "stderr",
       "text": [
        "WARNING:root:timeout occured in motors 31 after sending DxlInstructionPacket(id=31, instruction=2, parameters=(43, 1))"
       ]
      },
      {
       "output_type": "stream",
       "stream": "stderr",
       "text": [
        "WARNING:root:timeout occured in motors 31 after sending DxlInstructionPacket(id=31, instruction=2, parameters=(36, 6))"
       ]
      },
      {
       "output_type": "stream",
       "stream": "stderr",
       "text": [
        "WARNING:root:timeout occured in motors 31 after sending DxlInstructionPacket(id=31, instruction=2, parameters=(36, 6))"
       ]
      },
      {
       "output_type": "stream",
       "stream": "stderr",
       "text": [
        "WARNING:root:timeout occured in motors 31 after sending DxlInstructionPacket(id=31, instruction=2, parameters=(36, 6))"
       ]
      },
      {
       "output_type": "stream",
       "stream": "stderr",
       "text": [
        "WARNING:root:timeout occured in motors 31 after sending DxlInstructionPacket(id=31, instruction=2, parameters=(36, 6))"
       ]
      },
      {
       "output_type": "stream",
       "stream": "stderr",
       "text": [
        "WARNING:root:timeout occured in motors 31 after sending DxlInstructionPacket(id=31, instruction=2, parameters=(36, 6))"
       ]
      },
      {
       "output_type": "stream",
       "stream": "stderr",
       "text": [
        "WARNING:root:timeout occured in motors 31 after sending DxlInstructionPacket(id=31, instruction=2, parameters=(36, 6))"
       ]
      },
      {
       "output_type": "stream",
       "stream": "stderr",
       "text": [
        "WARNING:root:timeout occured in motors 31 after sending DxlInstructionPacket(id=31, instruction=2, parameters=(36, 6))"
       ]
      },
      {
       "output_type": "stream",
       "stream": "stderr",
       "text": [
        "WARNING:root:timeout occured in motors 31 after sending DxlInstructionPacket(id=31, instruction=2, parameters=(36, 6))"
       ]
      },
      {
       "output_type": "stream",
       "stream": "stderr",
       "text": [
        "WARNING:root:timeout occured in motors 31 after sending DxlInstructionPacket(id=31, instruction=2, parameters=(36, 6))"
       ]
      },
      {
       "output_type": "stream",
       "stream": "stderr",
       "text": [
        "WARNING:root:timeout occured in motors 31 after sending DxlInstructionPacket(id=31, instruction=2, parameters=(36, 6))"
       ]
      },
      {
       "output_type": "stream",
       "stream": "stderr",
       "text": [
        "WARNING:root:timeout occured in motors 31 after sending DxlInstructionPacket(id=31, instruction=2, parameters=(36, 6))"
       ]
      },
      {
       "output_type": "stream",
       "stream": "stderr",
       "text": [
        "WARNING:root:timeout occured in motors 31 after sending DxlInstructionPacket(id=31, instruction=2, parameters=(36, 6))"
       ]
      },
      {
       "output_type": "stream",
       "stream": "stderr",
       "text": [
        "WARNING:root:timeout occured in motors 31 after sending DxlInstructionPacket(id=31, instruction=2, parameters=(36, 6))"
       ]
      },
      {
       "output_type": "stream",
       "stream": "stderr",
       "text": [
        "WARNING:root:timeout occured in motors 31 after sending DxlInstructionPacket(id=31, instruction=2, parameters=(36, 6))"
       ]
      },
      {
       "output_type": "stream",
       "stream": "stderr",
       "text": [
        "WARNING:root:timeout occured in motors 31 after sending DxlInstructionPacket(id=31, instruction=2, parameters=(36, 6))"
       ]
      },
      {
       "output_type": "stream",
       "stream": "stderr",
       "text": [
        "WARNING:root:timeout occured in motors 31 after sending DxlInstructionPacket(id=31, instruction=2, parameters=(6, 4))"
       ]
      },
      {
       "output_type": "stream",
       "stream": "stderr",
       "text": [
        "WARNING:root:timeout occured in motors 31 after sending DxlInstructionPacket(id=31, instruction=2, parameters=(36, 6))"
       ]
      },
      {
       "output_type": "stream",
       "stream": "stderr",
       "text": [
        "WARNING:root:timeout occured in motors 31 after sending DxlInstructionPacket(id=31, instruction=2, parameters=(42, 1))"
       ]
      },
      {
       "output_type": "stream",
       "stream": "stderr",
       "text": [
        "WARNING:root:timeout occured in motors 31 after sending DxlInstructionPacket(id=31, instruction=2, parameters=(43, 1))"
       ]
      },
      {
       "output_type": "stream",
       "stream": "stderr",
       "text": [
        "WARNING:root:timeout occured in motors 31 after sending DxlInstructionPacket(id=31, instruction=2, parameters=(36, 6))"
       ]
      },
      {
       "output_type": "stream",
       "stream": "stderr",
       "text": [
        "WARNING:root:timeout occured in motors 31 after sending DxlInstructionPacket(id=31, instruction=2, parameters=(36, 6))"
       ]
      },
      {
       "output_type": "stream",
       "stream": "stderr",
       "text": [
        "WARNING:root:timeout occured in motors 31 after sending DxlInstructionPacket(id=31, instruction=2, parameters=(36, 6))"
       ]
      },
      {
       "output_type": "stream",
       "stream": "stderr",
       "text": [
        "WARNING:root:timeout occured in motors 31 after sending DxlInstructionPacket(id=31, instruction=2, parameters=(36, 6))"
       ]
      },
      {
       "output_type": "stream",
       "stream": "stderr",
       "text": [
        "WARNING:root:timeout occured in motors 31 after sending DxlInstructionPacket(id=31, instruction=2, parameters=(36, 6))"
       ]
      },
      {
       "output_type": "stream",
       "stream": "stderr",
       "text": [
        "WARNING:root:timeout occured in motors 31 after sending DxlInstructionPacket(id=31, instruction=2, parameters=(36, 6))"
       ]
      },
      {
       "output_type": "stream",
       "stream": "stderr",
       "text": [
        "WARNING:root:timeout occured in motors 31 after sending DxlInstructionPacket(id=31, instruction=2, parameters=(36, 6))"
       ]
      },
      {
       "output_type": "stream",
       "stream": "stderr",
       "text": [
        "WARNING:root:timeout occured in motors 31 after sending DxlInstructionPacket(id=31, instruction=2, parameters=(36, 6))"
       ]
      },
      {
       "output_type": "stream",
       "stream": "stderr",
       "text": [
        "WARNING:root:timeout occured in motors 31 after sending DxlInstructionPacket(id=31, instruction=2, parameters=(36, 6))"
       ]
      },
      {
       "output_type": "stream",
       "stream": "stderr",
       "text": [
        "WARNING:root:timeout occured in motors 31 after sending DxlInstructionPacket(id=31, instruction=2, parameters=(36, 6))"
       ]
      },
      {
       "output_type": "stream",
       "stream": "stderr",
       "text": [
        "WARNING:root:timeout occured in motors 31 after sending DxlInstructionPacket(id=31, instruction=2, parameters=(36, 6))"
       ]
      },
      {
       "output_type": "stream",
       "stream": "stderr",
       "text": [
        "WARNING:root:timeout occured in motors 31 after sending DxlInstructionPacket(id=31, instruction=2, parameters=(36, 6))"
       ]
      },
      {
       "output_type": "stream",
       "stream": "stderr",
       "text": [
        "WARNING:root:timeout occured in motors 31 after sending DxlInstructionPacket(id=31, instruction=2, parameters=(36, 6))"
       ]
      },
      {
       "output_type": "stream",
       "stream": "stderr",
       "text": [
        "WARNING:root:timeout occured in motors 31 after sending DxlInstructionPacket(id=31, instruction=2, parameters=(36, 6))"
       ]
      },
      {
       "output_type": "stream",
       "stream": "stderr",
       "text": [
        "WARNING:root:timeout occured in motors 31 after sending DxlInstructionPacket(id=31, instruction=2, parameters=(36, 6))"
       ]
      },
      {
       "output_type": "stream",
       "stream": "stderr",
       "text": [
        "WARNING:root:timeout occured in motors 31 after sending DxlInstructionPacket(id=31, instruction=2, parameters=(6, 4))"
       ]
      },
      {
       "output_type": "stream",
       "stream": "stderr",
       "text": [
        "WARNING:root:timeout occured in motors 31 after sending DxlInstructionPacket(id=31, instruction=2, parameters=(36, 6))"
       ]
      },
      {
       "output_type": "stream",
       "stream": "stderr",
       "text": [
        "WARNING:root:timeout occured in motors 31 after sending DxlInstructionPacket(id=31, instruction=2, parameters=(42, 1))"
       ]
      },
      {
       "output_type": "stream",
       "stream": "stderr",
       "text": [
        "WARNING:root:timeout occured in motors 31 after sending DxlInstructionPacket(id=31, instruction=2, parameters=(43, 1))"
       ]
      },
      {
       "output_type": "stream",
       "stream": "stderr",
       "text": [
        "WARNING:root:timeout occured in motors 31 after sending DxlInstructionPacket(id=31, instruction=2, parameters=(36, 6))"
       ]
      },
      {
       "output_type": "stream",
       "stream": "stderr",
       "text": [
        "WARNING:root:timeout occured in motors 31 after sending DxlInstructionPacket(id=31, instruction=2, parameters=(36, 6))"
       ]
      },
      {
       "output_type": "stream",
       "stream": "stderr",
       "text": [
        "WARNING:root:timeout occured in motors 31 after sending DxlInstructionPacket(id=31, instruction=2, parameters=(36, 6))"
       ]
      },
      {
       "output_type": "stream",
       "stream": "stderr",
       "text": [
        "WARNING:root:timeout occured in motors 31 after sending DxlInstructionPacket(id=31, instruction=2, parameters=(36, 6))"
       ]
      },
      {
       "output_type": "stream",
       "stream": "stderr",
       "text": [
        "WARNING:root:timeout occured in motors 31 after sending DxlInstructionPacket(id=31, instruction=2, parameters=(36, 6))"
       ]
      },
      {
       "output_type": "stream",
       "stream": "stderr",
       "text": [
        "WARNING:root:timeout occured in motors 31 after sending DxlInstructionPacket(id=31, instruction=2, parameters=(36, 6))"
       ]
      },
      {
       "output_type": "stream",
       "stream": "stderr",
       "text": [
        "WARNING:root:timeout occured in motors 31 after sending DxlInstructionPacket(id=31, instruction=2, parameters=(36, 6))"
       ]
      },
      {
       "output_type": "stream",
       "stream": "stderr",
       "text": [
        "WARNING:root:timeout occured in motors 31 after sending DxlInstructionPacket(id=31, instruction=2, parameters=(36, 6))"
       ]
      },
      {
       "output_type": "stream",
       "stream": "stderr",
       "text": [
        "WARNING:root:timeout occured in motors 31 after sending DxlInstructionPacket(id=31, instruction=2, parameters=(36, 6))"
       ]
      },
      {
       "output_type": "stream",
       "stream": "stderr",
       "text": [
        "WARNING:root:timeout occured in motors 31 after sending DxlInstructionPacket(id=31, instruction=2, parameters=(36, 6))"
       ]
      },
      {
       "output_type": "stream",
       "stream": "stderr",
       "text": [
        "WARNING:root:timeout occured in motors 31 after sending DxlInstructionPacket(id=31, instruction=2, parameters=(36, 6))"
       ]
      },
      {
       "output_type": "stream",
       "stream": "stderr",
       "text": [
        "WARNING:root:timeout occured in motors 31 after sending DxlInstructionPacket(id=31, instruction=2, parameters=(36, 6))"
       ]
      },
      {
       "output_type": "stream",
       "stream": "stderr",
       "text": [
        "WARNING:root:timeout occured in motors 31 after sending DxlInstructionPacket(id=31, instruction=2, parameters=(36, 6))"
       ]
      },
      {
       "output_type": "stream",
       "stream": "stderr",
       "text": [
        "WARNING:root:timeout occured in motors 31 after sending DxlInstructionPacket(id=31, instruction=2, parameters=(36, 6))"
       ]
      },
      {
       "output_type": "stream",
       "stream": "stderr",
       "text": [
        "WARNING:root:timeout occured in motors 31 after sending DxlInstructionPacket(id=31, instruction=2, parameters=(36, 6))"
       ]
      },
      {
       "output_type": "stream",
       "stream": "stderr",
       "text": [
        "WARNING:root:timeout occured in motors 31 after sending DxlInstructionPacket(id=31, instruction=2, parameters=(6, 4))"
       ]
      },
      {
       "output_type": "stream",
       "stream": "stderr",
       "text": [
        "WARNING:root:timeout occured in motors 31 after sending DxlInstructionPacket(id=31, instruction=2, parameters=(36, 6))"
       ]
      },
      {
       "output_type": "stream",
       "stream": "stderr",
       "text": [
        "WARNING:root:timeout occured in motors 31 after sending DxlInstructionPacket(id=31, instruction=2, parameters=(42, 1))"
       ]
      },
      {
       "output_type": "stream",
       "stream": "stderr",
       "text": [
        "WARNING:root:timeout occured in motors 31 after sending DxlInstructionPacket(id=31, instruction=2, parameters=(43, 1))"
       ]
      },
      {
       "output_type": "stream",
       "stream": "stderr",
       "text": [
        "WARNING:root:timeout occured in motors 31 after sending DxlInstructionPacket(id=31, instruction=2, parameters=(36, 6))"
       ]
      },
      {
       "output_type": "stream",
       "stream": "stderr",
       "text": [
        "WARNING:root:timeout occured in motors 31 after sending DxlInstructionPacket(id=31, instruction=2, parameters=(36, 6))"
       ]
      },
      {
       "output_type": "stream",
       "stream": "stderr",
       "text": [
        "WARNING:root:timeout occured in motors 31 after sending DxlInstructionPacket(id=31, instruction=2, parameters=(36, 6))"
       ]
      },
      {
       "output_type": "stream",
       "stream": "stderr",
       "text": [
        "WARNING:root:timeout occured in motors 31 after sending DxlInstructionPacket(id=31, instruction=2, parameters=(36, 6))"
       ]
      },
      {
       "output_type": "stream",
       "stream": "stderr",
       "text": [
        "WARNING:root:timeout occured in motors 31 after sending DxlInstructionPacket(id=31, instruction=2, parameters=(36, 6))"
       ]
      },
      {
       "output_type": "stream",
       "stream": "stderr",
       "text": [
        "WARNING:root:timeout occured in motors 31 after sending DxlInstructionPacket(id=31, instruction=2, parameters=(36, 6))"
       ]
      },
      {
       "output_type": "stream",
       "stream": "stderr",
       "text": [
        "WARNING:root:timeout occured in motors 31 after sending DxlInstructionPacket(id=31, instruction=2, parameters=(36, 6))"
       ]
      },
      {
       "output_type": "stream",
       "stream": "stderr",
       "text": [
        "WARNING:root:timeout occured in motors 31 after sending DxlInstructionPacket(id=31, instruction=2, parameters=(36, 6))"
       ]
      },
      {
       "output_type": "stream",
       "stream": "stderr",
       "text": [
        "WARNING:root:timeout occured in motors 31 after sending DxlInstructionPacket(id=31, instruction=2, parameters=(36, 6))"
       ]
      },
      {
       "output_type": "stream",
       "stream": "stderr",
       "text": [
        "WARNING:root:timeout occured in motors 31 after sending DxlInstructionPacket(id=31, instruction=2, parameters=(36, 6))"
       ]
      },
      {
       "output_type": "stream",
       "stream": "stderr",
       "text": [
        "WARNING:root:timeout occured in motors 31 after sending DxlInstructionPacket(id=31, instruction=2, parameters=(36, 6))"
       ]
      },
      {
       "output_type": "stream",
       "stream": "stderr",
       "text": [
        "WARNING:root:timeout occured in motors 31 after sending DxlInstructionPacket(id=31, instruction=2, parameters=(36, 6))"
       ]
      },
      {
       "output_type": "stream",
       "stream": "stderr",
       "text": [
        "WARNING:root:timeout occured in motors 31 after sending DxlInstructionPacket(id=31, instruction=2, parameters=(36, 6))"
       ]
      },
      {
       "output_type": "stream",
       "stream": "stderr",
       "text": [
        "WARNING:root:timeout occured in motors 31 after sending DxlInstructionPacket(id=31, instruction=2, parameters=(36, 6))"
       ]
      },
      {
       "output_type": "stream",
       "stream": "stderr",
       "text": [
        "WARNING:root:timeout occured in motors 31 after sending DxlInstructionPacket(id=31, instruction=2, parameters=(36, 6))"
       ]
      },
      {
       "output_type": "stream",
       "stream": "stderr",
       "text": [
        "WARNING:root:timeout occured in motors 31 after sending DxlInstructionPacket(id=31, instruction=2, parameters=(6, 4))"
       ]
      },
      {
       "output_type": "stream",
       "stream": "stderr",
       "text": [
        "WARNING:root:timeout occured in motors 31 after sending DxlInstructionPacket(id=31, instruction=2, parameters=(36, 6))"
       ]
      },
      {
       "output_type": "stream",
       "stream": "stderr",
       "text": [
        "WARNING:root:timeout occured in motors 31 after sending DxlInstructionPacket(id=31, instruction=2, parameters=(42, 1))"
       ]
      },
      {
       "output_type": "stream",
       "stream": "stderr",
       "text": [
        "WARNING:root:timeout occured in motors 31 after sending DxlInstructionPacket(id=31, instruction=2, parameters=(43, 1))"
       ]
      },
      {
       "output_type": "stream",
       "stream": "stderr",
       "text": [
        "WARNING:root:timeout occured in motors 31 after sending DxlInstructionPacket(id=31, instruction=2, parameters=(36, 6))"
       ]
      },
      {
       "output_type": "stream",
       "stream": "stderr",
       "text": [
        "WARNING:root:timeout occured in motors 31 after sending DxlInstructionPacket(id=31, instruction=2, parameters=(36, 6))"
       ]
      },
      {
       "output_type": "stream",
       "stream": "stderr",
       "text": [
        "WARNING:root:timeout occured in motors 31 after sending DxlInstructionPacket(id=31, instruction=2, parameters=(36, 6))"
       ]
      },
      {
       "output_type": "stream",
       "stream": "stderr",
       "text": [
        "WARNING:root:timeout occured in motors 31 after sending DxlInstructionPacket(id=31, instruction=2, parameters=(36, 6))"
       ]
      },
      {
       "output_type": "stream",
       "stream": "stderr",
       "text": [
        "WARNING:root:timeout occured in motors 31 after sending DxlInstructionPacket(id=31, instruction=2, parameters=(36, 6))"
       ]
      },
      {
       "output_type": "stream",
       "stream": "stderr",
       "text": [
        "WARNING:root:timeout occured in motors 31 after sending DxlInstructionPacket(id=31, instruction=2, parameters=(36, 6))"
       ]
      },
      {
       "output_type": "stream",
       "stream": "stderr",
       "text": [
        "WARNING:root:timeout occured in motors 31 after sending DxlInstructionPacket(id=31, instruction=2, parameters=(36, 6))"
       ]
      },
      {
       "output_type": "stream",
       "stream": "stderr",
       "text": [
        "WARNING:root:timeout occured in motors 31 after sending DxlInstructionPacket(id=31, instruction=2, parameters=(36, 6))"
       ]
      },
      {
       "output_type": "stream",
       "stream": "stderr",
       "text": [
        "WARNING:root:timeout occured in motors 31 after sending DxlInstructionPacket(id=31, instruction=2, parameters=(36, 6))"
       ]
      },
      {
       "output_type": "stream",
       "stream": "stderr",
       "text": [
        "WARNING:root:timeout occured in motors 31 after sending DxlInstructionPacket(id=31, instruction=2, parameters=(36, 6))"
       ]
      },
      {
       "output_type": "stream",
       "stream": "stderr",
       "text": [
        "WARNING:root:timeout occured in motors 31 after sending DxlInstructionPacket(id=31, instruction=2, parameters=(36, 6))"
       ]
      },
      {
       "output_type": "stream",
       "stream": "stderr",
       "text": [
        "WARNING:root:timeout occured in motors 31 after sending DxlInstructionPacket(id=31, instruction=2, parameters=(36, 6))"
       ]
      },
      {
       "output_type": "stream",
       "stream": "stderr",
       "text": [
        "WARNING:root:timeout occured in motors 31 after sending DxlInstructionPacket(id=31, instruction=2, parameters=(36, 6))"
       ]
      },
      {
       "output_type": "stream",
       "stream": "stderr",
       "text": [
        "WARNING:root:timeout occured in motors 31 after sending DxlInstructionPacket(id=31, instruction=2, parameters=(36, 6))"
       ]
      },
      {
       "output_type": "stream",
       "stream": "stderr",
       "text": [
        "WARNING:root:timeout occured in motors 31 after sending DxlInstructionPacket(id=31, instruction=2, parameters=(36, 6))"
       ]
      },
      {
       "output_type": "stream",
       "stream": "stderr",
       "text": [
        "WARNING:root:timeout occured in motors 31 after sending DxlInstructionPacket(id=31, instruction=2, parameters=(6, 4))"
       ]
      },
      {
       "output_type": "stream",
       "stream": "stderr",
       "text": [
        "WARNING:root:timeout occured in motors 31 after sending DxlInstructionPacket(id=31, instruction=2, parameters=(42, 1))"
       ]
      },
      {
       "output_type": "stream",
       "stream": "stderr",
       "text": [
        "WARNING:root:timeout occured in motors 31 after sending DxlInstructionPacket(id=31, instruction=2, parameters=(36, 6))"
       ]
      },
      {
       "output_type": "stream",
       "stream": "stderr",
       "text": [
        "WARNING:root:timeout occured in motors 31 after sending DxlInstructionPacket(id=31, instruction=2, parameters=(43, 1))"
       ]
      },
      {
       "output_type": "stream",
       "stream": "stderr",
       "text": [
        "WARNING:root:timeout occured in motors 31 after sending DxlInstructionPacket(id=31, instruction=2, parameters=(36, 6))"
       ]
      },
      {
       "output_type": "stream",
       "stream": "stderr",
       "text": [
        "WARNING:root:timeout occured in motors 31 after sending DxlInstructionPacket(id=31, instruction=2, parameters=(36, 6))"
       ]
      },
      {
       "output_type": "stream",
       "stream": "stderr",
       "text": [
        "WARNING:root:timeout occured in motors 31 after sending DxlInstructionPacket(id=31, instruction=2, parameters=(36, 6))"
       ]
      },
      {
       "output_type": "stream",
       "stream": "stderr",
       "text": [
        "WARNING:root:timeout occured in motors 31 after sending DxlInstructionPacket(id=31, instruction=2, parameters=(36, 6))"
       ]
      },
      {
       "output_type": "stream",
       "stream": "stderr",
       "text": [
        "WARNING:root:timeout occured in motors 31 after sending DxlInstructionPacket(id=31, instruction=2, parameters=(36, 6))"
       ]
      },
      {
       "output_type": "stream",
       "stream": "stderr",
       "text": [
        "WARNING:root:timeout occured in motors 31 after sending DxlInstructionPacket(id=31, instruction=2, parameters=(36, 6))"
       ]
      },
      {
       "output_type": "stream",
       "stream": "stderr",
       "text": [
        "WARNING:root:timeout occured in motors 31 after sending DxlInstructionPacket(id=31, instruction=2, parameters=(36, 6))"
       ]
      },
      {
       "output_type": "stream",
       "stream": "stderr",
       "text": [
        "WARNING:root:timeout occured in motors 31 after sending DxlInstructionPacket(id=31, instruction=2, parameters=(36, 6))"
       ]
      },
      {
       "output_type": "stream",
       "stream": "stderr",
       "text": [
        "WARNING:root:timeout occured in motors 31 after sending DxlInstructionPacket(id=31, instruction=2, parameters=(36, 6))"
       ]
      },
      {
       "output_type": "stream",
       "stream": "stderr",
       "text": [
        "WARNING:root:timeout occured in motors 31 after sending DxlInstructionPacket(id=31, instruction=2, parameters=(36, 6))"
       ]
      },
      {
       "output_type": "stream",
       "stream": "stderr",
       "text": [
        "WARNING:root:timeout occured in motors 31 after sending DxlInstructionPacket(id=31, instruction=2, parameters=(36, 6))"
       ]
      },
      {
       "output_type": "stream",
       "stream": "stderr",
       "text": [
        "WARNING:root:timeout occured in motors 31 after sending DxlInstructionPacket(id=31, instruction=2, parameters=(36, 6))"
       ]
      },
      {
       "output_type": "stream",
       "stream": "stderr",
       "text": [
        "WARNING:root:timeout occured in motors 31 after sending DxlInstructionPacket(id=31, instruction=2, parameters=(36, 6))"
       ]
      },
      {
       "output_type": "stream",
       "stream": "stderr",
       "text": [
        "WARNING:root:timeout occured in motors 31 after sending DxlInstructionPacket(id=31, instruction=2, parameters=(36, 6))"
       ]
      },
      {
       "output_type": "stream",
       "stream": "stderr",
       "text": [
        "WARNING:root:timeout occured in motors 31 after sending DxlInstructionPacket(id=31, instruction=2, parameters=(36, 6))"
       ]
      },
      {
       "output_type": "stream",
       "stream": "stderr",
       "text": [
        "WARNING:root:timeout occured in motors 31 after sending DxlInstructionPacket(id=31, instruction=2, parameters=(6, 4))"
       ]
      },
      {
       "output_type": "stream",
       "stream": "stderr",
       "text": [
        "WARNING:root:timeout occured in motors 31 after sending DxlInstructionPacket(id=31, instruction=2, parameters=(42, 1))"
       ]
      },
      {
       "output_type": "stream",
       "stream": "stderr",
       "text": [
        "WARNING:root:timeout occured in motors 31 after sending DxlInstructionPacket(id=31, instruction=2, parameters=(36, 6))"
       ]
      },
      {
       "output_type": "stream",
       "stream": "stderr",
       "text": [
        "WARNING:root:timeout occured in motors 31 after sending DxlInstructionPacket(id=31, instruction=2, parameters=(43, 1))"
       ]
      },
      {
       "output_type": "stream",
       "stream": "stderr",
       "text": [
        "WARNING:root:timeout occured in motors 31 after sending DxlInstructionPacket(id=31, instruction=2, parameters=(36, 6))"
       ]
      },
      {
       "output_type": "stream",
       "stream": "stderr",
       "text": [
        "WARNING:root:timeout occured in motors 31 after sending DxlInstructionPacket(id=31, instruction=2, parameters=(36, 6))"
       ]
      },
      {
       "output_type": "stream",
       "stream": "stderr",
       "text": [
        "WARNING:root:timeout occured in motors 31 after sending DxlInstructionPacket(id=31, instruction=2, parameters=(36, 6))"
       ]
      },
      {
       "output_type": "stream",
       "stream": "stderr",
       "text": [
        "WARNING:root:timeout occured in motors 31 after sending DxlInstructionPacket(id=31, instruction=2, parameters=(36, 6))"
       ]
      },
      {
       "output_type": "stream",
       "stream": "stderr",
       "text": [
        "WARNING:root:timeout occured in motors 31 after sending DxlInstructionPacket(id=31, instruction=2, parameters=(36, 6))"
       ]
      },
      {
       "output_type": "stream",
       "stream": "stderr",
       "text": [
        "WARNING:root:timeout occured in motors 31 after sending DxlInstructionPacket(id=31, instruction=2, parameters=(36, 6))"
       ]
      },
      {
       "output_type": "stream",
       "stream": "stderr",
       "text": [
        "WARNING:root:timeout occured in motors 31 after sending DxlInstructionPacket(id=31, instruction=2, parameters=(36, 6))"
       ]
      },
      {
       "output_type": "stream",
       "stream": "stderr",
       "text": [
        "WARNING:root:timeout occured in motors 31 after sending DxlInstructionPacket(id=31, instruction=2, parameters=(36, 6))"
       ]
      },
      {
       "output_type": "stream",
       "stream": "stderr",
       "text": [
        "WARNING:root:timeout occured in motors 31 after sending DxlInstructionPacket(id=31, instruction=2, parameters=(36, 6))"
       ]
      },
      {
       "output_type": "stream",
       "stream": "stderr",
       "text": [
        "WARNING:root:timeout occured in motors 31 after sending DxlInstructionPacket(id=31, instruction=2, parameters=(36, 6))"
       ]
      },
      {
       "output_type": "stream",
       "stream": "stderr",
       "text": [
        "WARNING:root:timeout occured in motors 31 after sending DxlInstructionPacket(id=31, instruction=2, parameters=(36, 6))"
       ]
      },
      {
       "output_type": "stream",
       "stream": "stderr",
       "text": [
        "WARNING:root:timeout occured in motors 31 after sending DxlInstructionPacket(id=31, instruction=2, parameters=(36, 6))"
       ]
      },
      {
       "output_type": "stream",
       "stream": "stderr",
       "text": [
        "WARNING:root:timeout occured in motors 31 after sending DxlInstructionPacket(id=31, instruction=2, parameters=(36, 6))"
       ]
      },
      {
       "output_type": "stream",
       "stream": "stderr",
       "text": [
        "WARNING:root:timeout occured in motors 31 after sending DxlInstructionPacket(id=31, instruction=2, parameters=(36, 6))"
       ]
      },
      {
       "output_type": "stream",
       "stream": "stderr",
       "text": [
        "WARNING:root:timeout occured in motors 31 after sending DxlInstructionPacket(id=31, instruction=2, parameters=(36, 6))"
       ]
      },
      {
       "output_type": "stream",
       "stream": "stderr",
       "text": [
        "WARNING:root:timeout occured in motors 31 after sending DxlInstructionPacket(id=31, instruction=2, parameters=(6, 4))"
       ]
      },
      {
       "output_type": "stream",
       "stream": "stderr",
       "text": [
        "WARNING:root:timeout occured in motors 31 after sending DxlInstructionPacket(id=31, instruction=2, parameters=(42, 1))"
       ]
      },
      {
       "output_type": "stream",
       "stream": "stderr",
       "text": [
        "WARNING:root:timeout occured in motors 31 after sending DxlInstructionPacket(id=31, instruction=2, parameters=(36, 6))"
       ]
      },
      {
       "output_type": "stream",
       "stream": "stderr",
       "text": [
        "WARNING:root:timeout occured in motors 31 after sending DxlInstructionPacket(id=31, instruction=2, parameters=(43, 1))"
       ]
      },
      {
       "output_type": "stream",
       "stream": "stderr",
       "text": [
        "WARNING:root:timeout occured in motors 31 after sending DxlInstructionPacket(id=31, instruction=2, parameters=(36, 6))"
       ]
      },
      {
       "output_type": "stream",
       "stream": "stderr",
       "text": [
        "WARNING:root:timeout occured in motors 31 after sending DxlInstructionPacket(id=31, instruction=2, parameters=(36, 6))"
       ]
      },
      {
       "output_type": "stream",
       "stream": "stderr",
       "text": [
        "WARNING:root:timeout occured in motors 31 after sending DxlInstructionPacket(id=31, instruction=2, parameters=(36, 6))"
       ]
      },
      {
       "output_type": "stream",
       "stream": "stderr",
       "text": [
        "WARNING:root:timeout occured in motors 31 after sending DxlInstructionPacket(id=31, instruction=2, parameters=(36, 6))"
       ]
      },
      {
       "output_type": "stream",
       "stream": "stderr",
       "text": [
        "WARNING:root:timeout occured in motors 31 after sending DxlInstructionPacket(id=31, instruction=2, parameters=(36, 6))"
       ]
      },
      {
       "output_type": "stream",
       "stream": "stderr",
       "text": [
        "WARNING:root:timeout occured in motors 31 after sending DxlInstructionPacket(id=31, instruction=2, parameters=(36, 6))"
       ]
      },
      {
       "output_type": "stream",
       "stream": "stderr",
       "text": [
        "WARNING:root:timeout occured in motors 31 after sending DxlInstructionPacket(id=31, instruction=2, parameters=(36, 6))"
       ]
      },
      {
       "output_type": "stream",
       "stream": "stderr",
       "text": [
        "WARNING:root:timeout occured in motors 31 after sending DxlInstructionPacket(id=31, instruction=2, parameters=(36, 6))"
       ]
      },
      {
       "output_type": "stream",
       "stream": "stderr",
       "text": [
        "WARNING:root:timeout occured in motors 31 after sending DxlInstructionPacket(id=31, instruction=2, parameters=(36, 6))"
       ]
      },
      {
       "output_type": "stream",
       "stream": "stderr",
       "text": [
        "WARNING:root:timeout occured in motors 31 after sending DxlInstructionPacket(id=31, instruction=2, parameters=(36, 6))"
       ]
      },
      {
       "output_type": "stream",
       "stream": "stderr",
       "text": [
        "WARNING:root:timeout occured in motors 31 after sending DxlInstructionPacket(id=31, instruction=2, parameters=(36, 6))"
       ]
      },
      {
       "output_type": "stream",
       "stream": "stderr",
       "text": [
        "WARNING:root:timeout occured in motors 31 after sending DxlInstructionPacket(id=31, instruction=2, parameters=(36, 6))"
       ]
      },
      {
       "output_type": "stream",
       "stream": "stderr",
       "text": [
        "WARNING:root:timeout occured in motors 31 after sending DxlInstructionPacket(id=31, instruction=2, parameters=(36, 6))"
       ]
      },
      {
       "output_type": "stream",
       "stream": "stderr",
       "text": [
        "WARNING:root:timeout occured in motors 31 after sending DxlInstructionPacket(id=31, instruction=2, parameters=(36, 6))"
       ]
      },
      {
       "output_type": "stream",
       "stream": "stderr",
       "text": [
        "WARNING:root:timeout occured in motors 31 after sending DxlInstructionPacket(id=31, instruction=2, parameters=(36, 6))"
       ]
      },
      {
       "output_type": "stream",
       "stream": "stderr",
       "text": [
        "WARNING:root:timeout occured in motors 31 after sending DxlInstructionPacket(id=31, instruction=2, parameters=(6, 4))"
       ]
      },
      {
       "output_type": "stream",
       "stream": "stderr",
       "text": [
        "WARNING:root:timeout occured in motors 31 after sending DxlInstructionPacket(id=31, instruction=2, parameters=(42, 1))"
       ]
      },
      {
       "output_type": "stream",
       "stream": "stderr",
       "text": [
        "WARNING:root:timeout occured in motors 31 after sending DxlInstructionPacket(id=31, instruction=2, parameters=(36, 6))"
       ]
      },
      {
       "output_type": "stream",
       "stream": "stderr",
       "text": [
        "WARNING:root:timeout occured in motors 31 after sending DxlInstructionPacket(id=31, instruction=2, parameters=(43, 1))"
       ]
      },
      {
       "output_type": "stream",
       "stream": "stderr",
       "text": [
        "WARNING:root:timeout occured in motors 31 after sending DxlInstructionPacket(id=31, instruction=2, parameters=(36, 6))"
       ]
      },
      {
       "output_type": "stream",
       "stream": "stderr",
       "text": [
        "WARNING:root:timeout occured in motors 31 after sending DxlInstructionPacket(id=31, instruction=2, parameters=(36, 6))"
       ]
      },
      {
       "output_type": "stream",
       "stream": "stderr",
       "text": [
        "WARNING:root:timeout occured in motors 31 after sending DxlInstructionPacket(id=31, instruction=2, parameters=(36, 6))"
       ]
      },
      {
       "output_type": "stream",
       "stream": "stderr",
       "text": [
        "WARNING:root:timeout occured in motors 31 after sending DxlInstructionPacket(id=31, instruction=2, parameters=(36, 6))"
       ]
      },
      {
       "output_type": "stream",
       "stream": "stderr",
       "text": [
        "WARNING:root:timeout occured in motors 31 after sending DxlInstructionPacket(id=31, instruction=2, parameters=(36, 6))"
       ]
      },
      {
       "output_type": "stream",
       "stream": "stderr",
       "text": [
        "WARNING:root:timeout occured in motors 31 after sending DxlInstructionPacket(id=31, instruction=2, parameters=(36, 6))"
       ]
      },
      {
       "output_type": "stream",
       "stream": "stderr",
       "text": [
        "WARNING:root:timeout occured in motors 31 after sending DxlInstructionPacket(id=31, instruction=2, parameters=(36, 6))"
       ]
      },
      {
       "output_type": "stream",
       "stream": "stderr",
       "text": [
        "WARNING:root:timeout occured in motors 31 after sending DxlInstructionPacket(id=31, instruction=2, parameters=(36, 6))"
       ]
      },
      {
       "output_type": "stream",
       "stream": "stderr",
       "text": [
        "WARNING:root:timeout occured in motors 31 after sending DxlInstructionPacket(id=31, instruction=2, parameters=(36, 6))"
       ]
      },
      {
       "output_type": "stream",
       "stream": "stderr",
       "text": [
        "WARNING:root:timeout occured in motors 31 after sending DxlInstructionPacket(id=31, instruction=2, parameters=(36, 6))"
       ]
      },
      {
       "output_type": "stream",
       "stream": "stderr",
       "text": [
        "WARNING:root:timeout occured in motors 31 after sending DxlInstructionPacket(id=31, instruction=2, parameters=(36, 6))"
       ]
      },
      {
       "output_type": "stream",
       "stream": "stderr",
       "text": [
        "WARNING:root:timeout occured in motors 31 after sending DxlInstructionPacket(id=31, instruction=2, parameters=(36, 6))"
       ]
      },
      {
       "output_type": "stream",
       "stream": "stderr",
       "text": [
        "WARNING:root:timeout occured in motors 31 after sending DxlInstructionPacket(id=31, instruction=2, parameters=(36, 6))"
       ]
      },
      {
       "output_type": "stream",
       "stream": "stderr",
       "text": [
        "WARNING:root:timeout occured in motors 31 after sending DxlInstructionPacket(id=31, instruction=2, parameters=(36, 6))"
       ]
      },
      {
       "output_type": "stream",
       "stream": "stderr",
       "text": [
        "WARNING:root:timeout occured in motors 31 after sending DxlInstructionPacket(id=31, instruction=2, parameters=(36, 6))"
       ]
      },
      {
       "output_type": "stream",
       "stream": "stderr",
       "text": [
        "WARNING:root:timeout occured in motors 31 after sending DxlInstructionPacket(id=31, instruction=2, parameters=(6, 4))"
       ]
      },
      {
       "output_type": "stream",
       "stream": "stderr",
       "text": [
        "WARNING:root:timeout occured in motors 31 after sending DxlInstructionPacket(id=31, instruction=2, parameters=(42, 1))"
       ]
      },
      {
       "output_type": "stream",
       "stream": "stderr",
       "text": [
        "WARNING:root:timeout occured in motors 31 after sending DxlInstructionPacket(id=31, instruction=2, parameters=(36, 6))"
       ]
      },
      {
       "output_type": "stream",
       "stream": "stderr",
       "text": [
        "WARNING:root:timeout occured in motors 31 after sending DxlInstructionPacket(id=31, instruction=2, parameters=(43, 1))"
       ]
      },
      {
       "output_type": "stream",
       "stream": "stderr",
       "text": [
        "WARNING:root:timeout occured in motors 31 after sending DxlInstructionPacket(id=31, instruction=2, parameters=(36, 6))"
       ]
      },
      {
       "output_type": "stream",
       "stream": "stderr",
       "text": [
        "WARNING:root:timeout occured in motors 31 after sending DxlInstructionPacket(id=31, instruction=2, parameters=(36, 6))"
       ]
      },
      {
       "output_type": "stream",
       "stream": "stderr",
       "text": [
        "WARNING:root:timeout occured in motors 31 after sending DxlInstructionPacket(id=31, instruction=2, parameters=(36, 6))"
       ]
      },
      {
       "output_type": "stream",
       "stream": "stderr",
       "text": [
        "WARNING:root:timeout occured in motors 31 after sending DxlInstructionPacket(id=31, instruction=2, parameters=(36, 6))"
       ]
      },
      {
       "output_type": "stream",
       "stream": "stderr",
       "text": [
        "WARNING:root:timeout occured in motors 31 after sending DxlInstructionPacket(id=31, instruction=2, parameters=(36, 6))"
       ]
      },
      {
       "output_type": "stream",
       "stream": "stderr",
       "text": [
        "WARNING:root:timeout occured in motors 31 after sending DxlInstructionPacket(id=31, instruction=2, parameters=(36, 6))"
       ]
      },
      {
       "output_type": "stream",
       "stream": "stderr",
       "text": [
        "WARNING:root:timeout occured in motors 31 after sending DxlInstructionPacket(id=31, instruction=2, parameters=(36, 6))"
       ]
      },
      {
       "output_type": "stream",
       "stream": "stderr",
       "text": [
        "WARNING:root:timeout occured in motors 31 after sending DxlInstructionPacket(id=31, instruction=2, parameters=(36, 6))"
       ]
      },
      {
       "output_type": "stream",
       "stream": "stderr",
       "text": [
        "WARNING:root:timeout occured in motors 31 after sending DxlInstructionPacket(id=31, instruction=2, parameters=(36, 6))"
       ]
      },
      {
       "output_type": "stream",
       "stream": "stderr",
       "text": [
        "WARNING:root:timeout occured in motors 31 after sending DxlInstructionPacket(id=31, instruction=2, parameters=(36, 6))"
       ]
      },
      {
       "output_type": "stream",
       "stream": "stderr",
       "text": [
        "WARNING:root:timeout occured in motors 31 after sending DxlInstructionPacket(id=31, instruction=2, parameters=(36, 6))"
       ]
      },
      {
       "output_type": "stream",
       "stream": "stderr",
       "text": [
        "WARNING:root:timeout occured in motors 31 after sending DxlInstructionPacket(id=31, instruction=2, parameters=(36, 6))"
       ]
      },
      {
       "output_type": "stream",
       "stream": "stderr",
       "text": [
        "WARNING:root:timeout occured in motors 31 after sending DxlInstructionPacket(id=31, instruction=2, parameters=(36, 6))"
       ]
      },
      {
       "output_type": "stream",
       "stream": "stderr",
       "text": [
        "WARNING:root:timeout occured in motors 31 after sending DxlInstructionPacket(id=31, instruction=2, parameters=(36, 6))"
       ]
      },
      {
       "output_type": "stream",
       "stream": "stderr",
       "text": [
        "WARNING:root:timeout occured in motors 31 after sending DxlInstructionPacket(id=31, instruction=2, parameters=(36, 6))"
       ]
      },
      {
       "output_type": "stream",
       "stream": "stderr",
       "text": [
        "WARNING:root:timeout occured in motors 31 after sending DxlInstructionPacket(id=31, instruction=2, parameters=(6, 4))"
       ]
      },
      {
       "output_type": "stream",
       "stream": "stderr",
       "text": [
        "WARNING:root:timeout occured in motors 31 after sending DxlInstructionPacket(id=31, instruction=2, parameters=(42, 1))"
       ]
      },
      {
       "output_type": "stream",
       "stream": "stderr",
       "text": [
        "WARNING:root:timeout occured in motors 31 after sending DxlInstructionPacket(id=31, instruction=2, parameters=(43, 1))"
       ]
      },
      {
       "output_type": "stream",
       "stream": "stderr",
       "text": [
        "WARNING:root:timeout occured in motors 31 after sending DxlInstructionPacket(id=31, instruction=2, parameters=(36, 6))"
       ]
      },
      {
       "output_type": "stream",
       "stream": "stderr",
       "text": [
        "WARNING:root:timeout occured in motors 31 after sending DxlInstructionPacket(id=31, instruction=2, parameters=(36, 6))"
       ]
      },
      {
       "output_type": "stream",
       "stream": "stderr",
       "text": [
        "WARNING:root:timeout occured in motors 31 after sending DxlInstructionPacket(id=31, instruction=2, parameters=(36, 6))"
       ]
      },
      {
       "output_type": "stream",
       "stream": "stderr",
       "text": [
        "WARNING:root:timeout occured in motors 31 after sending DxlInstructionPacket(id=31, instruction=2, parameters=(36, 6))"
       ]
      },
      {
       "output_type": "stream",
       "stream": "stderr",
       "text": [
        "WARNING:root:timeout occured in motors 31 after sending DxlInstructionPacket(id=31, instruction=2, parameters=(36, 6))"
       ]
      },
      {
       "output_type": "stream",
       "stream": "stderr",
       "text": [
        "WARNING:root:timeout occured in motors 31 after sending DxlInstructionPacket(id=31, instruction=2, parameters=(36, 6))"
       ]
      },
      {
       "output_type": "stream",
       "stream": "stderr",
       "text": [
        "WARNING:root:timeout occured in motors 31 after sending DxlInstructionPacket(id=31, instruction=2, parameters=(36, 6))"
       ]
      },
      {
       "output_type": "stream",
       "stream": "stderr",
       "text": [
        "WARNING:root:timeout occured in motors 31 after sending DxlInstructionPacket(id=31, instruction=2, parameters=(36, 6))"
       ]
      },
      {
       "output_type": "stream",
       "stream": "stderr",
       "text": [
        "WARNING:root:timeout occured in motors 31 after sending DxlInstructionPacket(id=31, instruction=2, parameters=(36, 6))"
       ]
      },
      {
       "output_type": "stream",
       "stream": "stderr",
       "text": [
        "WARNING:root:timeout occured in motors 31 after sending DxlInstructionPacket(id=31, instruction=2, parameters=(36, 6))"
       ]
      },
      {
       "output_type": "stream",
       "stream": "stderr",
       "text": [
        "WARNING:root:timeout occured in motors 31 after sending DxlInstructionPacket(id=31, instruction=2, parameters=(36, 6))"
       ]
      },
      {
       "output_type": "stream",
       "stream": "stderr",
       "text": [
        "WARNING:root:timeout occured in motors 31 after sending DxlInstructionPacket(id=31, instruction=2, parameters=(36, 6))"
       ]
      },
      {
       "output_type": "stream",
       "stream": "stderr",
       "text": [
        "WARNING:root:timeout occured in motors 31 after sending DxlInstructionPacket(id=31, instruction=2, parameters=(36, 6))"
       ]
      },
      {
       "output_type": "stream",
       "stream": "stderr",
       "text": [
        "WARNING:root:timeout occured in motors 31 after sending DxlInstructionPacket(id=31, instruction=2, parameters=(36, 6))"
       ]
      },
      {
       "output_type": "stream",
       "stream": "stderr",
       "text": [
        "WARNING:root:timeout occured in motors 31 after sending DxlInstructionPacket(id=31, instruction=2, parameters=(36, 6))"
       ]
      },
      {
       "output_type": "stream",
       "stream": "stderr",
       "text": [
        "WARNING:root:timeout occured in motors 31 after sending DxlInstructionPacket(id=31, instruction=2, parameters=(6, 4))"
       ]
      },
      {
       "output_type": "stream",
       "stream": "stderr",
       "text": [
        "WARNING:root:timeout occured in motors 31 after sending DxlInstructionPacket(id=31, instruction=2, parameters=(36, 6))"
       ]
      },
      {
       "output_type": "stream",
       "stream": "stderr",
       "text": [
        "WARNING:root:timeout occured in motors 31 after sending DxlInstructionPacket(id=31, instruction=2, parameters=(42, 1))"
       ]
      },
      {
       "output_type": "stream",
       "stream": "stderr",
       "text": [
        "WARNING:root:timeout occured in motors 31 after sending DxlInstructionPacket(id=31, instruction=2, parameters=(43, 1))"
       ]
      },
      {
       "output_type": "stream",
       "stream": "stderr",
       "text": [
        "WARNING:root:timeout occured in motors 31 after sending DxlInstructionPacket(id=31, instruction=2, parameters=(36, 6))"
       ]
      },
      {
       "output_type": "stream",
       "stream": "stderr",
       "text": [
        "WARNING:root:timeout occured in motors 31 after sending DxlInstructionPacket(id=31, instruction=2, parameters=(36, 6))"
       ]
      },
      {
       "output_type": "stream",
       "stream": "stderr",
       "text": [
        "WARNING:root:timeout occured in motors 31 after sending DxlInstructionPacket(id=31, instruction=2, parameters=(36, 6))"
       ]
      },
      {
       "output_type": "stream",
       "stream": "stderr",
       "text": [
        "WARNING:root:timeout occured in motors 31 after sending DxlInstructionPacket(id=31, instruction=2, parameters=(36, 6))"
       ]
      },
      {
       "output_type": "stream",
       "stream": "stderr",
       "text": [
        "WARNING:root:timeout occured in motors 31 after sending DxlInstructionPacket(id=31, instruction=2, parameters=(36, 6))"
       ]
      },
      {
       "output_type": "stream",
       "stream": "stderr",
       "text": [
        "WARNING:root:timeout occured in motors 31 after sending DxlInstructionPacket(id=31, instruction=2, parameters=(36, 6))"
       ]
      },
      {
       "output_type": "stream",
       "stream": "stderr",
       "text": [
        "WARNING:root:timeout occured in motors 31 after sending DxlInstructionPacket(id=31, instruction=2, parameters=(36, 6))"
       ]
      },
      {
       "output_type": "stream",
       "stream": "stderr",
       "text": [
        "WARNING:root:timeout occured in motors 31 after sending DxlInstructionPacket(id=31, instruction=2, parameters=(36, 6))"
       ]
      },
      {
       "output_type": "stream",
       "stream": "stderr",
       "text": [
        "WARNING:root:timeout occured in motors 31 after sending DxlInstructionPacket(id=31, instruction=2, parameters=(36, 6))"
       ]
      },
      {
       "output_type": "stream",
       "stream": "stderr",
       "text": [
        "WARNING:root:timeout occured in motors 31 after sending DxlInstructionPacket(id=31, instruction=2, parameters=(36, 6))"
       ]
      },
      {
       "output_type": "stream",
       "stream": "stderr",
       "text": [
        "WARNING:root:timeout occured in motors 31 after sending DxlInstructionPacket(id=31, instruction=2, parameters=(36, 6))"
       ]
      },
      {
       "output_type": "stream",
       "stream": "stderr",
       "text": [
        "WARNING:root:timeout occured in motors 31 after sending DxlInstructionPacket(id=31, instruction=2, parameters=(36, 6))"
       ]
      },
      {
       "output_type": "stream",
       "stream": "stderr",
       "text": [
        "WARNING:root:timeout occured in motors 31 after sending DxlInstructionPacket(id=31, instruction=2, parameters=(36, 6))"
       ]
      },
      {
       "output_type": "stream",
       "stream": "stderr",
       "text": [
        "WARNING:root:timeout occured in motors 31 after sending DxlInstructionPacket(id=31, instruction=2, parameters=(36, 6))"
       ]
      },
      {
       "output_type": "stream",
       "stream": "stderr",
       "text": [
        "WARNING:root:timeout occured in motors 31 after sending DxlInstructionPacket(id=31, instruction=2, parameters=(36, 6))"
       ]
      },
      {
       "output_type": "stream",
       "stream": "stderr",
       "text": [
        "WARNING:root:timeout occured in motors 31 after sending DxlInstructionPacket(id=31, instruction=2, parameters=(6, 4))"
       ]
      },
      {
       "output_type": "stream",
       "stream": "stderr",
       "text": [
        "WARNING:root:timeout occured in motors 31 after sending DxlInstructionPacket(id=31, instruction=2, parameters=(36, 6))"
       ]
      },
      {
       "output_type": "stream",
       "stream": "stderr",
       "text": [
        "WARNING:root:timeout occured in motors 31 after sending DxlInstructionPacket(id=31, instruction=2, parameters=(42, 1))"
       ]
      },
      {
       "output_type": "stream",
       "stream": "stderr",
       "text": [
        "WARNING:root:timeout occured in motors 31 after sending DxlInstructionPacket(id=31, instruction=2, parameters=(43, 1))"
       ]
      },
      {
       "output_type": "stream",
       "stream": "stderr",
       "text": [
        "WARNING:root:timeout occured in motors 31 after sending DxlInstructionPacket(id=31, instruction=2, parameters=(36, 6))"
       ]
      },
      {
       "output_type": "stream",
       "stream": "stderr",
       "text": [
        "WARNING:root:timeout occured in motors 31 after sending DxlInstructionPacket(id=31, instruction=2, parameters=(36, 6))"
       ]
      },
      {
       "output_type": "stream",
       "stream": "stderr",
       "text": [
        "WARNING:root:timeout occured in motors 31 after sending DxlInstructionPacket(id=31, instruction=2, parameters=(36, 6))"
       ]
      },
      {
       "output_type": "stream",
       "stream": "stderr",
       "text": [
        "WARNING:root:timeout occured in motors 31 after sending DxlInstructionPacket(id=31, instruction=2, parameters=(36, 6))"
       ]
      },
      {
       "output_type": "stream",
       "stream": "stderr",
       "text": [
        "WARNING:root:timeout occured in motors 31 after sending DxlInstructionPacket(id=31, instruction=2, parameters=(36, 6))"
       ]
      },
      {
       "output_type": "stream",
       "stream": "stderr",
       "text": [
        "WARNING:root:timeout occured in motors 31 after sending DxlInstructionPacket(id=31, instruction=2, parameters=(36, 6))"
       ]
      },
      {
       "output_type": "stream",
       "stream": "stderr",
       "text": [
        "WARNING:root:timeout occured in motors 31 after sending DxlInstructionPacket(id=31, instruction=2, parameters=(36, 6))"
       ]
      },
      {
       "output_type": "stream",
       "stream": "stderr",
       "text": [
        "WARNING:root:timeout occured in motors 31 after sending DxlInstructionPacket(id=31, instruction=2, parameters=(36, 6))"
       ]
      },
      {
       "output_type": "stream",
       "stream": "stderr",
       "text": [
        "WARNING:root:timeout occured in motors 31 after sending DxlInstructionPacket(id=31, instruction=2, parameters=(36, 6))"
       ]
      },
      {
       "output_type": "stream",
       "stream": "stderr",
       "text": [
        "WARNING:root:timeout occured in motors 31 after sending DxlInstructionPacket(id=31, instruction=2, parameters=(36, 6))"
       ]
      },
      {
       "output_type": "stream",
       "stream": "stderr",
       "text": [
        "WARNING:root:timeout occured in motors 31 after sending DxlInstructionPacket(id=31, instruction=2, parameters=(36, 6))"
       ]
      },
      {
       "output_type": "stream",
       "stream": "stderr",
       "text": [
        "WARNING:root:timeout occured in motors 31 after sending DxlInstructionPacket(id=31, instruction=2, parameters=(36, 6))"
       ]
      },
      {
       "output_type": "stream",
       "stream": "stderr",
       "text": [
        "WARNING:root:timeout occured in motors 31 after sending DxlInstructionPacket(id=31, instruction=2, parameters=(36, 6))"
       ]
      },
      {
       "output_type": "stream",
       "stream": "stderr",
       "text": [
        "WARNING:root:timeout occured in motors 31 after sending DxlInstructionPacket(id=31, instruction=2, parameters=(36, 6))"
       ]
      },
      {
       "output_type": "stream",
       "stream": "stderr",
       "text": [
        "WARNING:root:timeout occured in motors 31 after sending DxlInstructionPacket(id=31, instruction=2, parameters=(36, 6))"
       ]
      },
      {
       "output_type": "stream",
       "stream": "stderr",
       "text": [
        "WARNING:root:timeout occured in motors 31 after sending DxlInstructionPacket(id=31, instruction=2, parameters=(6, 4))"
       ]
      },
      {
       "output_type": "stream",
       "stream": "stderr",
       "text": [
        "WARNING:root:timeout occured in motors 31 after sending DxlInstructionPacket(id=31, instruction=2, parameters=(36, 6))"
       ]
      },
      {
       "output_type": "stream",
       "stream": "stderr",
       "text": [
        "WARNING:root:timeout occured in motors 31 after sending DxlInstructionPacket(id=31, instruction=2, parameters=(42, 1))"
       ]
      },
      {
       "output_type": "stream",
       "stream": "stderr",
       "text": [
        "WARNING:root:timeout occured in motors 31 after sending DxlInstructionPacket(id=31, instruction=2, parameters=(43, 1))"
       ]
      },
      {
       "output_type": "stream",
       "stream": "stderr",
       "text": [
        "WARNING:root:timeout occured in motors 31 after sending DxlInstructionPacket(id=31, instruction=2, parameters=(36, 6))"
       ]
      },
      {
       "output_type": "stream",
       "stream": "stderr",
       "text": [
        "WARNING:root:timeout occured in motors 31 after sending DxlInstructionPacket(id=31, instruction=2, parameters=(36, 6))"
       ]
      },
      {
       "output_type": "stream",
       "stream": "stderr",
       "text": [
        "WARNING:root:timeout occured in motors 31 after sending DxlInstructionPacket(id=31, instruction=2, parameters=(36, 6))"
       ]
      },
      {
       "output_type": "stream",
       "stream": "stderr",
       "text": [
        "WARNING:root:timeout occured in motors 31 after sending DxlInstructionPacket(id=31, instruction=2, parameters=(36, 6))"
       ]
      },
      {
       "output_type": "stream",
       "stream": "stderr",
       "text": [
        "WARNING:root:timeout occured in motors 31 after sending DxlInstructionPacket(id=31, instruction=2, parameters=(36, 6))"
       ]
      },
      {
       "output_type": "stream",
       "stream": "stderr",
       "text": [
        "WARNING:root:timeout occured in motors 31 after sending DxlInstructionPacket(id=31, instruction=2, parameters=(36, 6))"
       ]
      },
      {
       "output_type": "stream",
       "stream": "stderr",
       "text": [
        "WARNING:root:timeout occured in motors 31 after sending DxlInstructionPacket(id=31, instruction=2, parameters=(36, 6))"
       ]
      },
      {
       "output_type": "stream",
       "stream": "stderr",
       "text": [
        "WARNING:root:timeout occured in motors 31 after sending DxlInstructionPacket(id=31, instruction=2, parameters=(36, 6))"
       ]
      },
      {
       "output_type": "stream",
       "stream": "stderr",
       "text": [
        "WARNING:root:timeout occured in motors 31 after sending DxlInstructionPacket(id=31, instruction=2, parameters=(36, 6))"
       ]
      },
      {
       "output_type": "stream",
       "stream": "stderr",
       "text": [
        "WARNING:root:timeout occured in motors 31 after sending DxlInstructionPacket(id=31, instruction=2, parameters=(36, 6))"
       ]
      },
      {
       "output_type": "stream",
       "stream": "stderr",
       "text": [
        "WARNING:root:timeout occured in motors 31 after sending DxlInstructionPacket(id=31, instruction=2, parameters=(36, 6))"
       ]
      },
      {
       "output_type": "stream",
       "stream": "stderr",
       "text": [
        "WARNING:root:timeout occured in motors 31 after sending DxlInstructionPacket(id=31, instruction=2, parameters=(36, 6))"
       ]
      },
      {
       "output_type": "stream",
       "stream": "stderr",
       "text": [
        "WARNING:root:timeout occured in motors 31 after sending DxlInstructionPacket(id=31, instruction=2, parameters=(36, 6))"
       ]
      },
      {
       "output_type": "stream",
       "stream": "stderr",
       "text": [
        "WARNING:root:timeout occured in motors 31 after sending DxlInstructionPacket(id=31, instruction=2, parameters=(36, 6))"
       ]
      },
      {
       "output_type": "stream",
       "stream": "stderr",
       "text": [
        "WARNING:root:timeout occured in motors 31 after sending DxlInstructionPacket(id=31, instruction=2, parameters=(36, 6))"
       ]
      },
      {
       "output_type": "stream",
       "stream": "stderr",
       "text": [
        "WARNING:root:timeout occured in motors 31 after sending DxlInstructionPacket(id=31, instruction=2, parameters=(6, 4))"
       ]
      },
      {
       "output_type": "stream",
       "stream": "stderr",
       "text": [
        "WARNING:root:timeout occured in motors 31 after sending DxlInstructionPacket(id=31, instruction=2, parameters=(36, 6))"
       ]
      },
      {
       "output_type": "stream",
       "stream": "stderr",
       "text": [
        "WARNING:root:timeout occured in motors 31 after sending DxlInstructionPacket(id=31, instruction=2, parameters=(42, 1))"
       ]
      },
      {
       "output_type": "stream",
       "stream": "stderr",
       "text": [
        "WARNING:root:timeout occured in motors 31 after sending DxlInstructionPacket(id=31, instruction=2, parameters=(43, 1))"
       ]
      },
      {
       "output_type": "stream",
       "stream": "stderr",
       "text": [
        "WARNING:root:timeout occured in motors 31 after sending DxlInstructionPacket(id=31, instruction=2, parameters=(36, 6))"
       ]
      },
      {
       "output_type": "stream",
       "stream": "stderr",
       "text": [
        "WARNING:root:timeout occured in motors 31 after sending DxlInstructionPacket(id=31, instruction=2, parameters=(36, 6))"
       ]
      },
      {
       "output_type": "stream",
       "stream": "stderr",
       "text": [
        "WARNING:root:timeout occured in motors 31 after sending DxlInstructionPacket(id=31, instruction=2, parameters=(36, 6))"
       ]
      },
      {
       "output_type": "stream",
       "stream": "stderr",
       "text": [
        "WARNING:root:timeout occured in motors 31 after sending DxlInstructionPacket(id=31, instruction=2, parameters=(36, 6))"
       ]
      },
      {
       "output_type": "stream",
       "stream": "stderr",
       "text": [
        "WARNING:root:timeout occured in motors 31 after sending DxlInstructionPacket(id=31, instruction=2, parameters=(36, 6))"
       ]
      },
      {
       "output_type": "stream",
       "stream": "stderr",
       "text": [
        "WARNING:root:timeout occured in motors 31 after sending DxlInstructionPacket(id=31, instruction=2, parameters=(36, 6))"
       ]
      },
      {
       "output_type": "stream",
       "stream": "stderr",
       "text": [
        "WARNING:root:timeout occured in motors 31 after sending DxlInstructionPacket(id=31, instruction=2, parameters=(36, 6))"
       ]
      },
      {
       "output_type": "stream",
       "stream": "stderr",
       "text": [
        "WARNING:root:timeout occured in motors 31 after sending DxlInstructionPacket(id=31, instruction=2, parameters=(36, 6))"
       ]
      },
      {
       "output_type": "stream",
       "stream": "stderr",
       "text": [
        "WARNING:root:timeout occured in motors 31 after sending DxlInstructionPacket(id=31, instruction=2, parameters=(36, 6))"
       ]
      },
      {
       "output_type": "stream",
       "stream": "stderr",
       "text": [
        "WARNING:root:timeout occured in motors 31 after sending DxlInstructionPacket(id=31, instruction=2, parameters=(36, 6))"
       ]
      },
      {
       "output_type": "stream",
       "stream": "stderr",
       "text": [
        "WARNING:root:timeout occured in motors 31 after sending DxlInstructionPacket(id=31, instruction=2, parameters=(36, 6))"
       ]
      },
      {
       "output_type": "stream",
       "stream": "stderr",
       "text": [
        "WARNING:root:timeout occured in motors 31 after sending DxlInstructionPacket(id=31, instruction=2, parameters=(36, 6))"
       ]
      },
      {
       "output_type": "stream",
       "stream": "stderr",
       "text": [
        "WARNING:root:timeout occured in motors 31 after sending DxlInstructionPacket(id=31, instruction=2, parameters=(36, 6))"
       ]
      },
      {
       "output_type": "stream",
       "stream": "stderr",
       "text": [
        "WARNING:root:timeout occured in motors 31 after sending DxlInstructionPacket(id=31, instruction=2, parameters=(36, 6))"
       ]
      },
      {
       "output_type": "stream",
       "stream": "stderr",
       "text": [
        "WARNING:root:timeout occured in motors 31 after sending DxlInstructionPacket(id=31, instruction=2, parameters=(36, 6))"
       ]
      },
      {
       "output_type": "stream",
       "stream": "stderr",
       "text": [
        "WARNING:root:timeout occured in motors 31 after sending DxlInstructionPacket(id=31, instruction=2, parameters=(6, 4))"
       ]
      },
      {
       "output_type": "stream",
       "stream": "stderr",
       "text": [
        "WARNING:root:timeout occured in motors 31 after sending DxlInstructionPacket(id=31, instruction=2, parameters=(42, 1))"
       ]
      },
      {
       "output_type": "stream",
       "stream": "stderr",
       "text": [
        "WARNING:root:timeout occured in motors 31 after sending DxlInstructionPacket(id=31, instruction=2, parameters=(36, 6))"
       ]
      },
      {
       "output_type": "stream",
       "stream": "stderr",
       "text": [
        "WARNING:root:timeout occured in motors 31 after sending DxlInstructionPacket(id=31, instruction=2, parameters=(43, 1))"
       ]
      },
      {
       "output_type": "stream",
       "stream": "stderr",
       "text": [
        "WARNING:root:timeout occured in motors 31 after sending DxlInstructionPacket(id=31, instruction=2, parameters=(36, 6))"
       ]
      },
      {
       "output_type": "stream",
       "stream": "stderr",
       "text": [
        "WARNING:root:timeout occured in motors 31 after sending DxlInstructionPacket(id=31, instruction=2, parameters=(36, 6))"
       ]
      },
      {
       "output_type": "stream",
       "stream": "stderr",
       "text": [
        "WARNING:root:timeout occured in motors 31 after sending DxlInstructionPacket(id=31, instruction=2, parameters=(36, 6))"
       ]
      },
      {
       "output_type": "stream",
       "stream": "stderr",
       "text": [
        "WARNING:root:timeout occured in motors 31 after sending DxlInstructionPacket(id=31, instruction=2, parameters=(36, 6))"
       ]
      },
      {
       "output_type": "stream",
       "stream": "stderr",
       "text": [
        "Exception in thread Thread-get_pos_speed_load:\n",
        "Traceback (most recent call last):\n",
        "  File \"/usr/lib/python2.7/threading.py\", line 551, in __bootstrap_inner\n",
        "    self.run()\n",
        "  File \"/home/clement/Documents/Boulot/INRIA_FLOWERS/CODE/pypot/pypot/dynamixel/controller.py\", line 162, in run\n",
        "    self.function()\n",
        "  File \"/home/clement/Documents/Boulot/INRIA_FLOWERS/CODE/pypot/pypot/dynamixel/controller.py\", line 111, in _get_pos_speed_load\n",
        "    values = self._dxl_io.get_present_position_speed_load(self._ids)\n",
        "  File \"/home/clement/Documents/Boulot/INRIA_FLOWERS/CODE/pypot/pypot/dynamixel/io.py\", line 371, in my_getter\n",
        "    return self._get_control_value(control, ids, **kwargs)\n",
        "  File \"/home/clement/Documents/Boulot/INRIA_FLOWERS/CODE/pypot/pypot/dynamixel/io.py\", line 409, in _get_control_value\n",
        "    sp = self._send_packet(rp, error_handler=error_handler)\n",
        "  File \"/home/clement/Documents/Boulot/INRIA_FLOWERS/CODE/pypot/pypot/dynamixel/io.py\", line 511, in _send_packet\n",
        "    sp = self.__real_send(instruction_packet, wait_for_status_packet, _force_lock)\n",
        "  File \"/home/clement/Documents/Boulot/INRIA_FLOWERS/CODE/pypot/pypot/dynamixel/io.py\", line 487, in __real_send\n",
        "    data = self._serial.read(DxlPacketHeader.length)\n",
        "  File \"/usr/lib/python2.7/dist-packages/serial/serialposix.py\", line 456, in read\n",
        "    raise SerialException('device reports readiness to read but returned no data (device disconnected?)')\n",
        "SerialException: device reports readiness to read but returned no data (device disconnected?)\n",
        "\n",
        "Exception in thread Thread-set_pos_speed_load:\n",
        "Traceback (most recent call last):\n",
        "  File \"/usr/lib/python2.7/threading.py\", line 551, in __bootstrap_inner\n",
        "    self.run()\n",
        "  File \"/home/clement/Documents/Boulot/INRIA_FLOWERS/CODE/pypot/pypot/dynamixel/controller.py\", line 162, in run\n",
        "    self.function()\n",
        "  File \"/home/clement/Documents/Boulot/INRIA_FLOWERS/CODE/pypot/pypot/dynamixel/controller.py\", line 142, in _set_pos_speed_load\n",
        "    self._dxl_io.set_goal_position_speed_load(dict(zip(ids, values)))\n",
        "  File \"/home/clement/Documents/Boulot/INRIA_FLOWERS/CODE/pypot/pypot/dynamixel/io.py\", line 381, in my_setter\n",
        "    self._set_control_value(control, value_for_id, **kwargs)\n",
        "  File \"/home/clement/Documents/Boulot/INRIA_FLOWERS/CODE/pypot/pypot/dynamixel/io.py\", line 466, in _set_control_value\n",
        "    sp = self._send_packet(wp, wait_for_status_packet=False)\n",
        "  File \"/home/clement/Documents/Boulot/INRIA_FLOWERS/CODE/pypot/pypot/dynamixel/io.py\", line 508, in _send_packet\n",
        "    return self.__real_send(instruction_packet, wait_for_status_packet, _force_lock)\n",
        "  File \"/home/clement/Documents/Boulot/INRIA_FLOWERS/CODE/pypot/pypot/dynamixel/io.py\", line 476, in __real_send\n",
        "    self.flush(_force_lock=True)\n",
        "  File \"/home/clement/Documents/Boulot/INRIA_FLOWERS/CODE/pypot/pypot/dynamixel/io.py\", line 132, in flush\n",
        "    self._serial.flushInput()\n",
        "  File \"/usr/lib/python2.7/dist-packages/serial/serialposix.py\", line 497, in flushInput\n",
        "    termios.tcflush(self.fd, TERMIOS.TCIFLUSH)\n",
        "error: (5, 'Input/output error')\n",
        "\n",
        "Exception in thread Thread-set_compliance_slope:\n",
        "Traceback (most recent call last):\n",
        "  File \"/usr/lib/python2.7/threading.py\", line 551, in __bootstrap_inner\n",
        "    self.run()\n",
        "  File \"/home/clement/Documents/Boulot/INRIA_FLOWERS/CODE/pypot/pypot/dynamixel/controller.py\", line 162, in run\n",
        "    self.function()\n",
        "  File \"/home/clement/Documents/Boulot/INRIA_FLOWERS/CODE/pypot/pypot/dynamixel/controller.py\", line 60, in <lambda>\n",
        "    self.add_sync_loop(freq, lambda: self._set_register(regname, varname),\n",
        "  File \"/home/clement/Documents/Boulot/INRIA_FLOWERS/CODE/pypot/pypot/dynamixel/controller.py\", line 70, in _set_register\n",
        "    getattr(self._dxl_io, 'set_{}'.format(regname))(dict(zip(ids, values)))\n",
        "  File \"/home/clement/Documents/Boulot/INRIA_FLOWERS/CODE/pypot/pypot/dynamixel/io.py\", line 381, in my_setter\n",
        "    self._set_control_value(control, value_for_id, **kwargs)\n",
        "  File \"/home/clement/Documents/Boulot/INRIA_FLOWERS/CODE/pypot/pypot/dynamixel/io.py\", line 466, in _set_control_value\n",
        "    sp = self._send_packet(wp, wait_for_status_packet=False)\n",
        "  File \"/home/clement/Documents/Boulot/INRIA_FLOWERS/CODE/pypot/pypot/dynamixel/io.py\", line 508, in _send_packet\n",
        "    return self.__real_send(instruction_packet, wait_for_status_packet, _force_lock)\n",
        "  File \"/home/clement/Documents/Boulot/INRIA_FLOWERS/CODE/pypot/pypot/dynamixel/io.py\", line 476, in __real_send\n",
        "    self.flush(_force_lock=True)\n",
        "  File \"/home/clement/Documents/Boulot/INRIA_FLOWERS/CODE/pypot/pypot/dynamixel/io.py\", line 132, in flush\n",
        "    self._serial.flushInput()\n",
        "  File \"/usr/lib/python2.7/dist-packages/serial/serialposix.py\", line 497, in flushInput\n",
        "    termios.tcflush(self.fd, TERMIOS.TCIFLUSH)\n",
        "error: (5, 'Input/output error')\n",
        "\n",
        "Exception in thread Thread-set_compliance_margin:\n",
        "Traceback (most recent call last):\n",
        "  File \"/usr/lib/python2.7/threading.py\", line 551, in __bootstrap_inner\n",
        "    self.run()\n",
        "  File \"/home/clement/Documents/Boulot/INRIA_FLOWERS/CODE/pypot/pypot/dynamixel/controller.py\", line 162, in run\n",
        "    self.function()\n",
        "  File \"/home/clement/Documents/Boulot/INRIA_FLOWERS/CODE/pypot/pypot/dynamixel/controller.py\", line 60, in <lambda>\n",
        "    self.add_sync_loop(freq, lambda: self._set_register(regname, varname),\n",
        "  File \"/home/clement/Documents/Boulot/INRIA_FLOWERS/CODE/pypot/pypot/dynamixel/controller.py\", line 70, in _set_register\n",
        "    getattr(self._dxl_io, 'set_{}'.format(regname))(dict(zip(ids, values)))\n",
        "  File \"/home/clement/Documents/Boulot/INRIA_FLOWERS/CODE/pypot/pypot/dynamixel/io.py\", line 381, in my_setter\n",
        "    self._set_control_value(control, value_for_id, **kwargs)\n",
        "  File \"/home/clement/Documents/Boulot/INRIA_FLOWERS/CODE/pypot/pypot/dynamixel/io.py\", line 466, in _set_control_value\n",
        "    sp = self._send_packet(wp, wait_for_status_packet=False)\n",
        "  File \"/home/clement/Documents/Boulot/INRIA_FLOWERS/CODE/pypot/pypot/dynamixel/io.py\", line 508, in _send_packet\n",
        "    return self.__real_send(instruction_packet, wait_for_status_packet, _force_lock)\n",
        "  File \"/home/clement/Documents/Boulot/INRIA_FLOWERS/CODE/pypot/pypot/dynamixel/io.py\", line 476, in __real_send\n",
        "    self.flush(_force_lock=True)\n",
        "  File \"/home/clement/Documents/Boulot/INRIA_FLOWERS/CODE/pypot/pypot/dynamixel/io.py\", line 132, in flush\n",
        "    self._serial.flushInput()\n",
        "  File \"/usr/lib/python2.7/dist-packages/serial/serialposix.py\", line 497, in flushInput\n",
        "    termios.tcflush(self.fd, TERMIOS.TCIFLUSH)\n",
        "error: (5, 'Input/output error')\n",
        "\n",
        "Exception in thread Thread-get_angle_limit:\n",
        "Traceback (most recent call last):\n",
        "  File \"/usr/lib/python2.7/threading.py\", line 551, in __bootstrap_inner\n",
        "    self.run()\n",
        "  File \"/home/clement/Documents/Boulot/INRIA_FLOWERS/CODE/pypot/pypot/dynamixel/controller.py\", line 162, in run\n",
        "    self.function()\n",
        "  File \"/home/clement/Documents/Boulot/INRIA_FLOWERS/CODE/pypot/pypot/dynamixel/controller.py\", line 40, in <lambda>\n",
        "    self.add_sync_loop(freq, lambda: self._get_register(regname, varname),\n",
        "  File \"/home/clement/Documents/Boulot/INRIA_FLOWERS/CODE/pypot/pypot/dynamixel/controller.py\", line 49, in _get_register\n",
        "    values = getattr(self._dxl_io, 'get_{}'.format(regname))(ids)\n",
        "  File \"/home/clement/Documents/Boulot/INRIA_FLOWERS/CODE/pypot/pypot/dynamixel/io.py\", line 371, in my_getter\n",
        "    return self._get_control_value(control, ids, **kwargs)\n",
        "  File \"/home/clement/Documents/Boulot/INRIA_FLOWERS/CODE/pypot/pypot/dynamixel/io.py\", line 409, in _get_control_value\n",
        "    sp = self._send_packet(rp, error_handler=error_handler)\n",
        "  File \"/home/clement/Documents/Boulot/INRIA_FLOWERS/CODE/pypot/pypot/dynamixel/io.py\", line 511, in _send_packet\n",
        "    sp = self.__real_send(instruction_packet, wait_for_status_packet, _force_lock)\n",
        "  File \"/home/clement/Documents/Boulot/INRIA_FLOWERS/CODE/pypot/pypot/dynamixel/io.py\", line 476, in __real_send\n",
        "    self.flush(_force_lock=True)\n",
        "  File \"/home/clement/Documents/Boulot/INRIA_FLOWERS/CODE/pypot/pypot/dynamixel/io.py\", line 132, in flush\n",
        "    self._serial.flushInput()\n",
        "  File \"/usr/lib/python2.7/dist-packages/serial/serialposix.py\", line 497, in flushInput\n",
        "    termios.tcflush(self.fd, TERMIOS.TCIFLUSH)\n",
        "error: (5, 'Input/output error')\n"
       ]
      }
     ],
     "prompt_number": 22
    },
    {
     "cell_type": "code",
     "collapsed": false,
     "input": [
      "prim.stop()"
     ],
     "language": "python",
     "metadata": {},
     "outputs": [
      {
       "output_type": "stream",
       "stream": "stdout",
       "text": [
        "\n",
        "[0.9951751110872011, 0.021386408581830437, 0.009896158660226103, 0.02009825317703142, 0.2935435751257901, -0.8832696778034583, 1.5940771526877149, 6.95004682113226e-310, 3.95e-322, 3.2e-322, 6.950046821405e-310, 6.95004682065677e-310, 0.13408327102661133, 1.63e-322, 6.9500468208105e-310, 6.9500468214603e-310, 3.16e-322, 2.55e-321, 0.0, 3.44791023e-316, nan, 0.0, 0.0, 4.4530097e-317, 5.4e-323, 6.9500468210358e-310, 2.9932465e-316, 1.7079802e-316]"
       ]
      },
      {
       "output_type": "stream",
       "stream": "stderr",
       "text": [
        "Exception in thread Thread-7:\n",
        "Traceback (most recent call last):\n",
        "  File \"/usr/lib/python2.7/threading.py\", line 551, in __bootstrap_inner\n",
        "    self.run()\n",
        "  File \"/usr/lib/python2.7/threading.py\", line 504, in run\n",
        "    self.__target(*self.__args, **self.__kwargs)\n",
        "  File \"/home/clement/Documents/Boulot/INRIA_FLOWERS/CODE/pypot/pypot/primitive/primitive.py\", line 54, in _wrapped_run\n",
        "    self.run(*self.args, **self.kwargs)\n",
        "  File \"/home/clement/Documents/Boulot/INRIA_FLOWERS/CODE/pypot/pypot/primitive/primitive.py\", line 151, in run\n",
        "    self.update(*self.args, **self.kwargs)\n",
        "  File \"<ipython-input-34-b16539da88a8>\", line 13, in update\n",
        "    q = self.model.predict_inverse(target)[0]\n",
        "  File \"./python/imle.py\", line 40, in predict_inverse\n",
        "    return numpy.array(self._delegate.predict_inverse(list(x)))\n",
        "RuntimeError: Error in function boost::math::chi_squared_distribution<d>::chi_squared_distribution: Degrees of freedom argument is nan, but must be > 0 !\n"
       ]
      },
      {
       "output_type": "stream",
       "stream": "stderr",
       "text": [
        "Exception in thread Thread-get_present_temperature:\n",
        "Traceback (most recent call last):\n",
        "  File \"/usr/lib/python2.7/threading.py\", line 551, in __bootstrap_inner\n",
        "    self.run()\n",
        "  File \"/home/clement/Documents/Boulot/INRIA_FLOWERS/CODE/pypot/pypot/dynamixel/controller.py\", line 162, in run\n",
        "    self.function()\n",
        "  File \"/home/clement/Documents/Boulot/INRIA_FLOWERS/CODE/pypot/pypot/dynamixel/controller.py\", line 40, in <lambda>\n",
        "    self.add_sync_loop(freq, lambda: self._get_register(regname, varname),\n",
        "  File \"/home/clement/Documents/Boulot/INRIA_FLOWERS/CODE/pypot/pypot/dynamixel/controller.py\", line 49, in _get_register\n",
        "    values = getattr(self._dxl_io, 'get_{}'.format(regname))(ids)\n",
        "  File \"/home/clement/Documents/Boulot/INRIA_FLOWERS/CODE/pypot/pypot/dynamixel/io.py\", line 371, in my_getter\n",
        "    return self._get_control_value(control, ids, **kwargs)\n",
        "  File \"/home/clement/Documents/Boulot/INRIA_FLOWERS/CODE/pypot/pypot/dynamixel/io.py\", line 409, in _get_control_value\n",
        "    sp = self._send_packet(rp, error_handler=error_handler)\n",
        "  File \"/home/clement/Documents/Boulot/INRIA_FLOWERS/CODE/pypot/pypot/dynamixel/io.py\", line 518, in _send_packet\n",
        "    f(error_handler)\n",
        "  File \"/home/clement/Documents/Boulot/INRIA_FLOWERS/CODE/pypot/pypot/dynamixel/error.py\", line 45, in handle_overload_error\n",
        "    raise NotImplementedError\n",
        "NotImplementedError\n",
        "\n",
        "Exception in thread Thread-get_pos_speed_load:\n",
        "Traceback (most recent call last):\n",
        "  File \"/usr/lib/python2.7/threading.py\", line 551, in __bootstrap_inner\n",
        "    self.run()\n",
        "  File \"/home/clement/Documents/Boulot/INRIA_FLOWERS/CODE/pypot/pypot/dynamixel/controller.py\", line 162, in run\n",
        "    self.function()\n",
        "  File \"/home/clement/Documents/Boulot/INRIA_FLOWERS/CODE/pypot/pypot/dynamixel/controller.py\", line 111, in _get_pos_speed_load\n",
        "    values = self._dxl_io.get_present_position_speed_load(self._ids)\n",
        "  File \"/home/clement/Documents/Boulot/INRIA_FLOWERS/CODE/pypot/pypot/dynamixel/io.py\", line 371, in my_getter\n",
        "    return self._get_control_value(control, ids, **kwargs)\n",
        "  File \"/home/clement/Documents/Boulot/INRIA_FLOWERS/CODE/pypot/pypot/dynamixel/io.py\", line 409, in _get_control_value\n",
        "    sp = self._send_packet(rp, error_handler=error_handler)\n",
        "  File \"/home/clement/Documents/Boulot/INRIA_FLOWERS/CODE/pypot/pypot/dynamixel/io.py\", line 518, in _send_packet\n",
        "    f(error_handler)\n",
        "  File \"/home/clement/Documents/Boulot/INRIA_FLOWERS/CODE/pypot/pypot/dynamixel/error.py\", line 45, in handle_overload_error\n",
        "    raise NotImplementedError\n",
        "NotImplementedError\n",
        "\n",
        "Exception in thread Thread-get_angle_limit:\n",
        "Traceback (most recent call last):\n",
        "  File \"/usr/lib/python2.7/threading.py\", line 551, in __bootstrap_inner\n",
        "    self.run()\n",
        "  File \"/home/clement/Documents/Boulot/INRIA_FLOWERS/CODE/pypot/pypot/dynamixel/controller.py\", line 162, in run\n",
        "    self.function()\n",
        "  File \"/home/clement/Documents/Boulot/INRIA_FLOWERS/CODE/pypot/pypot/dynamixel/controller.py\", line 40, in <lambda>\n",
        "    self.add_sync_loop(freq, lambda: self._get_register(regname, varname),\n",
        "  File \"/home/clement/Documents/Boulot/INRIA_FLOWERS/CODE/pypot/pypot/dynamixel/controller.py\", line 49, in _get_register\n",
        "    values = getattr(self._dxl_io, 'get_{}'.format(regname))(ids)\n",
        "  File \"/home/clement/Documents/Boulot/INRIA_FLOWERS/CODE/pypot/pypot/dynamixel/io.py\", line 371, in my_getter\n",
        "    return self._get_control_value(control, ids, **kwargs)\n",
        "  File \"/home/clement/Documents/Boulot/INRIA_FLOWERS/CODE/pypot/pypot/dynamixel/io.py\", line 409, in _get_control_value\n",
        "    sp = self._send_packet(rp, error_handler=error_handler)\n",
        "  File \"/home/clement/Documents/Boulot/INRIA_FLOWERS/CODE/pypot/pypot/dynamixel/io.py\", line 518, in _send_packet\n",
        "    f(error_handler)\n",
        "  File \"/home/clement/Documents/Boulot/INRIA_FLOWERS/CODE/pypot/pypot/dynamixel/error.py\", line 45, in handle_overload_error\n",
        "    raise NotImplementedError\n",
        "NotImplementedError\n"
       ]
      },
      {
       "output_type": "stream",
       "stream": "stderr",
       "text": [
        "Exception in thread Thread-get_present_voltage:\n",
        "Traceback (most recent call last):\n",
        "  File \"/usr/lib/python2.7/threading.py\", line 551, in __bootstrap_inner\n",
        "    self.run()\n",
        "  File \"/home/clement/Documents/Boulot/INRIA_FLOWERS/CODE/pypot/pypot/dynamixel/controller.py\", line 162, in run\n",
        "    self.function()\n",
        "  File \"/home/clement/Documents/Boulot/INRIA_FLOWERS/CODE/pypot/pypot/dynamixel/controller.py\", line 40, in <lambda>\n",
        "    self.add_sync_loop(freq, lambda: self._get_register(regname, varname),\n",
        "  File \"/home/clement/Documents/Boulot/INRIA_FLOWERS/CODE/pypot/pypot/dynamixel/controller.py\", line 49, in _get_register\n",
        "    values = getattr(self._dxl_io, 'get_{}'.format(regname))(ids)\n",
        "  File \"/home/clement/Documents/Boulot/INRIA_FLOWERS/CODE/pypot/pypot/dynamixel/io.py\", line 371, in my_getter\n",
        "    return self._get_control_value(control, ids, **kwargs)\n",
        "  File \"/home/clement/Documents/Boulot/INRIA_FLOWERS/CODE/pypot/pypot/dynamixel/io.py\", line 409, in _get_control_value\n",
        "    sp = self._send_packet(rp, error_handler=error_handler)\n",
        "  File \"/home/clement/Documents/Boulot/INRIA_FLOWERS/CODE/pypot/pypot/dynamixel/io.py\", line 518, in _send_packet\n",
        "    f(error_handler)\n",
        "  File \"/home/clement/Documents/Boulot/INRIA_FLOWERS/CODE/pypot/pypot/dynamixel/error.py\", line 45, in handle_overload_error\n",
        "    raise NotImplementedError\n",
        "NotImplementedError\n",
        "\n",
        "Exception in thread Thread-set_pos_speed_load:\n",
        "Traceback (most recent call last):\n",
        "  File \"/usr/lib/python2.7/threading.py\", line 551, in __bootstrap_inner\n",
        "    self.run()\n",
        "  File \"/home/clement/Documents/Boulot/INRIA_FLOWERS/CODE/pypot/pypot/dynamixel/controller.py\", line 162, in run\n",
        "    self.function()\n",
        "  File \"/home/clement/Documents/Boulot/INRIA_FLOWERS/CODE/pypot/pypot/dynamixel/controller.py\", line 142, in _set_pos_speed_load\n",
        "    self._dxl_io.set_goal_position_speed_load(dict(zip(ids, values)))\n",
        "  File \"/home/clement/Documents/Boulot/INRIA_FLOWERS/CODE/pypot/pypot/dynamixel/io.py\", line 381, in my_setter\n",
        "    self._set_control_value(control, value_for_id, **kwargs)\n",
        "  File \"/home/clement/Documents/Boulot/INRIA_FLOWERS/CODE/pypot/pypot/dynamixel/io.py\", line 466, in _set_control_value\n",
        "    sp = self._send_packet(wp, wait_for_status_packet=False)\n",
        "  File \"/home/clement/Documents/Boulot/INRIA_FLOWERS/CODE/pypot/pypot/dynamixel/io.py\", line 508, in _send_packet\n",
        "    return self.__real_send(instruction_packet, wait_for_status_packet, _force_lock)\n",
        "  File \"/home/clement/Documents/Boulot/INRIA_FLOWERS/CODE/pypot/pypot/dynamixel/io.py\", line 476, in __real_send\n",
        "    self.flush(_force_lock=True)\n",
        "  File \"/home/clement/Documents/Boulot/INRIA_FLOWERS/CODE/pypot/pypot/dynamixel/io.py\", line 132, in flush\n",
        "    self._serial.flushInput()\n",
        "  File \"/usr/lib/python2.7/dist-packages/serial/serialposix.py\", line 497, in flushInput\n",
        "    termios.tcflush(self.fd, TERMIOS.TCIFLUSH)\n",
        "error: (5, 'Input/output error')\n"
       ]
      }
     ],
     "prompt_number": 37
    },
    {
     "cell_type": "code",
     "collapsed": false,
     "input": [
      "robot.goal_position"
     ],
     "language": "python",
     "metadata": {},
     "outputs": [
      {
       "metadata": {},
       "output_type": "pyout",
       "prompt_number": 37,
       "text": [
        "array([ 0.33 ,  0.158, -0.014])"
       ]
      }
     ],
     "prompt_number": 37
    },
    {
     "cell_type": "code",
     "collapsed": false,
     "input": [
      "model.predict_inverse(Out[33])"
     ],
     "language": "python",
     "metadata": {},
     "outputs": [
      {
       "metadata": {},
       "output_type": "pyout",
       "prompt_number": 58,
       "text": [
        "array([[-0.025,  0.662,  1.301,  0.899, -0.445, -1.067,  1.246]])"
       ]
      }
     ],
     "prompt_number": 58
    },
    {
     "cell_type": "code",
     "collapsed": true,
     "input": [
      "robot.goto(rad2deg(Out[34]), 'right', 0.3, True)"
     ],
     "language": "python",
     "metadata": {},
     "outputs": [],
     "prompt_number": 35
    },
    {
     "cell_type": "code",
     "collapsed": false,
     "input": [
      "Out[34]"
     ],
     "language": "python",
     "metadata": {},
     "outputs": [
      {
       "metadata": {},
       "output_type": "pyout",
       "prompt_number": 36,
       "text": [
        "array([[-0.026,  0.451,  1.352,  1.065, -0.271, -1.115,  1.312]])"
       ]
      }
     ],
     "prompt_number": 36
    },
    {
     "cell_type": "code",
     "collapsed": false,
     "input": [
      "model.getPredictionWeight[0]==max(model.getPredictionWeight)"
     ],
     "language": "python",
     "metadata": {},
     "outputs": [
      {
       "metadata": {},
       "output_type": "pyout",
       "prompt_number": 59,
       "text": [
        "True"
       ]
      }
     ],
     "prompt_number": 59
    },
    {
     "cell_type": "code",
     "collapsed": true,
     "input": [],
     "language": "python",
     "metadata": {},
     "outputs": []
    }
   ],
   "metadata": {}
  }
 ]
}