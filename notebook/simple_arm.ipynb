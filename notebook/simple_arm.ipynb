{
 "metadata": {
  "name": "",
  "signature": "sha256:c105bfdbd15166ddabd9259c929ef9fbc87845d36e5f3f712897f2aa01b266e3"
 },
 "nbformat": 3,
 "nbformat_minor": 0,
 "worksheets": [
  {
   "cells": [
    {
     "cell_type": "code",
     "collapsed": false,
     "input": [
      "%connect_info"
     ],
     "language": "python",
     "metadata": {},
     "outputs": [
      {
       "output_type": "stream",
       "stream": "stdout",
       "text": [
        "{\n",
        "  \"stdin_port\": 60366, \n",
        "  \"ip\": \"127.0.0.1\", \n",
        "  \"control_port\": 51223, \n",
        "  \"hb_port\": 55290, \n",
        "  \"signature_scheme\": \"hmac-sha256\", \n",
        "  \"key\": \"09c4b2c0-2c2d-4c17-967a-98a635c3ae0e\", \n",
        "  \"shell_port\": 52858, \n",
        "  \"transport\": \"tcp\", \n",
        "  \"iopub_port\": 39842\n",
        "}\n",
        "\n",
        "Paste the above JSON into a file, and connect with:\n",
        "    $> ipython <app> --existing <file>\n",
        "or, if you are local, you can connect with just:\n",
        "    $> ipython <app> --existing kernel-316f0ad4-9009-477a-a143-e9808030174c.json \n",
        "or even just:\n",
        "    $> ipython <app> --existing \n",
        "if this is the most recent IPython session you have started.\n"
       ]
      }
     ],
     "prompt_number": 1
    },
    {
     "cell_type": "code",
     "collapsed": true,
     "input": [
      "dims = array(range(5))\n",
      "dims[dims>=3] -= 5\n",
      "print dims"
     ],
     "language": "python",
     "metadata": {},
     "outputs": [
      {
       "output_type": "stream",
       "stream": "stdout",
       "text": [
        "[ 0  1  2 -2 -1]\n"
       ]
      }
     ],
     "prompt_number": 35
    },
    {
     "cell_type": "code",
     "collapsed": false,
     "input": [
      "%pylab"
     ],
     "language": "python",
     "metadata": {},
     "outputs": [
      {
       "output_type": "stream",
       "stream": "stdout",
       "text": [
        "Using matplotlib backend: TkAgg\n",
        "Populating the interactive namespace from numpy and matplotlib\n"
       ]
      }
     ],
     "prompt_number": 1
    },
    {
     "cell_type": "code",
     "collapsed": false,
     "input": [
      "#sys.path.append('..')\n",
      "from explauto.environment.simple_arm import SimpleArmEnvironment, test_config\n",
      "from explauto.agent import Agent, imle_config\n",
      "from explauto.experiment.experiment import Experiment"
     ],
     "language": "python",
     "metadata": {},
     "outputs": [],
     "prompt_number": 2
    },
    {
     "cell_type": "code",
     "collapsed": true,
     "input": [
      "from explauto.utils.config import Configuration\n",
      "conf = Configuration(test_config)"
     ],
     "language": "python",
     "metadata": {},
     "outputs": [],
     "prompt_number": 3
    },
    {
     "cell_type": "code",
     "collapsed": false,
     "input": [
      "conf.expl_dims = conf.s_dims\n",
      "conf.inf_dims = conf.m_dims"
     ],
     "language": "python",
     "metadata": {},
     "outputs": [],
     "prompt_number": 4
    },
    {
     "cell_type": "code",
     "collapsed": false,
     "input": [
      "env = SimpleArmEnvironment(**conf.__dict__)"
     ],
     "language": "python",
     "metadata": {},
     "outputs": [],
     "prompt_number": 14
    },
    {
     "cell_type": "code",
     "collapsed": true,
     "input": [
      "conf.__dict__"
     ],
     "language": "python",
     "metadata": {},
     "outputs": [
      {
       "metadata": {},
       "output_type": "pyout",
       "prompt_number": 13,
       "text": [
        "{'bounds': array([[-1.04719755, -1.04719755, -1.04719755, -1.04719755, -1.04719755,\n",
        "         -1.04719755, -1.04719755, -1.        , -1.        ],\n",
        "        [ 1.04719755,  1.04719755,  1.04719755,  1.04719755,  1.04719755,\n",
        "          1.04719755,  1.04719755,  1.        ,  1.        ]]),\n",
        " 'expl_dims': [-2, -1],\n",
        " 'inf_dims': [0, 1, 2, 3, 4, 5, 6],\n",
        " 'length_ratio': 3.0,\n",
        " 'm_dims': [0, 1, 2, 3, 4, 5, 6],\n",
        " 'm_maxs': array([ 1.04719755,  1.04719755,  1.04719755,  1.04719755,  1.04719755,\n",
        "         1.04719755,  1.04719755]),\n",
        " 'm_mins': array([-1.04719755, -1.04719755, -1.04719755, -1.04719755, -1.04719755,\n",
        "        -1.04719755, -1.04719755]),\n",
        " 'm_ndims': 7,\n",
        " 'ndims': 9,\n",
        " 'noise': 0.02,\n",
        " 's_dims': [-2, -1],\n",
        " 's_maxs': array([ 1.,  1.]),\n",
        " 's_mins': array([-1., -1.]),\n",
        " 's_ndims': 2}"
       ]
      }
     ],
     "prompt_number": 13
    },
    {
     "cell_type": "code",
     "collapsed": false,
     "input": [
      "from explauto.sensorimotor_models import NonParametric\n",
      "from explauto.interest_models.random import RandomInterest"
     ],
     "language": "python",
     "metadata": {},
     "outputs": [],
     "prompt_number": 6
    },
    {
     "cell_type": "code",
     "collapsed": false,
     "input": [
      "sm_model = NonParametric(conf)\n",
      "i_model = RandomInterest(conf.expl_dims, conf.bounds)"
     ],
     "language": "python",
     "metadata": {},
     "outputs": [],
     "prompt_number": 7
    },
    {
     "cell_type": "code",
     "collapsed": false,
     "input": [
      "ag = Agent(sm_model, i_model, conf)\n",
      "#ag = Agent(**ag_config)"
     ],
     "language": "python",
     "metadata": {},
     "outputs": [],
     "prompt_number": 8
    },
    {
     "cell_type": "code",
     "collapsed": false,
     "input": [
      "#ag_config = imle_config('random', 'goal', sigma0=(pi/24.)**2, psi0=[0.08**2]*2, **test_config)"
     ],
     "language": "python",
     "metadata": {},
     "outputs": [],
     "prompt_number": 10
    },
    {
     "cell_type": "code",
     "collapsed": false,
     "input": [
      "expe_1 = Experiment(env, ag)"
     ],
     "language": "python",
     "metadata": {},
     "outputs": [],
     "prompt_number": 11
    },
    {
     "cell_type": "code",
     "collapsed": false,
     "input": [
      "expe_1.run(1000)"
     ],
     "language": "python",
     "metadata": {},
     "outputs": [],
     "prompt_number": 12
    },
    {
     "cell_type": "code",
     "collapsed": false,
     "input": [
      "plot(expe_1.records[:expe_1.i_rec,-2], expe_1.records[:expe_1.i_rec,-1], 'o') \n",
      "axis([-1, 1, -1, 1])"
     ],
     "language": "python",
     "metadata": {},
     "outputs": [
      {
       "metadata": {},
       "output_type": "pyout",
       "prompt_number": 13,
       "text": [
        "[-1, 1, -1, 1]"
       ]
      }
     ],
     "prompt_number": 13
    },
    {
     "cell_type": "code",
     "collapsed": false,
     "input": [
      "a=subplot(111)\n"
     ],
     "language": "python",
     "metadata": {},
     "outputs": [],
     "prompt_number": 8
    },
    {
     "cell_type": "code",
     "collapsed": false,
     "input": [
      "clf()\n",
      "proj=[-2,-1]\n",
      "a=subplot(111)\n",
      "plot(expe_1.records[:expe_1.i_rec,proj[0]], expe_1.records[:expe_1.i_rec,proj[1]], '.', ms=4)\n",
      "ag.sm_model.imle.to_gmm().plotProjection(a, proj)"
     ],
     "language": "python",
     "metadata": {},
     "outputs": [],
     "prompt_number": 9
    },
    {
     "cell_type": "code",
     "collapsed": false,
     "input": [
      "import time"
     ],
     "language": "python",
     "metadata": {},
     "outputs": [],
     "prompt_number": 9
    },
    {
     "cell_type": "code",
     "collapsed": false,
     "input": [
      "start = time.time()\n",
      "cond = ag.sm_model.imle.to_gmm().conditional([0, 1, 3, 4, 5], [2, 6, 7, 8])\n",
      "print time.time() - start\n",
      "for _ in range(1000):\n",
      "    g = cond(rand(5))\n",
      "print time.time() - start"
     ],
     "language": "python",
     "metadata": {},
     "outputs": [
      {
       "output_type": "stream",
       "stream": "stdout",
       "text": [
        "0.00837302207947\n",
        "6.56605195999"
       ]
      },
      {
       "output_type": "stream",
       "stream": "stdout",
       "text": [
        "\n"
       ]
      }
     ],
     "prompt_number": 10
    },
    {
     "cell_type": "code",
     "collapsed": false,
     "input": [
      "start = time.time()\n",
      "gmm = ag.sm_model.imle.to_gmm()\n",
      "print time.time() - start\n",
      "for _ in range(1000):\n",
      "    g = gmm.inference([0, 1, 3, 4, 5], [2, 6, 7, 8], rand(5, 1))\n",
      "print time.time() - start"
     ],
     "language": "python",
     "metadata": {},
     "outputs": [
      {
       "output_type": "stream",
       "stream": "stdout",
       "text": [
        "0.0132720470428\n",
        "7.59486794472"
       ]
      },
      {
       "output_type": "stream",
       "stream": "stdout",
       "text": [
        "\n"
       ]
      }
     ],
     "prompt_number": 11
    },
    {
     "cell_type": "code",
     "collapsed": false,
     "input": [
      "g.means_"
     ],
     "language": "python",
     "metadata": {},
     "outputs": [
      {
       "metadata": {},
       "output_type": "pyout",
       "prompt_number": 14,
       "text": [
        "array([[ 0.07721778,  0.07678617,  0.07655683],\n",
        "       [-1.04719755, -1.04719755, -1.04719755],\n",
        "       [-1.02530996, -1.02429465, -1.02459375],\n",
        "       [ 1.04719755,  1.04719755,  1.04719755],\n",
        "       [-0.91967124, -0.925361  , -0.91077215],\n",
        "       [ 1.04719755,  1.04719755,  1.04719755],\n",
        "       [-1.04719755, -1.04719755, -1.04719755],\n",
        "       [ 1.04719755,  1.04719755,  1.04719755],\n",
        "       [ 1.04719755,  1.04719755,  1.04719755],\n",
        "       [-0.9646517 , -0.96742038, -0.96556171],\n",
        "       [ 0.98736954,  0.98647985,  0.98345913],\n",
        "       [-1.04719755, -1.04719755, -1.04719755],\n",
        "       [ 0.91456354,  0.9099177 ,  0.89898289],\n",
        "       [-1.04719755, -1.04719755, -1.04719755],\n",
        "       [-1.04719755, -1.04719755, -1.04719755],\n",
        "       [-0.91348895, -0.91348895, -0.91348895],\n",
        "       [ 1.02645549,  1.02645549,  1.02645549],\n",
        "       [ 0.63531404,  0.63531404,  0.63531404],\n",
        "       [-0.87417609, -0.8730019 , -0.8823463 ],\n",
        "       [ 1.04719755,  1.04719755,  1.04719755],\n",
        "       [ 1.04719755,  1.04719755,  1.04719755],\n",
        "       [-0.97749121, -0.97975444, -0.97749121],\n",
        "       [-1.04719755, -1.04719755, -1.04719755],\n",
        "       [-1.04719755, -1.04719755, -1.04719755],\n",
        "       [-0.98435381, -0.98518083, -0.98518083],\n",
        "       [-1.04719755, -1.04719755, -1.04719755],\n",
        "       [ 1.04719755,  1.04719755,  1.04719755],\n",
        "       [ 0.93850736,  0.93850736,  0.93574694]])"
       ]
      }
     ],
     "prompt_number": 14
    },
    {
     "cell_type": "code",
     "collapsed": false,
     "input": [
      "cond2 = ag.sm_model.imle.to_gmm().inference([0, 1, 3], [2], rand(3, 1))"
     ],
     "language": "python",
     "metadata": {},
     "outputs": [],
     "prompt_number": 17
    },
    {
     "cell_type": "code",
     "collapsed": false,
     "input": [
      "cond2.means_"
     ],
     "language": "python",
     "metadata": {},
     "outputs": [
      {
       "metadata": {},
       "output_type": "pyout",
       "prompt_number": 11,
       "text": [
        "array([[ 0.07705855],\n",
        "       [-1.04719755],\n",
        "       [-1.02464227],\n",
        "       [ 1.04719755],\n",
        "       [-0.90680299],\n",
        "       [ 1.04719755],\n",
        "       [-1.04719755],\n",
        "       [ 1.04719755],\n",
        "       [ 1.04719755],\n",
        "       [-0.96556171],\n",
        "       [ 0.98392523],\n",
        "       [-1.04719755],\n",
        "       [ 0.90012512],\n",
        "       [-1.04719755],\n",
        "       [-1.04719755],\n",
        "       [-0.91348895],\n",
        "       [ 1.02645549],\n",
        "       [ 0.63531404],\n",
        "       [-0.88156287],\n",
        "       [ 1.04719755],\n",
        "       [ 1.04719755],\n",
        "       [-0.97749121],\n",
        "       [-1.04719755],\n",
        "       [-1.04719755],\n",
        "       [-0.98518083],\n",
        "       [-1.04719755],\n",
        "       [ 1.04719755],\n",
        "       [ 0.93550285]])"
       ]
      }
     ],
     "prompt_number": 11
    },
    {
     "cell_type": "code",
     "collapsed": false,
     "input": [
      "dt = 0.01\n",
      "from im_learning.agent.motor_primitive import MovementPrimitive\n",
      "mp = MovementPrimitive(3., 3, dt, stiffness = 1., damping = 0.05)\n",
      "commands = [rand(3) *6. - 3. for _ in range(2)]\n",
      "positions = []\n",
      "for command in commands:\n",
      "    x_v_acc = mp.trajectory([0., 0.], command)\n",
      "    positions.append(x_v_acc)\n",
      "    plot(tile(arange(0., 3., dt), (3,1)).T, x_v_acc)\n",
      "positions = array(positions)"
     ],
     "language": "python",
     "metadata": {},
     "outputs": [],
     "prompt_number": 8
    },
    {
     "cell_type": "code",
     "collapsed": false,
     "input": [
      "positions.shape"
     ],
     "language": "python",
     "metadata": {},
     "outputs": [
      {
       "metadata": {},
       "output_type": "pyout",
       "prompt_number": 9,
       "text": [
        "(2, 300, 3)"
       ]
      }
     ],
     "prompt_number": 9
    },
    {
     "cell_type": "code",
     "collapsed": false,
     "input": [
      "env.next_state"
     ],
     "language": "python",
     "metadata": {},
     "outputs": [
      {
       "metadata": {},
       "output_type": "pyout",
       "prompt_number": 15,
       "text": [
        "4"
       ]
      }
     ],
     "prompt_number": 15
    },
    {
     "cell_type": "code",
     "collapsed": false,
     "input": [
      "bounds_min_max(expe_1.records[1,-7:], m_mins, m_maxs)"
     ],
     "language": "python",
     "metadata": {},
     "outputs": [
      {
       "metadata": {},
       "output_type": "pyout",
       "prompt_number": 15,
       "text": [
        "array([  1.95545240e+14,   2.38001651e+14,  -1.04719755e+00,\n",
        "         2.07696893e+14,  -1.04719755e+00,  -1.04719755e+00,\n",
        "         1.70444407e+14])"
       ]
      }
     ],
     "prompt_number": 15
    },
    {
     "cell_type": "code",
     "collapsed": false,
     "input": [
      "bounds_min_max(expe_1.records[1,-7:], m_mins, m_maxs)"
     ],
     "language": "python",
     "metadata": {},
     "outputs": [
      {
       "metadata": {},
       "output_type": "pyout",
       "prompt_number": 17,
       "text": [
        "array([  1.95545240e+14,   2.38001651e+14,  -1.04719755e+00,\n",
        "         2.07696893e+14,  -1.04719755e+00,  -1.04719755e+00,\n",
        "         1.70444407e+14])"
       ]
      }
     ],
     "prompt_number": 17
    },
    {
     "cell_type": "code",
     "collapsed": false,
     "input": [
      "minimum(expe_1.records[1,-7:], m_maxs)"
     ],
     "language": "python",
     "metadata": {},
     "outputs": [
      {
       "metadata": {},
       "output_type": "pyout",
       "prompt_number": 18,
       "text": [
        "array([ 1.04719755,  1.04719755, -1.04719755,  1.04719755, -1.04719755,\n",
        "       -1.04719755,  1.04719755])"
       ]
      }
     ],
     "prompt_number": 18
    },
    {
     "cell_type": "code",
     "collapsed": false,
     "input": [
      "m_maxs"
     ],
     "language": "python",
     "metadata": {},
     "outputs": [
      {
       "metadata": {},
       "output_type": "pyout",
       "prompt_number": 22,
       "text": [
        "array([ 1.04719755,  1.04719755,  1.04719755,  1.04719755,  1.04719755,\n",
        "        1.04719755,  1.04719755])"
       ]
      }
     ],
     "prompt_number": 22
    },
    {
     "cell_type": "code",
     "collapsed": false,
     "input": [
      "ag.sm_model.imle.to_gmm().inference([],proj,[]).covars_"
     ],
     "language": "python",
     "metadata": {},
     "outputs": [
      {
       "metadata": {},
       "output_type": "pyout",
       "prompt_number": 15,
       "text": [
        "array([[[ nan,  nan],\n",
        "        [ nan,  nan]],\n",
        "\n",
        "       [[ nan,  nan],\n",
        "        [ nan,  nan]],\n",
        "\n",
        "       [[ nan,  nan],\n",
        "        [ nan,  nan]]])"
       ]
      }
     ],
     "prompt_number": 15
    },
    {
     "cell_type": "code",
     "collapsed": false,
     "input": [],
     "language": "python",
     "metadata": {},
     "outputs": []
    },
    {
     "cell_type": "code",
     "collapsed": false,
     "input": [],
     "language": "python",
     "metadata": {},
     "outputs": []
    }
   ],
   "metadata": {}
  }
 ]
}