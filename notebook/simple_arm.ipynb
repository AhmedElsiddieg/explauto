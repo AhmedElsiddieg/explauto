{
 "metadata": {
  "name": "simple_arm"
 },
 "nbformat": 3,
 "nbformat_minor": 0,
 "worksheets": [
  {
   "cells": [
    {
     "cell_type": "code",
     "collapsed": false,
     "input": [
      "sys.path.append('../../')"
     ],
     "language": "python",
     "metadata": {},
     "outputs": [],
     "prompt_number": 1
    },
    {
     "cell_type": "code",
     "collapsed": false,
     "input": [
      "from im_learning.environment.simple_arm.config import SimpleArmEnvironment, m_ndims, s_ndims, m_mins, m_maxs"
     ],
     "language": "python",
     "metadata": {},
     "outputs": [],
     "prompt_number": 2
    },
    {
     "cell_type": "code",
     "collapsed": false,
     "input": [
      "env = SimpleArmEnvironment()"
     ],
     "language": "python",
     "metadata": {},
     "outputs": [],
     "prompt_number": 3
    },
    {
     "cell_type": "code",
     "collapsed": false,
     "input": [
      "from im_learning.agent import Agent\n",
      "from im_learning.agent.config import get_config"
     ],
     "language": "python",
     "metadata": {},
     "outputs": [],
     "prompt_number": 4
    },
    {
     "cell_type": "code",
     "collapsed": false,
     "input": [
      "bounds = tuple(((m_mins[d], m_maxs[d]) for d , _ in enumerate(m_mins))) + ((-1.,1.),)*2"
     ],
     "language": "python",
     "metadata": {},
     "outputs": [],
     "prompt_number": 5
    },
    {
     "cell_type": "code",
     "collapsed": false,
     "input": [
      "from im_learning.sensorimotor_models.imle import ImleModel"
     ],
     "language": "python",
     "metadata": {},
     "outputs": [],
     "prompt_number": 6
    },
    {
     "cell_type": "code",
     "collapsed": false,
     "input": [
      "imle_path = '../imleSource/'"
     ],
     "language": "python",
     "metadata": {},
     "outputs": [],
     "prompt_number": 7
    },
    {
     "cell_type": "code",
     "collapsed": false,
     "input": [
      "myconf = get_config(7, 2, ['imle', dict(imle_path = imle_path, sigma0=(pi/24.)**2, psi0=[0.08**2]*2)], ['random', 'goal', dict(bounds = array(bounds).T)])"
     ],
     "language": "python",
     "metadata": {},
     "outputs": [],
     "prompt_number": 8
    },
    {
     "cell_type": "code",
     "collapsed": false,
     "input": [
      "ag = Agent(**myconf)"
     ],
     "language": "python",
     "metadata": {},
     "outputs": [],
     "prompt_number": 9
    },
    {
     "cell_type": "code",
     "collapsed": false,
     "input": [
      "from im_learning.experiment.experiment import Experiment"
     ],
     "language": "python",
     "metadata": {},
     "outputs": [],
     "prompt_number": 10
    },
    {
     "cell_type": "code",
     "collapsed": false,
     "input": [
      "expe_1 = Experiment(env, ag, range(m_ndims), range(m_ndims + s_ndims))"
     ],
     "language": "python",
     "metadata": {},
     "outputs": [],
     "prompt_number": 11
    },
    {
     "cell_type": "code",
     "collapsed": false,
     "input": [
      "env.state"
     ],
     "language": "python",
     "metadata": {},
     "outputs": [
      {
       "output_type": "pyout",
       "prompt_number": 12,
       "text": [
        "array([ 0.,  0.,  0.,  0.,  0.,  0.,  0.,  0.,  0.])"
       ]
      }
     ],
     "prompt_number": 12
    },
    {
     "cell_type": "code",
     "collapsed": false,
     "input": [
      "expe_1.run(1000)"
     ],
     "language": "python",
     "metadata": {},
     "outputs": [],
     "prompt_number": 13
    },
    {
     "cell_type": "code",
     "collapsed": false,
     "input": [
      "dt = 0.01\n",
      "from im_learning.agent.motor_primitive import MovementPrimitive\n",
      "mp = MovementPrimitive(3., 3, dt, stiffness = 1., damping = 0.05)\n",
      "commands = [rand(3) *6. - 3. for _ in range(2)]\n",
      "positions = []\n",
      "for command in commands:\n",
      "    x_v_acc = mp.trajectory([0., 0.], command)\n",
      "    positions.append(x_v_acc)\n",
      "    plot(tile(arange(0., 3., dt), (3,1)).T, x_v_acc)\n",
      "positions = array(positions)"
     ],
     "language": "python",
     "metadata": {},
     "outputs": [],
     "prompt_number": 8
    },
    {
     "cell_type": "code",
     "collapsed": false,
     "input": [
      "positions.shape"
     ],
     "language": "python",
     "metadata": {},
     "outputs": [
      {
       "output_type": "pyout",
       "prompt_number": 9,
       "text": [
        "(2, 300, 3)"
       ]
      }
     ],
     "prompt_number": 9
    },
    {
     "cell_type": "code",
     "collapsed": false,
     "input": [
      "env.next_state"
     ],
     "language": "python",
     "metadata": {},
     "outputs": [
      {
       "output_type": "pyout",
       "prompt_number": 15,
       "text": [
        "4"
       ]
      }
     ],
     "prompt_number": 15
    },
    {
     "cell_type": "code",
     "collapsed": false,
     "input": [
      "bounds_min_max(expe_1.records[1,-7:], m_mins, m_maxs)"
     ],
     "language": "python",
     "metadata": {},
     "outputs": [
      {
       "output_type": "pyout",
       "prompt_number": 15,
       "text": [
        "array([  1.95545240e+14,   2.38001651e+14,  -1.04719755e+00,\n",
        "         2.07696893e+14,  -1.04719755e+00,  -1.04719755e+00,\n",
        "         1.70444407e+14])"
       ]
      }
     ],
     "prompt_number": 15
    },
    {
     "cell_type": "code",
     "collapsed": false,
     "input": [
      "bounds_min_max(expe_1.records[1,-7:], m_mins, m_maxs)"
     ],
     "language": "python",
     "metadata": {},
     "outputs": [
      {
       "output_type": "pyout",
       "prompt_number": 17,
       "text": [
        "array([  1.95545240e+14,   2.38001651e+14,  -1.04719755e+00,\n",
        "         2.07696893e+14,  -1.04719755e+00,  -1.04719755e+00,\n",
        "         1.70444407e+14])"
       ]
      }
     ],
     "prompt_number": 17
    },
    {
     "cell_type": "code",
     "collapsed": false,
     "input": [
      "minimum(expe_1.records[1,-7:], m_maxs)"
     ],
     "language": "python",
     "metadata": {},
     "outputs": [
      {
       "output_type": "pyout",
       "prompt_number": 18,
       "text": [
        "array([ 1.04719755,  1.04719755, -1.04719755,  1.04719755, -1.04719755,\n",
        "       -1.04719755,  1.04719755])"
       ]
      }
     ],
     "prompt_number": 18
    },
    {
     "cell_type": "code",
     "collapsed": false,
     "input": [
      "m_maxs"
     ],
     "language": "python",
     "metadata": {},
     "outputs": [
      {
       "output_type": "pyout",
       "prompt_number": 22,
       "text": [
        "array([ 1.04719755,  1.04719755,  1.04719755,  1.04719755,  1.04719755,\n",
        "        1.04719755,  1.04719755])"
       ]
      }
     ],
     "prompt_number": 22
    },
    {
     "cell_type": "code",
     "collapsed": false,
     "input": [
      "clf()\n",
      "proj=[-2,-1]\n",
      "plot(expe_1.records[:expe_1.i_rec,proj[0]], expe_1.records[:expe_1.i_rec,proj[1]], '.', ms=4)\n",
      "#plot(zeros(10), hist[-11:-1,0], 'o')\n",
      "COLORS = ['r', 'g', 'b', 'k', 'm']*10000\n",
      "a=subplot(111)\n",
      "els = ag.sm_model.imle.to_gmm().inference([],proj,[]).get_display_ellipses2D(COLORS)\n",
      "for el in els:\n",
      "    a.add_patch(el)\n",
      "axis('tight')"
     ],
     "language": "python",
     "metadata": {},
     "outputs": [
      {
       "output_type": "pyout",
       "prompt_number": 14,
       "text": [
        "(-0.44679416551076967,\n",
        " 1.1026285720447615,\n",
        " -1.0555253224386267,\n",
        " 1.0312773768316381)"
       ]
      }
     ],
     "prompt_number": 14
    },
    {
     "cell_type": "code",
     "collapsed": false,
     "input": [
      "ag.sm_model.imle.to_gmm().inference([],proj,[]).covars_"
     ],
     "language": "python",
     "metadata": {},
     "outputs": [
      {
       "output_type": "pyout",
       "prompt_number": 15,
       "text": [
        "array([[[ nan,  nan],\n",
        "        [ nan,  nan]],\n",
        "\n",
        "       [[ nan,  nan],\n",
        "        [ nan,  nan]],\n",
        "\n",
        "       [[ nan,  nan],\n",
        "        [ nan,  nan]]])"
       ]
      }
     ],
     "prompt_number": 15
    },
    {
     "cell_type": "code",
     "collapsed": false,
     "input": [],
     "language": "python",
     "metadata": {},
     "outputs": []
    },
    {
     "cell_type": "code",
     "collapsed": false,
     "input": [],
     "language": "python",
     "metadata": {},
     "outputs": []
    }
   ],
   "metadata": {}
  }
 ]
}